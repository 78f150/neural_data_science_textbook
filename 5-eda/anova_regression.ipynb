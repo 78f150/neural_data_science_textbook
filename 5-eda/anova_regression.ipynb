{
 "cells": [
  {
   "cell_type": "markdown",
   "id": "2cc347a1-5fe0-40d7-a93e-dece0a2251ed",
   "metadata": {
    "tags": []
   },
   "source": [
    "# Basic Statistics in Python: ANOVA and Regression with statsmodels\n",
    "---\n",
    "\n",
    "## Learning Objetives\n",
    "- implement ANOVA and repeated measures ANOVA using the statsmodels package\n",
    "- implement correlations using the statsmodels package\n",
    "- implement general linear mixed effects analysis using the statsmodels package\n",
    "\n",
    "\n",
    "---\n",
    "\n",
    "## Introduction\n",
    "An introductory course in statistics is a prerequisite for this class, so we assume you remember (some of) the basics including *t*-tests, *z*-tests, ANOVAs, and regression (or at least correlation). \n",
    "\n",
    "Here we will demonstrate how to perform these statistical tests in Python.\n"
   ]
  },
  {
   "cell_type": "code",
   "execution_count": null,
   "id": "5a6ca693-f286-4454-9561-4789a70281ba",
   "metadata": {},
   "outputs": [],
   "source": []
  }
 ],
 "metadata": {
  "kernelspec": {
   "display_name": "Python 3 (ipykernel)",
   "language": "python",
   "name": "python3"
  },
  "language_info": {
   "codemirror_mode": {
    "name": "ipython",
    "version": 3
   },
   "file_extension": ".py",
   "mimetype": "text/x-python",
   "name": "python",
   "nbconvert_exporter": "python",
   "pygments_lexer": "ipython3",
   "version": "3.9.6"
  }
 },
 "nbformat": 4,
 "nbformat_minor": 5
}
