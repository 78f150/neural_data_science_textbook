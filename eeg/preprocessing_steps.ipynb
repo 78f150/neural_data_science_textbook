{
 "cells": [
  {
   "cell_type": "markdown",
   "id": "4737b2a7-1cdf-4dca-a7cd-fe39201b2f81",
   "metadata": {},
   "source": [
    "# EEG-ERP Preprocessing\n",
    "\n",
    "In this lesson we will describe each standard step in preprocessing EEG data for ERP analysis, including why it is done, and how, using the MNE package.\n",
    "\n",
    "---\n",
    "## Learning Objectives\n",
    "- Be able to describe the standard steps in preprocessing EEG data for ERP analysis, including filtering, visual inspection, automated artifact detection and removal using independent components analysis, bad channel removal and interpolation, re-referencing, and averaging\n",
    "- Be able to describe the motivation for each of these preprocessing steps\n",
    "- Be able to perform each preprocessing step using MNE\n",
    "\n",
    "---"
   ]
  },
  {
   "cell_type": "markdown",
   "id": "0fbabeb5-0ed2-48e2-b4f6-6212f8b4580d",
   "metadata": {
    "tags": []
   },
   "source": [
    "## Load pacakges"
   ]
  },
  {
   "cell_type": "code",
   "execution_count": 2,
   "id": "6a2ddc56-2655-4f02-8b13-96a47db5da5d",
   "metadata": {},
   "outputs": [],
   "source": [
    "import numpy as np\n",
    "# import pandas as pd\n",
    "import matplotlib.pyplot as plt\n",
    "import mne\n",
    "from mne.viz.ica import _prepare_data_ica_properties\n",
    "from scipy.stats import zscore\n",
    "from autoreject import Ransac, get_rejection_threshold, AutoReject\n",
    "import os"
   ]
  },
  {
   "cell_type": "markdown",
   "id": "4f2f7042-ea37-49cd-be79-efb682172e55",
   "metadata": {},
   "source": [
    "## Import raw data\n",
    "\n",
    "For EEG, raw data is typically stored in a single file containing continuous EEG data. There are many different file formats for EEG data; most of these are developed by the manufacturer or a particular EEG system. Fortunately, MNE provides functions to import data from most common EEG systems. \n",
    "\n",
    "In the present case, we are working with data from a system sold by Brain Products, whose software is called *Brain Vision*. So we will use MNE's `read_raw_brainvision()` function. As described previously, many of MNE's functions are nested inside subfolders (modules); for example, all of the file input-output (I/O) routines are in the module `mne.io`. So when we call the `read_raw_brainvision()` function, we have to do so as `mne.io.read_raw_brainvision()`. The one required argument for this function is the file name, and that's all we need for now: "
   ]
  },
  {
   "cell_type": "code",
   "execution_count": 3,
   "id": "698267da-5ce5-4fb8-b85f-6afc224e817e",
   "metadata": {},
   "outputs": [
    {
     "name": "stdout",
     "output_type": "stream",
     "text": [
      "Extracting parameters from data/P4.vhdr...\n",
      "Setting channel info structure...\n"
     ]
    },
    {
     "name": "stderr",
     "output_type": "stream",
     "text": [
      "/var/folders/x0/pvpjfdzd39sc5rqvsk5lvv4m0000gn/T/ipykernel_39870/3013224364.py:3: RuntimeWarning: Online software filter detected. Using software filter settings and ignoring hardware values\n",
      "  raw = mne.io.read_raw_brainvision(raw_file)\n"
     ]
    }
   ],
   "source": [
    "raw_file = 'data/P4.vhdr'\n",
    "\n",
    "raw = mne.io.read_raw_brainvision(raw_file)"
   ]
  },
  {
   "cell_type": "code",
   "execution_count": null,
   "id": "d754a22e-858f-43a4-9875-dde14a95b8f6",
   "metadata": {},
   "outputs": [],
   "source": []
  },
  {
   "cell_type": "markdown",
   "id": "3ddf7f7a-1c95-4293-bfbe-8a3864892a6b",
   "metadata": {},
   "source": [
    "## Filtering"
   ]
  },
  {
   "cell_type": "code",
   "execution_count": null,
   "id": "a0dee178-80e1-498b-ae44-32122a0092c9",
   "metadata": {},
   "outputs": [],
   "source": []
  }
 ],
 "metadata": {
  "kernelspec": {
   "display_name": "Python 3 (ipykernel)",
   "language": "python",
   "name": "python3"
  },
  "language_info": {
   "codemirror_mode": {
    "name": "ipython",
    "version": 3
   },
   "file_extension": ".py",
   "mimetype": "text/x-python",
   "name": "python",
   "nbconvert_exporter": "python",
   "pygments_lexer": "ipython3",
   "version": "3.9.7"
  }
 },
 "nbformat": 4,
 "nbformat_minor": 5
}
