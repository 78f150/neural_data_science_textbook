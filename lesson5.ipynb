{
 "cells": [
  {
   "cell_type": "markdown",
   "metadata": {},
   "source": [
    "# Lesson 5: Merging DataFrames with pandas\n",
    "\n",
    "[View this lesson on datacamp](https://learn.datacamp.com/courses/merging-dataframes-with-pandas)"
   ]
  },
  {
   "cell_type": "markdown",
   "metadata": {},
   "source": [
    "## Chapter 1: Preparing Data\n",
    "To read a single file into a dataframe, use the following format:\n",
    "\n",
    "`variable = pd.read_csv('filename.csv')`"
   ]
  },
  {
   "cell_type": "markdown",
   "metadata": {},
   "source": [
    "It is also possible to use a for loop to read in multiple files:\n",
    "First, create a list of the files\n",
    "\n",
    "`filenames = ['filename1.csv', 'filename2.csv', 'filename3.csv']`\n",
    "\n",
    "Next, create an empty list to append the files to\n",
    "\n",
    "`dataframes = []`\n",
    "\n",
    "`for filename in filenames:\n",
    "    dataframes.append(pd.read_csv(filename))`"
   ]
  },
  {
   "cell_type": "markdown",
   "metadata": {},
   "source": [
    "|Method                    |Funciton               |\n",
    "|--------------------------|-----------------------|\n",
    "|`.sort_index()`           |sort index - default is by ascending order, specifying `ascending=False` reverses order|\n",
    "|`.sort_values()`          |sort column values by increasing numerical order by default|\n",
    "|`.reindex()`              |reorders rows based on a new index column|\n",
    "|`.ffill()`                |forward fill; replace NaN with last preceding non-null value|\n",
    "|`.str.replace('', '')`    |replace first specified string with second down a column|\n",
    "|`.multiply()`             |performs multiplication along specified column/row and broadcasts output|"
   ]
  },
  {
   "cell_type": "markdown",
   "metadata": {},
   "source": [
    "# Chapter 2: Concatenating Data\n"
   ]
  },
  {
   "cell_type": "markdown",
   "metadata": {},
   "source": []
  }
 ],
 "metadata": {
  "kernelspec": {
   "display_name": "Python 3",
   "language": "python",
   "name": "python3"
  },
  "language_info": {
   "codemirror_mode": {
    "name": "ipython",
    "version": 3
   },
   "file_extension": ".py",
   "mimetype": "text/x-python",
   "name": "python",
   "nbconvert_exporter": "python",
   "pygments_lexer": "ipython3",
   "version": "3.7.6"
  }
 },
 "nbformat": 4,
 "nbformat_minor": 4
}
