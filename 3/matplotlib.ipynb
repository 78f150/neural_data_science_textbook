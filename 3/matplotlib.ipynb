{
 "cells": [
  {
   "cell_type": "markdown",
   "metadata": {},
   "source": [
    "# Intro to Data Visualization with Matplotlib\n",
    "This course builds on the basics you have already covered, and delves deaper into data visualization and customization.\n",
    "\n",
    "[View this lesson on datacamp](https://learn.datacamp.com/courses/introduction-to-data-visualization-with-matplotlib)"
   ]
  },
  {
   "cell_type": "markdown",
   "metadata": {},
   "source": [
    "# Chapter 1: The Basics\n",
    "\n",
    "## Getting Started\n",
    "The code below shows how to create empty figure and axes objects using the pyplot submodule. Don't forget to use `plt.show()` to display your work!"
   ]
  },
  {
   "cell_type": "code",
   "execution_count": 2,
   "metadata": {},
   "outputs": [
    {
     "data": {
      "image/png": "[encoded data removed]",
      "text/plain": [
       "<Figure size 432x288 with 1 Axes>"
      ]
     },
     "metadata": {
      "needs_background": "light"
     },
     "output_type": "display_data"
    }
   ],
   "source": [
    "import matplotlib.pyplot as plt\n",
    "fig, ax = plt.subplots()\n",
    "plt.show()"
   ]
  },
  {
   "cell_type": "markdown",
   "metadata": {},
   "source": [
    "## Adding Data to Axes\n",
    "To add data to axes, use the general format `ax.plot(x,y)`. Here we will use SOMETHING "
   ]
  },
  {
   "cell_type": "code",
   "execution_count": null,
   "metadata": {},
   "outputs": [],
   "source": [
    "ax.plot()\n",
    "plt.show()"
   ]
  },
  {
   "cell_type": "markdown",
   "metadata": {},
   "source": [
    "## Customizing Your Plot\n",
    "There are many ways to make your plot easier to read and understand. The plot method takes many optional agruments, some of which are listed below\n",
    "\n",
    "|                          |                         |\n",
    "|--------------------------|-------------------------|\n",
    "|`marker=''`               |specify what shape the marker is|\n",
    "|`linestyle=''`            |specify what style the line is|\n",
    "|`color=''`                |specify waht color the line & markers are|"
   ]
  },
  {
   "cell_type": "code",
   "execution_count": null,
   "metadata": {},
   "outputs": [],
   "source": [
    "Coding Example of that"
   ]
  },
  {
   "cell_type": "markdown",
   "metadata": {},
   "source": [
    "As we've learned before, axis labels and a title are key to a good visualization! See below how to add them to our plot"
   ]
  },
  {
   "cell_type": "code",
   "execution_count": null,
   "metadata": {},
   "outputs": [],
   "source": [
    "#Set x-axis label\n",
    "ax.set_xlabel()\n",
    "\n",
    "#Set y-axis label\n",
    "ax.set_ylabel()\n",
    "\n",
    "#Set plot title\n",
    "ax.set_title()"
   ]
  },
  {
   "cell_type": "markdown",
   "metadata": {},
   "source": [
    "## Small Multiples\n",
    "Specifying a number of rows and columns in the call to `plt.subplots()` creates a grid with the input number of rows and columns"
   ]
  },
  {
   "cell_type": "code",
   "execution_count": 4,
   "metadata": {},
   "outputs": [
    {
     "data": {
      "image/png": "[encoded data removed]",
      "text/plain": [
       "<Figure size 432x288 with 2 Axes>"
      ]
     },
     "metadata": {
      "needs_background": "light"
     },
     "output_type": "display_data"
    }
   ],
   "source": [
    "fig, ax = plt.subplots(1,2)\n",
    "plt.show()"
   ]
  },
  {
   "cell_type": "markdown",
   "metadata": {},
   "source": [
    "To add data, call `ax.plot([index])` to specify which subplot to add to"
   ]
  },
  {
   "cell_type": "markdown",
   "metadata": {},
   "source": [
    "Coding example of this"
   ]
  },
  {
   "cell_type": "markdown",
   "metadata": {},
   "source": [
    "# Chapter 2: Time Series Visualization"
   ]
  },
  {
   "cell_type": "markdown",
   "metadata": {},
   "source": [
    "# Chapter 3: Quantitative Comparisons and Statistical Visualizations\n",
    "This chapter covers how to create many types of statistical visualizations. Note that there are many ways to create the same visualizaiton, this is just the syntax required using the matplotlib.pyplot package"
   ]
  },
  {
   "cell_type": "markdown",
   "metadata": {},
   "source": [
    "## Bar Charts\n",
    "To create a bar chart, use the general format `ax.bar(x,y)`"
   ]
  },
  {
   "cell_type": "code",
   "execution_count": null,
   "metadata": {},
   "outputs": [],
   "source": [
    "ax.bar()\n",
    "plt.show()"
   ]
  },
  {
   "cell_type": "markdown",
   "metadata": {},
   "source": [
    "`ax.bar()` accepts a number of arguments \n",
    "\n",
    "|                        |                       |\n",
    "|------------------------|-----------------------|\n",
    "|`bottom=''`             |indicate which data should be on the bottom of the bar for a stacked bar chart|\n",
    "|`label=''`              |assign a label to a bar for the legend|\n",
    "|`yerr=''`               |add error bar, input column to be used|"
   ]
  },
  {
   "cell_type": "code",
   "execution_count": null,
   "metadata": {},
   "outputs": [],
   "source": [
    "Code example"
   ]
  },
  {
   "cell_type": "markdown",
   "metadata": {},
   "source": [
    "## Histograms\n",
    "To create a histogram, use the general format `ax.hist(x,y)`"
   ]
  },
  {
   "cell_type": "markdown",
   "metadata": {},
   "source": [
    "## Boxplots"
   ]
  },
  {
   "cell_type": "markdown",
   "metadata": {},
   "source": [
    "## Scatterplots"
   ]
  },
  {
   "cell_type": "markdown",
   "metadata": {},
   "source": [
    "## Adding Errorbars\n",
    "To add"
   ]
  },
  {
   "cell_type": "markdown",
   "metadata": {},
   "source": [
    "# Chapter 4: Saving & Sharing\n",
    "\n",
    "## Plot Style \n",
    "You can change the style of your plot using `plt.stlye.use()`. There are a variety of different available styles, each with its own advantages and disadvantages. The complete lsit of availble styles can be found [here](https://matplotlib.org/gallery/style_sheets/style_sheets_reference.html)"
   ]
  },
  {
   "cell_type": "code",
   "execution_count": 8,
   "metadata": {},
   "outputs": [
    {
     "data": {
      "image/png": "[encoded data removed]",
      "text/plain": [
       "<Figure size 432x288 with 1 Axes>"
      ]
     },
     "metadata": {},
     "output_type": "display_data"
    }
   ],
   "source": [
    "fig, ax = plt.subplots()\n",
    "plt.style.use('ggplot')\n",
    "plt.show()"
   ]
  },
  {
   "cell_type": "code",
   "execution_count": null,
   "metadata": {},
   "outputs": [],
   "source": [
    "fig, ax = plt.subplots()\n",
    "plt.style.use()"
   ]
  }
 ],
 "metadata": {
  "kernelspec": {
   "display_name": "Python 3",
   "language": "python",
   "name": "python3"
  },
  "language_info": {
   "codemirror_mode": {
    "name": "ipython",
    "version": 3
   },
   "file_extension": ".py",
   "mimetype": "text/x-python",
   "name": "python",
   "nbconvert_exporter": "python",
   "pygments_lexer": "ipython3",
   "version": "3.7.6"
  }
 },
 "nbformat": 4,
 "nbformat_minor": 4
}
