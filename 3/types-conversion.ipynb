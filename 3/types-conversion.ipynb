{
  "cells": [
    {
      "cell_type": "markdown",
      "source": [
        "# Data Types and Conversion\n",
        "---\n",
        "\n",
        "[Watch a walk-through of this lesson on YouTube](https://youtu.be/sxvdTbVmflk)\n",
        "\n"
      ],
      "metadata": {}
    },
    {
      "cell_type": "markdown",
      "source": [
        "## Questions:\n",
        "- What kinds of data do programs store?\n",
        "- How can I convert one type to another?\n",
        "\n",
        "## Learning Objectives:\n",
        "- Explain key differences between integers and floating point numbers.\n",
        "- Explain key differences between numbers and character strings.\n",
        "- Use built-in functions to convert between integers, floating point numbers, and strings.\n",
        "\n",
        "---"
      ],
      "metadata": {}
    },
    {
      "cell_type": "markdown",
      "source": [
        "## Every value has a type\n",
        "\n",
        "*   Every value in a program has a specific type\n",
        "*   Integer (`int`): represents positive or negative whole numbers like `3` or `-512`\n",
        "*   Floating point number (`float`): represents real numbers like `3.14159` or `-2.5`\n",
        "*   Character (`char`): single characters, for example `\"a\"`, `\"j\"`, `\"8\"`, `\"(\"`\n",
        "    * Characters are written in either single quotes or double quotes (as long as they match)\n",
        "    * Numerals placed in quotes will be treated as characters, not integers or floats\n",
        "*   Character string (usually called \"string\", `str`): text\n",
        "    *   Written in either single quotes or double quotes (as long as they match)\n",
        "    *   The quote marks aren't printed when the string is displayed"
      ],
      "metadata": {}
    },
    {
      "cell_type": "markdown",
      "source": [
        "## Use the built-in function `type` to find the type of a value\n",
        "\n",
        "*   Use the built-in function `type` to find out what type a value has\n",
        "*   Works on variables as well\n",
        "    *   But remember: the *value* has the type; the *variable* is just a label\n"
      ],
      "metadata": {}
    },
    {
      "cell_type": "code",
      "source": [
        "print(type(52))"
      ],
      "outputs": [],
      "execution_count": null,
      "metadata": {
        "collapsed": false,
        "jupyter": {
          "outputs_hidden": false
        }
      }
    },
    {
      "cell_type": "code",
      "source": [
        "fitness = 'average'\n",
        "print(type(fitness))"
      ],
      "outputs": [],
      "execution_count": null,
      "metadata": {
        "collapsed": false,
        "jupyter": {
          "outputs_hidden": false
        }
      }
    },
    {
      "cell_type": "markdown",
      "source": [
        "Nested functions such as `print(type())` are evaluated from the inside out, like in mathematics."
      ],
      "metadata": {}
    },
    {
      "cell_type": "markdown",
      "source": [
        "## Types control what operations (or methods) can be performed on a given value\n",
        "\n",
        "A value's type determines what the program can do to it. So we can perform subtraction on integers:\n"
      ],
      "metadata": {}
    },
    {
      "cell_type": "code",
      "source": [
        "print(5 - 3)"
      ],
      "outputs": [],
      "execution_count": null,
      "metadata": {
        "collapsed": false,
        "jupyter": {
          "outputs_hidden": false
        }
      }
    },
    {
      "cell_type": "markdown",
      "source": [
        "But not on strings or characters:\n"
      ],
      "metadata": {}
    },
    {
      "cell_type": "code",
      "source": [
        "print('hello' - 'h')"
      ],
      "outputs": [
        {
          "output_type": "error",
          "ename": "TypeError",
          "evalue": "unsupported operand type(s) for -: 'str' and 'str'",
          "traceback": [
            "\u001b[0;31m---------------------------------------------------------------------------\u001b[0m",
            "\u001b[0;31mTypeError\u001b[0m                                 Traceback (most recent call last)",
            "\u001b[0;32m/var/folders/x0/pvpjfdzd39sc5rqvsk5lvv4m0000gn/T/ipykernel_13282/13340790.py\u001b[0m in \u001b[0;36m<module>\u001b[0;34m\u001b[0m\n\u001b[0;32m----> 1\u001b[0;31m \u001b[0mprint\u001b[0m\u001b[0;34m(\u001b[0m\u001b[0;34m'hello'\u001b[0m \u001b[0;34m-\u001b[0m \u001b[0;34m'h'\u001b[0m\u001b[0;34m)\u001b[0m\u001b[0;34m\u001b[0m\u001b[0;34m\u001b[0m\u001b[0m\n\u001b[0m",
            "\u001b[0;31mTypeError\u001b[0m: unsupported operand type(s) for -: 'str' and 'str'"
          ]
        }
      ],
      "execution_count": 1,
      "metadata": {
        "collapsed": false,
        "jupyter": {
          "outputs_hidden": false
        }
      }
    },
    {
      "cell_type": "markdown",
      "source": [
        "## You *can* use the `+` and `*` operators on strings\n",
        "\n",
        "\"Adding\" character strings concatenates them; i.e., creates one long string by combinging the inputs in the order you specify\n"
      ],
      "metadata": {}
    },
    {
      "cell_type": "code",
      "source": [
        "full_name = 'Ahmed' + 'Walsh'\n",
        "print(full_name)"
      ],
      "outputs": [
        {
          "output_type": "stream",
          "name": "stdout",
          "text": [
            "AhmedWalsh\n"
          ]
        }
      ],
      "execution_count": 2,
      "metadata": {
        "collapsed": false,
        "jupyter": {
          "outputs_hidden": false
        }
      }
    },
    {
      "cell_type": "markdown",
      "source": [
        "To add spaces between strings that you concateate, you need to explicitly include whitespaces in quotes:\n"
      ],
      "metadata": {}
    },
    {
      "cell_type": "code",
      "source": [
        "full_name = 'Ahmed' + ' ' + 'Walsh'\n",
        "print(full_name)"
      ],
      "outputs": [
        {
          "output_type": "stream",
          "name": "stdout",
          "text": [
            "Ahmed Walsh\n"
          ]
        }
      ],
      "execution_count": 3,
      "metadata": {
        "collapsed": false,
        "jupyter": {
          "outputs_hidden": false
        }
      }
    },
    {
      "cell_type": "markdown",
      "source": [
        "Multiplying a character string by an integer _N_ creates a new string that consists of that character string repeated  _N_ times. (Since multiplication is repeated addition)\n"
      ],
      "metadata": {}
    },
    {
      "cell_type": "code",
      "source": [
        "greeting = 'hello-' * 3\n",
        "print(greeting)"
      ],
      "outputs": [
        {
          "output_type": "stream",
          "name": "stdout",
          "text": [
            "hello-hello-hello-\n"
          ]
        }
      ],
      "execution_count": 4,
      "metadata": {
        "collapsed": false,
        "jupyter": {
          "outputs_hidden": false
        }
      }
    },
    {
      "cell_type": "markdown",
      "source": [
        "## Strings have a length (but numbers don't)\n",
        "\n",
        "The built-in function `len` counts the number of characters in a string.\n"
      ],
      "metadata": {}
    },
    {
      "cell_type": "code",
      "source": [
        "print(len(full_name))"
      ],
      "outputs": [],
      "execution_count": null,
      "metadata": {
        "collapsed": false,
        "jupyter": {
          "outputs_hidden": false
        }
      }
    },
    {
      "cell_type": "markdown",
      "source": [
        "But numbers don't have a length (not even zero)."
      ],
      "metadata": {}
    },
    {
      "cell_type": "code",
      "source": [
        "print(len(52))"
      ],
      "outputs": [],
      "execution_count": null,
      "metadata": {
        "collapsed": false,
        "jupyter": {
          "outputs_hidden": false
        }
      }
    },
    {
      "cell_type": "markdown",
      "source": [
        "## Use an **index** to get a single character from a string.\n",
        "\n",
        "*   The characters (individual letters, numbers, and so on) in a string are\n",
        "    ordered. For example, the string `'AB'` is not the same as `'BA'`. Because of\n",
        "    this ordering, we can treat the string as a list of characters.\n",
        "*   Each position in the string (first, second, etc.) is given a number. This\n",
        "    number is called an **index**.\n",
        "*   Indices are numbered from 0.\n",
        "*   Use the position's index in square brackets to get the character at that\n",
        "    position.\n",
        "    \n",
        "![an illustration of indexing](images/2_indexing.svg)\n",
        "\n"
      ],
      "metadata": {}
    },
    {
      "cell_type": "code",
      "source": [
        "atom_name = 'helium'\n",
        "print(atom_name[0])"
      ],
      "outputs": [],
      "execution_count": null,
      "metadata": {
        "collapsed": false,
        "jupyter": {
          "outputs_hidden": false
        }
      }
    },
    {
      "cell_type": "markdown",
      "source": [
        "## Use a **slice** to get a substring.\n",
        "\n",
        "*   A part of a string is called a **substring**. A substring can be as short as a\n",
        "    single character.\n",
        "*   An item in a list is called an element. Whenever we treat a string as if it\n",
        "    were a list, the string's elements are its individual characters.\n",
        "*   A slice is a part of a string (or, more generally, any list-like thing).\n",
        "*   We take a slice by using `[start:stop]`, where `start` is replaced with the\n",
        "    index of the first element we want and `stop` is replaced with the index of\n",
        "    the element just after the last element we want.\n",
        "*   Mathematically, you might say that a slice selects `[start:stop)`.\n",
        "*   The difference between `stop` and `start` is the slice's length.\n",
        "*   Taking a slice does not change the contents of the original string. Instead,\n",
        "    the slice is a copy of part of the original string.\n"
      ],
      "metadata": {}
    },
    {
      "cell_type": "code",
      "source": [
        "atom_name = 'sodium'\n",
        "print(atom_name[0:3])"
      ],
      "outputs": [],
      "execution_count": null,
      "metadata": {}
    },
    {
      "cell_type": "markdown",
      "source": [
        "## Slicing numbers?\n",
        "\n",
        "If you assign `a = 123`,\n",
        "what happens if you try to get the second digit of `a` via `a[1]`?"
      ],
      "metadata": {}
    },
    {
      "cell_type": "code",
      "source": [
        "a = 123\n",
        "a[1]"
      ],
      "outputs": [
        {
          "output_type": "error",
          "ename": "TypeError",
          "evalue": "'int' object is not subscriptable",
          "traceback": [
            "\u001b[0;31m---------------------------------------------------------------------------\u001b[0m",
            "\u001b[0;31mTypeError\u001b[0m                                 Traceback (most recent call last)",
            "\u001b[0;32m/var/folders/x0/pvpjfdzd39sc5rqvsk5lvv4m0000gn/T/ipykernel_13282/3505054574.py\u001b[0m in \u001b[0;36m<module>\u001b[0;34m\u001b[0m\n\u001b[1;32m      1\u001b[0m \u001b[0ma\u001b[0m \u001b[0;34m=\u001b[0m \u001b[0;36m123\u001b[0m\u001b[0;34m\u001b[0m\u001b[0;34m\u001b[0m\u001b[0m\n\u001b[0;32m----> 2\u001b[0;31m \u001b[0ma\u001b[0m\u001b[0;34m[\u001b[0m\u001b[0;36m1\u001b[0m\u001b[0;34m]\u001b[0m\u001b[0;34m\u001b[0m\u001b[0;34m\u001b[0m\u001b[0m\n\u001b[0m",
            "\u001b[0;31mTypeError\u001b[0m: 'int' object is not subscriptable"
          ]
        }
      ],
      "execution_count": 5,
      "metadata": {
        "collapsed": false,
        "jupyter": {
          "outputs_hidden": false
        }
      }
    },
    {
      "cell_type": "markdown",
      "source": [
        "```{admonition} Click the button to reveal!\n",
        ":class: dropdown\n",
        "\n",
        "### Solution\n",
        "Numbers are not strings or sequences and Python will raise an error if you try to perform an index operation on a number. In the  lesson on types and type conversion we will learn more about types and how to convert between different types. If you want the Nth digit of a number you can convert it into a string using the `str` built-in function and then perform an index operation on that string.\n",
        "```"
      ],
      "metadata": {}
    },
    {
      "cell_type": "markdown",
      "source": [
        "## Slicing practice\n",
        "\n",
        "What does the following program print?\n"
      ],
      "metadata": {}
    },
    {
      "cell_type": "code",
      "source": [
        "atom_name = 'carbon'\n",
        "print('atom_name[1:3] is:', atom_name[1:3])"
      ],
      "outputs": [
        {
          "output_type": "stream",
          "name": "stdout",
          "text": [
            "atom_name[1:3] is: ar\n"
          ]
        }
      ],
      "execution_count": 6,
      "metadata": {
        "collapsed": false,
        "jupyter": {
          "outputs_hidden": false
        }
      }
    },
    {
      "cell_type": "markdown",
      "source": [
        "## Slicing concepts\n"
      ],
      "metadata": {}
    },
    {
      "cell_type": "code",
      "source": [
        "cell_name = 'neuron'"
      ],
      "outputs": [],
      "execution_count": 8,
      "metadata": {}
    },
    {
      "cell_type": "markdown",
      "source": [
        "- What does `cell_name[1:5]` do?"
      ],
      "metadata": {}
    },
    {
      "cell_type": "code",
      "source": [
        "cell_name[1:5]"
      ],
      "outputs": [
        {
          "output_type": "execute_result",
          "execution_count": 10,
          "data": {
            "text/plain": "'euro'"
          },
          "metadata": {}
        }
      ],
      "execution_count": 10,
      "metadata": {}
    },
    {
      "cell_type": "markdown",
      "source": [
        "- What does `cell_name[0:5]` do?"
      ],
      "metadata": {}
    },
    {
      "cell_type": "code",
      "source": [
        "cell_name[0:5]"
      ],
      "outputs": [
        {
          "output_type": "execute_result",
          "execution_count": 11,
          "data": {
            "text/plain": "'neuro'"
          },
          "metadata": {}
        }
      ],
      "execution_count": 11,
      "metadata": {}
    },
    {
      "cell_type": "markdown",
      "source": [
        "- What does `cell_name[0:6]` do?"
      ],
      "metadata": {}
    },
    {
      "cell_type": "code",
      "source": [
        "cell_name[0:6]"
      ],
      "outputs": [
        {
          "output_type": "execute_result",
          "execution_count": 12,
          "data": {
            "text/plain": "'neuron'"
          },
          "metadata": {}
        }
      ],
      "execution_count": 12,
      "metadata": {}
    },
    {
      "cell_type": "markdown",
      "source": [
        "-  What does `cell_name[0:]` (without a value after the colon) do?"
      ],
      "metadata": {}
    },
    {
      "cell_type": "code",
      "source": [
        "cell_name[0:]"
      ],
      "outputs": [
        {
          "output_type": "execute_result",
          "execution_count": 13,
          "data": {
            "text/plain": "'neuron'"
          },
          "metadata": {}
        }
      ],
      "execution_count": 13,
      "metadata": {}
    },
    {
      "cell_type": "markdown",
      "source": [
        "-  What does `cell_name[:5]` (without a value before the colon) do?"
      ],
      "metadata": {}
    },
    {
      "cell_type": "code",
      "source": [
        "cell_name[:5]"
      ],
      "outputs": [
        {
          "output_type": "execute_result",
          "execution_count": 14,
          "data": {
            "text/plain": "'neuro'"
          },
          "metadata": {}
        }
      ],
      "execution_count": 14,
      "metadata": {}
    },
    {
      "cell_type": "markdown",
      "source": [
        "-  What does `cell_name[:]` (just a colon) do?"
      ],
      "metadata": {}
    },
    {
      "cell_type": "code",
      "source": [
        "cell_name[:]"
      ],
      "outputs": [
        {
          "output_type": "execute_result",
          "execution_count": 15,
          "data": {
            "text/plain": "'neuron'"
          },
          "metadata": {}
        }
      ],
      "execution_count": 15,
      "metadata": {}
    },
    {
      "cell_type": "markdown",
      "source": [
        "-  What does `cell_name[1:-1]` do?"
      ],
      "metadata": {}
    },
    {
      "cell_type": "code",
      "source": [
        "cell_name[1:-1]"
      ],
      "outputs": [
        {
          "output_type": "execute_result",
          "execution_count": 16,
          "data": {
            "text/plain": "'euro'"
          },
          "metadata": {}
        }
      ],
      "execution_count": 16,
      "metadata": {}
    },
    {
      "cell_type": "markdown",
      "source": [
        "-  What happens when you choose a high value (.e., the value after the colon) which is out of range? (i.e., try `cell_name[1:99]`) "
      ],
      "metadata": {}
    },
    {
      "cell_type": "code",
      "source": [
        "cell_name[1:99]"
      ],
      "outputs": [
        {
          "output_type": "execute_result",
          "execution_count": 17,
          "data": {
            "text/plain": "'euron'"
          },
          "metadata": {}
        }
      ],
      "execution_count": 17,
      "metadata": {}
    },
    {
      "cell_type": "markdown",
      "source": [
        "## You must convert numbers to strings or vice versa when operating on them\n",
        "\n",
        "Cannot add numbers and strings.\n"
      ],
      "metadata": {}
    },
    {
      "cell_type": "code",
      "source": [
        "print(1 + '2')"
      ],
      "outputs": [
        {
          "output_type": "error",
          "ename": "TypeError",
          "evalue": "unsupported operand type(s) for +: 'int' and 'str'",
          "traceback": [
            "\u001b[0;31m---------------------------------------------------------------------------\u001b[0m",
            "\u001b[0;31mTypeError\u001b[0m                                 Traceback (most recent call last)",
            "\u001b[0;32m/var/folders/x0/pvpjfdzd39sc5rqvsk5lvv4m0000gn/T/ipykernel_13282/3905401405.py\u001b[0m in \u001b[0;36m<module>\u001b[0;34m\u001b[0m\n\u001b[0;32m----> 1\u001b[0;31m \u001b[0mprint\u001b[0m\u001b[0;34m(\u001b[0m\u001b[0;36m1\u001b[0m \u001b[0;34m+\u001b[0m \u001b[0;34m'2'\u001b[0m\u001b[0;34m)\u001b[0m\u001b[0;34m\u001b[0m\u001b[0;34m\u001b[0m\u001b[0m\n\u001b[0m",
            "\u001b[0;31mTypeError\u001b[0m: unsupported operand type(s) for +: 'int' and 'str'"
          ]
        }
      ],
      "execution_count": null,
      "metadata": {
        "collapsed": false,
        "jupyter": {
          "outputs_hidden": false
        }
      }
    },
    {
      "cell_type": "markdown",
      "source": [
        "This is not allowed because it's ambiguous: should `1 + '2'` be `3` or `'12'`?\n",
        "\n",
        "Some types can be converted to other types by using the type name as a function:\n"
      ],
      "metadata": {}
    },
    {
      "cell_type": "code",
      "source": [
        "print(1 + int('2'))"
      ],
      "outputs": [
        {
          "output_type": "stream",
          "name": "stdout",
          "text": [
            "3\n"
          ]
        }
      ],
      "execution_count": 1,
      "metadata": {
        "collapsed": false,
        "jupyter": {
          "outputs_hidden": false
        },
        "execution": {
          "iopub.status.busy": "2021-09-30T21:17:38.139Z",
          "iopub.execute_input": "2021-09-30T21:17:38.161Z",
          "iopub.status.idle": "2021-09-30T21:17:38.198Z",
          "shell.execute_reply": "2021-09-30T21:17:38.228Z"
        }
      }
    },
    {
      "cell_type": "code",
      "source": [
        "print(str(1) + '2')"
      ],
      "outputs": [
        {
          "output_type": "stream",
          "name": "stdout",
          "text": [
            "12\n"
          ]
        }
      ],
      "execution_count": 21,
      "metadata": {
        "collapsed": false,
        "jupyter": {
          "outputs_hidden": false
        }
      }
    },
    {
      "cell_type": "markdown",
      "source": [
        "## You can mix integers and floats freely in operations\n",
        "\n",
        "Python 3 automatically converts integers to floats as needed. "
      ],
      "metadata": {}
    },
    {
      "cell_type": "code",
      "source": [
        "print('half is', 1 / 2.0)\n",
        "print('three squared is', 3.0 ** 2)"
      ],
      "outputs": [],
      "execution_count": null,
      "metadata": {
        "collapsed": false,
        "jupyter": {
          "outputs_hidden": false
        }
      }
    },
    {
      "cell_type": "markdown",
      "source": [
        "---\n",
        "# Exercises\n",
        "\n",
        "## Fractions\n",
        "\n",
        "What type of value is 3.4?\n",
        "How can you find out?"
      ],
      "metadata": {}
    },
    {
      "cell_type": "code",
      "source": [],
      "outputs": [],
      "execution_count": null,
      "metadata": {
        "collapsed": false,
        "jupyter": {
          "outputs_hidden": false
        }
      }
    },
    {
      "cell_type": "markdown",
      "source": [
        "## Automatic Type Conversion\n",
        "\n",
        "What type of value is 3.25 + 4?\n"
      ],
      "metadata": {}
    },
    {
      "cell_type": "code",
      "source": [],
      "outputs": [],
      "execution_count": null,
      "metadata": {
        "collapsed": false,
        "jupyter": {
          "outputs_hidden": false
        }
      }
    },
    {
      "cell_type": "markdown",
      "source": [
        "## Choose a Type\n",
        "\n",
        "What type of value (integer, floating point number, or character string)\n",
        "would you use to represent each of the following?  Try to come up with more than one good answer for each problem.  For example, in (1), when would counting days with a floating point variable make more sense than using an integer?  \n",
        "\n",
        "1. Number of days since the start of the year.\n",
        "2. Time elapsed from the start of the year until now in days.\n",
        "3. Serial number of a piece of lab equipment.\n",
        "4. A lab specimen's age\n",
        "5. Current population of a city.\n",
        "6. Average population of a city over time."
      ],
      "metadata": {}
    },
    {
      "cell_type": "markdown",
      "source": [
        "```{admonition} Click the button to reveal!\n",
        ":class: dropdown\n",
        "\n",
        "## Solution\n",
        "\n",
        "The answers to the questions are:\n",
        "1. Integer, since the number of days would lie between 1 and 365. Float would make sense if you were considering partial days (e.g., if it's noon then today would count as 0.5)\n",
        "2. Floating point, since fractional days are required\n",
        "3. If serial number contains letters and numbers, then a character string. If the serial number consists only of numerals, then an integer could be used, although a character string could also be used.\n",
        "4. This will vary! How do you define a specimen's age? whole days since collection (integer)? date and time (string)?\n",
        "5. Choose integer to represent population in units of individuals, or floating point to represent population as large aggregates (eg millions)\n",
        "6. Floating point number, since an average is likely to have a fractional part.\n",
        "```"
      ],
      "metadata": {}
    },
    {
      "cell_type": "markdown",
      "source": [
        "## Division Types\n",
        "\n",
        "In Python 3:\n",
        "- the `//` operator performs integer (whole-number) floor division\n",
        "- the `/` operator performs floating-point division\n",
        "- the '%' (or *modulo*) operator calculates and returns the remainder from integer division:\n",
        "\n",
        "~~~python\n",
        "print('5 // 3 = ', 5 // 3)\n",
        "~~~"
      ],
      "metadata": {}
    },
    {
      "cell_type": "code",
      "source": [],
      "outputs": [],
      "execution_count": null,
      "metadata": {
        "collapsed": false,
        "jupyter": {
          "outputs_hidden": false
        }
      }
    },
    {
      "cell_type": "markdown",
      "source": [
        "~~~python\n",
        "print('5 / 3 = ', 5 / 3)\n",
        "~~~"
      ],
      "metadata": {}
    },
    {
      "cell_type": "code",
      "source": [
        "print(1 + '2')"
      ],
      "outputs": [
        {
          "output_type": "error",
          "ename": "TypeError",
          "evalue": "unsupported operand type(s) for +: 'int' and 'str'",
          "traceback": [
            "\u001b[0;31m---------------------------------------------------------------------------\u001b[0m",
            "\u001b[0;31mTypeError\u001b[0m                                 Traceback (most recent call last)",
            "\u001b[0;32m/var/folders/x0/pvpjfdzd39sc5rqvsk5lvv4m0000gn/T/ipykernel_13282/3905401405.py\u001b[0m in \u001b[0;36m<module>\u001b[0;34m\u001b[0m\n\u001b[0;32m----> 1\u001b[0;31m \u001b[0mprint\u001b[0m\u001b[0;34m(\u001b[0m\u001b[0;36m1\u001b[0m \u001b[0;34m+\u001b[0m \u001b[0;34m'2'\u001b[0m\u001b[0;34m)\u001b[0m\u001b[0;34m\u001b[0m\u001b[0;34m\u001b[0m\u001b[0m\n\u001b[0m",
            "\u001b[0;31mTypeError\u001b[0m: unsupported operand type(s) for +: 'int' and 'str'"
          ]
        }
      ],
      "execution_count": 23,
      "metadata": {
        "collapsed": false,
        "jupyter": {
          "outputs_hidden": false
        }
      }
    },
    {
      "cell_type": "markdown",
      "source": [
        "~~~python\n",
        "print('5 % 3 =', 5 % 3)\n",
        "~~~"
      ],
      "metadata": {}
    },
    {
      "cell_type": "code",
      "source": [
        "print(1 + int('2'))"
      ],
      "outputs": [
        {
          "output_type": "stream",
          "name": "stdout",
          "text": [
            "3\n"
          ]
        }
      ],
      "execution_count": 22,
      "metadata": {
        "collapsed": false,
        "jupyter": {
          "outputs_hidden": false
        }
      }
    },
    {
      "cell_type": "markdown",
      "source": [
        "## Division Challenge\n",
        "\n",
        "Imagine we are catering an event for 100 guests, and for dessert we want to serve each person one slice of pie. Each pie yields 8 pieces. How do we calculate the number of pies we need? \n",
        "\n",
        "We can start by simply dividing the number of guests by the number of slices per pie:\n",
        "\n"
      ],
      "metadata": {}
    },
    {
      "cell_type": "code",
      "source": [
        "pie_eaters = 100\n",
        "slice_per_pie = 8\n",
        "num_pies = pie_eaters / slice_per_pie\n",
        "print(pie_eaters, 'guests', 'requires', num_pies, 'pies')"
      ],
      "outputs": [
        {
          "output_type": "stream",
          "name": "stdout",
          "text": [
            "100 guests requires 12.5 pies\n"
          ]
        }
      ],
      "execution_count": 2,
      "metadata": {
        "collapsed": false,
        "jupyter": {
          "outputs_hidden": false
        },
        "execution": {
          "iopub.status.busy": "2021-09-30T21:18:35.652Z",
          "iopub.execute_input": "2021-09-30T21:18:35.666Z",
          "iopub.status.idle": "2021-09-30T21:18:35.703Z",
          "shell.execute_reply": "2021-09-30T21:18:35.753Z"
        }
      }
    },
    {
      "cell_type": "markdown",
      "source": [
        "However, this yields a floating point number. We can't easily bake half a pie, so we need to round up to ensure we have enough pies. We can use floor division for this:\n"
      ],
      "metadata": {}
    },
    {
      "cell_type": "code",
      "source": [
        "num_pies = pie_eaters // slice_per_pie\n",
        "print(pie_eaters, 'guests', 'requires', num_pies, 'pies')"
      ],
      "outputs": [
        {
          "output_type": "stream",
          "name": "stdout",
          "text": [
            "100 guests requires 12 pies\n"
          ]
        }
      ],
      "execution_count": 3,
      "metadata": {
        "collapsed": false,
        "jupyter": {
          "outputs_hidden": false
        },
        "execution": {
          "iopub.status.busy": "2021-09-30T21:20:05.242Z",
          "iopub.execute_input": "2021-09-30T21:20:05.255Z",
          "iopub.status.idle": "2021-09-30T21:20:05.280Z",
          "shell.execute_reply": "2021-09-30T21:20:05.293Z"
        }
      }
    },
    {
      "cell_type": "markdown",
      "source": [
        "Of course, we actually need one more pie than that, but Python doesn't provide an operator for rounding up (\"ceiling\" division). So we can simply add 1 to our answer:"
      ],
      "metadata": {
        "nteract": {
          "transient": {
            "deleting": false
          }
        }
      }
    },
    {
      "cell_type": "code",
      "source": [
        "num_pies = pie_eaters // slice_per_pie + 1\n",
        "print(pie_eaters, 'guests', 'requires', num_pies, 'pies')\n"
      ],
      "outputs": [],
      "execution_count": null,
      "metadata": {
        "collapsed": true,
        "jupyter": {
          "source_hidden": false,
          "outputs_hidden": false
        },
        "nteract": {
          "transient": {
            "deleting": false
          }
        }
      }
    },
    {
      "cell_type": "markdown",
      "source": [
        "\n",
        "Note that Python uses standard order of operations, so the division will be performed before the addition. That is, we will get:\n",
        "\n",
        "`(pie_eaters // slice_per_pie) + 1`\n",
        "\n",
        "not\n",
        "\n",
        "`pie_eaters // (slice_per_pie + 1)`\n"
      ],
      "metadata": {}
    },
    {
      "cell_type": "markdown",
      "source": [
        "When writing code, it's good to test it and think about possible cases where it won't work as intended. In this example, if the number of guests was evenly divisible by 8, then our calculation would erroneously tell us we need one more pie than we do:\n"
      ],
      "metadata": {}
    },
    {
      "cell_type": "code",
      "source": [
        "pie_eaters = 64\n",
        "num_pies = pie_eaters // slice_per_pie + 1\n",
        "print(pie_eaters, 'guests', 'requires', num_pies, 'pies')\n"
      ],
      "outputs": [],
      "execution_count": null,
      "metadata": {
        "collapsed": false,
        "jupyter": {
          "outputs_hidden": false
        }
      }
    },
    {
      "cell_type": "markdown",
      "source": [
        "We can make our code more robust by subtracting 1 to `pie_eaters` within the formula:\n"
      ],
      "metadata": {}
    },
    {
      "cell_type": "code",
      "source": [
        "num_pies = (pie_eaters - 1) // slice_per_pie + 1\n",
        "print(pie_eaters, 'guests', 'requires', num_pies, 'pies')"
      ],
      "outputs": [
        {
          "output_type": "stream",
          "name": "stdout",
          "text": [
            "100 guests requires 13 pies\n"
          ]
        }
      ],
      "execution_count": 4,
      "metadata": {
        "collapsed": false,
        "jupyter": {
          "outputs_hidden": false
        },
        "execution": {
          "iopub.status.busy": "2021-09-30T21:21:23.178Z",
          "iopub.execute_input": "2021-09-30T21:21:23.189Z",
          "iopub.status.idle": "2021-09-30T21:21:23.213Z",
          "shell.execute_reply": "2021-09-30T21:21:23.226Z"
        }
      }
    },
    {
      "cell_type": "markdown",
      "source": [
        "## Strings to Numbers\n",
        "\n",
        "Where reasonable, `float()` will convert a string to a floating point number,\n",
        "and `int()` will convert a floating point number to an integer:\n",
        "\n",
        "~~~python\n",
        "print(\"string to float:\", float(\"3.4\"))\n",
        "print(\"float to int:\", int(3.4))\n",
        "~~~"
      ],
      "metadata": {}
    },
    {
      "cell_type": "code",
      "source": [],
      "outputs": [],
      "execution_count": null,
      "metadata": {
        "collapsed": false,
        "jupyter": {
          "outputs_hidden": false
        }
      }
    },
    {
      "cell_type": "markdown",
      "source": [
        "If the conversion doesn't make sense, however, an error message will occur\n",
        "\n",
        "~~~python\n",
        "print(\"string to float:\", float(\"Hello world!\"))\n",
        "~~~"
      ],
      "metadata": {}
    },
    {
      "cell_type": "code",
      "source": [],
      "outputs": [],
      "execution_count": null,
      "metadata": {
        "collapsed": false,
        "jupyter": {
          "outputs_hidden": false
        }
      }
    },
    {
      "cell_type": "markdown",
      "source": [
        "Given this information, what do you expect the following program to do?\n",
        "\n",
        "~~~python\n",
        "print(\"fractional string to int:\", int(\"3.4\"))\n",
        "~~~\n",
        "\n",
        "- What does it actually do?\n",
        "\n",
        "- Why do you think it does that?"
      ],
      "metadata": {}
    },
    {
      "cell_type": "code",
      "source": [],
      "outputs": [],
      "execution_count": null,
      "metadata": {
        "collapsed": false,
        "jupyter": {
          "outputs_hidden": false
        }
      }
    },
    {
      "cell_type": "markdown",
      "source": [
        "```{admonition} Click the button to reveal!\n",
        ":class: dropdown\n",
        "\n",
        "## Solution\n",
        "What do you expect this program to do? It would not be so unreasonable to expect the Python 3 `int` command to\n",
        "convert the string \"3.4\" to 3.4 and an additional type conversion to 3. After all, Python 3 performs a lot of other magic - isn't that part of its charm?\n",
        "\n",
        "However, Python 3 throws an error. Why? To be consistent, possibly. If you ask Python to perform two consecutive\n",
        "typecasts, you must convert it explicitly in code.\n",
        "\n",
        "~~~python\n",
        "int(\"3.4\")\n",
        "int(float(\"3.4\"))\n",
        "~~~\n",
        "```"
      ],
      "metadata": {}
    },
    {
      "cell_type": "code",
      "source": [],
      "outputs": [],
      "execution_count": null,
      "metadata": {
        "collapsed": false,
        "jupyter": {
          "outputs_hidden": false
        }
      }
    },
    {
      "cell_type": "markdown",
      "source": [
        "## Arithmetic with Different Types\n",
        "\n",
        "Given these variable definitions:\n",
        "~~~python\n",
        "a = 1.0\n",
        "b = \"1\"\n",
        "c = \"1.1\"\n",
        "~~~\n",
        "\n",
        "Which of the following will return the floating point number `2.0`?\n",
        "Note: there may be more than one right answer.\n",
        "\n"
      ],
      "metadata": {}
    },
    {
      "cell_type": "markdown",
      "source": [
        "1. `a + float(b)`\n",
        "2. `float(b) + float(c)`\n",
        "3. `a + int(c)`\n",
        "4. `a + int(float(c))`\n",
        "5. `int(a) + int(float(c))`\n",
        "6. `2.0 * b`"
      ],
      "metadata": {}
    },
    {
      "cell_type": "code",
      "source": [],
      "outputs": [],
      "execution_count": null,
      "metadata": {
        "collapsed": false,
        "jupyter": {
          "outputs_hidden": false
        }
      }
    },
    {
      "cell_type": "markdown",
      "source": [
        "---\n",
        "## Summary of Key Points:\n",
        "- Every value has a type\n",
        "- Use the built-in function `type` to find the type of a value\n",
        "- Types control what operations can be done on values\n",
        "- Strings can be added and multiplied\n",
        "- Strings have a length (but numbers don't)\n",
        "- Use the built-in function `len` to find the length of a string\n",
        "- Use an index to get a single character from a string\n",
        "- Use a slice to get a substring\n",
        "- Can mix integers and floats freely in operations\n",
        "- Must convert numbers to strings or vice versa when operating on them"
      ],
      "metadata": {}
    },
    {
      "cell_type": "markdown",
      "source": [
        "---\n",
        "This lesson is adapted from the [Software Carpentry](https://software-carpentry.org/lessons/) [Plotting and Programming in Python](http://swcarpentry.github.io/python-novice-gapminder/) workshop. "
      ],
      "metadata": {}
    }
  ],
  "metadata": {
    "kernelspec": {
      "display_name": "Python 3 (ipykernel)",
      "language": "python",
      "name": "python3"
    },
    "language_info": {
      "name": "python",
      "version": "3.9.7",
      "mimetype": "text/x-python",
      "codemirror_mode": {
        "name": "ipython",
        "version": 3
      },
      "pygments_lexer": "ipython3",
      "nbconvert_exporter": "python",
      "file_extension": ".py"
    },
    "nteract": {
      "version": "0.28.0"
    }
  },
  "nbformat": 4,
  "nbformat_minor": 4
}