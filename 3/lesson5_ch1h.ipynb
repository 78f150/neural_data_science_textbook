{
 "cells": [
  {
   "cell_type": "markdown",
   "metadata": {},
   "source": [
    "## Applications of reindexing\n",
    "\n",
    "Reindexing can be useful if you have, or anticipate, missing data. For example, here's some data from three different rats who were timed running through a maze. This was an 8-day study, but not every rat was tested every day. So one animal may have data from days 1-3 and 5-8 of the study, but not day 4. When we import and combine data, though, we want to ensure that the indexing of the data reflects the days they were tested on (e.g., if a rat missed day 4, we want their day 5 data to have the index '5' even though that would be the fourth data point we have for them). \n",
    "\n",
    "When we load in the data, we find that it doesn't have a column that reflects the days that each animal was tested on, so each data set is indexed sequentially from 0:"
   ]
  },
  {
   "cell_type": "code",
   "execution_count": 28,
   "metadata": {},
   "outputs": [
    {
     "data": {
      "text/plain": [
       "[   maze_time\n",
       " 0       6.00\n",
       " 1       7.56\n",
       " 2       2.17\n",
       " 3       2.39\n",
       " 4       5.60\n",
       " 5       8.94\n",
       " 6       2.95\n",
       " 7       3.30,\n",
       "    maze_time\n",
       " 0       7.32\n",
       " 1       4.12\n",
       " 2       6.28\n",
       " 3       4.20\n",
       " 4       2.11\n",
       " 5       4.98\n",
       " 6       7.44,\n",
       "    maze_time\n",
       " 0       2.55\n",
       " 1       4.00\n",
       " 2       6.00\n",
       " 3       8.38\n",
       " 4       6.53\n",
       " 5       3.01]"
      ]
     },
     "execution_count": 28,
     "metadata": {},
     "output_type": "execute_result"
    }
   ],
   "source": [
    "maze_files = ['maze_data_1.csv', 'maze_data_2.csv', 'maze_data_3.csv']\n",
    "maze_list = []\n",
    "for filename in maze_files:\n",
    "    maze_list.append(pd.read_csv(filename))\n",
    "    \n",
    "maze_list"
   ]
  },
  {
   "cell_type": "markdown",
   "metadata": {},
   "source": [
    "Although the files aren't indexed, but we have a record (written in a lab notebook) of which days each rat was tested on:"
   ]
  },
  {
   "cell_type": "code",
   "execution_count": 29,
   "metadata": {},
   "outputs": [],
   "source": [
    "r1_days = ['day1', 'day2', 'day3', 'day4', 'day5', 'day6', 'day7', 'day8']\n",
    "r2_days = ['day1', 'day2', 'day3', 'day5', 'day6', 'day7', 'day8']\n",
    "r3_days = ['day1', 'day2', 'day4', 'day5', 'day6', 'day7']"
   ]
  },
  {
   "cell_type": "markdown",
   "metadata": {},
   "source": [
    "So we can use this information, along with the `.reindex()` method, to set the indexing appropriately for each animal. First we have to add the list of days on which testing actually occurred to each rat's data file, because we can only reindex from a column within the DataFrame.\n",
    "\n",
    "(Note: there are ways to do this more efficiently using looping, but for now we'll focus on reindexing and not looping.)"
   ]
  },
  {
   "cell_type": "code",
   "execution_count": 30,
   "metadata": {},
   "outputs": [
    {
     "data": {
      "text/plain": [
       "[   maze_time  days\n",
       " 0       6.00  day1\n",
       " 1       7.56  day2\n",
       " 2       2.17  day3\n",
       " 3       2.39  day4\n",
       " 4       5.60  day5\n",
       " 5       8.94  day6\n",
       " 6       2.95  day7\n",
       " 7       3.30  day8,\n",
       "    maze_time  days\n",
       " 0       7.32  day1\n",
       " 1       4.12  day2\n",
       " 2       6.28  day3\n",
       " 3       4.20  day5\n",
       " 4       2.11  day6\n",
       " 5       4.98  day7\n",
       " 6       7.44  day8,\n",
       "    maze_time  days\n",
       " 0       2.55  day1\n",
       " 1       4.00  day2\n",
       " 2       6.00  day4\n",
       " 3       8.38  day5\n",
       " 4       6.53  day6\n",
       " 5       3.01  day7]"
      ]
     },
     "execution_count": 30,
     "metadata": {},
     "output_type": "execute_result"
    }
   ],
   "source": [
    "maze_list[0]['days'] = r1_days\n",
    "maze_list[1]['days'] = r2_days\n",
    "maze_list[2]['days'] = r3_days\n",
    "\n",
    "maze_list"
   ]
  },
  {
   "cell_type": "markdown",
   "metadata": {},
   "source": [
    "Then we specify the `days` column as the index in each DataFrame:"
   ]
  },
  {
   "cell_type": "code",
   "execution_count": 31,
   "metadata": {},
   "outputs": [
    {
     "data": {
      "text/plain": [
       "[      maze_time\n",
       " days           \n",
       " day1       6.00\n",
       " day2       7.56\n",
       " day3       2.17\n",
       " day4       2.39\n",
       " day5       5.60\n",
       " day6       8.94\n",
       " day7       2.95\n",
       " day8       3.30,\n",
       "       maze_time\n",
       " days           \n",
       " day1       7.32\n",
       " day2       4.12\n",
       " day3       6.28\n",
       " day5       4.20\n",
       " day6       2.11\n",
       " day7       4.98\n",
       " day8       7.44,\n",
       "       maze_time\n",
       " days           \n",
       " day1       2.55\n",
       " day2       4.00\n",
       " day4       6.00\n",
       " day5       8.38\n",
       " day6       6.53\n",
       " day7       3.01]"
      ]
     },
     "execution_count": 31,
     "metadata": {},
     "output_type": "execute_result"
    }
   ],
   "source": [
    "maze_list[0] = maze_list[0].set_index('days')\n",
    "maze_list[1] = maze_list[1].set_index('days')\n",
    "maze_list[2] = maze_list[2].set_index('days')\n",
    "\n",
    "maze_list"
   ]
  },
  {
   "cell_type": "markdown",
   "metadata": {},
   "source": [
    "So now each rat's DataFrame is indexed by day numbers, and the days with no data are not represented in the DataFrame. But if we want all DataFrames to contain rows (and indexes) for all days, we can do this. As it happens, the first rat's data is complete - it has data from all of the study days. So we can use this as the index for the other datasets. (If we didn't have one data set that was complete, we could make a list containing all the indices we wanted, and use that to reindex).\n",
    "\n",
    "Pay attention below to the fact that the input to `.reindex()` is `maze_list[0].index` — the *index* of `maze_list[0]` — and not just `maze_list[0]`."
   ]
  },
  {
   "cell_type": "code",
   "execution_count": 32,
   "metadata": {},
   "outputs": [
    {
     "data": {
      "text/plain": [
       "[      maze_time\n",
       " days           \n",
       " day1       6.00\n",
       " day2       7.56\n",
       " day3       2.17\n",
       " day4       2.39\n",
       " day5       5.60\n",
       " day6       8.94\n",
       " day7       2.95\n",
       " day8       3.30,\n",
       "       maze_time\n",
       " days           \n",
       " day1       7.32\n",
       " day2       4.12\n",
       " day3       6.28\n",
       " day4        NaN\n",
       " day5       4.20\n",
       " day6       2.11\n",
       " day7       4.98\n",
       " day8       7.44,\n",
       "       maze_time\n",
       " days           \n",
       " day1       2.55\n",
       " day2       4.00\n",
       " day3        NaN\n",
       " day4       6.00\n",
       " day5       8.38\n",
       " day6       6.53\n",
       " day7       3.01\n",
       " day8        NaN]"
      ]
     },
     "execution_count": 32,
     "metadata": {},
     "output_type": "execute_result"
    }
   ],
   "source": [
    "maze_list[1] = maze_list[1].reindex(maze_list[0].index)\n",
    "maze_list[2] = maze_list[2].reindex(maze_list[0].index)\n",
    "\n",
    "maze_list"
   ]
  },
  {
   "cell_type": "markdown",
   "metadata": {},
   "source": [
    "Reindexing is useful in some cases. However, in other cases it's not really necessary. For example, if we wanted to merge the data from all three rats into one DataFrame, we could do so (similar to the example with RT data earlier) without reindexing, and pandas would automatically fill in the missing data with `NaN`s:"
   ]
  },
  {
   "cell_type": "code",
   "execution_count": 33,
   "metadata": {},
   "outputs": [
    {
     "data": {
      "text/html": [
       "<div>\n",
       "<style scoped>\n",
       "    .dataframe tbody tr th:only-of-type {\n",
       "        vertical-align: middle;\n",
       "    }\n",
       "\n",
       "    .dataframe tbody tr th {\n",
       "        vertical-align: top;\n",
       "    }\n",
       "\n",
       "    .dataframe thead th {\n",
       "        text-align: right;\n",
       "    }\n",
       "</style>\n",
       "<table border=\"1\" class=\"dataframe\">\n",
       "  <thead>\n",
       "    <tr style=\"text-align: right;\">\n",
       "      <th></th>\n",
       "      <th>r1</th>\n",
       "      <th>r2</th>\n",
       "      <th>r3</th>\n",
       "    </tr>\n",
       "    <tr>\n",
       "      <th>days</th>\n",
       "      <th></th>\n",
       "      <th></th>\n",
       "      <th></th>\n",
       "    </tr>\n",
       "  </thead>\n",
       "  <tbody>\n",
       "    <tr>\n",
       "      <th>day1</th>\n",
       "      <td>6.00</td>\n",
       "      <td>7.32</td>\n",
       "      <td>2.55</td>\n",
       "    </tr>\n",
       "    <tr>\n",
       "      <th>day2</th>\n",
       "      <td>7.56</td>\n",
       "      <td>4.12</td>\n",
       "      <td>4.00</td>\n",
       "    </tr>\n",
       "    <tr>\n",
       "      <th>day3</th>\n",
       "      <td>2.17</td>\n",
       "      <td>6.28</td>\n",
       "      <td>NaN</td>\n",
       "    </tr>\n",
       "    <tr>\n",
       "      <th>day4</th>\n",
       "      <td>2.39</td>\n",
       "      <td>NaN</td>\n",
       "      <td>6.00</td>\n",
       "    </tr>\n",
       "    <tr>\n",
       "      <th>day5</th>\n",
       "      <td>5.60</td>\n",
       "      <td>4.20</td>\n",
       "      <td>8.38</td>\n",
       "    </tr>\n",
       "    <tr>\n",
       "      <th>day6</th>\n",
       "      <td>8.94</td>\n",
       "      <td>2.11</td>\n",
       "      <td>6.53</td>\n",
       "    </tr>\n",
       "    <tr>\n",
       "      <th>day7</th>\n",
       "      <td>2.95</td>\n",
       "      <td>4.98</td>\n",
       "      <td>3.01</td>\n",
       "    </tr>\n",
       "    <tr>\n",
       "      <th>day8</th>\n",
       "      <td>3.30</td>\n",
       "      <td>7.44</td>\n",
       "      <td>NaN</td>\n",
       "    </tr>\n",
       "  </tbody>\n",
       "</table>\n",
       "</div>"
      ],
      "text/plain": [
       "        r1    r2    r3\n",
       "days                  \n",
       "day1  6.00  7.32  2.55\n",
       "day2  7.56  4.12  4.00\n",
       "day3  2.17  6.28   NaN\n",
       "day4  2.39   NaN  6.00\n",
       "day5  5.60  4.20  8.38\n",
       "day6  8.94  2.11  6.53\n",
       "day7  2.95  4.98  3.01\n",
       "day8  3.30  7.44   NaN"
      ]
     },
     "execution_count": 33,
     "metadata": {},
     "output_type": "execute_result"
    }
   ],
   "source": [
    "maze_files = ['maze_data_1.csv', 'maze_data_2.csv', 'maze_data_3.csv']\n",
    "\n",
    "r1_days = ['day1', 'day2', 'day3', 'day4', 'day5', 'day6', 'day7', 'day8']\n",
    "r2_days = ['day1', 'day2', 'day3', 'day5', 'day6', 'day7', 'day8']\n",
    "r3_days = ['day1', 'day2', 'day4', 'day5', 'day6', 'day7']\n",
    "\n",
    "maze_list = []\n",
    "for filename in maze_files:\n",
    "    maze_list.append(pd.read_csv(filename))\n",
    "\n",
    "\n",
    "maze_list[0]['days'] = r1_days\n",
    "maze_list[1]['days'] = r2_days\n",
    "maze_list[2]['days'] = r3_days\n",
    "\n",
    "maze_list[0] = maze_list[0].set_index('days')\n",
    "maze_list[1] = maze_list[1].set_index('days')\n",
    "maze_list[2] = maze_list[2].set_index('days')\n",
    "\n",
    "rat_df = maze_list[0]\n",
    "rat_df = rat_df.rename(columns={'maze_time':'r1'})\n",
    "\n",
    "\n",
    "rat_df['r2'] = maze_list[1]\n",
    "rat_df['r3'] = maze_list[2]\n",
    "rat_df"
   ]
  }
 ],
 "metadata": {
  "kernelspec": {
   "display_name": "Python 3",
   "language": "python",
   "name": "python3"
  },
  "language_info": {
   "codemirror_mode": {
    "name": "ipython",
    "version": 3
   },
   "file_extension": ".py",
   "mimetype": "text/x-python",
   "name": "python",
   "nbconvert_exporter": "python",
   "pygments_lexer": "ipython3",
   "version": "3.7.9"
  }
 },
 "nbformat": 4,
 "nbformat_minor": 4
}
