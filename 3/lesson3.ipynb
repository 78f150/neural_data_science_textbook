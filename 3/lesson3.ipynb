{
 "cells": [
  {
   "cell_type": "markdown",
   "metadata": {},
   "source": [
    "# Lesson 3: pandas Foundations\n",
    "\n",
    "These notes are based on the sequence that concepts are introduced in the DataCamp lesson of the same name. They are most useful as a reference, after you've completed the DataCamp lesson. They are not intended to replace that lesson.\n",
    "\n",
    "[View this lesson on DataCamp](https://learn.datacamp.com/courses/pandas-foundations)"
   ]
  },
  {
   "cell_type": "markdown",
   "metadata": {},
   "source": [
    "## Chapter 1\n",
    "This chapter provides a review of some pandas concepts introduced in the Intermediate Python lesson, and introduces the basics of importing data, as well as visualization with pandas dataframes."
   ]
  },
  {
   "cell_type": "markdown",
   "metadata": {},
   "source": [
    "### Methods\n",
    "\n",
    "| Concept/Command |  Operation                                                   |\n",
    "|----------|--------------------------------------------------------------|\n",
    "| `.head()`      |  returns first 5 lines (default) of data, or however many specified    |\n",
    "| `.tail()`      |  returns last 5 lines (default) of data, or however many specified     |\n",
    "| `.info()`      |  provides summary information about a DataFrame  \n",
    "| `.shape()`      |  returns shape (# of rows and columns) of a DataFrame                 |\n",
    "| `.values`        |  represents DataFrame as a NumPy array  |"
   ]
  },
  {
   "cell_type": "markdown",
   "metadata": {},
   "source": [
    "### Functions\n",
    "|           |                                       |\n",
    "|-----------|---------------------------------------|\n",
    "| `zip()` |   takes a list of lists and creates a list of tuples. Returns \"zipped\" object; must convert to list with `list()`.     |\n",
    "| `dict()`  |  gives the type of a defined variable |"
   ]
  },
  {
   "cell_type": "markdown",
   "metadata": {},
   "source": [
    "### Building DataFrames from Scratch\n",
    "\n",
    "|                                          |                                                                      |\n",
    "|------------------------------------------|----------------------------------------------------------------------|\n",
    "| From lists                                  |  e.g., given a set of lists called cities, signups, visitors, and weekdays: \n",
    "|                                          | `list_labels = ['city', 'signups', 'visitors', 'weekday']`\n",
    "|                                          | `list_cols = [cities, signups, visitors, weekdays]`\n",
    "|                                          | `zipped = list(zip(list_labels, list_cols))`\n",
    "|                                          | `data = dict(zipped)`\n",
    "|                                          | `users = pd.DataFrame(data)`                                      |\n",
    "| From dictionaries                        |  |\n",
    "| `pd.DataFrame()`                         |  convert object to DataFrame (often stored as a variable called `df`)\n",
    "| | `df.columns`                        view & assign new string labels to columns in a pandas df   |\n",
    "| | `df.index`                         assign new index labels to rows   |\n"
   ]
  },
  {
   "cell_type": "markdown",
   "metadata": {},
   "source": [
    "### Importing & Exporting Data"
   ]
  },
  {
   "cell_type": "markdown",
   "metadata": {},
   "source": [
    "|           |                                       |\n",
    "|-----------|---------------------------------------|\n",
    "| `pd.read_csv('filename')` |   reads in a \"comma separated value\" (.csv) file     |\n",
    "| | `header=` gives row number where column labels begin |\n",
    "| | `na_values=` assign values to be read as' NaN' |\n",
    "| | `parse_dates=` transform dates & times into datetime objects |\n",
    "| | `index_col=` specify which column is to be used as the index (row labels) |\n",
    "| `.to_csv` |    save a dataframe to a csv file     |\n",
    "| `.to_excel` |   use to export a df to an excel file      |"
   ]
  },
  {
   "cell_type": "markdown",
   "metadata": {},
   "source": [
    "### Practice:"
   ]
  },
  {
   "cell_type": "markdown",
   "metadata": {},
   "source": [
    "Let's say that, rather than importing a data set, we want to make a DataFrame from scratch out of these two lists:"
   ]
  },
  {
   "cell_type": "code",
   "execution_count": 77,
   "metadata": {},
   "outputs": [],
   "source": [
    "odd  = [1, 3, 5, 7, 9]\n",
    "even = [2, 4, 6, 8, 10]"
   ]
  },
  {
   "cell_type": "markdown",
   "metadata": {},
   "source": [
    "Import the packages we'll need to get the job done:"
   ]
  },
  {
   "cell_type": "code",
   "execution_count": 12,
   "metadata": {},
   "outputs": [],
   "source": [
    "import numpy as np\n",
    "import pandas as pd"
   ]
  },
  {
   "cell_type": "markdown",
   "metadata": {},
   "source": [
    "`zip()` the lists, and store the output in a variable called `all_numbers`: "
   ]
  },
  {
   "cell_type": "code",
   "execution_count": 40,
   "metadata": {},
   "outputs": [],
   "source": [
    "all_numbers = zip(odd, even)"
   ]
  },
  {
   "cell_type": "markdown",
   "metadata": {},
   "source": [
    "`Print()` `all_numbers`, just to see:"
   ]
  },
  {
   "cell_type": "code",
   "execution_count": 41,
   "metadata": {},
   "outputs": [
    {
     "name": "stdout",
     "output_type": "stream",
     "text": [
      "<zip object at 0x1214eab40>\n"
     ]
    }
   ],
   "source": [
    "print(all_numbers)"
   ]
  },
  {
   "cell_type": "markdown",
   "metadata": {},
   "source": [
    "Ew. \n",
    "Why does the output look like that? Check its type with `type()`:"
   ]
  },
  {
   "cell_type": "code",
   "execution_count": 42,
   "metadata": {},
   "outputs": [
    {
     "data": {
      "text/plain": [
       "zip"
      ]
     },
     "execution_count": 42,
     "metadata": {},
     "output_type": "execute_result"
    }
   ],
   "source": [
    "type(all_numbers)"
   ]
  },
  {
   "cell_type": "markdown",
   "metadata": {},
   "source": [
    "Oh. We don't want a zip, we want a list. Convert it with `list()`. For our purposes here, we only want the list so just store it as itself again:"
   ]
  },
  {
   "cell_type": "code",
   "execution_count": 71,
   "metadata": {},
   "outputs": [],
   "source": [
    "all_numbers = list(all_numbers)"
   ]
  },
  {
   "cell_type": "markdown",
   "metadata": {},
   "source": [
    "Now let's check it:"
   ]
  },
  {
   "cell_type": "code",
   "execution_count": 72,
   "metadata": {},
   "outputs": [
    {
     "data": {
      "text/plain": [
       "list"
      ]
     },
     "execution_count": 72,
     "metadata": {},
     "output_type": "execute_result"
    }
   ],
   "source": [
    "type(all_numbers)"
   ]
  },
  {
   "cell_type": "markdown",
   "metadata": {},
   "source": [
    "Nice. Now let's see it:"
   ]
  },
  {
   "cell_type": "code",
   "execution_count": 54,
   "metadata": {},
   "outputs": [
    {
     "name": "stdout",
     "output_type": "stream",
     "text": [
      "[(1, 2), (3, 4), (5, 6), (7, 8), (9, 10)]\n"
     ]
    }
   ],
   "source": [
    "print(all_numbers)"
   ]
  },
  {
   "cell_type": "markdown",
   "metadata": {},
   "source": [
    "Also nice. Now let's use `pd.DataFrame()` to convert this list of tuple pairs into a DataFrame called `all_numbers_dataframe`:"
   ]
  },
  {
   "cell_type": "code",
   "execution_count": 66,
   "metadata": {},
   "outputs": [
    {
     "ename": "SyntaxError",
     "evalue": "invalid syntax (<ipython-input-66-ca8a8b52a471>, line 1)",
     "output_type": "error",
     "traceback": [
      "\u001b[0;36m  File \u001b[0;32m\"<ipython-input-66-ca8a8b52a471>\"\u001b[0;36m, line \u001b[0;32m1\u001b[0m\n\u001b[0;31m    all_numbers_datafra...\u001b[0m\n\u001b[0m                         ^\u001b[0m\n\u001b[0;31mSyntaxError\u001b[0m\u001b[0;31m:\u001b[0m invalid syntax\n"
     ]
    }
   ],
   "source": [
    "all_numbers_datafra... \n",
    "\n",
    "# OK, now let's rethink our variable name because we don't want to have to type all_numbers_dataframe every time.\n",
    "# Let's go with `df` (yup, as in 'D'ata'F'rame) for now.\n",
    "\n",
    "# btw, this cell will throw an error. Lean into it. Desensitize. "
   ]
  },
  {
   "cell_type": "code",
   "execution_count": 67,
   "metadata": {},
   "outputs": [],
   "source": [
    "df = pd.DataFrame(all_numbers)"
   ]
  },
  {
   "cell_type": "markdown",
   "metadata": {},
   "source": [
    "Check it:"
   ]
  },
  {
   "cell_type": "code",
   "execution_count": 68,
   "metadata": {},
   "outputs": [
    {
     "data": {
      "text/plain": [
       "pandas.core.frame.DataFrame"
      ]
     },
     "execution_count": 68,
     "metadata": {},
     "output_type": "execute_result"
    }
   ],
   "source": [
    "type(df)"
   ]
  },
  {
   "cell_type": "markdown",
   "metadata": {},
   "source": [
    "Print it:"
   ]
  },
  {
   "cell_type": "code",
   "execution_count": 69,
   "metadata": {},
   "outputs": [
    {
     "name": "stdout",
     "output_type": "stream",
     "text": [
      "   0   1\n",
      "0  1   2\n",
      "1  3   4\n",
      "2  5   6\n",
      "3  7   8\n",
      "4  9  10\n"
     ]
    }
   ],
   "source": [
    "print(df)"
   ]
  },
  {
   "cell_type": "markdown",
   "metadata": {},
   "source": [
    "Fine looking DataFrame, complete with the column headers (0 and 1) at the top, and row indexes (0 through 4) on the left. The tuple pairs make up the table data: the first integer in each pair (originally from the \"odd\" list) is stacked in the \"0\" column, and the second integer in the \"1\" column. Fine looking DataFrame. "
   ]
  },
  {
   "cell_type": "markdown",
   "metadata": {},
   "source": [
    "### Data Visualization"
   ]
  },
  {
   "cell_type": "markdown",
   "metadata": {},
   "source": [
    "|           |                                       |\n",
    "|-----------|---------------------------------------|\n",
    "| Import the package  |  `import matplotlib.pyplot as plt`|\n",
    "| `pd.DataFrame.plot()`  |  plot a pandas DataFrame or Series. Will infer things like column and index names and types.  |\n",
    "| | `color=`  specifies color of plot |\n",
    "| | `subplots=True`  plots all columns separately as subplots |\n",
    "| `plt.title() `  |   add a title  |\n",
    "| `plt.xlabel()`  |  add x-axis label |\n",
    "| `plt.ylabel()`  |  add y-axis label |\n",
    "| `plt.show()`  |  display plot |"
   ]
  },
  {
   "cell_type": "markdown",
   "metadata": {},
   "source": [
    "### Practice:"
   ]
  },
  {
   "cell_type": "markdown",
   "metadata": {},
   "source": [
    "Let's visualize `df`...for no good reason other than to practice plotting. First, import the package we'll need:"
   ]
  },
  {
   "cell_type": "code",
   "execution_count": 80,
   "metadata": {},
   "outputs": [],
   "source": [
    "import matplotlib.pyplot as plt"
   ]
  },
  {
   "cell_type": "markdown",
   "metadata": {},
   "source": [
    "Plot it:"
   ]
  },
  {
   "cell_type": "code",
   "execution_count": 81,
   "metadata": {},
   "outputs": [
    {
     "data": {
      "image/png": "[encoded data removed]",
      "text/plain": [
       "<Figure size 432x288 with 1 Axes>"
      ]
     },
     "metadata": {
      "needs_background": "light"
     },
     "output_type": "display_data"
    }
   ],
   "source": [
    "df.plot()\n",
    "plt.show()"
   ]
  },
  {
   "cell_type": "markdown",
   "metadata": {},
   "source": [
    "As boring as it is uninformative. Dress it up. Add a title:"
   ]
  },
  {
   "cell_type": "code",
   "execution_count": 83,
   "metadata": {},
   "outputs": [
    {
     "data": {
      "text/plain": [
       "Text(0.5, 1.0, 'Odds & Evens')"
      ]
     },
     "execution_count": 83,
     "metadata": {},
     "output_type": "execute_result"
    },
    {
     "data": {
      "image/png": "[encoded data removed]",
      "text/plain": [
       "<Figure size 432x288 with 1 Axes>"
      ]
     },
     "metadata": {
      "needs_background": "light"
     },
     "output_type": "display_data"
    }
   ],
   "source": [
    "plt.title('Odds & Evens')"
   ]
  },
  {
   "cell_type": "markdown",
   "metadata": {},
   "source": [
    "Huh. There's the title...where's the graph? Let's put the graph elements between `df.plot()` and `plt.show()`, and try again with some axis labels too:"
   ]
  },
  {
   "cell_type": "code",
   "execution_count": 85,
   "metadata": {},
   "outputs": [
    {
     "data": {
      "image/png": "[encoded data removed]",
      "text/plain": [
       "<Figure size 432x288 with 1 Axes>"
      ]
     },
     "metadata": {
      "needs_background": "light"
     },
     "output_type": "display_data"
    }
   ],
   "source": [
    "df.plot()\n",
    "plt.title('Where Odds Meet Evens')\n",
    "plt.xlabel('df Column \"0\"')\n",
    "plt.ylabel('df Column \"1\"')\n",
    "plt.show()"
   ]
  },
  {
   "cell_type": "markdown",
   "metadata": {},
   "source": [
    "Even with a title and axis labels, it's still plenty uninformative. That's because the datapoints don't relate to each other in any meaningful way (for our purposes here). At least we got to practice plotting. \n",
    "\n",
    "For better practice (and a better output), repeat the steps above on your own to create and plot a new DataFrame, only this time with these two lists:"
   ]
  },
  {
   "cell_type": "code",
   "execution_count": 86,
   "metadata": {},
   "outputs": [],
   "source": [
    "# Dogs I've met:\n",
    "dogs = ['Zinnia', 'Greta', 'Coco', 'Rascal', 'Benji']\n",
    "\n",
    "# Average number of kisses they each like to give per week\n",
    "kisses = [50, 35, 15, 0, 42]"
   ]
  },
  {
   "cell_type": "markdown",
   "metadata": {},
   "source": [
    "Ready? Mkay. Zip the lists and store the output in a variable called...whatever you want to call it:"
   ]
  },
  {
   "cell_type": "code",
   "execution_count": 87,
   "metadata": {},
   "outputs": [],
   "source": [
    "graph = zip(dogs, kisses)"
   ]
  },
  {
   "cell_type": "markdown",
   "metadata": {},
   "source": [
    "Check the variable's type:"
   ]
  },
  {
   "cell_type": "code",
   "execution_count": 88,
   "metadata": {},
   "outputs": [
    {
     "data": {
      "text/plain": [
       "zip"
      ]
     },
     "execution_count": 88,
     "metadata": {},
     "output_type": "execute_result"
    }
   ],
   "source": [
    "type(graph)"
   ]
  },
  {
   "cell_type": "markdown",
   "metadata": {},
   "source": [
    "\"Zip\", yeah? OK, convert it to a list and re-store it as itself:"
   ]
  },
  {
   "cell_type": "code",
   "execution_count": 89,
   "metadata": {},
   "outputs": [],
   "source": [
    "graph = list(graph)"
   ]
  },
  {
   "cell_type": "markdown",
   "metadata": {},
   "source": [
    "Check the type now:"
   ]
  },
  {
   "cell_type": "code",
   "execution_count": 90,
   "metadata": {},
   "outputs": [
    {
     "data": {
      "text/plain": [
       "list"
      ]
     },
     "execution_count": 90,
     "metadata": {},
     "output_type": "execute_result"
    }
   ],
   "source": [
    "type(graph)"
   ]
  },
  {
   "cell_type": "markdown",
   "metadata": {},
   "source": [
    "\"List\" now? Good. Print it:"
   ]
  },
  {
   "cell_type": "code",
   "execution_count": 91,
   "metadata": {},
   "outputs": [
    {
     "name": "stdout",
     "output_type": "stream",
     "text": [
      "[('Zinnia', 50), ('Greta', 35), ('Coco', 15), ('Rascal', 0), ('Benji', 42)]\n"
     ]
    }
   ],
   "source": [
    "print(graph)"
   ]
  },
  {
   "cell_type": "markdown",
   "metadata": {},
   "source": [
    "Tuple pairs with the format ('Dog', #)? Good. Convert it to a DataFrame with a simple name:"
   ]
  },
  {
   "cell_type": "code",
   "execution_count": 92,
   "metadata": {},
   "outputs": [],
   "source": [
    "mwa = pd.DataFrame(graph)"
   ]
  },
  {
   "cell_type": "markdown",
   "metadata": {},
   "source": [
    "Check your new variable's type:"
   ]
  },
  {
   "cell_type": "code",
   "execution_count": 93,
   "metadata": {},
   "outputs": [
    {
     "data": {
      "text/plain": [
       "pandas.core.frame.DataFrame"
      ]
     },
     "execution_count": 93,
     "metadata": {},
     "output_type": "execute_result"
    }
   ],
   "source": [
    "type(mwa)"
   ]
  },
  {
   "cell_type": "markdown",
   "metadata": {},
   "source": [
    "\"pandas.core.frame.DataFrame\"? Good. Print it:"
   ]
  },
  {
   "cell_type": "code",
   "execution_count": 105,
   "metadata": {},
   "outputs": [
    {
     "name": "stdout",
     "output_type": "stream",
     "text": [
      "        0   1\n",
      "0  Zinnia  50\n",
      "1   Greta  35\n",
      "2    Coco  15\n",
      "3  Rascal   0\n",
      "4   Benji  42\n"
     ]
    }
   ],
   "source": [
    "print(mwa)"
   ]
  },
  {
   "cell_type": "markdown",
   "metadata": {},
   "source": [
    "Dog names in the \"0\" column and number of kisses in the \"1\" column, with 0 through 4 row index numbers on the left? Good. Rascal's a jerk? Good. Plot it, complete with a title and axis labels of your choosing (if you're adventurous, change the line colour:"
   ]
  },
  {
   "cell_type": "code",
   "execution_count": 101,
   "metadata": {},
   "outputs": [
    {
     "data": {
      "image/png": "[encoded data removed]",
      "text/plain": [
       "<Figure size 432x288 with 1 Axes>"
      ]
     },
     "metadata": {
      "needs_background": "light"
     },
     "output_type": "display_data"
    }
   ],
   "source": [
    "mwa.plot()\n",
    "plt.title('Puppy Love')\n",
    "plt.xlabel('Dogs')\n",
    "plt.ylabel('# of Kisses')\n",
    "plt.show()"
   ]
  },
  {
   "cell_type": "markdown",
   "metadata": {},
   "source": [
    "See a nice plot? Good. See numbers along the x-axis rather than doggie names? Good. Well, bad for our graph, but it doesn't mean you did it wrong. Maybe a line graph isn't the best option for this data set. Hmmm..."
   ]
  },
  {
   "cell_type": "markdown",
   "metadata": {},
   "source": [
    "## Chapter 2\n",
    "There are often many ways to do the same thing in python. This chapter introduces exploratory data analysis (EDA), both visual and statistical. \n",
    "\n",
    "\n",
    "### Visual EDA"
   ]
  },
  {
   "cell_type": "markdown",
   "metadata": {},
   "source": [
    "|           |                                       |\n",
    "|-----------|---------------------------------------|\n",
    "| Histogram |  |\n",
    "| `plt.hist()` | plot a histogram   |\n",
    "| `df.plot(kind='hist')` | another way to plot a histogram (both are acceptable) |\n",
    "|      | `x=` assign variable to x-axis |\n",
    "|      | `y=` assign variable to y-axis |\n",
    "|      | `bins=` specify number of bins |\n",
    "|      | `range=` specify bin range |\n",
    "|      | `normed=True` necessary for plotting PDF and CDF |\n",
    "|      | `cumulative=True` necessary for plotting CDF (which shows the cumulative count moving from left to right, rather than the count only within a particular bin on the x-axis. In other words, the number of values at or below that value on the x-axis)  |\n",
    "| Scatterplot | \n",
    "| `df.plot(kind='scatter')` | plot a scatterplot |\n",
    "| | `x=` and `y=` arguments apply to scatterplots as well\n",
    "|      | `s=` specify radius of each circle in pixels  |\n",
    "| Boxplot | \n",
    "| `df.plot(kind='box')` | plot a boxplot |\n",
    "| | `x=` and `y=` arguments apply to boxplots as well\n",
    "\n",
    "\n"
   ]
  },
  {
   "cell_type": "markdown",
   "metadata": {},
   "source": [
    "### Statistical EDA"
   ]
  },
  {
   "cell_type": "markdown",
   "metadata": {},
   "source": [
    "|           |                                       |\n",
    "|-----------|---------------------------------------|\n",
    "| `.describe()` | provide summary statistics of numerical columns of a DataFrame   |\n",
    "| `.count()` | · return number of non null entries in a given numerical column |\n",
    "|      | · when applied to series: returns an integer |\n",
    "|      | · when applied to DataFrame: returns a series |\n",
    "| `.mean()` | compute the average |\n",
    "| `.std()` | compute the standard deviation of all non-null entries of a series |\n",
    "| `.median()` | computes the middle of the data |\n",
    "| `.quantile()` | percentiles, can accept a list, e.g., `.quantile([.25, .75])`\n",
    "|      | · note that the 25th to 75th quantiles (percentiles) form the borders of the box in a box plot |\n",
    "| `.corr()` | compute Pearson Correlation Coefficient |\n",
    "| `.min()` | compute the minimum datapoint value |\n",
    "| `.max()` | compute the maximum datapoint value |"
   ]
  },
  {
   "cell_type": "markdown",
   "metadata": {},
   "source": [
    "### Separating Populations"
   ]
  },
  {
   "cell_type": "markdown",
   "metadata": {},
   "source": [
    "|           |                                       |\n",
    "|-----------|---------------------------------------|\n",
    "| `.unique()` | return an array, set of distinct values, or categories |\n",
    "| `.loc[]`  | · important tool for locating (indexing) pandas DataFrames |\n",
    "|           | · uses the standard [rows, columns] format |\n",
    "|           | · uses index and column labels rather than numbers |\n",
    "|           | · e.g., "
   ]
  },
  {
   "cell_type": "markdown",
   "metadata": {},
   "source": [
    "### Practice:"
   ]
  },
  {
   "cell_type": "markdown",
   "metadata": {},
   "source": [
    "Let's explore the doggie DataFrame you just made. If you didn't, you can run the next cell to generate ours. If you did make your own though (yay!), just replace our DataFrame's name `mwa` with yours:"
   ]
  },
  {
   "cell_type": "code",
   "execution_count": 108,
   "metadata": {},
   "outputs": [],
   "source": [
    "graph = list(zip(dogs, kisses))\n",
    "mwa = pd.DataFrame(graph)"
   ]
  },
  {
   "cell_type": "markdown",
   "metadata": {},
   "source": [
    "This data set wasn't represented very well by a line graph above. Let's try three graph types, this time assigning DataFrame columns to x and y plot axes with `x=` and `y=`:"
   ]
  },
  {
   "cell_type": "code",
   "execution_count": 133,
   "metadata": {},
   "outputs": [
    {
     "data": {
      "image/png": "[encoded data removed]",
      "text/plain": [
       "<Figure size 432x288 with 1 Axes>"
      ]
     },
     "metadata": {
      "needs_background": "light"
     },
     "output_type": "display_data"
    }
   ],
   "source": [
    "# Histogram\n",
    "mwa.plot(kind='hist', x=0, y=1)\n",
    "plt.show()"
   ]
  },
  {
   "cell_type": "markdown",
   "metadata": {},
   "source": [
    "Nah. We still have no dog names on the x-axis, and we want number of kisses on the y-axis, not frequency."
   ]
  },
  {
   "cell_type": "code",
   "execution_count": 144,
   "metadata": {},
   "outputs": [
    {
     "data": {
      "image/png": "[encoded data removed]",
      "text/plain": [
       "<Figure size 432x288 with 1 Axes>"
      ]
     },
     "metadata": {
      "needs_background": "light"
     },
     "output_type": "display_data"
    }
   ],
   "source": [
    "# Scatterplot\n",
    "mwa.plot(kind='scatter', x=0, y=1)\n",
    "plt.show()"
   ]
  },
  {
   "cell_type": "markdown",
   "metadata": {},
   "source": [
    "Dogs, check. Kisses, check. Much better. Looks like our lineplot, but with better labels and no line. "
   ]
  },
  {
   "cell_type": "code",
   "execution_count": 136,
   "metadata": {},
   "outputs": [
    {
     "data": {
      "image/png": "[encoded data removed]",
      "text/plain": [
       "<Figure size 432x288 with 1 Axes>"
      ]
     },
     "metadata": {
      "needs_background": "light"
     },
     "output_type": "display_data"
    }
   ],
   "source": [
    "# Boxplot\n",
    "mwa.plot(kind='box', x=0, y=1)\n",
    "plt.show()"
   ]
  },
  {
   "cell_type": "markdown",
   "metadata": {},
   "source": [
    "Newp."
   ]
  },
  {
   "cell_type": "markdown",
   "metadata": {},
   "source": [
    "Scatterplot wins. Revisit it and dress it up nice. Let's even increase the dot size with the `s=` argument:"
   ]
  },
  {
   "cell_type": "code",
   "execution_count": 143,
   "metadata": {},
   "outputs": [
    {
     "data": {
      "image/png": "[encoded data removed]",
      "text/plain": [
       "<Figure size 432x288 with 1 Axes>"
      ]
     },
     "metadata": {
      "needs_background": "light"
     },
     "output_type": "display_data"
    }
   ],
   "source": [
    "# Scatterplot\n",
    "mwa.plot(kind='scatter', x=0, y=1, s=40)\n",
    "plt.title('Puppy Love')\n",
    "plt.xlabel('Dogs')\n",
    "plt.ylabel('# of Kisses')\n",
    "plt.show()"
   ]
  },
  {
   "cell_type": "markdown",
   "metadata": {},
   "source": [
    "Nice. Now we can show our human friends how much our dog friends love us (or don't...looking at you, Rascal). This info is helpful, but it doesn't tell the whole story. Let's get to know more about our DataFrame with some python methods. Let's get statistical."
   ]
  },
  {
   "cell_type": "markdown",
   "metadata": {},
   "source": [
    "Print the DataFrame and notice the column headers at the top and row indexes on the left:"
   ]
  },
  {
   "cell_type": "code",
   "execution_count": 175,
   "metadata": {},
   "outputs": [
    {
     "name": "stdout",
     "output_type": "stream",
     "text": [
      "        0   1\n",
      "0  Zinnia  50\n",
      "1   Greta  35\n",
      "2    Coco  15\n",
      "3  Rascal   0\n",
      "4   Benji  42\n"
     ]
    }
   ],
   "source": [
    "print(mwa)"
   ]
  },
  {
   "cell_type": "markdown",
   "metadata": {},
   "source": [
    " Get some basic info using `describe`:"
   ]
  },
  {
   "cell_type": "code",
   "execution_count": 146,
   "metadata": {},
   "outputs": [
    {
     "data": {
      "text/plain": [
       "<bound method NDFrame.describe of         0   1\n",
       "0  Zinnia  50\n",
       "1   Greta  35\n",
       "2    Coco  15\n",
       "3  Rascal   0\n",
       "4   Benji  42>"
      ]
     },
     "execution_count": 146,
     "metadata": {},
     "output_type": "execute_result"
    }
   ],
   "source": [
    "mwa.describe"
   ]
  },
  {
   "cell_type": "markdown",
   "metadata": {},
   "source": [
    "Not super helpful for this small data set. Let's explore further. Print the minimum number of kisses using `.loc[]` to slice the \"1\" column:"
   ]
  },
  {
   "cell_type": "code",
   "execution_count": 173,
   "metadata": {},
   "outputs": [
    {
     "name": "stdout",
     "output_type": "stream",
     "text": [
      "0\n"
     ]
    }
   ],
   "source": [
    "print(mwa.loc[:, 1].min())"
   ]
  },
  {
   "cell_type": "markdown",
   "metadata": {},
   "source": [
    "Examine the DataFrame shape (# of rows, # of columns):"
   ]
  },
  {
   "cell_type": "code",
   "execution_count": 179,
   "metadata": {},
   "outputs": [
    {
     "data": {
      "text/plain": [
       "(5, 2)"
      ]
     },
     "execution_count": 179,
     "metadata": {},
     "output_type": "execute_result"
    }
   ],
   "source": [
    "mwa.shape"
   ]
  },
  {
   "cell_type": "markdown",
   "metadata": {},
   "source": [
    "Print the maximum number of kisses using `.loc[]`:"
   ]
  },
  {
   "cell_type": "code",
   "execution_count": 174,
   "metadata": {},
   "outputs": [
    {
     "name": "stdout",
     "output_type": "stream",
     "text": [
      "50\n"
     ]
    }
   ],
   "source": [
    "print(mwa.loc[:, 1].max())"
   ]
  },
  {
   "cell_type": "markdown",
   "metadata": {},
   "source": [
    "Compute and print the median, mean, and standard deviation of kisses across all dogs. Use `.loc` to slice the number of kisses column (currently still named \"1\"):"
   ]
  },
  {
   "cell_type": "code",
   "execution_count": 181,
   "metadata": {},
   "outputs": [
    {
     "name": "stdout",
     "output_type": "stream",
     "text": [
      "35.0\n",
      "28.4\n",
      "20.501219475923865\n"
     ]
    }
   ],
   "source": [
    "print(mwa.loc[:, 1].median())\n",
    "print(mwa.loc[:, 1].mean())\n",
    "print(mwa.loc[:, 1].std())"
   ]
  },
  {
   "cell_type": "markdown",
   "metadata": {},
   "source": [
    "It's hard to keep track of that output. Let's toss it into some sentences, and we'll convert the numerical calculation outputs (float types) to strings with `str()`:"
   ]
  },
  {
   "cell_type": "code",
   "execution_count": 160,
   "metadata": {},
   "outputs": [
    {
     "name": "stdout",
     "output_type": "stream",
     "text": [
      "Median: 35.0\n",
      "Mean: 28.4\n"
     ]
    },
    {
     "ename": "TypeError",
     "evalue": "can only concatenate str (not \"float\") to str",
     "output_type": "error",
     "traceback": [
      "\u001b[0;31m---------------------------------------------------------------------------\u001b[0m",
      "\u001b[0;31mTypeError\u001b[0m                                 Traceback (most recent call last)",
      "\u001b[0;32m<ipython-input-160-d765a2eee4a2>\u001b[0m in \u001b[0;36m<module>\u001b[0;34m\u001b[0m\n\u001b[1;32m      1\u001b[0m \u001b[0mprint\u001b[0m\u001b[0;34m(\u001b[0m\u001b[0;34m\"Median: \"\u001b[0m \u001b[0;34m+\u001b[0m \u001b[0mstr\u001b[0m\u001b[0;34m(\u001b[0m\u001b[0mmwa\u001b[0m\u001b[0;34m.\u001b[0m\u001b[0mloc\u001b[0m\u001b[0;34m[\u001b[0m\u001b[0;34m:\u001b[0m\u001b[0;34m,\u001b[0m \u001b[0;36m1\u001b[0m\u001b[0;34m]\u001b[0m\u001b[0;34m.\u001b[0m\u001b[0mmedian\u001b[0m\u001b[0;34m(\u001b[0m\u001b[0;34m)\u001b[0m\u001b[0;34m)\u001b[0m\u001b[0;34m)\u001b[0m\u001b[0;34m\u001b[0m\u001b[0;34m\u001b[0m\u001b[0m\n\u001b[1;32m      2\u001b[0m \u001b[0mprint\u001b[0m\u001b[0;34m(\u001b[0m\u001b[0;34m\"Mean: \"\u001b[0m \u001b[0;34m+\u001b[0m \u001b[0mstr\u001b[0m\u001b[0;34m(\u001b[0m\u001b[0mmwa\u001b[0m\u001b[0;34m.\u001b[0m\u001b[0mloc\u001b[0m\u001b[0;34m[\u001b[0m\u001b[0;34m:\u001b[0m\u001b[0;34m,\u001b[0m \u001b[0;36m1\u001b[0m\u001b[0;34m]\u001b[0m\u001b[0;34m.\u001b[0m\u001b[0mmean\u001b[0m\u001b[0;34m(\u001b[0m\u001b[0;34m)\u001b[0m\u001b[0;34m)\u001b[0m\u001b[0;34m)\u001b[0m\u001b[0;34m\u001b[0m\u001b[0;34m\u001b[0m\u001b[0m\n\u001b[0;32m----> 3\u001b[0;31m \u001b[0mprint\u001b[0m\u001b[0;34m(\u001b[0m\u001b[0;34m\"Standard Deviation: \"\u001b[0m \u001b[0;34m+\u001b[0m \u001b[0mmwa\u001b[0m\u001b[0;34m.\u001b[0m\u001b[0mloc\u001b[0m\u001b[0;34m[\u001b[0m\u001b[0;34m:\u001b[0m\u001b[0;34m,\u001b[0m \u001b[0;36m1\u001b[0m\u001b[0;34m]\u001b[0m\u001b[0;34m.\u001b[0m\u001b[0mstd\u001b[0m\u001b[0;34m(\u001b[0m\u001b[0;34m)\u001b[0m\u001b[0;34m)\u001b[0m\u001b[0;34m\u001b[0m\u001b[0;34m\u001b[0m\u001b[0m\n\u001b[0m",
      "\u001b[0;31mTypeError\u001b[0m: can only concatenate str (not \"float\") to str"
     ]
    }
   ],
   "source": [
    "print(\"Median: \" + str(mwa.loc[:, 1].median()))\n",
    "print(\"Mean: \" + str(mwa.loc[:, 1].mean()))\n",
    "print(\"Standard Deviation: \" + mwa.loc[:, 1].std())"
   ]
  },
  {
   "cell_type": "markdown",
   "metadata": {},
   "source": [
    "Did the previous cell throw an error? No prob. Copy and paste the code into the next cell, try to debug it (i.e., find and fix the error), and run it again. Repeat until there's no error message:"
   ]
  },
  {
   "cell_type": "code",
   "execution_count": 161,
   "metadata": {},
   "outputs": [],
   "source": [
    "# Replace this comment with your debugged code"
   ]
  },
  {
   "cell_type": "markdown",
   "metadata": {},
   "source": [
    "Good work. That's a lot of interactive stuff. Continue on for a Time Series cheatsheet."
   ]
  },
  {
   "cell_type": "markdown",
   "metadata": {},
   "source": [
    "## Chapter 3: Time Series\n",
    "\n",
    " "
   ]
  },
  {
   "cell_type": "code",
   "execution_count": null,
   "metadata": {},
   "outputs": [],
   "source": []
  },
  {
   "cell_type": "markdown",
   "metadata": {},
   "source": [
    "|           |                                       |\n",
    "|-----------|---------------------------------------|\n",
    "| Indexing time series |  |\n",
    "| `pd.to_datetime()` | build datetime objects |\n",
    "| | `format=` specify format of datetime object |\n",
    "| `.loc[]`  | · can use regular .loc indexing to slice pandas time series |\n",
    "|           | · partial string indexing - can index time series using only part of the datetime  |\n",
    "| `.reindex()`  | align indexes when combining multiple time series data sets |\n",
    "| | `method=ffill` \"forward fill\": fills empty entries using nearest preceding non-null entry |\n",
    "| | `method=bfill` \"backward fill\" fills empty entries using nearest following non-null entry |\n",
    "| Resampling | | \n",
    "| `.resample()`  | · resample to lower/higher frequency |\n",
    "| | · Downsampling: resampling to lower frequency (e.g., from hours to days) |\n",
    "| | · Upsampling: resampling to higher frequency (e.g., from days to hours) |\n",
    "| | · requires a string to specify frequency (ie. 'D' for day) |\n",
    "| | · normally chained with a statistical method |\n",
    "| | `.interpolate('linear')` applies linear interpolation to fill in values when chained with .resample() |\n",
    "| `.rolling()`  | · perform rolling window calculations - highlights trends in the data over time |\n",
    "| | `window=` specify the time period that the calculation is based on |\n",
    "| | · always chained with a statistical method |\n",
    "| Manipulating time series |\n",
    "| `.str.contains('')`  | determine a Boolean array of which rows have strings that contain supplied ' ' |\n",
    "| `.str.strip()`  | removes extra whitespace from a DataFrame |\n",
    "| `.dt`  | datetime transformations |\n",
    "| | `dt.tz_localize` localize to a certain time zone |\n",
    "| | `dt.tz_convert` convert between time zones |\n",
    "| Visualization | |\n",
    "| Plot options | `style=''` specify Colour, Marker type, and Line type (in that order) with a three-digit string |\n",
    "| | · e.g., `style='r*-'` means red, star-shaped marker (datapoints), and dashed line |\n",
    "| | · Colours: `b` blue, `r` red, `g` green, `c` cyan, `k` black |\n",
    "| | · Markers: `.` dot, `o` circle, `*` star, `+` plus sign, `s` square |\n",
    "| | · Line: `-` solid, ` ` (one blank space) no line |\n",
    "\n",
    "\n"
   ]
  }
 ],
 "metadata": {
  "kernelspec": {
   "display_name": "Python 3",
   "language": "python",
   "name": "python3"
  },
  "language_info": {
   "codemirror_mode": {
    "name": "ipython",
    "version": 3
   },
   "file_extension": ".py",
   "mimetype": "text/x-python",
   "name": "python",
   "nbconvert_exporter": "python",
   "pygments_lexer": "ipython3",
   "version": "3.7.4"
  }
 },
 "nbformat": 4,
 "nbformat_minor": 4
}
