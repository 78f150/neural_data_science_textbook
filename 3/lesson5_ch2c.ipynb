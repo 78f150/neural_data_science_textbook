{
 "cells": [
  {
   "cell_type": "markdown",
   "metadata": {},
   "source": [
    "## Concatenation"
   ]
  },
  {
   "cell_type": "markdown",
   "metadata": {},
   "source": [
    "Another way to combine pandas objects (Series or DataFrames) is concatenation. The `pd.concat()` function is a more powerful and flexible tool than the `.append()` method. Whereas appending always adds rows to the bottom of a DataFrame, concatenation can do this, *or* add columns to a DataFrame.\n",
    "\n",
    "[API for `pd.concat()`](https://pandas.pydata.org/pandas-docs/stable/reference/api/pandas.concat.html?highlight=concat#pandas.concat)\n",
    "\n",
    "There's also a nice, detailed explanation of appending, concatenating, merging, and joining DataFrames [here](https://pandas.pydata.org/pandas-docs/stable/user_guide/merging.html)\n",
    "\n",
    "Here's how we would use `pd.concat()` to do the same thing we did above, with `.append()`. There are two major difference to pay attention to. Firstly, `pd.concat()` is a *function*, whereas `.append()` is a *method*. Recall that methods are applied by dot-adding them to the variable name you want to modify (e.g., `pink.append(blue)`). With a function, we have to specify `pd` before the dot and the function name after, and give it all the input data as the first argument inside the parentheses. It's also important to pay attention to how we specify the input data: since the functions arguments are separated by commas, you can't just list the input data like this:\n",
    "`pd.concat(pink, blue)`, because `'pink` will be interpreted as the input data, and `blue` as a second argument. We need to put the input data inside a list, like this:"
   ]
  },
  {
   "cell_type": "code",
   "execution_count": 9,
   "metadata": {},
   "outputs": [
    {
     "data": {
      "text/plain": [
       "0          rose\n",
       "1       fuchsia\n",
       "2          ruby\n",
       "3       magenta\n",
       "0     turquoise\n",
       "1      sky blue\n",
       "2          navy\n",
       "3    ocean blue\n",
       "dtype: object"
      ]
     },
     "execution_count": 9,
     "metadata": {},
     "output_type": "execute_result"
    }
   ],
   "source": [
    "pb = pd.concat([pink, blue])\n",
    "pb"
   ]
  },
  {
   "cell_type": "markdown",
   "metadata": {},
   "source": [
    "As with `.append()`, the original index values are preserved, which we might not want. While with `.append()` we had to run a separate method to reset the index, with `pd.concat()` we can do this at the same time as the concatenation, using the `ignore_index` argument:"
   ]
  },
  {
   "cell_type": "code",
   "execution_count": 10,
   "metadata": {},
   "outputs": [
    {
     "data": {
      "text/plain": [
       "0          rose\n",
       "1       fuchsia\n",
       "2          ruby\n",
       "3       magenta\n",
       "4     turquoise\n",
       "5      sky blue\n",
       "6          navy\n",
       "7    ocean blue\n",
       "dtype: object"
      ]
     },
     "execution_count": 10,
     "metadata": {},
     "output_type": "execute_result"
    }
   ],
   "source": [
    "pb = pd.concat([pink, blue], ignore_index=True)\n",
    "pb"
   ]
  }
 ],
 "metadata": {
  "kernelspec": {
   "display_name": "Python 3",
   "language": "python",
   "name": "python3"
  },
  "language_info": {
   "codemirror_mode": {
    "name": "ipython",
    "version": 3
   },
   "file_extension": ".py",
   "mimetype": "text/x-python",
   "name": "python",
   "nbconvert_exporter": "python",
   "pygments_lexer": "ipython3",
   "version": "3.7.9"
  }
 },
 "nbformat": 4,
 "nbformat_minor": 4
}
