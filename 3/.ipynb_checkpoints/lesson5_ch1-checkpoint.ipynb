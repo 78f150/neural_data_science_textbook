{
 "cells": [
  {
   "cell_type": "markdown",
   "metadata": {},
   "source": [
    "# Lesson 5: Merging DataFrames with pandas\n",
    "\n",
    "[View this lesson on datacamp](https://learn.datacamp.com/courses/merging-dataframes-with-pandas)"
   ]
  },
  {
   "cell_type": "markdown",
   "metadata": {},
   "source": [
    "## Chapter 1: Preparing Data"
   ]
  },
  {
   "cell_type": "code",
   "execution_count": 1,
   "metadata": {},
   "outputs": [],
   "source": [
    "import pandas as pd"
   ]
  },
  {
   "cell_type": "markdown",
   "metadata": {},
   "source": [
    "To read a single file into a dataframe, use the following format:\n",
    "\n",
    "`variable = pd.read_csv('filename.csv')`\n",
    "\n",
    "For example, this reads a file named `fav_colour.csv` and saves it as a pandas DataFrame called `colour_dat`:"
   ]
  },
  {
   "cell_type": "code",
   "execution_count": 5,
   "metadata": {},
   "outputs": [],
   "source": [
    "colour_dat = pd.read_csv('fav_colour.csv')"
   ]
  },
  {
   "cell_type": "markdown",
   "metadata": {},
   "source": [
    "We can see the resulting DataFrame by executing the name of the variable:"
   ]
  },
  {
   "cell_type": "code",
   "execution_count": 6,
   "metadata": {},
   "outputs": [
    {
     "data": {
      "text/html": [
       "<div>\n",
       "<style scoped>\n",
       "    .dataframe tbody tr th:only-of-type {\n",
       "        vertical-align: middle;\n",
       "    }\n",
       "\n",
       "    .dataframe tbody tr th {\n",
       "        vertical-align: top;\n",
       "    }\n",
       "\n",
       "    .dataframe thead th {\n",
       "        text-align: right;\n",
       "    }\n",
       "</style>\n",
       "<table border=\"1\" class=\"dataframe\">\n",
       "  <thead>\n",
       "    <tr style=\"text-align: right;\">\n",
       "      <th></th>\n",
       "      <th>Participant num</th>\n",
       "      <th>Fav Colour</th>\n",
       "    </tr>\n",
       "  </thead>\n",
       "  <tbody>\n",
       "    <tr>\n",
       "      <th>0</th>\n",
       "      <td>1</td>\n",
       "      <td>blue</td>\n",
       "    </tr>\n",
       "    <tr>\n",
       "      <th>1</th>\n",
       "      <td>2</td>\n",
       "      <td>red</td>\n",
       "    </tr>\n",
       "    <tr>\n",
       "      <th>2</th>\n",
       "      <td>3</td>\n",
       "      <td>green</td>\n",
       "    </tr>\n",
       "    <tr>\n",
       "      <th>3</th>\n",
       "      <td>4</td>\n",
       "      <td>purple</td>\n",
       "    </tr>\n",
       "    <tr>\n",
       "      <th>4</th>\n",
       "      <td>5</td>\n",
       "      <td>red</td>\n",
       "    </tr>\n",
       "    <tr>\n",
       "      <th>5</th>\n",
       "      <td>6</td>\n",
       "      <td>green</td>\n",
       "    </tr>\n",
       "    <tr>\n",
       "      <th>6</th>\n",
       "      <td>7</td>\n",
       "      <td>orange</td>\n",
       "    </tr>\n",
       "    <tr>\n",
       "      <th>7</th>\n",
       "      <td>8</td>\n",
       "      <td>yellow</td>\n",
       "    </tr>\n",
       "    <tr>\n",
       "      <th>8</th>\n",
       "      <td>9</td>\n",
       "      <td>yellow</td>\n",
       "    </tr>\n",
       "    <tr>\n",
       "      <th>9</th>\n",
       "      <td>10</td>\n",
       "      <td>pink</td>\n",
       "    </tr>\n",
       "  </tbody>\n",
       "</table>\n",
       "</div>"
      ],
      "text/plain": [
       "   Participant num Fav Colour\n",
       "0                1       blue\n",
       "1                2        red\n",
       "2                3      green\n",
       "3                4    purple \n",
       "4                5        red\n",
       "5                6      green\n",
       "6                7     orange\n",
       "7                8    yellow \n",
       "8                9    yellow \n",
       "9               10       pink"
      ]
     },
     "execution_count": 6,
     "metadata": {},
     "output_type": "execute_result"
    }
   ],
   "source": [
    "colour_dat"
   ]
  },
  {
   "cell_type": "markdown",
   "metadata": {},
   "source": [
    "### Use a `for` loop to read in multiple files:\n",
    "\n",
    "In many data science cases, we have data in multiple files. For example, if we run an experiment with human participants, we might have a data file from each participant, but for group analysis we'll want to combine them all into one big DataFrame. This is a great use case for looping, since we're doing the same thing (reading a file into a DataFrame) multiple times. \n",
    "\n",
    "First, create a list of the files, Later we will loop through this list."
   ]
  },
  {
   "cell_type": "code",
   "execution_count": 8,
   "metadata": {},
   "outputs": [],
   "source": [
    "filenames = ['s1.csv', 's2.csv', 's3.csv']"
   ]
  },
  {
   "cell_type": "markdown",
   "metadata": {},
   "source": [
    "Next, we create an empty list to append the files to. Note that what we're doing here doesn't actually create one big DataFrame (we'll see how to do that in the next chapter). For now, we're creating a list in which each list item is the DataFrame from one of the files we read. We name the list in a way that makes it obvious that it's a list of DataFrames."
   ]
  },
  {
   "cell_type": "code",
   "execution_count": 9,
   "metadata": {},
   "outputs": [],
   "source": [
    "df_list = []"
   ]
  },
  {
   "cell_type": "markdown",
   "metadata": {},
   "source": [
    "Finally, use a `for` loop to read the files in. This will cycle through the items in the `filenames` list; each time through the loop, `filename` has the value of the current file name, and we used the DataFrame `append()` method to add the data from that file to "
   ]
  },
  {
   "cell_type": "code",
   "execution_count": 10,
   "metadata": {},
   "outputs": [],
   "source": [
    "for filename in filenames:\n",
    "    df_list.append(pd.read_csv(filename))"
   ]
  },
  {
   "cell_type": "markdown",
   "metadata": {},
   "source": [
    "WHen we view the contents of the list, we see each dataset, with its two columns (with headers sayign what they are), and commas separating the list entries, as is normal. "
   ]
  },
  {
   "cell_type": "code",
   "execution_count": 12,
   "metadata": {},
   "outputs": [
    {
     "data": {
      "text/plain": [
       "[   trial        RT\n",
       " 0      1  0.508971\n",
       " 1      2  0.389858\n",
       " 2      3  0.404175\n",
       " 3      4  0.269520\n",
       " 4      5  0.437765\n",
       " 5      6  0.368142\n",
       " 6      7  0.400544\n",
       " 7      8  0.335198\n",
       " 8      9  0.341722\n",
       " 9     10  0.439583,\n",
       "    trial        RT\n",
       " 0      1  0.433094\n",
       " 1      2  0.392526\n",
       " 2      3  0.396831\n",
       " 3      4  0.417988\n",
       " 4      5  0.371810\n",
       " 5      6  0.659228\n",
       " 6      7  0.411051\n",
       " 7      8  0.409580\n",
       " 8      9  0.486828\n",
       " 9     10  0.468912,\n",
       "    trial        RT\n",
       " 0      1  0.322099\n",
       " 1      2  0.396106\n",
       " 2      3  0.384297\n",
       " 3      4  0.364524\n",
       " 4      5  0.454075\n",
       " 5      6  0.494156\n",
       " 6      7  0.492787\n",
       " 7      8  0.506836\n",
       " 8      9  0.340722\n",
       " 9     10  0.704491]"
      ]
     },
     "execution_count": 12,
     "metadata": {},
     "output_type": "execute_result"
    }
   ],
   "source": [
    "df_list"
   ]
  },
  {
   "cell_type": "markdown",
   "metadata": {},
   "source": [
    "The output above isn't nicely formatted as a pandas DataFrame, because Python is treating the DataFrames as list entries. But, if we ask to see one of the list entries, things look prettier: "
   ]
  },
  {
   "cell_type": "code",
   "execution_count": 13,
   "metadata": {},
   "outputs": [
    {
     "data": {
      "text/html": [
       "<div>\n",
       "<style scoped>\n",
       "    .dataframe tbody tr th:only-of-type {\n",
       "        vertical-align: middle;\n",
       "    }\n",
       "\n",
       "    .dataframe tbody tr th {\n",
       "        vertical-align: top;\n",
       "    }\n",
       "\n",
       "    .dataframe thead th {\n",
       "        text-align: right;\n",
       "    }\n",
       "</style>\n",
       "<table border=\"1\" class=\"dataframe\">\n",
       "  <thead>\n",
       "    <tr style=\"text-align: right;\">\n",
       "      <th></th>\n",
       "      <th>trial</th>\n",
       "      <th>RT</th>\n",
       "    </tr>\n",
       "  </thead>\n",
       "  <tbody>\n",
       "    <tr>\n",
       "      <th>0</th>\n",
       "      <td>1</td>\n",
       "      <td>0.508971</td>\n",
       "    </tr>\n",
       "    <tr>\n",
       "      <th>1</th>\n",
       "      <td>2</td>\n",
       "      <td>0.389858</td>\n",
       "    </tr>\n",
       "    <tr>\n",
       "      <th>2</th>\n",
       "      <td>3</td>\n",
       "      <td>0.404175</td>\n",
       "    </tr>\n",
       "    <tr>\n",
       "      <th>3</th>\n",
       "      <td>4</td>\n",
       "      <td>0.269520</td>\n",
       "    </tr>\n",
       "    <tr>\n",
       "      <th>4</th>\n",
       "      <td>5</td>\n",
       "      <td>0.437765</td>\n",
       "    </tr>\n",
       "    <tr>\n",
       "      <th>5</th>\n",
       "      <td>6</td>\n",
       "      <td>0.368142</td>\n",
       "    </tr>\n",
       "    <tr>\n",
       "      <th>6</th>\n",
       "      <td>7</td>\n",
       "      <td>0.400544</td>\n",
       "    </tr>\n",
       "    <tr>\n",
       "      <th>7</th>\n",
       "      <td>8</td>\n",
       "      <td>0.335198</td>\n",
       "    </tr>\n",
       "    <tr>\n",
       "      <th>8</th>\n",
       "      <td>9</td>\n",
       "      <td>0.341722</td>\n",
       "    </tr>\n",
       "    <tr>\n",
       "      <th>9</th>\n",
       "      <td>10</td>\n",
       "      <td>0.439583</td>\n",
       "    </tr>\n",
       "  </tbody>\n",
       "</table>\n",
       "</div>"
      ],
      "text/plain": [
       "   trial        RT\n",
       "0      1  0.508971\n",
       "1      2  0.389858\n",
       "2      3  0.404175\n",
       "3      4  0.269520\n",
       "4      5  0.437765\n",
       "5      6  0.368142\n",
       "6      7  0.400544\n",
       "7      8  0.335198\n",
       "8      9  0.341722\n",
       "9     10  0.439583"
      ]
     },
     "execution_count": 13,
     "metadata": {},
     "output_type": "execute_result"
    }
   ],
   "source": [
    "df_list[0]"
   ]
  },
  {
   "cell_type": "markdown",
   "metadata": {},
   "source": [
    "---\n",
    "## Summary \n",
    "\n",
    "DataFrame methods covered in the lesson:"
   ]
  },
  {
   "cell_type": "markdown",
   "metadata": {},
   "source": [
    "|Method                    |Funciton               |\n",
    "|--------------------------|-----------------------|\n",
    "|`.sort_index()`           |sort index - default is by ascending order, specifying `ascending=False` reverses order|\n",
    "|`.sort_values()`          |sort values (for example in a column); default is ascending (lowest to highest) but can be changed with argument|\n",
    "|[`.reindex()`](https://pandas.pydata.org/pandas-docs/stable/reference/api/pandas.DataFrame.reindex.html)              |resets or changes index of a DataFrame. Useful to manually sort, or rest index in a sequence, e.g., if you removed some rows|\n",
    "|`.ffill()`                |forward fill; replace NaN with last preceding non-null value|\n",
    "|[`.str.replace('', '')`](https://pandas.pydata.org/pandas-docs/stable/reference/api/pandas.Series.str.replace.html?highlight=str%20replace#pandas.Series.str.replace)    |replace every occurrence of the first string listed, with the second, in a pandas Series|\n",
    "|`.multiply()`             |performs multiplication along specified column/row and broadcasts output|"
   ]
  },
  {
   "cell_type": "markdown",
   "metadata": {},
   "source": [
    "---\n",
    "**Pop Quiz:** What is broadcasting? \n",
    "\n",
    "[Click here to check your answer.](https://www.datacamp.com/community/tutorials/python-numpy-tutorial#broadcasting)"
   ]
  },
  {
   "cell_type": "code",
   "execution_count": null,
   "metadata": {},
   "outputs": [],
   "source": []
  }
 ],
 "metadata": {
  "kernelspec": {
   "display_name": "Python 3",
   "language": "python",
   "name": "python3"
  },
  "language_info": {
   "codemirror_mode": {
    "name": "ipython",
    "version": 3
   },
   "file_extension": ".py",
   "mimetype": "text/x-python",
   "name": "python",
   "nbconvert_exporter": "python",
   "pygments_lexer": "ipython3",
   "version": "3.7.7"
  }
 },
 "nbformat": 4,
 "nbformat_minor": 4
}
