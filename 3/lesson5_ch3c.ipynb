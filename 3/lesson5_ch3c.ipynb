{
 "cells": [
  {
   "cell_type": "markdown",
   "metadata": {},
   "source": [
    "## Joining DataFrames\n",
    "\n",
    "Yet another way of combining pandas DataFrames is with the `.join()` method. While `pd.merge()` is a function (you can tell because the command name, `.merge`, is preceded by `pd` rather than a DataFrame, and all the input data is inside the parentheses), `.join()` is a method and so must be appended to the name of an existing DataFrame, with the DataFrame you want to join to it specified in the parentheses:"
   ]
  },
  {
   "cell_type": "code",
   "execution_count": null,
   "metadata": {},
   "outputs": [],
   "source": [
    "sess_12.join(sess_3)"
   ]
  },
  {
   "cell_type": "markdown",
   "metadata": {},
   "source": [
    "Note that `.join()` is less picky than `pd.merge`: it ran fine even though there are no exactly-matching column labels shared by the inputs. Indeed, we can join DataFrames that have totally different columns and even lengths:"
   ]
  },
  {
   "cell_type": "code",
   "execution_count": null,
   "metadata": {},
   "outputs": [],
   "source": [
    "sess_12.join(fav_colour)"
   ]
  },
  {
   "cell_type": "markdown",
   "metadata": {},
   "source": [
    "In other words, `.join()` simply adds columns of the 'right' DataFrme (the one in parentheses) to the columns of the 'left' DataFrame (preceding the dot), lining up the rows and adding extra rows of `NaN`s if the inputs are not the same length. \n",
    "\n",
    "This is more flexible, but potentially more messy or dangerous. We want to be certain that the order of inputs in the two DataFrames we're merging is exactly the same to avoid mis-aligning the data. Interestingly, if pandas does note identical column labels in the two DataFrames, it will throw an error because it doesn't know if you want to use those to match rows between the inputs:"
   ]
  },
  {
   "cell_type": "code",
   "execution_count": null,
   "metadata": {},
   "outputs": [],
   "source": [
    "fav_colour = pd.read_csv('fav_colour.csv')\n",
    "eye_colour = pd.read_csv('eye_colour.csv')\n",
    "\n",
    "fav_colour.join(eye_colour)"
   ]
  },
  {
   "cell_type": "markdown",
   "metadata": {},
   "source": [
    "**Indexing** can help `.join()` operate more safely and reliably. If we specify the shared columns as indexes of each DataFrame, pandas will match the inputs based on the indexes:"
   ]
  },
  {
   "cell_type": "code",
   "execution_count": null,
   "metadata": {},
   "outputs": [],
   "source": [
    "fav_colour = fav_colour.set_index('Participant num')\n",
    "eye_colour = eye_colour.set_index('Participant num')\n",
    "\n",
    "fav_colour.join(eye_colour)"
   ]
  },
  {
   "cell_type": "markdown",
   "metadata": {},
   "source": [
    "By default `.join()` uses an outer join, but again we can use an argument to change that behaviour. However, for `.join()` the argument is `how=`:"
   ]
  },
  {
   "cell_type": "code",
   "execution_count": null,
   "metadata": {},
   "outputs": [],
   "source": [
    "fav_colour.join(eye_colour, how='inner')"
   ]
  },
  {
   "cell_type": "markdown",
   "metadata": {},
   "source": [
    "#### Left and Right joins\n",
    "\n",
    "In addition to `outer` (union; i.e., all inputs) and `inner` (intersection; i.e., only shared input) joins, we can use `left` and `right` arguments to specify including only the indices in one input that match those in the other input. \n",
    "\n",
    "So if we use `how=left`, pandas will include all indices present int he left input, filling any non-matches in the right input with `NaN`: "
   ]
  },
  {
   "cell_type": "code",
   "execution_count": null,
   "metadata": {},
   "outputs": [],
   "source": [
    "fav_colour.join(eye_colour, how='left')"
   ]
  },
  {
   "cell_type": "markdown",
   "metadata": {},
   "source": [
    "Conversely, with `how=right` we get all indices present in the right input, again filling anything missing from the left with `NaN`. "
   ]
  },
  {
   "cell_type": "code",
   "execution_count": null,
   "metadata": {},
   "outputs": [],
   "source": [
    "fav_colour.join(eye_colour, how='right')"
   ]
  }
 ],
 "metadata": {
  "kernelspec": {
   "display_name": "Python 3",
   "language": "python",
   "name": "python3"
  },
  "language_info": {
   "codemirror_mode": {
    "name": "ipython",
    "version": 3
   },
   "file_extension": ".py",
   "mimetype": "text/x-python",
   "name": "python",
   "nbconvert_exporter": "python",
   "pygments_lexer": "ipython3",
   "version": "3.7.9"
  }
 },
 "nbformat": 4,
 "nbformat_minor": 4
}
