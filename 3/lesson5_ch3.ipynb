{
 "cells": [
  {
   "cell_type": "markdown",
   "metadata": {},
   "source": [
    "# Lesson 5: Merging DataFrames with pandas\n",
    "\n",
    "[View this lesson on datacamp](https://learn.datacamp.com/courses/merging-dataframes-with-pandas)"
   ]
  },
  {
   "cell_type": "markdown",
   "metadata": {},
   "source": [
    "## Chapter 3: Merging Data"
   ]
  },
  {
   "cell_type": "markdown",
   "metadata": {},
   "source": [
    "### pd.merge()\n",
    "`pd.merge(df1, df2)` allows you to combine 2 or more dataframes. The default format computes a merge on all shared columns\n",
    "\n",
    "### Merging 'on'\n",
    "The keyword argument `on=` specifies which columns of a dataframe you would like to merge on. Using the example from the previous chapter, merging 'fav_colour' and 'birthday_month' on the 'Participant num' column creates a dataframe with 3 columns. One thing to note here - the column specified for `on=` must be a shared column between both dataframes."
   ]
  },
  {
   "cell_type": "code",
   "execution_count": 24,
   "metadata": {},
   "outputs": [
    {
     "name": "stdout",
     "output_type": "stream",
     "text": [
      "                Fav Colour Birthday Month\n",
      "Participant num                          \n",
      "1                     blue           may \n",
      "2                      red          june \n",
      "3                    green        january\n",
      "4                  purple       february \n",
      "5                      red     september \n",
      "6                    green          july \n",
      "7                   orange           may \n",
      "8                  yellow            may \n",
      "9                  yellow          august\n",
      "10                    pink       december\n"
     ]
    }
   ],
   "source": [
    "merged = pd.merge(fav_colour, birthday_month, on='Participant num')\n",
    "print(merged)"
   ]
  },
  {
   "cell_type": "markdown",
   "metadata": {},
   "source": [
    "### More pd.merge() arguments\n",
    "\n",
    "|                           |                     |\n",
    "|---------------------------|---------------------|\n",
    "|`left_on=' '`              |specify columns to merge on, left refers to df argument placement in call to `pd.merge()`|\n",
    "|`right_on=`                |specify columns to merge on, right refers to df argument placement in call to `pd.merge()`|\n",
    "|`how='left'`               |keeps all rows in left dataframe|\n",
    "|`how='right'`              |keeps all rows in right dataframe|            "
   ]
  },
  {
   "cell_type": "markdown",
   "metadata": {},
   "source": [
    "### `pd.merge.ordered(df1, df2)`\n",
    "This merges and puts data in specified order, and has a few keyword arguments:\n",
    "\n",
    "|                                     |                                    |\n",
    "|-------------------------------------|                                    |\n",
    "|`on=`                                |specify order type (e.g., on='date')|\n",
    "|`suffixes=`                          |add suffixes to column headers to improve organization|\n",
    "|`fill_method=`                       |specify NaN treatment (e.g., 'ffill')|"
   ]
  }
 ],
 "metadata": {
  "kernelspec": {
   "display_name": "Python 3",
   "language": "python",
   "name": "python3"
  },
  "language_info": {
   "codemirror_mode": {
    "name": "ipython",
    "version": 3
   },
   "file_extension": ".py",
   "mimetype": "text/x-python",
   "name": "python",
   "nbconvert_exporter": "python",
   "pygments_lexer": "ipython3",
   "version": "3.7.7"
  }
 },
 "nbformat": 4,
 "nbformat_minor": 4
}
