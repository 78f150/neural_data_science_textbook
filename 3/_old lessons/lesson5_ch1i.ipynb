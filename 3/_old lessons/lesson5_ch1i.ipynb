{
 "cells": [
  {
   "cell_type": "markdown",
   "metadata": {},
   "source": [
    "## Bonus Section: Looping\n",
    "\n",
    "Above we noted that it would be more efficient (pythonic) to use a loop to read the files and set the indexes. Below is the same example as above, but using a loop rather than hard-coding the commands for every data file. "
   ]
  },
  {
   "cell_type": "code",
   "execution_count": 1,
   "metadata": {},
   "outputs": [
    {
     "data": {
      "text/html": [
       "<div>\n",
       "<style scoped>\n",
       "    .dataframe tbody tr th:only-of-type {\n",
       "        vertical-align: middle;\n",
       "    }\n",
       "\n",
       "    .dataframe tbody tr th {\n",
       "        vertical-align: top;\n",
       "    }\n",
       "\n",
       "    .dataframe thead th {\n",
       "        text-align: right;\n",
       "    }\n",
       "</style>\n",
       "<table border=\"1\" class=\"dataframe\">\n",
       "  <thead>\n",
       "    <tr style=\"text-align: right;\">\n",
       "      <th></th>\n",
       "      <th>r1</th>\n",
       "      <th>r2</th>\n",
       "      <th>r3</th>\n",
       "    </tr>\n",
       "    <tr>\n",
       "      <th>days</th>\n",
       "      <th></th>\n",
       "      <th></th>\n",
       "      <th></th>\n",
       "    </tr>\n",
       "  </thead>\n",
       "  <tbody>\n",
       "    <tr>\n",
       "      <th>day1</th>\n",
       "      <td>6.00</td>\n",
       "      <td>7.32</td>\n",
       "      <td>2.55</td>\n",
       "    </tr>\n",
       "    <tr>\n",
       "      <th>day2</th>\n",
       "      <td>7.56</td>\n",
       "      <td>4.12</td>\n",
       "      <td>4.00</td>\n",
       "    </tr>\n",
       "    <tr>\n",
       "      <th>day3</th>\n",
       "      <td>2.17</td>\n",
       "      <td>6.28</td>\n",
       "      <td>NaN</td>\n",
       "    </tr>\n",
       "    <tr>\n",
       "      <th>day4</th>\n",
       "      <td>2.39</td>\n",
       "      <td>NaN</td>\n",
       "      <td>6.00</td>\n",
       "    </tr>\n",
       "    <tr>\n",
       "      <th>day5</th>\n",
       "      <td>5.60</td>\n",
       "      <td>4.20</td>\n",
       "      <td>8.38</td>\n",
       "    </tr>\n",
       "    <tr>\n",
       "      <th>day6</th>\n",
       "      <td>8.94</td>\n",
       "      <td>2.11</td>\n",
       "      <td>6.53</td>\n",
       "    </tr>\n",
       "    <tr>\n",
       "      <th>day7</th>\n",
       "      <td>2.95</td>\n",
       "      <td>4.98</td>\n",
       "      <td>3.01</td>\n",
       "    </tr>\n",
       "    <tr>\n",
       "      <th>day8</th>\n",
       "      <td>3.30</td>\n",
       "      <td>7.44</td>\n",
       "      <td>NaN</td>\n",
       "    </tr>\n",
       "  </tbody>\n",
       "</table>\n",
       "</div>"
      ],
      "text/plain": [
       "        r1    r2    r3\n",
       "days                  \n",
       "day1  6.00  7.32  2.55\n",
       "day2  7.56  4.12  4.00\n",
       "day3  2.17  6.28   NaN\n",
       "day4  2.39   NaN  6.00\n",
       "day5  5.60  4.20  8.38\n",
       "day6  8.94  2.11  6.53\n",
       "day7  2.95  4.98  3.01\n",
       "day8  3.30  7.44   NaN"
      ]
     },
     "execution_count": 1,
     "metadata": {},
     "output_type": "execute_result"
    }
   ],
   "source": [
    "import pandas as pd\n",
    "\n",
    "maze_files = ['maze_data_1.csv', 'maze_data_2.csv', 'maze_data_3.csv']\n",
    "\n",
    "r1_days = ['day1', 'day2', 'day3', 'day4', 'day5', 'day6', 'day7', 'day8']\n",
    "r2_days = ['day1', 'day2', 'day3', 'day5', 'day6', 'day7', 'day8']\n",
    "r3_days = ['day1', 'day2', 'day4', 'day5', 'day6', 'day7']\n",
    "# Combine these into a list of lists we can loop through:\n",
    "days_list = [r1_days, r2_days, r3_days]\n",
    "\n",
    "maze_list = []\n",
    "# use enumerate() to allow looping through multiple lists in parallel. \n",
    "for counter, filename in enumerate(maze_files):\n",
    "    maze_list.append(pd.read_csv(filename))\n",
    "    maze_list[counter]['days'] = days_list[counter]\n",
    "    maze_list[counter] = maze_list[counter].set_index('days')\n",
    "\n",
    "rat_df = maze_list[0]\n",
    "rat_df = rat_df.rename(columns={'maze_time':'r1'})\n",
    "rat_df['r2'] = maze_list[1]\n",
    "rat_df['r3'] = maze_list[2]\n",
    "rat_df"
   ]
  },
  {
   "cell_type": "markdown",
   "metadata": {},
   "source": [
    "#### The `enumerate()` function\n",
    "\n",
    "Note that in the `for` loop, w use the `enumerate()` function. This can be handy in situations like this, where we want to loop through two lists \"in parallel\" — in other words, when we are at the first entry in one list (`maze_files`) we also want the first entry in the second list (`days_list`). Normally, whe you loop through a list using `for`, you assign a value of the current list item to a variable. For example, in `for filename in maze_files:`, the value of `filename` is updated with the current list item each time through the loop. Using `enumerate()`, we assign *two* values each time through the loop: `for counter, filename in enumerate(maze_files):`. In this case, `counter` will enumerate the number of times it's gone through the loop - i.e, take on a numerical value — the current iteration, while `filename` will still be the value of the current list item:"
   ]
  },
  {
   "cell_type": "code",
   "execution_count": 2,
   "metadata": {},
   "outputs": [
    {
     "name": "stdout",
     "output_type": "stream",
     "text": [
      "counter = 0; filename = maze_data_1.csv\n",
      "counter = 1; filename = maze_data_2.csv\n",
      "counter = 2; filename = maze_data_3.csv\n"
     ]
    }
   ],
   "source": [
    "for counter, filename in enumerate(maze_files):\n",
    "    print('counter = ' + str(counter) + '; filename = ' + filename)"
   ]
  }
 ],
 "metadata": {
  "kernelspec": {
   "display_name": "Python 3",
   "language": "python",
   "name": "python3"
  },
  "language_info": {
   "codemirror_mode": {
    "name": "ipython",
    "version": 3
   },
   "file_extension": ".py",
   "mimetype": "text/x-python",
   "name": "python",
   "nbconvert_exporter": "python",
   "pygments_lexer": "ipython3",
   "version": "3.7.9"
  }
 },
 "nbformat": 4,
 "nbformat_minor": 4
}
