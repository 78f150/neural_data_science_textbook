{
 "cells": [
  {
   "cell_type": "markdown",
   "metadata": {},
   "source": [
    "## Arithmetic with Series and DataFrames\n",
    "\n",
    "pandas uses **broadcasting** when we apply an arithmetic function to a Series or DataFrame. For example, from above here's our RT data from two participants:"
   ]
  },
  {
   "cell_type": "code",
   "execution_count": 1,
   "metadata": {},
   "outputs": [
    {
     "data": {
      "text/html": [
       "<div>\n",
       "<style scoped>\n",
       "    .dataframe tbody tr th:only-of-type {\n",
       "        vertical-align: middle;\n",
       "    }\n",
       "\n",
       "    .dataframe tbody tr th {\n",
       "        vertical-align: top;\n",
       "    }\n",
       "\n",
       "    .dataframe thead th {\n",
       "        text-align: right;\n",
       "    }\n",
       "</style>\n",
       "<table border=\"1\" class=\"dataframe\">\n",
       "  <thead>\n",
       "    <tr style=\"text-align: right;\">\n",
       "      <th></th>\n",
       "      <th>trial</th>\n",
       "      <th>s1</th>\n",
       "      <th>s2</th>\n",
       "    </tr>\n",
       "  </thead>\n",
       "  <tbody>\n",
       "    <tr>\n",
       "      <th>0</th>\n",
       "      <td>1</td>\n",
       "      <td>0.508971</td>\n",
       "      <td>0.433094</td>\n",
       "    </tr>\n",
       "    <tr>\n",
       "      <th>1</th>\n",
       "      <td>2</td>\n",
       "      <td>0.389858</td>\n",
       "      <td>0.392526</td>\n",
       "    </tr>\n",
       "    <tr>\n",
       "      <th>2</th>\n",
       "      <td>3</td>\n",
       "      <td>0.404175</td>\n",
       "      <td>0.396831</td>\n",
       "    </tr>\n",
       "    <tr>\n",
       "      <th>3</th>\n",
       "      <td>4</td>\n",
       "      <td>0.269520</td>\n",
       "      <td>0.417988</td>\n",
       "    </tr>\n",
       "    <tr>\n",
       "      <th>4</th>\n",
       "      <td>5</td>\n",
       "      <td>0.437765</td>\n",
       "      <td>0.371810</td>\n",
       "    </tr>\n",
       "    <tr>\n",
       "      <th>5</th>\n",
       "      <td>6</td>\n",
       "      <td>0.368142</td>\n",
       "      <td>0.659228</td>\n",
       "    </tr>\n",
       "    <tr>\n",
       "      <th>6</th>\n",
       "      <td>7</td>\n",
       "      <td>0.400544</td>\n",
       "      <td>0.411051</td>\n",
       "    </tr>\n",
       "    <tr>\n",
       "      <th>7</th>\n",
       "      <td>8</td>\n",
       "      <td>0.335198</td>\n",
       "      <td>0.409580</td>\n",
       "    </tr>\n",
       "    <tr>\n",
       "      <th>8</th>\n",
       "      <td>9</td>\n",
       "      <td>0.341722</td>\n",
       "      <td>0.486828</td>\n",
       "    </tr>\n",
       "    <tr>\n",
       "      <th>9</th>\n",
       "      <td>10</td>\n",
       "      <td>0.439583</td>\n",
       "      <td>0.468912</td>\n",
       "    </tr>\n",
       "  </tbody>\n",
       "</table>\n",
       "</div>"
      ],
      "text/plain": [
       "   trial        s1        s2\n",
       "0      1  0.508971  0.433094\n",
       "1      2  0.389858  0.392526\n",
       "2      3  0.404175  0.396831\n",
       "3      4  0.269520  0.417988\n",
       "4      5  0.437765  0.371810\n",
       "5      6  0.368142  0.659228\n",
       "6      7  0.400544  0.411051\n",
       "7      8  0.335198  0.409580\n",
       "8      9  0.341722  0.486828\n",
       "9     10  0.439583  0.468912"
      ]
     },
     "execution_count": 1,
     "metadata": {},
     "output_type": "execute_result"
    }
   ],
   "source": [
    "import pandas as pd\n",
    "\n",
    "filenames = ['s1.csv', 's2.csv', 's3.csv']\n",
    "df_list = [pd.read_csv(f) for f in filenames]\n",
    "df = df_list[0]\n",
    "df = df.rename(columns={'RT':'s1'})\n",
    "df['s2'] = df_list[1]['RT']\n",
    "df"
   ]
  },
  {
   "cell_type": "markdown",
   "metadata": {},
   "source": [
    "RT is in seconds, but often we want to report RT in milliseconds. To do this, we could multiply the entire DataFrame by 1000 (since there are 1000 ms in 1 s), but this would apply to all columns, including trial number:"
   ]
  },
  {
   "cell_type": "code",
   "execution_count": 2,
   "metadata": {},
   "outputs": [
    {
     "data": {
      "text/html": [
       "<div>\n",
       "<style scoped>\n",
       "    .dataframe tbody tr th:only-of-type {\n",
       "        vertical-align: middle;\n",
       "    }\n",
       "\n",
       "    .dataframe tbody tr th {\n",
       "        vertical-align: top;\n",
       "    }\n",
       "\n",
       "    .dataframe thead th {\n",
       "        text-align: right;\n",
       "    }\n",
       "</style>\n",
       "<table border=\"1\" class=\"dataframe\">\n",
       "  <thead>\n",
       "    <tr style=\"text-align: right;\">\n",
       "      <th></th>\n",
       "      <th>trial</th>\n",
       "      <th>s1</th>\n",
       "      <th>s2</th>\n",
       "    </tr>\n",
       "  </thead>\n",
       "  <tbody>\n",
       "    <tr>\n",
       "      <th>0</th>\n",
       "      <td>1000</td>\n",
       "      <td>508.971072</td>\n",
       "      <td>433.093893</td>\n",
       "    </tr>\n",
       "    <tr>\n",
       "      <th>1</th>\n",
       "      <td>2000</td>\n",
       "      <td>389.857974</td>\n",
       "      <td>392.526034</td>\n",
       "    </tr>\n",
       "    <tr>\n",
       "      <th>2</th>\n",
       "      <td>3000</td>\n",
       "      <td>404.175466</td>\n",
       "      <td>396.830804</td>\n",
       "    </tr>\n",
       "    <tr>\n",
       "      <th>3</th>\n",
       "      <td>4000</td>\n",
       "      <td>269.520309</td>\n",
       "      <td>417.987737</td>\n",
       "    </tr>\n",
       "    <tr>\n",
       "      <th>4</th>\n",
       "      <td>5000</td>\n",
       "      <td>437.764713</td>\n",
       "      <td>371.810078</td>\n",
       "    </tr>\n",
       "    <tr>\n",
       "      <th>5</th>\n",
       "      <td>6000</td>\n",
       "      <td>368.141756</td>\n",
       "      <td>659.228422</td>\n",
       "    </tr>\n",
       "    <tr>\n",
       "      <th>6</th>\n",
       "      <td>7000</td>\n",
       "      <td>400.544278</td>\n",
       "      <td>411.051235</td>\n",
       "    </tr>\n",
       "    <tr>\n",
       "      <th>7</th>\n",
       "      <td>8000</td>\n",
       "      <td>335.198066</td>\n",
       "      <td>409.580168</td>\n",
       "    </tr>\n",
       "    <tr>\n",
       "      <th>8</th>\n",
       "      <td>9000</td>\n",
       "      <td>341.722042</td>\n",
       "      <td>486.828076</td>\n",
       "    </tr>\n",
       "    <tr>\n",
       "      <th>9</th>\n",
       "      <td>10000</td>\n",
       "      <td>439.583357</td>\n",
       "      <td>468.912134</td>\n",
       "    </tr>\n",
       "  </tbody>\n",
       "</table>\n",
       "</div>"
      ],
      "text/plain": [
       "   trial          s1          s2\n",
       "0   1000  508.971072  433.093893\n",
       "1   2000  389.857974  392.526034\n",
       "2   3000  404.175466  396.830804\n",
       "3   4000  269.520309  417.987737\n",
       "4   5000  437.764713  371.810078\n",
       "5   6000  368.141756  659.228422\n",
       "6   7000  400.544278  411.051235\n",
       "7   8000  335.198066  409.580168\n",
       "8   9000  341.722042  486.828076\n",
       "9  10000  439.583357  468.912134"
      ]
     },
     "execution_count": 2,
     "metadata": {},
     "output_type": "execute_result"
    }
   ],
   "source": [
    "df * 1000"
   ]
  },
  {
   "cell_type": "markdown",
   "metadata": {},
   "source": [
    "So instead, we can apply the math only to specified columns:"
   ]
  },
  {
   "cell_type": "code",
   "execution_count": 3,
   "metadata": {},
   "outputs": [
    {
     "data": {
      "text/html": [
       "<div>\n",
       "<style scoped>\n",
       "    .dataframe tbody tr th:only-of-type {\n",
       "        vertical-align: middle;\n",
       "    }\n",
       "\n",
       "    .dataframe tbody tr th {\n",
       "        vertical-align: top;\n",
       "    }\n",
       "\n",
       "    .dataframe thead th {\n",
       "        text-align: right;\n",
       "    }\n",
       "</style>\n",
       "<table border=\"1\" class=\"dataframe\">\n",
       "  <thead>\n",
       "    <tr style=\"text-align: right;\">\n",
       "      <th></th>\n",
       "      <th>s1</th>\n",
       "      <th>s2</th>\n",
       "    </tr>\n",
       "  </thead>\n",
       "  <tbody>\n",
       "    <tr>\n",
       "      <th>0</th>\n",
       "      <td>508.971072</td>\n",
       "      <td>433.093893</td>\n",
       "    </tr>\n",
       "    <tr>\n",
       "      <th>1</th>\n",
       "      <td>389.857974</td>\n",
       "      <td>392.526034</td>\n",
       "    </tr>\n",
       "    <tr>\n",
       "      <th>2</th>\n",
       "      <td>404.175466</td>\n",
       "      <td>396.830804</td>\n",
       "    </tr>\n",
       "    <tr>\n",
       "      <th>3</th>\n",
       "      <td>269.520309</td>\n",
       "      <td>417.987737</td>\n",
       "    </tr>\n",
       "    <tr>\n",
       "      <th>4</th>\n",
       "      <td>437.764713</td>\n",
       "      <td>371.810078</td>\n",
       "    </tr>\n",
       "    <tr>\n",
       "      <th>5</th>\n",
       "      <td>368.141756</td>\n",
       "      <td>659.228422</td>\n",
       "    </tr>\n",
       "    <tr>\n",
       "      <th>6</th>\n",
       "      <td>400.544278</td>\n",
       "      <td>411.051235</td>\n",
       "    </tr>\n",
       "    <tr>\n",
       "      <th>7</th>\n",
       "      <td>335.198066</td>\n",
       "      <td>409.580168</td>\n",
       "    </tr>\n",
       "    <tr>\n",
       "      <th>8</th>\n",
       "      <td>341.722042</td>\n",
       "      <td>486.828076</td>\n",
       "    </tr>\n",
       "    <tr>\n",
       "      <th>9</th>\n",
       "      <td>439.583357</td>\n",
       "      <td>468.912134</td>\n",
       "    </tr>\n",
       "  </tbody>\n",
       "</table>\n",
       "</div>"
      ],
      "text/plain": [
       "           s1          s2\n",
       "0  508.971072  433.093893\n",
       "1  389.857974  392.526034\n",
       "2  404.175466  396.830804\n",
       "3  269.520309  417.987737\n",
       "4  437.764713  371.810078\n",
       "5  368.141756  659.228422\n",
       "6  400.544278  411.051235\n",
       "7  335.198066  409.580168\n",
       "8  341.722042  486.828076\n",
       "9  439.583357  468.912134"
      ]
     },
     "execution_count": 3,
     "metadata": {},
     "output_type": "execute_result"
    }
   ],
   "source": [
    "df[['s1','s2']] * 1000"
   ]
  },
  {
   "cell_type": "markdown",
   "metadata": {},
   "source": [
    "pandas also provides methods for applying some common arithmetic operations to DataFrames. This includes simple operation slike addition (`.add()` and multiplication (`.multiply()`), but also more complex \"convenience functions\" like `.mean()`:"
   ]
  },
  {
   "cell_type": "code",
   "execution_count": 4,
   "metadata": {},
   "outputs": [
    {
     "data": {
      "text/plain": [
       "s1    0.389548\n",
       "s2    0.444785\n",
       "dtype: float64"
      ]
     },
     "execution_count": 4,
     "metadata": {},
     "output_type": "execute_result"
    }
   ],
   "source": [
    "df[['s1','s2']].mean()"
   ]
  },
  {
   "cell_type": "markdown",
   "metadata": {},
   "source": [
    "Note that this produces two values, the mean of each column. WHile the default is to apply the function \"column-wise\", there's also an argument that allows us to compute the mean of each row, instead:"
   ]
  },
  {
   "cell_type": "code",
   "execution_count": 5,
   "metadata": {},
   "outputs": [
    {
     "data": {
      "text/plain": [
       "0    0.471032\n",
       "1    0.391192\n",
       "2    0.400503\n",
       "3    0.343754\n",
       "4    0.404787\n",
       "5    0.513685\n",
       "6    0.405798\n",
       "7    0.372389\n",
       "8    0.414275\n",
       "9    0.454248\n",
       "dtype: float64"
      ]
     },
     "execution_count": 5,
     "metadata": {},
     "output_type": "execute_result"
    }
   ],
   "source": [
    "df[['s1','s2']].mean(axis=1)"
   ]
  },
  {
   "cell_type": "markdown",
   "metadata": {},
   "source": [
    "By default, these arithmetic methods will ignore any NaN values. However, we can tell pandas to replace `NaN`s with some other value. For example, let's reload the rat data, which had `NaN` values:"
   ]
  },
  {
   "cell_type": "code",
   "execution_count": 6,
   "metadata": {},
   "outputs": [
    {
     "data": {
      "text/html": [
       "<div>\n",
       "<style scoped>\n",
       "    .dataframe tbody tr th:only-of-type {\n",
       "        vertical-align: middle;\n",
       "    }\n",
       "\n",
       "    .dataframe tbody tr th {\n",
       "        vertical-align: top;\n",
       "    }\n",
       "\n",
       "    .dataframe thead th {\n",
       "        text-align: right;\n",
       "    }\n",
       "</style>\n",
       "<table border=\"1\" class=\"dataframe\">\n",
       "  <thead>\n",
       "    <tr style=\"text-align: right;\">\n",
       "      <th></th>\n",
       "      <th>r1</th>\n",
       "      <th>r2</th>\n",
       "      <th>r3</th>\n",
       "    </tr>\n",
       "    <tr>\n",
       "      <th>days</th>\n",
       "      <th></th>\n",
       "      <th></th>\n",
       "      <th></th>\n",
       "    </tr>\n",
       "  </thead>\n",
       "  <tbody>\n",
       "    <tr>\n",
       "      <th>day1</th>\n",
       "      <td>6.00</td>\n",
       "      <td>7.32</td>\n",
       "      <td>2.55</td>\n",
       "    </tr>\n",
       "    <tr>\n",
       "      <th>day2</th>\n",
       "      <td>7.56</td>\n",
       "      <td>4.12</td>\n",
       "      <td>4.00</td>\n",
       "    </tr>\n",
       "    <tr>\n",
       "      <th>day3</th>\n",
       "      <td>2.17</td>\n",
       "      <td>6.28</td>\n",
       "      <td>NaN</td>\n",
       "    </tr>\n",
       "    <tr>\n",
       "      <th>day4</th>\n",
       "      <td>2.39</td>\n",
       "      <td>NaN</td>\n",
       "      <td>6.00</td>\n",
       "    </tr>\n",
       "    <tr>\n",
       "      <th>day5</th>\n",
       "      <td>5.60</td>\n",
       "      <td>4.20</td>\n",
       "      <td>8.38</td>\n",
       "    </tr>\n",
       "    <tr>\n",
       "      <th>day6</th>\n",
       "      <td>8.94</td>\n",
       "      <td>2.11</td>\n",
       "      <td>6.53</td>\n",
       "    </tr>\n",
       "    <tr>\n",
       "      <th>day7</th>\n",
       "      <td>2.95</td>\n",
       "      <td>4.98</td>\n",
       "      <td>3.01</td>\n",
       "    </tr>\n",
       "    <tr>\n",
       "      <th>day8</th>\n",
       "      <td>3.30</td>\n",
       "      <td>7.44</td>\n",
       "      <td>NaN</td>\n",
       "    </tr>\n",
       "  </tbody>\n",
       "</table>\n",
       "</div>"
      ],
      "text/plain": [
       "        r1    r2    r3\n",
       "days                  \n",
       "day1  6.00  7.32  2.55\n",
       "day2  7.56  4.12  4.00\n",
       "day3  2.17  6.28   NaN\n",
       "day4  2.39   NaN  6.00\n",
       "day5  5.60  4.20  8.38\n",
       "day6  8.94  2.11  6.53\n",
       "day7  2.95  4.98  3.01\n",
       "day8  3.30  7.44   NaN"
      ]
     },
     "execution_count": 6,
     "metadata": {},
     "output_type": "execute_result"
    }
   ],
   "source": [
    "import pandas as pd\n",
    "\n",
    "maze_files = ['maze_data_1.csv', 'maze_data_2.csv', 'maze_data_3.csv']\n",
    "\n",
    "days_list = [['day1', 'day2', 'day3', 'day4', 'day5', 'day6', 'day7', 'day8'], \n",
    "             ['day1', 'day2', 'day3', 'day5', 'day6', 'day7', 'day8'],\n",
    "             ['day1', 'day2', 'day4', 'day5', 'day6', 'day7']\n",
    "            ]\n",
    "\n",
    "maze_list = []\n",
    "for counter, filename in enumerate(maze_files):\n",
    "    maze_list.append(pd.read_csv(filename))\n",
    "    maze_list[counter]['days'] = days_list[counter]\n",
    "    maze_list[counter] = maze_list[counter].set_index('days')\n",
    "\n",
    "rat_df = maze_list[0]\n",
    "rat_df = rat_df.rename(columns={'maze_time':'r1'})\n",
    "rat_df['r2'] = maze_list[1]\n",
    "rat_df['r3'] = maze_list[2]\n",
    "rat_df"
   ]
  },
  {
   "cell_type": "markdown",
   "metadata": {},
   "source": [
    "If we wanted to sum the data from rats 1 and 2 for each day, we would get `NaN` results if any inputs were `NaN` (like day4):"
   ]
  },
  {
   "cell_type": "code",
   "execution_count": 7,
   "metadata": {},
   "outputs": [
    {
     "data": {
      "text/plain": [
       "days\n",
       "day1    13.32\n",
       "day2    11.68\n",
       "day3     8.45\n",
       "day4      NaN\n",
       "day5     9.80\n",
       "day6    11.05\n",
       "day7     7.93\n",
       "day8    10.74\n",
       "dtype: float64"
      ]
     },
     "execution_count": 7,
     "metadata": {},
     "output_type": "execute_result"
    }
   ],
   "source": [
    "rat_df['r1'].add(rat_df['r2'])"
   ]
  },
  {
   "cell_type": "markdown",
   "metadata": {},
   "source": [
    "But we could use `fill_value=0` to tell pandas to treat these as zeros instead:"
   ]
  },
  {
   "cell_type": "code",
   "execution_count": 8,
   "metadata": {},
   "outputs": [
    {
     "data": {
      "text/plain": [
       "days\n",
       "day1    13.32\n",
       "day2    11.68\n",
       "day3     8.45\n",
       "day4     2.39\n",
       "day5     9.80\n",
       "day6    11.05\n",
       "day7     7.93\n",
       "day8    10.74\n",
       "dtype: float64"
      ]
     },
     "execution_count": 8,
     "metadata": {},
     "output_type": "execute_result"
    }
   ],
   "source": [
    "rat_df['r1'].add(rat_df['r2'], fill_value=0)"
   ]
  }
 ],
 "metadata": {
  "kernelspec": {
   "display_name": "Python 3 (ipykernel)",
   "language": "python",
   "name": "python3"
  },
  "language_info": {
   "codemirror_mode": {
    "name": "ipython",
    "version": 3
   },
   "file_extension": ".py",
   "mimetype": "text/x-python",
   "name": "python",
   "nbconvert_exporter": "python",
   "pygments_lexer": "ipython3",
   "version": "3.9.6"
  }
 },
 "nbformat": 4,
 "nbformat_minor": 4
}
