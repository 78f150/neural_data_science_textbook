{
 "cells": [
  {
   "cell_type": "markdown",
   "metadata": {},
   "source": [
    "# Chapter 2: Concatenating Data\n",
    "\n",
    "[View this lesson on datacamp](https://learn.datacamp.com/courses/merging-dataframes-with-pandas)"
   ]
  },
  {
   "cell_type": "markdown",
   "metadata": {},
   "source": [
    "## Appending pandas Series and DataFrames\n",
    "\n",
    "The `.append()` method is used for both pandas Series and DataFrames, to stack rows on top of each other. For example, appending the two pandas Series below results in one series in which the elements of 'blue' are stacked underneath the elements of 'pink' (since we append blue to pink in this case)."
   ]
  },
  {
   "cell_type": "code",
   "execution_count": 1,
   "metadata": {},
   "outputs": [],
   "source": [
    "import pandas as pd\n",
    "pd.set_option('display.max_rows', None)\n",
    "import numpy as np"
   ]
  },
  {
   "cell_type": "code",
   "execution_count": 2,
   "metadata": {},
   "outputs": [
    {
     "data": {
      "text/plain": [
       "0          rose\n",
       "1       fuchsia\n",
       "2          ruby\n",
       "3       magenta\n",
       "0     turquoise\n",
       "1      sky blue\n",
       "2          navy\n",
       "3    ocean blue\n",
       "dtype: object"
      ]
     },
     "execution_count": 2,
     "metadata": {},
     "output_type": "execute_result"
    }
   ],
   "source": [
    "pink = pd.Series(['rose', 'fuchsia', 'ruby', 'magenta'])\n",
    "blue = pd.Series(['turquoise', 'sky blue', 'navy', 'ocean blue'])\n",
    "pb = pink.append(blue)\n",
    "pb"
   ]
  },
  {
   "cell_type": "code",
   "execution_count": 3,
   "metadata": {},
   "outputs": [
    {
     "data": {
      "text/plain": [
       "0       rose\n",
       "1    fuchsia\n",
       "2       ruby\n",
       "3    magenta\n",
       "dtype: object"
      ]
     },
     "execution_count": 3,
     "metadata": {},
     "output_type": "execute_result"
    }
   ],
   "source": [
    "pink"
   ]
  }
 ],
 "metadata": {
  "kernelspec": {
   "display_name": "Python 3",
   "language": "python",
   "name": "python3"
  },
  "language_info": {
   "codemirror_mode": {
    "name": "ipython",
    "version": 3
   },
   "file_extension": ".py",
   "mimetype": "text/x-python",
   "name": "python",
   "nbconvert_exporter": "python",
   "pygments_lexer": "ipython3",
   "version": "3.7.9"
  }
 },
 "nbformat": 4,
 "nbformat_minor": 4
}
