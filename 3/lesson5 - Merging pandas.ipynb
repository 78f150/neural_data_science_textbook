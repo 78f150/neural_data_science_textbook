{
 "cells": [
  {
   "cell_type": "markdown",
   "metadata": {},
   "source": [
    "# Lesson 5: Merging DataFrames with pandas\n",
    "\n",
    "[View this lesson on datacamp](https://learn.datacamp.com/courses/merging-dataframes-with-pandas)"
   ]
  },
  {
   "cell_type": "markdown",
   "metadata": {},
   "source": [
    "## Chapter 1: Preparing Data\n",
    "To read a single file into a dataframe, use the following format:\n",
    "\n",
    "`variable = pd.read_csv('filename.csv')`"
   ]
  },
  {
   "cell_type": "markdown",
   "metadata": {},
   "source": [
    "It is also possible to use a for loop to read in multiple files:\n",
    "\n",
    "First, create a list of the files\n",
    "\n",
    "`filenames = ['filename1.csv', 'filename2.csv', 'filename3.csv']`\n",
    "\n",
    "Next, create an empty list to append the files to\n",
    "\n",
    "`dataframes = []`\n",
    "\n",
    "`for filename in filenames:\n",
    "    dataframes.append(pd.read_csv(filename))`"
   ]
  },
  {
   "cell_type": "markdown",
   "metadata": {},
   "source": [
    "|Method                    |Funciton               |\n",
    "|--------------------------|-----------------------|\n",
    "|`.sort_index()`           |sort index - default is by ascending order, specifying `ascending=False` reverses order|\n",
    "|`.sort_values()`          |sort column values by increasing numerical order by default|\n",
    "|`.reindex()`              |reorders rows based on a new index column|\n",
    "|`.ffill()`                |forward fill; replace NaN with last preceding non-null value|\n",
    "|`.str.replace('', '')`    |replace first specified string with second down a column|\n",
    "|`.multiply()`             |performs multiplication along specified column/row and broadcasts output|"
   ]
  },
  {
   "cell_type": "markdown",
   "metadata": {},
   "source": [
    "## Chapter 2: Concatenating Data\n",
    "\n",
    "### Using `.append()` and `pd.concat()` for series\n",
    "\n",
    "The `.append()` method is used for both series and dataframes to stack rows on top of each other. For example, appeding the 2 pandas series below results in 1 series in which the elements of 'blue' are stacked underneath the elements of 'pink'"
   ]
  },
  {
   "cell_type": "code",
   "execution_count": 1,
   "metadata": {},
   "outputs": [
    {
     "name": "stdout",
     "output_type": "stream",
     "text": [
      "0          rose\n",
      "1       fuchsia\n",
      "2          ruby\n",
      "3       magenta\n",
      "0     turquoise\n",
      "1      sky blue\n",
      "2          navy\n",
      "3    ocean blue\n",
      "dtype: object\n"
     ]
    }
   ],
   "source": [
    "import pandas as pd\n",
    "\n",
    "pink = pd.Series(['rose', 'fuchsia', 'ruby', 'magenta'])\n",
    "blue = pd.Series(['turquoise', 'sky blue', 'navy', 'ocean blue'])\n",
    "print(pink.append(blue))"
   ]
  },
  {
   "cell_type": "markdown",
   "metadata": {},
   "source": [
    "One thing to note here is that the `.append()` method doesn't adjust the index of the series when it stacks them. This can be done using the `.reset_index()` method. Setting the argument `drop=True` will drop the original index of 'blue'"
   ]
  },
  {
   "cell_type": "code",
   "execution_count": 2,
   "metadata": {},
   "outputs": [
    {
     "name": "stdout",
     "output_type": "stream",
     "text": [
      "0          rose\n",
      "1       fuchsia\n",
      "2          ruby\n",
      "3       magenta\n",
      "4     turquoise\n",
      "5      sky blue\n",
      "6          navy\n",
      "7    ocean blue\n",
      "dtype: object\n"
     ]
    }
   ],
   "source": [
    "print(pink.append(blue).reset_index(drop=True))"
   ]
  },
  {
   "cell_type": "markdown",
   "metadata": {},
   "source": [
    "Using `pd.concat()` can produce the same output as above, but in this case, the input is a list of series or dataframes. The argument `ignore_index=True` performs the same function as `reset_index(drop=True)` above."
   ]
  },
  {
   "cell_type": "code",
   "execution_count": 3,
   "metadata": {},
   "outputs": [
    {
     "name": "stdout",
     "output_type": "stream",
     "text": [
      "0          rose\n",
      "1       fuchsia\n",
      "2          ruby\n",
      "3       magenta\n",
      "4     turquoise\n",
      "5      sky blue\n",
      "6          navy\n",
      "7    ocean blue\n",
      "dtype: object\n"
     ]
    }
   ],
   "source": [
    "#pass 2 dataframes as a list into pd.concat\n",
    "print(pd.concat([pink, blue], ignore_index=True))"
   ]
  },
  {
   "cell_type": "markdown",
   "metadata": {},
   "source": [
    "### Using `.append()` and `pd.concat()` for dataframes\n",
    "For pandas dataframes, the append method stacks the rows, just like for pandas series.  Here we will use 2 small csv files, one containing participants birthday month, and the other their age"
   ]
  },
  {
   "cell_type": "code",
   "execution_count": 16,
   "metadata": {},
   "outputs": [
    {
     "name": "stdout",
     "output_type": "stream",
     "text": [
      "                Fav Colour Birthday Month\n",
      "Participant num                          \n",
      "1                     blue            NaN\n",
      "2                      red            NaN\n",
      "3                    green            NaN\n",
      "4                  purple             NaN\n",
      "5                      red            NaN\n",
      "6                    green            NaN\n",
      "7                   orange            NaN\n",
      "8                  yellow             NaN\n",
      "9                  yellow             NaN\n",
      "10                    pink            NaN\n",
      "1                      NaN           may \n",
      "2                      NaN          june \n",
      "3                      NaN        january\n",
      "4                      NaN      february \n",
      "5                      NaN     september \n",
      "6                      NaN          july \n",
      "7                      NaN           may \n",
      "8                      NaN           may \n",
      "9                      NaN         august\n",
      "10                     NaN       december\n"
     ]
    }
   ],
   "source": [
    "#we begin by reading the csv files into dataframes, and making 'Participant num' the index column\n",
    "fav_colour = pd.read_csv('fav_colour.csv', index_col='Participant num')\n",
    "birthday_month = pd.read_csv('birthday_months.csv', index_col='Participant num')\n",
    "\n",
    "#append birthday_month to fav_colour\n",
    "print(fav_colour.append(birthday_month))"
   ]
  },
  {
   "cell_type": "markdown",
   "metadata": {},
   "source": [
    "If the two dataframes have different columns, such as in the example above, the places in columns where there is no corresponding value will be filled with NaN"
   ]
  },
  {
   "cell_type": "markdown",
   "metadata": {},
   "source": [
    "Using `pd.concat()` for dataframes produces similar output as `.append()`, but it will overlay specified DataFrames along shared row/columns."
   ]
  },
  {
   "cell_type": "code",
   "execution_count": 25,
   "metadata": {},
   "outputs": [
    {
     "name": "stdout",
     "output_type": "stream",
     "text": [
      "                Fav Colour Birthday Month\n",
      "Participant num                          \n",
      "1                     blue            NaN\n",
      "2                      red            NaN\n",
      "3                    green            NaN\n",
      "4                  purple             NaN\n",
      "5                      red            NaN\n",
      "6                    green            NaN\n",
      "7                   orange            NaN\n",
      "8                  yellow             NaN\n",
      "9                  yellow             NaN\n",
      "10                    pink            NaN\n",
      "1                      NaN           may \n",
      "2                      NaN          june \n",
      "3                      NaN        january\n",
      "4                      NaN      february \n",
      "5                      NaN     september \n",
      "6                      NaN          july \n",
      "7                      NaN           may \n",
      "8                      NaN           may \n",
      "9                      NaN         august\n",
      "10                     NaN       december\n"
     ]
    }
   ],
   "source": [
    "print(pd.concat([fav_colour, birthday_month]))"
   ]
  },
  {
   "cell_type": "markdown",
   "metadata": {},
   "source": [
    "The default when concatenating dataframes is to do so vertically, however `pd.concat()` allows you to concatenate horizontally as well. To do this, you must specify either `axis=1`, or `axis=columns`. Note in the example below, the rows with identical indices get combined when concatenated."
   ]
  },
  {
   "cell_type": "code",
   "execution_count": 15,
   "metadata": {},
   "outputs": [
    {
     "name": "stdout",
     "output_type": "stream",
     "text": [
      "                Fav Colour Birthday Month\n",
      "Participant num                          \n",
      "1                     blue           may \n",
      "2                      red          june \n",
      "3                    green        january\n",
      "4                  purple       february \n",
      "5                      red     september \n",
      "6                    green          july \n",
      "7                   orange           may \n",
      "8                  yellow            may \n",
      "9                  yellow          august\n",
      "10                    pink       december\n"
     ]
    }
   ],
   "source": [
    "print(pd.concat([fav_colour, birthday_month], axis=1))"
   ]
  },
  {
   "cell_type": "markdown",
   "metadata": {},
   "source": [
    "### Multi-indexes\n",
    "`pd.IndexSlice(keys=, ` allows you to index along specified index within multi-indexed DataFrame. The argument`keys=` assigns an outer index label for each of the specified dataframes."
   ]
  },
  {
   "cell_type": "markdown",
   "metadata": {},
   "source": [
    "### Outer and Inner Joins \n",
    "An outer join is performed by using the keyword argument `join='outer'` in the call to `pd.concat()`, it preserves teh indices of each dataframe. Specifying `join='inner'` will perform an inner join, which preserves indices common to both dataframes."
   ]
  },
  {
   "cell_type": "markdown",
   "metadata": {},
   "source": [
    "## Chapter 3: Merging Data\n"
   ]
  },
  {
   "cell_type": "markdown",
   "metadata": {},
   "source": [
    "### pd.merge()\n",
    "`pd.merge(df1, df2)` allows you to combine 2 or more dataframes. The default format computes a merge on all shared columns\n",
    "\n",
    "### Merging 'on'\n",
    "The keyword argument `on=` specifies which columns of a dataframe you would like to merge on. Using the example from the previous chapter, merging 'fav_colour' and 'birthday_month' on the 'Participant num' column creates a dataframe with 3 columns. One thing to note here - the column specified for `on=` must be a shared column between both dataframes."
   ]
  },
  {
   "cell_type": "code",
   "execution_count": 24,
   "metadata": {},
   "outputs": [
    {
     "name": "stdout",
     "output_type": "stream",
     "text": [
      "                Fav Colour Birthday Month\n",
      "Participant num                          \n",
      "1                     blue           may \n",
      "2                      red          june \n",
      "3                    green        january\n",
      "4                  purple       february \n",
      "5                      red     september \n",
      "6                    green          july \n",
      "7                   orange           may \n",
      "8                  yellow            may \n",
      "9                  yellow          august\n",
      "10                    pink       december\n"
     ]
    }
   ],
   "source": [
    "merged = pd.merge(fav_colour, birthday_month, on='Participant num')\n",
    "print(merged)"
   ]
  },
  {
   "cell_type": "markdown",
   "metadata": {},
   "source": [
    "### More pd.merge() arguments\n",
    "\n",
    "|                           |                     |\n",
    "|---------------------------|---------------------|\n",
    "|`left_on=' '`              |specify columns to merge on, left refers to df argument placement in call to `pd.merge()`|\n",
    "|`right_on=`                |specify columns to merge on, right refers to df argument placement in call to `pd.merge()`|\n",
    "|`how='left'`               |keeps all rows in left dataframe|\n",
    "|`how='right'`              |keeps all rows in right dataframe|            "
   ]
  },
  {
   "cell_type": "markdown",
   "metadata": {},
   "source": [
    "### `pd.merge.ordered(df1, df2)`\n",
    "This merges and puts data in specified order, and has a few keyword arguments:\n",
    "\n",
    "|                                     |                                    |\n",
    "|-------------------------------------|                                    |\n",
    "|`on=`                                |specify order type (e.g., on='date')|\n",
    "|`suffixes=`                          |add suffixes to column headers to improve organization|\n",
    "|`fill_method=`                       |specify NaN treatment (e.g., 'ffill')|"
   ]
  },
  {
   "cell_type": "code",
   "execution_count": null,
   "metadata": {},
   "outputs": [],
   "source": []
  }
 ],
 "metadata": {
  "kernelspec": {
   "display_name": "Python 3",
   "language": "python",
   "name": "python3"
  },
  "language_info": {
   "codemirror_mode": {
    "name": "ipython",
    "version": 3
   },
   "file_extension": ".py",
   "mimetype": "text/x-python",
   "name": "python",
   "nbconvert_exporter": "python",
   "pygments_lexer": "ipython3",
   "version": "3.7.7"
  }
 },
 "nbformat": 4,
 "nbformat_minor": 4
}
