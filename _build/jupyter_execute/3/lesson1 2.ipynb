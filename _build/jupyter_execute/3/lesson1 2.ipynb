{
 "cells": [
  {
   "cell_type": "markdown",
   "metadata": {},
   "source": [
    "# Lesson 1: Introduction to Python\n",
    "\n",
    "These notes are based on the sequence that concepts are introduced in the DataCamp lesson of the same name. They are most useful as a reference, after you've completed the DataCamp lesson. They are not intended to replace that lesson.\n",
    "\n",
    "[View this lesson on DataCamp](https://learn.datacamp.com/courses/intro-to-python-for-data-science )"
   ]
  },
  {
   "cell_type": "markdown",
   "metadata": {},
   "source": [
    "## Chapter 1\n",
    "This chapter introduces the basics of Python - simple math and variable types"
   ]
  },
  {
   "cell_type": "markdown",
   "metadata": {},
   "source": [
    "### Basic Operations\n",
    "\n",
    "| Operator |  Operation                                                   |\n",
    "|----------|--------------------------------------------------------------|\n",
    "| `#`      |  add comment                                                 |\n",
    "| `+`      |  addition                                                    |\n",
    "| `-`      |  subtraction                                                 |\n",
    "| `*`      |  multiplication                                              |\n",
    "| `/`      |  division                                                    |\n",
    "| `**`       |  exponentiation                                              |\n",
    "| `%`        |  modulo; returns remainder of division (e.g., `18 % 7` equals `4`) |\n",
    "| `=`        |  variable assignment                                         |\n",
    "| `==`       |  equal to                                                    |\n",
    "| `!=`       |  not equal to                                                |\n",
    "\n"
   ]
  },
  {
   "cell_type": "markdown",
   "metadata": {},
   "source": [
    "### Variable Types\n",
    "\n",
    "|                                          |                                                                      |\n",
    "|------------------------------------------|----------------------------------------------------------------------|\n",
    "| integer                                  |  number without fractional component (no decimal point)                                      |\n",
    "| float                                    |  number with both integer and fractional part separated by a decimal |\n",
    "| string  | text; enclose in `' '` or `\" \"`    |\n",
    "| boolean                                  |  logical values; can only be `True` or `False`                       |\n",
    "|list | Can contain many different types. Create with `[]`. Separate items with commas. |\n",
    "\n"
   ]
  },
  {
   "cell_type": "markdown",
   "metadata": {},
   "source": [
    "### Functions\n",
    "|           |                                       |\n",
    "|-----------|---------------------------------------|\n",
    "| `print()` |   outputs what's enclosed in `()`     |\n",
    "| `type()`  |  gives the type of a defined variable |\n",
    "| `int()`   |  converts a value into an integer     |\n",
    "| `float()` |  converts a value into a float        |\n",
    "| `str()`   |  converts a value into a string       |\n",
    "| `bool()`  |  converts a value into a boolean      |\n",
    "| `list()`  |  converts a value or values into a list |"
   ]
  },
  {
   "cell_type": "markdown",
   "metadata": {},
   "source": [
    "## Chapter 2\n",
    "This chapter covers everything to do with lists - creating lists, subsetting, and manipulation.\n",
    "\n",
    "Lists are ordered sets of items. \n",
    "\n",
    "### Working with Lists\n",
    "Create a list:"
   ]
  },
  {
   "cell_type": "code",
   "execution_count": 1,
   "metadata": {
    "execution": {
     "iopub.execute_input": "2020-07-05T20:38:16.673896Z",
     "iopub.status.busy": "2020-07-05T20:38:16.673049Z",
     "iopub.status.idle": "2020-07-05T20:38:16.675030Z",
     "shell.execute_reply": "2020-07-05T20:38:16.675502Z"
    }
   },
   "outputs": [],
   "source": [
    "odd = [1, 3, 5, 7, 9]"
   ]
  },
  {
   "cell_type": "markdown",
   "metadata": {},
   "source": [
    "First index (position) in list is 0, not 1:"
   ]
  },
  {
   "cell_type": "code",
   "execution_count": 2,
   "metadata": {
    "execution": {
     "iopub.execute_input": "2020-07-05T20:38:16.683472Z",
     "iopub.status.busy": "2020-07-05T20:38:16.682903Z",
     "iopub.status.idle": "2020-07-05T20:38:16.685122Z",
     "shell.execute_reply": "2020-07-05T20:38:16.685508Z"
    }
   },
   "outputs": [
    {
     "data": {
      "text/plain": [
       "3"
      ]
     },
     "execution_count": 2,
     "metadata": {},
     "output_type": "execute_result"
    }
   ],
   "source": [
    "odd[1]"
   ]
  },
  {
   "cell_type": "code",
   "execution_count": 3,
   "metadata": {
    "execution": {
     "iopub.execute_input": "2020-07-05T20:38:16.688670Z",
     "iopub.status.busy": "2020-07-05T20:38:16.688097Z",
     "iopub.status.idle": "2020-07-05T20:38:16.690218Z",
     "shell.execute_reply": "2020-07-05T20:38:16.690655Z"
    }
   },
   "outputs": [
    {
     "data": {
      "text/plain": [
       "1"
      ]
     },
     "execution_count": 3,
     "metadata": {},
     "output_type": "execute_result"
    }
   ],
   "source": [
    "odd[0]"
   ]
  },
  {
   "cell_type": "markdown",
   "metadata": {},
   "source": [
    "Negative indexing works from the end of the list. "
   ]
  },
  {
   "cell_type": "code",
   "execution_count": 4,
   "metadata": {
    "execution": {
     "iopub.execute_input": "2020-07-05T20:38:16.693850Z",
     "iopub.status.busy": "2020-07-05T20:38:16.693150Z",
     "iopub.status.idle": "2020-07-05T20:38:16.695749Z",
     "shell.execute_reply": "2020-07-05T20:38:16.696238Z"
    }
   },
   "outputs": [
    {
     "data": {
      "text/plain": [
       "9"
      ]
     },
     "execution_count": 4,
     "metadata": {},
     "output_type": "execute_result"
    }
   ],
   "source": [
    "odd[-1]"
   ]
  },
  {
   "cell_type": "markdown",
   "metadata": {},
   "source": [
    "#### Slicing\n",
    "Specify a range of indices inside square brackets: [inclusive:exclusive]"
   ]
  },
  {
   "cell_type": "code",
   "execution_count": 5,
   "metadata": {
    "execution": {
     "iopub.execute_input": "2020-07-05T20:38:16.699413Z",
     "iopub.status.busy": "2020-07-05T20:38:16.698832Z",
     "iopub.status.idle": "2020-07-05T20:38:16.700800Z",
     "shell.execute_reply": "2020-07-05T20:38:16.701175Z"
    }
   },
   "outputs": [
    {
     "data": {
      "text/plain": [
       "[1, 3, 5, 7, 9]"
      ]
     },
     "execution_count": 5,
     "metadata": {},
     "output_type": "execute_result"
    }
   ],
   "source": [
    "odd[0:5]"
   ]
  },
  {
   "cell_type": "code",
   "execution_count": 6,
   "metadata": {
    "execution": {
     "iopub.execute_input": "2020-07-05T20:38:16.704222Z",
     "iopub.status.busy": "2020-07-05T20:38:16.703685Z",
     "iopub.status.idle": "2020-07-05T20:38:16.705748Z",
     "shell.execute_reply": "2020-07-05T20:38:16.706093Z"
    }
   },
   "outputs": [
    {
     "data": {
      "text/plain": [
       "[3, 5]"
      ]
     },
     "execution_count": 6,
     "metadata": {},
     "output_type": "execute_result"
    }
   ],
   "source": [
    "odd[1:3]"
   ]
  },
  {
   "cell_type": "code",
   "execution_count": 7,
   "metadata": {
    "execution": {
     "iopub.execute_input": "2020-07-05T20:38:16.709110Z",
     "iopub.status.busy": "2020-07-05T20:38:16.708501Z",
     "iopub.status.idle": "2020-07-05T20:38:16.711249Z",
     "shell.execute_reply": "2020-07-05T20:38:16.711710Z"
    }
   },
   "outputs": [
    {
     "data": {
      "text/plain": [
       "[1, 3, 5, 7, 9]"
      ]
     },
     "execution_count": 7,
     "metadata": {},
     "output_type": "execute_result"
    }
   ],
   "source": [
    "odd[:]"
   ]
  },
  {
   "cell_type": "code",
   "execution_count": 8,
   "metadata": {
    "execution": {
     "iopub.execute_input": "2020-07-05T20:38:16.715464Z",
     "iopub.status.busy": "2020-07-05T20:38:16.714939Z",
     "iopub.status.idle": "2020-07-05T20:38:16.717418Z",
     "shell.execute_reply": "2020-07-05T20:38:16.717951Z"
    }
   },
   "outputs": [
    {
     "data": {
      "text/plain": [
       "[1, 3, 5]"
      ]
     },
     "execution_count": 8,
     "metadata": {},
     "output_type": "execute_result"
    }
   ],
   "source": [
    "odd[:3]"
   ]
  },
  {
   "cell_type": "code",
   "execution_count": 9,
   "metadata": {
    "execution": {
     "iopub.execute_input": "2020-07-05T20:38:16.720957Z",
     "iopub.status.busy": "2020-07-05T20:38:16.720444Z",
     "iopub.status.idle": "2020-07-05T20:38:16.722529Z",
     "shell.execute_reply": "2020-07-05T20:38:16.722884Z"
    }
   },
   "outputs": [
    {
     "data": {
      "text/plain": [
       "[7, 9]"
      ]
     },
     "execution_count": 9,
     "metadata": {},
     "output_type": "execute_result"
    }
   ],
   "source": [
    "odd[3:]"
   ]
  },
  {
   "cell_type": "markdown",
   "metadata": {},
   "source": [
    "#### List Manipulation\n",
    "Replacing list elements: subset list and assign a new value using =\n"
   ]
  },
  {
   "cell_type": "code",
   "execution_count": 10,
   "metadata": {
    "execution": {
     "iopub.execute_input": "2020-07-05T20:38:16.726111Z",
     "iopub.status.busy": "2020-07-05T20:38:16.725416Z",
     "iopub.status.idle": "2020-07-05T20:38:16.727815Z",
     "shell.execute_reply": "2020-07-05T20:38:16.728293Z"
    }
   },
   "outputs": [
    {
     "data": {
      "text/plain": [
       "[2, 3, 5, 7, 9]"
      ]
     },
     "execution_count": 10,
     "metadata": {},
     "output_type": "execute_result"
    }
   ],
   "source": [
    "odd[0] = 2\n",
    "odd[0:5]"
   ]
  },
  {
   "cell_type": "markdown",
   "metadata": {},
   "source": [
    "Extend a list, use + operator to add elements\n"
   ]
  },
  {
   "cell_type": "code",
   "execution_count": 11,
   "metadata": {
    "execution": {
     "iopub.execute_input": "2020-07-05T20:38:16.731562Z",
     "iopub.status.busy": "2020-07-05T20:38:16.730894Z",
     "iopub.status.idle": "2020-07-05T20:38:16.733168Z",
     "shell.execute_reply": "2020-07-05T20:38:16.733515Z"
    }
   },
   "outputs": [
    {
     "data": {
      "text/plain": [
       "[2, 3, 5, 7, 9, 11]"
      ]
     },
     "execution_count": 11,
     "metadata": {},
     "output_type": "execute_result"
    }
   ],
   "source": [
    "odd + [11]"
   ]
  },
  {
   "cell_type": "code",
   "execution_count": 12,
   "metadata": {
    "execution": {
     "iopub.execute_input": "2020-07-05T20:38:16.736999Z",
     "iopub.status.busy": "2020-07-05T20:38:16.736499Z",
     "iopub.status.idle": "2020-07-05T20:38:16.739007Z",
     "shell.execute_reply": "2020-07-05T20:38:16.738581Z"
    }
   },
   "outputs": [
    {
     "data": {
      "text/plain": [
       "[1, 3, 5, 7, 9, 2, 4, 6, 8, 10]"
      ]
     },
     "execution_count": 12,
     "metadata": {},
     "output_type": "execute_result"
    }
   ],
   "source": [
    "odd  = [1, 3, 5, 7, 9]\n",
    "even = [2, 4, 6, 8, 10]\n",
    "\n",
    "all_numbers = odd + even\n",
    "all_numbers"
   ]
  },
  {
   "cell_type": "markdown",
   "metadata": {},
   "source": [
    "Sort a list:"
   ]
  },
  {
   "cell_type": "code",
   "execution_count": 13,
   "metadata": {
    "execution": {
     "iopub.execute_input": "2020-07-05T20:38:16.742024Z",
     "iopub.status.busy": "2020-07-05T20:38:16.741482Z",
     "iopub.status.idle": "2020-07-05T20:38:16.743962Z",
     "shell.execute_reply": "2020-07-05T20:38:16.744397Z"
    }
   },
   "outputs": [
    {
     "data": {
      "text/plain": [
       "[1, 2, 3, 4, 5, 6, 7, 8, 9, 10]"
      ]
     },
     "execution_count": 13,
     "metadata": {},
     "output_type": "execute_result"
    }
   ],
   "source": [
    "all_numbers.sort()\n",
    "all_numbers"
   ]
  },
  {
   "cell_type": "markdown",
   "metadata": {},
   "source": [
    "Delete list items:"
   ]
  },
  {
   "cell_type": "code",
   "execution_count": 14,
   "metadata": {
    "execution": {
     "iopub.execute_input": "2020-07-05T20:38:16.747697Z",
     "iopub.status.busy": "2020-07-05T20:38:16.747196Z",
     "iopub.status.idle": "2020-07-05T20:38:16.749172Z",
     "shell.execute_reply": "2020-07-05T20:38:16.749519Z"
    }
   },
   "outputs": [
    {
     "data": {
      "text/plain": [
       "[1, 2, 3, 4, 5, 6, 7, 8, 9]"
      ]
     },
     "execution_count": 14,
     "metadata": {},
     "output_type": "execute_result"
    }
   ],
   "source": [
    "del(all_numbers[9])  # remember 0-indexing!\n",
    "all_numbers"
   ]
  },
  {
   "cell_type": "markdown",
   "metadata": {},
   "source": [
    "Copying a list"
   ]
  },
  {
   "cell_type": "code",
   "execution_count": 15,
   "metadata": {
    "execution": {
     "iopub.execute_input": "2020-07-05T20:38:16.752275Z",
     "iopub.status.busy": "2020-07-05T20:38:16.751788Z",
     "iopub.status.idle": "2020-07-05T20:38:16.753243Z",
     "shell.execute_reply": "2020-07-05T20:38:16.753598Z"
    }
   },
   "outputs": [],
   "source": [
    "my_numbers = all_numbers.copy()"
   ]
  },
  {
   "cell_type": "code",
   "execution_count": 16,
   "metadata": {
    "execution": {
     "iopub.execute_input": "2020-07-05T20:38:16.756481Z",
     "iopub.status.busy": "2020-07-05T20:38:16.755957Z",
     "iopub.status.idle": "2020-07-05T20:38:16.758227Z",
     "shell.execute_reply": "2020-07-05T20:38:16.758588Z"
    }
   },
   "outputs": [
    {
     "data": {
      "text/plain": [
       "[1, 2, 3, 4, 5, 6, 7, 8, 9]"
      ]
     },
     "execution_count": 16,
     "metadata": {},
     "output_type": "execute_result"
    }
   ],
   "source": [
    "my_numbers"
   ]
  },
  {
   "cell_type": "markdown",
   "metadata": {},
   "source": [
    "You can also use the `list` function to make a list from another list:"
   ]
  },
  {
   "cell_type": "code",
   "execution_count": 17,
   "metadata": {
    "execution": {
     "iopub.execute_input": "2020-07-05T20:38:16.762060Z",
     "iopub.status.busy": "2020-07-05T20:38:16.761396Z",
     "iopub.status.idle": "2020-07-05T20:38:16.763078Z",
     "shell.execute_reply": "2020-07-05T20:38:16.763436Z"
    }
   },
   "outputs": [],
   "source": [
    "some_numbers = list(all_numbers)"
   ]
  },
  {
   "cell_type": "code",
   "execution_count": 18,
   "metadata": {
    "execution": {
     "iopub.execute_input": "2020-07-05T20:38:16.766353Z",
     "iopub.status.busy": "2020-07-05T20:38:16.765813Z",
     "iopub.status.idle": "2020-07-05T20:38:16.768180Z",
     "shell.execute_reply": "2020-07-05T20:38:16.768537Z"
    }
   },
   "outputs": [
    {
     "data": {
      "text/plain": [
       "[1, 2, 3, 4, 5, 6, 7, 8, 9]"
      ]
     },
     "execution_count": 18,
     "metadata": {},
     "output_type": "execute_result"
    }
   ],
   "source": [
    "some_numbers"
   ]
  },
  {
   "cell_type": "markdown",
   "metadata": {},
   "source": [
    "Be careful not to do this. This \"points\" the new list, `my_numbers_nono`, at the original list, `all_numbers`"
   ]
  },
  {
   "cell_type": "code",
   "execution_count": 19,
   "metadata": {
    "execution": {
     "iopub.execute_input": "2020-07-05T20:38:16.771652Z",
     "iopub.status.busy": "2020-07-05T20:38:16.771093Z",
     "iopub.status.idle": "2020-07-05T20:38:16.773064Z",
     "shell.execute_reply": "2020-07-05T20:38:16.773419Z"
    }
   },
   "outputs": [
    {
     "data": {
      "text/plain": [
       "[1, 2, 3, 4, 5, 6, 7, 8, 9]"
      ]
     },
     "execution_count": 19,
     "metadata": {},
     "output_type": "execute_result"
    }
   ],
   "source": [
    "my_numbers_nono = all_numbers\n",
    "my_numbers_nono"
   ]
  },
  {
   "cell_type": "markdown",
   "metadata": {},
   "source": [
    "So when you nodify `all_numbers`, you also change `my_numbers_nono`"
   ]
  },
  {
   "cell_type": "code",
   "execution_count": 20,
   "metadata": {
    "execution": {
     "iopub.execute_input": "2020-07-05T20:38:16.776574Z",
     "iopub.status.busy": "2020-07-05T20:38:16.776071Z",
     "iopub.status.idle": "2020-07-05T20:38:16.778054Z",
     "shell.execute_reply": "2020-07-05T20:38:16.778412Z"
    }
   },
   "outputs": [
    {
     "data": {
      "text/plain": [
       "[1, 2, 3, 4, 5, 6, 7, 8]"
      ]
     },
     "execution_count": 20,
     "metadata": {},
     "output_type": "execute_result"
    }
   ],
   "source": [
    "del(all_numbers[8])\n",
    "my_numbers_nono"
   ]
  },
  {
   "cell_type": "markdown",
   "metadata": {},
   "source": [
    "## Chapter 3\n",
    "\n",
    " This chapter introduces a variety of functions and methods, as well as Python packages"
   ]
  },
  {
   "cell_type": "code",
   "execution_count": 21,
   "metadata": {
    "execution": {
     "iopub.execute_input": "2020-07-05T20:38:16.781961Z",
     "iopub.status.busy": "2020-07-05T20:38:16.781217Z",
     "iopub.status.idle": "2020-07-05T20:38:16.783352Z",
     "shell.execute_reply": "2020-07-05T20:38:16.783728Z"
    }
   },
   "outputs": [],
   "source": [
    "my_list = [10, 9, 8, 7, 6, 5, 4, 3, 2, 1]"
   ]
  },
  {
   "cell_type": "markdown",
   "metadata": {},
   "source": [
    "### Functions"
   ]
  },
  {
   "cell_type": "markdown",
   "metadata": {},
   "source": [
    "#### Max/min values in list"
   ]
  },
  {
   "cell_type": "code",
   "execution_count": 22,
   "metadata": {
    "execution": {
     "iopub.execute_input": "2020-07-05T20:38:16.787108Z",
     "iopub.status.busy": "2020-07-05T20:38:16.786553Z",
     "iopub.status.idle": "2020-07-05T20:38:16.788673Z",
     "shell.execute_reply": "2020-07-05T20:38:16.789023Z"
    }
   },
   "outputs": [
    {
     "data": {
      "text/plain": [
       "10"
      ]
     },
     "execution_count": 22,
     "metadata": {},
     "output_type": "execute_result"
    }
   ],
   "source": [
    "max(my_list)"
   ]
  },
  {
   "cell_type": "code",
   "execution_count": 23,
   "metadata": {
    "execution": {
     "iopub.execute_input": "2020-07-05T20:38:16.791875Z",
     "iopub.status.busy": "2020-07-05T20:38:16.791310Z",
     "iopub.status.idle": "2020-07-05T20:38:16.794123Z",
     "shell.execute_reply": "2020-07-05T20:38:16.794567Z"
    }
   },
   "outputs": [
    {
     "data": {
      "text/plain": [
       "1"
      ]
     },
     "execution_count": 23,
     "metadata": {},
     "output_type": "execute_result"
    }
   ],
   "source": [
    "min(my_list)"
   ]
  },
  {
   "cell_type": "markdown",
   "metadata": {},
   "source": [
    "#### Rounding"
   ]
  },
  {
   "cell_type": "code",
   "execution_count": 24,
   "metadata": {
    "execution": {
     "iopub.execute_input": "2020-07-05T20:38:16.797953Z",
     "iopub.status.busy": "2020-07-05T20:38:16.797416Z",
     "iopub.status.idle": "2020-07-05T20:38:16.799555Z",
     "shell.execute_reply": "2020-07-05T20:38:16.799984Z"
    }
   },
   "outputs": [
    {
     "data": {
      "text/plain": [
       "3.14"
      ]
     },
     "execution_count": 24,
     "metadata": {},
     "output_type": "execute_result"
    }
   ],
   "source": [
    "pi = 3.14159265359\n",
    "round(pi, 2)"
   ]
  },
  {
   "cell_type": "markdown",
   "metadata": {},
   "source": [
    "#### Length of list"
   ]
  },
  {
   "cell_type": "code",
   "execution_count": 25,
   "metadata": {
    "execution": {
     "iopub.execute_input": "2020-07-05T20:38:16.803018Z",
     "iopub.status.busy": "2020-07-05T20:38:16.802466Z",
     "iopub.status.idle": "2020-07-05T20:38:16.804375Z",
     "shell.execute_reply": "2020-07-05T20:38:16.804912Z"
    }
   },
   "outputs": [
    {
     "data": {
      "text/plain": [
       "10"
      ]
     },
     "execution_count": 25,
     "metadata": {},
     "output_type": "execute_result"
    }
   ],
   "source": [
    "len(my_list)"
   ]
  },
  {
   "cell_type": "markdown",
   "metadata": {},
   "source": [
    "#### Help"
   ]
  },
  {
   "cell_type": "code",
   "execution_count": 26,
   "metadata": {
    "execution": {
     "iopub.execute_input": "2020-07-05T20:38:16.844665Z",
     "iopub.status.busy": "2020-07-05T20:38:16.843970Z",
     "iopub.status.idle": "2020-07-05T20:38:16.847544Z",
     "shell.execute_reply": "2020-07-05T20:38:16.847916Z"
    }
   },
   "outputs": [],
   "source": [
    "?round"
   ]
  },
  {
   "cell_type": "markdown",
   "metadata": {},
   "source": [
    "#### Sorting"
   ]
  },
  {
   "cell_type": "code",
   "execution_count": 27,
   "metadata": {
    "execution": {
     "iopub.execute_input": "2020-07-05T20:38:16.851224Z",
     "iopub.status.busy": "2020-07-05T20:38:16.850591Z",
     "iopub.status.idle": "2020-07-05T20:38:16.852994Z",
     "shell.execute_reply": "2020-07-05T20:38:16.853350Z"
    }
   },
   "outputs": [
    {
     "data": {
      "text/plain": [
       "[1, 2, 3, 4, 5, 6, 7, 8, 9, 10]"
      ]
     },
     "execution_count": 27,
     "metadata": {},
     "output_type": "execute_result"
    }
   ],
   "source": [
    "going_up = sorted(my_list)\n",
    "going_up"
   ]
  },
  {
   "cell_type": "code",
   "execution_count": 28,
   "metadata": {
    "execution": {
     "iopub.execute_input": "2020-07-05T20:38:16.856789Z",
     "iopub.status.busy": "2020-07-05T20:38:16.856000Z",
     "iopub.status.idle": "2020-07-05T20:38:16.858306Z",
     "shell.execute_reply": "2020-07-05T20:38:16.858696Z"
    }
   },
   "outputs": [
    {
     "data": {
      "text/plain": [
       "[10, 9, 8, 7, 6, 5, 4, 3, 2, 1]"
      ]
     },
     "execution_count": 28,
     "metadata": {},
     "output_type": "execute_result"
    }
   ],
   "source": [
    "going_down = sorted(going_up, reverse=True)\n",
    "going_down"
   ]
  },
  {
   "cell_type": "markdown",
   "metadata": {},
   "source": [
    "### Methods\n",
    "\n",
    "Methods are functions that are applied to a variable by adding a dot then the method name (and parentheses) to the end of the variable name.\n",
    "\n",
    "| Method | What it does |\n",
    "|--------|--------------|\n",
    "|`.index()` | for a list, gives index of the input value |\n",
    "|`.capitalize()` | returns string with the first letter capitalized |\n",
    "|`.upper()` | capitalizes all letters in a string |\n",
    "|`.count()` | for `string`: counts how many of the input are in a string |\n",
    "|`.count()` | for `list`: counts the number of times an element appears in a list |\n",
    "|`.append()` | adds an element to the list it is called on |\n",
    "|`.remove()` | removes the first element of a list that matches the input |\n",
    "|`.reverse()` | reverses the order of the elements in the list its called on |\n",
    "|`.round()` | rounds a float to the number of decimal places specified in the parentheses |"
   ]
  },
  {
   "cell_type": "code",
   "execution_count": 29,
   "metadata": {
    "execution": {
     "iopub.execute_input": "2020-07-05T20:38:16.861792Z",
     "iopub.status.busy": "2020-07-05T20:38:16.861220Z",
     "iopub.status.idle": "2020-07-05T20:38:16.863393Z",
     "shell.execute_reply": "2020-07-05T20:38:16.863807Z"
    }
   },
   "outputs": [
    {
     "data": {
      "text/plain": [
       "0"
      ]
     },
     "execution_count": 29,
     "metadata": {},
     "output_type": "execute_result"
    }
   ],
   "source": [
    "going_down.index(10)"
   ]
  },
  {
   "cell_type": "code",
   "execution_count": 30,
   "metadata": {
    "execution": {
     "iopub.execute_input": "2020-07-05T20:38:16.866903Z",
     "iopub.status.busy": "2020-07-05T20:38:16.866285Z",
     "iopub.status.idle": "2020-07-05T20:38:16.868626Z",
     "shell.execute_reply": "2020-07-05T20:38:16.868981Z"
    }
   },
   "outputs": [
    {
     "data": {
      "text/plain": [
       "[10, 9, 8, 7, 6, 5, 4, 3, 2, 1, 0]"
      ]
     },
     "execution_count": 30,
     "metadata": {},
     "output_type": "execute_result"
    }
   ],
   "source": [
    "going_down.append(0)\n",
    "going_down"
   ]
  },
  {
   "cell_type": "markdown",
   "metadata": {},
   "source": [
    "### Packages\n",
    "\n",
    "Import a package (sometimes called a library), including all its functions"
   ]
  },
  {
   "cell_type": "code",
   "execution_count": 31,
   "metadata": {
    "execution": {
     "iopub.execute_input": "2020-07-05T20:38:16.871783Z",
     "iopub.status.busy": "2020-07-05T20:38:16.871137Z",
     "iopub.status.idle": "2020-07-05T20:38:17.158753Z",
     "shell.execute_reply": "2020-07-05T20:38:17.159116Z"
    }
   },
   "outputs": [],
   "source": [
    "import matplotlib"
   ]
  },
  {
   "cell_type": "markdown",
   "metadata": {},
   "source": [
    "Import a package and give it a shorthand name:"
   ]
  },
  {
   "cell_type": "code",
   "execution_count": 32,
   "metadata": {
    "execution": {
     "iopub.execute_input": "2020-07-05T20:38:17.162055Z",
     "iopub.status.busy": "2020-07-05T20:38:17.161477Z",
     "iopub.status.idle": "2020-07-05T20:38:17.163373Z",
     "shell.execute_reply": "2020-07-05T20:38:17.162998Z"
    }
   },
   "outputs": [],
   "source": [
    "import numpy as np"
   ]
  },
  {
   "cell_type": "markdown",
   "metadata": {},
   "source": [
    "## Chapter 4\n",
    "\n",
    "This chapter introduces the `numpy` package (by convention, imported as `np`), focusing on the numpy array data type.\n",
    "\n",
    "### NumPy arrays\n",
    "\n",
    "NumPy arrays are similar to lists: ordered sets of values. However, they behave differently, and can have multiple dimensons (see below), so NumPy arrays are often a better choice for structured data.\n",
    "\n",
    "You can **create** an np array manually by putting a list inside the `np.array()` function:"
   ]
  },
  {
   "cell_type": "code",
   "execution_count": 33,
   "metadata": {
    "execution": {
     "iopub.execute_input": "2020-07-05T20:38:17.166602Z",
     "iopub.status.busy": "2020-07-05T20:38:17.166112Z",
     "iopub.status.idle": "2020-07-05T20:38:17.168654Z",
     "shell.execute_reply": "2020-07-05T20:38:17.169003Z"
    }
   },
   "outputs": [
    {
     "data": {
      "text/plain": [
       "array([1, 3, 5, 7, 9])"
      ]
     },
     "execution_count": 33,
     "metadata": {},
     "output_type": "execute_result"
    }
   ],
   "source": [
    "np_odds = np.array([1, 3, 5, 7, 9])\n",
    "np_odds"
   ]
  },
  {
   "cell_type": "markdown",
   "metadata": {},
   "source": [
    "Or by specifying the name of a list you previously created:"
   ]
  },
  {
   "cell_type": "code",
   "execution_count": 34,
   "metadata": {
    "execution": {
     "iopub.execute_input": "2020-07-05T20:38:17.172207Z",
     "iopub.status.busy": "2020-07-05T20:38:17.171719Z",
     "iopub.status.idle": "2020-07-05T20:38:17.173958Z",
     "shell.execute_reply": "2020-07-05T20:38:17.174314Z"
    }
   },
   "outputs": [
    {
     "data": {
      "text/plain": [
       "array([ 2,  4,  6,  8, 10])"
      ]
     },
     "execution_count": 34,
     "metadata": {},
     "output_type": "execute_result"
    }
   ],
   "source": [
    "evens = [2, 4, 6, 8, 10]\n",
    "np_evens = np.array(evens)\n",
    "np_evens"
   ]
  },
  {
   "cell_type": "markdown",
   "metadata": {},
   "source": [
    "**Note**: If you just type the name of an array, you'll see the the contents of the array, embedded inside `array()`, as shown above. If you `print()` the array, you'll see only its contents:"
   ]
  },
  {
   "cell_type": "code",
   "execution_count": 35,
   "metadata": {
    "execution": {
     "iopub.execute_input": "2020-07-05T20:38:17.177744Z",
     "iopub.status.busy": "2020-07-05T20:38:17.177092Z",
     "iopub.status.idle": "2020-07-05T20:38:17.179673Z",
     "shell.execute_reply": "2020-07-05T20:38:17.180074Z"
    }
   },
   "outputs": [
    {
     "name": "stdout",
     "output_type": "stream",
     "text": [
      "[ 2  4  6  8 10]\n"
     ]
    }
   ],
   "source": [
    "print(np_evens)"
   ]
  },
  {
   "cell_type": "markdown",
   "metadata": {},
   "source": [
    "Either way above is acceptable, but remember that in Jupyter, you need to use `print()` to see the output of anything other than the last returned value:"
   ]
  },
  {
   "cell_type": "code",
   "execution_count": 36,
   "metadata": {
    "execution": {
     "iopub.execute_input": "2020-07-05T20:38:17.183005Z",
     "iopub.status.busy": "2020-07-05T20:38:17.182480Z",
     "iopub.status.idle": "2020-07-05T20:38:17.184639Z",
     "shell.execute_reply": "2020-07-05T20:38:17.184979Z"
    }
   },
   "outputs": [
    {
     "data": {
      "text/plain": [
       "array([1, 3, 5, 7, 9])"
      ]
     },
     "execution_count": 36,
     "metadata": {},
     "output_type": "execute_result"
    }
   ],
   "source": [
    "np_evens\n",
    "np_odds"
   ]
  },
  {
   "cell_type": "code",
   "execution_count": 37,
   "metadata": {
    "execution": {
     "iopub.execute_input": "2020-07-05T20:38:17.188208Z",
     "iopub.status.busy": "2020-07-05T20:38:17.187610Z",
     "iopub.status.idle": "2020-07-05T20:38:17.190126Z",
     "shell.execute_reply": "2020-07-05T20:38:17.190466Z"
    }
   },
   "outputs": [
    {
     "name": "stdout",
     "output_type": "stream",
     "text": [
      "[ 2  4  6  8 10]\n"
     ]
    },
    {
     "data": {
      "text/plain": [
       "array([1, 3, 5, 7, 9])"
      ]
     },
     "execution_count": 37,
     "metadata": {},
     "output_type": "execute_result"
    }
   ],
   "source": [
    "print(np_evens)\n",
    "np_odds"
   ]
  },
  {
   "cell_type": "markdown",
   "metadata": {},
   "source": [
    "NumPy arrays can only contain values of one type. Values are converted to a different type to enforce this:"
   ]
  },
  {
   "cell_type": "code",
   "execution_count": 38,
   "metadata": {
    "execution": {
     "iopub.execute_input": "2020-07-05T20:38:17.193895Z",
     "iopub.status.busy": "2020-07-05T20:38:17.193371Z",
     "iopub.status.idle": "2020-07-05T20:38:17.195341Z",
     "shell.execute_reply": "2020-07-05T20:38:17.195733Z"
    }
   },
   "outputs": [
    {
     "data": {
      "text/plain": [
       "array(['1', 'two', 'False'], dtype='<U21')"
      ]
     },
     "execution_count": 38,
     "metadata": {},
     "output_type": "execute_result"
    }
   ],
   "source": [
    "np.array([1, 'two', False])"
   ]
  },
  {
   "cell_type": "markdown",
   "metadata": {},
   "source": [
    "Above, the int `1` and the Boolean `False` were converted to a string, because the string 'two' couldn't be converted to any other type.\n",
    "\n",
    "Below, we only have ints and Booleans. Booleans are converted to ints:"
   ]
  },
  {
   "cell_type": "code",
   "execution_count": 39,
   "metadata": {
    "execution": {
     "iopub.execute_input": "2020-07-05T20:38:17.198790Z",
     "iopub.status.busy": "2020-07-05T20:38:17.198235Z",
     "iopub.status.idle": "2020-07-05T20:38:17.200286Z",
     "shell.execute_reply": "2020-07-05T20:38:17.200617Z"
    }
   },
   "outputs": [
    {
     "data": {
      "text/plain": [
       "array([1, 2, 0, 1])"
      ]
     },
     "execution_count": 39,
     "metadata": {},
     "output_type": "execute_result"
    }
   ],
   "source": [
    "np.array([1, 2, False, True])"
   ]
  },
  {
   "cell_type": "markdown",
   "metadata": {},
   "source": [
    "Unlike lists, operations are applied to np arrays element-wise (i.e., applies operation to each element in the array).\n",
    "\n",
    "So for a list, this is probably *not* your intended outcome:"
   ]
  },
  {
   "cell_type": "code",
   "execution_count": 40,
   "metadata": {
    "execution": {
     "iopub.execute_input": "2020-07-05T20:38:17.203333Z",
     "iopub.status.busy": "2020-07-05T20:38:17.202853Z",
     "iopub.status.idle": "2020-07-05T20:38:17.204675Z",
     "shell.execute_reply": "2020-07-05T20:38:17.205013Z"
    }
   },
   "outputs": [
    {
     "name": "stdout",
     "output_type": "stream",
     "text": [
      "[2, 4, 6, 8, 10, 2, 4, 6, 8, 10]\n"
     ]
    }
   ],
   "source": [
    "print(evens * 2)"
   ]
  },
  {
   "cell_type": "markdown",
   "metadata": {},
   "source": [
    "But for a NumPy array:"
   ]
  },
  {
   "cell_type": "code",
   "execution_count": 41,
   "metadata": {
    "execution": {
     "iopub.execute_input": "2020-07-05T20:38:17.207922Z",
     "iopub.status.busy": "2020-07-05T20:38:17.207388Z",
     "iopub.status.idle": "2020-07-05T20:38:17.209237Z",
     "shell.execute_reply": "2020-07-05T20:38:17.209572Z"
    }
   },
   "outputs": [
    {
     "name": "stdout",
     "output_type": "stream",
     "text": [
      "[ 4  8 12 16 20]\n"
     ]
    }
   ],
   "source": [
    "print(np_evens * 2)"
   ]
  },
  {
   "cell_type": "markdown",
   "metadata": {},
   "source": [
    "### 2D arrays\n",
    "\n",
    "A NumPy array with two dimensions (rows and columns).\n",
    "\n",
    "Can create from a regular python list of lists (note the two lists are inside another list/set of square brackets):"
   ]
  },
  {
   "cell_type": "code",
   "execution_count": 42,
   "metadata": {
    "execution": {
     "iopub.execute_input": "2020-07-05T20:38:17.212840Z",
     "iopub.status.busy": "2020-07-05T20:38:17.212035Z",
     "iopub.status.idle": "2020-07-05T20:38:17.213876Z",
     "shell.execute_reply": "2020-07-05T20:38:17.214265Z"
    }
   },
   "outputs": [],
   "source": [
    "my_2d_array = np.array([[0, 1, 2], [3, 4, 5]])"
   ]
  },
  {
   "cell_type": "code",
   "execution_count": 43,
   "metadata": {
    "execution": {
     "iopub.execute_input": "2020-07-05T20:38:17.218340Z",
     "iopub.status.busy": "2020-07-05T20:38:17.217709Z",
     "iopub.status.idle": "2020-07-05T20:38:17.219966Z",
     "shell.execute_reply": "2020-07-05T20:38:17.220373Z"
    }
   },
   "outputs": [
    {
     "data": {
      "text/plain": [
       "array([[0, 1, 2],\n",
       "       [3, 4, 5]])"
      ]
     },
     "execution_count": 43,
     "metadata": {},
     "output_type": "execute_result"
    }
   ],
   "source": [
    "my_2d_array"
   ]
  },
  {
   "cell_type": "markdown",
   "metadata": {},
   "source": [
    "#### Indexing 2D Arrays:\n",
    "Specify in format [*rows*, *columns*]. As with lists, `:` selects entire row/column, and you can use negative indexing"
   ]
  },
  {
   "cell_type": "code",
   "execution_count": 44,
   "metadata": {
    "execution": {
     "iopub.execute_input": "2020-07-05T20:38:17.224217Z",
     "iopub.status.busy": "2020-07-05T20:38:17.223295Z",
     "iopub.status.idle": "2020-07-05T20:38:17.226482Z",
     "shell.execute_reply": "2020-07-05T20:38:17.226932Z"
    }
   },
   "outputs": [
    {
     "data": {
      "text/plain": [
       "array([0, 1, 2])"
      ]
     },
     "execution_count": 44,
     "metadata": {},
     "output_type": "execute_result"
    }
   ],
   "source": [
    "my_2d_array[0, :]"
   ]
  },
  {
   "cell_type": "code",
   "execution_count": 45,
   "metadata": {
    "execution": {
     "iopub.execute_input": "2020-07-05T20:38:17.230638Z",
     "iopub.status.busy": "2020-07-05T20:38:17.230074Z",
     "iopub.status.idle": "2020-07-05T20:38:17.232129Z",
     "shell.execute_reply": "2020-07-05T20:38:17.232647Z"
    }
   },
   "outputs": [
    {
     "data": {
      "text/plain": [
       "array([3, 4, 5])"
      ]
     },
     "execution_count": 45,
     "metadata": {},
     "output_type": "execute_result"
    }
   ],
   "source": [
    "my_2d_array[1, :]"
   ]
  },
  {
   "cell_type": "markdown",
   "metadata": {},
   "source": [
    "Column only:"
   ]
  },
  {
   "cell_type": "code",
   "execution_count": 46,
   "metadata": {
    "execution": {
     "iopub.execute_input": "2020-07-05T20:38:17.236710Z",
     "iopub.status.busy": "2020-07-05T20:38:17.236052Z",
     "iopub.status.idle": "2020-07-05T20:38:17.238198Z",
     "shell.execute_reply": "2020-07-05T20:38:17.238700Z"
    }
   },
   "outputs": [
    {
     "data": {
      "text/plain": [
       "array([0, 3])"
      ]
     },
     "execution_count": 46,
     "metadata": {},
     "output_type": "execute_result"
    }
   ],
   "source": [
    "my_2d_array[:, 0]"
   ]
  },
  {
   "cell_type": "markdown",
   "metadata": {},
   "source": [
    "Last coumn:"
   ]
  },
  {
   "cell_type": "code",
   "execution_count": 47,
   "metadata": {
    "execution": {
     "iopub.execute_input": "2020-07-05T20:38:17.242643Z",
     "iopub.status.busy": "2020-07-05T20:38:17.241952Z",
     "iopub.status.idle": "2020-07-05T20:38:17.244254Z",
     "shell.execute_reply": "2020-07-05T20:38:17.244703Z"
    }
   },
   "outputs": [
    {
     "data": {
      "text/plain": [
       "array([2, 5])"
      ]
     },
     "execution_count": 47,
     "metadata": {},
     "output_type": "execute_result"
    }
   ],
   "source": [
    "my_2d_array[:, -1]"
   ]
  },
  {
   "cell_type": "markdown",
   "metadata": {},
   "source": [
    "Select single value by specifying a particular row and column:"
   ]
  },
  {
   "cell_type": "code",
   "execution_count": 48,
   "metadata": {
    "execution": {
     "iopub.execute_input": "2020-07-05T20:38:17.248507Z",
     "iopub.status.busy": "2020-07-05T20:38:17.247895Z",
     "iopub.status.idle": "2020-07-05T20:38:17.250090Z",
     "shell.execute_reply": "2020-07-05T20:38:17.250486Z"
    }
   },
   "outputs": [
    {
     "data": {
      "text/plain": [
       "4"
      ]
     },
     "execution_count": 48,
     "metadata": {},
     "output_type": "execute_result"
    }
   ],
   "source": [
    "my_2d_array[1, 1]"
   ]
  },
  {
   "cell_type": "markdown",
   "metadata": {},
   "source": [
    "`.shape` *attribute* gives shape (rows, cols) of 2D numpy array:"
   ]
  },
  {
   "cell_type": "code",
   "execution_count": 49,
   "metadata": {
    "execution": {
     "iopub.execute_input": "2020-07-05T20:38:17.253912Z",
     "iopub.status.busy": "2020-07-05T20:38:17.253286Z",
     "iopub.status.idle": "2020-07-05T20:38:17.255392Z",
     "shell.execute_reply": "2020-07-05T20:38:17.255885Z"
    }
   },
   "outputs": [
    {
     "data": {
      "text/plain": [
       "(2, 3)"
      ]
     },
     "execution_count": 49,
     "metadata": {},
     "output_type": "execute_result"
    }
   ],
   "source": [
    "my_2d_array.shape"
   ]
  },
  {
   "cell_type": "markdown",
   "metadata": {},
   "source": [
    "### NumPy Array Functions"
   ]
  },
  {
   "cell_type": "code",
   "execution_count": 50,
   "metadata": {
    "execution": {
     "iopub.execute_input": "2020-07-05T20:38:17.259846Z",
     "iopub.status.busy": "2020-07-05T20:38:17.259240Z",
     "iopub.status.idle": "2020-07-05T20:38:17.261719Z",
     "shell.execute_reply": "2020-07-05T20:38:17.262112Z"
    }
   },
   "outputs": [
    {
     "data": {
      "text/plain": [
       "array([0.10198194, 0.04076599, 0.00089472, 0.37751879, 0.528915  ,\n",
       "       0.84196788, 0.69425328, 0.36101633, 0.79734233, 0.8943114 ])"
      ]
     },
     "execution_count": 50,
     "metadata": {},
     "output_type": "execute_result"
    }
   ],
   "source": [
    "np.random.rand(10)"
   ]
  },
  {
   "cell_type": "code",
   "execution_count": 51,
   "metadata": {
    "execution": {
     "iopub.execute_input": "2020-07-05T20:38:17.265858Z",
     "iopub.status.busy": "2020-07-05T20:38:17.265286Z",
     "iopub.status.idle": "2020-07-05T20:38:17.267333Z",
     "shell.execute_reply": "2020-07-05T20:38:17.267734Z"
    }
   },
   "outputs": [
    {
     "name": "stdout",
     "output_type": "stream",
     "text": [
      "[0.251269   0.58172525 0.18079206 0.01850976 0.04680102 0.70797815\n",
      " 0.20016342 0.57657395 0.62977587 0.04137922]\n"
     ]
    }
   ],
   "source": [
    "# Some random numbers:\n",
    "my_data = np.random.rand(10)\n",
    "print(my_data)"
   ]
  },
  {
   "cell_type": "markdown",
   "metadata": {},
   "source": [
    "#### Mean"
   ]
  },
  {
   "cell_type": "code",
   "execution_count": 52,
   "metadata": {
    "execution": {
     "iopub.execute_input": "2020-07-05T20:38:17.271326Z",
     "iopub.status.busy": "2020-07-05T20:38:17.270736Z",
     "iopub.status.idle": "2020-07-05T20:38:17.272935Z",
     "shell.execute_reply": "2020-07-05T20:38:17.273324Z"
    }
   },
   "outputs": [
    {
     "data": {
      "text/plain": [
       "0.3234967700726895"
      ]
     },
     "execution_count": 52,
     "metadata": {},
     "output_type": "execute_result"
    }
   ],
   "source": [
    "np.mean(my_data)"
   ]
  },
  {
   "cell_type": "markdown",
   "metadata": {},
   "source": [
    "#### Median"
   ]
  },
  {
   "cell_type": "code",
   "execution_count": 53,
   "metadata": {
    "execution": {
     "iopub.execute_input": "2020-07-05T20:38:17.276970Z",
     "iopub.status.busy": "2020-07-05T20:38:17.276358Z",
     "iopub.status.idle": "2020-07-05T20:38:17.278489Z",
     "shell.execute_reply": "2020-07-05T20:38:17.278998Z"
    }
   },
   "outputs": [
    {
     "data": {
      "text/plain": [
       "0.22571621101802875"
      ]
     },
     "execution_count": 53,
     "metadata": {},
     "output_type": "execute_result"
    }
   ],
   "source": [
    "np.median(my_data)"
   ]
  },
  {
   "cell_type": "markdown",
   "metadata": {},
   "source": [
    "#### Standard Deviation"
   ]
  },
  {
   "cell_type": "code",
   "execution_count": 54,
   "metadata": {
    "execution": {
     "iopub.execute_input": "2020-07-05T20:38:17.282413Z",
     "iopub.status.busy": "2020-07-05T20:38:17.281877Z",
     "iopub.status.idle": "2020-07-05T20:38:17.284331Z",
     "shell.execute_reply": "2020-07-05T20:38:17.284729Z"
    }
   },
   "outputs": [
    {
     "data": {
      "text/plain": [
       "0.2573564352066152"
      ]
     },
     "execution_count": 54,
     "metadata": {},
     "output_type": "execute_result"
    }
   ],
   "source": [
    "np.std(my_data)"
   ]
  },
  {
   "cell_type": "markdown",
   "metadata": {},
   "source": [
    "If you don't like long numbers, you can apply the .round() method to the output:"
   ]
  },
  {
   "cell_type": "code",
   "execution_count": 55,
   "metadata": {
    "execution": {
     "iopub.execute_input": "2020-07-05T20:38:17.288140Z",
     "iopub.status.busy": "2020-07-05T20:38:17.287554Z",
     "iopub.status.idle": "2020-07-05T20:38:17.289680Z",
     "shell.execute_reply": "2020-07-05T20:38:17.290064Z"
    }
   },
   "outputs": [
    {
     "name": "stdout",
     "output_type": "stream",
     "text": [
      "0.257\n"
     ]
    }
   ],
   "source": [
    "std_dev = np.std(my_data).round(3)\n",
    "print(std_dev)"
   ]
  },
  {
   "cell_type": "markdown",
   "metadata": {},
   "source": [
    "#### Correlation \n",
    "\n",
    "Between two arrays:"
   ]
  },
  {
   "cell_type": "code",
   "execution_count": 56,
   "metadata": {
    "execution": {
     "iopub.execute_input": "2020-07-05T20:38:17.293606Z",
     "iopub.status.busy": "2020-07-05T20:38:17.293046Z",
     "iopub.status.idle": "2020-07-05T20:38:17.294738Z",
     "shell.execute_reply": "2020-07-05T20:38:17.295125Z"
    }
   },
   "outputs": [],
   "source": [
    "# Final grades\n",
    "grades = np.array([67, 74, 44, 92, 88])\n",
    "\n",
    "# hours per week spent working on course\n",
    "hours = np.array([5.2, 7, 2.0, 9.25, 7.5])"
   ]
  },
  {
   "cell_type": "markdown",
   "metadata": {},
   "source": [
    "Does more hours spent on the course translate into a better grade?"
   ]
  },
  {
   "cell_type": "code",
   "execution_count": 57,
   "metadata": {
    "execution": {
     "iopub.execute_input": "2020-07-05T20:38:17.298272Z",
     "iopub.status.busy": "2020-07-05T20:38:17.297673Z",
     "iopub.status.idle": "2020-07-05T20:38:17.303820Z",
     "shell.execute_reply": "2020-07-05T20:38:17.304206Z"
    }
   },
   "outputs": [
    {
     "data": {
      "text/plain": [
       "array([[1.        , 0.97877197],\n",
       "       [0.97877197, 1.        ]])"
      ]
     },
     "execution_count": 57,
     "metadata": {},
     "output_type": "execute_result"
    }
   ],
   "source": [
    "np.corrcoef(grades, hours)"
   ]
  },
  {
   "cell_type": "markdown",
   "metadata": {},
   "source": [
    "Yes! The correlation is positive and strong (approximately .979)"
   ]
  }
 ],
 "metadata": {
  "kernelspec": {
   "display_name": "Python 3",
   "language": "python",
   "name": "python3"
  },
  "language_info": {
   "codemirror_mode": {
    "name": "ipython",
    "version": 3
   },
   "file_extension": ".py",
   "mimetype": "text/x-python",
   "name": "python",
   "nbconvert_exporter": "python",
   "pygments_lexer": "ipython3",
   "version": "3.7.4"
  }
 },
 "nbformat": 4,
 "nbformat_minor": 4
}