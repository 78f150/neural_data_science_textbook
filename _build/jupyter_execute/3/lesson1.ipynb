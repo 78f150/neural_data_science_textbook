{
 "cells": [
  {
   "cell_type": "markdown",
   "metadata": {},
   "source": [
    "# Lesson 1: Introduction to Python\n",
    "\n",
    "\n",
    "[View this lesson on DataCamp](https://learn.datacamp.com/courses/intro-to-python-for-data-science )"
   ]
  },
  {
   "cell_type": "markdown",
   "metadata": {},
   "source": [
    "## Chapter 1\n",
    "This chapter introduces the basics of Python - simple math and variable types"
   ]
  },
  {
   "cell_type": "markdown",
   "metadata": {},
   "source": [
    "### Basic Operations\n",
    "\n",
    "| Operator |  Operation                                                   |\n",
    "|----------|--------------------------------------------------------------|\n",
    "| `#`      |  add comment                                                 |\n",
    "| `+`      |  addition                                                    |\n",
    "| `-`      |  subtraction                                                 |\n",
    "| `*`      |  multiplication                                              |\n",
    "| `/`      |  division                                                    |\n",
    "| `**`       |  exponentiation                                              |\n",
    "| `%`        |  modulo; returns remainder of division (e.g., `18 % 7` equals `4`) |\n",
    "| `=`        |  variable assignment                                         |\n",
    "| `==`       |  equal to                                                    |\n",
    "| `!=`       |  not equal to                                                |\n",
    "\n"
   ]
  },
  {
   "cell_type": "markdown",
   "metadata": {},
   "source": [
    "### Variable Types\n",
    "\n",
    "|                                          |                                                                      |\n",
    "|------------------------------------------|----------------------------------------------------------------------|\n",
    "| integer                                  |  number without fractional component (no decimal point)                                      |\n",
    "| float                                    |  number with both integer and fractional part separated by a decimal |\n",
    "| string  | text; enclose in `' '` or `\" \"`    |\n",
    "| boolean                                  |  logical values; can only be `True` or `False`                       |\n",
    "|list | Can contain many different types. Create with `[]`. Separate items with commas. |\n",
    "\n"
   ]
  },
  {
   "cell_type": "markdown",
   "metadata": {},
   "source": [
    "### Functions\n",
    "|           |                                       |\n",
    "|-----------|---------------------------------------|\n",
    "| `print()` |   outputs what's enclosed in `()`     |\n",
    "| `type()`  |  gives the type of a defined variable |\n",
    "| `int()`   |  converts a value into an integer     |\n",
    "| `float()` |  converts a value into a float        |\n",
    "| `str()`   |  converts a value into a string       |\n",
    "| `bool()`  |  converts a value into a boolean      |\n",
    "| `list()`  |  converts a value or values into a list |"
   ]
  },
  {
   "cell_type": "markdown",
   "metadata": {},
   "source": [
    "## Chapter 2\n",
    "This chapter covers everything to do with lists - creating lists, subsetting, and manipulation.\n",
    "\n",
    "Lists are ordered sets of items. \n",
    "\n",
    "### Working with Lists\n",
    "Create a list:"
   ]
  },
  {
   "cell_type": "code",
   "execution_count": 1,
   "metadata": {
    "execution": {
     "iopub.execute_input": "2020-06-25T01:20:47.803017Z",
     "iopub.status.busy": "2020-06-25T01:20:47.801863Z",
     "iopub.status.idle": "2020-06-25T01:20:47.804282Z",
     "shell.execute_reply": "2020-06-25T01:20:47.804721Z"
    }
   },
   "outputs": [],
   "source": [
    "odd = [1, 3, 5, 7, 9]"
   ]
  },
  {
   "cell_type": "markdown",
   "metadata": {},
   "source": [
    "First index (position) in list is 0, not 1:"
   ]
  },
  {
   "cell_type": "code",
   "execution_count": 2,
   "metadata": {
    "execution": {
     "iopub.execute_input": "2020-06-25T01:20:47.812937Z",
     "iopub.status.busy": "2020-06-25T01:20:47.812285Z",
     "iopub.status.idle": "2020-06-25T01:20:47.815149Z",
     "shell.execute_reply": "2020-06-25T01:20:47.814771Z"
    }
   },
   "outputs": [
    {
     "data": {
      "text/plain": [
       "3"
      ]
     },
     "execution_count": 2,
     "metadata": {},
     "output_type": "execute_result"
    }
   ],
   "source": [
    "odd[1]"
   ]
  },
  {
   "cell_type": "code",
   "execution_count": 3,
   "metadata": {
    "execution": {
     "iopub.execute_input": "2020-06-25T01:20:47.818329Z",
     "iopub.status.busy": "2020-06-25T01:20:47.817759Z",
     "iopub.status.idle": "2020-06-25T01:20:47.819974Z",
     "shell.execute_reply": "2020-06-25T01:20:47.820367Z"
    }
   },
   "outputs": [
    {
     "data": {
      "text/plain": [
       "1"
      ]
     },
     "execution_count": 3,
     "metadata": {},
     "output_type": "execute_result"
    }
   ],
   "source": [
    "odd[0]"
   ]
  },
  {
   "cell_type": "markdown",
   "metadata": {},
   "source": [
    "Negative indexing works from the end of the list. "
   ]
  },
  {
   "cell_type": "code",
   "execution_count": 4,
   "metadata": {
    "execution": {
     "iopub.execute_input": "2020-06-25T01:20:47.823617Z",
     "iopub.status.busy": "2020-06-25T01:20:47.823042Z",
     "iopub.status.idle": "2020-06-25T01:20:47.825146Z",
     "shell.execute_reply": "2020-06-25T01:20:47.825590Z"
    }
   },
   "outputs": [
    {
     "data": {
      "text/plain": [
       "9"
      ]
     },
     "execution_count": 4,
     "metadata": {},
     "output_type": "execute_result"
    }
   ],
   "source": [
    "odd[-1]"
   ]
  },
  {
   "cell_type": "markdown",
   "metadata": {},
   "source": [
    "#### Slicing\n",
    "Specify a range of indices inside square brackets: [inclusive:exclusive]"
   ]
  },
  {
   "cell_type": "code",
   "execution_count": 5,
   "metadata": {
    "execution": {
     "iopub.execute_input": "2020-06-25T01:20:47.828884Z",
     "iopub.status.busy": "2020-06-25T01:20:47.828296Z",
     "iopub.status.idle": "2020-06-25T01:20:47.830445Z",
     "shell.execute_reply": "2020-06-25T01:20:47.830825Z"
    }
   },
   "outputs": [
    {
     "data": {
      "text/plain": [
       "[1, 3, 5, 7, 9]"
      ]
     },
     "execution_count": 5,
     "metadata": {},
     "output_type": "execute_result"
    }
   ],
   "source": [
    "odd[0:5]"
   ]
  },
  {
   "cell_type": "code",
   "execution_count": 6,
   "metadata": {
    "execution": {
     "iopub.execute_input": "2020-06-25T01:20:47.833894Z",
     "iopub.status.busy": "2020-06-25T01:20:47.833252Z",
     "iopub.status.idle": "2020-06-25T01:20:47.835459Z",
     "shell.execute_reply": "2020-06-25T01:20:47.835886Z"
    }
   },
   "outputs": [
    {
     "data": {
      "text/plain": [
       "[3, 5]"
      ]
     },
     "execution_count": 6,
     "metadata": {},
     "output_type": "execute_result"
    }
   ],
   "source": [
    "odd[1:3]"
   ]
  },
  {
   "cell_type": "code",
   "execution_count": 7,
   "metadata": {
    "execution": {
     "iopub.execute_input": "2020-06-25T01:20:47.838994Z",
     "iopub.status.busy": "2020-06-25T01:20:47.838417Z",
     "iopub.status.idle": "2020-06-25T01:20:47.840570Z",
     "shell.execute_reply": "2020-06-25T01:20:47.841017Z"
    }
   },
   "outputs": [
    {
     "data": {
      "text/plain": [
       "[1, 3, 5, 7, 9]"
      ]
     },
     "execution_count": 7,
     "metadata": {},
     "output_type": "execute_result"
    }
   ],
   "source": [
    "odd[:]"
   ]
  },
  {
   "cell_type": "code",
   "execution_count": 8,
   "metadata": {
    "execution": {
     "iopub.execute_input": "2020-06-25T01:20:47.844038Z",
     "iopub.status.busy": "2020-06-25T01:20:47.843464Z",
     "iopub.status.idle": "2020-06-25T01:20:47.845696Z",
     "shell.execute_reply": "2020-06-25T01:20:47.846081Z"
    }
   },
   "outputs": [
    {
     "data": {
      "text/plain": [
       "[1, 3, 5]"
      ]
     },
     "execution_count": 8,
     "metadata": {},
     "output_type": "execute_result"
    }
   ],
   "source": [
    "odd[:3]"
   ]
  },
  {
   "cell_type": "code",
   "execution_count": 9,
   "metadata": {
    "execution": {
     "iopub.execute_input": "2020-06-25T01:20:47.849157Z",
     "iopub.status.busy": "2020-06-25T01:20:47.848582Z",
     "iopub.status.idle": "2020-06-25T01:20:47.850770Z",
     "shell.execute_reply": "2020-06-25T01:20:47.851136Z"
    }
   },
   "outputs": [
    {
     "data": {
      "text/plain": [
       "[7, 9]"
      ]
     },
     "execution_count": 9,
     "metadata": {},
     "output_type": "execute_result"
    }
   ],
   "source": [
    "odd[3:]"
   ]
  },
  {
   "cell_type": "markdown",
   "metadata": {},
   "source": [
    "#### List Manipulation\n",
    "Replacing list elements: subset list and assign a new value using =\n"
   ]
  },
  {
   "cell_type": "code",
   "execution_count": 10,
   "metadata": {
    "execution": {
     "iopub.execute_input": "2020-06-25T01:20:47.854670Z",
     "iopub.status.busy": "2020-06-25T01:20:47.854014Z",
     "iopub.status.idle": "2020-06-25T01:20:47.855901Z",
     "shell.execute_reply": "2020-06-25T01:20:47.856237Z"
    }
   },
   "outputs": [
    {
     "data": {
      "text/plain": [
       "[2, 3, 5, 7, 9]"
      ]
     },
     "execution_count": 10,
     "metadata": {},
     "output_type": "execute_result"
    }
   ],
   "source": [
    "odd[0] = 2\n",
    "odd[0:5]"
   ]
  },
  {
   "cell_type": "markdown",
   "metadata": {},
   "source": [
    "Extend a list, use + operator to add elements\n"
   ]
  },
  {
   "cell_type": "code",
   "execution_count": 11,
   "metadata": {
    "execution": {
     "iopub.execute_input": "2020-06-25T01:20:47.859062Z",
     "iopub.status.busy": "2020-06-25T01:20:47.858537Z",
     "iopub.status.idle": "2020-06-25T01:20:47.860455Z",
     "shell.execute_reply": "2020-06-25T01:20:47.861026Z"
    }
   },
   "outputs": [
    {
     "data": {
      "text/plain": [
       "[2, 3, 5, 7, 9, 11]"
      ]
     },
     "execution_count": 11,
     "metadata": {},
     "output_type": "execute_result"
    }
   ],
   "source": [
    "odd + [11]"
   ]
  },
  {
   "cell_type": "code",
   "execution_count": 12,
   "metadata": {
    "execution": {
     "iopub.execute_input": "2020-06-25T01:20:47.864379Z",
     "iopub.status.busy": "2020-06-25T01:20:47.863854Z",
     "iopub.status.idle": "2020-06-25T01:20:47.866133Z",
     "shell.execute_reply": "2020-06-25T01:20:47.865782Z"
    }
   },
   "outputs": [
    {
     "data": {
      "text/plain": [
       "[1, 3, 5, 7, 9, 2, 4, 6, 8, 10]"
      ]
     },
     "execution_count": 12,
     "metadata": {},
     "output_type": "execute_result"
    }
   ],
   "source": [
    "odd  = [1, 3, 5, 7, 9]\n",
    "even = [2, 4, 6, 8, 10]\n",
    "\n",
    "all_numbers = odd + even\n",
    "all_numbers"
   ]
  },
  {
   "cell_type": "markdown",
   "metadata": {},
   "source": [
    "Sort a list:"
   ]
  },
  {
   "cell_type": "code",
   "execution_count": 13,
   "metadata": {
    "execution": {
     "iopub.execute_input": "2020-06-25T01:20:47.869061Z",
     "iopub.status.busy": "2020-06-25T01:20:47.868439Z",
     "iopub.status.idle": "2020-06-25T01:20:47.870439Z",
     "shell.execute_reply": "2020-06-25T01:20:47.870835Z"
    }
   },
   "outputs": [
    {
     "data": {
      "text/plain": [
       "[1, 2, 3, 4, 5, 6, 7, 8, 9, 10]"
      ]
     },
     "execution_count": 13,
     "metadata": {},
     "output_type": "execute_result"
    }
   ],
   "source": [
    "all_numbers.sort()\n",
    "all_numbers"
   ]
  },
  {
   "cell_type": "markdown",
   "metadata": {},
   "source": [
    "Delete list items:"
   ]
  },
  {
   "cell_type": "code",
   "execution_count": 14,
   "metadata": {
    "execution": {
     "iopub.execute_input": "2020-06-25T01:20:47.873618Z",
     "iopub.status.busy": "2020-06-25T01:20:47.873104Z",
     "iopub.status.idle": "2020-06-25T01:20:47.875439Z",
     "shell.execute_reply": "2020-06-25T01:20:47.875782Z"
    }
   },
   "outputs": [
    {
     "data": {
      "text/plain": [
       "[1, 2, 3, 4, 5, 6, 7, 8, 9]"
      ]
     },
     "execution_count": 14,
     "metadata": {},
     "output_type": "execute_result"
    }
   ],
   "source": [
    "del(all_numbers[9])  # remember 0-indexing!\n",
    "all_numbers"
   ]
  },
  {
   "cell_type": "markdown",
   "metadata": {},
   "source": [
    "Copying a list"
   ]
  },
  {
   "cell_type": "code",
   "execution_count": 15,
   "metadata": {
    "execution": {
     "iopub.execute_input": "2020-06-25T01:20:47.878310Z",
     "iopub.status.busy": "2020-06-25T01:20:47.877837Z",
     "iopub.status.idle": "2020-06-25T01:20:47.879299Z",
     "shell.execute_reply": "2020-06-25T01:20:47.879632Z"
    }
   },
   "outputs": [],
   "source": [
    "my_numbers = all_numbers.copy()"
   ]
  },
  {
   "cell_type": "code",
   "execution_count": 16,
   "metadata": {
    "execution": {
     "iopub.execute_input": "2020-06-25T01:20:47.882327Z",
     "iopub.status.busy": "2020-06-25T01:20:47.881816Z",
     "iopub.status.idle": "2020-06-25T01:20:47.883837Z",
     "shell.execute_reply": "2020-06-25T01:20:47.884243Z"
    }
   },
   "outputs": [
    {
     "data": {
      "text/plain": [
       "[1, 2, 3, 4, 5, 6, 7, 8, 9]"
      ]
     },
     "execution_count": 16,
     "metadata": {},
     "output_type": "execute_result"
    }
   ],
   "source": [
    "my_numbers"
   ]
  },
  {
   "cell_type": "markdown",
   "metadata": {},
   "source": [
    "You can also use the `list` function to make a list from another list:"
   ]
  },
  {
   "cell_type": "code",
   "execution_count": 17,
   "metadata": {
    "execution": {
     "iopub.execute_input": "2020-06-25T01:20:47.886774Z",
     "iopub.status.busy": "2020-06-25T01:20:47.886249Z",
     "iopub.status.idle": "2020-06-25T01:20:47.887647Z",
     "shell.execute_reply": "2020-06-25T01:20:47.887986Z"
    }
   },
   "outputs": [],
   "source": [
    "some_numbers = list(all_numbers)"
   ]
  },
  {
   "cell_type": "code",
   "execution_count": 18,
   "metadata": {
    "execution": {
     "iopub.execute_input": "2020-06-25T01:20:47.890616Z",
     "iopub.status.busy": "2020-06-25T01:20:47.890140Z",
     "iopub.status.idle": "2020-06-25T01:20:47.892029Z",
     "shell.execute_reply": "2020-06-25T01:20:47.892420Z"
    }
   },
   "outputs": [
    {
     "data": {
      "text/plain": [
       "[1, 2, 3, 4, 5, 6, 7, 8, 9]"
      ]
     },
     "execution_count": 18,
     "metadata": {},
     "output_type": "execute_result"
    }
   ],
   "source": [
    "some_numbers"
   ]
  },
  {
   "cell_type": "markdown",
   "metadata": {},
   "source": [
    "Be careful not to do this. This \"points\" the new list, `my_numbers_nono`, at the original list, `all_numbers`"
   ]
  },
  {
   "cell_type": "code",
   "execution_count": 19,
   "metadata": {
    "execution": {
     "iopub.execute_input": "2020-06-25T01:20:47.895088Z",
     "iopub.status.busy": "2020-06-25T01:20:47.894621Z",
     "iopub.status.idle": "2020-06-25T01:20:47.896513Z",
     "shell.execute_reply": "2020-06-25T01:20:47.896845Z"
    }
   },
   "outputs": [
    {
     "data": {
      "text/plain": [
       "[1, 2, 3, 4, 5, 6, 7, 8, 9]"
      ]
     },
     "execution_count": 19,
     "metadata": {},
     "output_type": "execute_result"
    }
   ],
   "source": [
    "my_numbers_nono = all_numbers\n",
    "my_numbers_nono"
   ]
  },
  {
   "cell_type": "markdown",
   "metadata": {},
   "source": [
    "So when you nodify `all_numbers`, you also change `my_numbers_nono`"
   ]
  },
  {
   "cell_type": "code",
   "execution_count": 20,
   "metadata": {
    "execution": {
     "iopub.execute_input": "2020-06-25T01:20:47.899613Z",
     "iopub.status.busy": "2020-06-25T01:20:47.899075Z",
     "iopub.status.idle": "2020-06-25T01:20:47.900985Z",
     "shell.execute_reply": "2020-06-25T01:20:47.901385Z"
    }
   },
   "outputs": [
    {
     "data": {
      "text/plain": [
       "[1, 2, 3, 4, 5, 6, 7, 8]"
      ]
     },
     "execution_count": 20,
     "metadata": {},
     "output_type": "execute_result"
    }
   ],
   "source": [
    "del(all_numbers[8])\n",
    "my_numbers_nono"
   ]
  },
  {
   "cell_type": "markdown",
   "metadata": {},
   "source": [
    "## Chpater 3\n",
    "\n",
    " This chapter introduces a variety of functions and methods, as well as Python packages"
   ]
  },
  {
   "cell_type": "code",
   "execution_count": 21,
   "metadata": {
    "execution": {
     "iopub.execute_input": "2020-06-25T01:20:47.904168Z",
     "iopub.status.busy": "2020-06-25T01:20:47.903641Z",
     "iopub.status.idle": "2020-06-25T01:20:47.904936Z",
     "shell.execute_reply": "2020-06-25T01:20:47.905433Z"
    }
   },
   "outputs": [],
   "source": [
    "my_list = [10, 9, 8, 7, 6, 5, 4, 3, 2, 1]"
   ]
  },
  {
   "cell_type": "markdown",
   "metadata": {},
   "source": [
    "### Functions"
   ]
  },
  {
   "cell_type": "markdown",
   "metadata": {},
   "source": [
    "Maximum-valued element in list"
   ]
  },
  {
   "cell_type": "code",
   "execution_count": 22,
   "metadata": {
    "execution": {
     "iopub.execute_input": "2020-06-25T01:20:47.908157Z",
     "iopub.status.busy": "2020-06-25T01:20:47.907642Z",
     "iopub.status.idle": "2020-06-25T01:20:47.909542Z",
     "shell.execute_reply": "2020-06-25T01:20:47.909873Z"
    }
   },
   "outputs": [
    {
     "data": {
      "text/plain": [
       "10"
      ]
     },
     "execution_count": 22,
     "metadata": {},
     "output_type": "execute_result"
    }
   ],
   "source": [
    "max(my_list)"
   ]
  },
  {
   "cell_type": "code",
   "execution_count": 23,
   "metadata": {
    "execution": {
     "iopub.execute_input": "2020-06-25T01:20:47.912464Z",
     "iopub.status.busy": "2020-06-25T01:20:47.911921Z",
     "iopub.status.idle": "2020-06-25T01:20:47.913820Z",
     "shell.execute_reply": "2020-06-25T01:20:47.914210Z"
    }
   },
   "outputs": [
    {
     "data": {
      "text/plain": [
       "1"
      ]
     },
     "execution_count": 23,
     "metadata": {},
     "output_type": "execute_result"
    }
   ],
   "source": [
    "min(my_list)"
   ]
  },
  {
   "cell_type": "markdown",
   "metadata": {},
   "source": [
    "Rounding"
   ]
  },
  {
   "cell_type": "code",
   "execution_count": 24,
   "metadata": {
    "execution": {
     "iopub.execute_input": "2020-06-25T01:20:47.916867Z",
     "iopub.status.busy": "2020-06-25T01:20:47.916397Z",
     "iopub.status.idle": "2020-06-25T01:20:47.918542Z",
     "shell.execute_reply": "2020-06-25T01:20:47.919036Z"
    }
   },
   "outputs": [
    {
     "data": {
      "text/plain": [
       "3.14"
      ]
     },
     "execution_count": 24,
     "metadata": {},
     "output_type": "execute_result"
    }
   ],
   "source": [
    "pi = 3.14159265359\n",
    "round(pi, 2)"
   ]
  },
  {
   "cell_type": "markdown",
   "metadata": {},
   "source": [
    "Length of list"
   ]
  },
  {
   "cell_type": "code",
   "execution_count": 25,
   "metadata": {
    "execution": {
     "iopub.execute_input": "2020-06-25T01:20:47.921772Z",
     "iopub.status.busy": "2020-06-25T01:20:47.921310Z",
     "iopub.status.idle": "2020-06-25T01:20:47.923354Z",
     "shell.execute_reply": "2020-06-25T01:20:47.923745Z"
    }
   },
   "outputs": [
    {
     "data": {
      "text/plain": [
       "10"
      ]
     },
     "execution_count": 25,
     "metadata": {},
     "output_type": "execute_result"
    }
   ],
   "source": [
    "len(my_list)"
   ]
  },
  {
   "cell_type": "markdown",
   "metadata": {},
   "source": [
    "Get help using a function:"
   ]
  },
  {
   "cell_type": "code",
   "execution_count": 26,
   "metadata": {
    "execution": {
     "iopub.execute_input": "2020-06-25T01:20:47.964999Z",
     "iopub.status.busy": "2020-06-25T01:20:47.964527Z",
     "iopub.status.idle": "2020-06-25T01:20:47.967639Z",
     "shell.execute_reply": "2020-06-25T01:20:47.968155Z"
    }
   },
   "outputs": [],
   "source": [
    "?len"
   ]
  },
  {
   "cell_type": "code",
   "execution_count": 27,
   "metadata": {
    "execution": {
     "iopub.execute_input": "2020-06-25T01:20:47.971415Z",
     "iopub.status.busy": "2020-06-25T01:20:47.970871Z",
     "iopub.status.idle": "2020-06-25T01:20:47.973017Z",
     "shell.execute_reply": "2020-06-25T01:20:47.973371Z"
    }
   },
   "outputs": [
    {
     "data": {
      "text/plain": [
       "[1, 2, 3, 4, 5, 6, 7, 8, 9, 10]"
      ]
     },
     "execution_count": 27,
     "metadata": {},
     "output_type": "execute_result"
    }
   ],
   "source": [
    "going_up = sorted(my_list)\n",
    "going_up"
   ]
  },
  {
   "cell_type": "code",
   "execution_count": 28,
   "metadata": {
    "execution": {
     "iopub.execute_input": "2020-06-25T01:20:47.976629Z",
     "iopub.status.busy": "2020-06-25T01:20:47.976083Z",
     "iopub.status.idle": "2020-06-25T01:20:47.978163Z",
     "shell.execute_reply": "2020-06-25T01:20:47.978560Z"
    }
   },
   "outputs": [
    {
     "data": {
      "text/plain": [
       "[10, 9, 8, 7, 6, 5, 4, 3, 2, 1]"
      ]
     },
     "execution_count": 28,
     "metadata": {},
     "output_type": "execute_result"
    }
   ],
   "source": [
    "going_down = sorted(going_up, reverse=True)\n",
    "going_down"
   ]
  },
  {
   "cell_type": "markdown",
   "metadata": {},
   "source": [
    "# Finish from here down"
   ]
  },
  {
   "cell_type": "markdown",
   "metadata": {},
   "source": [
    "### Methods\n",
    "\n",
    ".index() - gives index of the input\n",
    ".capitalize() - returns string with the first letter capitalized\n",
    ".upper() - capitalizes all letters in a string\n",
    ".count()\n",
    "counts how many of the input are in a string\n",
    "counts the number of times an element appears in a list\n",
    ".append() - adds an element to the list it is called on\n",
    ".remove() - removes the first element of a list that matches the input\n",
    ".reverse() - reverses the order of the elements in the list its called on\n",
    "\n",
    "### Packages\n",
    "Import _ as _ - import a package\n",
    "From _ import _ - use if you only need a specific function from a package\n",
    "\n",
    "## Chapter 4\n",
    "This chapter introduces the numpy package, focussing on the numpy array\n",
    "### Numpy arrays\n",
    "np.array() - create numpy array from a list\n",
    "Contain values of only 1 type (for booleans, True=1, False=0)\n",
    "Does operations element wise\n",
    "Can subset numpy arrays using [] or boolean arrays\n",
    "#### 2D arrays\n",
    "Can create from a regular python list of lists\n",
    "Subset using [rows, columns]\n",
    ".shape - gives shape (rows, cols) of 2D numpy array\n",
    "### Functions (statistics)\n",
    "np.mean()\n",
    "np.median()\n",
    "np.corrcoef() - correlation coefficient\n",
    "np.std() - standard deviation\n",
    "\n"
   ]
  },
  {
   "cell_type": "code",
   "execution_count": null,
   "metadata": {},
   "outputs": [],
   "source": []
  }
 ],
 "metadata": {
  "kernelspec": {
   "display_name": "Python 3",
   "language": "python",
   "name": "python3"
  },
  "language_info": {
   "codemirror_mode": {
    "name": "ipython",
    "version": 3
   },
   "file_extension": ".py",
   "mimetype": "text/x-python",
   "name": "python",
   "nbconvert_exporter": "python",
   "pygments_lexer": "ipython3",
   "version": "3.7.4"
  }
 },
 "nbformat": 4,
 "nbformat_minor": 4
}