{
 "cells": [
  {
   "cell_type": "markdown",
   "metadata": {},
   "source": [
    "# Lesson 1: Introduction to Python\n",
    "\n",
    "These notes are based on the sequence that concepts are introduced in the DataCamp lesson of the same name. They are most useful as a reference, after you've completed the DataCamp lesson. They are not intended to replace that lesson.\n",
    "\n",
    "[View this lesson on DataCamp](https://learn.datacamp.com/courses/intro-to-python-for-data-science )"
   ]
  },
  {
   "cell_type": "markdown",
   "metadata": {},
   "source": [
    "## Chapter 1\n",
    "This chapter introduces the basics of Python - simple math and variable types"
   ]
  },
  {
   "cell_type": "markdown",
   "metadata": {},
   "source": [
    "### Basic Operations\n",
    "\n",
    "| Operator |  Operation                                                   |\n",
    "|----------|--------------------------------------------------------------|\n",
    "| `#`      |  add comment                                                 |\n",
    "| `+`      |  addition                                                    |\n",
    "| `-`      |  subtraction                                                 |\n",
    "| `*`      |  multiplication                                              |\n",
    "| `/`      |  division                                                    |\n",
    "| `**`       |  exponentiation                                              |\n",
    "| `%`        |  modulo; returns remainder of division (e.g., `18 % 7` equals `4`) |\n",
    "| `=`        |  variable assignment                                         |\n",
    "| `==`       |  equal to                                                    |\n",
    "| `!=`       |  not equal to                                                |\n",
    "\n"
   ]
  },
  {
   "cell_type": "markdown",
   "metadata": {},
   "source": [
    "### Variable Types\n",
    "\n",
    "|                                          |                                                                      |\n",
    "|------------------------------------------|----------------------------------------------------------------------|\n",
    "| integer                                  |  number without fractional component (no decimal point)                                      |\n",
    "| float                                    |  number with both integer and fractional part separated by a decimal |\n",
    "| string  | text; enclose in `' '` or `\" \"`    |\n",
    "| boolean                                  |  logical values; can only be `True` or `False`                       |\n",
    "|list | Can contain many different types. Create with `[]`. Separate items with commas. |\n",
    "\n"
   ]
  },
  {
   "cell_type": "markdown",
   "metadata": {},
   "source": [
    "### Functions\n",
    "|           |                                       |\n",
    "|-----------|---------------------------------------|\n",
    "| `print()` |   outputs what's enclosed in `()`     |\n",
    "| `type()`  |  gives the type of a defined variable |\n",
    "| `int()`   |  converts a value into an integer     |\n",
    "| `float()` |  converts a value into a float        |\n",
    "| `str()`   |  converts a value into a string       |\n",
    "| `bool()`  |  converts a value into a boolean      |\n",
    "| `list()`  |  converts a value or values into a list |"
   ]
  },
  {
   "cell_type": "markdown",
   "metadata": {},
   "source": [
    "## Chapter 2\n",
    "This chapter covers everything to do with lists - creating lists, subsetting, and manipulation.\n",
    "\n",
    "Lists are ordered sets of items. \n",
    "\n",
    "### Working with Lists\n",
    "Create a list:"
   ]
  },
  {
   "cell_type": "code",
   "execution_count": 1,
   "metadata": {
    "execution": {
     "iopub.execute_input": "2020-07-17T15:13:56.559134Z",
     "iopub.status.busy": "2020-07-17T15:13:56.558078Z",
     "iopub.status.idle": "2020-07-17T15:13:56.560439Z",
     "shell.execute_reply": "2020-07-17T15:13:56.561001Z"
    }
   },
   "outputs": [],
   "source": [
    "odd = [1, 3, 5, 7, 9]"
   ]
  },
  {
   "cell_type": "markdown",
   "metadata": {},
   "source": [
    "First index (position) in list is 0, not 1:"
   ]
  },
  {
   "cell_type": "code",
   "execution_count": 2,
   "metadata": {
    "execution": {
     "iopub.execute_input": "2020-07-17T15:13:56.569419Z",
     "iopub.status.busy": "2020-07-17T15:13:56.568781Z",
     "iopub.status.idle": "2020-07-17T15:13:56.571138Z",
     "shell.execute_reply": "2020-07-17T15:13:56.571632Z"
    }
   },
   "outputs": [
    {
     "data": {
      "text/plain": [
       "3"
      ]
     },
     "execution_count": 2,
     "metadata": {},
     "output_type": "execute_result"
    }
   ],
   "source": [
    "odd[1]"
   ]
  },
  {
   "cell_type": "code",
   "execution_count": 3,
   "metadata": {
    "execution": {
     "iopub.execute_input": "2020-07-17T15:13:56.575172Z",
     "iopub.status.busy": "2020-07-17T15:13:56.574553Z",
     "iopub.status.idle": "2020-07-17T15:13:56.577240Z",
     "shell.execute_reply": "2020-07-17T15:13:56.576823Z"
    }
   },
   "outputs": [
    {
     "data": {
      "text/plain": [
       "1"
      ]
     },
     "execution_count": 3,
     "metadata": {},
     "output_type": "execute_result"
    }
   ],
   "source": [
    "odd[0]"
   ]
  },
  {
   "cell_type": "markdown",
   "metadata": {},
   "source": [
    "Negative indexing works from the end of the list. "
   ]
  },
  {
   "cell_type": "code",
   "execution_count": 4,
   "metadata": {
    "execution": {
     "iopub.execute_input": "2020-07-17T15:13:56.580430Z",
     "iopub.status.busy": "2020-07-17T15:13:56.579868Z",
     "iopub.status.idle": "2020-07-17T15:13:56.582061Z",
     "shell.execute_reply": "2020-07-17T15:13:56.582455Z"
    }
   },
   "outputs": [
    {
     "data": {
      "text/plain": [
       "9"
      ]
     },
     "execution_count": 4,
     "metadata": {},
     "output_type": "execute_result"
    }
   ],
   "source": [
    "odd[-1]"
   ]
  },
  {
   "cell_type": "markdown",
   "metadata": {},
   "source": [
    "#### Slicing\n",
    "Specify a range of indices inside square brackets: [inclusive:exclusive]"
   ]
  },
  {
   "cell_type": "code",
   "execution_count": 5,
   "metadata": {
    "execution": {
     "iopub.execute_input": "2020-07-17T15:13:56.586034Z",
     "iopub.status.busy": "2020-07-17T15:13:56.585347Z",
     "iopub.status.idle": "2020-07-17T15:13:56.587624Z",
     "shell.execute_reply": "2020-07-17T15:13:56.588058Z"
    }
   },
   "outputs": [
    {
     "data": {
      "text/plain": [
       "[1, 3, 5, 7, 9]"
      ]
     },
     "execution_count": 5,
     "metadata": {},
     "output_type": "execute_result"
    }
   ],
   "source": [
    "odd[0:5]"
   ]
  },
  {
   "cell_type": "code",
   "execution_count": 6,
   "metadata": {
    "execution": {
     "iopub.execute_input": "2020-07-17T15:13:56.591271Z",
     "iopub.status.busy": "2020-07-17T15:13:56.590714Z",
     "iopub.status.idle": "2020-07-17T15:13:56.592800Z",
     "shell.execute_reply": "2020-07-17T15:13:56.593200Z"
    }
   },
   "outputs": [
    {
     "data": {
      "text/plain": [
       "[3, 5]"
      ]
     },
     "execution_count": 6,
     "metadata": {},
     "output_type": "execute_result"
    }
   ],
   "source": [
    "odd[1:3]"
   ]
  },
  {
   "cell_type": "code",
   "execution_count": 7,
   "metadata": {
    "execution": {
     "iopub.execute_input": "2020-07-17T15:13:56.596050Z",
     "iopub.status.busy": "2020-07-17T15:13:56.595539Z",
     "iopub.status.idle": "2020-07-17T15:13:56.597408Z",
     "shell.execute_reply": "2020-07-17T15:13:56.597831Z"
    }
   },
   "outputs": [
    {
     "data": {
      "text/plain": [
       "[1, 3, 5, 7, 9]"
      ]
     },
     "execution_count": 7,
     "metadata": {},
     "output_type": "execute_result"
    }
   ],
   "source": [
    "odd[:]"
   ]
  },
  {
   "cell_type": "code",
   "execution_count": 8,
   "metadata": {
    "execution": {
     "iopub.execute_input": "2020-07-17T15:13:56.600685Z",
     "iopub.status.busy": "2020-07-17T15:13:56.600088Z",
     "iopub.status.idle": "2020-07-17T15:13:56.602174Z",
     "shell.execute_reply": "2020-07-17T15:13:56.602517Z"
    }
   },
   "outputs": [
    {
     "data": {
      "text/plain": [
       "[1, 3, 5]"
      ]
     },
     "execution_count": 8,
     "metadata": {},
     "output_type": "execute_result"
    }
   ],
   "source": [
    "odd[:3]"
   ]
  },
  {
   "cell_type": "code",
   "execution_count": 9,
   "metadata": {
    "execution": {
     "iopub.execute_input": "2020-07-17T15:13:56.605202Z",
     "iopub.status.busy": "2020-07-17T15:13:56.604723Z",
     "iopub.status.idle": "2020-07-17T15:13:56.606734Z",
     "shell.execute_reply": "2020-07-17T15:13:56.607139Z"
    }
   },
   "outputs": [
    {
     "data": {
      "text/plain": [
       "[7, 9]"
      ]
     },
     "execution_count": 9,
     "metadata": {},
     "output_type": "execute_result"
    }
   ],
   "source": [
    "odd[3:]"
   ]
  },
  {
   "cell_type": "markdown",
   "metadata": {},
   "source": [
    "#### List Manipulation\n",
    "Replacing list elements: subset list and assign a new value using =\n"
   ]
  },
  {
   "cell_type": "code",
   "execution_count": 10,
   "metadata": {
    "execution": {
     "iopub.execute_input": "2020-07-17T15:13:56.610051Z",
     "iopub.status.busy": "2020-07-17T15:13:56.609520Z",
     "iopub.status.idle": "2020-07-17T15:13:56.611294Z",
     "shell.execute_reply": "2020-07-17T15:13:56.611693Z"
    }
   },
   "outputs": [
    {
     "data": {
      "text/plain": [
       "[2, 3, 5, 7, 9]"
      ]
     },
     "execution_count": 10,
     "metadata": {},
     "output_type": "execute_result"
    }
   ],
   "source": [
    "odd[0] = 2\n",
    "odd[0:5]"
   ]
  },
  {
   "cell_type": "markdown",
   "metadata": {},
   "source": [
    "Extend a list, use + operator to add elements\n"
   ]
  },
  {
   "cell_type": "code",
   "execution_count": 11,
   "metadata": {
    "execution": {
     "iopub.execute_input": "2020-07-17T15:13:56.615872Z",
     "iopub.status.busy": "2020-07-17T15:13:56.615215Z",
     "iopub.status.idle": "2020-07-17T15:13:56.617393Z",
     "shell.execute_reply": "2020-07-17T15:13:56.618009Z"
    }
   },
   "outputs": [
    {
     "data": {
      "text/plain": [
       "[2, 3, 5, 7, 9, 11]"
      ]
     },
     "execution_count": 11,
     "metadata": {},
     "output_type": "execute_result"
    }
   ],
   "source": [
    "odd + [11]"
   ]
  },
  {
   "cell_type": "code",
   "execution_count": 12,
   "metadata": {
    "execution": {
     "iopub.execute_input": "2020-07-17T15:13:56.621730Z",
     "iopub.status.busy": "2020-07-17T15:13:56.621131Z",
     "iopub.status.idle": "2020-07-17T15:13:56.624698Z",
     "shell.execute_reply": "2020-07-17T15:13:56.624201Z"
    }
   },
   "outputs": [
    {
     "data": {
      "text/plain": [
       "[1, 3, 5, 7, 9, 2, 4, 6, 8, 10]"
      ]
     },
     "execution_count": 12,
     "metadata": {},
     "output_type": "execute_result"
    }
   ],
   "source": [
    "odd  = [1, 3, 5, 7, 9]\n",
    "even = [2, 4, 6, 8, 10]\n",
    "\n",
    "all_numbers = odd + even\n",
    "all_numbers"
   ]
  },
  {
   "cell_type": "markdown",
   "metadata": {},
   "source": [
    "Sort a list:"
   ]
  },
  {
   "cell_type": "code",
   "execution_count": 13,
   "metadata": {
    "execution": {
     "iopub.execute_input": "2020-07-17T15:13:56.627924Z",
     "iopub.status.busy": "2020-07-17T15:13:56.627295Z",
     "iopub.status.idle": "2020-07-17T15:13:56.629328Z",
     "shell.execute_reply": "2020-07-17T15:13:56.629766Z"
    }
   },
   "outputs": [
    {
     "data": {
      "text/plain": [
       "[1, 2, 3, 4, 5, 6, 7, 8, 9, 10]"
      ]
     },
     "execution_count": 13,
     "metadata": {},
     "output_type": "execute_result"
    }
   ],
   "source": [
    "all_numbers.sort()\n",
    "all_numbers"
   ]
  },
  {
   "cell_type": "markdown",
   "metadata": {},
   "source": [
    "Delete list items:"
   ]
  },
  {
   "cell_type": "code",
   "execution_count": 14,
   "metadata": {
    "execution": {
     "iopub.execute_input": "2020-07-17T15:13:56.633121Z",
     "iopub.status.busy": "2020-07-17T15:13:56.632562Z",
     "iopub.status.idle": "2020-07-17T15:13:56.634982Z",
     "shell.execute_reply": "2020-07-17T15:13:56.635457Z"
    }
   },
   "outputs": [
    {
     "data": {
      "text/plain": [
       "[1, 2, 3, 4, 5, 6, 7, 8, 9]"
      ]
     },
     "execution_count": 14,
     "metadata": {},
     "output_type": "execute_result"
    }
   ],
   "source": [
    "del(all_numbers[9])  # remember 0-indexing!\n",
    "all_numbers"
   ]
  },
  {
   "cell_type": "markdown",
   "metadata": {},
   "source": [
    "Copying a list"
   ]
  },
  {
   "cell_type": "code",
   "execution_count": 15,
   "metadata": {
    "execution": {
     "iopub.execute_input": "2020-07-17T15:13:56.638223Z",
     "iopub.status.busy": "2020-07-17T15:13:56.637737Z",
     "iopub.status.idle": "2020-07-17T15:13:56.639332Z",
     "shell.execute_reply": "2020-07-17T15:13:56.639728Z"
    }
   },
   "outputs": [],
   "source": [
    "my_numbers = all_numbers.copy()"
   ]
  },
  {
   "cell_type": "code",
   "execution_count": 16,
   "metadata": {
    "execution": {
     "iopub.execute_input": "2020-07-17T15:13:56.642880Z",
     "iopub.status.busy": "2020-07-17T15:13:56.642206Z",
     "iopub.status.idle": "2020-07-17T15:13:56.644664Z",
     "shell.execute_reply": "2020-07-17T15:13:56.645084Z"
    }
   },
   "outputs": [
    {
     "data": {
      "text/plain": [
       "[1, 2, 3, 4, 5, 6, 7, 8, 9]"
      ]
     },
     "execution_count": 16,
     "metadata": {},
     "output_type": "execute_result"
    }
   ],
   "source": [
    "my_numbers"
   ]
  },
  {
   "cell_type": "markdown",
   "metadata": {},
   "source": [
    "You can also use the `list` function to make a list from another list:"
   ]
  },
  {
   "cell_type": "code",
   "execution_count": 17,
   "metadata": {
    "execution": {
     "iopub.execute_input": "2020-07-17T15:13:56.648127Z",
     "iopub.status.busy": "2020-07-17T15:13:56.647498Z",
     "iopub.status.idle": "2020-07-17T15:13:56.649241Z",
     "shell.execute_reply": "2020-07-17T15:13:56.649644Z"
    }
   },
   "outputs": [],
   "source": [
    "some_numbers = list(all_numbers)"
   ]
  },
  {
   "cell_type": "code",
   "execution_count": 18,
   "metadata": {
    "execution": {
     "iopub.execute_input": "2020-07-17T15:13:56.652778Z",
     "iopub.status.busy": "2020-07-17T15:13:56.652178Z",
     "iopub.status.idle": "2020-07-17T15:13:56.654461Z",
     "shell.execute_reply": "2020-07-17T15:13:56.654867Z"
    }
   },
   "outputs": [
    {
     "data": {
      "text/plain": [
       "[1, 2, 3, 4, 5, 6, 7, 8, 9]"
      ]
     },
     "execution_count": 18,
     "metadata": {},
     "output_type": "execute_result"
    }
   ],
   "source": [
    "some_numbers"
   ]
  },
  {
   "cell_type": "markdown",
   "metadata": {},
   "source": [
    "Be careful not to do this. This \"points\" the new list, `my_numbers_nono`, at the original list, `all_numbers`"
   ]
  },
  {
   "cell_type": "code",
   "execution_count": 19,
   "metadata": {
    "execution": {
     "iopub.execute_input": "2020-07-17T15:13:56.658218Z",
     "iopub.status.busy": "2020-07-17T15:13:56.657673Z",
     "iopub.status.idle": "2020-07-17T15:13:56.659881Z",
     "shell.execute_reply": "2020-07-17T15:13:56.660457Z"
    }
   },
   "outputs": [
    {
     "data": {
      "text/plain": [
       "[1, 2, 3, 4, 5, 6, 7, 8, 9]"
      ]
     },
     "execution_count": 19,
     "metadata": {},
     "output_type": "execute_result"
    }
   ],
   "source": [
    "my_numbers_nono = all_numbers\n",
    "my_numbers_nono"
   ]
  },
  {
   "cell_type": "markdown",
   "metadata": {},
   "source": [
    "So when you modify `all_numbers`, you also change `my_numbers_nono`"
   ]
  },
  {
   "cell_type": "code",
   "execution_count": 20,
   "metadata": {
    "execution": {
     "iopub.execute_input": "2020-07-17T15:13:56.663592Z",
     "iopub.status.busy": "2020-07-17T15:13:56.663004Z",
     "iopub.status.idle": "2020-07-17T15:13:56.665184Z",
     "shell.execute_reply": "2020-07-17T15:13:56.665669Z"
    }
   },
   "outputs": [
    {
     "data": {
      "text/plain": [
       "[1, 2, 3, 4, 5, 6, 7, 8]"
      ]
     },
     "execution_count": 20,
     "metadata": {},
     "output_type": "execute_result"
    }
   ],
   "source": [
    "del(all_numbers[8])\n",
    "my_numbers_nono"
   ]
  },
  {
   "cell_type": "markdown",
   "metadata": {},
   "source": [
    "## Chapter 3\n",
    "\n",
    " This chapter introduces a variety of functions and methods, as well as Python packages"
   ]
  },
  {
   "cell_type": "code",
   "execution_count": 21,
   "metadata": {
    "execution": {
     "iopub.execute_input": "2020-07-17T15:13:56.669044Z",
     "iopub.status.busy": "2020-07-17T15:13:56.668421Z",
     "iopub.status.idle": "2020-07-17T15:13:56.670215Z",
     "shell.execute_reply": "2020-07-17T15:13:56.670813Z"
    }
   },
   "outputs": [],
   "source": [
    "my_list = [10, 9, 8, 7, 6, 5, 4, 3, 2, 1]"
   ]
  },
  {
   "cell_type": "markdown",
   "metadata": {},
   "source": [
    "### Functions"
   ]
  },
  {
   "cell_type": "markdown",
   "metadata": {},
   "source": [
    "#### Max/min values in list"
   ]
  },
  {
   "cell_type": "code",
   "execution_count": 22,
   "metadata": {
    "execution": {
     "iopub.execute_input": "2020-07-17T15:13:56.674502Z",
     "iopub.status.busy": "2020-07-17T15:13:56.673663Z",
     "iopub.status.idle": "2020-07-17T15:13:56.676017Z",
     "shell.execute_reply": "2020-07-17T15:13:56.676420Z"
    }
   },
   "outputs": [
    {
     "data": {
      "text/plain": [
       "10"
      ]
     },
     "execution_count": 22,
     "metadata": {},
     "output_type": "execute_result"
    }
   ],
   "source": [
    "max(my_list)"
   ]
  },
  {
   "cell_type": "code",
   "execution_count": 23,
   "metadata": {
    "execution": {
     "iopub.execute_input": "2020-07-17T15:13:56.679694Z",
     "iopub.status.busy": "2020-07-17T15:13:56.679071Z",
     "iopub.status.idle": "2020-07-17T15:13:56.681418Z",
     "shell.execute_reply": "2020-07-17T15:13:56.681843Z"
    }
   },
   "outputs": [
    {
     "data": {
      "text/plain": [
       "1"
      ]
     },
     "execution_count": 23,
     "metadata": {},
     "output_type": "execute_result"
    }
   ],
   "source": [
    "min(my_list)"
   ]
  },
  {
   "cell_type": "markdown",
   "metadata": {},
   "source": [
    "#### Rounding"
   ]
  },
  {
   "cell_type": "code",
   "execution_count": 24,
   "metadata": {
    "execution": {
     "iopub.execute_input": "2020-07-17T15:13:56.685017Z",
     "iopub.status.busy": "2020-07-17T15:13:56.684428Z",
     "iopub.status.idle": "2020-07-17T15:13:56.686741Z",
     "shell.execute_reply": "2020-07-17T15:13:56.687176Z"
    }
   },
   "outputs": [
    {
     "data": {
      "text/plain": [
       "3.14"
      ]
     },
     "execution_count": 24,
     "metadata": {},
     "output_type": "execute_result"
    }
   ],
   "source": [
    "pi = 3.14159265359\n",
    "round(pi, 2)"
   ]
  },
  {
   "cell_type": "markdown",
   "metadata": {},
   "source": [
    "#### Length of list"
   ]
  },
  {
   "cell_type": "code",
   "execution_count": 25,
   "metadata": {
    "execution": {
     "iopub.execute_input": "2020-07-17T15:13:56.690429Z",
     "iopub.status.busy": "2020-07-17T15:13:56.689809Z",
     "iopub.status.idle": "2020-07-17T15:13:56.692434Z",
     "shell.execute_reply": "2020-07-17T15:13:56.692002Z"
    }
   },
   "outputs": [
    {
     "data": {
      "text/plain": [
       "10"
      ]
     },
     "execution_count": 25,
     "metadata": {},
     "output_type": "execute_result"
    }
   ],
   "source": [
    "len(my_list)"
   ]
  },
  {
   "cell_type": "markdown",
   "metadata": {},
   "source": [
    "#### Help"
   ]
  },
  {
   "cell_type": "code",
   "execution_count": 26,
   "metadata": {
    "execution": {
     "iopub.execute_input": "2020-07-17T15:13:56.731507Z",
     "iopub.status.busy": "2020-07-17T15:13:56.731011Z",
     "iopub.status.idle": "2020-07-17T15:13:56.734614Z",
     "shell.execute_reply": "2020-07-17T15:13:56.735031Z"
    }
   },
   "outputs": [],
   "source": [
    "?round"
   ]
  },
  {
   "cell_type": "markdown",
   "metadata": {},
   "source": [
    "#### Sorting"
   ]
  },
  {
   "cell_type": "code",
   "execution_count": 27,
   "metadata": {
    "execution": {
     "iopub.execute_input": "2020-07-17T15:13:56.738186Z",
     "iopub.status.busy": "2020-07-17T15:13:56.737648Z",
     "iopub.status.idle": "2020-07-17T15:13:56.739641Z",
     "shell.execute_reply": "2020-07-17T15:13:56.740009Z"
    }
   },
   "outputs": [
    {
     "data": {
      "text/plain": [
       "[1, 2, 3, 4, 5, 6, 7, 8, 9, 10]"
      ]
     },
     "execution_count": 27,
     "metadata": {},
     "output_type": "execute_result"
    }
   ],
   "source": [
    "going_up = sorted(my_list)\n",
    "going_up"
   ]
  },
  {
   "cell_type": "code",
   "execution_count": 28,
   "metadata": {
    "execution": {
     "iopub.execute_input": "2020-07-17T15:13:56.743054Z",
     "iopub.status.busy": "2020-07-17T15:13:56.742412Z",
     "iopub.status.idle": "2020-07-17T15:13:56.744406Z",
     "shell.execute_reply": "2020-07-17T15:13:56.744739Z"
    }
   },
   "outputs": [
    {
     "data": {
      "text/plain": [
       "[10, 9, 8, 7, 6, 5, 4, 3, 2, 1]"
      ]
     },
     "execution_count": 28,
     "metadata": {},
     "output_type": "execute_result"
    }
   ],
   "source": [
    "going_down = sorted(going_up, reverse=True)\n",
    "going_down"
   ]
  },
  {
   "cell_type": "markdown",
   "metadata": {},
   "source": [
    "### Methods\n",
    "\n",
    "Methods are functions that are applied to a variable by adding a dot then the method name (and parentheses) to the end of the variable name.\n",
    "\n",
    "| Method | What it does |\n",
    "|--------|--------------|\n",
    "|`.index()` | for a list, gives index of the input value |\n",
    "|`.capitalize()` | returns string with the first letter capitalized |\n",
    "|`.upper()` | capitalizes all letters in a string |\n",
    "|`.count()` | for `string`: counts how many of the input are in a string |\n",
    "|`.count()` | for `list`: counts the number of times an element appears in a list |\n",
    "|`.append()` | adds an element to the list it is called on |\n",
    "|`.remove()` | removes the first element of a list that matches the input |\n",
    "|`.reverse()` | reverses the order of the elements in the list its called on |\n",
    "|`.round()` | rounds a float to the number of decimal places specified in the parentheses |"
   ]
  },
  {
   "cell_type": "code",
   "execution_count": 29,
   "metadata": {
    "execution": {
     "iopub.execute_input": "2020-07-17T15:13:56.747448Z",
     "iopub.status.busy": "2020-07-17T15:13:56.746935Z",
     "iopub.status.idle": "2020-07-17T15:13:56.748741Z",
     "shell.execute_reply": "2020-07-17T15:13:56.749211Z"
    }
   },
   "outputs": [
    {
     "data": {
      "text/plain": [
       "0"
      ]
     },
     "execution_count": 29,
     "metadata": {},
     "output_type": "execute_result"
    }
   ],
   "source": [
    "going_down.index(10)"
   ]
  },
  {
   "cell_type": "code",
   "execution_count": 30,
   "metadata": {
    "execution": {
     "iopub.execute_input": "2020-07-17T15:13:56.752165Z",
     "iopub.status.busy": "2020-07-17T15:13:56.751508Z",
     "iopub.status.idle": "2020-07-17T15:13:56.753515Z",
     "shell.execute_reply": "2020-07-17T15:13:56.753848Z"
    }
   },
   "outputs": [
    {
     "data": {
      "text/plain": [
       "[10, 9, 8, 7, 6, 5, 4, 3, 2, 1, 0]"
      ]
     },
     "execution_count": 30,
     "metadata": {},
     "output_type": "execute_result"
    }
   ],
   "source": [
    "going_down.append(0)\n",
    "going_down"
   ]
  },
  {
   "cell_type": "markdown",
   "metadata": {},
   "source": [
    "### Packages\n",
    "\n",
    "Import a package (sometimes called a library), including all its functions"
   ]
  },
  {
   "cell_type": "code",
   "execution_count": 31,
   "metadata": {
    "execution": {
     "iopub.execute_input": "2020-07-17T15:13:56.756195Z",
     "iopub.status.busy": "2020-07-17T15:13:56.755728Z",
     "iopub.status.idle": "2020-07-17T15:13:56.944983Z",
     "shell.execute_reply": "2020-07-17T15:13:56.945435Z"
    }
   },
   "outputs": [],
   "source": [
    "import matplotlib"
   ]
  },
  {
   "cell_type": "markdown",
   "metadata": {},
   "source": [
    "Import a package and give it a shorthand name:"
   ]
  },
  {
   "cell_type": "code",
   "execution_count": 32,
   "metadata": {
    "execution": {
     "iopub.execute_input": "2020-07-17T15:13:56.948683Z",
     "iopub.status.busy": "2020-07-17T15:13:56.948092Z",
     "iopub.status.idle": "2020-07-17T15:13:56.949818Z",
     "shell.execute_reply": "2020-07-17T15:13:56.950216Z"
    }
   },
   "outputs": [],
   "source": [
    "import numpy as np"
   ]
  },
  {
   "cell_type": "markdown",
   "metadata": {},
   "source": [
    "## Chapter 4\n",
    "\n",
    "This chapter introduces the `numpy` package (by convention, imported as `np`), focusing on the numpy array data type.\n",
    "\n",
    "### NumPy arrays\n",
    "\n",
    "NumPy arrays are similar to lists: ordered sets of values. However, they behave differently, and can have multiple dimensons (see below), so NumPy arrays are often a better choice for structured data.\n",
    "\n",
    "You can **create** an np array manually by putting a list inside the `np.array()` function:"
   ]
  },
  {
   "cell_type": "code",
   "execution_count": 33,
   "metadata": {
    "execution": {
     "iopub.execute_input": "2020-07-17T15:13:56.953740Z",
     "iopub.status.busy": "2020-07-17T15:13:56.953203Z",
     "iopub.status.idle": "2020-07-17T15:13:56.955303Z",
     "shell.execute_reply": "2020-07-17T15:13:56.955700Z"
    }
   },
   "outputs": [
    {
     "data": {
      "text/plain": [
       "array([1, 3, 5, 7, 9])"
      ]
     },
     "execution_count": 33,
     "metadata": {},
     "output_type": "execute_result"
    }
   ],
   "source": [
    "np_odds = np.array([1, 3, 5, 7, 9])\n",
    "np_odds"
   ]
  },
  {
   "cell_type": "markdown",
   "metadata": {},
   "source": [
    "Or by specifying the name of a list you previously created:"
   ]
  },
  {
   "cell_type": "code",
   "execution_count": 34,
   "metadata": {
    "execution": {
     "iopub.execute_input": "2020-07-17T15:13:56.959221Z",
     "iopub.status.busy": "2020-07-17T15:13:56.958659Z",
     "iopub.status.idle": "2020-07-17T15:13:56.960769Z",
     "shell.execute_reply": "2020-07-17T15:13:56.961155Z"
    }
   },
   "outputs": [
    {
     "data": {
      "text/plain": [
       "array([ 2,  4,  6,  8, 10])"
      ]
     },
     "execution_count": 34,
     "metadata": {},
     "output_type": "execute_result"
    }
   ],
   "source": [
    "evens = [2, 4, 6, 8, 10]\n",
    "np_evens = np.array(evens)\n",
    "np_evens"
   ]
  },
  {
   "cell_type": "markdown",
   "metadata": {},
   "source": [
    "**Note**: If you just type the name of an array, you'll see the the contents of the array, embedded inside `array()`, as shown above. If you `print()` the array, you'll see only its contents:"
   ]
  },
  {
   "cell_type": "code",
   "execution_count": 35,
   "metadata": {
    "execution": {
     "iopub.execute_input": "2020-07-17T15:13:56.964096Z",
     "iopub.status.busy": "2020-07-17T15:13:56.963567Z",
     "iopub.status.idle": "2020-07-17T15:13:56.965493Z",
     "shell.execute_reply": "2020-07-17T15:13:56.965941Z"
    }
   },
   "outputs": [
    {
     "name": "stdout",
     "output_type": "stream",
     "text": [
      "[ 2  4  6  8 10]\n"
     ]
    }
   ],
   "source": [
    "print(np_evens)"
   ]
  },
  {
   "cell_type": "markdown",
   "metadata": {},
   "source": [
    "Either way above is acceptable, but remember that in Jupyter, you need to use `print()` to see the output of anything other than the last returned value:"
   ]
  },
  {
   "cell_type": "code",
   "execution_count": 36,
   "metadata": {
    "execution": {
     "iopub.execute_input": "2020-07-17T15:13:56.969061Z",
     "iopub.status.busy": "2020-07-17T15:13:56.968474Z",
     "iopub.status.idle": "2020-07-17T15:13:56.970683Z",
     "shell.execute_reply": "2020-07-17T15:13:56.971067Z"
    }
   },
   "outputs": [
    {
     "data": {
      "text/plain": [
       "array([1, 3, 5, 7, 9])"
      ]
     },
     "execution_count": 36,
     "metadata": {},
     "output_type": "execute_result"
    }
   ],
   "source": [
    "np_evens\n",
    "np_odds"
   ]
  },
  {
   "cell_type": "code",
   "execution_count": 37,
   "metadata": {
    "execution": {
     "iopub.execute_input": "2020-07-17T15:13:56.974363Z",
     "iopub.status.busy": "2020-07-17T15:13:56.973765Z",
     "iopub.status.idle": "2020-07-17T15:13:56.976407Z",
     "shell.execute_reply": "2020-07-17T15:13:56.976761Z"
    }
   },
   "outputs": [
    {
     "name": "stdout",
     "output_type": "stream",
     "text": [
      "[ 2  4  6  8 10]\n"
     ]
    },
    {
     "data": {
      "text/plain": [
       "array([1, 3, 5, 7, 9])"
      ]
     },
     "execution_count": 37,
     "metadata": {},
     "output_type": "execute_result"
    }
   ],
   "source": [
    "print(np_evens)\n",
    "np_odds"
   ]
  },
  {
   "cell_type": "markdown",
   "metadata": {},
   "source": [
    "NumPy arrays can only contain values of one type. Values are converted to a different type to enforce this:"
   ]
  },
  {
   "cell_type": "code",
   "execution_count": 38,
   "metadata": {
    "execution": {
     "iopub.execute_input": "2020-07-17T15:13:56.979802Z",
     "iopub.status.busy": "2020-07-17T15:13:56.979243Z",
     "iopub.status.idle": "2020-07-17T15:13:56.981241Z",
     "shell.execute_reply": "2020-07-17T15:13:56.981669Z"
    }
   },
   "outputs": [
    {
     "data": {
      "text/plain": [
       "array(['1', 'two', 'False'], dtype='<U21')"
      ]
     },
     "execution_count": 38,
     "metadata": {},
     "output_type": "execute_result"
    }
   ],
   "source": [
    "np.array([1, 'two', False])"
   ]
  },
  {
   "cell_type": "markdown",
   "metadata": {},
   "source": [
    "Above, the int `1` and the Boolean `False` were converted to a string, because the string 'two' couldn't be converted to any other type.\n",
    "\n",
    "Below, we only have ints and Booleans. Booleans are converted to ints:"
   ]
  },
  {
   "cell_type": "code",
   "execution_count": 39,
   "metadata": {
    "execution": {
     "iopub.execute_input": "2020-07-17T15:13:56.984729Z",
     "iopub.status.busy": "2020-07-17T15:13:56.984203Z",
     "iopub.status.idle": "2020-07-17T15:13:56.986268Z",
     "shell.execute_reply": "2020-07-17T15:13:56.986663Z"
    }
   },
   "outputs": [
    {
     "data": {
      "text/plain": [
       "array([1, 2, 0, 1])"
      ]
     },
     "execution_count": 39,
     "metadata": {},
     "output_type": "execute_result"
    }
   ],
   "source": [
    "np.array([1, 2, False, True])"
   ]
  },
  {
   "cell_type": "markdown",
   "metadata": {},
   "source": [
    "Unlike lists, operations are applied to np arrays element-wise (i.e., applies operation to each element in the array).\n",
    "\n",
    "So for a list, this is probably *not* your intended outcome:"
   ]
  },
  {
   "cell_type": "code",
   "execution_count": 40,
   "metadata": {
    "execution": {
     "iopub.execute_input": "2020-07-17T15:13:56.989273Z",
     "iopub.status.busy": "2020-07-17T15:13:56.988802Z",
     "iopub.status.idle": "2020-07-17T15:13:56.990549Z",
     "shell.execute_reply": "2020-07-17T15:13:56.990887Z"
    }
   },
   "outputs": [
    {
     "name": "stdout",
     "output_type": "stream",
     "text": [
      "[2, 4, 6, 8, 10, 2, 4, 6, 8, 10]\n"
     ]
    }
   ],
   "source": [
    "print(evens * 2)"
   ]
  },
  {
   "cell_type": "markdown",
   "metadata": {},
   "source": [
    "But for a NumPy array:"
   ]
  },
  {
   "cell_type": "code",
   "execution_count": 41,
   "metadata": {
    "execution": {
     "iopub.execute_input": "2020-07-17T15:13:56.993639Z",
     "iopub.status.busy": "2020-07-17T15:13:56.993101Z",
     "iopub.status.idle": "2020-07-17T15:13:56.994896Z",
     "shell.execute_reply": "2020-07-17T15:13:56.995228Z"
    }
   },
   "outputs": [
    {
     "name": "stdout",
     "output_type": "stream",
     "text": [
      "[ 4  8 12 16 20]\n"
     ]
    }
   ],
   "source": [
    "print(np_evens * 2)"
   ]
  },
  {
   "cell_type": "markdown",
   "metadata": {},
   "source": [
    "### 2D arrays\n",
    "\n",
    "A NumPy array with two dimensions (rows and columns).\n",
    "\n",
    "Can create from a regular python list of lists (note the two lists are inside another list/set of square brackets):"
   ]
  },
  {
   "cell_type": "code",
   "execution_count": 42,
   "metadata": {
    "execution": {
     "iopub.execute_input": "2020-07-17T15:13:56.997912Z",
     "iopub.status.busy": "2020-07-17T15:13:56.997443Z",
     "iopub.status.idle": "2020-07-17T15:13:56.998812Z",
     "shell.execute_reply": "2020-07-17T15:13:56.999291Z"
    }
   },
   "outputs": [],
   "source": [
    "my_2d_array = np.array([[0, 1, 2], [3, 4, 5]])"
   ]
  },
  {
   "cell_type": "code",
   "execution_count": 43,
   "metadata": {
    "execution": {
     "iopub.execute_input": "2020-07-17T15:13:57.002491Z",
     "iopub.status.busy": "2020-07-17T15:13:57.001964Z",
     "iopub.status.idle": "2020-07-17T15:13:57.004552Z",
     "shell.execute_reply": "2020-07-17T15:13:57.005108Z"
    }
   },
   "outputs": [
    {
     "data": {
      "text/plain": [
       "array([[0, 1, 2],\n",
       "       [3, 4, 5]])"
      ]
     },
     "execution_count": 43,
     "metadata": {},
     "output_type": "execute_result"
    }
   ],
   "source": [
    "my_2d_array"
   ]
  },
  {
   "cell_type": "markdown",
   "metadata": {},
   "source": [
    "#### Indexing 2D Arrays:\n",
    "Specify in format [*rows*, *columns*]. As with lists, `:` selects entire row/column, and you can use negative indexing"
   ]
  },
  {
   "cell_type": "code",
   "execution_count": 44,
   "metadata": {
    "execution": {
     "iopub.execute_input": "2020-07-17T15:13:57.008769Z",
     "iopub.status.busy": "2020-07-17T15:13:57.008238Z",
     "iopub.status.idle": "2020-07-17T15:13:57.010202Z",
     "shell.execute_reply": "2020-07-17T15:13:57.010541Z"
    }
   },
   "outputs": [
    {
     "data": {
      "text/plain": [
       "array([0, 1, 2])"
      ]
     },
     "execution_count": 44,
     "metadata": {},
     "output_type": "execute_result"
    }
   ],
   "source": [
    "my_2d_array[0, :]"
   ]
  },
  {
   "cell_type": "code",
   "execution_count": 45,
   "metadata": {
    "execution": {
     "iopub.execute_input": "2020-07-17T15:13:57.013486Z",
     "iopub.status.busy": "2020-07-17T15:13:57.012974Z",
     "iopub.status.idle": "2020-07-17T15:13:57.015248Z",
     "shell.execute_reply": "2020-07-17T15:13:57.015586Z"
    }
   },
   "outputs": [
    {
     "data": {
      "text/plain": [
       "array([3, 4, 5])"
      ]
     },
     "execution_count": 45,
     "metadata": {},
     "output_type": "execute_result"
    }
   ],
   "source": [
    "my_2d_array[1, :]"
   ]
  },
  {
   "cell_type": "markdown",
   "metadata": {},
   "source": [
    "Column only:"
   ]
  },
  {
   "cell_type": "code",
   "execution_count": 46,
   "metadata": {
    "execution": {
     "iopub.execute_input": "2020-07-17T15:13:57.018482Z",
     "iopub.status.busy": "2020-07-17T15:13:57.017962Z",
     "iopub.status.idle": "2020-07-17T15:13:57.020312Z",
     "shell.execute_reply": "2020-07-17T15:13:57.020655Z"
    }
   },
   "outputs": [
    {
     "data": {
      "text/plain": [
       "array([0, 3])"
      ]
     },
     "execution_count": 46,
     "metadata": {},
     "output_type": "execute_result"
    }
   ],
   "source": [
    "my_2d_array[:, 0]"
   ]
  },
  {
   "cell_type": "markdown",
   "metadata": {},
   "source": [
    "Last coumn:"
   ]
  },
  {
   "cell_type": "code",
   "execution_count": 47,
   "metadata": {
    "execution": {
     "iopub.execute_input": "2020-07-17T15:13:57.023855Z",
     "iopub.status.busy": "2020-07-17T15:13:57.023333Z",
     "iopub.status.idle": "2020-07-17T15:13:57.025651Z",
     "shell.execute_reply": "2020-07-17T15:13:57.026028Z"
    }
   },
   "outputs": [
    {
     "data": {
      "text/plain": [
       "array([2, 5])"
      ]
     },
     "execution_count": 47,
     "metadata": {},
     "output_type": "execute_result"
    }
   ],
   "source": [
    "my_2d_array[:, -1]"
   ]
  },
  {
   "cell_type": "markdown",
   "metadata": {},
   "source": [
    "Select single value by specifying a particular row and column:"
   ]
  },
  {
   "cell_type": "code",
   "execution_count": 48,
   "metadata": {
    "execution": {
     "iopub.execute_input": "2020-07-17T15:13:57.029633Z",
     "iopub.status.busy": "2020-07-17T15:13:57.029024Z",
     "iopub.status.idle": "2020-07-17T15:13:57.031222Z",
     "shell.execute_reply": "2020-07-17T15:13:57.031615Z"
    }
   },
   "outputs": [
    {
     "data": {
      "text/plain": [
       "4"
      ]
     },
     "execution_count": 48,
     "metadata": {},
     "output_type": "execute_result"
    }
   ],
   "source": [
    "my_2d_array[1, 1]"
   ]
  },
  {
   "cell_type": "markdown",
   "metadata": {},
   "source": [
    "`.shape` *attribute* gives shape (rows, cols) of 2D numpy array:"
   ]
  },
  {
   "cell_type": "code",
   "execution_count": 49,
   "metadata": {
    "execution": {
     "iopub.execute_input": "2020-07-17T15:13:57.035096Z",
     "iopub.status.busy": "2020-07-17T15:13:57.034397Z",
     "iopub.status.idle": "2020-07-17T15:13:57.036758Z",
     "shell.execute_reply": "2020-07-17T15:13:57.037170Z"
    }
   },
   "outputs": [
    {
     "data": {
      "text/plain": [
       "(2, 3)"
      ]
     },
     "execution_count": 49,
     "metadata": {},
     "output_type": "execute_result"
    }
   ],
   "source": [
    "my_2d_array.shape"
   ]
  },
  {
   "cell_type": "markdown",
   "metadata": {},
   "source": [
    "### NumPy Array Functions"
   ]
  },
  {
   "cell_type": "code",
   "execution_count": 50,
   "metadata": {
    "execution": {
     "iopub.execute_input": "2020-07-17T15:13:57.040712Z",
     "iopub.status.busy": "2020-07-17T15:13:57.040122Z",
     "iopub.status.idle": "2020-07-17T15:13:57.042546Z",
     "shell.execute_reply": "2020-07-17T15:13:57.042914Z"
    }
   },
   "outputs": [
    {
     "data": {
      "text/plain": [
       "array([0.09423969, 0.33911045, 0.54087721, 0.51957561, 0.18380996,\n",
       "       0.76269927, 0.9337871 , 0.42396124, 0.0542844 , 0.08390903])"
      ]
     },
     "execution_count": 50,
     "metadata": {},
     "output_type": "execute_result"
    }
   ],
   "source": [
    "np.random.rand(10)"
   ]
  },
  {
   "cell_type": "code",
   "execution_count": 51,
   "metadata": {
    "execution": {
     "iopub.execute_input": "2020-07-17T15:13:57.046072Z",
     "iopub.status.busy": "2020-07-17T15:13:57.045559Z",
     "iopub.status.idle": "2020-07-17T15:13:57.047477Z",
     "shell.execute_reply": "2020-07-17T15:13:57.047814Z"
    }
   },
   "outputs": [
    {
     "name": "stdout",
     "output_type": "stream",
     "text": [
      "[0.83033983 0.22828349 0.20912473 0.20978681 0.39541979 0.53431898\n",
      " 0.3953812  0.98324577 0.05585508 0.59511958]\n"
     ]
    }
   ],
   "source": [
    "# Some random numbers:\n",
    "my_data = np.random.rand(10)\n",
    "print(my_data)"
   ]
  },
  {
   "cell_type": "markdown",
   "metadata": {},
   "source": [
    "#### Mean"
   ]
  },
  {
   "cell_type": "code",
   "execution_count": 52,
   "metadata": {
    "execution": {
     "iopub.execute_input": "2020-07-17T15:13:57.050765Z",
     "iopub.status.busy": "2020-07-17T15:13:57.050287Z",
     "iopub.status.idle": "2020-07-17T15:13:57.052404Z",
     "shell.execute_reply": "2020-07-17T15:13:57.052740Z"
    }
   },
   "outputs": [
    {
     "data": {
      "text/plain": [
       "0.4436875263926777"
      ]
     },
     "execution_count": 52,
     "metadata": {},
     "output_type": "execute_result"
    }
   ],
   "source": [
    "np.mean(my_data)"
   ]
  },
  {
   "cell_type": "markdown",
   "metadata": {},
   "source": [
    "#### Median"
   ]
  },
  {
   "cell_type": "code",
   "execution_count": 53,
   "metadata": {
    "execution": {
     "iopub.execute_input": "2020-07-17T15:13:57.055715Z",
     "iopub.status.busy": "2020-07-17T15:13:57.055213Z",
     "iopub.status.idle": "2020-07-17T15:13:57.057277Z",
     "shell.execute_reply": "2020-07-17T15:13:57.057708Z"
    }
   },
   "outputs": [
    {
     "data": {
      "text/plain": [
       "0.3954004941218063"
      ]
     },
     "execution_count": 53,
     "metadata": {},
     "output_type": "execute_result"
    }
   ],
   "source": [
    "np.median(my_data)"
   ]
  },
  {
   "cell_type": "markdown",
   "metadata": {},
   "source": [
    "#### Standard Deviation"
   ]
  },
  {
   "cell_type": "code",
   "execution_count": 54,
   "metadata": {
    "execution": {
     "iopub.execute_input": "2020-07-17T15:13:57.060542Z",
     "iopub.status.busy": "2020-07-17T15:13:57.060031Z",
     "iopub.status.idle": "2020-07-17T15:13:57.062217Z",
     "shell.execute_reply": "2020-07-17T15:13:57.062519Z"
    }
   },
   "outputs": [
    {
     "data": {
      "text/plain": [
       "0.2798167731964823"
      ]
     },
     "execution_count": 54,
     "metadata": {},
     "output_type": "execute_result"
    }
   ],
   "source": [
    "np.std(my_data)"
   ]
  },
  {
   "cell_type": "markdown",
   "metadata": {},
   "source": [
    "If you don't like long numbers, you can apply the .round() method to the output:"
   ]
  },
  {
   "cell_type": "code",
   "execution_count": 55,
   "metadata": {
    "execution": {
     "iopub.execute_input": "2020-07-17T15:13:57.066703Z",
     "iopub.status.busy": "2020-07-17T15:13:57.065893Z",
     "iopub.status.idle": "2020-07-17T15:13:57.068444Z",
     "shell.execute_reply": "2020-07-17T15:13:57.068827Z"
    }
   },
   "outputs": [
    {
     "name": "stdout",
     "output_type": "stream",
     "text": [
      "0.28\n"
     ]
    }
   ],
   "source": [
    "std_dev = np.std(my_data).round(3)\n",
    "print(std_dev)"
   ]
  },
  {
   "cell_type": "markdown",
   "metadata": {},
   "source": [
    "#### Correlation \n",
    "\n",
    "Between two arrays:"
   ]
  },
  {
   "cell_type": "code",
   "execution_count": 56,
   "metadata": {
    "execution": {
     "iopub.execute_input": "2020-07-17T15:13:57.072962Z",
     "iopub.status.busy": "2020-07-17T15:13:57.072457Z",
     "iopub.status.idle": "2020-07-17T15:13:57.074105Z",
     "shell.execute_reply": "2020-07-17T15:13:57.074468Z"
    }
   },
   "outputs": [],
   "source": [
    "# Final grades\n",
    "grades = np.array([67, 74, 44, 92, 88])\n",
    "\n",
    "# hours per week spent working on course\n",
    "hours = np.array([5.2, 7, 2.0, 9.25, 7.5])"
   ]
  },
  {
   "cell_type": "markdown",
   "metadata": {},
   "source": [
    "Does more hours spent on the course translate into a better grade?"
   ]
  },
  {
   "cell_type": "code",
   "execution_count": 57,
   "metadata": {
    "execution": {
     "iopub.execute_input": "2020-07-17T15:13:57.077322Z",
     "iopub.status.busy": "2020-07-17T15:13:57.076793Z",
     "iopub.status.idle": "2020-07-17T15:13:57.081533Z",
     "shell.execute_reply": "2020-07-17T15:13:57.081871Z"
    }
   },
   "outputs": [
    {
     "data": {
      "text/plain": [
       "array([[1.        , 0.97877197],\n",
       "       [0.97877197, 1.        ]])"
      ]
     },
     "execution_count": 57,
     "metadata": {},
     "output_type": "execute_result"
    }
   ],
   "source": [
    "np.corrcoef(grades, hours)"
   ]
  },
  {
   "cell_type": "markdown",
   "metadata": {},
   "source": [
    "Yes! The correlation is positive and strong (approximately .979)"
   ]
  }
 ],
 "metadata": {
  "kernelspec": {
   "display_name": "Python 3",
   "language": "python",
   "name": "python3"
  },
  "language_info": {
   "codemirror_mode": {
    "name": "ipython",
    "version": 3
   },
   "file_extension": ".py",
   "mimetype": "text/x-python",
   "name": "python",
   "nbconvert_exporter": "python",
   "pygments_lexer": "ipython3",
   "version": "3.7.4"
  }
 },
 "nbformat": 4,
 "nbformat_minor": 4
}