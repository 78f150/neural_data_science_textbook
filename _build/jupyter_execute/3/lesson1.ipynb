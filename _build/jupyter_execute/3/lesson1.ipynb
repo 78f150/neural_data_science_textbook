{
 "cells": [
  {
   "cell_type": "markdown",
   "metadata": {},
   "source": [
    "# Lesson 1: Introduction to Python\n",
    "\n",
    "\n",
    "[View this lesson on DataCamp](https://learn.datacamp.com/courses/intro-to-python-for-data-science )"
   ]
  },
  {
   "cell_type": "markdown",
   "metadata": {},
   "source": [
    "## Chapter 1\n",
    "This chapter introduces the basics of Python - simple math and variable types"
   ]
  },
  {
   "cell_type": "markdown",
   "metadata": {},
   "source": [
    "### Basic Operations\n",
    "\n",
    "| Operator |  Operation                                                   |\n",
    "|----------|--------------------------------------------------------------|\n",
    "| \\#      |  add comment                                                 |\n",
    "| \\+      |  addition                                                    |\n",
    "| \\-      |  subtraction                                                 |\n",
    "| \\*      |  multiplication                                              |\n",
    "| \\/      |  division                                                    |\n",
    "| **       |  exponentiation                                              |\n",
    "| %        |  modulo; returns remainder of division (e.g., `18 % 7` equals `4`) |\n",
    "| =        |  variable assignment                                         |\n",
    "| ==       |  equal to                                                    |\n",
    "| !=       |  not equal to                                                |\n",
    "\n"
   ]
  },
  {
   "cell_type": "markdown",
   "metadata": {},
   "source": [
    "### Variable Types\n",
    "\n",
    "|                                          |                                                                      |\n",
    "|------------------------------------------|----------------------------------------------------------------------|\n",
    "| integer                                  |  number without fractional component (no decimal point)                                      |\n",
    "| float                                    |  number with both integer and fractional part separated by a decimal |\n",
    "| string  | text; enclose in `' '` or `\" \"`    |\n",
    "| boolean                                  |  logical values; can only be `True` or `False`                       |\n",
    "|list | Can contain many different types. Create with `[]`. Separate items with commas. |\n",
    "\n"
   ]
  },
  {
   "cell_type": "markdown",
   "metadata": {},
   "source": [
    "### Functions\n",
    "|           |                                       |\n",
    "|-----------|---------------------------------------|\n",
    "| `print()` |   outputs what's enclosed in `()`     |\n",
    "| `type()`  |  gives the type of a defined variable |\n",
    "| `int()`   |  converts a value into an integer     |\n",
    "| `float()` |  converts a value into a float        |\n",
    "| `str()`   |  converts a value into a string       |\n",
    "| `bool()`  |  converts a value into a boolean      |\n",
    "| `list()`  |  converts a value or values into a list |"
   ]
  },
  {
   "cell_type": "markdown",
   "metadata": {},
   "source": [
    "## Chapter 2\n",
    "This chapter covers everything to do with lists - creating lists, subsetting, and manipulation.\n",
    "\n",
    "Lists are ordered sets of items. \n",
    "\n",
    "### Working with Lists\n",
    "Create a list:"
   ]
  },
  {
   "cell_type": "code",
   "execution_count": 1,
   "metadata": {
    "execution": {
     "iopub.execute_input": "2020-06-25T00:52:25.645262Z",
     "iopub.status.busy": "2020-06-25T00:52:25.644233Z",
     "iopub.status.idle": "2020-06-25T00:52:25.646558Z",
     "shell.execute_reply": "2020-06-25T00:52:25.647112Z"
    }
   },
   "outputs": [],
   "source": [
    "odd = [1, 3, 5, 7, 9]"
   ]
  },
  {
   "cell_type": "markdown",
   "metadata": {},
   "source": [
    "First index (position) in list is 0, not 1:"
   ]
  },
  {
   "cell_type": "code",
   "execution_count": 2,
   "metadata": {
    "execution": {
     "iopub.execute_input": "2020-06-25T00:52:25.656919Z",
     "iopub.status.busy": "2020-06-25T00:52:25.656208Z",
     "iopub.status.idle": "2020-06-25T00:52:25.658848Z",
     "shell.execute_reply": "2020-06-25T00:52:25.659369Z"
    }
   },
   "outputs": [
    {
     "data": {
      "text/plain": [
       "3"
      ]
     },
     "execution_count": 2,
     "metadata": {},
     "output_type": "execute_result"
    }
   ],
   "source": [
    "odd[1]"
   ]
  },
  {
   "cell_type": "code",
   "execution_count": 3,
   "metadata": {
    "execution": {
     "iopub.execute_input": "2020-06-25T00:52:25.663151Z",
     "iopub.status.busy": "2020-06-25T00:52:25.662490Z",
     "iopub.status.idle": "2020-06-25T00:52:25.664986Z",
     "shell.execute_reply": "2020-06-25T00:52:25.665457Z"
    }
   },
   "outputs": [
    {
     "data": {
      "text/plain": [
       "1"
      ]
     },
     "execution_count": 3,
     "metadata": {},
     "output_type": "execute_result"
    }
   ],
   "source": [
    "odd[0]"
   ]
  },
  {
   "cell_type": "markdown",
   "metadata": {},
   "source": [
    "Negative indexing works from the end of the list. "
   ]
  },
  {
   "cell_type": "code",
   "execution_count": 4,
   "metadata": {
    "execution": {
     "iopub.execute_input": "2020-06-25T00:52:25.668904Z",
     "iopub.status.busy": "2020-06-25T00:52:25.668247Z",
     "iopub.status.idle": "2020-06-25T00:52:25.670565Z",
     "shell.execute_reply": "2020-06-25T00:52:25.670961Z"
    }
   },
   "outputs": [
    {
     "data": {
      "text/plain": [
       "9"
      ]
     },
     "execution_count": 4,
     "metadata": {},
     "output_type": "execute_result"
    }
   ],
   "source": [
    "odd[-1]"
   ]
  },
  {
   "cell_type": "markdown",
   "metadata": {},
   "source": [
    "#### Slicing\n",
    "Specify a range of indices inside square brackets: [inclusive:exclusive]"
   ]
  },
  {
   "cell_type": "code",
   "execution_count": 5,
   "metadata": {
    "execution": {
     "iopub.execute_input": "2020-06-25T00:52:25.674234Z",
     "iopub.status.busy": "2020-06-25T00:52:25.673649Z",
     "iopub.status.idle": "2020-06-25T00:52:25.675745Z",
     "shell.execute_reply": "2020-06-25T00:52:25.676195Z"
    }
   },
   "outputs": [
    {
     "data": {
      "text/plain": [
       "[1, 3, 5, 7, 9]"
      ]
     },
     "execution_count": 5,
     "metadata": {},
     "output_type": "execute_result"
    }
   ],
   "source": [
    "odd[0:5]"
   ]
  },
  {
   "cell_type": "code",
   "execution_count": 6,
   "metadata": {
    "execution": {
     "iopub.execute_input": "2020-06-25T00:52:25.679419Z",
     "iopub.status.busy": "2020-06-25T00:52:25.678840Z",
     "iopub.status.idle": "2020-06-25T00:52:25.680983Z",
     "shell.execute_reply": "2020-06-25T00:52:25.681382Z"
    }
   },
   "outputs": [
    {
     "data": {
      "text/plain": [
       "[3, 5]"
      ]
     },
     "execution_count": 6,
     "metadata": {},
     "output_type": "execute_result"
    }
   ],
   "source": [
    "odd[1:3]"
   ]
  },
  {
   "cell_type": "code",
   "execution_count": 7,
   "metadata": {
    "execution": {
     "iopub.execute_input": "2020-06-25T00:52:25.684505Z",
     "iopub.status.busy": "2020-06-25T00:52:25.683913Z",
     "iopub.status.idle": "2020-06-25T00:52:25.686146Z",
     "shell.execute_reply": "2020-06-25T00:52:25.686529Z"
    }
   },
   "outputs": [
    {
     "data": {
      "text/plain": [
       "[1, 3, 5, 7, 9]"
      ]
     },
     "execution_count": 7,
     "metadata": {},
     "output_type": "execute_result"
    }
   ],
   "source": [
    "odd[:]"
   ]
  },
  {
   "cell_type": "code",
   "execution_count": 8,
   "metadata": {
    "execution": {
     "iopub.execute_input": "2020-06-25T00:52:25.689559Z",
     "iopub.status.busy": "2020-06-25T00:52:25.688968Z",
     "iopub.status.idle": "2020-06-25T00:52:25.691238Z",
     "shell.execute_reply": "2020-06-25T00:52:25.691623Z"
    }
   },
   "outputs": [
    {
     "data": {
      "text/plain": [
       "[1, 3, 5]"
      ]
     },
     "execution_count": 8,
     "metadata": {},
     "output_type": "execute_result"
    }
   ],
   "source": [
    "odd[:3]"
   ]
  },
  {
   "cell_type": "code",
   "execution_count": 9,
   "metadata": {
    "execution": {
     "iopub.execute_input": "2020-06-25T00:52:25.694617Z",
     "iopub.status.busy": "2020-06-25T00:52:25.694079Z",
     "iopub.status.idle": "2020-06-25T00:52:25.696230Z",
     "shell.execute_reply": "2020-06-25T00:52:25.696614Z"
    }
   },
   "outputs": [
    {
     "data": {
      "text/plain": [
       "[7, 9]"
      ]
     },
     "execution_count": 9,
     "metadata": {},
     "output_type": "execute_result"
    }
   ],
   "source": [
    "odd[3:]"
   ]
  },
  {
   "cell_type": "markdown",
   "metadata": {},
   "source": [
    "#### List Manipulation\n",
    "Replacing list elements: subset list and assign a new value using =\n"
   ]
  },
  {
   "cell_type": "code",
   "execution_count": 10,
   "metadata": {
    "execution": {
     "iopub.execute_input": "2020-06-25T00:52:25.699945Z",
     "iopub.status.busy": "2020-06-25T00:52:25.699386Z",
     "iopub.status.idle": "2020-06-25T00:52:25.701571Z",
     "shell.execute_reply": "2020-06-25T00:52:25.701952Z"
    }
   },
   "outputs": [
    {
     "data": {
      "text/plain": [
       "[2, 3, 5, 7, 9]"
      ]
     },
     "execution_count": 10,
     "metadata": {},
     "output_type": "execute_result"
    }
   ],
   "source": [
    "odd[0] = 2\n",
    "odd[0:5]"
   ]
  },
  {
   "cell_type": "markdown",
   "metadata": {},
   "source": [
    "Extend a list, use + operator to add elements\n"
   ]
  },
  {
   "cell_type": "code",
   "execution_count": 11,
   "metadata": {
    "execution": {
     "iopub.execute_input": "2020-06-25T00:52:25.705073Z",
     "iopub.status.busy": "2020-06-25T00:52:25.704535Z",
     "iopub.status.idle": "2020-06-25T00:52:25.706645Z",
     "shell.execute_reply": "2020-06-25T00:52:25.707070Z"
    }
   },
   "outputs": [
    {
     "data": {
      "text/plain": [
       "[2, 3, 5, 7, 9, 11]"
      ]
     },
     "execution_count": 11,
     "metadata": {},
     "output_type": "execute_result"
    }
   ],
   "source": [
    "odd + [11]"
   ]
  },
  {
   "cell_type": "code",
   "execution_count": 12,
   "metadata": {
    "execution": {
     "iopub.execute_input": "2020-06-25T00:52:25.710497Z",
     "iopub.status.busy": "2020-06-25T00:52:25.709980Z",
     "iopub.status.idle": "2020-06-25T00:52:25.711948Z",
     "shell.execute_reply": "2020-06-25T00:52:25.712280Z"
    }
   },
   "outputs": [
    {
     "data": {
      "text/plain": [
       "[1, 3, 5, 7, 9, 2, 4, 6, 8, 10]"
      ]
     },
     "execution_count": 12,
     "metadata": {},
     "output_type": "execute_result"
    }
   ],
   "source": [
    "odd  = [1, 3, 5, 7, 9]\n",
    "even = [2, 4, 6, 8, 10]\n",
    "\n",
    "all_numbers = odd + even\n",
    "all_numbers"
   ]
  },
  {
   "cell_type": "markdown",
   "metadata": {},
   "source": [
    "Sort a list:"
   ]
  },
  {
   "cell_type": "code",
   "execution_count": 13,
   "metadata": {
    "execution": {
     "iopub.execute_input": "2020-06-25T00:52:25.715129Z",
     "iopub.status.busy": "2020-06-25T00:52:25.714553Z",
     "iopub.status.idle": "2020-06-25T00:52:25.717101Z",
     "shell.execute_reply": "2020-06-25T00:52:25.717427Z"
    }
   },
   "outputs": [
    {
     "data": {
      "text/plain": [
       "[1, 2, 3, 4, 5, 6, 7, 8, 9, 10]"
      ]
     },
     "execution_count": 13,
     "metadata": {},
     "output_type": "execute_result"
    }
   ],
   "source": [
    "all_numbers.sort()\n",
    "all_numbers"
   ]
  },
  {
   "cell_type": "markdown",
   "metadata": {},
   "source": [
    "Delete list items:"
   ]
  },
  {
   "cell_type": "code",
   "execution_count": 14,
   "metadata": {
    "execution": {
     "iopub.execute_input": "2020-06-25T00:52:25.720447Z",
     "iopub.status.busy": "2020-06-25T00:52:25.719928Z",
     "iopub.status.idle": "2020-06-25T00:52:25.721908Z",
     "shell.execute_reply": "2020-06-25T00:52:25.722245Z"
    }
   },
   "outputs": [
    {
     "data": {
      "text/plain": [
       "[1, 2, 3, 4, 5, 6, 7, 8, 9]"
      ]
     },
     "execution_count": 14,
     "metadata": {},
     "output_type": "execute_result"
    }
   ],
   "source": [
    "del(all_numbers[9])  # remember 0-indexing!\n",
    "all_numbers"
   ]
  },
  {
   "cell_type": "markdown",
   "metadata": {},
   "source": [
    "Copying a list"
   ]
  },
  {
   "cell_type": "code",
   "execution_count": 15,
   "metadata": {
    "execution": {
     "iopub.execute_input": "2020-06-25T00:52:25.725057Z",
     "iopub.status.busy": "2020-06-25T00:52:25.724564Z",
     "iopub.status.idle": "2020-06-25T00:52:25.726006Z",
     "shell.execute_reply": "2020-06-25T00:52:25.726360Z"
    }
   },
   "outputs": [],
   "source": [
    "my_numbers = all_numbers.copy()"
   ]
  },
  {
   "cell_type": "code",
   "execution_count": 16,
   "metadata": {
    "execution": {
     "iopub.execute_input": "2020-06-25T00:52:25.729108Z",
     "iopub.status.busy": "2020-06-25T00:52:25.728638Z",
     "iopub.status.idle": "2020-06-25T00:52:25.730748Z",
     "shell.execute_reply": "2020-06-25T00:52:25.731087Z"
    }
   },
   "outputs": [
    {
     "data": {
      "text/plain": [
       "[1, 2, 3, 4, 5, 6, 7, 8, 9]"
      ]
     },
     "execution_count": 16,
     "metadata": {},
     "output_type": "execute_result"
    }
   ],
   "source": [
    "my_numbers"
   ]
  },
  {
   "cell_type": "markdown",
   "metadata": {},
   "source": [
    "You can also use the `list` function to make a list from another list:"
   ]
  },
  {
   "cell_type": "code",
   "execution_count": 17,
   "metadata": {
    "execution": {
     "iopub.execute_input": "2020-06-25T00:52:25.733763Z",
     "iopub.status.busy": "2020-06-25T00:52:25.733242Z",
     "iopub.status.idle": "2020-06-25T00:52:25.734883Z",
     "shell.execute_reply": "2020-06-25T00:52:25.735275Z"
    }
   },
   "outputs": [],
   "source": [
    "some_numbers = list(all_numbers)"
   ]
  },
  {
   "cell_type": "code",
   "execution_count": 18,
   "metadata": {
    "execution": {
     "iopub.execute_input": "2020-06-25T00:52:25.738104Z",
     "iopub.status.busy": "2020-06-25T00:52:25.737632Z",
     "iopub.status.idle": "2020-06-25T00:52:25.739762Z",
     "shell.execute_reply": "2020-06-25T00:52:25.740089Z"
    }
   },
   "outputs": [
    {
     "data": {
      "text/plain": [
       "[1, 2, 3, 4, 5, 6, 7, 8, 9]"
      ]
     },
     "execution_count": 18,
     "metadata": {},
     "output_type": "execute_result"
    }
   ],
   "source": [
    "some_numbers"
   ]
  },
  {
   "cell_type": "markdown",
   "metadata": {},
   "source": [
    "Be careful not to do this. This \"points\" the new list, `my_numbers_nono`, at the original list, `all_numbers`"
   ]
  },
  {
   "cell_type": "code",
   "execution_count": 19,
   "metadata": {
    "execution": {
     "iopub.execute_input": "2020-06-25T00:52:25.743029Z",
     "iopub.status.busy": "2020-06-25T00:52:25.742447Z",
     "iopub.status.idle": "2020-06-25T00:52:25.745329Z",
     "shell.execute_reply": "2020-06-25T00:52:25.745656Z"
    }
   },
   "outputs": [
    {
     "data": {
      "text/plain": [
       "[1, 2, 3, 4, 5, 6, 7, 8, 9]"
      ]
     },
     "execution_count": 19,
     "metadata": {},
     "output_type": "execute_result"
    }
   ],
   "source": [
    "my_numbers_nono = all_numbers\n",
    "my_numbers_nono"
   ]
  },
  {
   "cell_type": "markdown",
   "metadata": {},
   "source": [
    "So when you nodify `all_numbers`, you also change `my_numbers_nono`"
   ]
  },
  {
   "cell_type": "code",
   "execution_count": 20,
   "metadata": {
    "execution": {
     "iopub.execute_input": "2020-06-25T00:52:25.749493Z",
     "iopub.status.busy": "2020-06-25T00:52:25.748719Z",
     "iopub.status.idle": "2020-06-25T00:52:25.750999Z",
     "shell.execute_reply": "2020-06-25T00:52:25.751373Z"
    }
   },
   "outputs": [
    {
     "data": {
      "text/plain": [
       "[1, 2, 3, 4, 5, 6, 7, 8]"
      ]
     },
     "execution_count": 20,
     "metadata": {},
     "output_type": "execute_result"
    }
   ],
   "source": [
    "del(all_numbers[8])\n",
    "my_numbers_nono"
   ]
  },
  {
   "cell_type": "markdown",
   "metadata": {},
   "source": [
    "## Chpater 3\n",
    "\n",
    " This chapter introduces a variety of functions and methods, as well as Python packages"
   ]
  },
  {
   "cell_type": "code",
   "execution_count": 21,
   "metadata": {
    "execution": {
     "iopub.execute_input": "2020-06-25T00:52:25.754212Z",
     "iopub.status.busy": "2020-06-25T00:52:25.753734Z",
     "iopub.status.idle": "2020-06-25T00:52:25.755214Z",
     "shell.execute_reply": "2020-06-25T00:52:25.755554Z"
    }
   },
   "outputs": [],
   "source": [
    "my_list = [10, 9, 8, 7, 6, 5, 4, 3, 2, 1]"
   ]
  },
  {
   "cell_type": "markdown",
   "metadata": {},
   "source": [
    "### Functions"
   ]
  },
  {
   "cell_type": "markdown",
   "metadata": {},
   "source": [
    "Maximum-valued element in list"
   ]
  },
  {
   "cell_type": "code",
   "execution_count": 22,
   "metadata": {
    "execution": {
     "iopub.execute_input": "2020-06-25T00:52:25.758405Z",
     "iopub.status.busy": "2020-06-25T00:52:25.757872Z",
     "iopub.status.idle": "2020-06-25T00:52:25.759830Z",
     "shell.execute_reply": "2020-06-25T00:52:25.760315Z"
    }
   },
   "outputs": [
    {
     "data": {
      "text/plain": [
       "10"
      ]
     },
     "execution_count": 22,
     "metadata": {},
     "output_type": "execute_result"
    }
   ],
   "source": [
    "max(my_list)"
   ]
  },
  {
   "cell_type": "code",
   "execution_count": 23,
   "metadata": {
    "execution": {
     "iopub.execute_input": "2020-06-25T00:52:25.763352Z",
     "iopub.status.busy": "2020-06-25T00:52:25.762813Z",
     "iopub.status.idle": "2020-06-25T00:52:25.764958Z",
     "shell.execute_reply": "2020-06-25T00:52:25.765292Z"
    }
   },
   "outputs": [
    {
     "data": {
      "text/plain": [
       "1"
      ]
     },
     "execution_count": 23,
     "metadata": {},
     "output_type": "execute_result"
    }
   ],
   "source": [
    "min(my_list)"
   ]
  },
  {
   "cell_type": "markdown",
   "metadata": {},
   "source": [
    "Rounding"
   ]
  },
  {
   "cell_type": "code",
   "execution_count": 24,
   "metadata": {
    "execution": {
     "iopub.execute_input": "2020-06-25T00:52:25.768568Z",
     "iopub.status.busy": "2020-06-25T00:52:25.767996Z",
     "iopub.status.idle": "2020-06-25T00:52:25.769955Z",
     "shell.execute_reply": "2020-06-25T00:52:25.770289Z"
    }
   },
   "outputs": [
    {
     "data": {
      "text/plain": [
       "3.14"
      ]
     },
     "execution_count": 24,
     "metadata": {},
     "output_type": "execute_result"
    }
   ],
   "source": [
    "pi = 3.14159265359\n",
    "round(pi, 2)"
   ]
  },
  {
   "cell_type": "markdown",
   "metadata": {},
   "source": [
    "Length of list"
   ]
  },
  {
   "cell_type": "code",
   "execution_count": 25,
   "metadata": {
    "execution": {
     "iopub.execute_input": "2020-06-25T00:52:25.772944Z",
     "iopub.status.busy": "2020-06-25T00:52:25.772473Z",
     "iopub.status.idle": "2020-06-25T00:52:25.774588Z",
     "shell.execute_reply": "2020-06-25T00:52:25.774981Z"
    }
   },
   "outputs": [
    {
     "data": {
      "text/plain": [
       "10"
      ]
     },
     "execution_count": 25,
     "metadata": {},
     "output_type": "execute_result"
    }
   ],
   "source": [
    "len(my_list)"
   ]
  },
  {
   "cell_type": "markdown",
   "metadata": {},
   "source": [
    "Get help using a function:"
   ]
  },
  {
   "cell_type": "code",
   "execution_count": 26,
   "metadata": {
    "execution": {
     "iopub.execute_input": "2020-06-25T00:52:25.809928Z",
     "iopub.status.busy": "2020-06-25T00:52:25.809439Z",
     "iopub.status.idle": "2020-06-25T00:52:25.812501Z",
     "shell.execute_reply": "2020-06-25T00:52:25.812935Z"
    }
   },
   "outputs": [],
   "source": [
    "?len"
   ]
  },
  {
   "cell_type": "code",
   "execution_count": 27,
   "metadata": {
    "execution": {
     "iopub.execute_input": "2020-06-25T00:52:25.816254Z",
     "iopub.status.busy": "2020-06-25T00:52:25.815657Z",
     "iopub.status.idle": "2020-06-25T00:52:25.817799Z",
     "shell.execute_reply": "2020-06-25T00:52:25.818193Z"
    }
   },
   "outputs": [
    {
     "data": {
      "text/plain": [
       "[1, 2, 3, 4, 5, 6, 7, 8, 9, 10]"
      ]
     },
     "execution_count": 27,
     "metadata": {},
     "output_type": "execute_result"
    }
   ],
   "source": [
    "going_up = sorted(my_list)\n",
    "going_up"
   ]
  },
  {
   "cell_type": "code",
   "execution_count": 28,
   "metadata": {
    "execution": {
     "iopub.execute_input": "2020-06-25T00:52:25.821174Z",
     "iopub.status.busy": "2020-06-25T00:52:25.820701Z",
     "iopub.status.idle": "2020-06-25T00:52:25.822685Z",
     "shell.execute_reply": "2020-06-25T00:52:25.823010Z"
    }
   },
   "outputs": [
    {
     "data": {
      "text/plain": [
       "[10, 9, 8, 7, 6, 5, 4, 3, 2, 1]"
      ]
     },
     "execution_count": 28,
     "metadata": {},
     "output_type": "execute_result"
    }
   ],
   "source": [
    "going_down = sorted(going_up, reverse=True)\n",
    "going_down"
   ]
  },
  {
   "cell_type": "markdown",
   "metadata": {},
   "source": [
    "# Finish from here down"
   ]
  },
  {
   "cell_type": "markdown",
   "metadata": {},
   "source": [
    "### Methods\n",
    "\n",
    ".index() - gives index of the input\n",
    ".capitalize() - returns string with the first letter capitalized\n",
    ".upper() - capitalizes all letters in a string\n",
    ".count()\n",
    "counts how many of the input are in a string\n",
    "counts the number of times an element appears in a list\n",
    ".append() - adds an element to the list it is called on\n",
    ".remove() - removes the first element of a list that matches the input\n",
    ".reverse() - reverses the order of the elements in the list its called on\n",
    "\n",
    "### Packages\n",
    "Import _ as _ - import a package\n",
    "From _ import _ - use if you only need a specific function from a package\n",
    "\n",
    "## Chapter 4\n",
    "This chapter introduces the numpy package, focussing on the numpy array\n",
    "### Numpy arrays\n",
    "np.array() - create numpy array from a list\n",
    "Contain values of only 1 type (for booleans, True=1, False=0)\n",
    "Does operations element wise\n",
    "Can subset numpy arrays using [] or boolean arrays\n",
    "#### 2D arrays\n",
    "Can create from a regular python list of lists\n",
    "Subset using [rows, columns]\n",
    ".shape - gives shape (rows, cols) of 2D numpy array\n",
    "### Functions (statistics)\n",
    "np.mean()\n",
    "np.median()\n",
    "np.corrcoef() - correlation coefficient\n",
    "np.std() - standard deviation\n",
    "\n"
   ]
  },
  {
   "cell_type": "code",
   "execution_count": null,
   "metadata": {},
   "outputs": [],
   "source": []
  }
 ],
 "metadata": {
  "kernelspec": {
   "display_name": "Python 3",
   "language": "python",
   "name": "python3"
  },
  "language_info": {
   "codemirror_mode": {
    "name": "ipython",
    "version": 3
   },
   "file_extension": ".py",
   "mimetype": "text/x-python",
   "name": "python",
   "nbconvert_exporter": "python",
   "pygments_lexer": "ipython3",
   "version": "3.7.4"
  }
 },
 "nbformat": 4,
 "nbformat_minor": 4
}