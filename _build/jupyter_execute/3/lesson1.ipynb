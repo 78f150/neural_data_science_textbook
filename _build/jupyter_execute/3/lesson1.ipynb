{
 "cells": [
  {
   "cell_type": "markdown",
   "metadata": {},
   "source": [
    "# Lesson 1: Introduction to Python\n",
    "\n",
    "These notes are based on the sequence that concepts are introduced in the DataCamp lesson of the same name. They are most useful as a reference, after you've completed the DataCamp lesson. They are not intended to replace that lesson.\n",
    "\n",
    "[View this lesson on DataCamp](https://learn.datacamp.com/courses/intro-to-python-for-data-science )"
   ]
  },
  {
   "cell_type": "markdown",
   "metadata": {},
   "source": [
    "## Chapter 1\n",
    "This chapter introduces the basics of Python - simple math and variable types"
   ]
  },
  {
   "cell_type": "markdown",
   "metadata": {},
   "source": [
    "### Basic Operations\n",
    "\n",
    "| Operator |  Operation                                                   |\n",
    "|----------|--------------------------------------------------------------|\n",
    "| `#`      |  add comment                                                 |\n",
    "| `+`      |  addition                                                    |\n",
    "| `-`      |  subtraction                                                 |\n",
    "| `*`      |  multiplication                                              |\n",
    "| `/`      |  division                                                    |\n",
    "| `**`       |  exponentiation                                              |\n",
    "| `%`        |  modulo; returns remainder of division (e.g., `18 % 7` equals `4`) |\n",
    "| `=`        |  variable assignment                                         |\n",
    "| `==`       |  equal to                                                    |\n",
    "| `!=`       |  not equal to                                                |\n",
    "\n"
   ]
  },
  {
   "cell_type": "markdown",
   "metadata": {},
   "source": [
    "### Variable Types\n",
    "\n",
    "|                                          |                                                                      |\n",
    "|------------------------------------------|----------------------------------------------------------------------|\n",
    "| integer                                  |  number without fractional component (no decimal point)                                      |\n",
    "| float                                    |  number with both integer and fractional part separated by a decimal |\n",
    "| string  | text; enclose in `' '` or `\" \"`    |\n",
    "| boolean                                  |  logical values; can only be `True` or `False`                       |\n",
    "|list | Can contain many different types. Create with `[]`. Separate items with commas. |\n",
    "\n"
   ]
  },
  {
   "cell_type": "markdown",
   "metadata": {},
   "source": [
    "### Functions\n",
    "|           |                                       |\n",
    "|-----------|---------------------------------------|\n",
    "| `print()` |   outputs what's enclosed in `()`     |\n",
    "| `type()`  |  gives the type of a defined variable |\n",
    "| `int()`   |  converts a value into an integer     |\n",
    "| `float()` |  converts a value into a float        |\n",
    "| `str()`   |  converts a value into a string       |\n",
    "| `bool()`  |  converts a value into a boolean      |\n",
    "| `list()`  |  converts a value or values into a list |"
   ]
  },
  {
   "cell_type": "markdown",
   "metadata": {},
   "source": [
    "## Chapter 2\n",
    "This chapter covers everything to do with lists - creating lists, subsetting, and manipulation.\n",
    "\n",
    "Lists are ordered sets of items. \n",
    "\n",
    "### Working with Lists\n",
    "Create a list:"
   ]
  },
  {
   "cell_type": "code",
   "execution_count": 1,
   "metadata": {
    "execution": {
     "iopub.execute_input": "2020-07-12T03:07:15.947794Z",
     "iopub.status.busy": "2020-07-12T03:07:15.947030Z",
     "iopub.status.idle": "2020-07-12T03:07:15.948632Z",
     "shell.execute_reply": "2020-07-12T03:07:15.949246Z"
    }
   },
   "outputs": [],
   "source": [
    "odd = [1, 3, 5, 7, 9]"
   ]
  },
  {
   "cell_type": "markdown",
   "metadata": {},
   "source": [
    "First index (position) in list is 0, not 1:"
   ]
  },
  {
   "cell_type": "code",
   "execution_count": 2,
   "metadata": {
    "execution": {
     "iopub.execute_input": "2020-07-12T03:07:15.957178Z",
     "iopub.status.busy": "2020-07-12T03:07:15.956451Z",
     "iopub.status.idle": "2020-07-12T03:07:15.959059Z",
     "shell.execute_reply": "2020-07-12T03:07:15.959454Z"
    }
   },
   "outputs": [
    {
     "data": {
      "text/plain": [
       "3"
      ]
     },
     "execution_count": 2,
     "metadata": {},
     "output_type": "execute_result"
    }
   ],
   "source": [
    "odd[1]"
   ]
  },
  {
   "cell_type": "code",
   "execution_count": 3,
   "metadata": {
    "execution": {
     "iopub.execute_input": "2020-07-12T03:07:15.963591Z",
     "iopub.status.busy": "2020-07-12T03:07:15.962927Z",
     "iopub.status.idle": "2020-07-12T03:07:15.965195Z",
     "shell.execute_reply": "2020-07-12T03:07:15.965641Z"
    }
   },
   "outputs": [
    {
     "data": {
      "text/plain": [
       "1"
      ]
     },
     "execution_count": 3,
     "metadata": {},
     "output_type": "execute_result"
    }
   ],
   "source": [
    "odd[0]"
   ]
  },
  {
   "cell_type": "markdown",
   "metadata": {},
   "source": [
    "Negative indexing works from the end of the list. "
   ]
  },
  {
   "cell_type": "code",
   "execution_count": 4,
   "metadata": {
    "execution": {
     "iopub.execute_input": "2020-07-12T03:07:15.969281Z",
     "iopub.status.busy": "2020-07-12T03:07:15.968651Z",
     "iopub.status.idle": "2020-07-12T03:07:15.970679Z",
     "shell.execute_reply": "2020-07-12T03:07:15.971142Z"
    }
   },
   "outputs": [
    {
     "data": {
      "text/plain": [
       "9"
      ]
     },
     "execution_count": 4,
     "metadata": {},
     "output_type": "execute_result"
    }
   ],
   "source": [
    "odd[-1]"
   ]
  },
  {
   "cell_type": "markdown",
   "metadata": {},
   "source": [
    "#### Slicing\n",
    "Specify a range of indices inside square brackets: [inclusive:exclusive]"
   ]
  },
  {
   "cell_type": "code",
   "execution_count": 5,
   "metadata": {
    "execution": {
     "iopub.execute_input": "2020-07-12T03:07:15.974482Z",
     "iopub.status.busy": "2020-07-12T03:07:15.973886Z",
     "iopub.status.idle": "2020-07-12T03:07:15.976121Z",
     "shell.execute_reply": "2020-07-12T03:07:15.976583Z"
    }
   },
   "outputs": [
    {
     "data": {
      "text/plain": [
       "[1, 3, 5, 7, 9]"
      ]
     },
     "execution_count": 5,
     "metadata": {},
     "output_type": "execute_result"
    }
   ],
   "source": [
    "odd[0:5]"
   ]
  },
  {
   "cell_type": "code",
   "execution_count": 6,
   "metadata": {
    "execution": {
     "iopub.execute_input": "2020-07-12T03:07:15.980159Z",
     "iopub.status.busy": "2020-07-12T03:07:15.979442Z",
     "iopub.status.idle": "2020-07-12T03:07:15.981869Z",
     "shell.execute_reply": "2020-07-12T03:07:15.982279Z"
    }
   },
   "outputs": [
    {
     "data": {
      "text/plain": [
       "[3, 5]"
      ]
     },
     "execution_count": 6,
     "metadata": {},
     "output_type": "execute_result"
    }
   ],
   "source": [
    "odd[1:3]"
   ]
  },
  {
   "cell_type": "code",
   "execution_count": 7,
   "metadata": {
    "execution": {
     "iopub.execute_input": "2020-07-12T03:07:15.985561Z",
     "iopub.status.busy": "2020-07-12T03:07:15.984981Z",
     "iopub.status.idle": "2020-07-12T03:07:15.987153Z",
     "shell.execute_reply": "2020-07-12T03:07:15.987538Z"
    }
   },
   "outputs": [
    {
     "data": {
      "text/plain": [
       "[1, 3, 5, 7, 9]"
      ]
     },
     "execution_count": 7,
     "metadata": {},
     "output_type": "execute_result"
    }
   ],
   "source": [
    "odd[:]"
   ]
  },
  {
   "cell_type": "code",
   "execution_count": 8,
   "metadata": {
    "execution": {
     "iopub.execute_input": "2020-07-12T03:07:15.990746Z",
     "iopub.status.busy": "2020-07-12T03:07:15.990147Z",
     "iopub.status.idle": "2020-07-12T03:07:15.992260Z",
     "shell.execute_reply": "2020-07-12T03:07:15.992646Z"
    }
   },
   "outputs": [
    {
     "data": {
      "text/plain": [
       "[1, 3, 5]"
      ]
     },
     "execution_count": 8,
     "metadata": {},
     "output_type": "execute_result"
    }
   ],
   "source": [
    "odd[:3]"
   ]
  },
  {
   "cell_type": "code",
   "execution_count": 9,
   "metadata": {
    "execution": {
     "iopub.execute_input": "2020-07-12T03:07:15.995902Z",
     "iopub.status.busy": "2020-07-12T03:07:15.995275Z",
     "iopub.status.idle": "2020-07-12T03:07:15.998104Z",
     "shell.execute_reply": "2020-07-12T03:07:15.997651Z"
    }
   },
   "outputs": [
    {
     "data": {
      "text/plain": [
       "[7, 9]"
      ]
     },
     "execution_count": 9,
     "metadata": {},
     "output_type": "execute_result"
    }
   ],
   "source": [
    "odd[3:]"
   ]
  },
  {
   "cell_type": "markdown",
   "metadata": {},
   "source": [
    "#### List Manipulation\n",
    "Replacing list elements: subset list and assign a new value using =\n"
   ]
  },
  {
   "cell_type": "code",
   "execution_count": 10,
   "metadata": {
    "execution": {
     "iopub.execute_input": "2020-07-12T03:07:16.001609Z",
     "iopub.status.busy": "2020-07-12T03:07:16.001068Z",
     "iopub.status.idle": "2020-07-12T03:07:16.003194Z",
     "shell.execute_reply": "2020-07-12T03:07:16.003574Z"
    }
   },
   "outputs": [
    {
     "data": {
      "text/plain": [
       "[2, 3, 5, 7, 9]"
      ]
     },
     "execution_count": 10,
     "metadata": {},
     "output_type": "execute_result"
    }
   ],
   "source": [
    "odd[0] = 2\n",
    "odd[0:5]"
   ]
  },
  {
   "cell_type": "markdown",
   "metadata": {},
   "source": [
    "Extend a list, use + operator to add elements\n"
   ]
  },
  {
   "cell_type": "code",
   "execution_count": 11,
   "metadata": {
    "execution": {
     "iopub.execute_input": "2020-07-12T03:07:16.006892Z",
     "iopub.status.busy": "2020-07-12T03:07:16.006291Z",
     "iopub.status.idle": "2020-07-12T03:07:16.008456Z",
     "shell.execute_reply": "2020-07-12T03:07:16.008842Z"
    }
   },
   "outputs": [
    {
     "data": {
      "text/plain": [
       "[2, 3, 5, 7, 9, 11]"
      ]
     },
     "execution_count": 11,
     "metadata": {},
     "output_type": "execute_result"
    }
   ],
   "source": [
    "odd + [11]"
   ]
  },
  {
   "cell_type": "code",
   "execution_count": 12,
   "metadata": {
    "execution": {
     "iopub.execute_input": "2020-07-12T03:07:16.012974Z",
     "iopub.status.busy": "2020-07-12T03:07:16.012351Z",
     "iopub.status.idle": "2020-07-12T03:07:16.015403Z",
     "shell.execute_reply": "2020-07-12T03:07:16.014945Z"
    }
   },
   "outputs": [
    {
     "data": {
      "text/plain": [
       "[1, 3, 5, 7, 9, 2, 4, 6, 8, 10]"
      ]
     },
     "execution_count": 12,
     "metadata": {},
     "output_type": "execute_result"
    }
   ],
   "source": [
    "odd  = [1, 3, 5, 7, 9]\n",
    "even = [2, 4, 6, 8, 10]\n",
    "\n",
    "all_numbers = odd + even\n",
    "all_numbers"
   ]
  },
  {
   "cell_type": "markdown",
   "metadata": {},
   "source": [
    "Sort a list:"
   ]
  },
  {
   "cell_type": "code",
   "execution_count": 13,
   "metadata": {
    "execution": {
     "iopub.execute_input": "2020-07-12T03:07:16.018950Z",
     "iopub.status.busy": "2020-07-12T03:07:16.018338Z",
     "iopub.status.idle": "2020-07-12T03:07:16.020427Z",
     "shell.execute_reply": "2020-07-12T03:07:16.020809Z"
    }
   },
   "outputs": [
    {
     "data": {
      "text/plain": [
       "[1, 2, 3, 4, 5, 6, 7, 8, 9, 10]"
      ]
     },
     "execution_count": 13,
     "metadata": {},
     "output_type": "execute_result"
    }
   ],
   "source": [
    "all_numbers.sort()\n",
    "all_numbers"
   ]
  },
  {
   "cell_type": "markdown",
   "metadata": {},
   "source": [
    "Delete list items:"
   ]
  },
  {
   "cell_type": "code",
   "execution_count": 14,
   "metadata": {
    "execution": {
     "iopub.execute_input": "2020-07-12T03:07:16.024302Z",
     "iopub.status.busy": "2020-07-12T03:07:16.023666Z",
     "iopub.status.idle": "2020-07-12T03:07:16.025827Z",
     "shell.execute_reply": "2020-07-12T03:07:16.026219Z"
    }
   },
   "outputs": [
    {
     "data": {
      "text/plain": [
       "[1, 2, 3, 4, 5, 6, 7, 8, 9]"
      ]
     },
     "execution_count": 14,
     "metadata": {},
     "output_type": "execute_result"
    }
   ],
   "source": [
    "del(all_numbers[9])  # remember 0-indexing!\n",
    "all_numbers"
   ]
  },
  {
   "cell_type": "markdown",
   "metadata": {},
   "source": [
    "Copying a list"
   ]
  },
  {
   "cell_type": "code",
   "execution_count": 15,
   "metadata": {
    "execution": {
     "iopub.execute_input": "2020-07-12T03:07:16.029158Z",
     "iopub.status.busy": "2020-07-12T03:07:16.028624Z",
     "iopub.status.idle": "2020-07-12T03:07:16.030338Z",
     "shell.execute_reply": "2020-07-12T03:07:16.030726Z"
    }
   },
   "outputs": [],
   "source": [
    "my_numbers = all_numbers.copy()"
   ]
  },
  {
   "cell_type": "code",
   "execution_count": 16,
   "metadata": {
    "execution": {
     "iopub.execute_input": "2020-07-12T03:07:16.034232Z",
     "iopub.status.busy": "2020-07-12T03:07:16.033613Z",
     "iopub.status.idle": "2020-07-12T03:07:16.035824Z",
     "shell.execute_reply": "2020-07-12T03:07:16.036326Z"
    }
   },
   "outputs": [
    {
     "data": {
      "text/plain": [
       "[1, 2, 3, 4, 5, 6, 7, 8, 9]"
      ]
     },
     "execution_count": 16,
     "metadata": {},
     "output_type": "execute_result"
    }
   ],
   "source": [
    "my_numbers"
   ]
  },
  {
   "cell_type": "markdown",
   "metadata": {},
   "source": [
    "You can also use the `list` function to make a list from another list:"
   ]
  },
  {
   "cell_type": "code",
   "execution_count": 17,
   "metadata": {
    "execution": {
     "iopub.execute_input": "2020-07-12T03:07:16.039511Z",
     "iopub.status.busy": "2020-07-12T03:07:16.038917Z",
     "iopub.status.idle": "2020-07-12T03:07:16.040583Z",
     "shell.execute_reply": "2020-07-12T03:07:16.041008Z"
    }
   },
   "outputs": [],
   "source": [
    "some_numbers = list(all_numbers)"
   ]
  },
  {
   "cell_type": "code",
   "execution_count": 18,
   "metadata": {
    "execution": {
     "iopub.execute_input": "2020-07-12T03:07:16.044301Z",
     "iopub.status.busy": "2020-07-12T03:07:16.043725Z",
     "iopub.status.idle": "2020-07-12T03:07:16.046017Z",
     "shell.execute_reply": "2020-07-12T03:07:16.046407Z"
    }
   },
   "outputs": [
    {
     "data": {
      "text/plain": [
       "[1, 2, 3, 4, 5, 6, 7, 8, 9]"
      ]
     },
     "execution_count": 18,
     "metadata": {},
     "output_type": "execute_result"
    }
   ],
   "source": [
    "some_numbers"
   ]
  },
  {
   "cell_type": "markdown",
   "metadata": {},
   "source": [
    "Be careful not to do this. This \"points\" the new list, `my_numbers_nono`, at the original list, `all_numbers`"
   ]
  },
  {
   "cell_type": "code",
   "execution_count": 19,
   "metadata": {
    "execution": {
     "iopub.execute_input": "2020-07-12T03:07:16.050030Z",
     "iopub.status.busy": "2020-07-12T03:07:16.049440Z",
     "iopub.status.idle": "2020-07-12T03:07:16.051588Z",
     "shell.execute_reply": "2020-07-12T03:07:16.051975Z"
    }
   },
   "outputs": [
    {
     "data": {
      "text/plain": [
       "[1, 2, 3, 4, 5, 6, 7, 8, 9]"
      ]
     },
     "execution_count": 19,
     "metadata": {},
     "output_type": "execute_result"
    }
   ],
   "source": [
    "my_numbers_nono = all_numbers\n",
    "my_numbers_nono"
   ]
  },
  {
   "cell_type": "markdown",
   "metadata": {},
   "source": [
    "So when you modify `all_numbers`, you also change `my_numbers_nono`"
   ]
  },
  {
   "cell_type": "code",
   "execution_count": 20,
   "metadata": {
    "execution": {
     "iopub.execute_input": "2020-07-12T03:07:16.055228Z",
     "iopub.status.busy": "2020-07-12T03:07:16.054688Z",
     "iopub.status.idle": "2020-07-12T03:07:16.056899Z",
     "shell.execute_reply": "2020-07-12T03:07:16.057285Z"
    }
   },
   "outputs": [
    {
     "data": {
      "text/plain": [
       "[1, 2, 3, 4, 5, 6, 7, 8]"
      ]
     },
     "execution_count": 20,
     "metadata": {},
     "output_type": "execute_result"
    }
   ],
   "source": [
    "del(all_numbers[8])\n",
    "my_numbers_nono"
   ]
  },
  {
   "cell_type": "markdown",
   "metadata": {},
   "source": [
    "## Chapter 3\n",
    "\n",
    " This chapter introduces a variety of functions and methods, as well as Python packages"
   ]
  },
  {
   "cell_type": "code",
   "execution_count": 21,
   "metadata": {
    "execution": {
     "iopub.execute_input": "2020-07-12T03:07:16.060502Z",
     "iopub.status.busy": "2020-07-12T03:07:16.059957Z",
     "iopub.status.idle": "2020-07-12T03:07:16.061509Z",
     "shell.execute_reply": "2020-07-12T03:07:16.061903Z"
    }
   },
   "outputs": [],
   "source": [
    "my_list = [10, 9, 8, 7, 6, 5, 4, 3, 2, 1]"
   ]
  },
  {
   "cell_type": "markdown",
   "metadata": {},
   "source": [
    "### Functions"
   ]
  },
  {
   "cell_type": "markdown",
   "metadata": {},
   "source": [
    "#### Max/min values in list"
   ]
  },
  {
   "cell_type": "code",
   "execution_count": 22,
   "metadata": {
    "execution": {
     "iopub.execute_input": "2020-07-12T03:07:16.065023Z",
     "iopub.status.busy": "2020-07-12T03:07:16.064470Z",
     "iopub.status.idle": "2020-07-12T03:07:16.066713Z",
     "shell.execute_reply": "2020-07-12T03:07:16.067098Z"
    }
   },
   "outputs": [
    {
     "data": {
      "text/plain": [
       "10"
      ]
     },
     "execution_count": 22,
     "metadata": {},
     "output_type": "execute_result"
    }
   ],
   "source": [
    "max(my_list)"
   ]
  },
  {
   "cell_type": "code",
   "execution_count": 23,
   "metadata": {
    "execution": {
     "iopub.execute_input": "2020-07-12T03:07:16.070187Z",
     "iopub.status.busy": "2020-07-12T03:07:16.069594Z",
     "iopub.status.idle": "2020-07-12T03:07:16.071667Z",
     "shell.execute_reply": "2020-07-12T03:07:16.072058Z"
    }
   },
   "outputs": [
    {
     "data": {
      "text/plain": [
       "1"
      ]
     },
     "execution_count": 23,
     "metadata": {},
     "output_type": "execute_result"
    }
   ],
   "source": [
    "min(my_list)"
   ]
  },
  {
   "cell_type": "markdown",
   "metadata": {},
   "source": [
    "#### Rounding"
   ]
  },
  {
   "cell_type": "code",
   "execution_count": 24,
   "metadata": {
    "execution": {
     "iopub.execute_input": "2020-07-12T03:07:16.075192Z",
     "iopub.status.busy": "2020-07-12T03:07:16.074653Z",
     "iopub.status.idle": "2020-07-12T03:07:16.076697Z",
     "shell.execute_reply": "2020-07-12T03:07:16.077078Z"
    }
   },
   "outputs": [
    {
     "data": {
      "text/plain": [
       "3.14"
      ]
     },
     "execution_count": 24,
     "metadata": {},
     "output_type": "execute_result"
    }
   ],
   "source": [
    "pi = 3.14159265359\n",
    "round(pi, 2)"
   ]
  },
  {
   "cell_type": "markdown",
   "metadata": {},
   "source": [
    "#### Length of list"
   ]
  },
  {
   "cell_type": "code",
   "execution_count": 25,
   "metadata": {
    "execution": {
     "iopub.execute_input": "2020-07-12T03:07:16.080218Z",
     "iopub.status.busy": "2020-07-12T03:07:16.079579Z",
     "iopub.status.idle": "2020-07-12T03:07:16.081968Z",
     "shell.execute_reply": "2020-07-12T03:07:16.082359Z"
    }
   },
   "outputs": [
    {
     "data": {
      "text/plain": [
       "10"
      ]
     },
     "execution_count": 25,
     "metadata": {},
     "output_type": "execute_result"
    }
   ],
   "source": [
    "len(my_list)"
   ]
  },
  {
   "cell_type": "markdown",
   "metadata": {},
   "source": [
    "#### Help"
   ]
  },
  {
   "cell_type": "code",
   "execution_count": 26,
   "metadata": {
    "execution": {
     "iopub.execute_input": "2020-07-12T03:07:16.121612Z",
     "iopub.status.busy": "2020-07-12T03:07:16.121023Z",
     "iopub.status.idle": "2020-07-12T03:07:16.124258Z",
     "shell.execute_reply": "2020-07-12T03:07:16.124595Z"
    }
   },
   "outputs": [],
   "source": [
    "?round"
   ]
  },
  {
   "cell_type": "markdown",
   "metadata": {},
   "source": [
    "#### Sorting"
   ]
  },
  {
   "cell_type": "code",
   "execution_count": 27,
   "metadata": {
    "execution": {
     "iopub.execute_input": "2020-07-12T03:07:16.128280Z",
     "iopub.status.busy": "2020-07-12T03:07:16.127527Z",
     "iopub.status.idle": "2020-07-12T03:07:16.130660Z",
     "shell.execute_reply": "2020-07-12T03:07:16.130277Z"
    }
   },
   "outputs": [
    {
     "data": {
      "text/plain": [
       "[1, 2, 3, 4, 5, 6, 7, 8, 9, 10]"
      ]
     },
     "execution_count": 27,
     "metadata": {},
     "output_type": "execute_result"
    }
   ],
   "source": [
    "going_up = sorted(my_list)\n",
    "going_up"
   ]
  },
  {
   "cell_type": "code",
   "execution_count": 28,
   "metadata": {
    "execution": {
     "iopub.execute_input": "2020-07-12T03:07:16.134047Z",
     "iopub.status.busy": "2020-07-12T03:07:16.133505Z",
     "iopub.status.idle": "2020-07-12T03:07:16.135672Z",
     "shell.execute_reply": "2020-07-12T03:07:16.136067Z"
    }
   },
   "outputs": [
    {
     "data": {
      "text/plain": [
       "[10, 9, 8, 7, 6, 5, 4, 3, 2, 1]"
      ]
     },
     "execution_count": 28,
     "metadata": {},
     "output_type": "execute_result"
    }
   ],
   "source": [
    "going_down = sorted(going_up, reverse=True)\n",
    "going_down"
   ]
  },
  {
   "cell_type": "markdown",
   "metadata": {},
   "source": [
    "### Methods\n",
    "\n",
    "Methods are functions that are applied to a variable by adding a dot then the method name (and parentheses) to the end of the variable name.\n",
    "\n",
    "| Method | What it does |\n",
    "|--------|--------------|\n",
    "|`.index()` | for a list, gives index of the input value |\n",
    "|`.capitalize()` | returns string with the first letter capitalized |\n",
    "|`.upper()` | capitalizes all letters in a string |\n",
    "|`.count()` | for `string`: counts how many of the input are in a string |\n",
    "|`.count()` | for `list`: counts the number of times an element appears in a list |\n",
    "|`.append()` | adds an element to the list it is called on |\n",
    "|`.remove()` | removes the first element of a list that matches the input |\n",
    "|`.reverse()` | reverses the order of the elements in the list its called on |\n",
    "|`.round()` | rounds a float to the number of decimal places specified in the parentheses |"
   ]
  },
  {
   "cell_type": "code",
   "execution_count": 29,
   "metadata": {
    "execution": {
     "iopub.execute_input": "2020-07-12T03:07:16.139050Z",
     "iopub.status.busy": "2020-07-12T03:07:16.138503Z",
     "iopub.status.idle": "2020-07-12T03:07:16.140690Z",
     "shell.execute_reply": "2020-07-12T03:07:16.141051Z"
    }
   },
   "outputs": [
    {
     "data": {
      "text/plain": [
       "0"
      ]
     },
     "execution_count": 29,
     "metadata": {},
     "output_type": "execute_result"
    }
   ],
   "source": [
    "going_down.index(10)"
   ]
  },
  {
   "cell_type": "code",
   "execution_count": 30,
   "metadata": {
    "execution": {
     "iopub.execute_input": "2020-07-12T03:07:16.144248Z",
     "iopub.status.busy": "2020-07-12T03:07:16.143658Z",
     "iopub.status.idle": "2020-07-12T03:07:16.146631Z",
     "shell.execute_reply": "2020-07-12T03:07:16.146979Z"
    }
   },
   "outputs": [
    {
     "data": {
      "text/plain": [
       "[10, 9, 8, 7, 6, 5, 4, 3, 2, 1, 0]"
      ]
     },
     "execution_count": 30,
     "metadata": {},
     "output_type": "execute_result"
    }
   ],
   "source": [
    "going_down.append(0)\n",
    "going_down"
   ]
  },
  {
   "cell_type": "markdown",
   "metadata": {},
   "source": [
    "### Packages\n",
    "\n",
    "Import a package (sometimes called a library), including all its functions"
   ]
  },
  {
   "cell_type": "code",
   "execution_count": 31,
   "metadata": {
    "execution": {
     "iopub.execute_input": "2020-07-12T03:07:16.150233Z",
     "iopub.status.busy": "2020-07-12T03:07:16.149761Z",
     "iopub.status.idle": "2020-07-12T03:07:16.321741Z",
     "shell.execute_reply": "2020-07-12T03:07:16.322187Z"
    }
   },
   "outputs": [],
   "source": [
    "import matplotlib"
   ]
  },
  {
   "cell_type": "markdown",
   "metadata": {},
   "source": [
    "Import a package and give it a shorthand name:"
   ]
  },
  {
   "cell_type": "code",
   "execution_count": 32,
   "metadata": {
    "execution": {
     "iopub.execute_input": "2020-07-12T03:07:16.325174Z",
     "iopub.status.busy": "2020-07-12T03:07:16.324645Z",
     "iopub.status.idle": "2020-07-12T03:07:16.326277Z",
     "shell.execute_reply": "2020-07-12T03:07:16.326691Z"
    }
   },
   "outputs": [],
   "source": [
    "import numpy as np"
   ]
  },
  {
   "cell_type": "markdown",
   "metadata": {},
   "source": [
    "## Chapter 4\n",
    "\n",
    "This chapter introduces the `numpy` package (by convention, imported as `np`), focusing on the numpy array data type.\n",
    "\n",
    "### NumPy arrays\n",
    "\n",
    "NumPy arrays are similar to lists: ordered sets of values. However, they behave differently, and can have multiple dimensons (see below), so NumPy arrays are often a better choice for structured data.\n",
    "\n",
    "You can **create** an np array manually by putting a list inside the `np.array()` function:"
   ]
  },
  {
   "cell_type": "code",
   "execution_count": 33,
   "metadata": {
    "execution": {
     "iopub.execute_input": "2020-07-12T03:07:16.330539Z",
     "iopub.status.busy": "2020-07-12T03:07:16.329831Z",
     "iopub.status.idle": "2020-07-12T03:07:16.332277Z",
     "shell.execute_reply": "2020-07-12T03:07:16.332690Z"
    }
   },
   "outputs": [
    {
     "data": {
      "text/plain": [
       "array([1, 3, 5, 7, 9])"
      ]
     },
     "execution_count": 33,
     "metadata": {},
     "output_type": "execute_result"
    }
   ],
   "source": [
    "np_odds = np.array([1, 3, 5, 7, 9])\n",
    "np_odds"
   ]
  },
  {
   "cell_type": "markdown",
   "metadata": {},
   "source": [
    "Or by specifying the name of a list you previously created:"
   ]
  },
  {
   "cell_type": "code",
   "execution_count": 34,
   "metadata": {
    "execution": {
     "iopub.execute_input": "2020-07-12T03:07:16.336505Z",
     "iopub.status.busy": "2020-07-12T03:07:16.335895Z",
     "iopub.status.idle": "2020-07-12T03:07:16.338200Z",
     "shell.execute_reply": "2020-07-12T03:07:16.338588Z"
    }
   },
   "outputs": [
    {
     "data": {
      "text/plain": [
       "array([ 2,  4,  6,  8, 10])"
      ]
     },
     "execution_count": 34,
     "metadata": {},
     "output_type": "execute_result"
    }
   ],
   "source": [
    "evens = [2, 4, 6, 8, 10]\n",
    "np_evens = np.array(evens)\n",
    "np_evens"
   ]
  },
  {
   "cell_type": "markdown",
   "metadata": {},
   "source": [
    "**Note**: If you just type the name of an array, you'll see the the contents of the array, embedded inside `array()`, as shown above. If you `print()` the array, you'll see only its contents:"
   ]
  },
  {
   "cell_type": "code",
   "execution_count": 35,
   "metadata": {
    "execution": {
     "iopub.execute_input": "2020-07-12T03:07:16.341926Z",
     "iopub.status.busy": "2020-07-12T03:07:16.341334Z",
     "iopub.status.idle": "2020-07-12T03:07:16.343197Z",
     "shell.execute_reply": "2020-07-12T03:07:16.343788Z"
    }
   },
   "outputs": [
    {
     "name": "stdout",
     "output_type": "stream",
     "text": [
      "[ 2  4  6  8 10]\n"
     ]
    }
   ],
   "source": [
    "print(np_evens)"
   ]
  },
  {
   "cell_type": "markdown",
   "metadata": {},
   "source": [
    "Either way above is acceptable, but remember that in Jupyter, you need to use `print()` to see the output of anything other than the last returned value:"
   ]
  },
  {
   "cell_type": "code",
   "execution_count": 36,
   "metadata": {
    "execution": {
     "iopub.execute_input": "2020-07-12T03:07:16.347656Z",
     "iopub.status.busy": "2020-07-12T03:07:16.346966Z",
     "iopub.status.idle": "2020-07-12T03:07:16.349206Z",
     "shell.execute_reply": "2020-07-12T03:07:16.349599Z"
    }
   },
   "outputs": [
    {
     "data": {
      "text/plain": [
       "array([1, 3, 5, 7, 9])"
      ]
     },
     "execution_count": 36,
     "metadata": {},
     "output_type": "execute_result"
    }
   ],
   "source": [
    "np_evens\n",
    "np_odds"
   ]
  },
  {
   "cell_type": "code",
   "execution_count": 37,
   "metadata": {
    "execution": {
     "iopub.execute_input": "2020-07-12T03:07:16.353282Z",
     "iopub.status.busy": "2020-07-12T03:07:16.352598Z",
     "iopub.status.idle": "2020-07-12T03:07:16.355405Z",
     "shell.execute_reply": "2020-07-12T03:07:16.355787Z"
    }
   },
   "outputs": [
    {
     "name": "stdout",
     "output_type": "stream",
     "text": [
      "[ 2  4  6  8 10]\n"
     ]
    },
    {
     "data": {
      "text/plain": [
       "array([1, 3, 5, 7, 9])"
      ]
     },
     "execution_count": 37,
     "metadata": {},
     "output_type": "execute_result"
    }
   ],
   "source": [
    "print(np_evens)\n",
    "np_odds"
   ]
  },
  {
   "cell_type": "markdown",
   "metadata": {},
   "source": [
    "NumPy arrays can only contain values of one type. Values are converted to a different type to enforce this:"
   ]
  },
  {
   "cell_type": "code",
   "execution_count": 38,
   "metadata": {
    "execution": {
     "iopub.execute_input": "2020-07-12T03:07:16.359359Z",
     "iopub.status.busy": "2020-07-12T03:07:16.358793Z",
     "iopub.status.idle": "2020-07-12T03:07:16.360999Z",
     "shell.execute_reply": "2020-07-12T03:07:16.361386Z"
    }
   },
   "outputs": [
    {
     "data": {
      "text/plain": [
       "array(['1', 'two', 'False'], dtype='<U21')"
      ]
     },
     "execution_count": 38,
     "metadata": {},
     "output_type": "execute_result"
    }
   ],
   "source": [
    "np.array([1, 'two', False])"
   ]
  },
  {
   "cell_type": "markdown",
   "metadata": {},
   "source": [
    "Above, the int `1` and the Boolean `False` were converted to a string, because the string 'two' couldn't be converted to any other type.\n",
    "\n",
    "Below, we only have ints and Booleans. Booleans are converted to ints:"
   ]
  },
  {
   "cell_type": "code",
   "execution_count": 39,
   "metadata": {
    "execution": {
     "iopub.execute_input": "2020-07-12T03:07:16.365059Z",
     "iopub.status.busy": "2020-07-12T03:07:16.364425Z",
     "iopub.status.idle": "2020-07-12T03:07:16.366647Z",
     "shell.execute_reply": "2020-07-12T03:07:16.367066Z"
    }
   },
   "outputs": [
    {
     "data": {
      "text/plain": [
       "array([1, 2, 0, 1])"
      ]
     },
     "execution_count": 39,
     "metadata": {},
     "output_type": "execute_result"
    }
   ],
   "source": [
    "np.array([1, 2, False, True])"
   ]
  },
  {
   "cell_type": "markdown",
   "metadata": {},
   "source": [
    "Unlike lists, operations are applied to np arrays element-wise (i.e., applies operation to each element in the array).\n",
    "\n",
    "So for a list, this is probably *not* your intended outcome:"
   ]
  },
  {
   "cell_type": "code",
   "execution_count": 40,
   "metadata": {
    "execution": {
     "iopub.execute_input": "2020-07-12T03:07:16.370220Z",
     "iopub.status.busy": "2020-07-12T03:07:16.369601Z",
     "iopub.status.idle": "2020-07-12T03:07:16.371639Z",
     "shell.execute_reply": "2020-07-12T03:07:16.372099Z"
    }
   },
   "outputs": [
    {
     "name": "stdout",
     "output_type": "stream",
     "text": [
      "[2, 4, 6, 8, 10, 2, 4, 6, 8, 10]\n"
     ]
    }
   ],
   "source": [
    "print(evens * 2)"
   ]
  },
  {
   "cell_type": "markdown",
   "metadata": {},
   "source": [
    "But for a NumPy array:"
   ]
  },
  {
   "cell_type": "code",
   "execution_count": 41,
   "metadata": {
    "execution": {
     "iopub.execute_input": "2020-07-12T03:07:16.375262Z",
     "iopub.status.busy": "2020-07-12T03:07:16.374698Z",
     "iopub.status.idle": "2020-07-12T03:07:16.376549Z",
     "shell.execute_reply": "2020-07-12T03:07:16.376994Z"
    }
   },
   "outputs": [
    {
     "name": "stdout",
     "output_type": "stream",
     "text": [
      "[ 4  8 12 16 20]\n"
     ]
    }
   ],
   "source": [
    "print(np_evens * 2)"
   ]
  },
  {
   "cell_type": "markdown",
   "metadata": {},
   "source": [
    "### 2D arrays\n",
    "\n",
    "A NumPy array with two dimensions (rows and columns).\n",
    "\n",
    "Can create from a regular python list of lists (note the two lists are inside another list/set of square brackets):"
   ]
  },
  {
   "cell_type": "code",
   "execution_count": 42,
   "metadata": {
    "execution": {
     "iopub.execute_input": "2020-07-12T03:07:16.380381Z",
     "iopub.status.busy": "2020-07-12T03:07:16.379746Z",
     "iopub.status.idle": "2020-07-12T03:07:16.381250Z",
     "shell.execute_reply": "2020-07-12T03:07:16.381789Z"
    }
   },
   "outputs": [],
   "source": [
    "my_2d_array = np.array([[0, 1, 2], [3, 4, 5]])"
   ]
  },
  {
   "cell_type": "code",
   "execution_count": 43,
   "metadata": {
    "execution": {
     "iopub.execute_input": "2020-07-12T03:07:16.385118Z",
     "iopub.status.busy": "2020-07-12T03:07:16.384485Z",
     "iopub.status.idle": "2020-07-12T03:07:16.386782Z",
     "shell.execute_reply": "2020-07-12T03:07:16.387171Z"
    }
   },
   "outputs": [
    {
     "data": {
      "text/plain": [
       "array([[0, 1, 2],\n",
       "       [3, 4, 5]])"
      ]
     },
     "execution_count": 43,
     "metadata": {},
     "output_type": "execute_result"
    }
   ],
   "source": [
    "my_2d_array"
   ]
  },
  {
   "cell_type": "markdown",
   "metadata": {},
   "source": [
    "#### Indexing 2D Arrays:\n",
    "Specify in format [*rows*, *columns*]. As with lists, `:` selects entire row/column, and you can use negative indexing"
   ]
  },
  {
   "cell_type": "code",
   "execution_count": 44,
   "metadata": {
    "execution": {
     "iopub.execute_input": "2020-07-12T03:07:16.390621Z",
     "iopub.status.busy": "2020-07-12T03:07:16.389997Z",
     "iopub.status.idle": "2020-07-12T03:07:16.392083Z",
     "shell.execute_reply": "2020-07-12T03:07:16.392533Z"
    }
   },
   "outputs": [
    {
     "data": {
      "text/plain": [
       "array([0, 1, 2])"
      ]
     },
     "execution_count": 44,
     "metadata": {},
     "output_type": "execute_result"
    }
   ],
   "source": [
    "my_2d_array[0, :]"
   ]
  },
  {
   "cell_type": "code",
   "execution_count": 45,
   "metadata": {
    "execution": {
     "iopub.execute_input": "2020-07-12T03:07:16.395916Z",
     "iopub.status.busy": "2020-07-12T03:07:16.395292Z",
     "iopub.status.idle": "2020-07-12T03:07:16.397640Z",
     "shell.execute_reply": "2020-07-12T03:07:16.398137Z"
    }
   },
   "outputs": [
    {
     "data": {
      "text/plain": [
       "array([3, 4, 5])"
      ]
     },
     "execution_count": 45,
     "metadata": {},
     "output_type": "execute_result"
    }
   ],
   "source": [
    "my_2d_array[1, :]"
   ]
  },
  {
   "cell_type": "markdown",
   "metadata": {},
   "source": [
    "Column only:"
   ]
  },
  {
   "cell_type": "code",
   "execution_count": 46,
   "metadata": {
    "execution": {
     "iopub.execute_input": "2020-07-12T03:07:16.402064Z",
     "iopub.status.busy": "2020-07-12T03:07:16.401370Z",
     "iopub.status.idle": "2020-07-12T03:07:16.403712Z",
     "shell.execute_reply": "2020-07-12T03:07:16.404101Z"
    }
   },
   "outputs": [
    {
     "data": {
      "text/plain": [
       "array([0, 3])"
      ]
     },
     "execution_count": 46,
     "metadata": {},
     "output_type": "execute_result"
    }
   ],
   "source": [
    "my_2d_array[:, 0]"
   ]
  },
  {
   "cell_type": "markdown",
   "metadata": {},
   "source": [
    "Last coumn:"
   ]
  },
  {
   "cell_type": "code",
   "execution_count": 47,
   "metadata": {
    "execution": {
     "iopub.execute_input": "2020-07-12T03:07:16.407360Z",
     "iopub.status.busy": "2020-07-12T03:07:16.406764Z",
     "iopub.status.idle": "2020-07-12T03:07:16.408893Z",
     "shell.execute_reply": "2020-07-12T03:07:16.409274Z"
    }
   },
   "outputs": [
    {
     "data": {
      "text/plain": [
       "array([2, 5])"
      ]
     },
     "execution_count": 47,
     "metadata": {},
     "output_type": "execute_result"
    }
   ],
   "source": [
    "my_2d_array[:, -1]"
   ]
  },
  {
   "cell_type": "markdown",
   "metadata": {},
   "source": [
    "Select single value by specifying a particular row and column:"
   ]
  },
  {
   "cell_type": "code",
   "execution_count": 48,
   "metadata": {
    "execution": {
     "iopub.execute_input": "2020-07-12T03:07:16.412603Z",
     "iopub.status.busy": "2020-07-12T03:07:16.412012Z",
     "iopub.status.idle": "2020-07-12T03:07:16.414105Z",
     "shell.execute_reply": "2020-07-12T03:07:16.414494Z"
    }
   },
   "outputs": [
    {
     "data": {
      "text/plain": [
       "4"
      ]
     },
     "execution_count": 48,
     "metadata": {},
     "output_type": "execute_result"
    }
   ],
   "source": [
    "my_2d_array[1, 1]"
   ]
  },
  {
   "cell_type": "markdown",
   "metadata": {},
   "source": [
    "`.shape` *attribute* gives shape (rows, cols) of 2D numpy array:"
   ]
  },
  {
   "cell_type": "code",
   "execution_count": 49,
   "metadata": {
    "execution": {
     "iopub.execute_input": "2020-07-12T03:07:16.417955Z",
     "iopub.status.busy": "2020-07-12T03:07:16.417261Z",
     "iopub.status.idle": "2020-07-12T03:07:16.419801Z",
     "shell.execute_reply": "2020-07-12T03:07:16.420204Z"
    }
   },
   "outputs": [
    {
     "data": {
      "text/plain": [
       "(2, 3)"
      ]
     },
     "execution_count": 49,
     "metadata": {},
     "output_type": "execute_result"
    }
   ],
   "source": [
    "my_2d_array.shape"
   ]
  },
  {
   "cell_type": "markdown",
   "metadata": {},
   "source": [
    "### NumPy Array Functions"
   ]
  },
  {
   "cell_type": "code",
   "execution_count": 50,
   "metadata": {
    "execution": {
     "iopub.execute_input": "2020-07-12T03:07:16.423984Z",
     "iopub.status.busy": "2020-07-12T03:07:16.423348Z",
     "iopub.status.idle": "2020-07-12T03:07:16.425573Z",
     "shell.execute_reply": "2020-07-12T03:07:16.425959Z"
    }
   },
   "outputs": [
    {
     "data": {
      "text/plain": [
       "array([0.45789141, 0.87878647, 0.4270425 , 0.6803746 , 0.42292513,\n",
       "       0.4947129 , 0.42128219, 0.16180989, 0.87291826, 0.13681482])"
      ]
     },
     "execution_count": 50,
     "metadata": {},
     "output_type": "execute_result"
    }
   ],
   "source": [
    "np.random.rand(10)"
   ]
  },
  {
   "cell_type": "code",
   "execution_count": 51,
   "metadata": {
    "execution": {
     "iopub.execute_input": "2020-07-12T03:07:16.429336Z",
     "iopub.status.busy": "2020-07-12T03:07:16.428721Z",
     "iopub.status.idle": "2020-07-12T03:07:16.430690Z",
     "shell.execute_reply": "2020-07-12T03:07:16.431254Z"
    }
   },
   "outputs": [
    {
     "name": "stdout",
     "output_type": "stream",
     "text": [
      "[0.99578337 0.99459346 0.11206893 0.98184658 0.56289404 0.52269649\n",
      " 0.59632463 0.44755954 0.61304564 0.81246038]\n"
     ]
    }
   ],
   "source": [
    "# Some random numbers:\n",
    "my_data = np.random.rand(10)\n",
    "print(my_data)"
   ]
  },
  {
   "cell_type": "markdown",
   "metadata": {},
   "source": [
    "#### Mean"
   ]
  },
  {
   "cell_type": "code",
   "execution_count": 52,
   "metadata": {
    "execution": {
     "iopub.execute_input": "2020-07-12T03:07:16.435058Z",
     "iopub.status.busy": "2020-07-12T03:07:16.434449Z",
     "iopub.status.idle": "2020-07-12T03:07:16.436722Z",
     "shell.execute_reply": "2020-07-12T03:07:16.437107Z"
    }
   },
   "outputs": [
    {
     "data": {
      "text/plain": [
       "0.6639273049609131"
      ]
     },
     "execution_count": 52,
     "metadata": {},
     "output_type": "execute_result"
    }
   ],
   "source": [
    "np.mean(my_data)"
   ]
  },
  {
   "cell_type": "markdown",
   "metadata": {},
   "source": [
    "#### Median"
   ]
  },
  {
   "cell_type": "code",
   "execution_count": 53,
   "metadata": {
    "execution": {
     "iopub.execute_input": "2020-07-12T03:07:16.440426Z",
     "iopub.status.busy": "2020-07-12T03:07:16.439890Z",
     "iopub.status.idle": "2020-07-12T03:07:16.442191Z",
     "shell.execute_reply": "2020-07-12T03:07:16.442706Z"
    }
   },
   "outputs": [
    {
     "data": {
      "text/plain": [
       "0.604685134184531"
      ]
     },
     "execution_count": 53,
     "metadata": {},
     "output_type": "execute_result"
    }
   ],
   "source": [
    "np.median(my_data)"
   ]
  },
  {
   "cell_type": "markdown",
   "metadata": {},
   "source": [
    "#### Standard Deviation"
   ]
  },
  {
   "cell_type": "code",
   "execution_count": 54,
   "metadata": {
    "execution": {
     "iopub.execute_input": "2020-07-12T03:07:16.445908Z",
     "iopub.status.busy": "2020-07-12T03:07:16.445304Z",
     "iopub.status.idle": "2020-07-12T03:07:16.447604Z",
     "shell.execute_reply": "2020-07-12T03:07:16.447987Z"
    }
   },
   "outputs": [
    {
     "data": {
      "text/plain": [
       "0.27042168789128923"
      ]
     },
     "execution_count": 54,
     "metadata": {},
     "output_type": "execute_result"
    }
   ],
   "source": [
    "np.std(my_data)"
   ]
  },
  {
   "cell_type": "markdown",
   "metadata": {},
   "source": [
    "If you don't like long numbers, you can apply the .round() method to the output:"
   ]
  },
  {
   "cell_type": "code",
   "execution_count": 55,
   "metadata": {
    "execution": {
     "iopub.execute_input": "2020-07-12T03:07:16.451329Z",
     "iopub.status.busy": "2020-07-12T03:07:16.450692Z",
     "iopub.status.idle": "2020-07-12T03:07:16.453525Z",
     "shell.execute_reply": "2020-07-12T03:07:16.453028Z"
    }
   },
   "outputs": [
    {
     "name": "stdout",
     "output_type": "stream",
     "text": [
      "0.27\n"
     ]
    }
   ],
   "source": [
    "std_dev = np.std(my_data).round(3)\n",
    "print(std_dev)"
   ]
  },
  {
   "cell_type": "markdown",
   "metadata": {},
   "source": [
    "#### Correlation \n",
    "\n",
    "Between two arrays:"
   ]
  },
  {
   "cell_type": "code",
   "execution_count": 56,
   "metadata": {
    "execution": {
     "iopub.execute_input": "2020-07-12T03:07:16.457037Z",
     "iopub.status.busy": "2020-07-12T03:07:16.456498Z",
     "iopub.status.idle": "2020-07-12T03:07:16.458207Z",
     "shell.execute_reply": "2020-07-12T03:07:16.458655Z"
    }
   },
   "outputs": [],
   "source": [
    "# Final grades\n",
    "grades = np.array([67, 74, 44, 92, 88])\n",
    "\n",
    "# hours per week spent working on course\n",
    "hours = np.array([5.2, 7, 2.0, 9.25, 7.5])"
   ]
  },
  {
   "cell_type": "markdown",
   "metadata": {},
   "source": [
    "Does more hours spent on the course translate into a better grade?"
   ]
  },
  {
   "cell_type": "code",
   "execution_count": 57,
   "metadata": {
    "execution": {
     "iopub.execute_input": "2020-07-12T03:07:16.461724Z",
     "iopub.status.busy": "2020-07-12T03:07:16.461183Z",
     "iopub.status.idle": "2020-07-12T03:07:16.466317Z",
     "shell.execute_reply": "2020-07-12T03:07:16.466704Z"
    }
   },
   "outputs": [
    {
     "data": {
      "text/plain": [
       "array([[1.        , 0.97877197],\n",
       "       [0.97877197, 1.        ]])"
      ]
     },
     "execution_count": 57,
     "metadata": {},
     "output_type": "execute_result"
    }
   ],
   "source": [
    "np.corrcoef(grades, hours)"
   ]
  },
  {
   "cell_type": "markdown",
   "metadata": {},
   "source": [
    "Yes! The correlation is positive and strong (approximately .979)"
   ]
  }
 ],
 "metadata": {
  "kernelspec": {
   "display_name": "Python 3",
   "language": "python",
   "name": "python3"
  },
  "language_info": {
   "codemirror_mode": {
    "name": "ipython",
    "version": 3
   },
   "file_extension": ".py",
   "mimetype": "text/x-python",
   "name": "python",
   "nbconvert_exporter": "python",
   "pygments_lexer": "ipython3",
   "version": "3.7.4"
  }
 },
 "nbformat": 4,
 "nbformat_minor": 4
}