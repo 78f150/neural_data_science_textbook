{
 "cells": [
  {
   "cell_type": "markdown",
   "metadata": {},
   "source": [
    "# Lesson 1: Introduction to Python\n",
    "\n",
    "\n",
    "[View this lesson on DataCamp](https://learn.datacamp.com/courses/intro-to-python-for-data-science )"
   ]
  },
  {
   "cell_type": "markdown",
   "metadata": {},
   "source": [
    "## Chapter 1\n",
    "This chapter introduces the basics of Python - simple math and variable types"
   ]
  },
  {
   "cell_type": "markdown",
   "metadata": {},
   "source": [
    "### Basic Operations\n",
    "\n",
    "| Operator |  Operation                                                   |\n",
    "|----------|--------------------------------------------------------------|\n",
    "| `#`      |  add comment                                                 |\n",
    "| `+`      |  addition                                                    |\n",
    "| `-`      |  subtraction                                                 |\n",
    "| `*`      |  multiplication                                              |\n",
    "| `/`      |  division                                                    |\n",
    "| `**`       |  exponentiation                                              |\n",
    "| `%`        |  modulo; returns remainder of division (e.g., `18 % 7` equals `4`) |\n",
    "| `=`        |  variable assignment                                         |\n",
    "| `==`       |  equal to                                                    |\n",
    "| `!=`       |  not equal to                                                |\n",
    "\n"
   ]
  },
  {
   "cell_type": "markdown",
   "metadata": {},
   "source": [
    "### Variable Types\n",
    "\n",
    "|                                          |                                                                      |\n",
    "|------------------------------------------|----------------------------------------------------------------------|\n",
    "| integer                                  |  number without fractional component (no decimal point)                                      |\n",
    "| float                                    |  number with both integer and fractional part separated by a decimal |\n",
    "| string  | text; enclose in `' '` or `\" \"`    |\n",
    "| boolean                                  |  logical values; can only be `True` or `False`                       |\n",
    "|list | Can contain many different types. Create with `[]`. Separate items with commas. |\n",
    "\n"
   ]
  },
  {
   "cell_type": "markdown",
   "metadata": {},
   "source": [
    "### Functions\n",
    "|           |                                       |\n",
    "|-----------|---------------------------------------|\n",
    "| `print()` |   outputs what's enclosed in `()`     |\n",
    "| `type()`  |  gives the type of a defined variable |\n",
    "| `int()`   |  converts a value into an integer     |\n",
    "| `float()` |  converts a value into a float        |\n",
    "| `str()`   |  converts a value into a string       |\n",
    "| `bool()`  |  converts a value into a boolean      |\n",
    "| `list()`  |  converts a value or values into a list |"
   ]
  },
  {
   "cell_type": "markdown",
   "metadata": {},
   "source": [
    "## Chapter 2\n",
    "This chapter covers everything to do with lists - creating lists, subsetting, and manipulation.\n",
    "\n",
    "Lists are ordered sets of items. \n",
    "\n",
    "### Working with Lists\n",
    "Create a list:"
   ]
  },
  {
   "cell_type": "code",
   "execution_count": 1,
   "metadata": {
    "execution": {
     "iopub.execute_input": "2020-06-25T01:27:09.294616Z",
     "iopub.status.busy": "2020-06-25T01:27:09.293546Z",
     "iopub.status.idle": "2020-06-25T01:27:09.295664Z",
     "shell.execute_reply": "2020-06-25T01:27:09.296211Z"
    }
   },
   "outputs": [],
   "source": [
    "odd = [1, 3, 5, 7, 9]"
   ]
  },
  {
   "cell_type": "markdown",
   "metadata": {},
   "source": [
    "First index (position) in list is 0, not 1:"
   ]
  },
  {
   "cell_type": "code",
   "execution_count": 2,
   "metadata": {
    "execution": {
     "iopub.execute_input": "2020-06-25T01:27:09.304355Z",
     "iopub.status.busy": "2020-06-25T01:27:09.303736Z",
     "iopub.status.idle": "2020-06-25T01:27:09.306120Z",
     "shell.execute_reply": "2020-06-25T01:27:09.306629Z"
    }
   },
   "outputs": [
    {
     "data": {
      "text/plain": [
       "3"
      ]
     },
     "execution_count": 2,
     "metadata": {},
     "output_type": "execute_result"
    }
   ],
   "source": [
    "odd[1]"
   ]
  },
  {
   "cell_type": "code",
   "execution_count": 3,
   "metadata": {
    "execution": {
     "iopub.execute_input": "2020-06-25T01:27:09.310061Z",
     "iopub.status.busy": "2020-06-25T01:27:09.309435Z",
     "iopub.status.idle": "2020-06-25T01:27:09.311903Z",
     "shell.execute_reply": "2020-06-25T01:27:09.312372Z"
    }
   },
   "outputs": [
    {
     "data": {
      "text/plain": [
       "1"
      ]
     },
     "execution_count": 3,
     "metadata": {},
     "output_type": "execute_result"
    }
   ],
   "source": [
    "odd[0]"
   ]
  },
  {
   "cell_type": "markdown",
   "metadata": {},
   "source": [
    "Negative indexing works from the end of the list. "
   ]
  },
  {
   "cell_type": "code",
   "execution_count": 4,
   "metadata": {
    "execution": {
     "iopub.execute_input": "2020-06-25T01:27:09.315818Z",
     "iopub.status.busy": "2020-06-25T01:27:09.315168Z",
     "iopub.status.idle": "2020-06-25T01:27:09.317614Z",
     "shell.execute_reply": "2020-06-25T01:27:09.318071Z"
    }
   },
   "outputs": [
    {
     "data": {
      "text/plain": [
       "9"
      ]
     },
     "execution_count": 4,
     "metadata": {},
     "output_type": "execute_result"
    }
   ],
   "source": [
    "odd[-1]"
   ]
  },
  {
   "cell_type": "markdown",
   "metadata": {},
   "source": [
    "#### Slicing\n",
    "Specify a range of indices inside square brackets: [inclusive:exclusive]"
   ]
  },
  {
   "cell_type": "code",
   "execution_count": 5,
   "metadata": {
    "execution": {
     "iopub.execute_input": "2020-06-25T01:27:09.321665Z",
     "iopub.status.busy": "2020-06-25T01:27:09.321031Z",
     "iopub.status.idle": "2020-06-25T01:27:09.323334Z",
     "shell.execute_reply": "2020-06-25T01:27:09.323790Z"
    }
   },
   "outputs": [
    {
     "data": {
      "text/plain": [
       "[1, 3, 5, 7, 9]"
      ]
     },
     "execution_count": 5,
     "metadata": {},
     "output_type": "execute_result"
    }
   ],
   "source": [
    "odd[0:5]"
   ]
  },
  {
   "cell_type": "code",
   "execution_count": 6,
   "metadata": {
    "execution": {
     "iopub.execute_input": "2020-06-25T01:27:09.327178Z",
     "iopub.status.busy": "2020-06-25T01:27:09.326552Z",
     "iopub.status.idle": "2020-06-25T01:27:09.328838Z",
     "shell.execute_reply": "2020-06-25T01:27:09.329225Z"
    }
   },
   "outputs": [
    {
     "data": {
      "text/plain": [
       "[3, 5]"
      ]
     },
     "execution_count": 6,
     "metadata": {},
     "output_type": "execute_result"
    }
   ],
   "source": [
    "odd[1:3]"
   ]
  },
  {
   "cell_type": "code",
   "execution_count": 7,
   "metadata": {
    "execution": {
     "iopub.execute_input": "2020-06-25T01:27:09.332565Z",
     "iopub.status.busy": "2020-06-25T01:27:09.331913Z",
     "iopub.status.idle": "2020-06-25T01:27:09.334026Z",
     "shell.execute_reply": "2020-06-25T01:27:09.334415Z"
    }
   },
   "outputs": [
    {
     "data": {
      "text/plain": [
       "[1, 3, 5, 7, 9]"
      ]
     },
     "execution_count": 7,
     "metadata": {},
     "output_type": "execute_result"
    }
   ],
   "source": [
    "odd[:]"
   ]
  },
  {
   "cell_type": "code",
   "execution_count": 8,
   "metadata": {
    "execution": {
     "iopub.execute_input": "2020-06-25T01:27:09.337529Z",
     "iopub.status.busy": "2020-06-25T01:27:09.336982Z",
     "iopub.status.idle": "2020-06-25T01:27:09.338916Z",
     "shell.execute_reply": "2020-06-25T01:27:09.339410Z"
    }
   },
   "outputs": [
    {
     "data": {
      "text/plain": [
       "[1, 3, 5]"
      ]
     },
     "execution_count": 8,
     "metadata": {},
     "output_type": "execute_result"
    }
   ],
   "source": [
    "odd[:3]"
   ]
  },
  {
   "cell_type": "code",
   "execution_count": 9,
   "metadata": {
    "execution": {
     "iopub.execute_input": "2020-06-25T01:27:09.342708Z",
     "iopub.status.busy": "2020-06-25T01:27:09.342111Z",
     "iopub.status.idle": "2020-06-25T01:27:09.344095Z",
     "shell.execute_reply": "2020-06-25T01:27:09.344481Z"
    }
   },
   "outputs": [
    {
     "data": {
      "text/plain": [
       "[7, 9]"
      ]
     },
     "execution_count": 9,
     "metadata": {},
     "output_type": "execute_result"
    }
   ],
   "source": [
    "odd[3:]"
   ]
  },
  {
   "cell_type": "markdown",
   "metadata": {},
   "source": [
    "#### List Manipulation\n",
    "Replacing list elements: subset list and assign a new value using =\n"
   ]
  },
  {
   "cell_type": "code",
   "execution_count": 10,
   "metadata": {
    "execution": {
     "iopub.execute_input": "2020-06-25T01:27:09.347951Z",
     "iopub.status.busy": "2020-06-25T01:27:09.347350Z",
     "iopub.status.idle": "2020-06-25T01:27:09.349584Z",
     "shell.execute_reply": "2020-06-25T01:27:09.350011Z"
    }
   },
   "outputs": [
    {
     "data": {
      "text/plain": [
       "[2, 3, 5, 7, 9]"
      ]
     },
     "execution_count": 10,
     "metadata": {},
     "output_type": "execute_result"
    }
   ],
   "source": [
    "odd[0] = 2\n",
    "odd[0:5]"
   ]
  },
  {
   "cell_type": "markdown",
   "metadata": {},
   "source": [
    "Extend a list, use + operator to add elements\n"
   ]
  },
  {
   "cell_type": "code",
   "execution_count": 11,
   "metadata": {
    "execution": {
     "iopub.execute_input": "2020-06-25T01:27:09.353339Z",
     "iopub.status.busy": "2020-06-25T01:27:09.352711Z",
     "iopub.status.idle": "2020-06-25T01:27:09.354935Z",
     "shell.execute_reply": "2020-06-25T01:27:09.355325Z"
    }
   },
   "outputs": [
    {
     "data": {
      "text/plain": [
       "[2, 3, 5, 7, 9, 11]"
      ]
     },
     "execution_count": 11,
     "metadata": {},
     "output_type": "execute_result"
    }
   ],
   "source": [
    "odd + [11]"
   ]
  },
  {
   "cell_type": "code",
   "execution_count": 12,
   "metadata": {
    "execution": {
     "iopub.execute_input": "2020-06-25T01:27:09.359218Z",
     "iopub.status.busy": "2020-06-25T01:27:09.358672Z",
     "iopub.status.idle": "2020-06-25T01:27:09.361282Z",
     "shell.execute_reply": "2020-06-25T01:27:09.360817Z"
    }
   },
   "outputs": [
    {
     "data": {
      "text/plain": [
       "[1, 3, 5, 7, 9, 2, 4, 6, 8, 10]"
      ]
     },
     "execution_count": 12,
     "metadata": {},
     "output_type": "execute_result"
    }
   ],
   "source": [
    "odd  = [1, 3, 5, 7, 9]\n",
    "even = [2, 4, 6, 8, 10]\n",
    "\n",
    "all_numbers = odd + even\n",
    "all_numbers"
   ]
  },
  {
   "cell_type": "markdown",
   "metadata": {},
   "source": [
    "Sort a list:"
   ]
  },
  {
   "cell_type": "code",
   "execution_count": 13,
   "metadata": {
    "execution": {
     "iopub.execute_input": "2020-06-25T01:27:09.364627Z",
     "iopub.status.busy": "2020-06-25T01:27:09.364034Z",
     "iopub.status.idle": "2020-06-25T01:27:09.366224Z",
     "shell.execute_reply": "2020-06-25T01:27:09.366693Z"
    }
   },
   "outputs": [
    {
     "data": {
      "text/plain": [
       "[1, 2, 3, 4, 5, 6, 7, 8, 9, 10]"
      ]
     },
     "execution_count": 13,
     "metadata": {},
     "output_type": "execute_result"
    }
   ],
   "source": [
    "all_numbers.sort()\n",
    "all_numbers"
   ]
  },
  {
   "cell_type": "markdown",
   "metadata": {},
   "source": [
    "Delete list items:"
   ]
  },
  {
   "cell_type": "code",
   "execution_count": 14,
   "metadata": {
    "execution": {
     "iopub.execute_input": "2020-06-25T01:27:09.370092Z",
     "iopub.status.busy": "2020-06-25T01:27:09.369546Z",
     "iopub.status.idle": "2020-06-25T01:27:09.371824Z",
     "shell.execute_reply": "2020-06-25T01:27:09.372323Z"
    }
   },
   "outputs": [
    {
     "data": {
      "text/plain": [
       "[1, 2, 3, 4, 5, 6, 7, 8, 9]"
      ]
     },
     "execution_count": 14,
     "metadata": {},
     "output_type": "execute_result"
    }
   ],
   "source": [
    "del(all_numbers[9])  # remember 0-indexing!\n",
    "all_numbers"
   ]
  },
  {
   "cell_type": "markdown",
   "metadata": {},
   "source": [
    "Copying a list"
   ]
  },
  {
   "cell_type": "code",
   "execution_count": 15,
   "metadata": {
    "execution": {
     "iopub.execute_input": "2020-06-25T01:27:09.375469Z",
     "iopub.status.busy": "2020-06-25T01:27:09.374927Z",
     "iopub.status.idle": "2020-06-25T01:27:09.376479Z",
     "shell.execute_reply": "2020-06-25T01:27:09.376927Z"
    }
   },
   "outputs": [],
   "source": [
    "my_numbers = all_numbers.copy()"
   ]
  },
  {
   "cell_type": "code",
   "execution_count": 16,
   "metadata": {
    "execution": {
     "iopub.execute_input": "2020-06-25T01:27:09.380128Z",
     "iopub.status.busy": "2020-06-25T01:27:09.379484Z",
     "iopub.status.idle": "2020-06-25T01:27:09.381755Z",
     "shell.execute_reply": "2020-06-25T01:27:09.382135Z"
    }
   },
   "outputs": [
    {
     "data": {
      "text/plain": [
       "[1, 2, 3, 4, 5, 6, 7, 8, 9]"
      ]
     },
     "execution_count": 16,
     "metadata": {},
     "output_type": "execute_result"
    }
   ],
   "source": [
    "my_numbers"
   ]
  },
  {
   "cell_type": "markdown",
   "metadata": {},
   "source": [
    "You can also use the `list` function to make a list from another list:"
   ]
  },
  {
   "cell_type": "code",
   "execution_count": 17,
   "metadata": {
    "execution": {
     "iopub.execute_input": "2020-06-25T01:27:09.384927Z",
     "iopub.status.busy": "2020-06-25T01:27:09.384399Z",
     "iopub.status.idle": "2020-06-25T01:27:09.385940Z",
     "shell.execute_reply": "2020-06-25T01:27:09.386286Z"
    }
   },
   "outputs": [],
   "source": [
    "some_numbers = list(all_numbers)"
   ]
  },
  {
   "cell_type": "code",
   "execution_count": 18,
   "metadata": {
    "execution": {
     "iopub.execute_input": "2020-06-25T01:27:09.389541Z",
     "iopub.status.busy": "2020-06-25T01:27:09.388699Z",
     "iopub.status.idle": "2020-06-25T01:27:09.390955Z",
     "shell.execute_reply": "2020-06-25T01:27:09.391314Z"
    }
   },
   "outputs": [
    {
     "data": {
      "text/plain": [
       "[1, 2, 3, 4, 5, 6, 7, 8, 9]"
      ]
     },
     "execution_count": 18,
     "metadata": {},
     "output_type": "execute_result"
    }
   ],
   "source": [
    "some_numbers"
   ]
  },
  {
   "cell_type": "markdown",
   "metadata": {},
   "source": [
    "Be careful not to do this. This \"points\" the new list, `my_numbers_nono`, at the original list, `all_numbers`"
   ]
  },
  {
   "cell_type": "code",
   "execution_count": 19,
   "metadata": {
    "execution": {
     "iopub.execute_input": "2020-06-25T01:27:09.394178Z",
     "iopub.status.busy": "2020-06-25T01:27:09.393597Z",
     "iopub.status.idle": "2020-06-25T01:27:09.395477Z",
     "shell.execute_reply": "2020-06-25T01:27:09.395878Z"
    }
   },
   "outputs": [
    {
     "data": {
      "text/plain": [
       "[1, 2, 3, 4, 5, 6, 7, 8, 9]"
      ]
     },
     "execution_count": 19,
     "metadata": {},
     "output_type": "execute_result"
    }
   ],
   "source": [
    "my_numbers_nono = all_numbers\n",
    "my_numbers_nono"
   ]
  },
  {
   "cell_type": "markdown",
   "metadata": {},
   "source": [
    "So when you nodify `all_numbers`, you also change `my_numbers_nono`"
   ]
  },
  {
   "cell_type": "code",
   "execution_count": 20,
   "metadata": {
    "execution": {
     "iopub.execute_input": "2020-06-25T01:27:09.398958Z",
     "iopub.status.busy": "2020-06-25T01:27:09.398313Z",
     "iopub.status.idle": "2020-06-25T01:27:09.400430Z",
     "shell.execute_reply": "2020-06-25T01:27:09.400883Z"
    }
   },
   "outputs": [
    {
     "data": {
      "text/plain": [
       "[1, 2, 3, 4, 5, 6, 7, 8]"
      ]
     },
     "execution_count": 20,
     "metadata": {},
     "output_type": "execute_result"
    }
   ],
   "source": [
    "del(all_numbers[8])\n",
    "my_numbers_nono"
   ]
  },
  {
   "cell_type": "markdown",
   "metadata": {},
   "source": [
    "## Chpater 3\n",
    "\n",
    " This chapter introduces a variety of functions and methods, as well as Python packages"
   ]
  },
  {
   "cell_type": "code",
   "execution_count": 21,
   "metadata": {
    "execution": {
     "iopub.execute_input": "2020-06-25T01:27:09.404008Z",
     "iopub.status.busy": "2020-06-25T01:27:09.403416Z",
     "iopub.status.idle": "2020-06-25T01:27:09.405185Z",
     "shell.execute_reply": "2020-06-25T01:27:09.405611Z"
    }
   },
   "outputs": [],
   "source": [
    "my_list = [10, 9, 8, 7, 6, 5, 4, 3, 2, 1]"
   ]
  },
  {
   "cell_type": "markdown",
   "metadata": {},
   "source": [
    "### Functions"
   ]
  },
  {
   "cell_type": "markdown",
   "metadata": {},
   "source": [
    "Maximum-valued element in list"
   ]
  },
  {
   "cell_type": "code",
   "execution_count": 22,
   "metadata": {
    "execution": {
     "iopub.execute_input": "2020-06-25T01:27:09.409053Z",
     "iopub.status.busy": "2020-06-25T01:27:09.408453Z",
     "iopub.status.idle": "2020-06-25T01:27:09.410974Z",
     "shell.execute_reply": "2020-06-25T01:27:09.410547Z"
    }
   },
   "outputs": [
    {
     "data": {
      "text/plain": [
       "10"
      ]
     },
     "execution_count": 22,
     "metadata": {},
     "output_type": "execute_result"
    }
   ],
   "source": [
    "max(my_list)"
   ]
  },
  {
   "cell_type": "code",
   "execution_count": 23,
   "metadata": {
    "execution": {
     "iopub.execute_input": "2020-06-25T01:27:09.414025Z",
     "iopub.status.busy": "2020-06-25T01:27:09.413414Z",
     "iopub.status.idle": "2020-06-25T01:27:09.416280Z",
     "shell.execute_reply": "2020-06-25T01:27:09.416860Z"
    }
   },
   "outputs": [
    {
     "data": {
      "text/plain": [
       "1"
      ]
     },
     "execution_count": 23,
     "metadata": {},
     "output_type": "execute_result"
    }
   ],
   "source": [
    "min(my_list)"
   ]
  },
  {
   "cell_type": "markdown",
   "metadata": {},
   "source": [
    "Rounding"
   ]
  },
  {
   "cell_type": "code",
   "execution_count": 24,
   "metadata": {
    "execution": {
     "iopub.execute_input": "2020-06-25T01:27:09.420448Z",
     "iopub.status.busy": "2020-06-25T01:27:09.419814Z",
     "iopub.status.idle": "2020-06-25T01:27:09.422108Z",
     "shell.execute_reply": "2020-06-25T01:27:09.422480Z"
    }
   },
   "outputs": [
    {
     "data": {
      "text/plain": [
       "3.14"
      ]
     },
     "execution_count": 24,
     "metadata": {},
     "output_type": "execute_result"
    }
   ],
   "source": [
    "pi = 3.14159265359\n",
    "round(pi, 2)"
   ]
  },
  {
   "cell_type": "markdown",
   "metadata": {},
   "source": [
    "Length of list"
   ]
  },
  {
   "cell_type": "code",
   "execution_count": 25,
   "metadata": {
    "execution": {
     "iopub.execute_input": "2020-06-25T01:27:09.425461Z",
     "iopub.status.busy": "2020-06-25T01:27:09.424893Z",
     "iopub.status.idle": "2020-06-25T01:27:09.427050Z",
     "shell.execute_reply": "2020-06-25T01:27:09.427414Z"
    }
   },
   "outputs": [
    {
     "data": {
      "text/plain": [
       "10"
      ]
     },
     "execution_count": 25,
     "metadata": {},
     "output_type": "execute_result"
    }
   ],
   "source": [
    "len(my_list)"
   ]
  },
  {
   "cell_type": "markdown",
   "metadata": {},
   "source": [
    "Get help using a function:"
   ]
  },
  {
   "cell_type": "code",
   "execution_count": 26,
   "metadata": {
    "execution": {
     "iopub.execute_input": "2020-06-25T01:27:09.465266Z",
     "iopub.status.busy": "2020-06-25T01:27:09.464648Z",
     "iopub.status.idle": "2020-06-25T01:27:09.469179Z",
     "shell.execute_reply": "2020-06-25T01:27:09.469817Z"
    }
   },
   "outputs": [],
   "source": [
    "?len"
   ]
  },
  {
   "cell_type": "code",
   "execution_count": 27,
   "metadata": {
    "execution": {
     "iopub.execute_input": "2020-06-25T01:27:09.474196Z",
     "iopub.status.busy": "2020-06-25T01:27:09.473539Z",
     "iopub.status.idle": "2020-06-25T01:27:09.475674Z",
     "shell.execute_reply": "2020-06-25T01:27:09.476012Z"
    }
   },
   "outputs": [
    {
     "data": {
      "text/plain": [
       "[1, 2, 3, 4, 5, 6, 7, 8, 9, 10]"
      ]
     },
     "execution_count": 27,
     "metadata": {},
     "output_type": "execute_result"
    }
   ],
   "source": [
    "going_up = sorted(my_list)\n",
    "going_up"
   ]
  },
  {
   "cell_type": "code",
   "execution_count": 28,
   "metadata": {
    "execution": {
     "iopub.execute_input": "2020-06-25T01:27:09.479753Z",
     "iopub.status.busy": "2020-06-25T01:27:09.479189Z",
     "iopub.status.idle": "2020-06-25T01:27:09.481646Z",
     "shell.execute_reply": "2020-06-25T01:27:09.481318Z"
    }
   },
   "outputs": [
    {
     "data": {
      "text/plain": [
       "[10, 9, 8, 7, 6, 5, 4, 3, 2, 1]"
      ]
     },
     "execution_count": 28,
     "metadata": {},
     "output_type": "execute_result"
    }
   ],
   "source": [
    "going_down = sorted(going_up, reverse=True)\n",
    "going_down"
   ]
  },
  {
   "cell_type": "markdown",
   "metadata": {},
   "source": [
    "# Finish from here down"
   ]
  },
  {
   "cell_type": "markdown",
   "metadata": {},
   "source": [
    "### Methods\n",
    "\n",
    ".index() - gives index of the input\n",
    ".capitalize() - returns string with the first letter capitalized\n",
    ".upper() - capitalizes all letters in a string\n",
    ".count()\n",
    "counts how many of the input are in a string\n",
    "counts the number of times an element appears in a list\n",
    ".append() - adds an element to the list it is called on\n",
    ".remove() - removes the first element of a list that matches the input\n",
    ".reverse() - reverses the order of the elements in the list its called on\n",
    "\n",
    "### Packages\n",
    "Import _ as _ - import a package\n",
    "From _ import _ - use if you only need a specific function from a package\n",
    "\n",
    "## Chapter 4\n",
    "This chapter introduces the numpy package, focussing on the numpy array\n",
    "### Numpy arrays\n",
    "np.array() - create numpy array from a list\n",
    "Contain values of only 1 type (for booleans, True=1, False=0)\n",
    "Does operations element wise\n",
    "Can subset numpy arrays using [] or boolean arrays\n",
    "#### 2D arrays\n",
    "Can create from a regular python list of lists\n",
    "Subset using [rows, columns]\n",
    ".shape - gives shape (rows, cols) of 2D numpy array\n",
    "### Functions (statistics)\n",
    "np.mean()\n",
    "np.median()\n",
    "np.corrcoef() - correlation coefficient\n",
    "np.std() - standard deviation\n",
    "\n"
   ]
  },
  {
   "cell_type": "code",
   "execution_count": null,
   "metadata": {},
   "outputs": [],
   "source": []
  }
 ],
 "metadata": {
  "kernelspec": {
   "display_name": "Python 3",
   "language": "python",
   "name": "python3"
  },
  "language_info": {
   "codemirror_mode": {
    "name": "ipython",
    "version": 3
   },
   "file_extension": ".py",
   "mimetype": "text/x-python",
   "name": "python",
   "nbconvert_exporter": "python",
   "pygments_lexer": "ipython3",
   "version": "3.7.4"
  }
 },
 "nbformat": 4,
 "nbformat_minor": 4
}