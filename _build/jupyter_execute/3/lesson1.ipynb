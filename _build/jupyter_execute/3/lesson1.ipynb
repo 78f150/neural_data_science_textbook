{
 "cells": [
  {
   "cell_type": "markdown",
   "metadata": {},
   "source": [
    "# Lesson 1: Introduction to Python\n",
    "\n",
    "These notes are based on the sequence that concepts are introduced in the DataCamp lesson of the same name. They are most useful as a reference, after you've completed the DataCamp lesson. They are not intended to replace that lesson.\n",
    "\n",
    "[View this lesson on DataCamp](https://learn.datacamp.com/courses/intro-to-python-for-data-science )"
   ]
  },
  {
   "cell_type": "markdown",
   "metadata": {},
   "source": [
    "## Chapter 1\n",
    "This chapter introduces the basics of Python - simple math and variable types"
   ]
  },
  {
   "cell_type": "markdown",
   "metadata": {},
   "source": [
    "### Basic Operations\n",
    "\n",
    "| Operator |  Operation                                                   |\n",
    "|----------|--------------------------------------------------------------|\n",
    "| `#`      |  add comment                                                 |\n",
    "| `+`      |  addition                                                    |\n",
    "| `-`      |  subtraction                                                 |\n",
    "| `*`      |  multiplication                                              |\n",
    "| `/`      |  division                                                    |\n",
    "| `**`       |  exponentiation                                              |\n",
    "| `%`        |  modulo; returns remainder of division (e.g., `18 % 7` equals `4`) |\n",
    "| `=`        |  variable assignment                                         |\n",
    "| `==`       |  equal to                                                    |\n",
    "| `!=`       |  not equal to                                                |\n",
    "\n"
   ]
  },
  {
   "cell_type": "markdown",
   "metadata": {},
   "source": [
    "### Variable Types\n",
    "\n",
    "|                                          |                                                                      |\n",
    "|------------------------------------------|----------------------------------------------------------------------|\n",
    "| integer                                  |  number without fractional component (no decimal point)                                      |\n",
    "| float                                    |  number with both integer and fractional part separated by a decimal |\n",
    "| string  | text; enclose in `' '` or `\" \"`    |\n",
    "| boolean                                  |  logical values; can only be `True` or `False`                       |\n",
    "|list | Can contain many different types. Create with `[]`. Separate items with commas. |\n",
    "\n"
   ]
  },
  {
   "cell_type": "markdown",
   "metadata": {},
   "source": [
    "### Functions\n",
    "|           |                                       |\n",
    "|-----------|---------------------------------------|\n",
    "| `print()` |   outputs what's enclosed in `()`     |\n",
    "| `type()`  |  gives the type of a defined variable |\n",
    "| `int()`   |  converts a value into an integer     |\n",
    "| `float()` |  converts a value into a float        |\n",
    "| `str()`   |  converts a value into a string       |\n",
    "| `bool()`  |  converts a value into a boolean      |\n",
    "| `list()`  |  converts a value or values into a list |"
   ]
  },
  {
   "cell_type": "markdown",
   "metadata": {},
   "source": [
    "## Chapter 2\n",
    "This chapter covers everything to do with lists - creating lists, subsetting, and manipulation.\n",
    "\n",
    "Lists are ordered sets of items. \n",
    "\n",
    "### Working with Lists\n",
    "Create a list:"
   ]
  },
  {
   "cell_type": "code",
   "execution_count": 1,
   "metadata": {
    "execution": {
     "iopub.execute_input": "2020-06-25T01:34:41.341554Z",
     "iopub.status.busy": "2020-06-25T01:34:41.340723Z",
     "iopub.status.idle": "2020-06-25T01:34:41.342473Z",
     "shell.execute_reply": "2020-06-25T01:34:41.343106Z"
    }
   },
   "outputs": [],
   "source": [
    "odd = [1, 3, 5, 7, 9]"
   ]
  },
  {
   "cell_type": "markdown",
   "metadata": {},
   "source": [
    "First index (position) in list is 0, not 1:"
   ]
  },
  {
   "cell_type": "code",
   "execution_count": 2,
   "metadata": {
    "execution": {
     "iopub.execute_input": "2020-06-25T01:34:41.350956Z",
     "iopub.status.busy": "2020-06-25T01:34:41.350310Z",
     "iopub.status.idle": "2020-06-25T01:34:41.352637Z",
     "shell.execute_reply": "2020-06-25T01:34:41.353032Z"
    }
   },
   "outputs": [
    {
     "data": {
      "text/plain": [
       "3"
      ]
     },
     "execution_count": 2,
     "metadata": {},
     "output_type": "execute_result"
    }
   ],
   "source": [
    "odd[1]"
   ]
  },
  {
   "cell_type": "code",
   "execution_count": 3,
   "metadata": {
    "execution": {
     "iopub.execute_input": "2020-06-25T01:34:41.356158Z",
     "iopub.status.busy": "2020-06-25T01:34:41.355558Z",
     "iopub.status.idle": "2020-06-25T01:34:41.357679Z",
     "shell.execute_reply": "2020-06-25T01:34:41.358067Z"
    }
   },
   "outputs": [
    {
     "data": {
      "text/plain": [
       "1"
      ]
     },
     "execution_count": 3,
     "metadata": {},
     "output_type": "execute_result"
    }
   ],
   "source": [
    "odd[0]"
   ]
  },
  {
   "cell_type": "markdown",
   "metadata": {},
   "source": [
    "Negative indexing works from the end of the list. "
   ]
  },
  {
   "cell_type": "code",
   "execution_count": 4,
   "metadata": {
    "execution": {
     "iopub.execute_input": "2020-06-25T01:34:41.361138Z",
     "iopub.status.busy": "2020-06-25T01:34:41.360582Z",
     "iopub.status.idle": "2020-06-25T01:34:41.362916Z",
     "shell.execute_reply": "2020-06-25T01:34:41.363336Z"
    }
   },
   "outputs": [
    {
     "data": {
      "text/plain": [
       "9"
      ]
     },
     "execution_count": 4,
     "metadata": {},
     "output_type": "execute_result"
    }
   ],
   "source": [
    "odd[-1]"
   ]
  },
  {
   "cell_type": "markdown",
   "metadata": {},
   "source": [
    "#### Slicing\n",
    "Specify a range of indices inside square brackets: [inclusive:exclusive]"
   ]
  },
  {
   "cell_type": "code",
   "execution_count": 5,
   "metadata": {
    "execution": {
     "iopub.execute_input": "2020-06-25T01:34:41.366824Z",
     "iopub.status.busy": "2020-06-25T01:34:41.366182Z",
     "iopub.status.idle": "2020-06-25T01:34:41.368595Z",
     "shell.execute_reply": "2020-06-25T01:34:41.369028Z"
    }
   },
   "outputs": [
    {
     "data": {
      "text/plain": [
       "[1, 3, 5, 7, 9]"
      ]
     },
     "execution_count": 5,
     "metadata": {},
     "output_type": "execute_result"
    }
   ],
   "source": [
    "odd[0:5]"
   ]
  },
  {
   "cell_type": "code",
   "execution_count": 6,
   "metadata": {
    "execution": {
     "iopub.execute_input": "2020-06-25T01:34:41.372710Z",
     "iopub.status.busy": "2020-06-25T01:34:41.371925Z",
     "iopub.status.idle": "2020-06-25T01:34:41.374399Z",
     "shell.execute_reply": "2020-06-25T01:34:41.374803Z"
    }
   },
   "outputs": [
    {
     "data": {
      "text/plain": [
       "[3, 5]"
      ]
     },
     "execution_count": 6,
     "metadata": {},
     "output_type": "execute_result"
    }
   ],
   "source": [
    "odd[1:3]"
   ]
  },
  {
   "cell_type": "code",
   "execution_count": 7,
   "metadata": {
    "execution": {
     "iopub.execute_input": "2020-06-25T01:34:41.378108Z",
     "iopub.status.busy": "2020-06-25T01:34:41.377556Z",
     "iopub.status.idle": "2020-06-25T01:34:41.379617Z",
     "shell.execute_reply": "2020-06-25T01:34:41.380108Z"
    }
   },
   "outputs": [
    {
     "data": {
      "text/plain": [
       "[1, 3, 5, 7, 9]"
      ]
     },
     "execution_count": 7,
     "metadata": {},
     "output_type": "execute_result"
    }
   ],
   "source": [
    "odd[:]"
   ]
  },
  {
   "cell_type": "code",
   "execution_count": 8,
   "metadata": {
    "execution": {
     "iopub.execute_input": "2020-06-25T01:34:41.383407Z",
     "iopub.status.busy": "2020-06-25T01:34:41.382817Z",
     "iopub.status.idle": "2020-06-25T01:34:41.384952Z",
     "shell.execute_reply": "2020-06-25T01:34:41.385330Z"
    }
   },
   "outputs": [
    {
     "data": {
      "text/plain": [
       "[1, 3, 5]"
      ]
     },
     "execution_count": 8,
     "metadata": {},
     "output_type": "execute_result"
    }
   ],
   "source": [
    "odd[:3]"
   ]
  },
  {
   "cell_type": "code",
   "execution_count": 9,
   "metadata": {
    "execution": {
     "iopub.execute_input": "2020-06-25T01:34:41.388609Z",
     "iopub.status.busy": "2020-06-25T01:34:41.388000Z",
     "iopub.status.idle": "2020-06-25T01:34:41.390554Z",
     "shell.execute_reply": "2020-06-25T01:34:41.390134Z"
    }
   },
   "outputs": [
    {
     "data": {
      "text/plain": [
       "[7, 9]"
      ]
     },
     "execution_count": 9,
     "metadata": {},
     "output_type": "execute_result"
    }
   ],
   "source": [
    "odd[3:]"
   ]
  },
  {
   "cell_type": "markdown",
   "metadata": {},
   "source": [
    "#### List Manipulation\n",
    "Replacing list elements: subset list and assign a new value using =\n"
   ]
  },
  {
   "cell_type": "code",
   "execution_count": 10,
   "metadata": {
    "execution": {
     "iopub.execute_input": "2020-06-25T01:34:41.394001Z",
     "iopub.status.busy": "2020-06-25T01:34:41.393433Z",
     "iopub.status.idle": "2020-06-25T01:34:41.395372Z",
     "shell.execute_reply": "2020-06-25T01:34:41.395795Z"
    }
   },
   "outputs": [
    {
     "data": {
      "text/plain": [
       "[2, 3, 5, 7, 9]"
      ]
     },
     "execution_count": 10,
     "metadata": {},
     "output_type": "execute_result"
    }
   ],
   "source": [
    "odd[0] = 2\n",
    "odd[0:5]"
   ]
  },
  {
   "cell_type": "markdown",
   "metadata": {},
   "source": [
    "Extend a list, use + operator to add elements\n"
   ]
  },
  {
   "cell_type": "code",
   "execution_count": 11,
   "metadata": {
    "execution": {
     "iopub.execute_input": "2020-06-25T01:34:41.398702Z",
     "iopub.status.busy": "2020-06-25T01:34:41.398158Z",
     "iopub.status.idle": "2020-06-25T01:34:41.400594Z",
     "shell.execute_reply": "2020-06-25T01:34:41.400945Z"
    }
   },
   "outputs": [
    {
     "data": {
      "text/plain": [
       "[2, 3, 5, 7, 9, 11]"
      ]
     },
     "execution_count": 11,
     "metadata": {},
     "output_type": "execute_result"
    }
   ],
   "source": [
    "odd + [11]"
   ]
  },
  {
   "cell_type": "code",
   "execution_count": 12,
   "metadata": {
    "execution": {
     "iopub.execute_input": "2020-06-25T01:34:41.404821Z",
     "iopub.status.busy": "2020-06-25T01:34:41.404252Z",
     "iopub.status.idle": "2020-06-25T01:34:41.406693Z",
     "shell.execute_reply": "2020-06-25T01:34:41.406321Z"
    }
   },
   "outputs": [
    {
     "data": {
      "text/plain": [
       "[1, 3, 5, 7, 9, 2, 4, 6, 8, 10]"
      ]
     },
     "execution_count": 12,
     "metadata": {},
     "output_type": "execute_result"
    }
   ],
   "source": [
    "odd  = [1, 3, 5, 7, 9]\n",
    "even = [2, 4, 6, 8, 10]\n",
    "\n",
    "all_numbers = odd + even\n",
    "all_numbers"
   ]
  },
  {
   "cell_type": "markdown",
   "metadata": {},
   "source": [
    "Sort a list:"
   ]
  },
  {
   "cell_type": "code",
   "execution_count": 13,
   "metadata": {
    "execution": {
     "iopub.execute_input": "2020-06-25T01:34:41.409768Z",
     "iopub.status.busy": "2020-06-25T01:34:41.409196Z",
     "iopub.status.idle": "2020-06-25T01:34:41.411345Z",
     "shell.execute_reply": "2020-06-25T01:34:41.411728Z"
    }
   },
   "outputs": [
    {
     "data": {
      "text/plain": [
       "[1, 2, 3, 4, 5, 6, 7, 8, 9, 10]"
      ]
     },
     "execution_count": 13,
     "metadata": {},
     "output_type": "execute_result"
    }
   ],
   "source": [
    "all_numbers.sort()\n",
    "all_numbers"
   ]
  },
  {
   "cell_type": "markdown",
   "metadata": {},
   "source": [
    "Delete list items:"
   ]
  },
  {
   "cell_type": "code",
   "execution_count": 14,
   "metadata": {
    "execution": {
     "iopub.execute_input": "2020-06-25T01:34:41.415191Z",
     "iopub.status.busy": "2020-06-25T01:34:41.414588Z",
     "iopub.status.idle": "2020-06-25T01:34:41.416999Z",
     "shell.execute_reply": "2020-06-25T01:34:41.417414Z"
    }
   },
   "outputs": [
    {
     "data": {
      "text/plain": [
       "[1, 2, 3, 4, 5, 6, 7, 8, 9]"
      ]
     },
     "execution_count": 14,
     "metadata": {},
     "output_type": "execute_result"
    }
   ],
   "source": [
    "del(all_numbers[9])  # remember 0-indexing!\n",
    "all_numbers"
   ]
  },
  {
   "cell_type": "markdown",
   "metadata": {},
   "source": [
    "Copying a list"
   ]
  },
  {
   "cell_type": "code",
   "execution_count": 15,
   "metadata": {
    "execution": {
     "iopub.execute_input": "2020-06-25T01:34:41.420565Z",
     "iopub.status.busy": "2020-06-25T01:34:41.419983Z",
     "iopub.status.idle": "2020-06-25T01:34:41.421649Z",
     "shell.execute_reply": "2020-06-25T01:34:41.422042Z"
    }
   },
   "outputs": [],
   "source": [
    "my_numbers = all_numbers.copy()"
   ]
  },
  {
   "cell_type": "code",
   "execution_count": 16,
   "metadata": {
    "execution": {
     "iopub.execute_input": "2020-06-25T01:34:41.425407Z",
     "iopub.status.busy": "2020-06-25T01:34:41.424803Z",
     "iopub.status.idle": "2020-06-25T01:34:41.427136Z",
     "shell.execute_reply": "2020-06-25T01:34:41.427526Z"
    }
   },
   "outputs": [
    {
     "data": {
      "text/plain": [
       "[1, 2, 3, 4, 5, 6, 7, 8, 9]"
      ]
     },
     "execution_count": 16,
     "metadata": {},
     "output_type": "execute_result"
    }
   ],
   "source": [
    "my_numbers"
   ]
  },
  {
   "cell_type": "markdown",
   "metadata": {},
   "source": [
    "You can also use the `list` function to make a list from another list:"
   ]
  },
  {
   "cell_type": "code",
   "execution_count": 17,
   "metadata": {
    "execution": {
     "iopub.execute_input": "2020-06-25T01:34:41.430376Z",
     "iopub.status.busy": "2020-06-25T01:34:41.429875Z",
     "iopub.status.idle": "2020-06-25T01:34:41.431406Z",
     "shell.execute_reply": "2020-06-25T01:34:41.431853Z"
    }
   },
   "outputs": [],
   "source": [
    "some_numbers = list(all_numbers)"
   ]
  },
  {
   "cell_type": "code",
   "execution_count": 18,
   "metadata": {
    "execution": {
     "iopub.execute_input": "2020-06-25T01:34:41.434712Z",
     "iopub.status.busy": "2020-06-25T01:34:41.434165Z",
     "iopub.status.idle": "2020-06-25T01:34:41.436312Z",
     "shell.execute_reply": "2020-06-25T01:34:41.436669Z"
    }
   },
   "outputs": [
    {
     "data": {
      "text/plain": [
       "[1, 2, 3, 4, 5, 6, 7, 8, 9]"
      ]
     },
     "execution_count": 18,
     "metadata": {},
     "output_type": "execute_result"
    }
   ],
   "source": [
    "some_numbers"
   ]
  },
  {
   "cell_type": "markdown",
   "metadata": {},
   "source": [
    "Be careful not to do this. This \"points\" the new list, `my_numbers_nono`, at the original list, `all_numbers`"
   ]
  },
  {
   "cell_type": "code",
   "execution_count": 19,
   "metadata": {
    "execution": {
     "iopub.execute_input": "2020-06-25T01:34:41.439681Z",
     "iopub.status.busy": "2020-06-25T01:34:41.439161Z",
     "iopub.status.idle": "2020-06-25T01:34:41.441201Z",
     "shell.execute_reply": "2020-06-25T01:34:41.441552Z"
    }
   },
   "outputs": [
    {
     "data": {
      "text/plain": [
       "[1, 2, 3, 4, 5, 6, 7, 8, 9]"
      ]
     },
     "execution_count": 19,
     "metadata": {},
     "output_type": "execute_result"
    }
   ],
   "source": [
    "my_numbers_nono = all_numbers\n",
    "my_numbers_nono"
   ]
  },
  {
   "cell_type": "markdown",
   "metadata": {},
   "source": [
    "So when you nodify `all_numbers`, you also change `my_numbers_nono`"
   ]
  },
  {
   "cell_type": "code",
   "execution_count": 20,
   "metadata": {
    "execution": {
     "iopub.execute_input": "2020-06-25T01:34:41.444545Z",
     "iopub.status.busy": "2020-06-25T01:34:41.444017Z",
     "iopub.status.idle": "2020-06-25T01:34:41.446046Z",
     "shell.execute_reply": "2020-06-25T01:34:41.446400Z"
    }
   },
   "outputs": [
    {
     "data": {
      "text/plain": [
       "[1, 2, 3, 4, 5, 6, 7, 8]"
      ]
     },
     "execution_count": 20,
     "metadata": {},
     "output_type": "execute_result"
    }
   ],
   "source": [
    "del(all_numbers[8])\n",
    "my_numbers_nono"
   ]
  },
  {
   "cell_type": "markdown",
   "metadata": {},
   "source": [
    "## Chpater 3\n",
    "\n",
    " This chapter introduces a variety of functions and methods, as well as Python packages"
   ]
  },
  {
   "cell_type": "code",
   "execution_count": 21,
   "metadata": {
    "execution": {
     "iopub.execute_input": "2020-06-25T01:34:41.449170Z",
     "iopub.status.busy": "2020-06-25T01:34:41.448686Z",
     "iopub.status.idle": "2020-06-25T01:34:41.450221Z",
     "shell.execute_reply": "2020-06-25T01:34:41.450571Z"
    }
   },
   "outputs": [],
   "source": [
    "my_list = [10, 9, 8, 7, 6, 5, 4, 3, 2, 1]"
   ]
  },
  {
   "cell_type": "markdown",
   "metadata": {},
   "source": [
    "### Functions"
   ]
  },
  {
   "cell_type": "markdown",
   "metadata": {},
   "source": [
    "Maximum-valued element in list"
   ]
  },
  {
   "cell_type": "code",
   "execution_count": 22,
   "metadata": {
    "execution": {
     "iopub.execute_input": "2020-06-25T01:34:41.453272Z",
     "iopub.status.busy": "2020-06-25T01:34:41.452771Z",
     "iopub.status.idle": "2020-06-25T01:34:41.454751Z",
     "shell.execute_reply": "2020-06-25T01:34:41.455202Z"
    }
   },
   "outputs": [
    {
     "data": {
      "text/plain": [
       "10"
      ]
     },
     "execution_count": 22,
     "metadata": {},
     "output_type": "execute_result"
    }
   ],
   "source": [
    "max(my_list)"
   ]
  },
  {
   "cell_type": "code",
   "execution_count": 23,
   "metadata": {
    "execution": {
     "iopub.execute_input": "2020-06-25T01:34:41.458058Z",
     "iopub.status.busy": "2020-06-25T01:34:41.457520Z",
     "iopub.status.idle": "2020-06-25T01:34:41.459561Z",
     "shell.execute_reply": "2020-06-25T01:34:41.459916Z"
    }
   },
   "outputs": [
    {
     "data": {
      "text/plain": [
       "1"
      ]
     },
     "execution_count": 23,
     "metadata": {},
     "output_type": "execute_result"
    }
   ],
   "source": [
    "min(my_list)"
   ]
  },
  {
   "cell_type": "markdown",
   "metadata": {},
   "source": [
    "Rounding"
   ]
  },
  {
   "cell_type": "code",
   "execution_count": 24,
   "metadata": {
    "execution": {
     "iopub.execute_input": "2020-06-25T01:34:41.462956Z",
     "iopub.status.busy": "2020-06-25T01:34:41.462416Z",
     "iopub.status.idle": "2020-06-25T01:34:41.464386Z",
     "shell.execute_reply": "2020-06-25T01:34:41.464734Z"
    }
   },
   "outputs": [
    {
     "data": {
      "text/plain": [
       "3.14"
      ]
     },
     "execution_count": 24,
     "metadata": {},
     "output_type": "execute_result"
    }
   ],
   "source": [
    "pi = 3.14159265359\n",
    "round(pi, 2)"
   ]
  },
  {
   "cell_type": "markdown",
   "metadata": {},
   "source": [
    "Length of list"
   ]
  },
  {
   "cell_type": "code",
   "execution_count": 25,
   "metadata": {
    "execution": {
     "iopub.execute_input": "2020-06-25T01:34:41.467517Z",
     "iopub.status.busy": "2020-06-25T01:34:41.466923Z",
     "iopub.status.idle": "2020-06-25T01:34:41.468839Z",
     "shell.execute_reply": "2020-06-25T01:34:41.469331Z"
    }
   },
   "outputs": [
    {
     "data": {
      "text/plain": [
       "10"
      ]
     },
     "execution_count": 25,
     "metadata": {},
     "output_type": "execute_result"
    }
   ],
   "source": [
    "len(my_list)"
   ]
  },
  {
   "cell_type": "markdown",
   "metadata": {},
   "source": [
    "Get help using a function:"
   ]
  },
  {
   "cell_type": "code",
   "execution_count": 26,
   "metadata": {
    "execution": {
     "iopub.execute_input": "2020-06-25T01:34:41.509612Z",
     "iopub.status.busy": "2020-06-25T01:34:41.509094Z",
     "iopub.status.idle": "2020-06-25T01:34:41.512462Z",
     "shell.execute_reply": "2020-06-25T01:34:41.512833Z"
    }
   },
   "outputs": [],
   "source": [
    "?len"
   ]
  },
  {
   "cell_type": "code",
   "execution_count": 27,
   "metadata": {
    "execution": {
     "iopub.execute_input": "2020-06-25T01:34:41.516064Z",
     "iopub.status.busy": "2020-06-25T01:34:41.515442Z",
     "iopub.status.idle": "2020-06-25T01:34:41.517663Z",
     "shell.execute_reply": "2020-06-25T01:34:41.518012Z"
    }
   },
   "outputs": [
    {
     "data": {
      "text/plain": [
       "[1, 2, 3, 4, 5, 6, 7, 8, 9, 10]"
      ]
     },
     "execution_count": 27,
     "metadata": {},
     "output_type": "execute_result"
    }
   ],
   "source": [
    "going_up = sorted(my_list)\n",
    "going_up"
   ]
  },
  {
   "cell_type": "code",
   "execution_count": 28,
   "metadata": {
    "execution": {
     "iopub.execute_input": "2020-06-25T01:34:41.520992Z",
     "iopub.status.busy": "2020-06-25T01:34:41.520441Z",
     "iopub.status.idle": "2020-06-25T01:34:41.522717Z",
     "shell.execute_reply": "2020-06-25T01:34:41.523065Z"
    }
   },
   "outputs": [
    {
     "data": {
      "text/plain": [
       "[10, 9, 8, 7, 6, 5, 4, 3, 2, 1]"
      ]
     },
     "execution_count": 28,
     "metadata": {},
     "output_type": "execute_result"
    }
   ],
   "source": [
    "going_down = sorted(going_up, reverse=True)\n",
    "going_down"
   ]
  },
  {
   "cell_type": "markdown",
   "metadata": {},
   "source": [
    "# Finish from here down"
   ]
  },
  {
   "cell_type": "markdown",
   "metadata": {},
   "source": [
    "### Methods\n",
    "\n",
    ".index() - gives index of the input\n",
    ".capitalize() - returns string with the first letter capitalized\n",
    ".upper() - capitalizes all letters in a string\n",
    ".count()\n",
    "counts how many of the input are in a string\n",
    "counts the number of times an element appears in a list\n",
    ".append() - adds an element to the list it is called on\n",
    ".remove() - removes the first element of a list that matches the input\n",
    ".reverse() - reverses the order of the elements in the list its called on\n",
    "\n",
    "### Packages\n",
    "Import _ as _ - import a package\n",
    "From _ import _ - use if you only need a specific function from a package\n",
    "\n",
    "## Chapter 4\n",
    "This chapter introduces the numpy package, focussing on the numpy array\n",
    "### Numpy arrays\n",
    "np.array() - create numpy array from a list\n",
    "Contain values of only 1 type (for booleans, True=1, False=0)\n",
    "Does operations element wise\n",
    "Can subset numpy arrays using [] or boolean arrays\n",
    "#### 2D arrays\n",
    "Can create from a regular python list of lists\n",
    "Subset using [rows, columns]\n",
    ".shape - gives shape (rows, cols) of 2D numpy array\n",
    "### Functions (statistics)\n",
    "np.mean()\n",
    "np.median()\n",
    "np.corrcoef() - correlation coefficient\n",
    "np.std() - standard deviation\n",
    "\n"
   ]
  },
  {
   "cell_type": "code",
   "execution_count": null,
   "metadata": {},
   "outputs": [],
   "source": []
  }
 ],
 "metadata": {
  "kernelspec": {
   "display_name": "Python 3",
   "language": "python",
   "name": "python3"
  },
  "language_info": {
   "codemirror_mode": {
    "name": "ipython",
    "version": 3
   },
   "file_extension": ".py",
   "mimetype": "text/x-python",
   "name": "python",
   "nbconvert_exporter": "python",
   "pygments_lexer": "ipython3",
   "version": "3.7.4"
  }
 },
 "nbformat": 4,
 "nbformat_minor": 4
}