{
 "cells": [
  {
   "cell_type": "markdown",
   "metadata": {},
   "source": [
    "# Lesson 1: Introduction to Python\n",
    "\n",
    "\n",
    "[View this lesson on DataCamp](https://learn.datacamp.com/courses/intro-to-python-for-data-science )"
   ]
  },
  {
   "cell_type": "markdown",
   "metadata": {},
   "source": [
    "## Chapter 1\n",
    "This chapter introduces the basics of Python - simple math and variable types"
   ]
  },
  {
   "cell_type": "markdown",
   "metadata": {},
   "source": [
    "### Basic Operations\n",
    "\n",
    "| Operator |  Operation                                                   |\n",
    "|----------|--------------------------------------------------------------|\n",
    "| `#`      |  add comment                                                 |\n",
    "| `+`      |  addition                                                    |\n",
    "| `-`      |  subtraction                                                 |\n",
    "| `*`      |  multiplication                                              |\n",
    "| `/`      |  division                                                    |\n",
    "| `**`       |  exponentiation                                              |\n",
    "| `%`        |  modulo; returns remainder of division (e.g., `18 % 7` equals `4`) |\n",
    "| `=`        |  variable assignment                                         |\n",
    "| `==`       |  equal to                                                    |\n",
    "| `!=`       |  not equal to                                                |\n",
    "\n"
   ]
  },
  {
   "cell_type": "markdown",
   "metadata": {},
   "source": [
    "### Variable Types\n",
    "\n",
    "|                                          |                                                                      |\n",
    "|------------------------------------------|----------------------------------------------------------------------|\n",
    "| integer                                  |  number without fractional component (no decimal point)                                      |\n",
    "| float                                    |  number with both integer and fractional part separated by a decimal |\n",
    "| string  | text; enclose in `' '` or `\" \"`    |\n",
    "| boolean                                  |  logical values; can only be `True` or `False`                       |\n",
    "|list | Can contain many different types. Create with `[]`. Separate items with commas. |\n",
    "\n"
   ]
  },
  {
   "cell_type": "markdown",
   "metadata": {},
   "source": [
    "### Functions\n",
    "|           |                                       |\n",
    "|-----------|---------------------------------------|\n",
    "| `print()` |   outputs what's enclosed in `()`     |\n",
    "| `type()`  |  gives the type of a defined variable |\n",
    "| `int()`   |  converts a value into an integer     |\n",
    "| `float()` |  converts a value into a float        |\n",
    "| `str()`   |  converts a value into a string       |\n",
    "| `bool()`  |  converts a value into a boolean      |\n",
    "| `list()`  |  converts a value or values into a list |"
   ]
  },
  {
   "cell_type": "markdown",
   "metadata": {},
   "source": [
    "## Chapter 2\n",
    "This chapter covers everything to do with lists - creating lists, subsetting, and manipulation.\n",
    "\n",
    "Lists are ordered sets of items. \n",
    "\n",
    "### Working with Lists\n",
    "Create a list:"
   ]
  },
  {
   "cell_type": "code",
   "execution_count": 1,
   "metadata": {
    "execution": {
     "iopub.execute_input": "2020-06-25T01:17:40.565800Z",
     "iopub.status.busy": "2020-06-25T01:17:40.564755Z",
     "iopub.status.idle": "2020-06-25T01:17:40.567001Z",
     "shell.execute_reply": "2020-06-25T01:17:40.567553Z"
    }
   },
   "outputs": [],
   "source": [
    "odd = [1, 3, 5, 7, 9]"
   ]
  },
  {
   "cell_type": "markdown",
   "metadata": {},
   "source": [
    "First index (position) in list is 0, not 1:"
   ]
  },
  {
   "cell_type": "code",
   "execution_count": 2,
   "metadata": {
    "execution": {
     "iopub.execute_input": "2020-06-25T01:17:40.576556Z",
     "iopub.status.busy": "2020-06-25T01:17:40.575806Z",
     "iopub.status.idle": "2020-06-25T01:17:40.578315Z",
     "shell.execute_reply": "2020-06-25T01:17:40.578709Z"
    }
   },
   "outputs": [
    {
     "data": {
      "text/plain": [
       "3"
      ]
     },
     "execution_count": 2,
     "metadata": {},
     "output_type": "execute_result"
    }
   ],
   "source": [
    "odd[1]"
   ]
  },
  {
   "cell_type": "code",
   "execution_count": 3,
   "metadata": {
    "execution": {
     "iopub.execute_input": "2020-06-25T01:17:40.581835Z",
     "iopub.status.busy": "2020-06-25T01:17:40.581256Z",
     "iopub.status.idle": "2020-06-25T01:17:40.583441Z",
     "shell.execute_reply": "2020-06-25T01:17:40.583837Z"
    }
   },
   "outputs": [
    {
     "data": {
      "text/plain": [
       "1"
      ]
     },
     "execution_count": 3,
     "metadata": {},
     "output_type": "execute_result"
    }
   ],
   "source": [
    "odd[0]"
   ]
  },
  {
   "cell_type": "markdown",
   "metadata": {},
   "source": [
    "Negative indexing works from the end of the list. "
   ]
  },
  {
   "cell_type": "code",
   "execution_count": 4,
   "metadata": {
    "execution": {
     "iopub.execute_input": "2020-06-25T01:17:40.587010Z",
     "iopub.status.busy": "2020-06-25T01:17:40.586439Z",
     "iopub.status.idle": "2020-06-25T01:17:40.588786Z",
     "shell.execute_reply": "2020-06-25T01:17:40.589173Z"
    }
   },
   "outputs": [
    {
     "data": {
      "text/plain": [
       "9"
      ]
     },
     "execution_count": 4,
     "metadata": {},
     "output_type": "execute_result"
    }
   ],
   "source": [
    "odd[-1]"
   ]
  },
  {
   "cell_type": "markdown",
   "metadata": {},
   "source": [
    "#### Slicing\n",
    "Specify a range of indices inside square brackets: [inclusive:exclusive]"
   ]
  },
  {
   "cell_type": "code",
   "execution_count": 5,
   "metadata": {
    "execution": {
     "iopub.execute_input": "2020-06-25T01:17:40.592613Z",
     "iopub.status.busy": "2020-06-25T01:17:40.591984Z",
     "iopub.status.idle": "2020-06-25T01:17:40.594075Z",
     "shell.execute_reply": "2020-06-25T01:17:40.594517Z"
    }
   },
   "outputs": [
    {
     "data": {
      "text/plain": [
       "[1, 3, 5, 7, 9]"
      ]
     },
     "execution_count": 5,
     "metadata": {},
     "output_type": "execute_result"
    }
   ],
   "source": [
    "odd[0:5]"
   ]
  },
  {
   "cell_type": "code",
   "execution_count": 6,
   "metadata": {
    "execution": {
     "iopub.execute_input": "2020-06-25T01:17:40.597606Z",
     "iopub.status.busy": "2020-06-25T01:17:40.597030Z",
     "iopub.status.idle": "2020-06-25T01:17:40.599161Z",
     "shell.execute_reply": "2020-06-25T01:17:40.599545Z"
    }
   },
   "outputs": [
    {
     "data": {
      "text/plain": [
       "[3, 5]"
      ]
     },
     "execution_count": 6,
     "metadata": {},
     "output_type": "execute_result"
    }
   ],
   "source": [
    "odd[1:3]"
   ]
  },
  {
   "cell_type": "code",
   "execution_count": 7,
   "metadata": {
    "execution": {
     "iopub.execute_input": "2020-06-25T01:17:40.602579Z",
     "iopub.status.busy": "2020-06-25T01:17:40.602043Z",
     "iopub.status.idle": "2020-06-25T01:17:40.604249Z",
     "shell.execute_reply": "2020-06-25T01:17:40.604632Z"
    }
   },
   "outputs": [
    {
     "data": {
      "text/plain": [
       "[1, 3, 5, 7, 9]"
      ]
     },
     "execution_count": 7,
     "metadata": {},
     "output_type": "execute_result"
    }
   ],
   "source": [
    "odd[:]"
   ]
  },
  {
   "cell_type": "code",
   "execution_count": 8,
   "metadata": {
    "execution": {
     "iopub.execute_input": "2020-06-25T01:17:40.607729Z",
     "iopub.status.busy": "2020-06-25T01:17:40.607148Z",
     "iopub.status.idle": "2020-06-25T01:17:40.609286Z",
     "shell.execute_reply": "2020-06-25T01:17:40.609667Z"
    }
   },
   "outputs": [
    {
     "data": {
      "text/plain": [
       "[1, 3, 5]"
      ]
     },
     "execution_count": 8,
     "metadata": {},
     "output_type": "execute_result"
    }
   ],
   "source": [
    "odd[:3]"
   ]
  },
  {
   "cell_type": "code",
   "execution_count": 9,
   "metadata": {
    "execution": {
     "iopub.execute_input": "2020-06-25T01:17:40.612767Z",
     "iopub.status.busy": "2020-06-25T01:17:40.612201Z",
     "iopub.status.idle": "2020-06-25T01:17:40.614328Z",
     "shell.execute_reply": "2020-06-25T01:17:40.614714Z"
    }
   },
   "outputs": [
    {
     "data": {
      "text/plain": [
       "[7, 9]"
      ]
     },
     "execution_count": 9,
     "metadata": {},
     "output_type": "execute_result"
    }
   ],
   "source": [
    "odd[3:]"
   ]
  },
  {
   "cell_type": "markdown",
   "metadata": {},
   "source": [
    "#### List Manipulation\n",
    "Replacing list elements: subset list and assign a new value using =\n"
   ]
  },
  {
   "cell_type": "code",
   "execution_count": 10,
   "metadata": {
    "execution": {
     "iopub.execute_input": "2020-06-25T01:17:40.617969Z",
     "iopub.status.busy": "2020-06-25T01:17:40.617439Z",
     "iopub.status.idle": "2020-06-25T01:17:40.619452Z",
     "shell.execute_reply": "2020-06-25T01:17:40.619827Z"
    }
   },
   "outputs": [
    {
     "data": {
      "text/plain": [
       "[2, 3, 5, 7, 9]"
      ]
     },
     "execution_count": 10,
     "metadata": {},
     "output_type": "execute_result"
    }
   ],
   "source": [
    "odd[0] = 2\n",
    "odd[0:5]"
   ]
  },
  {
   "cell_type": "markdown",
   "metadata": {},
   "source": [
    "Extend a list, use + operator to add elements\n"
   ]
  },
  {
   "cell_type": "code",
   "execution_count": 11,
   "metadata": {
    "execution": {
     "iopub.execute_input": "2020-06-25T01:17:40.622814Z",
     "iopub.status.busy": "2020-06-25T01:17:40.622290Z",
     "iopub.status.idle": "2020-06-25T01:17:40.624631Z",
     "shell.execute_reply": "2020-06-25T01:17:40.624964Z"
    }
   },
   "outputs": [
    {
     "data": {
      "text/plain": [
       "[2, 3, 5, 7, 9, 11]"
      ]
     },
     "execution_count": 11,
     "metadata": {},
     "output_type": "execute_result"
    }
   ],
   "source": [
    "odd + [11]"
   ]
  },
  {
   "cell_type": "code",
   "execution_count": 12,
   "metadata": {
    "execution": {
     "iopub.execute_input": "2020-06-25T01:17:40.628271Z",
     "iopub.status.busy": "2020-06-25T01:17:40.627788Z",
     "iopub.status.idle": "2020-06-25T01:17:40.630098Z",
     "shell.execute_reply": "2020-06-25T01:17:40.629748Z"
    }
   },
   "outputs": [
    {
     "data": {
      "text/plain": [
       "[1, 3, 5, 7, 9, 2, 4, 6, 8, 10]"
      ]
     },
     "execution_count": 12,
     "metadata": {},
     "output_type": "execute_result"
    }
   ],
   "source": [
    "odd  = [1, 3, 5, 7, 9]\n",
    "even = [2, 4, 6, 8, 10]\n",
    "\n",
    "all_numbers = odd + even\n",
    "all_numbers"
   ]
  },
  {
   "cell_type": "markdown",
   "metadata": {},
   "source": [
    "Sort a list:"
   ]
  },
  {
   "cell_type": "code",
   "execution_count": 13,
   "metadata": {
    "execution": {
     "iopub.execute_input": "2020-06-25T01:17:40.632874Z",
     "iopub.status.busy": "2020-06-25T01:17:40.632365Z",
     "iopub.status.idle": "2020-06-25T01:17:40.634147Z",
     "shell.execute_reply": "2020-06-25T01:17:40.634480Z"
    }
   },
   "outputs": [
    {
     "data": {
      "text/plain": [
       "[1, 2, 3, 4, 5, 6, 7, 8, 9, 10]"
      ]
     },
     "execution_count": 13,
     "metadata": {},
     "output_type": "execute_result"
    }
   ],
   "source": [
    "all_numbers.sort()\n",
    "all_numbers"
   ]
  },
  {
   "cell_type": "markdown",
   "metadata": {},
   "source": [
    "Delete list items:"
   ]
  },
  {
   "cell_type": "code",
   "execution_count": 14,
   "metadata": {
    "execution": {
     "iopub.execute_input": "2020-06-25T01:17:40.637367Z",
     "iopub.status.busy": "2020-06-25T01:17:40.636885Z",
     "iopub.status.idle": "2020-06-25T01:17:40.638779Z",
     "shell.execute_reply": "2020-06-25T01:17:40.639211Z"
    }
   },
   "outputs": [
    {
     "data": {
      "text/plain": [
       "[1, 2, 3, 4, 5, 6, 7, 8, 9]"
      ]
     },
     "execution_count": 14,
     "metadata": {},
     "output_type": "execute_result"
    }
   ],
   "source": [
    "del(all_numbers[9])  # remember 0-indexing!\n",
    "all_numbers"
   ]
  },
  {
   "cell_type": "markdown",
   "metadata": {},
   "source": [
    "Copying a list"
   ]
  },
  {
   "cell_type": "code",
   "execution_count": 15,
   "metadata": {
    "execution": {
     "iopub.execute_input": "2020-06-25T01:17:40.642150Z",
     "iopub.status.busy": "2020-06-25T01:17:40.641385Z",
     "iopub.status.idle": "2020-06-25T01:17:40.643362Z",
     "shell.execute_reply": "2020-06-25T01:17:40.643700Z"
    }
   },
   "outputs": [],
   "source": [
    "my_numbers = all_numbers.copy()"
   ]
  },
  {
   "cell_type": "code",
   "execution_count": 16,
   "metadata": {
    "execution": {
     "iopub.execute_input": "2020-06-25T01:17:40.646506Z",
     "iopub.status.busy": "2020-06-25T01:17:40.646018Z",
     "iopub.status.idle": "2020-06-25T01:17:40.648251Z",
     "shell.execute_reply": "2020-06-25T01:17:40.648592Z"
    }
   },
   "outputs": [
    {
     "data": {
      "text/plain": [
       "[1, 2, 3, 4, 5, 6, 7, 8, 9]"
      ]
     },
     "execution_count": 16,
     "metadata": {},
     "output_type": "execute_result"
    }
   ],
   "source": [
    "my_numbers"
   ]
  },
  {
   "cell_type": "markdown",
   "metadata": {},
   "source": [
    "You can also use the `list` function to make a list from another list:"
   ]
  },
  {
   "cell_type": "code",
   "execution_count": 17,
   "metadata": {
    "execution": {
     "iopub.execute_input": "2020-06-25T01:17:40.651131Z",
     "iopub.status.busy": "2020-06-25T01:17:40.650634Z",
     "iopub.status.idle": "2020-06-25T01:17:40.652241Z",
     "shell.execute_reply": "2020-06-25T01:17:40.652562Z"
    }
   },
   "outputs": [],
   "source": [
    "some_numbers = list(all_numbers)"
   ]
  },
  {
   "cell_type": "code",
   "execution_count": 18,
   "metadata": {
    "execution": {
     "iopub.execute_input": "2020-06-25T01:17:40.656175Z",
     "iopub.status.busy": "2020-06-25T01:17:40.655349Z",
     "iopub.status.idle": "2020-06-25T01:17:40.657612Z",
     "shell.execute_reply": "2020-06-25T01:17:40.657942Z"
    }
   },
   "outputs": [
    {
     "data": {
      "text/plain": [
       "[1, 2, 3, 4, 5, 6, 7, 8, 9]"
      ]
     },
     "execution_count": 18,
     "metadata": {},
     "output_type": "execute_result"
    }
   ],
   "source": [
    "some_numbers"
   ]
  },
  {
   "cell_type": "markdown",
   "metadata": {},
   "source": [
    "Be careful not to do this. This \"points\" the new list, `my_numbers_nono`, at the original list, `all_numbers`"
   ]
  },
  {
   "cell_type": "code",
   "execution_count": 19,
   "metadata": {
    "execution": {
     "iopub.execute_input": "2020-06-25T01:17:40.660755Z",
     "iopub.status.busy": "2020-06-25T01:17:40.660192Z",
     "iopub.status.idle": "2020-06-25T01:17:40.662044Z",
     "shell.execute_reply": "2020-06-25T01:17:40.662443Z"
    }
   },
   "outputs": [
    {
     "data": {
      "text/plain": [
       "[1, 2, 3, 4, 5, 6, 7, 8, 9]"
      ]
     },
     "execution_count": 19,
     "metadata": {},
     "output_type": "execute_result"
    }
   ],
   "source": [
    "my_numbers_nono = all_numbers\n",
    "my_numbers_nono"
   ]
  },
  {
   "cell_type": "markdown",
   "metadata": {},
   "source": [
    "So when you nodify `all_numbers`, you also change `my_numbers_nono`"
   ]
  },
  {
   "cell_type": "code",
   "execution_count": 20,
   "metadata": {
    "execution": {
     "iopub.execute_input": "2020-06-25T01:17:40.665236Z",
     "iopub.status.busy": "2020-06-25T01:17:40.664756Z",
     "iopub.status.idle": "2020-06-25T01:17:40.666552Z",
     "shell.execute_reply": "2020-06-25T01:17:40.666940Z"
    }
   },
   "outputs": [
    {
     "data": {
      "text/plain": [
       "[1, 2, 3, 4, 5, 6, 7, 8]"
      ]
     },
     "execution_count": 20,
     "metadata": {},
     "output_type": "execute_result"
    }
   ],
   "source": [
    "del(all_numbers[8])\n",
    "my_numbers_nono"
   ]
  },
  {
   "cell_type": "markdown",
   "metadata": {},
   "source": [
    "## Chpater 3\n",
    "\n",
    " This chapter introduces a variety of functions and methods, as well as Python packages"
   ]
  },
  {
   "cell_type": "code",
   "execution_count": 21,
   "metadata": {
    "execution": {
     "iopub.execute_input": "2020-06-25T01:17:40.669625Z",
     "iopub.status.busy": "2020-06-25T01:17:40.669100Z",
     "iopub.status.idle": "2020-06-25T01:17:40.670742Z",
     "shell.execute_reply": "2020-06-25T01:17:40.671143Z"
    }
   },
   "outputs": [],
   "source": [
    "my_list = [10, 9, 8, 7, 6, 5, 4, 3, 2, 1]"
   ]
  },
  {
   "cell_type": "markdown",
   "metadata": {},
   "source": [
    "### Functions"
   ]
  },
  {
   "cell_type": "markdown",
   "metadata": {},
   "source": [
    "Maximum-valued element in list"
   ]
  },
  {
   "cell_type": "code",
   "execution_count": 22,
   "metadata": {
    "execution": {
     "iopub.execute_input": "2020-06-25T01:17:40.674017Z",
     "iopub.status.busy": "2020-06-25T01:17:40.673427Z",
     "iopub.status.idle": "2020-06-25T01:17:40.675563Z",
     "shell.execute_reply": "2020-06-25T01:17:40.675891Z"
    }
   },
   "outputs": [
    {
     "data": {
      "text/plain": [
       "10"
      ]
     },
     "execution_count": 22,
     "metadata": {},
     "output_type": "execute_result"
    }
   ],
   "source": [
    "max(my_list)"
   ]
  },
  {
   "cell_type": "code",
   "execution_count": 23,
   "metadata": {
    "execution": {
     "iopub.execute_input": "2020-06-25T01:17:40.678501Z",
     "iopub.status.busy": "2020-06-25T01:17:40.678016Z",
     "iopub.status.idle": "2020-06-25T01:17:40.679962Z",
     "shell.execute_reply": "2020-06-25T01:17:40.680292Z"
    }
   },
   "outputs": [
    {
     "data": {
      "text/plain": [
       "1"
      ]
     },
     "execution_count": 23,
     "metadata": {},
     "output_type": "execute_result"
    }
   ],
   "source": [
    "min(my_list)"
   ]
  },
  {
   "cell_type": "markdown",
   "metadata": {},
   "source": [
    "Rounding"
   ]
  },
  {
   "cell_type": "code",
   "execution_count": 24,
   "metadata": {
    "execution": {
     "iopub.execute_input": "2020-06-25T01:17:40.683111Z",
     "iopub.status.busy": "2020-06-25T01:17:40.682594Z",
     "iopub.status.idle": "2020-06-25T01:17:40.684675Z",
     "shell.execute_reply": "2020-06-25T01:17:40.685010Z"
    }
   },
   "outputs": [
    {
     "data": {
      "text/plain": [
       "3.14"
      ]
     },
     "execution_count": 24,
     "metadata": {},
     "output_type": "execute_result"
    }
   ],
   "source": [
    "pi = 3.14159265359\n",
    "round(pi, 2)"
   ]
  },
  {
   "cell_type": "markdown",
   "metadata": {},
   "source": [
    "Length of list"
   ]
  },
  {
   "cell_type": "code",
   "execution_count": 25,
   "metadata": {
    "execution": {
     "iopub.execute_input": "2020-06-25T01:17:40.687807Z",
     "iopub.status.busy": "2020-06-25T01:17:40.687324Z",
     "iopub.status.idle": "2020-06-25T01:17:40.689241Z",
     "shell.execute_reply": "2020-06-25T01:17:40.689633Z"
    }
   },
   "outputs": [
    {
     "data": {
      "text/plain": [
       "10"
      ]
     },
     "execution_count": 25,
     "metadata": {},
     "output_type": "execute_result"
    }
   ],
   "source": [
    "len(my_list)"
   ]
  },
  {
   "cell_type": "markdown",
   "metadata": {},
   "source": [
    "Get help using a function:"
   ]
  },
  {
   "cell_type": "code",
   "execution_count": 26,
   "metadata": {
    "execution": {
     "iopub.execute_input": "2020-06-25T01:17:40.726907Z",
     "iopub.status.busy": "2020-06-25T01:17:40.726421Z",
     "iopub.status.idle": "2020-06-25T01:17:40.729671Z",
     "shell.execute_reply": "2020-06-25T01:17:40.730091Z"
    }
   },
   "outputs": [],
   "source": [
    "?len"
   ]
  },
  {
   "cell_type": "code",
   "execution_count": 27,
   "metadata": {
    "execution": {
     "iopub.execute_input": "2020-06-25T01:17:40.733713Z",
     "iopub.status.busy": "2020-06-25T01:17:40.733093Z",
     "iopub.status.idle": "2020-06-25T01:17:40.735450Z",
     "shell.execute_reply": "2020-06-25T01:17:40.736102Z"
    }
   },
   "outputs": [
    {
     "data": {
      "text/plain": [
       "[1, 2, 3, 4, 5, 6, 7, 8, 9, 10]"
      ]
     },
     "execution_count": 27,
     "metadata": {},
     "output_type": "execute_result"
    }
   ],
   "source": [
    "going_up = sorted(my_list)\n",
    "going_up"
   ]
  },
  {
   "cell_type": "code",
   "execution_count": 28,
   "metadata": {
    "execution": {
     "iopub.execute_input": "2020-06-25T01:17:40.740049Z",
     "iopub.status.busy": "2020-06-25T01:17:40.739374Z",
     "iopub.status.idle": "2020-06-25T01:17:40.741437Z",
     "shell.execute_reply": "2020-06-25T01:17:40.741826Z"
    }
   },
   "outputs": [
    {
     "data": {
      "text/plain": [
       "[10, 9, 8, 7, 6, 5, 4, 3, 2, 1]"
      ]
     },
     "execution_count": 28,
     "metadata": {},
     "output_type": "execute_result"
    }
   ],
   "source": [
    "going_down = sorted(going_up, reverse=True)\n",
    "going_down"
   ]
  },
  {
   "cell_type": "markdown",
   "metadata": {},
   "source": [
    "# Finish from here down"
   ]
  },
  {
   "cell_type": "markdown",
   "metadata": {},
   "source": [
    "### Methods\n",
    "\n",
    ".index() - gives index of the input\n",
    ".capitalize() - returns string with the first letter capitalized\n",
    ".upper() - capitalizes all letters in a string\n",
    ".count()\n",
    "counts how many of the input are in a string\n",
    "counts the number of times an element appears in a list\n",
    ".append() - adds an element to the list it is called on\n",
    ".remove() - removes the first element of a list that matches the input\n",
    ".reverse() - reverses the order of the elements in the list its called on\n",
    "\n",
    "### Packages\n",
    "Import _ as _ - import a package\n",
    "From _ import _ - use if you only need a specific function from a package\n",
    "\n",
    "## Chapter 4\n",
    "This chapter introduces the numpy package, focussing on the numpy array\n",
    "### Numpy arrays\n",
    "np.array() - create numpy array from a list\n",
    "Contain values of only 1 type (for booleans, True=1, False=0)\n",
    "Does operations element wise\n",
    "Can subset numpy arrays using [] or boolean arrays\n",
    "#### 2D arrays\n",
    "Can create from a regular python list of lists\n",
    "Subset using [rows, columns]\n",
    ".shape - gives shape (rows, cols) of 2D numpy array\n",
    "### Functions (statistics)\n",
    "np.mean()\n",
    "np.median()\n",
    "np.corrcoef() - correlation coefficient\n",
    "np.std() - standard deviation\n",
    "\n"
   ]
  },
  {
   "cell_type": "code",
   "execution_count": null,
   "metadata": {},
   "outputs": [],
   "source": []
  }
 ],
 "metadata": {
  "kernelspec": {
   "display_name": "Python 3",
   "language": "python",
   "name": "python3"
  },
  "language_info": {
   "codemirror_mode": {
    "name": "ipython",
    "version": 3
   },
   "file_extension": ".py",
   "mimetype": "text/x-python",
   "name": "python",
   "nbconvert_exporter": "python",
   "pygments_lexer": "ipython3",
   "version": "3.7.4"
  }
 },
 "nbformat": 4,
 "nbformat_minor": 4
}