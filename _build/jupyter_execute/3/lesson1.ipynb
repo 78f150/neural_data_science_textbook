{
 "cells": [
  {
   "cell_type": "markdown",
   "metadata": {},
   "source": [
    "# Lesson 1: Introduction to Python\n",
    "\n",
    "These notes are based on the sequence that concepts are introduced in the DataCamp lesson of the same name. They are most useful as a reference, after you've completed the DataCamp lesson. They are not intended to replace that lesson.\n",
    "\n",
    "[View this lesson on DataCamp](https://learn.datacamp.com/courses/intro-to-python-for-data-science )"
   ]
  },
  {
   "cell_type": "markdown",
   "metadata": {},
   "source": [
    "## Chapter 1\n",
    "This chapter introduces the basics of Python - simple math and variable types"
   ]
  },
  {
   "cell_type": "markdown",
   "metadata": {},
   "source": [
    "### Basic Operations\n",
    "\n",
    "| Operator |  Operation                                                   |\n",
    "|----------|--------------------------------------------------------------|\n",
    "| `#`      |  add comment                                                 |\n",
    "| `+`      |  addition                                                    |\n",
    "| `-`      |  subtraction                                                 |\n",
    "| `*`      |  multiplication                                              |\n",
    "| `/`      |  division                                                    |\n",
    "| `**`       |  exponentiation                                              |\n",
    "| `%`        |  modulo; returns remainder of division (e.g., `18 % 7` equals `4`) |\n",
    "| `=`        |  variable assignment                                         |\n",
    "| `==`       |  equal to                                                    |\n",
    "| `!=`       |  not equal to                                                |\n",
    "\n"
   ]
  },
  {
   "cell_type": "markdown",
   "metadata": {},
   "source": [
    "### Variable Types\n",
    "\n",
    "|                                          |                                                                      |\n",
    "|------------------------------------------|----------------------------------------------------------------------|\n",
    "| integer                                  |  number without fractional component (no decimal point)                                      |\n",
    "| float                                    |  number with both integer and fractional part separated by a decimal |\n",
    "| string  | text; enclose in `' '` or `\" \"`    |\n",
    "| boolean                                  |  logical values; can only be `True` or `False`                       |\n",
    "|list | Can contain many different types. Create with `[]`. Separate items with commas. |\n",
    "\n"
   ]
  },
  {
   "cell_type": "markdown",
   "metadata": {},
   "source": [
    "### Functions\n",
    "|           |                                       |\n",
    "|-----------|---------------------------------------|\n",
    "| `print()` |   outputs what's enclosed in `()`     |\n",
    "| `type()`  |  gives the type of a defined variable |\n",
    "| `int()`   |  converts a value into an integer     |\n",
    "| `float()` |  converts a value into a float        |\n",
    "| `str()`   |  converts a value into a string       |\n",
    "| `bool()`  |  converts a value into a boolean      |\n",
    "| `list()`  |  converts a value or values into a list |"
   ]
  },
  {
   "cell_type": "markdown",
   "metadata": {},
   "source": [
    "## Chapter 2\n",
    "This chapter covers everything to do with lists - creating lists, subsetting, and manipulation.\n",
    "\n",
    "Lists are ordered sets of items. \n",
    "\n",
    "### Working with Lists\n",
    "Create a list:"
   ]
  },
  {
   "cell_type": "code",
   "execution_count": 1,
   "metadata": {
    "execution": {
     "iopub.execute_input": "2020-07-17T15:37:44.495846Z",
     "iopub.status.busy": "2020-07-17T15:37:44.495098Z",
     "iopub.status.idle": "2020-07-17T15:37:44.497037Z",
     "shell.execute_reply": "2020-07-17T15:37:44.497658Z"
    }
   },
   "outputs": [],
   "source": [
    "odd = [1, 3, 5, 7, 9]"
   ]
  },
  {
   "cell_type": "markdown",
   "metadata": {},
   "source": [
    "First index (position) in list is 0, not 1:"
   ]
  },
  {
   "cell_type": "code",
   "execution_count": 2,
   "metadata": {
    "execution": {
     "iopub.execute_input": "2020-07-17T15:37:44.505566Z",
     "iopub.status.busy": "2020-07-17T15:37:44.505018Z",
     "iopub.status.idle": "2020-07-17T15:37:44.507384Z",
     "shell.execute_reply": "2020-07-17T15:37:44.507771Z"
    }
   },
   "outputs": [
    {
     "data": {
      "text/plain": [
       "3"
      ]
     },
     "execution_count": 2,
     "metadata": {},
     "output_type": "execute_result"
    }
   ],
   "source": [
    "odd[1]"
   ]
  },
  {
   "cell_type": "code",
   "execution_count": 3,
   "metadata": {
    "execution": {
     "iopub.execute_input": "2020-07-17T15:37:44.510955Z",
     "iopub.status.busy": "2020-07-17T15:37:44.510418Z",
     "iopub.status.idle": "2020-07-17T15:37:44.512502Z",
     "shell.execute_reply": "2020-07-17T15:37:44.512892Z"
    }
   },
   "outputs": [
    {
     "data": {
      "text/plain": [
       "1"
      ]
     },
     "execution_count": 3,
     "metadata": {},
     "output_type": "execute_result"
    }
   ],
   "source": [
    "odd[0]"
   ]
  },
  {
   "cell_type": "markdown",
   "metadata": {},
   "source": [
    "Negative indexing works from the end of the list. "
   ]
  },
  {
   "cell_type": "code",
   "execution_count": 4,
   "metadata": {
    "execution": {
     "iopub.execute_input": "2020-07-17T15:37:44.516081Z",
     "iopub.status.busy": "2020-07-17T15:37:44.515491Z",
     "iopub.status.idle": "2020-07-17T15:37:44.517694Z",
     "shell.execute_reply": "2020-07-17T15:37:44.518137Z"
    }
   },
   "outputs": [
    {
     "data": {
      "text/plain": [
       "9"
      ]
     },
     "execution_count": 4,
     "metadata": {},
     "output_type": "execute_result"
    }
   ],
   "source": [
    "odd[-1]"
   ]
  },
  {
   "cell_type": "markdown",
   "metadata": {},
   "source": [
    "#### Slicing\n",
    "Specify a range of indices inside square brackets: [inclusive:exclusive]"
   ]
  },
  {
   "cell_type": "code",
   "execution_count": 5,
   "metadata": {
    "execution": {
     "iopub.execute_input": "2020-07-17T15:37:44.521527Z",
     "iopub.status.busy": "2020-07-17T15:37:44.520946Z",
     "iopub.status.idle": "2020-07-17T15:37:44.523001Z",
     "shell.execute_reply": "2020-07-17T15:37:44.523380Z"
    }
   },
   "outputs": [
    {
     "data": {
      "text/plain": [
       "[1, 3, 5, 7, 9]"
      ]
     },
     "execution_count": 5,
     "metadata": {},
     "output_type": "execute_result"
    }
   ],
   "source": [
    "odd[0:5]"
   ]
  },
  {
   "cell_type": "code",
   "execution_count": 6,
   "metadata": {
    "execution": {
     "iopub.execute_input": "2020-07-17T15:37:44.526797Z",
     "iopub.status.busy": "2020-07-17T15:37:44.526134Z",
     "iopub.status.idle": "2020-07-17T15:37:44.529085Z",
     "shell.execute_reply": "2020-07-17T15:37:44.529479Z"
    }
   },
   "outputs": [
    {
     "data": {
      "text/plain": [
       "[3, 5]"
      ]
     },
     "execution_count": 6,
     "metadata": {},
     "output_type": "execute_result"
    }
   ],
   "source": [
    "odd[1:3]"
   ]
  },
  {
   "cell_type": "code",
   "execution_count": 7,
   "metadata": {
    "execution": {
     "iopub.execute_input": "2020-07-17T15:37:44.533485Z",
     "iopub.status.busy": "2020-07-17T15:37:44.532768Z",
     "iopub.status.idle": "2020-07-17T15:37:44.535668Z",
     "shell.execute_reply": "2020-07-17T15:37:44.536110Z"
    }
   },
   "outputs": [
    {
     "data": {
      "text/plain": [
       "[1, 3, 5, 7, 9]"
      ]
     },
     "execution_count": 7,
     "metadata": {},
     "output_type": "execute_result"
    }
   ],
   "source": [
    "odd[:]"
   ]
  },
  {
   "cell_type": "code",
   "execution_count": 8,
   "metadata": {
    "execution": {
     "iopub.execute_input": "2020-07-17T15:37:44.540290Z",
     "iopub.status.busy": "2020-07-17T15:37:44.539445Z",
     "iopub.status.idle": "2020-07-17T15:37:44.542199Z",
     "shell.execute_reply": "2020-07-17T15:37:44.542597Z"
    }
   },
   "outputs": [
    {
     "data": {
      "text/plain": [
       "[1, 3, 5]"
      ]
     },
     "execution_count": 8,
     "metadata": {},
     "output_type": "execute_result"
    }
   ],
   "source": [
    "odd[:3]"
   ]
  },
  {
   "cell_type": "code",
   "execution_count": 9,
   "metadata": {
    "execution": {
     "iopub.execute_input": "2020-07-17T15:37:44.546536Z",
     "iopub.status.busy": "2020-07-17T15:37:44.545853Z",
     "iopub.status.idle": "2020-07-17T15:37:44.548203Z",
     "shell.execute_reply": "2020-07-17T15:37:44.548682Z"
    }
   },
   "outputs": [
    {
     "data": {
      "text/plain": [
       "[7, 9]"
      ]
     },
     "execution_count": 9,
     "metadata": {},
     "output_type": "execute_result"
    }
   ],
   "source": [
    "odd[3:]"
   ]
  },
  {
   "cell_type": "markdown",
   "metadata": {},
   "source": [
    "#### List Manipulation\n",
    "Replacing list elements: subset list and assign a new value using =\n"
   ]
  },
  {
   "cell_type": "code",
   "execution_count": 10,
   "metadata": {
    "execution": {
     "iopub.execute_input": "2020-07-17T15:37:44.552404Z",
     "iopub.status.busy": "2020-07-17T15:37:44.551846Z",
     "iopub.status.idle": "2020-07-17T15:37:44.553890Z",
     "shell.execute_reply": "2020-07-17T15:37:44.554335Z"
    }
   },
   "outputs": [
    {
     "data": {
      "text/plain": [
       "[2, 3, 5, 7, 9]"
      ]
     },
     "execution_count": 10,
     "metadata": {},
     "output_type": "execute_result"
    }
   ],
   "source": [
    "odd[0] = 2\n",
    "odd[0:5]"
   ]
  },
  {
   "cell_type": "markdown",
   "metadata": {},
   "source": [
    "Extend a list, use + operator to add elements\n"
   ]
  },
  {
   "cell_type": "code",
   "execution_count": 11,
   "metadata": {
    "execution": {
     "iopub.execute_input": "2020-07-17T15:37:44.557551Z",
     "iopub.status.busy": "2020-07-17T15:37:44.556954Z",
     "iopub.status.idle": "2020-07-17T15:37:44.559159Z",
     "shell.execute_reply": "2020-07-17T15:37:44.559545Z"
    }
   },
   "outputs": [
    {
     "data": {
      "text/plain": [
       "[2, 3, 5, 7, 9, 11]"
      ]
     },
     "execution_count": 11,
     "metadata": {},
     "output_type": "execute_result"
    }
   ],
   "source": [
    "odd + [11]"
   ]
  },
  {
   "cell_type": "code",
   "execution_count": 12,
   "metadata": {
    "execution": {
     "iopub.execute_input": "2020-07-17T15:37:44.563333Z",
     "iopub.status.busy": "2020-07-17T15:37:44.562720Z",
     "iopub.status.idle": "2020-07-17T15:37:44.565438Z",
     "shell.execute_reply": "2020-07-17T15:37:44.564969Z"
    }
   },
   "outputs": [
    {
     "data": {
      "text/plain": [
       "[1, 3, 5, 7, 9, 2, 4, 6, 8, 10]"
      ]
     },
     "execution_count": 12,
     "metadata": {},
     "output_type": "execute_result"
    }
   ],
   "source": [
    "odd  = [1, 3, 5, 7, 9]\n",
    "even = [2, 4, 6, 8, 10]\n",
    "\n",
    "all_numbers = odd + even\n",
    "all_numbers"
   ]
  },
  {
   "cell_type": "markdown",
   "metadata": {},
   "source": [
    "Sort a list:"
   ]
  },
  {
   "cell_type": "code",
   "execution_count": 13,
   "metadata": {
    "execution": {
     "iopub.execute_input": "2020-07-17T15:37:44.568403Z",
     "iopub.status.busy": "2020-07-17T15:37:44.567854Z",
     "iopub.status.idle": "2020-07-17T15:37:44.570000Z",
     "shell.execute_reply": "2020-07-17T15:37:44.570345Z"
    }
   },
   "outputs": [
    {
     "data": {
      "text/plain": [
       "[1, 2, 3, 4, 5, 6, 7, 8, 9, 10]"
      ]
     },
     "execution_count": 13,
     "metadata": {},
     "output_type": "execute_result"
    }
   ],
   "source": [
    "all_numbers.sort()\n",
    "all_numbers"
   ]
  },
  {
   "cell_type": "markdown",
   "metadata": {},
   "source": [
    "Delete list items:"
   ]
  },
  {
   "cell_type": "code",
   "execution_count": 14,
   "metadata": {
    "execution": {
     "iopub.execute_input": "2020-07-17T15:37:44.573294Z",
     "iopub.status.busy": "2020-07-17T15:37:44.572762Z",
     "iopub.status.idle": "2020-07-17T15:37:44.574845Z",
     "shell.execute_reply": "2020-07-17T15:37:44.575507Z"
    }
   },
   "outputs": [
    {
     "data": {
      "text/plain": [
       "[1, 2, 3, 4, 5, 6, 7, 8, 9]"
      ]
     },
     "execution_count": 14,
     "metadata": {},
     "output_type": "execute_result"
    }
   ],
   "source": [
    "del(all_numbers[9])  # remember 0-indexing!\n",
    "all_numbers"
   ]
  },
  {
   "cell_type": "markdown",
   "metadata": {},
   "source": [
    "Copying a list"
   ]
  },
  {
   "cell_type": "code",
   "execution_count": 15,
   "metadata": {
    "execution": {
     "iopub.execute_input": "2020-07-17T15:37:44.578386Z",
     "iopub.status.busy": "2020-07-17T15:37:44.577837Z",
     "iopub.status.idle": "2020-07-17T15:37:44.579449Z",
     "shell.execute_reply": "2020-07-17T15:37:44.579800Z"
    }
   },
   "outputs": [],
   "source": [
    "my_numbers = all_numbers.copy()"
   ]
  },
  {
   "cell_type": "code",
   "execution_count": 16,
   "metadata": {
    "execution": {
     "iopub.execute_input": "2020-07-17T15:37:44.582704Z",
     "iopub.status.busy": "2020-07-17T15:37:44.582126Z",
     "iopub.status.idle": "2020-07-17T15:37:44.584298Z",
     "shell.execute_reply": "2020-07-17T15:37:44.584665Z"
    }
   },
   "outputs": [
    {
     "data": {
      "text/plain": [
       "[1, 2, 3, 4, 5, 6, 7, 8, 9]"
      ]
     },
     "execution_count": 16,
     "metadata": {},
     "output_type": "execute_result"
    }
   ],
   "source": [
    "my_numbers"
   ]
  },
  {
   "cell_type": "markdown",
   "metadata": {},
   "source": [
    "You can also use the `list` function to make a list from another list:"
   ]
  },
  {
   "cell_type": "code",
   "execution_count": 17,
   "metadata": {
    "execution": {
     "iopub.execute_input": "2020-07-17T15:37:44.587319Z",
     "iopub.status.busy": "2020-07-17T15:37:44.586818Z",
     "iopub.status.idle": "2020-07-17T15:37:44.588179Z",
     "shell.execute_reply": "2020-07-17T15:37:44.588524Z"
    }
   },
   "outputs": [],
   "source": [
    "some_numbers = list(all_numbers)"
   ]
  },
  {
   "cell_type": "code",
   "execution_count": 18,
   "metadata": {
    "execution": {
     "iopub.execute_input": "2020-07-17T15:37:44.591684Z",
     "iopub.status.busy": "2020-07-17T15:37:44.590981Z",
     "iopub.status.idle": "2020-07-17T15:37:44.593272Z",
     "shell.execute_reply": "2020-07-17T15:37:44.593620Z"
    }
   },
   "outputs": [
    {
     "data": {
      "text/plain": [
       "[1, 2, 3, 4, 5, 6, 7, 8, 9]"
      ]
     },
     "execution_count": 18,
     "metadata": {},
     "output_type": "execute_result"
    }
   ],
   "source": [
    "some_numbers"
   ]
  },
  {
   "cell_type": "markdown",
   "metadata": {},
   "source": [
    "Be careful not to do this. This \"points\" the new list, `my_numbers_nono`, at the original list, `all_numbers`"
   ]
  },
  {
   "cell_type": "code",
   "execution_count": 19,
   "metadata": {
    "execution": {
     "iopub.execute_input": "2020-07-17T15:37:44.596574Z",
     "iopub.status.busy": "2020-07-17T15:37:44.595984Z",
     "iopub.status.idle": "2020-07-17T15:37:44.598227Z",
     "shell.execute_reply": "2020-07-17T15:37:44.598581Z"
    }
   },
   "outputs": [
    {
     "data": {
      "text/plain": [
       "[1, 2, 3, 4, 5, 6, 7, 8, 9]"
      ]
     },
     "execution_count": 19,
     "metadata": {},
     "output_type": "execute_result"
    }
   ],
   "source": [
    "my_numbers_nono = all_numbers\n",
    "my_numbers_nono"
   ]
  },
  {
   "cell_type": "markdown",
   "metadata": {},
   "source": [
    "So when you modify `all_numbers`, you also change `my_numbers_nono`"
   ]
  },
  {
   "cell_type": "code",
   "execution_count": 20,
   "metadata": {
    "execution": {
     "iopub.execute_input": "2020-07-17T15:37:44.601490Z",
     "iopub.status.busy": "2020-07-17T15:37:44.600905Z",
     "iopub.status.idle": "2020-07-17T15:37:44.603583Z",
     "shell.execute_reply": "2020-07-17T15:37:44.603974Z"
    }
   },
   "outputs": [
    {
     "data": {
      "text/plain": [
       "[1, 2, 3, 4, 5, 6, 7, 8]"
      ]
     },
     "execution_count": 20,
     "metadata": {},
     "output_type": "execute_result"
    }
   ],
   "source": [
    "del(all_numbers[8])\n",
    "my_numbers_nono"
   ]
  },
  {
   "cell_type": "markdown",
   "metadata": {},
   "source": [
    "## Chapter 3\n",
    "\n",
    " This chapter introduces a variety of functions and methods, as well as Python packages"
   ]
  },
  {
   "cell_type": "code",
   "execution_count": 21,
   "metadata": {
    "execution": {
     "iopub.execute_input": "2020-07-17T15:37:44.606999Z",
     "iopub.status.busy": "2020-07-17T15:37:44.606443Z",
     "iopub.status.idle": "2020-07-17T15:37:44.607993Z",
     "shell.execute_reply": "2020-07-17T15:37:44.608406Z"
    }
   },
   "outputs": [],
   "source": [
    "my_list = [10, 9, 8, 7, 6, 5, 4, 3, 2, 1]"
   ]
  },
  {
   "cell_type": "markdown",
   "metadata": {},
   "source": [
    "### Functions"
   ]
  },
  {
   "cell_type": "markdown",
   "metadata": {},
   "source": [
    "#### Max/min values in list"
   ]
  },
  {
   "cell_type": "code",
   "execution_count": 22,
   "metadata": {
    "execution": {
     "iopub.execute_input": "2020-07-17T15:37:44.611791Z",
     "iopub.status.busy": "2020-07-17T15:37:44.611022Z",
     "iopub.status.idle": "2020-07-17T15:37:44.613126Z",
     "shell.execute_reply": "2020-07-17T15:37:44.613470Z"
    }
   },
   "outputs": [
    {
     "data": {
      "text/plain": [
       "10"
      ]
     },
     "execution_count": 22,
     "metadata": {},
     "output_type": "execute_result"
    }
   ],
   "source": [
    "max(my_list)"
   ]
  },
  {
   "cell_type": "code",
   "execution_count": 23,
   "metadata": {
    "execution": {
     "iopub.execute_input": "2020-07-17T15:37:44.616382Z",
     "iopub.status.busy": "2020-07-17T15:37:44.615846Z",
     "iopub.status.idle": "2020-07-17T15:37:44.618029Z",
     "shell.execute_reply": "2020-07-17T15:37:44.618387Z"
    }
   },
   "outputs": [
    {
     "data": {
      "text/plain": [
       "1"
      ]
     },
     "execution_count": 23,
     "metadata": {},
     "output_type": "execute_result"
    }
   ],
   "source": [
    "min(my_list)"
   ]
  },
  {
   "cell_type": "markdown",
   "metadata": {},
   "source": [
    "#### Rounding"
   ]
  },
  {
   "cell_type": "code",
   "execution_count": 24,
   "metadata": {
    "execution": {
     "iopub.execute_input": "2020-07-17T15:37:44.621481Z",
     "iopub.status.busy": "2020-07-17T15:37:44.620904Z",
     "iopub.status.idle": "2020-07-17T15:37:44.623368Z",
     "shell.execute_reply": "2020-07-17T15:37:44.624169Z"
    }
   },
   "outputs": [
    {
     "data": {
      "text/plain": [
       "3.14"
      ]
     },
     "execution_count": 24,
     "metadata": {},
     "output_type": "execute_result"
    }
   ],
   "source": [
    "pi = 3.14159265359\n",
    "round(pi, 2)"
   ]
  },
  {
   "cell_type": "markdown",
   "metadata": {},
   "source": [
    "#### Length of list"
   ]
  },
  {
   "cell_type": "code",
   "execution_count": 25,
   "metadata": {
    "execution": {
     "iopub.execute_input": "2020-07-17T15:37:44.627592Z",
     "iopub.status.busy": "2020-07-17T15:37:44.627051Z",
     "iopub.status.idle": "2020-07-17T15:37:44.629856Z",
     "shell.execute_reply": "2020-07-17T15:37:44.630331Z"
    }
   },
   "outputs": [
    {
     "data": {
      "text/plain": [
       "10"
      ]
     },
     "execution_count": 25,
     "metadata": {},
     "output_type": "execute_result"
    }
   ],
   "source": [
    "len(my_list)"
   ]
  },
  {
   "cell_type": "markdown",
   "metadata": {},
   "source": [
    "#### Help"
   ]
  },
  {
   "cell_type": "code",
   "execution_count": 26,
   "metadata": {
    "execution": {
     "iopub.execute_input": "2020-07-17T15:37:44.671104Z",
     "iopub.status.busy": "2020-07-17T15:37:44.670581Z",
     "iopub.status.idle": "2020-07-17T15:37:44.674309Z",
     "shell.execute_reply": "2020-07-17T15:37:44.674673Z"
    }
   },
   "outputs": [],
   "source": [
    "?round"
   ]
  },
  {
   "cell_type": "markdown",
   "metadata": {},
   "source": [
    "#### Sorting"
   ]
  },
  {
   "cell_type": "code",
   "execution_count": 27,
   "metadata": {
    "execution": {
     "iopub.execute_input": "2020-07-17T15:37:44.678758Z",
     "iopub.status.busy": "2020-07-17T15:37:44.678182Z",
     "iopub.status.idle": "2020-07-17T15:37:44.680432Z",
     "shell.execute_reply": "2020-07-17T15:37:44.680815Z"
    }
   },
   "outputs": [
    {
     "data": {
      "text/plain": [
       "[1, 2, 3, 4, 5, 6, 7, 8, 9, 10]"
      ]
     },
     "execution_count": 27,
     "metadata": {},
     "output_type": "execute_result"
    }
   ],
   "source": [
    "going_up = sorted(my_list)\n",
    "going_up"
   ]
  },
  {
   "cell_type": "code",
   "execution_count": 28,
   "metadata": {
    "execution": {
     "iopub.execute_input": "2020-07-17T15:37:44.684880Z",
     "iopub.status.busy": "2020-07-17T15:37:44.684181Z",
     "iopub.status.idle": "2020-07-17T15:37:44.686464Z",
     "shell.execute_reply": "2020-07-17T15:37:44.686847Z"
    }
   },
   "outputs": [
    {
     "data": {
      "text/plain": [
       "[10, 9, 8, 7, 6, 5, 4, 3, 2, 1]"
      ]
     },
     "execution_count": 28,
     "metadata": {},
     "output_type": "execute_result"
    }
   ],
   "source": [
    "going_down = sorted(going_up, reverse=True)\n",
    "going_down"
   ]
  },
  {
   "cell_type": "markdown",
   "metadata": {},
   "source": [
    "### Methods\n",
    "\n",
    "Methods are functions that are applied to a variable by adding a dot then the method name (and parentheses) to the end of the variable name.\n",
    "\n",
    "| Method | What it does |\n",
    "|--------|--------------|\n",
    "|`.index()` | for a list, gives index of the input value |\n",
    "|`.capitalize()` | returns string with the first letter capitalized |\n",
    "|`.upper()` | capitalizes all letters in a string |\n",
    "|`.count()` | for `string`: counts how many of the input are in a string |\n",
    "|`.count()` | for `list`: counts the number of times an element appears in a list |\n",
    "|`.append()` | adds an element to the list it is called on |\n",
    "|`.remove()` | removes the first element of a list that matches the input |\n",
    "|`.reverse()` | reverses the order of the elements in the list its called on |\n",
    "|`.round()` | rounds a float to the number of decimal places specified in the parentheses |"
   ]
  },
  {
   "cell_type": "code",
   "execution_count": 29,
   "metadata": {
    "execution": {
     "iopub.execute_input": "2020-07-17T15:37:44.690737Z",
     "iopub.status.busy": "2020-07-17T15:37:44.690045Z",
     "iopub.status.idle": "2020-07-17T15:37:44.692877Z",
     "shell.execute_reply": "2020-07-17T15:37:44.693314Z"
    }
   },
   "outputs": [
    {
     "data": {
      "text/plain": [
       "0"
      ]
     },
     "execution_count": 29,
     "metadata": {},
     "output_type": "execute_result"
    }
   ],
   "source": [
    "going_down.index(10)"
   ]
  },
  {
   "cell_type": "code",
   "execution_count": 30,
   "metadata": {
    "execution": {
     "iopub.execute_input": "2020-07-17T15:37:44.698394Z",
     "iopub.status.busy": "2020-07-17T15:37:44.697551Z",
     "iopub.status.idle": "2020-07-17T15:37:44.700560Z",
     "shell.execute_reply": "2020-07-17T15:37:44.700944Z"
    }
   },
   "outputs": [
    {
     "data": {
      "text/plain": [
       "[10, 9, 8, 7, 6, 5, 4, 3, 2, 1, 0]"
      ]
     },
     "execution_count": 30,
     "metadata": {},
     "output_type": "execute_result"
    }
   ],
   "source": [
    "going_down.append(0)\n",
    "going_down"
   ]
  },
  {
   "cell_type": "markdown",
   "metadata": {},
   "source": [
    "### Packages\n",
    "\n",
    "Import a package (sometimes called a library), including all its functions"
   ]
  },
  {
   "cell_type": "code",
   "execution_count": 31,
   "metadata": {
    "execution": {
     "iopub.execute_input": "2020-07-17T15:37:44.704557Z",
     "iopub.status.busy": "2020-07-17T15:37:44.704053Z",
     "iopub.status.idle": "2020-07-17T15:37:46.605065Z",
     "shell.execute_reply": "2020-07-17T15:37:46.605455Z"
    }
   },
   "outputs": [],
   "source": [
    "import matplotlib"
   ]
  },
  {
   "cell_type": "markdown",
   "metadata": {},
   "source": [
    "Import a package and give it a shorthand name:"
   ]
  },
  {
   "cell_type": "code",
   "execution_count": 32,
   "metadata": {
    "execution": {
     "iopub.execute_input": "2020-07-17T15:37:46.608529Z",
     "iopub.status.busy": "2020-07-17T15:37:46.607939Z",
     "iopub.status.idle": "2020-07-17T15:37:46.609574Z",
     "shell.execute_reply": "2020-07-17T15:37:46.610044Z"
    }
   },
   "outputs": [],
   "source": [
    "import numpy as np"
   ]
  },
  {
   "cell_type": "markdown",
   "metadata": {},
   "source": [
    "## Chapter 4\n",
    "\n",
    "This chapter introduces the `numpy` package (by convention, imported as `np`), focusing on the numpy array data type.\n",
    "\n",
    "### NumPy arrays\n",
    "\n",
    "NumPy arrays are similar to lists: ordered sets of values. However, they behave differently, and can have multiple dimensons (see below), so NumPy arrays are often a better choice for structured data.\n",
    "\n",
    "You can **create** an np array manually by putting a list inside the `np.array()` function:"
   ]
  },
  {
   "cell_type": "code",
   "execution_count": 33,
   "metadata": {
    "execution": {
     "iopub.execute_input": "2020-07-17T15:37:46.613610Z",
     "iopub.status.busy": "2020-07-17T15:37:46.613038Z",
     "iopub.status.idle": "2020-07-17T15:37:46.615167Z",
     "shell.execute_reply": "2020-07-17T15:37:46.615570Z"
    }
   },
   "outputs": [
    {
     "data": {
      "text/plain": [
       "array([1, 3, 5, 7, 9])"
      ]
     },
     "execution_count": 33,
     "metadata": {},
     "output_type": "execute_result"
    }
   ],
   "source": [
    "np_odds = np.array([1, 3, 5, 7, 9])\n",
    "np_odds"
   ]
  },
  {
   "cell_type": "markdown",
   "metadata": {},
   "source": [
    "Or by specifying the name of a list you previously created:"
   ]
  },
  {
   "cell_type": "code",
   "execution_count": 34,
   "metadata": {
    "execution": {
     "iopub.execute_input": "2020-07-17T15:37:46.619287Z",
     "iopub.status.busy": "2020-07-17T15:37:46.618675Z",
     "iopub.status.idle": "2020-07-17T15:37:46.620823Z",
     "shell.execute_reply": "2020-07-17T15:37:46.621205Z"
    }
   },
   "outputs": [
    {
     "data": {
      "text/plain": [
       "array([ 2,  4,  6,  8, 10])"
      ]
     },
     "execution_count": 34,
     "metadata": {},
     "output_type": "execute_result"
    }
   ],
   "source": [
    "evens = [2, 4, 6, 8, 10]\n",
    "np_evens = np.array(evens)\n",
    "np_evens"
   ]
  },
  {
   "cell_type": "markdown",
   "metadata": {},
   "source": [
    "**Note**: If you just type the name of an array, you'll see the the contents of the array, embedded inside `array()`, as shown above. If you `print()` the array, you'll see only its contents:"
   ]
  },
  {
   "cell_type": "code",
   "execution_count": 35,
   "metadata": {
    "execution": {
     "iopub.execute_input": "2020-07-17T15:37:46.623972Z",
     "iopub.status.busy": "2020-07-17T15:37:46.623464Z",
     "iopub.status.idle": "2020-07-17T15:37:46.625300Z",
     "shell.execute_reply": "2020-07-17T15:37:46.626651Z"
    }
   },
   "outputs": [
    {
     "name": "stdout",
     "output_type": "stream",
     "text": [
      "[ 2  4  6  8 10]\n"
     ]
    }
   ],
   "source": [
    "print(np_evens)"
   ]
  },
  {
   "cell_type": "markdown",
   "metadata": {},
   "source": [
    "Either way above is acceptable, but remember that in Jupyter, you need to use `print()` to see the output of anything other than the last returned value:"
   ]
  },
  {
   "cell_type": "code",
   "execution_count": 36,
   "metadata": {
    "execution": {
     "iopub.execute_input": "2020-07-17T15:37:46.630600Z",
     "iopub.status.busy": "2020-07-17T15:37:46.629870Z",
     "iopub.status.idle": "2020-07-17T15:37:46.632722Z",
     "shell.execute_reply": "2020-07-17T15:37:46.633148Z"
    }
   },
   "outputs": [
    {
     "data": {
      "text/plain": [
       "array([1, 3, 5, 7, 9])"
      ]
     },
     "execution_count": 36,
     "metadata": {},
     "output_type": "execute_result"
    }
   ],
   "source": [
    "np_evens\n",
    "np_odds"
   ]
  },
  {
   "cell_type": "code",
   "execution_count": 37,
   "metadata": {
    "execution": {
     "iopub.execute_input": "2020-07-17T15:37:46.636735Z",
     "iopub.status.busy": "2020-07-17T15:37:46.636021Z",
     "iopub.status.idle": "2020-07-17T15:37:46.638875Z",
     "shell.execute_reply": "2020-07-17T15:37:46.639264Z"
    }
   },
   "outputs": [
    {
     "name": "stdout",
     "output_type": "stream",
     "text": [
      "[ 2  4  6  8 10]\n"
     ]
    },
    {
     "data": {
      "text/plain": [
       "array([1, 3, 5, 7, 9])"
      ]
     },
     "execution_count": 37,
     "metadata": {},
     "output_type": "execute_result"
    }
   ],
   "source": [
    "print(np_evens)\n",
    "np_odds"
   ]
  },
  {
   "cell_type": "markdown",
   "metadata": {},
   "source": [
    "NumPy arrays can only contain values of one type. Values are converted to a different type to enforce this:"
   ]
  },
  {
   "cell_type": "code",
   "execution_count": 38,
   "metadata": {
    "execution": {
     "iopub.execute_input": "2020-07-17T15:37:46.642988Z",
     "iopub.status.busy": "2020-07-17T15:37:46.642404Z",
     "iopub.status.idle": "2020-07-17T15:37:46.644485Z",
     "shell.execute_reply": "2020-07-17T15:37:46.644849Z"
    }
   },
   "outputs": [
    {
     "data": {
      "text/plain": [
       "array(['1', 'two', 'False'], dtype='<U21')"
      ]
     },
     "execution_count": 38,
     "metadata": {},
     "output_type": "execute_result"
    }
   ],
   "source": [
    "np.array([1, 'two', False])"
   ]
  },
  {
   "cell_type": "markdown",
   "metadata": {},
   "source": [
    "Above, the int `1` and the Boolean `False` were converted to a string, because the string 'two' couldn't be converted to any other type.\n",
    "\n",
    "Below, we only have ints and Booleans. Booleans are converted to ints:"
   ]
  },
  {
   "cell_type": "code",
   "execution_count": 39,
   "metadata": {
    "execution": {
     "iopub.execute_input": "2020-07-17T15:37:46.648306Z",
     "iopub.status.busy": "2020-07-17T15:37:46.647761Z",
     "iopub.status.idle": "2020-07-17T15:37:46.649897Z",
     "shell.execute_reply": "2020-07-17T15:37:46.650286Z"
    }
   },
   "outputs": [
    {
     "data": {
      "text/plain": [
       "array([1, 2, 0, 1])"
      ]
     },
     "execution_count": 39,
     "metadata": {},
     "output_type": "execute_result"
    }
   ],
   "source": [
    "np.array([1, 2, False, True])"
   ]
  },
  {
   "cell_type": "markdown",
   "metadata": {},
   "source": [
    "Unlike lists, operations are applied to np arrays element-wise (i.e., applies operation to each element in the array).\n",
    "\n",
    "So for a list, this is probably *not* your intended outcome:"
   ]
  },
  {
   "cell_type": "code",
   "execution_count": 40,
   "metadata": {
    "execution": {
     "iopub.execute_input": "2020-07-17T15:37:46.653311Z",
     "iopub.status.busy": "2020-07-17T15:37:46.652711Z",
     "iopub.status.idle": "2020-07-17T15:37:46.654620Z",
     "shell.execute_reply": "2020-07-17T15:37:46.655008Z"
    }
   },
   "outputs": [
    {
     "name": "stdout",
     "output_type": "stream",
     "text": [
      "[2, 4, 6, 8, 10, 2, 4, 6, 8, 10]\n"
     ]
    }
   ],
   "source": [
    "print(evens * 2)"
   ]
  },
  {
   "cell_type": "markdown",
   "metadata": {},
   "source": [
    "But for a NumPy array:"
   ]
  },
  {
   "cell_type": "code",
   "execution_count": 41,
   "metadata": {
    "execution": {
     "iopub.execute_input": "2020-07-17T15:37:46.658133Z",
     "iopub.status.busy": "2020-07-17T15:37:46.657583Z",
     "iopub.status.idle": "2020-07-17T15:37:46.659481Z",
     "shell.execute_reply": "2020-07-17T15:37:46.659861Z"
    }
   },
   "outputs": [
    {
     "name": "stdout",
     "output_type": "stream",
     "text": [
      "[ 4  8 12 16 20]\n"
     ]
    }
   ],
   "source": [
    "print(np_evens * 2)"
   ]
  },
  {
   "cell_type": "markdown",
   "metadata": {},
   "source": [
    "### 2D arrays\n",
    "\n",
    "A NumPy array with two dimensions (rows and columns).\n",
    "\n",
    "Can create from a regular python list of lists (note the two lists are inside another list/set of square brackets):"
   ]
  },
  {
   "cell_type": "code",
   "execution_count": 42,
   "metadata": {
    "execution": {
     "iopub.execute_input": "2020-07-17T15:37:46.663009Z",
     "iopub.status.busy": "2020-07-17T15:37:46.662473Z",
     "iopub.status.idle": "2020-07-17T15:37:46.664095Z",
     "shell.execute_reply": "2020-07-17T15:37:46.664545Z"
    }
   },
   "outputs": [],
   "source": [
    "my_2d_array = np.array([[0, 1, 2], [3, 4, 5]])"
   ]
  },
  {
   "cell_type": "code",
   "execution_count": 43,
   "metadata": {
    "execution": {
     "iopub.execute_input": "2020-07-17T15:37:46.667456Z",
     "iopub.status.busy": "2020-07-17T15:37:46.666936Z",
     "iopub.status.idle": "2020-07-17T15:37:46.669064Z",
     "shell.execute_reply": "2020-07-17T15:37:46.669401Z"
    }
   },
   "outputs": [
    {
     "data": {
      "text/plain": [
       "array([[0, 1, 2],\n",
       "       [3, 4, 5]])"
      ]
     },
     "execution_count": 43,
     "metadata": {},
     "output_type": "execute_result"
    }
   ],
   "source": [
    "my_2d_array"
   ]
  },
  {
   "cell_type": "markdown",
   "metadata": {},
   "source": [
    "#### Indexing 2D Arrays:\n",
    "Specify in format [*rows*, *columns*]. As with lists, `:` selects entire row/column, and you can use negative indexing"
   ]
  },
  {
   "cell_type": "code",
   "execution_count": 44,
   "metadata": {
    "execution": {
     "iopub.execute_input": "2020-07-17T15:37:46.672194Z",
     "iopub.status.busy": "2020-07-17T15:37:46.671709Z",
     "iopub.status.idle": "2020-07-17T15:37:46.673724Z",
     "shell.execute_reply": "2020-07-17T15:37:46.674058Z"
    }
   },
   "outputs": [
    {
     "data": {
      "text/plain": [
       "array([0, 1, 2])"
      ]
     },
     "execution_count": 44,
     "metadata": {},
     "output_type": "execute_result"
    }
   ],
   "source": [
    "my_2d_array[0, :]"
   ]
  },
  {
   "cell_type": "code",
   "execution_count": 45,
   "metadata": {
    "execution": {
     "iopub.execute_input": "2020-07-17T15:37:46.677010Z",
     "iopub.status.busy": "2020-07-17T15:37:46.676426Z",
     "iopub.status.idle": "2020-07-17T15:37:46.678765Z",
     "shell.execute_reply": "2020-07-17T15:37:46.678427Z"
    }
   },
   "outputs": [
    {
     "data": {
      "text/plain": [
       "array([3, 4, 5])"
      ]
     },
     "execution_count": 45,
     "metadata": {},
     "output_type": "execute_result"
    }
   ],
   "source": [
    "my_2d_array[1, :]"
   ]
  },
  {
   "cell_type": "markdown",
   "metadata": {},
   "source": [
    "Column only:"
   ]
  },
  {
   "cell_type": "code",
   "execution_count": 46,
   "metadata": {
    "execution": {
     "iopub.execute_input": "2020-07-17T15:37:46.681608Z",
     "iopub.status.busy": "2020-07-17T15:37:46.681114Z",
     "iopub.status.idle": "2020-07-17T15:37:46.683269Z",
     "shell.execute_reply": "2020-07-17T15:37:46.683601Z"
    }
   },
   "outputs": [
    {
     "data": {
      "text/plain": [
       "array([0, 3])"
      ]
     },
     "execution_count": 46,
     "metadata": {},
     "output_type": "execute_result"
    }
   ],
   "source": [
    "my_2d_array[:, 0]"
   ]
  },
  {
   "cell_type": "markdown",
   "metadata": {},
   "source": [
    "Last coumn:"
   ]
  },
  {
   "cell_type": "code",
   "execution_count": 47,
   "metadata": {
    "execution": {
     "iopub.execute_input": "2020-07-17T15:37:46.686405Z",
     "iopub.status.busy": "2020-07-17T15:37:46.685894Z",
     "iopub.status.idle": "2020-07-17T15:37:46.687842Z",
     "shell.execute_reply": "2020-07-17T15:37:46.688237Z"
    }
   },
   "outputs": [
    {
     "data": {
      "text/plain": [
       "array([2, 5])"
      ]
     },
     "execution_count": 47,
     "metadata": {},
     "output_type": "execute_result"
    }
   ],
   "source": [
    "my_2d_array[:, -1]"
   ]
  },
  {
   "cell_type": "markdown",
   "metadata": {},
   "source": [
    "Select single value by specifying a particular row and column:"
   ]
  },
  {
   "cell_type": "code",
   "execution_count": 48,
   "metadata": {
    "execution": {
     "iopub.execute_input": "2020-07-17T15:37:46.691176Z",
     "iopub.status.busy": "2020-07-17T15:37:46.690629Z",
     "iopub.status.idle": "2020-07-17T15:37:46.692713Z",
     "shell.execute_reply": "2020-07-17T15:37:46.693086Z"
    }
   },
   "outputs": [
    {
     "data": {
      "text/plain": [
       "4"
      ]
     },
     "execution_count": 48,
     "metadata": {},
     "output_type": "execute_result"
    }
   ],
   "source": [
    "my_2d_array[1, 1]"
   ]
  },
  {
   "cell_type": "markdown",
   "metadata": {},
   "source": [
    "`.shape` *attribute* gives shape (rows, cols) of 2D numpy array:"
   ]
  },
  {
   "cell_type": "code",
   "execution_count": 49,
   "metadata": {
    "execution": {
     "iopub.execute_input": "2020-07-17T15:37:46.696299Z",
     "iopub.status.busy": "2020-07-17T15:37:46.695680Z",
     "iopub.status.idle": "2020-07-17T15:37:46.697906Z",
     "shell.execute_reply": "2020-07-17T15:37:46.698318Z"
    }
   },
   "outputs": [
    {
     "data": {
      "text/plain": [
       "(2, 3)"
      ]
     },
     "execution_count": 49,
     "metadata": {},
     "output_type": "execute_result"
    }
   ],
   "source": [
    "my_2d_array.shape"
   ]
  },
  {
   "cell_type": "markdown",
   "metadata": {},
   "source": [
    "### NumPy Array Functions"
   ]
  },
  {
   "cell_type": "code",
   "execution_count": 50,
   "metadata": {
    "execution": {
     "iopub.execute_input": "2020-07-17T15:37:46.702121Z",
     "iopub.status.busy": "2020-07-17T15:37:46.701501Z",
     "iopub.status.idle": "2020-07-17T15:37:46.703817Z",
     "shell.execute_reply": "2020-07-17T15:37:46.704199Z"
    }
   },
   "outputs": [
    {
     "data": {
      "text/plain": [
       "array([0.54846914, 0.40279613, 0.22097794, 0.86686813, 0.00283336,\n",
       "       0.18554762, 0.60126708, 0.45025928, 0.58290028, 0.29150508])"
      ]
     },
     "execution_count": 50,
     "metadata": {},
     "output_type": "execute_result"
    }
   ],
   "source": [
    "np.random.rand(10)"
   ]
  },
  {
   "cell_type": "code",
   "execution_count": 51,
   "metadata": {
    "execution": {
     "iopub.execute_input": "2020-07-17T15:37:46.707652Z",
     "iopub.status.busy": "2020-07-17T15:37:46.707021Z",
     "iopub.status.idle": "2020-07-17T15:37:46.709192Z",
     "shell.execute_reply": "2020-07-17T15:37:46.709573Z"
    }
   },
   "outputs": [
    {
     "name": "stdout",
     "output_type": "stream",
     "text": [
      "[0.19443546 0.66458172 0.05963899 0.44127754 0.90481689 0.63539968\n",
      " 0.25654003 0.37124713 0.11661143 0.54307343]\n"
     ]
    }
   ],
   "source": [
    "# Some random numbers:\n",
    "my_data = np.random.rand(10)\n",
    "print(my_data)"
   ]
  },
  {
   "cell_type": "markdown",
   "metadata": {},
   "source": [
    "#### Mean"
   ]
  },
  {
   "cell_type": "code",
   "execution_count": 52,
   "metadata": {
    "execution": {
     "iopub.execute_input": "2020-07-17T15:37:46.712933Z",
     "iopub.status.busy": "2020-07-17T15:37:46.712386Z",
     "iopub.status.idle": "2020-07-17T15:37:46.714510Z",
     "shell.execute_reply": "2020-07-17T15:37:46.714900Z"
    }
   },
   "outputs": [
    {
     "data": {
      "text/plain": [
       "0.41876222991282114"
      ]
     },
     "execution_count": 52,
     "metadata": {},
     "output_type": "execute_result"
    }
   ],
   "source": [
    "np.mean(my_data)"
   ]
  },
  {
   "cell_type": "markdown",
   "metadata": {},
   "source": [
    "#### Median"
   ]
  },
  {
   "cell_type": "code",
   "execution_count": 53,
   "metadata": {
    "execution": {
     "iopub.execute_input": "2020-07-17T15:37:46.718179Z",
     "iopub.status.busy": "2020-07-17T15:37:46.717634Z",
     "iopub.status.idle": "2020-07-17T15:37:46.719720Z",
     "shell.execute_reply": "2020-07-17T15:37:46.720168Z"
    }
   },
   "outputs": [
    {
     "data": {
      "text/plain": [
       "0.4062623305970324"
      ]
     },
     "execution_count": 53,
     "metadata": {},
     "output_type": "execute_result"
    }
   ],
   "source": [
    "np.median(my_data)"
   ]
  },
  {
   "cell_type": "markdown",
   "metadata": {},
   "source": [
    "#### Standard Deviation"
   ]
  },
  {
   "cell_type": "code",
   "execution_count": 54,
   "metadata": {
    "execution": {
     "iopub.execute_input": "2020-07-17T15:37:46.723337Z",
     "iopub.status.busy": "2020-07-17T15:37:46.722719Z",
     "iopub.status.idle": "2020-07-17T15:37:46.724770Z",
     "shell.execute_reply": "2020-07-17T15:37:46.725165Z"
    }
   },
   "outputs": [
    {
     "data": {
      "text/plain": [
       "0.25665719999843495"
      ]
     },
     "execution_count": 54,
     "metadata": {},
     "output_type": "execute_result"
    }
   ],
   "source": [
    "np.std(my_data)"
   ]
  },
  {
   "cell_type": "markdown",
   "metadata": {},
   "source": [
    "If you don't like long numbers, you can apply the .round() method to the output:"
   ]
  },
  {
   "cell_type": "code",
   "execution_count": 55,
   "metadata": {
    "execution": {
     "iopub.execute_input": "2020-07-17T15:37:46.728300Z",
     "iopub.status.busy": "2020-07-17T15:37:46.727691Z",
     "iopub.status.idle": "2020-07-17T15:37:46.729674Z",
     "shell.execute_reply": "2020-07-17T15:37:46.730054Z"
    }
   },
   "outputs": [
    {
     "name": "stdout",
     "output_type": "stream",
     "text": [
      "0.257\n"
     ]
    }
   ],
   "source": [
    "std_dev = np.std(my_data).round(3)\n",
    "print(std_dev)"
   ]
  },
  {
   "cell_type": "markdown",
   "metadata": {},
   "source": [
    "#### Correlation \n",
    "\n",
    "Between two arrays:"
   ]
  },
  {
   "cell_type": "code",
   "execution_count": 56,
   "metadata": {
    "execution": {
     "iopub.execute_input": "2020-07-17T15:37:46.733523Z",
     "iopub.status.busy": "2020-07-17T15:37:46.732988Z",
     "iopub.status.idle": "2020-07-17T15:37:46.734807Z",
     "shell.execute_reply": "2020-07-17T15:37:46.735158Z"
    }
   },
   "outputs": [],
   "source": [
    "# Final grades\n",
    "grades = np.array([67, 74, 44, 92, 88])\n",
    "\n",
    "# hours per week spent working on course\n",
    "hours = np.array([5.2, 7, 2.0, 9.25, 7.5])"
   ]
  },
  {
   "cell_type": "markdown",
   "metadata": {},
   "source": [
    "Does more hours spent on the course translate into a better grade?"
   ]
  },
  {
   "cell_type": "code",
   "execution_count": 57,
   "metadata": {
    "execution": {
     "iopub.execute_input": "2020-07-17T15:37:46.738214Z",
     "iopub.status.busy": "2020-07-17T15:37:46.737674Z",
     "iopub.status.idle": "2020-07-17T15:37:46.742932Z",
     "shell.execute_reply": "2020-07-17T15:37:46.743314Z"
    }
   },
   "outputs": [
    {
     "data": {
      "text/plain": [
       "array([[1.        , 0.97877197],\n",
       "       [0.97877197, 1.        ]])"
      ]
     },
     "execution_count": 57,
     "metadata": {},
     "output_type": "execute_result"
    }
   ],
   "source": [
    "np.corrcoef(grades, hours)"
   ]
  },
  {
   "cell_type": "markdown",
   "metadata": {},
   "source": [
    "Yes! The correlation is positive and strong (approximately .979)"
   ]
  }
 ],
 "metadata": {
  "kernelspec": {
   "display_name": "Python 3",
   "language": "python",
   "name": "python3"
  },
  "language_info": {
   "codemirror_mode": {
    "name": "ipython",
    "version": 3
   },
   "file_extension": ".py",
   "mimetype": "text/x-python",
   "name": "python",
   "nbconvert_exporter": "python",
   "pygments_lexer": "ipython3",
   "version": "3.7.7"
  }
 },
 "nbformat": 4,
 "nbformat_minor": 4
}