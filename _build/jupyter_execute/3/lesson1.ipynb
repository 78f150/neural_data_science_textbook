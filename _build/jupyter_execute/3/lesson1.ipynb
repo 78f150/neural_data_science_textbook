{
 "cells": [
  {
   "cell_type": "markdown",
   "metadata": {},
   "source": [
    "# Lesson 1: Introduction to Python\n",
    "\n",
    "These notes are based on the sequence that concepts are introduced in the DataCamp lesson of the same name. They are most useful as a reference, after you've completed the DataCamp lesson. They are not intended to replace that lesson.\n",
    "\n",
    "[View this lesson on DataCamp](https://learn.datacamp.com/courses/intro-to-python-for-data-science )"
   ]
  },
  {
   "cell_type": "markdown",
   "metadata": {},
   "source": [
    "## Chapter 1\n",
    "This chapter introduces the basics of Python - simple math and variable types"
   ]
  },
  {
   "cell_type": "markdown",
   "metadata": {},
   "source": [
    "### Basic Operations\n",
    "\n",
    "| Operator |  Operation                                                   |\n",
    "|----------|--------------------------------------------------------------|\n",
    "| `#`      |  add comment                                                 |\n",
    "| `+`      |  addition                                                    |\n",
    "| `-`      |  subtraction                                                 |\n",
    "| `*`      |  multiplication                                              |\n",
    "| `/`      |  division                                                    |\n",
    "| `**`       |  exponentiation                                              |\n",
    "| `%`        |  modulo; returns remainder of division (e.g., `18 % 7` equals `4`) |\n",
    "| `=`        |  variable assignment                                         |\n",
    "| `==`       |  equal to                                                    |\n",
    "| `!=`       |  not equal to                                                |\n",
    "\n"
   ]
  },
  {
   "cell_type": "markdown",
   "metadata": {},
   "source": [
    "### Variable Types\n",
    "\n",
    "|                                          |                                                                      |\n",
    "|------------------------------------------|----------------------------------------------------------------------|\n",
    "| integer                                  |  number without fractional component (no decimal point)                                      |\n",
    "| float                                    |  number with both integer and fractional part separated by a decimal |\n",
    "| string  | text; enclose in `' '` or `\" \"`    |\n",
    "| boolean                                  |  logical values; can only be `True` or `False`                       |\n",
    "|list | Can contain many different types. Create with `[]`. Separate items with commas. |\n",
    "\n"
   ]
  },
  {
   "cell_type": "markdown",
   "metadata": {},
   "source": [
    "### Functions\n",
    "|           |                                       |\n",
    "|-----------|---------------------------------------|\n",
    "| `print()` |   outputs what's enclosed in `()`     |\n",
    "| `type()`  |  gives the type of a defined variable |\n",
    "| `int()`   |  converts a value into an integer     |\n",
    "| `float()` |  converts a value into a float        |\n",
    "| `str()`   |  converts a value into a string       |\n",
    "| `bool()`  |  converts a value into a boolean      |\n",
    "| `list()`  |  converts a value or values into a list |"
   ]
  },
  {
   "cell_type": "markdown",
   "metadata": {},
   "source": [
    "## Chapter 2\n",
    "This chapter covers everything to do with lists - creating lists, subsetting, and manipulation.\n",
    "\n",
    "Lists are ordered sets of items. \n",
    "\n",
    "### Working with Lists\n",
    "Create a list:"
   ]
  },
  {
   "cell_type": "code",
   "execution_count": 1,
   "metadata": {
    "execution": {
     "iopub.execute_input": "2020-07-18T21:07:32.472134Z",
     "iopub.status.busy": "2020-07-18T21:07:32.471111Z",
     "iopub.status.idle": "2020-07-18T21:07:32.473366Z",
     "shell.execute_reply": "2020-07-18T21:07:32.473886Z"
    }
   },
   "outputs": [],
   "source": [
    "odd = [1, 3, 5, 7, 9]"
   ]
  },
  {
   "cell_type": "markdown",
   "metadata": {},
   "source": [
    "First index (position) in list is 0, not 1:"
   ]
  },
  {
   "cell_type": "code",
   "execution_count": 2,
   "metadata": {
    "execution": {
     "iopub.execute_input": "2020-07-18T21:07:32.482045Z",
     "iopub.status.busy": "2020-07-18T21:07:32.481388Z",
     "iopub.status.idle": "2020-07-18T21:07:32.483758Z",
     "shell.execute_reply": "2020-07-18T21:07:32.484161Z"
    }
   },
   "outputs": [
    {
     "data": {
      "text/plain": [
       "3"
      ]
     },
     "execution_count": 2,
     "metadata": {},
     "output_type": "execute_result"
    }
   ],
   "source": [
    "odd[1]"
   ]
  },
  {
   "cell_type": "code",
   "execution_count": 3,
   "metadata": {
    "execution": {
     "iopub.execute_input": "2020-07-18T21:07:32.487353Z",
     "iopub.status.busy": "2020-07-18T21:07:32.486798Z",
     "iopub.status.idle": "2020-07-18T21:07:32.488967Z",
     "shell.execute_reply": "2020-07-18T21:07:32.489374Z"
    }
   },
   "outputs": [
    {
     "data": {
      "text/plain": [
       "1"
      ]
     },
     "execution_count": 3,
     "metadata": {},
     "output_type": "execute_result"
    }
   ],
   "source": [
    "odd[0]"
   ]
  },
  {
   "cell_type": "markdown",
   "metadata": {},
   "source": [
    "Negative indexing works from the end of the list. "
   ]
  },
  {
   "cell_type": "code",
   "execution_count": 4,
   "metadata": {
    "execution": {
     "iopub.execute_input": "2020-07-18T21:07:32.492512Z",
     "iopub.status.busy": "2020-07-18T21:07:32.491957Z",
     "iopub.status.idle": "2020-07-18T21:07:32.494037Z",
     "shell.execute_reply": "2020-07-18T21:07:32.494423Z"
    }
   },
   "outputs": [
    {
     "data": {
      "text/plain": [
       "9"
      ]
     },
     "execution_count": 4,
     "metadata": {},
     "output_type": "execute_result"
    }
   ],
   "source": [
    "odd[-1]"
   ]
  },
  {
   "cell_type": "markdown",
   "metadata": {},
   "source": [
    "#### Slicing\n",
    "Specify a range of indices inside square brackets: [inclusive:exclusive]"
   ]
  },
  {
   "cell_type": "code",
   "execution_count": 5,
   "metadata": {
    "execution": {
     "iopub.execute_input": "2020-07-18T21:07:32.497565Z",
     "iopub.status.busy": "2020-07-18T21:07:32.497019Z",
     "iopub.status.idle": "2020-07-18T21:07:32.499235Z",
     "shell.execute_reply": "2020-07-18T21:07:32.499623Z"
    }
   },
   "outputs": [
    {
     "data": {
      "text/plain": [
       "[1, 3, 5, 7, 9]"
      ]
     },
     "execution_count": 5,
     "metadata": {},
     "output_type": "execute_result"
    }
   ],
   "source": [
    "odd[0:5]"
   ]
  },
  {
   "cell_type": "code",
   "execution_count": 6,
   "metadata": {
    "execution": {
     "iopub.execute_input": "2020-07-18T21:07:32.502746Z",
     "iopub.status.busy": "2020-07-18T21:07:32.502198Z",
     "iopub.status.idle": "2020-07-18T21:07:32.504253Z",
     "shell.execute_reply": "2020-07-18T21:07:32.504640Z"
    }
   },
   "outputs": [
    {
     "data": {
      "text/plain": [
       "[3, 5]"
      ]
     },
     "execution_count": 6,
     "metadata": {},
     "output_type": "execute_result"
    }
   ],
   "source": [
    "odd[1:3]"
   ]
  },
  {
   "cell_type": "code",
   "execution_count": 7,
   "metadata": {
    "execution": {
     "iopub.execute_input": "2020-07-18T21:07:32.507748Z",
     "iopub.status.busy": "2020-07-18T21:07:32.507159Z",
     "iopub.status.idle": "2020-07-18T21:07:32.509284Z",
     "shell.execute_reply": "2020-07-18T21:07:32.509669Z"
    }
   },
   "outputs": [
    {
     "data": {
      "text/plain": [
       "[1, 3, 5, 7, 9]"
      ]
     },
     "execution_count": 7,
     "metadata": {},
     "output_type": "execute_result"
    }
   ],
   "source": [
    "odd[:]"
   ]
  },
  {
   "cell_type": "code",
   "execution_count": 8,
   "metadata": {
    "execution": {
     "iopub.execute_input": "2020-07-18T21:07:32.512767Z",
     "iopub.status.busy": "2020-07-18T21:07:32.512187Z",
     "iopub.status.idle": "2020-07-18T21:07:32.514293Z",
     "shell.execute_reply": "2020-07-18T21:07:32.514738Z"
    }
   },
   "outputs": [
    {
     "data": {
      "text/plain": [
       "[1, 3, 5]"
      ]
     },
     "execution_count": 8,
     "metadata": {},
     "output_type": "execute_result"
    }
   ],
   "source": [
    "odd[:3]"
   ]
  },
  {
   "cell_type": "code",
   "execution_count": 9,
   "metadata": {
    "execution": {
     "iopub.execute_input": "2020-07-18T21:07:32.517751Z",
     "iopub.status.busy": "2020-07-18T21:07:32.517217Z",
     "iopub.status.idle": "2020-07-18T21:07:32.519297Z",
     "shell.execute_reply": "2020-07-18T21:07:32.519636Z"
    }
   },
   "outputs": [
    {
     "data": {
      "text/plain": [
       "[7, 9]"
      ]
     },
     "execution_count": 9,
     "metadata": {},
     "output_type": "execute_result"
    }
   ],
   "source": [
    "odd[3:]"
   ]
  },
  {
   "cell_type": "markdown",
   "metadata": {},
   "source": [
    "#### List Manipulation\n",
    "Replacing list elements: subset list and assign a new value using =\n"
   ]
  },
  {
   "cell_type": "code",
   "execution_count": 10,
   "metadata": {
    "execution": {
     "iopub.execute_input": "2020-07-18T21:07:32.522594Z",
     "iopub.status.busy": "2020-07-18T21:07:32.522087Z",
     "iopub.status.idle": "2020-07-18T21:07:32.524025Z",
     "shell.execute_reply": "2020-07-18T21:07:32.524418Z"
    }
   },
   "outputs": [
    {
     "data": {
      "text/plain": [
       "[2, 3, 5, 7, 9]"
      ]
     },
     "execution_count": 10,
     "metadata": {},
     "output_type": "execute_result"
    }
   ],
   "source": [
    "odd[0] = 2\n",
    "odd[0:5]"
   ]
  },
  {
   "cell_type": "markdown",
   "metadata": {},
   "source": [
    "Extend a list, use + operator to add elements\n"
   ]
  },
  {
   "cell_type": "code",
   "execution_count": 11,
   "metadata": {
    "execution": {
     "iopub.execute_input": "2020-07-18T21:07:32.527382Z",
     "iopub.status.busy": "2020-07-18T21:07:32.526848Z",
     "iopub.status.idle": "2020-07-18T21:07:32.528686Z",
     "shell.execute_reply": "2020-07-18T21:07:32.529020Z"
    }
   },
   "outputs": [
    {
     "data": {
      "text/plain": [
       "[2, 3, 5, 7, 9, 11]"
      ]
     },
     "execution_count": 11,
     "metadata": {},
     "output_type": "execute_result"
    }
   ],
   "source": [
    "odd + [11]"
   ]
  },
  {
   "cell_type": "code",
   "execution_count": 12,
   "metadata": {
    "execution": {
     "iopub.execute_input": "2020-07-18T21:07:32.532316Z",
     "iopub.status.busy": "2020-07-18T21:07:32.531833Z",
     "iopub.status.idle": "2020-07-18T21:07:32.534435Z",
     "shell.execute_reply": "2020-07-18T21:07:32.533823Z"
    }
   },
   "outputs": [
    {
     "data": {
      "text/plain": [
       "[1, 3, 5, 7, 9, 2, 4, 6, 8, 10]"
      ]
     },
     "execution_count": 12,
     "metadata": {},
     "output_type": "execute_result"
    }
   ],
   "source": [
    "odd  = [1, 3, 5, 7, 9]\n",
    "even = [2, 4, 6, 8, 10]\n",
    "\n",
    "all_numbers = odd + even\n",
    "all_numbers"
   ]
  },
  {
   "cell_type": "markdown",
   "metadata": {},
   "source": [
    "Sort a list:"
   ]
  },
  {
   "cell_type": "code",
   "execution_count": 13,
   "metadata": {
    "execution": {
     "iopub.execute_input": "2020-07-18T21:07:32.537672Z",
     "iopub.status.busy": "2020-07-18T21:07:32.537147Z",
     "iopub.status.idle": "2020-07-18T21:07:32.538970Z",
     "shell.execute_reply": "2020-07-18T21:07:32.539303Z"
    }
   },
   "outputs": [
    {
     "data": {
      "text/plain": [
       "[1, 2, 3, 4, 5, 6, 7, 8, 9, 10]"
      ]
     },
     "execution_count": 13,
     "metadata": {},
     "output_type": "execute_result"
    }
   ],
   "source": [
    "all_numbers.sort()\n",
    "all_numbers"
   ]
  },
  {
   "cell_type": "markdown",
   "metadata": {},
   "source": [
    "Delete list items:"
   ]
  },
  {
   "cell_type": "code",
   "execution_count": 14,
   "metadata": {
    "execution": {
     "iopub.execute_input": "2020-07-18T21:07:32.542315Z",
     "iopub.status.busy": "2020-07-18T21:07:32.541797Z",
     "iopub.status.idle": "2020-07-18T21:07:32.543770Z",
     "shell.execute_reply": "2020-07-18T21:07:32.544109Z"
    }
   },
   "outputs": [
    {
     "data": {
      "text/plain": [
       "[1, 2, 3, 4, 5, 6, 7, 8, 9]"
      ]
     },
     "execution_count": 14,
     "metadata": {},
     "output_type": "execute_result"
    }
   ],
   "source": [
    "del(all_numbers[9])  # remember 0-indexing!\n",
    "all_numbers"
   ]
  },
  {
   "cell_type": "markdown",
   "metadata": {},
   "source": [
    "Copying a list"
   ]
  },
  {
   "cell_type": "code",
   "execution_count": 15,
   "metadata": {
    "execution": {
     "iopub.execute_input": "2020-07-18T21:07:32.546597Z",
     "iopub.status.busy": "2020-07-18T21:07:32.546121Z",
     "iopub.status.idle": "2020-07-18T21:07:32.547637Z",
     "shell.execute_reply": "2020-07-18T21:07:32.547975Z"
    }
   },
   "outputs": [],
   "source": [
    "my_numbers = all_numbers.copy()"
   ]
  },
  {
   "cell_type": "code",
   "execution_count": 16,
   "metadata": {
    "execution": {
     "iopub.execute_input": "2020-07-18T21:07:32.551211Z",
     "iopub.status.busy": "2020-07-18T21:07:32.550569Z",
     "iopub.status.idle": "2020-07-18T21:07:32.552843Z",
     "shell.execute_reply": "2020-07-18T21:07:32.553197Z"
    }
   },
   "outputs": [
    {
     "data": {
      "text/plain": [
       "[1, 2, 3, 4, 5, 6, 7, 8, 9]"
      ]
     },
     "execution_count": 16,
     "metadata": {},
     "output_type": "execute_result"
    }
   ],
   "source": [
    "my_numbers"
   ]
  },
  {
   "cell_type": "markdown",
   "metadata": {},
   "source": [
    "You can also use the `list` function to make a list from another list:"
   ]
  },
  {
   "cell_type": "code",
   "execution_count": 17,
   "metadata": {
    "execution": {
     "iopub.execute_input": "2020-07-18T21:07:32.555680Z",
     "iopub.status.busy": "2020-07-18T21:07:32.555211Z",
     "iopub.status.idle": "2020-07-18T21:07:32.556687Z",
     "shell.execute_reply": "2020-07-18T21:07:32.557027Z"
    }
   },
   "outputs": [],
   "source": [
    "some_numbers = list(all_numbers)"
   ]
  },
  {
   "cell_type": "code",
   "execution_count": 18,
   "metadata": {
    "execution": {
     "iopub.execute_input": "2020-07-18T21:07:32.559689Z",
     "iopub.status.busy": "2020-07-18T21:07:32.559185Z",
     "iopub.status.idle": "2020-07-18T21:07:32.561059Z",
     "shell.execute_reply": "2020-07-18T21:07:32.561394Z"
    }
   },
   "outputs": [
    {
     "data": {
      "text/plain": [
       "[1, 2, 3, 4, 5, 6, 7, 8, 9]"
      ]
     },
     "execution_count": 18,
     "metadata": {},
     "output_type": "execute_result"
    }
   ],
   "source": [
    "some_numbers"
   ]
  },
  {
   "cell_type": "markdown",
   "metadata": {},
   "source": [
    "Be careful not to do this. This \"points\" the new list, `my_numbers_nono`, at the original list, `all_numbers`"
   ]
  },
  {
   "cell_type": "code",
   "execution_count": 19,
   "metadata": {
    "execution": {
     "iopub.execute_input": "2020-07-18T21:07:32.564329Z",
     "iopub.status.busy": "2020-07-18T21:07:32.563665Z",
     "iopub.status.idle": "2020-07-18T21:07:32.566373Z",
     "shell.execute_reply": "2020-07-18T21:07:32.566718Z"
    }
   },
   "outputs": [
    {
     "data": {
      "text/plain": [
       "[1, 2, 3, 4, 5, 6, 7, 8, 9]"
      ]
     },
     "execution_count": 19,
     "metadata": {},
     "output_type": "execute_result"
    }
   ],
   "source": [
    "my_numbers_nono = all_numbers\n",
    "my_numbers_nono"
   ]
  },
  {
   "cell_type": "markdown",
   "metadata": {},
   "source": [
    "So when you modify `all_numbers`, you also change `my_numbers_nono`"
   ]
  },
  {
   "cell_type": "code",
   "execution_count": 20,
   "metadata": {
    "execution": {
     "iopub.execute_input": "2020-07-18T21:07:32.569976Z",
     "iopub.status.busy": "2020-07-18T21:07:32.569332Z",
     "iopub.status.idle": "2020-07-18T21:07:32.571596Z",
     "shell.execute_reply": "2020-07-18T21:07:32.571954Z"
    }
   },
   "outputs": [
    {
     "data": {
      "text/plain": [
       "[1, 2, 3, 4, 5, 6, 7, 8]"
      ]
     },
     "execution_count": 20,
     "metadata": {},
     "output_type": "execute_result"
    }
   ],
   "source": [
    "del(all_numbers[8])\n",
    "my_numbers_nono"
   ]
  },
  {
   "cell_type": "markdown",
   "metadata": {},
   "source": [
    "## Chapter 3\n",
    "\n",
    " This chapter introduces a variety of functions and methods, as well as Python packages"
   ]
  },
  {
   "cell_type": "code",
   "execution_count": 21,
   "metadata": {
    "execution": {
     "iopub.execute_input": "2020-07-18T21:07:32.575031Z",
     "iopub.status.busy": "2020-07-18T21:07:32.574551Z",
     "iopub.status.idle": "2020-07-18T21:07:32.576082Z",
     "shell.execute_reply": "2020-07-18T21:07:32.576567Z"
    }
   },
   "outputs": [],
   "source": [
    "my_list = [10, 9, 8, 7, 6, 5, 4, 3, 2, 1]"
   ]
  },
  {
   "cell_type": "markdown",
   "metadata": {},
   "source": [
    "### Functions"
   ]
  },
  {
   "cell_type": "markdown",
   "metadata": {},
   "source": [
    "#### Max/min values in list"
   ]
  },
  {
   "cell_type": "code",
   "execution_count": 22,
   "metadata": {
    "execution": {
     "iopub.execute_input": "2020-07-18T21:07:32.579231Z",
     "iopub.status.busy": "2020-07-18T21:07:32.578746Z",
     "iopub.status.idle": "2020-07-18T21:07:32.580667Z",
     "shell.execute_reply": "2020-07-18T21:07:32.581062Z"
    }
   },
   "outputs": [
    {
     "data": {
      "text/plain": [
       "10"
      ]
     },
     "execution_count": 22,
     "metadata": {},
     "output_type": "execute_result"
    }
   ],
   "source": [
    "max(my_list)"
   ]
  },
  {
   "cell_type": "code",
   "execution_count": 23,
   "metadata": {
    "execution": {
     "iopub.execute_input": "2020-07-18T21:07:32.583835Z",
     "iopub.status.busy": "2020-07-18T21:07:32.583266Z",
     "iopub.status.idle": "2020-07-18T21:07:32.585180Z",
     "shell.execute_reply": "2020-07-18T21:07:32.585578Z"
    }
   },
   "outputs": [
    {
     "data": {
      "text/plain": [
       "1"
      ]
     },
     "execution_count": 23,
     "metadata": {},
     "output_type": "execute_result"
    }
   ],
   "source": [
    "min(my_list)"
   ]
  },
  {
   "cell_type": "markdown",
   "metadata": {},
   "source": [
    "#### Rounding"
   ]
  },
  {
   "cell_type": "code",
   "execution_count": 24,
   "metadata": {
    "execution": {
     "iopub.execute_input": "2020-07-18T21:07:32.588257Z",
     "iopub.status.busy": "2020-07-18T21:07:32.587783Z",
     "iopub.status.idle": "2020-07-18T21:07:32.589830Z",
     "shell.execute_reply": "2020-07-18T21:07:32.590175Z"
    }
   },
   "outputs": [
    {
     "data": {
      "text/plain": [
       "3.14"
      ]
     },
     "execution_count": 24,
     "metadata": {},
     "output_type": "execute_result"
    }
   ],
   "source": [
    "pi = 3.14159265359\n",
    "round(pi, 2)"
   ]
  },
  {
   "cell_type": "markdown",
   "metadata": {},
   "source": [
    "#### Length of list"
   ]
  },
  {
   "cell_type": "code",
   "execution_count": 25,
   "metadata": {
    "execution": {
     "iopub.execute_input": "2020-07-18T21:07:32.592859Z",
     "iopub.status.busy": "2020-07-18T21:07:32.592387Z",
     "iopub.status.idle": "2020-07-18T21:07:32.594528Z",
     "shell.execute_reply": "2020-07-18T21:07:32.595034Z"
    }
   },
   "outputs": [
    {
     "data": {
      "text/plain": [
       "10"
      ]
     },
     "execution_count": 25,
     "metadata": {},
     "output_type": "execute_result"
    }
   ],
   "source": [
    "len(my_list)"
   ]
  },
  {
   "cell_type": "markdown",
   "metadata": {},
   "source": [
    "#### Help"
   ]
  },
  {
   "cell_type": "code",
   "execution_count": 26,
   "metadata": {
    "execution": {
     "iopub.execute_input": "2020-07-18T21:07:32.630625Z",
     "iopub.status.busy": "2020-07-18T21:07:32.630143Z",
     "iopub.status.idle": "2020-07-18T21:07:32.634068Z",
     "shell.execute_reply": "2020-07-18T21:07:32.634433Z"
    }
   },
   "outputs": [],
   "source": [
    "?round"
   ]
  },
  {
   "cell_type": "markdown",
   "metadata": {},
   "source": [
    "#### Sorting"
   ]
  },
  {
   "cell_type": "code",
   "execution_count": 27,
   "metadata": {
    "execution": {
     "iopub.execute_input": "2020-07-18T21:07:32.637475Z",
     "iopub.status.busy": "2020-07-18T21:07:32.637012Z",
     "iopub.status.idle": "2020-07-18T21:07:32.639015Z",
     "shell.execute_reply": "2020-07-18T21:07:32.639399Z"
    }
   },
   "outputs": [
    {
     "data": {
      "text/plain": [
       "[1, 2, 3, 4, 5, 6, 7, 8, 9, 10]"
      ]
     },
     "execution_count": 27,
     "metadata": {},
     "output_type": "execute_result"
    }
   ],
   "source": [
    "going_up = sorted(my_list)\n",
    "going_up"
   ]
  },
  {
   "cell_type": "code",
   "execution_count": 28,
   "metadata": {
    "execution": {
     "iopub.execute_input": "2020-07-18T21:07:32.642314Z",
     "iopub.status.busy": "2020-07-18T21:07:32.641802Z",
     "iopub.status.idle": "2020-07-18T21:07:32.643618Z",
     "shell.execute_reply": "2020-07-18T21:07:32.644089Z"
    }
   },
   "outputs": [
    {
     "data": {
      "text/plain": [
       "[10, 9, 8, 7, 6, 5, 4, 3, 2, 1]"
      ]
     },
     "execution_count": 28,
     "metadata": {},
     "output_type": "execute_result"
    }
   ],
   "source": [
    "going_down = sorted(going_up, reverse=True)\n",
    "going_down"
   ]
  },
  {
   "cell_type": "markdown",
   "metadata": {},
   "source": [
    "### Methods\n",
    "\n",
    "Methods are functions that are applied to a variable by adding a dot then the method name (and parentheses) to the end of the variable name.\n",
    "\n",
    "| Method | What it does |\n",
    "|--------|--------------|\n",
    "|`.index()` | for a list, gives index of the input value |\n",
    "|`.capitalize()` | returns string with the first letter capitalized |\n",
    "|`.upper()` | capitalizes all letters in a string |\n",
    "|`.count()` | for `string`: counts how many of the input are in a string |\n",
    "|`.count()` | for `list`: counts the number of times an element appears in a list |\n",
    "|`.append()` | adds an element to the list it is called on |\n",
    "|`.remove()` | removes the first element of a list that matches the input |\n",
    "|`.reverse()` | reverses the order of the elements in the list its called on |\n",
    "|`.round()` | rounds a float to the number of decimal places specified in the parentheses |"
   ]
  },
  {
   "cell_type": "code",
   "execution_count": 29,
   "metadata": {
    "execution": {
     "iopub.execute_input": "2020-07-18T21:07:32.647083Z",
     "iopub.status.busy": "2020-07-18T21:07:32.646544Z",
     "iopub.status.idle": "2020-07-18T21:07:32.648995Z",
     "shell.execute_reply": "2020-07-18T21:07:32.649352Z"
    }
   },
   "outputs": [
    {
     "data": {
      "text/plain": [
       "0"
      ]
     },
     "execution_count": 29,
     "metadata": {},
     "output_type": "execute_result"
    }
   ],
   "source": [
    "going_down.index(10)"
   ]
  },
  {
   "cell_type": "code",
   "execution_count": 30,
   "metadata": {
    "execution": {
     "iopub.execute_input": "2020-07-18T21:07:32.652299Z",
     "iopub.status.busy": "2020-07-18T21:07:32.651722Z",
     "iopub.status.idle": "2020-07-18T21:07:32.653835Z",
     "shell.execute_reply": "2020-07-18T21:07:32.654169Z"
    }
   },
   "outputs": [
    {
     "data": {
      "text/plain": [
       "[10, 9, 8, 7, 6, 5, 4, 3, 2, 1, 0]"
      ]
     },
     "execution_count": 30,
     "metadata": {},
     "output_type": "execute_result"
    }
   ],
   "source": [
    "going_down.append(0)\n",
    "going_down"
   ]
  },
  {
   "cell_type": "markdown",
   "metadata": {},
   "source": [
    "### Packages\n",
    "\n",
    "Import a package (sometimes called a library), including all its functions"
   ]
  },
  {
   "cell_type": "code",
   "execution_count": 31,
   "metadata": {
    "execution": {
     "iopub.execute_input": "2020-07-18T21:07:32.657066Z",
     "iopub.status.busy": "2020-07-18T21:07:32.656361Z",
     "iopub.status.idle": "2020-07-18T21:07:32.900576Z",
     "shell.execute_reply": "2020-07-18T21:07:32.900974Z"
    }
   },
   "outputs": [],
   "source": [
    "import matplotlib"
   ]
  },
  {
   "cell_type": "markdown",
   "metadata": {},
   "source": [
    "Import a package and give it a shorthand name:"
   ]
  },
  {
   "cell_type": "code",
   "execution_count": 32,
   "metadata": {
    "execution": {
     "iopub.execute_input": "2020-07-18T21:07:32.904216Z",
     "iopub.status.busy": "2020-07-18T21:07:32.903609Z",
     "iopub.status.idle": "2020-07-18T21:07:32.905246Z",
     "shell.execute_reply": "2020-07-18T21:07:32.905693Z"
    }
   },
   "outputs": [],
   "source": [
    "import numpy as np"
   ]
  },
  {
   "cell_type": "markdown",
   "metadata": {},
   "source": [
    "## Chapter 4\n",
    "\n",
    "This chapter introduces the `numpy` package (by convention, imported as `np`), focusing on the numpy array data type.\n",
    "\n",
    "### NumPy arrays\n",
    "\n",
    "NumPy arrays are similar to lists: ordered sets of values. However, they behave differently, and can have multiple dimensons (see below), so NumPy arrays are often a better choice for structured data.\n",
    "\n",
    "You can **create** an np array manually by putting a list inside the `np.array()` function:"
   ]
  },
  {
   "cell_type": "code",
   "execution_count": 33,
   "metadata": {
    "execution": {
     "iopub.execute_input": "2020-07-18T21:07:32.909277Z",
     "iopub.status.busy": "2020-07-18T21:07:32.908691Z",
     "iopub.status.idle": "2020-07-18T21:07:32.910947Z",
     "shell.execute_reply": "2020-07-18T21:07:32.911342Z"
    }
   },
   "outputs": [
    {
     "data": {
      "text/plain": [
       "array([1, 3, 5, 7, 9])"
      ]
     },
     "execution_count": 33,
     "metadata": {},
     "output_type": "execute_result"
    }
   ],
   "source": [
    "np_odds = np.array([1, 3, 5, 7, 9])\n",
    "np_odds"
   ]
  },
  {
   "cell_type": "markdown",
   "metadata": {},
   "source": [
    "Or by specifying the name of a list you previously created:"
   ]
  },
  {
   "cell_type": "code",
   "execution_count": 34,
   "metadata": {
    "execution": {
     "iopub.execute_input": "2020-07-18T21:07:32.915073Z",
     "iopub.status.busy": "2020-07-18T21:07:32.914418Z",
     "iopub.status.idle": "2020-07-18T21:07:32.916702Z",
     "shell.execute_reply": "2020-07-18T21:07:32.917167Z"
    }
   },
   "outputs": [
    {
     "data": {
      "text/plain": [
       "array([ 2,  4,  6,  8, 10])"
      ]
     },
     "execution_count": 34,
     "metadata": {},
     "output_type": "execute_result"
    }
   ],
   "source": [
    "evens = [2, 4, 6, 8, 10]\n",
    "np_evens = np.array(evens)\n",
    "np_evens"
   ]
  },
  {
   "cell_type": "markdown",
   "metadata": {},
   "source": [
    "**Note**: If you just type the name of an array, you'll see the the contents of the array, embedded inside `array()`, as shown above. If you `print()` the array, you'll see only its contents:"
   ]
  },
  {
   "cell_type": "code",
   "execution_count": 35,
   "metadata": {
    "execution": {
     "iopub.execute_input": "2020-07-18T21:07:32.920281Z",
     "iopub.status.busy": "2020-07-18T21:07:32.919722Z",
     "iopub.status.idle": "2020-07-18T21:07:32.921535Z",
     "shell.execute_reply": "2020-07-18T21:07:32.922055Z"
    }
   },
   "outputs": [
    {
     "name": "stdout",
     "output_type": "stream",
     "text": [
      "[ 2  4  6  8 10]\n"
     ]
    }
   ],
   "source": [
    "print(np_evens)"
   ]
  },
  {
   "cell_type": "markdown",
   "metadata": {},
   "source": [
    "Either way above is acceptable, but remember that in Jupyter, you need to use `print()` to see the output of anything other than the last returned value:"
   ]
  },
  {
   "cell_type": "code",
   "execution_count": 36,
   "metadata": {
    "execution": {
     "iopub.execute_input": "2020-07-18T21:07:32.925232Z",
     "iopub.status.busy": "2020-07-18T21:07:32.924690Z",
     "iopub.status.idle": "2020-07-18T21:07:32.926809Z",
     "shell.execute_reply": "2020-07-18T21:07:32.927261Z"
    }
   },
   "outputs": [
    {
     "data": {
      "text/plain": [
       "array([1, 3, 5, 7, 9])"
      ]
     },
     "execution_count": 36,
     "metadata": {},
     "output_type": "execute_result"
    }
   ],
   "source": [
    "np_evens\n",
    "np_odds"
   ]
  },
  {
   "cell_type": "code",
   "execution_count": 37,
   "metadata": {
    "execution": {
     "iopub.execute_input": "2020-07-18T21:07:32.931101Z",
     "iopub.status.busy": "2020-07-18T21:07:32.930435Z",
     "iopub.status.idle": "2020-07-18T21:07:32.933332Z",
     "shell.execute_reply": "2020-07-18T21:07:32.933725Z"
    }
   },
   "outputs": [
    {
     "name": "stdout",
     "output_type": "stream",
     "text": [
      "[ 2  4  6  8 10]\n"
     ]
    },
    {
     "data": {
      "text/plain": [
       "array([1, 3, 5, 7, 9])"
      ]
     },
     "execution_count": 37,
     "metadata": {},
     "output_type": "execute_result"
    }
   ],
   "source": [
    "print(np_evens)\n",
    "np_odds"
   ]
  },
  {
   "cell_type": "markdown",
   "metadata": {},
   "source": [
    "NumPy arrays can only contain values of one type. Values are converted to a different type to enforce this:"
   ]
  },
  {
   "cell_type": "code",
   "execution_count": 38,
   "metadata": {
    "execution": {
     "iopub.execute_input": "2020-07-18T21:07:32.937245Z",
     "iopub.status.busy": "2020-07-18T21:07:32.936701Z",
     "iopub.status.idle": "2020-07-18T21:07:32.938752Z",
     "shell.execute_reply": "2020-07-18T21:07:32.939136Z"
    }
   },
   "outputs": [
    {
     "data": {
      "text/plain": [
       "array(['1', 'two', 'False'], dtype='<U21')"
      ]
     },
     "execution_count": 38,
     "metadata": {},
     "output_type": "execute_result"
    }
   ],
   "source": [
    "np.array([1, 'two', False])"
   ]
  },
  {
   "cell_type": "markdown",
   "metadata": {},
   "source": [
    "Above, the int `1` and the Boolean `False` were converted to a string, because the string 'two' couldn't be converted to any other type.\n",
    "\n",
    "Below, we only have ints and Booleans. Booleans are converted to ints:"
   ]
  },
  {
   "cell_type": "code",
   "execution_count": 39,
   "metadata": {
    "execution": {
     "iopub.execute_input": "2020-07-18T21:07:32.942515Z",
     "iopub.status.busy": "2020-07-18T21:07:32.941964Z",
     "iopub.status.idle": "2020-07-18T21:07:32.944083Z",
     "shell.execute_reply": "2020-07-18T21:07:32.944450Z"
    }
   },
   "outputs": [
    {
     "data": {
      "text/plain": [
       "array([1, 2, 0, 1])"
      ]
     },
     "execution_count": 39,
     "metadata": {},
     "output_type": "execute_result"
    }
   ],
   "source": [
    "np.array([1, 2, False, True])"
   ]
  },
  {
   "cell_type": "markdown",
   "metadata": {},
   "source": [
    "Unlike lists, operations are applied to np arrays element-wise (i.e., applies operation to each element in the array).\n",
    "\n",
    "So for a list, this is probably *not* your intended outcome:"
   ]
  },
  {
   "cell_type": "code",
   "execution_count": 40,
   "metadata": {
    "execution": {
     "iopub.execute_input": "2020-07-18T21:07:32.947323Z",
     "iopub.status.busy": "2020-07-18T21:07:32.946809Z",
     "iopub.status.idle": "2020-07-18T21:07:32.948523Z",
     "shell.execute_reply": "2020-07-18T21:07:32.948858Z"
    }
   },
   "outputs": [
    {
     "name": "stdout",
     "output_type": "stream",
     "text": [
      "[2, 4, 6, 8, 10, 2, 4, 6, 8, 10]\n"
     ]
    }
   ],
   "source": [
    "print(evens * 2)"
   ]
  },
  {
   "cell_type": "markdown",
   "metadata": {},
   "source": [
    "But for a NumPy array:"
   ]
  },
  {
   "cell_type": "code",
   "execution_count": 41,
   "metadata": {
    "execution": {
     "iopub.execute_input": "2020-07-18T21:07:32.951537Z",
     "iopub.status.busy": "2020-07-18T21:07:32.951045Z",
     "iopub.status.idle": "2020-07-18T21:07:32.952886Z",
     "shell.execute_reply": "2020-07-18T21:07:32.953219Z"
    }
   },
   "outputs": [
    {
     "name": "stdout",
     "output_type": "stream",
     "text": [
      "[ 4  8 12 16 20]\n"
     ]
    }
   ],
   "source": [
    "print(np_evens * 2)"
   ]
  },
  {
   "cell_type": "markdown",
   "metadata": {},
   "source": [
    "### 2D arrays\n",
    "\n",
    "A NumPy array with two dimensions (rows and columns).\n",
    "\n",
    "Can create from a regular python list of lists (note the two lists are inside another list/set of square brackets):"
   ]
  },
  {
   "cell_type": "code",
   "execution_count": 42,
   "metadata": {
    "execution": {
     "iopub.execute_input": "2020-07-18T21:07:32.956154Z",
     "iopub.status.busy": "2020-07-18T21:07:32.955529Z",
     "iopub.status.idle": "2020-07-18T21:07:32.957507Z",
     "shell.execute_reply": "2020-07-18T21:07:32.957841Z"
    }
   },
   "outputs": [],
   "source": [
    "my_2d_array = np.array([[0, 1, 2], [3, 4, 5]])"
   ]
  },
  {
   "cell_type": "code",
   "execution_count": 43,
   "metadata": {
    "execution": {
     "iopub.execute_input": "2020-07-18T21:07:32.960533Z",
     "iopub.status.busy": "2020-07-18T21:07:32.959989Z",
     "iopub.status.idle": "2020-07-18T21:07:32.961993Z",
     "shell.execute_reply": "2020-07-18T21:07:32.962390Z"
    }
   },
   "outputs": [
    {
     "data": {
      "text/plain": [
       "array([[0, 1, 2],\n",
       "       [3, 4, 5]])"
      ]
     },
     "execution_count": 43,
     "metadata": {},
     "output_type": "execute_result"
    }
   ],
   "source": [
    "my_2d_array"
   ]
  },
  {
   "cell_type": "markdown",
   "metadata": {},
   "source": [
    "#### Indexing 2D Arrays:\n",
    "Specify in format [*rows*, *columns*]. As with lists, `:` selects entire row/column, and you can use negative indexing"
   ]
  },
  {
   "cell_type": "code",
   "execution_count": 44,
   "metadata": {
    "execution": {
     "iopub.execute_input": "2020-07-18T21:07:32.965172Z",
     "iopub.status.busy": "2020-07-18T21:07:32.964655Z",
     "iopub.status.idle": "2020-07-18T21:07:32.966597Z",
     "shell.execute_reply": "2020-07-18T21:07:32.966994Z"
    }
   },
   "outputs": [
    {
     "data": {
      "text/plain": [
       "array([0, 1, 2])"
      ]
     },
     "execution_count": 44,
     "metadata": {},
     "output_type": "execute_result"
    }
   ],
   "source": [
    "my_2d_array[0, :]"
   ]
  },
  {
   "cell_type": "code",
   "execution_count": 45,
   "metadata": {
    "execution": {
     "iopub.execute_input": "2020-07-18T21:07:32.969873Z",
     "iopub.status.busy": "2020-07-18T21:07:32.969339Z",
     "iopub.status.idle": "2020-07-18T21:07:32.971242Z",
     "shell.execute_reply": "2020-07-18T21:07:32.971634Z"
    }
   },
   "outputs": [
    {
     "data": {
      "text/plain": [
       "array([3, 4, 5])"
      ]
     },
     "execution_count": 45,
     "metadata": {},
     "output_type": "execute_result"
    }
   ],
   "source": [
    "my_2d_array[1, :]"
   ]
  },
  {
   "cell_type": "markdown",
   "metadata": {},
   "source": [
    "Column only:"
   ]
  },
  {
   "cell_type": "code",
   "execution_count": 46,
   "metadata": {
    "execution": {
     "iopub.execute_input": "2020-07-18T21:07:32.974387Z",
     "iopub.status.busy": "2020-07-18T21:07:32.973877Z",
     "iopub.status.idle": "2020-07-18T21:07:32.975926Z",
     "shell.execute_reply": "2020-07-18T21:07:32.976258Z"
    }
   },
   "outputs": [
    {
     "data": {
      "text/plain": [
       "array([0, 3])"
      ]
     },
     "execution_count": 46,
     "metadata": {},
     "output_type": "execute_result"
    }
   ],
   "source": [
    "my_2d_array[:, 0]"
   ]
  },
  {
   "cell_type": "markdown",
   "metadata": {},
   "source": [
    "Last coumn:"
   ]
  },
  {
   "cell_type": "code",
   "execution_count": 47,
   "metadata": {
    "execution": {
     "iopub.execute_input": "2020-07-18T21:07:32.979095Z",
     "iopub.status.busy": "2020-07-18T21:07:32.978587Z",
     "iopub.status.idle": "2020-07-18T21:07:32.980549Z",
     "shell.execute_reply": "2020-07-18T21:07:32.980943Z"
    }
   },
   "outputs": [
    {
     "data": {
      "text/plain": [
       "array([2, 5])"
      ]
     },
     "execution_count": 47,
     "metadata": {},
     "output_type": "execute_result"
    }
   ],
   "source": [
    "my_2d_array[:, -1]"
   ]
  },
  {
   "cell_type": "markdown",
   "metadata": {},
   "source": [
    "Select single value by specifying a particular row and column:"
   ]
  },
  {
   "cell_type": "code",
   "execution_count": 48,
   "metadata": {
    "execution": {
     "iopub.execute_input": "2020-07-18T21:07:32.983990Z",
     "iopub.status.busy": "2020-07-18T21:07:32.983472Z",
     "iopub.status.idle": "2020-07-18T21:07:32.985423Z",
     "shell.execute_reply": "2020-07-18T21:07:32.985821Z"
    }
   },
   "outputs": [
    {
     "data": {
      "text/plain": [
       "4"
      ]
     },
     "execution_count": 48,
     "metadata": {},
     "output_type": "execute_result"
    }
   ],
   "source": [
    "my_2d_array[1, 1]"
   ]
  },
  {
   "cell_type": "markdown",
   "metadata": {},
   "source": [
    "`.shape` *attribute* gives shape (rows, cols) of 2D numpy array:"
   ]
  },
  {
   "cell_type": "code",
   "execution_count": 49,
   "metadata": {
    "execution": {
     "iopub.execute_input": "2020-07-18T21:07:32.988450Z",
     "iopub.status.busy": "2020-07-18T21:07:32.987943Z",
     "iopub.status.idle": "2020-07-18T21:07:32.990153Z",
     "shell.execute_reply": "2020-07-18T21:07:32.990552Z"
    }
   },
   "outputs": [
    {
     "data": {
      "text/plain": [
       "(2, 3)"
      ]
     },
     "execution_count": 49,
     "metadata": {},
     "output_type": "execute_result"
    }
   ],
   "source": [
    "my_2d_array.shape"
   ]
  },
  {
   "cell_type": "markdown",
   "metadata": {},
   "source": [
    "### NumPy Array Functions"
   ]
  },
  {
   "cell_type": "code",
   "execution_count": 50,
   "metadata": {
    "execution": {
     "iopub.execute_input": "2020-07-18T21:07:32.993609Z",
     "iopub.status.busy": "2020-07-18T21:07:32.993135Z",
     "iopub.status.idle": "2020-07-18T21:07:32.995092Z",
     "shell.execute_reply": "2020-07-18T21:07:32.995421Z"
    }
   },
   "outputs": [
    {
     "data": {
      "text/plain": [
       "array([0.46867772, 0.64864406, 0.04966812, 0.16042577, 0.41233645,\n",
       "       0.1952742 , 0.81398905, 0.55457574, 0.53276193, 0.72189675])"
      ]
     },
     "execution_count": 50,
     "metadata": {},
     "output_type": "execute_result"
    }
   ],
   "source": [
    "np.random.rand(10)"
   ]
  },
  {
   "cell_type": "code",
   "execution_count": 51,
   "metadata": {
    "execution": {
     "iopub.execute_input": "2020-07-18T21:07:32.998291Z",
     "iopub.status.busy": "2020-07-18T21:07:32.997771Z",
     "iopub.status.idle": "2020-07-18T21:07:32.999601Z",
     "shell.execute_reply": "2020-07-18T21:07:32.999939Z"
    }
   },
   "outputs": [
    {
     "name": "stdout",
     "output_type": "stream",
     "text": [
      "[0.45008483 0.14853436 0.82118504 0.38450164 0.79675379 0.33120075\n",
      " 0.30530378 0.06987747 0.15736816 0.58222276]\n"
     ]
    }
   ],
   "source": [
    "# Some random numbers:\n",
    "my_data = np.random.rand(10)\n",
    "print(my_data)"
   ]
  },
  {
   "cell_type": "markdown",
   "metadata": {},
   "source": [
    "#### Mean"
   ]
  },
  {
   "cell_type": "code",
   "execution_count": 52,
   "metadata": {
    "execution": {
     "iopub.execute_input": "2020-07-18T21:07:33.002771Z",
     "iopub.status.busy": "2020-07-18T21:07:33.002288Z",
     "iopub.status.idle": "2020-07-18T21:07:33.004175Z",
     "shell.execute_reply": "2020-07-18T21:07:33.004567Z"
    }
   },
   "outputs": [
    {
     "data": {
      "text/plain": [
       "0.4047032578522362"
      ]
     },
     "execution_count": 52,
     "metadata": {},
     "output_type": "execute_result"
    }
   ],
   "source": [
    "np.mean(my_data)"
   ]
  },
  {
   "cell_type": "markdown",
   "metadata": {},
   "source": [
    "#### Median"
   ]
  },
  {
   "cell_type": "code",
   "execution_count": 53,
   "metadata": {
    "execution": {
     "iopub.execute_input": "2020-07-18T21:07:33.007569Z",
     "iopub.status.busy": "2020-07-18T21:07:33.006992Z",
     "iopub.status.idle": "2020-07-18T21:07:33.009008Z",
     "shell.execute_reply": "2020-07-18T21:07:33.009410Z"
    }
   },
   "outputs": [
    {
     "data": {
      "text/plain": [
       "0.3578511966933725"
      ]
     },
     "execution_count": 53,
     "metadata": {},
     "output_type": "execute_result"
    }
   ],
   "source": [
    "np.median(my_data)"
   ]
  },
  {
   "cell_type": "markdown",
   "metadata": {},
   "source": [
    "#### Standard Deviation"
   ]
  },
  {
   "cell_type": "code",
   "execution_count": 54,
   "metadata": {
    "execution": {
     "iopub.execute_input": "2020-07-18T21:07:33.012232Z",
     "iopub.status.busy": "2020-07-18T21:07:33.011749Z",
     "iopub.status.idle": "2020-07-18T21:07:33.013951Z",
     "shell.execute_reply": "2020-07-18T21:07:33.014283Z"
    }
   },
   "outputs": [
    {
     "data": {
      "text/plain": [
       "0.24805842150394442"
      ]
     },
     "execution_count": 54,
     "metadata": {},
     "output_type": "execute_result"
    }
   ],
   "source": [
    "np.std(my_data)"
   ]
  },
  {
   "cell_type": "markdown",
   "metadata": {},
   "source": [
    "If you don't like long numbers, you can apply the .round() method to the output:"
   ]
  },
  {
   "cell_type": "code",
   "execution_count": 55,
   "metadata": {
    "execution": {
     "iopub.execute_input": "2020-07-18T21:07:33.017050Z",
     "iopub.status.busy": "2020-07-18T21:07:33.016546Z",
     "iopub.status.idle": "2020-07-18T21:07:33.018274Z",
     "shell.execute_reply": "2020-07-18T21:07:33.018607Z"
    }
   },
   "outputs": [
    {
     "name": "stdout",
     "output_type": "stream",
     "text": [
      "0.248\n"
     ]
    }
   ],
   "source": [
    "std_dev = np.std(my_data).round(3)\n",
    "print(std_dev)"
   ]
  },
  {
   "cell_type": "markdown",
   "metadata": {},
   "source": [
    "#### Correlation \n",
    "\n",
    "Between two arrays:"
   ]
  },
  {
   "cell_type": "code",
   "execution_count": 56,
   "metadata": {
    "execution": {
     "iopub.execute_input": "2020-07-18T21:07:33.021647Z",
     "iopub.status.busy": "2020-07-18T21:07:33.021128Z",
     "iopub.status.idle": "2020-07-18T21:07:33.022695Z",
     "shell.execute_reply": "2020-07-18T21:07:33.023086Z"
    }
   },
   "outputs": [],
   "source": [
    "# Final grades\n",
    "grades = np.array([67, 74, 44, 92, 88])\n",
    "\n",
    "# hours per week spent working on course\n",
    "hours = np.array([5.2, 7, 2.0, 9.25, 7.5])"
   ]
  },
  {
   "cell_type": "markdown",
   "metadata": {},
   "source": [
    "Does more hours spent on the course translate into a better grade?"
   ]
  },
  {
   "cell_type": "code",
   "execution_count": 57,
   "metadata": {
    "execution": {
     "iopub.execute_input": "2020-07-18T21:07:33.025573Z",
     "iopub.status.busy": "2020-07-18T21:07:33.025098Z",
     "iopub.status.idle": "2020-07-18T21:07:33.029442Z",
     "shell.execute_reply": "2020-07-18T21:07:33.029782Z"
    }
   },
   "outputs": [
    {
     "data": {
      "text/plain": [
       "array([[1.        , 0.97877197],\n",
       "       [0.97877197, 1.        ]])"
      ]
     },
     "execution_count": 57,
     "metadata": {},
     "output_type": "execute_result"
    }
   ],
   "source": [
    "np.corrcoef(grades, hours)"
   ]
  },
  {
   "cell_type": "markdown",
   "metadata": {},
   "source": [
    "Yes! The correlation is positive and strong (approximately .979)"
   ]
  }
 ],
 "metadata": {
  "kernelspec": {
   "display_name": "Python 3",
   "language": "python",
   "name": "python3"
  },
  "language_info": {
   "codemirror_mode": {
    "name": "ipython",
    "version": 3
   },
   "file_extension": ".py",
   "mimetype": "text/x-python",
   "name": "python",
   "nbconvert_exporter": "python",
   "pygments_lexer": "ipython3",
   "version": "3.7.7"
  }
 },
 "nbformat": 4,
 "nbformat_minor": 4
}