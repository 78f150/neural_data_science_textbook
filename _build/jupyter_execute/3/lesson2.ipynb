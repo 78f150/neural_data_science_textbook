{
 "cells": [
  {
   "cell_type": "markdown",
   "metadata": {},
   "source": [
    "# Lesson 2: Intermediate Python\n",
    "\n",
    "[View this lesson on DataCamp](https://learn.datacamp.com/courses/intermediate-python-for-data-science)\n",
    "\n",
    "## Chapter 1: Matplotlib\n",
    "This chapter introduces the basics of Matplotlib - how to make, configure, and show plots\n",
    "### Lineplots\n",
    "\n",
    "| |  |\n",
    "|------------------ |----------------|\n",
    "|`plt.plot(x,y)`    |create lineplot |\n",
    "|`plt.show()`       |show plot       |\n",
    "|`plt.title()`      |set plot title  |\n",
    "|`plt.xlabel()`     |set x-axis label|\n",
    "|`plt.ylabel()`     |set y-axis label|\n",
    "|`plt.xscale('log')`|set x-axis to log scale|\n",
    "|`plt.xticks()`     |define x-axis increments|\n",
    "|`plt.yticks()`     |define y-axis increments|\n",
    "\n",
    "### Scatterplots\n",
    "Same as above, but with the scatter method\n",
    "`plt.scatter(x,y)`\n",
    "\n",
    "|Argument        |Function           |\n",
    "|----------------|-------------------|\n",
    "|`s=`            |size; sets dot size|\n",
    "|`c=`            |colour, sets dot color|\n",
    "|`alpha=`         |set data point transparency|\n",
    "\n",
    "### Histograms \n",
    "\n",
    "|||\n",
    "|--------------|----------------|\n",
    "|`plt.hist()`  |create histogram, the `bins=` argument allows you to specify the number of bins|\n",
    "|`plt.clf()`   |clean up plot a plot that's already been created so you can start fresh|"
   ]
  },
  {
   "cell_type": "markdown",
   "metadata": {},
   "source": [
    "## Chapter 2: Dictionaries & pandas\n",
    "\n",
    "### Dictionaries\n",
    "Dictionaries are immutable, and composed of {'key':value} pairs"
   ]
  },
  {
   "cell_type": "code",
   "execution_count": 1,
   "metadata": {
    "execution": {
     "iopub.execute_input": "2020-07-12T02:36:57.995230Z",
     "iopub.status.busy": "2020-07-12T02:36:57.994601Z",
     "iopub.status.idle": "2020-07-12T02:36:57.996593Z",
     "shell.execute_reply": "2020-07-12T02:36:57.997310Z"
    }
   },
   "outputs": [],
   "source": [
    "maritimes = {'NS':'Halifax', 'NB':'Fredricton', 'PEI':'Charlottetown'}"
   ]
  },
  {
   "cell_type": "markdown",
   "metadata": {},
   "source": [
    "Calling `.keys()` prints all keys from a specified dictionary"
   ]
  },
  {
   "cell_type": "code",
   "execution_count": 2,
   "metadata": {
    "execution": {
     "iopub.execute_input": "2020-07-12T02:36:58.005639Z",
     "iopub.status.busy": "2020-07-12T02:36:58.005017Z",
     "iopub.status.idle": "2020-07-12T02:36:58.007289Z",
     "shell.execute_reply": "2020-07-12T02:36:58.007683Z"
    }
   },
   "outputs": [
    {
     "data": {
      "text/plain": [
       "dict_keys(['NS', 'NB', 'PEI'])"
      ]
     },
     "execution_count": 2,
     "metadata": {},
     "output_type": "execute_result"
    }
   ],
   "source": [
    "maritimes.keys()"
   ]
  },
  {
   "cell_type": "markdown",
   "metadata": {},
   "source": [
    "Calling dict['key'] will return the value that corresponds with that key"
   ]
  },
  {
   "cell_type": "code",
   "execution_count": 3,
   "metadata": {
    "execution": {
     "iopub.execute_input": "2020-07-12T02:36:58.010903Z",
     "iopub.status.busy": "2020-07-12T02:36:58.010347Z",
     "iopub.status.idle": "2020-07-12T02:36:58.012376Z",
     "shell.execute_reply": "2020-07-12T02:36:58.012754Z"
    }
   },
   "outputs": [
    {
     "data": {
      "text/plain": [
       "'Halifax'"
      ]
     },
     "execution_count": 3,
     "metadata": {},
     "output_type": "execute_result"
    }
   ],
   "source": [
    "maritimes['NS']"
   ]
  },
  {
   "cell_type": "markdown",
   "metadata": {},
   "source": [
    "Values can be added to dictionaries"
   ]
  },
  {
   "cell_type": "code",
   "execution_count": 4,
   "metadata": {
    "execution": {
     "iopub.execute_input": "2020-07-12T02:36:58.015704Z",
     "iopub.status.busy": "2020-07-12T02:36:58.015156Z",
     "iopub.status.idle": "2020-07-12T02:36:58.017143Z",
     "shell.execute_reply": "2020-07-12T02:36:58.017529Z"
    }
   },
   "outputs": [
    {
     "name": "stdout",
     "output_type": "stream",
     "text": [
      "{'NS': 'Halifax', 'NB': 'Fredricton', 'PEI': 'Charlottetown', 'NFLD': 'St. Johns'}\n"
     ]
    }
   ],
   "source": [
    "maritimes['NFLD'] = 'St. Johns'\n",
    "print(maritimes)"
   ]
  },
  {
   "cell_type": "markdown",
   "metadata": {},
   "source": [
    "...and deleted using `del()`"
   ]
  },
  {
   "cell_type": "code",
   "execution_count": 5,
   "metadata": {
    "execution": {
     "iopub.execute_input": "2020-07-12T02:36:58.020479Z",
     "iopub.status.busy": "2020-07-12T02:36:58.019899Z",
     "iopub.status.idle": "2020-07-12T02:36:58.021811Z",
     "shell.execute_reply": "2020-07-12T02:36:58.022234Z"
    }
   },
   "outputs": [
    {
     "name": "stdout",
     "output_type": "stream",
     "text": [
      "{'NS': 'Halifax', 'NB': 'Fredricton', 'PEI': 'Charlottetown'}\n"
     ]
    }
   ],
   "source": [
    "del(maritimes['NFLD'])\n",
    "print(maritimes)"
   ]
  },
  {
   "cell_type": "markdown",
   "metadata": {},
   "source": [
    "### pandas DataFrames\n",
    "\n",
    "Pandas dataframes are a way of storing tabular data. While we could store a data table in a 2D NumPy array (as we previously learned), a pandas dataframe has a number of advantages. It's more like an Excel spreadsheet, in that it can have column names (labels) and row indexes (the equivalent of column names, but for rows). As well, pandas offers a variety of methods that make it easier and more intuitive to work with data than a NumPy array.\n",
    "\n",
    "To import the pandas package we use the convention:"
   ]
  },
  {
   "cell_type": "code",
   "execution_count": 6,
   "metadata": {
    "execution": {
     "iopub.execute_input": "2020-07-12T02:36:58.024956Z",
     "iopub.status.busy": "2020-07-12T02:36:58.024419Z",
     "iopub.status.idle": "2020-07-12T02:36:58.328017Z",
     "shell.execute_reply": "2020-07-12T02:36:58.328405Z"
    }
   },
   "outputs": [],
   "source": [
    "import pandas as pd"
   ]
  },
  {
   "cell_type": "markdown",
   "metadata": {},
   "source": [
    "To convert an object, such as a NumPy array, to a pandas DataFrame, we use pd.DataFrame():"
   ]
  },
  {
   "cell_type": "code",
   "execution_count": 7,
   "metadata": {
    "execution": {
     "iopub.execute_input": "2020-07-12T02:36:58.332369Z",
     "iopub.status.busy": "2020-07-12T02:36:58.331783Z",
     "iopub.status.idle": "2020-07-12T02:36:58.333806Z",
     "shell.execute_reply": "2020-07-12T02:36:58.334180Z"
    }
   },
   "outputs": [
    {
     "name": "stdout",
     "output_type": "stream",
     "text": [
      "[[1 2 3 4]\n",
      " [5 6 7 8]]\n"
     ]
    }
   ],
   "source": [
    "# Create np array\n",
    "import numpy as np\n",
    "\n",
    "x = np.array(([1,2,3,4],[5,6,7,8]))\n",
    "print(x)"
   ]
  },
  {
   "cell_type": "code",
   "execution_count": 8,
   "metadata": {
    "execution": {
     "iopub.execute_input": "2020-07-12T02:36:58.339352Z",
     "iopub.status.busy": "2020-07-12T02:36:58.338770Z",
     "iopub.status.idle": "2020-07-12T02:36:58.342918Z",
     "shell.execute_reply": "2020-07-12T02:36:58.343305Z"
    }
   },
   "outputs": [
    {
     "data": {
      "text/html": [
       "<div>\n",
       "<style scoped>\n",
       "    .dataframe tbody tr th:only-of-type {\n",
       "        vertical-align: middle;\n",
       "    }\n",
       "\n",
       "    .dataframe tbody tr th {\n",
       "        vertical-align: top;\n",
       "    }\n",
       "\n",
       "    .dataframe thead th {\n",
       "        text-align: right;\n",
       "    }\n",
       "</style>\n",
       "<table border=\"1\" class=\"dataframe\">\n",
       "  <thead>\n",
       "    <tr style=\"text-align: right;\">\n",
       "      <th></th>\n",
       "      <th>0</th>\n",
       "      <th>1</th>\n",
       "      <th>2</th>\n",
       "      <th>3</th>\n",
       "    </tr>\n",
       "  </thead>\n",
       "  <tbody>\n",
       "    <tr>\n",
       "      <th>0</th>\n",
       "      <td>1</td>\n",
       "      <td>2</td>\n",
       "      <td>3</td>\n",
       "      <td>4</td>\n",
       "    </tr>\n",
       "    <tr>\n",
       "      <th>1</th>\n",
       "      <td>5</td>\n",
       "      <td>6</td>\n",
       "      <td>7</td>\n",
       "      <td>8</td>\n",
       "    </tr>\n",
       "  </tbody>\n",
       "</table>\n",
       "</div>"
      ],
      "text/plain": [
       "   0  1  2  3\n",
       "0  1  2  3  4\n",
       "1  5  6  7  8"
      ]
     },
     "execution_count": 8,
     "metadata": {},
     "output_type": "execute_result"
    }
   ],
   "source": [
    "# convert to DataFrame\n",
    "df = pd.DataFrame(x)\n",
    "df"
   ]
  },
  {
   "cell_type": "markdown",
   "metadata": {},
   "source": [
    "Note above the pretty formatting that Jupyter applies when viewing a DataFrame. That alone makes it easier to work with than a NumPy array!\n",
    "\n",
    "Note above that the column labels and indices are by default just sequential numbers, starting from zero as is the norm in Python."
   ]
  },
  {
   "cell_type": "markdown",
   "metadata": {},
   "source": [
    "Often we'll be reading data from a file rather than creating DataFrames from scratch. To load the contents of a CSV file into a DataFrame, use `pd.to_csv()`. Here we'll load a small CSV file containing 10 reaction times (RTs):"
   ]
  },
  {
   "cell_type": "code",
   "execution_count": 9,
   "metadata": {
    "execution": {
     "iopub.execute_input": "2020-07-12T02:36:58.346386Z",
     "iopub.status.busy": "2020-07-12T02:36:58.345837Z",
     "iopub.status.idle": "2020-07-12T02:36:58.348039Z",
     "shell.execute_reply": "2020-07-12T02:36:58.348421Z"
    }
   },
   "outputs": [
    {
     "data": {
      "text/plain": [
       "'/Users/aaron/Documents/Teaching/3505/NESC_3505_textbook'"
      ]
     },
     "execution_count": 9,
     "metadata": {},
     "output_type": "execute_result"
    }
   ],
   "source": [
    "import os\n",
    "os.getcwd()"
   ]
  },
  {
   "cell_type": "code",
   "execution_count": 10,
   "metadata": {
    "execution": {
     "iopub.execute_input": "2020-07-12T02:36:58.351663Z",
     "iopub.status.busy": "2020-07-12T02:36:58.351127Z",
     "iopub.status.idle": "2020-07-12T02:36:58.352889Z",
     "shell.execute_reply": "2020-07-12T02:36:58.353277Z"
    }
   },
   "outputs": [],
   "source": [
    "# df = pd.read_csv('./rt_data.csv')\n",
    "# df"
   ]
  },
  {
   "cell_type": "markdown",
   "metadata": {},
   "source": [
    "Note above that the first imported column is `Trial_Num`, which starts at 1, but the index, by default, starts from zero. We can tell pandas that we want the trial number to act as the index, which could make our life easier later on when working with this data:"
   ]
  },
  {
   "cell_type": "code",
   "execution_count": 11,
   "metadata": {
    "execution": {
     "iopub.execute_input": "2020-07-12T02:36:58.356048Z",
     "iopub.status.busy": "2020-07-12T02:36:58.355418Z",
     "iopub.status.idle": "2020-07-12T02:36:58.356938Z",
     "shell.execute_reply": "2020-07-12T02:36:58.357328Z"
    }
   },
   "outputs": [],
   "source": [
    "# df = pd.read_csv('./rt_data.csv', index_col='Trial_Num')\n",
    "# df"
   ]
  },
  {
   "cell_type": "markdown",
   "metadata": {},
   "source": [
    "### Slicing pandas dataframes\n",
    "dataframe[#:#] allows you to slice specified rows based on integer index\n",
    "\n",
    "|Slicing with `.loc` |                   |\n",
    "|--------------------|-------------------|\n",
    "|`.loc['']`         |slice specified row based on string index --> pandas series|\n",
    "|`.loc[['']]`       |slice specified row based on string index --> pandas dataframe|\n",
    "|`.loc[[''], ['']]` |slice specified rows and columns --> pandas sub-dataframe|\n",
    "|`.loc[:, ' ']`     |slice all rows and specified columns --> pandas series|\n",
    "|`.loc[:, [' ']]`   |slice all rows and specified columns --> pandas sub-dataframe|\n",
    "\n",
    "\n",
    "|Slicing with `.iloc` |                   |\n",
    "|--------------------|-------------------|\n",
    "|`.iloc[#]`          |slice specified row based on integer index|\n",
    "|`.iloc[[#]]`        |slice specified row based on unterger index --> pandas dataframe|\n",
    "|`.iloc[[#], [#]]`   |slice specified rows and columns --> pandas sub-dataframe|\n",
    "|`.iloc[:, #]`       |slice all rows and specified columns --> pandas series|\n",
    "|`.iloc[:, [#]]`     |slice all rows and specified columns --> pandas sub-dataframe|"
   ]
  },
  {
   "cell_type": "markdown",
   "metadata": {},
   "source": [
    "## Chapter 3: Logic, Control Flow, & Filtering\n",
    "\n",
    "### Comparison Operators \n",
    "|               |               |\n",
    "|---------------|---------------|\n",
    "|`==`           |\"are equal\"    |\n",
    "|`<` and `>`    |\"is less than\" and \"is greater than\" |\n",
    "|`<=` and `>=`  |\"less than or equal to\" and \"greater than or equal to\"|\n",
    "|`!=`           |\"is not equal to\"|\n",
    "\n",
    "### Boolean Operators\n",
    "|Operator          |Function       |\n",
    "|------------------|---------------|\n",
    "|and               |require 2 or more specified objects|\n",
    "|or                |require at least one specified object|\n",
    "|not               |anything but specified object|\n",
    "|`np.logical_and()`|\"and\" statement, can be passed multiple comparison criteria|\n",
    "|`np.logical_or()` |\"or\" statement, can be passed multiple comparison criteria|\n",
    "|`np.logical_not()`|\"not\" statement, can be passed multiple comparison criteria|"
   ]
  },
  {
   "cell_type": "markdown",
   "metadata": {},
   "source": [
    "### Conditional Statements\n",
    "\n",
    "```\n",
    "if condition :\n",
    "     expression\n",
    "elif condition : \n",
    "     expression\n",
    "else :\n",
    "     expression\n",
    "```\n",
    "\n",
    "`if` - check if initial specified condition holds True. If so, perform specified expression(s).\n",
    "\n",
    "`elif` - (else if) if the `if` condition is False, check whether this secondary condition holds True. If so, perform secondary specified expression(s)\n",
    "\n",
    "`else` - if all `if` or `elif` conditions are False, perform specified expression. \n",
    "\n",
    "Note that `elif` and `else` are *not required* in `if` statements. When you write an `if` statement with no `elif` oe `else` options, and the `if` statement is not True, then Python simply moves on as if nothing ever happened.\n",
    "\n",
    "<div class=\"alert alert-block alert-info\">\n",
    "Always be sure your `if`, `elif`, and `else` lines end with colons!\n",
    "</div>"
   ]
  },
  {
   "cell_type": "code",
   "execution_count": 12,
   "metadata": {
    "execution": {
     "iopub.execute_input": "2020-07-12T02:36:58.360404Z",
     "iopub.status.busy": "2020-07-12T02:36:58.359848Z",
     "iopub.status.idle": "2020-07-12T02:36:58.361624Z",
     "shell.execute_reply": "2020-07-12T02:36:58.362042Z"
    }
   },
   "outputs": [
    {
     "name": "stdout",
     "output_type": "stream",
     "text": [
      "Larger than 10\n"
     ]
    }
   ],
   "source": [
    "x = 11\n",
    "\n",
    "if x < 10: \n",
    "    print(\"Smaller than 10\")\n",
    "else:\n",
    "    print(\"Larger than 10\")"
   ]
  },
  {
   "cell_type": "markdown",
   "metadata": {},
   "source": [
    "A most complex example, to tell the season based on the month:"
   ]
  },
  {
   "cell_type": "code",
   "execution_count": 13,
   "metadata": {
    "execution": {
     "iopub.execute_input": "2020-07-12T02:36:58.366320Z",
     "iopub.status.busy": "2020-07-12T02:36:58.365436Z",
     "iopub.status.idle": "2020-07-12T02:36:58.367636Z",
     "shell.execute_reply": "2020-07-12T02:36:58.368035Z"
    }
   },
   "outputs": [
    {
     "name": "stdout",
     "output_type": "stream",
     "text": [
      "Winter\n"
     ]
    }
   ],
   "source": [
    "month = 'January'\n",
    "\n",
    "if month == 'June' or month == 'July' or month == 'August':\n",
    "    print('Summer!')\n",
    "elif month == 'September' or month == 'October' or month == 'November':\n",
    "    print(\"Fall\")\n",
    "elif month == 'December' or month == 'January' or month == 'February':\n",
    "    print(\"Winter\")\n",
    "else:\n",
    "    print(\"Spring\")\n"
   ]
  },
  {
   "cell_type": "markdown",
   "metadata": {},
   "source": [
    "## Chapter 4: Loops\n",
    "\n",
    "### `while` Loops \n",
    "While loops will excecute the code many times, as long as the coniditon is true (\"as long as x is true, do y\")\n",
    "\n",
    "Format:\n",
    "\n",
    "```\n",
    "while condition:\n",
    "    expression\n",
    "```\n",
    "\n"
   ]
  },
  {
   "cell_type": "markdown",
   "metadata": {},
   "source": [
    "Count to 10, by twos:"
   ]
  },
  {
   "cell_type": "code",
   "execution_count": 14,
   "metadata": {
    "execution": {
     "iopub.execute_input": "2020-07-12T02:36:58.370869Z",
     "iopub.status.busy": "2020-07-12T02:36:58.370357Z",
     "iopub.status.idle": "2020-07-12T02:36:58.372058Z",
     "shell.execute_reply": "2020-07-12T02:36:58.372387Z"
    }
   },
   "outputs": [
    {
     "name": "stdout",
     "output_type": "stream",
     "text": [
      "0\n",
      "2\n",
      "4\n",
      "6\n",
      "8\n",
      "10\n"
     ]
    }
   ],
   "source": [
    "x = 0\n",
    "\n",
    "while x <= 10:\n",
    "    print(x)\n",
    "    x = x + 2"
   ]
  },
  {
   "cell_type": "markdown",
   "metadata": {},
   "source": [
    "The code below stops once `x` becomes less than 6"
   ]
  },
  {
   "cell_type": "code",
   "execution_count": 15,
   "metadata": {
    "execution": {
     "iopub.execute_input": "2020-07-12T02:36:58.375611Z",
     "iopub.status.busy": "2020-07-12T02:36:58.375034Z",
     "iopub.status.idle": "2020-07-12T02:36:58.377022Z",
     "shell.execute_reply": "2020-07-12T02:36:58.377397Z"
    }
   },
   "outputs": [
    {
     "name": "stdout",
     "output_type": "stream",
     "text": [
      "10.0\n",
      "5.0\n"
     ]
    }
   ],
   "source": [
    "x = 20\n",
    "\n",
    "while x > 6:\n",
    "    x = x/2\n",
    "    print(x)"
   ]
  },
  {
   "cell_type": "markdown",
   "metadata": {},
   "source": [
    "### `for` Loops\n",
    "For loops are used to iterate over data types, and perform functions on each element\n",
    "\n",
    "General Format:\n",
    "\n",
    "```\n",
    "list = [x, y, z]\n",
    "for item in list :\n",
    "      expression\n",
    "```\n",
    "      \n",
    "See the example using the list 'odd' below"
   ]
  },
  {
   "cell_type": "code",
   "execution_count": 16,
   "metadata": {
    "execution": {
     "iopub.execute_input": "2020-07-12T02:36:58.381478Z",
     "iopub.status.busy": "2020-07-12T02:36:58.380935Z",
     "iopub.status.idle": "2020-07-12T02:36:58.382995Z",
     "shell.execute_reply": "2020-07-12T02:36:58.383351Z"
    }
   },
   "outputs": [
    {
     "name": "stdout",
     "output_type": "stream",
     "text": [
      "1\n",
      "3\n",
      "5\n",
      "7\n",
      "9\n"
     ]
    }
   ],
   "source": [
    "odd = [1, 3, 5, 7, 9]\n",
    "for value in odd:\n",
    "    print(value)"
   ]
  },
  {
   "cell_type": "markdown",
   "metadata": {},
   "source": [
    "Use `enumerate()` to access index information (number of the current item in the sequence) during iteration:"
   ]
  },
  {
   "cell_type": "code",
   "execution_count": 17,
   "metadata": {
    "execution": {
     "iopub.execute_input": "2020-07-12T02:36:58.386361Z",
     "iopub.status.busy": "2020-07-12T02:36:58.385792Z",
     "iopub.status.idle": "2020-07-12T02:36:58.387635Z",
     "shell.execute_reply": "2020-07-12T02:36:58.388017Z"
    }
   },
   "outputs": [
    {
     "name": "stdout",
     "output_type": "stream",
     "text": [
      "Xhelal\n",
      "Erika\n",
      "Hezekiah\n",
      "Antonia\n",
      "Yaser\n"
     ]
    }
   ],
   "source": [
    "names = ['Xhelal', 'Erika', 'Hezekiah', 'Antonia', 'Yaser']\n",
    "\n",
    "# Just print the names\n",
    "for x in names:\n",
    "    print(x)"
   ]
  },
  {
   "cell_type": "code",
   "execution_count": 18,
   "metadata": {
    "execution": {
     "iopub.execute_input": "2020-07-12T02:36:58.390734Z",
     "iopub.status.busy": "2020-07-12T02:36:58.390251Z",
     "iopub.status.idle": "2020-07-12T02:36:58.391997Z",
     "shell.execute_reply": "2020-07-12T02:36:58.392388Z"
    }
   },
   "outputs": [
    {
     "name": "stdout",
     "output_type": "stream",
     "text": [
      "(0, 'Xhelal')\n",
      "(1, 'Erika')\n",
      "(2, 'Hezekiah')\n",
      "(3, 'Antonia')\n",
      "(4, 'Yaser')\n"
     ]
    }
   ],
   "source": [
    "# Enumerate and show the names\n",
    "for value in enumerate(names):\n",
    "    print(value)"
   ]
  },
  {
   "cell_type": "markdown",
   "metadata": {},
   "source": [
    "#### To loop over a list of lists:"
   ]
  },
  {
   "cell_type": "code",
   "execution_count": 19,
   "metadata": {
    "execution": {
     "iopub.execute_input": "2020-07-12T02:36:58.395761Z",
     "iopub.status.busy": "2020-07-12T02:36:58.395243Z",
     "iopub.status.idle": "2020-07-12T02:36:58.397285Z",
     "shell.execute_reply": "2020-07-12T02:36:58.397687Z"
    }
   },
   "outputs": [
    {
     "name": "stdout",
     "output_type": "stream",
     "text": [
      "['something', 4.2]\n",
      "['something_else', 5.4]\n"
     ]
    }
   ],
   "source": [
    "lol = [['something', 4.2], ['something_else', 5.4]]\n",
    "\n",
    "# Each list in our list has two entries; \n",
    "# if we just specify one variable to iterate over, we get each whole sub-list:\n",
    "for this in lol :\n",
    "      print(this)"
   ]
  },
  {
   "cell_type": "markdown",
   "metadata": {},
   "source": [
    "<div class=\"alert alert-block alert-info\">\n",
    "Note above that when we iterate through a list (or dictionary, or array, as you'll see below), we make a new \"dummy\" variable name (and *iterator* to use inside the list for each entry from the list. In the example above we called the iterator `this`.\n",
    "</div>"
   ]
  },
  {
   "cell_type": "code",
   "execution_count": 20,
   "metadata": {
    "execution": {
     "iopub.execute_input": "2020-07-12T02:36:58.400336Z",
     "iopub.status.busy": "2020-07-12T02:36:58.399828Z",
     "iopub.status.idle": "2020-07-12T02:36:58.401578Z",
     "shell.execute_reply": "2020-07-12T02:36:58.401913Z"
    }
   },
   "outputs": [
    {
     "name": "stdout",
     "output_type": "stream",
     "text": [
      "something\n",
      "something_else\n"
     ]
    }
   ],
   "source": [
    "# But if we specify two variables, it assigns one to each entry within the sub-lists:\n",
    "for this, that in lol:\n",
    "    print(this)"
   ]
  },
  {
   "cell_type": "code",
   "execution_count": 21,
   "metadata": {
    "execution": {
     "iopub.execute_input": "2020-07-12T02:36:58.404950Z",
     "iopub.status.busy": "2020-07-12T02:36:58.404391Z",
     "iopub.status.idle": "2020-07-12T02:36:58.406159Z",
     "shell.execute_reply": "2020-07-12T02:36:58.406637Z"
    }
   },
   "outputs": [
    {
     "name": "stdout",
     "output_type": "stream",
     "text": [
      "4.2\n",
      "5.4\n"
     ]
    }
   ],
   "source": [
    "for this, that in lol:\n",
    "    print(that)"
   ]
  },
  {
   "cell_type": "markdown",
   "metadata": {},
   "source": [
    "#### To loop over a dictionary\n",
    "\n",
    "Remember that dicts are key:value pairs. Python iterates over the *keys* of dicts:"
   ]
  },
  {
   "cell_type": "code",
   "execution_count": 22,
   "metadata": {
    "execution": {
     "iopub.execute_input": "2020-07-12T02:36:58.409515Z",
     "iopub.status.busy": "2020-07-12T02:36:58.409025Z",
     "iopub.status.idle": "2020-07-12T02:36:58.410709Z",
     "shell.execute_reply": "2020-07-12T02:36:58.411042Z"
    }
   },
   "outputs": [
    {
     "name": "stdout",
     "output_type": "stream",
     "text": [
      "Xhelal\n",
      "Erika\n"
     ]
    }
   ],
   "source": [
    "names_ages = {'Xhelal':22, 'Erika':25}\n",
    "\n",
    "for name in names_ages :\n",
    "    print(name)\n",
    "#     print(names_ages[name])"
   ]
  },
  {
   "cell_type": "markdown",
   "metadata": {},
   "source": [
    "If you want the *values* instead, you need to use indexing, where you use the iterator as the index to the original dict name:"
   ]
  },
  {
   "cell_type": "code",
   "execution_count": 23,
   "metadata": {
    "execution": {
     "iopub.execute_input": "2020-07-12T02:36:58.413685Z",
     "iopub.status.busy": "2020-07-12T02:36:58.413167Z",
     "iopub.status.idle": "2020-07-12T02:36:58.414946Z",
     "shell.execute_reply": "2020-07-12T02:36:58.415280Z"
    }
   },
   "outputs": [
    {
     "name": "stdout",
     "output_type": "stream",
     "text": [
      "22\n",
      "25\n"
     ]
    }
   ],
   "source": [
    "for name in names_ages:\n",
    "    print(names_ages[name])"
   ]
  },
  {
   "cell_type": "markdown",
   "metadata": {},
   "source": [
    "Print key then value:"
   ]
  },
  {
   "cell_type": "code",
   "execution_count": 24,
   "metadata": {
    "execution": {
     "iopub.execute_input": "2020-07-12T02:36:58.417932Z",
     "iopub.status.busy": "2020-07-12T02:36:58.417457Z",
     "iopub.status.idle": "2020-07-12T02:36:58.419412Z",
     "shell.execute_reply": "2020-07-12T02:36:58.419745Z"
    }
   },
   "outputs": [
    {
     "name": "stdout",
     "output_type": "stream",
     "text": [
      "Xhelal\n",
      "22\n",
      "Erika\n",
      "25\n"
     ]
    }
   ],
   "source": [
    "for name in names_ages:\n",
    "    print(name)\n",
    "    print(names_ages[name])"
   ]
  },
  {
   "cell_type": "markdown",
   "metadata": {},
   "source": [
    "#### To loop over a numpy array:\n",
    "\n",
    "1D arrays:"
   ]
  },
  {
   "cell_type": "code",
   "execution_count": 25,
   "metadata": {
    "execution": {
     "iopub.execute_input": "2020-07-12T02:36:58.422855Z",
     "iopub.status.busy": "2020-07-12T02:36:58.422367Z",
     "iopub.status.idle": "2020-07-12T02:36:58.424247Z",
     "shell.execute_reply": "2020-07-12T02:36:58.424579Z"
    }
   },
   "outputs": [
    {
     "name": "stdout",
     "output_type": "stream",
     "text": [
      "101\n",
      "103\n",
      "105\n",
      "107\n",
      "109\n"
     ]
    }
   ],
   "source": [
    "import numpy as np\n",
    "\n",
    "odds = np.array([1, 3, 5, 7, 9])\n",
    "\n",
    "for x in odds : \n",
    "    print(x + 100)"
   ]
  },
  {
   "cell_type": "markdown",
   "metadata": {},
   "source": [
    "2D arrays:"
   ]
  },
  {
   "cell_type": "code",
   "execution_count": 26,
   "metadata": {
    "execution": {
     "iopub.execute_input": "2020-07-12T02:36:58.427707Z",
     "iopub.status.busy": "2020-07-12T02:36:58.427224Z",
     "iopub.status.idle": "2020-07-12T02:36:58.429078Z",
     "shell.execute_reply": "2020-07-12T02:36:58.429470Z"
    }
   },
   "outputs": [
    {
     "name": "stdout",
     "output_type": "stream",
     "text": [
      "[[ 1  2]\n",
      " [ 3  4]\n",
      " [ 5  6]\n",
      " [ 7  8]\n",
      " [ 9 10]]\n"
     ]
    }
   ],
   "source": [
    "odds_evens = np.array([[1,2], [3,4], [5,6], [7,8], [9,10]])\n",
    "print(odds_evens)"
   ]
  },
  {
   "cell_type": "code",
   "execution_count": 27,
   "metadata": {
    "execution": {
     "iopub.execute_input": "2020-07-12T02:36:58.432574Z",
     "iopub.status.busy": "2020-07-12T02:36:58.432013Z",
     "iopub.status.idle": "2020-07-12T02:36:58.433837Z",
     "shell.execute_reply": "2020-07-12T02:36:58.434176Z"
    }
   },
   "outputs": [
    {
     "name": "stdout",
     "output_type": "stream",
     "text": [
      "100\n",
      "200\n",
      "300\n",
      "400\n",
      "500\n",
      "600\n",
      "700\n",
      "800\n",
      "900\n",
      "1000\n"
     ]
    }
   ],
   "source": [
    "for x in np.nditer(odds_evens):\n",
    "    print(x * 100)"
   ]
  },
  {
   "cell_type": "markdown",
   "metadata": {},
   "source": [
    "#### To loop over a dataframe\n",
    "\n",
    "The beauty of pandas DataFrames is that they provide methods that automatically iterate over rows or columns, and they do so in ways that are much more efficient (and elegant code) than useing a `for` loop. So in most cases you should first consider how do do what you want without a `for` loop. But, if you really want to, here is how:\n"
   ]
  },
  {
   "cell_type": "code",
   "execution_count": 28,
   "metadata": {
    "execution": {
     "iopub.execute_input": "2020-07-12T02:36:58.436583Z",
     "iopub.status.busy": "2020-07-12T02:36:58.436114Z",
     "iopub.status.idle": "2020-07-12T02:36:58.437505Z",
     "shell.execute_reply": "2020-07-12T02:36:58.437837Z"
    }
   },
   "outputs": [],
   "source": [
    "# Original data is in seconds; print out RTs in milliseconds instead:\n",
    "# for index, row in df.iterrows() :\n",
    "#     print(row['RT'] * 1000)"
   ]
  },
  {
   "cell_type": "markdown",
   "metadata": {},
   "source": [
    "## Chapter 5: Hacker Statistics\n",
    "\n",
    "### Random number generators"
   ]
  },
  {
   "cell_type": "markdown",
   "metadata": {},
   "source": [
    "Generate a random number:"
   ]
  },
  {
   "cell_type": "code",
   "execution_count": 29,
   "metadata": {
    "execution": {
     "iopub.execute_input": "2020-07-12T02:36:58.441019Z",
     "iopub.status.busy": "2020-07-12T02:36:58.440544Z",
     "iopub.status.idle": "2020-07-12T02:36:58.442542Z",
     "shell.execute_reply": "2020-07-12T02:36:58.442882Z"
    }
   },
   "outputs": [
    {
     "data": {
      "text/plain": [
       "0.4584330601267015"
      ]
     },
     "execution_count": 29,
     "metadata": {},
     "output_type": "execute_result"
    }
   ],
   "source": [
    "import numpy as np\n",
    "\n",
    "np.random.rand()"
   ]
  },
  {
   "cell_type": "markdown",
   "metadata": {},
   "source": [
    "Run it again, and we'll get a differnt number (which is the point of 'random', right?)"
   ]
  },
  {
   "cell_type": "code",
   "execution_count": 30,
   "metadata": {
    "execution": {
     "iopub.execute_input": "2020-07-12T02:36:58.445575Z",
     "iopub.status.busy": "2020-07-12T02:36:58.445098Z",
     "iopub.status.idle": "2020-07-12T02:36:58.446940Z",
     "shell.execute_reply": "2020-07-12T02:36:58.447410Z"
    }
   },
   "outputs": [
    {
     "data": {
      "text/plain": [
       "0.7350077089585938"
      ]
     },
     "execution_count": 30,
     "metadata": {},
     "output_type": "execute_result"
    }
   ],
   "source": [
    "np.random.rand()"
   ]
  },
  {
   "cell_type": "markdown",
   "metadata": {},
   "source": [
    "By default, the output of `np.random.rand()` is a random number between 0 and 1, drawn from a **uniform distribution** — in other words, any value is as likely as any other value in the range of 0–1. (One could also specify a different distribution, like a normal distribution with a mean of 0.5, where the value was most likely to be close to the centre of the distribution, i.e., close to 0.5).\n",
    "\n",
    "If you want a random number in a different range, such as 0-100, you can simply multiply the result:"
   ]
  },
  {
   "cell_type": "code",
   "execution_count": 31,
   "metadata": {
    "execution": {
     "iopub.execute_input": "2020-07-12T02:36:58.450243Z",
     "iopub.status.busy": "2020-07-12T02:36:58.449761Z",
     "iopub.status.idle": "2020-07-12T02:36:58.451589Z",
     "shell.execute_reply": "2020-07-12T02:36:58.451982Z"
    }
   },
   "outputs": [
    {
     "data": {
      "text/plain": [
       "42.55663786934861"
      ]
     },
     "execution_count": 31,
     "metadata": {},
     "output_type": "execute_result"
    }
   ],
   "source": [
    "np.random.rand() * 100"
   ]
  },
  {
   "cell_type": "markdown",
   "metadata": {},
   "source": [
    "However, if you want to specify a less rounded range, like, say, 78–94, and don't want to figure out the multiplier to do that, there is a \"convenience function\" that will allow you to specify the range. This is, arguably, more pythonic becuase it is more explicit/obvious to someone else reading your code:"
   ]
  },
  {
   "cell_type": "code",
   "execution_count": 32,
   "metadata": {
    "execution": {
     "iopub.execute_input": "2020-07-12T02:36:58.455190Z",
     "iopub.status.busy": "2020-07-12T02:36:58.454716Z",
     "iopub.status.idle": "2020-07-12T02:36:58.456774Z",
     "shell.execute_reply": "2020-07-12T02:36:58.457115Z"
    }
   },
   "outputs": [
    {
     "data": {
      "text/plain": [
       "79"
      ]
     },
     "execution_count": 32,
     "metadata": {},
     "output_type": "execute_result"
    }
   ],
   "source": [
    "np.random.randint(78, 94)"
   ]
  },
  {
   "cell_type": "markdown",
   "metadata": {},
   "source": [
    "If you want more than one random number, you can generate a list (1d NumPy array) by giving the command a single numeric argument:"
   ]
  },
  {
   "cell_type": "code",
   "execution_count": 33,
   "metadata": {
    "execution": {
     "iopub.execute_input": "2020-07-12T02:36:58.460127Z",
     "iopub.status.busy": "2020-07-12T02:36:58.459641Z",
     "iopub.status.idle": "2020-07-12T02:36:58.461686Z",
     "shell.execute_reply": "2020-07-12T02:36:58.462044Z"
    }
   },
   "outputs": [
    {
     "data": {
      "text/plain": [
       "array([0.33918197, 0.42721531, 0.32462905, 0.96902564, 0.66441743])"
      ]
     },
     "execution_count": 33,
     "metadata": {},
     "output_type": "execute_result"
    }
   ],
   "source": [
    "np.random.rand(5) "
   ]
  },
  {
   "cell_type": "markdown",
   "metadata": {},
   "source": [
    "You can generate a 2d NumPy array by giving it two arguments in the familiar (row, column) format:"
   ]
  },
  {
   "cell_type": "code",
   "execution_count": 34,
   "metadata": {
    "execution": {
     "iopub.execute_input": "2020-07-12T02:36:58.466073Z",
     "iopub.status.busy": "2020-07-12T02:36:58.465044Z",
     "iopub.status.idle": "2020-07-12T02:36:58.467766Z",
     "shell.execute_reply": "2020-07-12T02:36:58.468109Z"
    }
   },
   "outputs": [
    {
     "data": {
      "text/plain": [
       "array([[0.87177238, 0.65153973],\n",
       "       [0.7342608 , 0.51067385],\n",
       "       [0.84018015, 0.98807186],\n",
       "       [0.46583685, 0.26652007],\n",
       "       [0.11191502, 0.80360095]])"
      ]
     },
     "execution_count": 34,
     "metadata": {},
     "output_type": "execute_result"
    }
   ],
   "source": [
    "np.random.rand(5, 2) "
   ]
  },
  {
   "cell_type": "markdown",
   "metadata": {},
   "source": [
    "You can't chain the `rand()` and `randint()` commands, but the `randint()` takes an additional `size=` argument that allows you to specify the number/shape of the outputs:"
   ]
  },
  {
   "cell_type": "code",
   "execution_count": 35,
   "metadata": {
    "execution": {
     "iopub.execute_input": "2020-07-12T02:36:58.471254Z",
     "iopub.status.busy": "2020-07-12T02:36:58.470698Z",
     "iopub.status.idle": "2020-07-12T02:36:58.472742Z",
     "shell.execute_reply": "2020-07-12T02:36:58.473084Z"
    }
   },
   "outputs": [
    {
     "data": {
      "text/plain": [
       "array([97, 96, 99, 83, 75, 83, 92, 13, 78, 14])"
      ]
     },
     "execution_count": 35,
     "metadata": {},
     "output_type": "execute_result"
    }
   ],
   "source": [
    "np.random.randint(10,100, size=10)"
   ]
  },
  {
   "cell_type": "code",
   "execution_count": 36,
   "metadata": {
    "execution": {
     "iopub.execute_input": "2020-07-12T02:36:58.476845Z",
     "iopub.status.busy": "2020-07-12T02:36:58.476307Z",
     "iopub.status.idle": "2020-07-12T02:36:58.478259Z",
     "shell.execute_reply": "2020-07-12T02:36:58.478605Z"
    }
   },
   "outputs": [
    {
     "data": {
      "text/plain": [
       "array([[54, 42],\n",
       "       [91, 81],\n",
       "       [85, 36],\n",
       "       [57, 85],\n",
       "       [83, 84]])"
      ]
     },
     "execution_count": 36,
     "metadata": {},
     "output_type": "execute_result"
    }
   ],
   "source": [
    "np.random.randint(10,100, size=(5, 2)) # note size is a tuple"
   ]
  },
  {
   "cell_type": "markdown",
   "metadata": {},
   "source": [
    "### Seeds\n",
    "\n",
    "Sometimes, however, we want to generate the same random number every time. This may seem counter-intuitive, but it may be useful, for example if we want to write reproducible code that generates the same output every time it's run. One scientific application of this is simulations: sometimes, scientists want to create simulated data and test their algortihms on that, rather than on real data. They might want to do this becuase simulated data has known properties (e.g., you know the \"truth\"), whereas in real data, the point of analysis is often to identify certain properties that are not known. So if you are trying a new analysis method, and you don't know what the \"true\" result is because you're working with real data, it can be hard to validate the algorithm. If you use simulated data, you can get around that. \n",
    "\n",
    "As a simple example, we might want to simulate some human reaction time (RT) data. We might want to specify that it has a particular mean, but the simulated data would be a set of randomly-generated numbers, tha, when averaged, produced that mean. If we wanted to write some Python code in a Jupyter notebook to run this simulation, we might want it to generate the same simulated data each time — especially if this was example code that we were sharing with other scientists who would want to reproduce our results. In this case, we would want to specify the random **seed** — the number that \"seeds\" the random number generator to produce numebr or set of numbers.\n",
    "\n",
    "Below we specify a seed of 42 ([the answer to the Ultimate Question of Life, the Universe, and Everything](https://en.wikipedia.org/wiki/42_(number)#The_Hitchhiker's_Guide_to_the_Galaxy)), and show that each time we do so, then call `np.random.rand()`, we get the same random number:"
   ]
  },
  {
   "cell_type": "code",
   "execution_count": 37,
   "metadata": {
    "execution": {
     "iopub.execute_input": "2020-07-12T02:36:58.481626Z",
     "iopub.status.busy": "2020-07-12T02:36:58.481004Z",
     "iopub.status.idle": "2020-07-12T02:36:58.483052Z",
     "shell.execute_reply": "2020-07-12T02:36:58.483388Z"
    }
   },
   "outputs": [
    {
     "data": {
      "text/plain": [
       "0.3745401188473625"
      ]
     },
     "execution_count": 37,
     "metadata": {},
     "output_type": "execute_result"
    }
   ],
   "source": [
    "np.random.seed(42)\n",
    "np.random.rand()"
   ]
  },
  {
   "cell_type": "code",
   "execution_count": 38,
   "metadata": {
    "execution": {
     "iopub.execute_input": "2020-07-12T02:36:58.486263Z",
     "iopub.status.busy": "2020-07-12T02:36:58.485749Z",
     "iopub.status.idle": "2020-07-12T02:36:58.487776Z",
     "shell.execute_reply": "2020-07-12T02:36:58.488106Z"
    }
   },
   "outputs": [
    {
     "data": {
      "text/plain": [
       "0.3745401188473625"
      ]
     },
     "execution_count": 38,
     "metadata": {},
     "output_type": "execute_result"
    }
   ],
   "source": [
    "np.random.seed(42)\n",
    "np.random.rand()"
   ]
  },
  {
   "cell_type": "code",
   "execution_count": 39,
   "metadata": {
    "execution": {
     "iopub.execute_input": "2020-07-12T02:36:58.491257Z",
     "iopub.status.busy": "2020-07-12T02:36:58.490700Z",
     "iopub.status.idle": "2020-07-12T02:36:58.492804Z",
     "shell.execute_reply": "2020-07-12T02:36:58.493137Z"
    }
   },
   "outputs": [
    {
     "data": {
      "text/plain": [
       "0.3745401188473625"
      ]
     },
     "execution_count": 39,
     "metadata": {},
     "output_type": "execute_result"
    }
   ],
   "source": [
    "np.random.seed(42)\n",
    "np.random.rand()"
   ]
  },
  {
   "cell_type": "markdown",
   "metadata": {},
   "source": [
    "Importantly though, we do need to explicitly call `np.random.seed(42)` each time we want to generate that same random number, otherwise the seed will reset the next time we run the command:"
   ]
  },
  {
   "cell_type": "code",
   "execution_count": 40,
   "metadata": {
    "execution": {
     "iopub.execute_input": "2020-07-12T02:36:58.495816Z",
     "iopub.status.busy": "2020-07-12T02:36:58.495283Z",
     "iopub.status.idle": "2020-07-12T02:36:58.497039Z",
     "shell.execute_reply": "2020-07-12T02:36:58.497372Z"
    }
   },
   "outputs": [
    {
     "name": "stdout",
     "output_type": "stream",
     "text": [
      "0.3745401188473625\n"
     ]
    }
   ],
   "source": [
    "np.random.seed(42)\n",
    "print(np.random.rand())\n",
    "# Remember we need to \"print\" outputs if we want more than just the last command's\n",
    "# output in a Jupyter notebook)"
   ]
  },
  {
   "cell_type": "code",
   "execution_count": 41,
   "metadata": {
    "execution": {
     "iopub.execute_input": "2020-07-12T02:36:58.500166Z",
     "iopub.status.busy": "2020-07-12T02:36:58.499608Z",
     "iopub.status.idle": "2020-07-12T02:36:58.501382Z",
     "shell.execute_reply": "2020-07-12T02:36:58.501783Z"
    }
   },
   "outputs": [
    {
     "name": "stdout",
     "output_type": "stream",
     "text": [
      "0.9507143064099162\n"
     ]
    }
   ],
   "source": [
    "print(np.random.rand())"
   ]
  },
  {
   "cell_type": "code",
   "execution_count": 42,
   "metadata": {
    "execution": {
     "iopub.execute_input": "2020-07-12T02:36:58.504481Z",
     "iopub.status.busy": "2020-07-12T02:36:58.504000Z",
     "iopub.status.idle": "2020-07-12T02:36:58.505918Z",
     "shell.execute_reply": "2020-07-12T02:36:58.506311Z"
    }
   },
   "outputs": [
    {
     "name": "stdout",
     "output_type": "stream",
     "text": [
      "0.7319939418114051\n"
     ]
    }
   ],
   "source": [
    "print(np.random.rand())"
   ]
  },
  {
   "cell_type": "code",
   "execution_count": 43,
   "metadata": {
    "execution": {
     "iopub.execute_input": "2020-07-12T02:36:58.509648Z",
     "iopub.status.busy": "2020-07-12T02:36:58.509173Z",
     "iopub.status.idle": "2020-07-12T02:36:58.510901Z",
     "shell.execute_reply": "2020-07-12T02:36:58.511236Z"
    }
   },
   "outputs": [
    {
     "name": "stdout",
     "output_type": "stream",
     "text": [
      "0.3745401188473625\n"
     ]
    }
   ],
   "source": [
    "np.random.seed(42)\n",
    "print(np.random.rand())"
   ]
  },
  {
   "cell_type": "code",
   "execution_count": 44,
   "metadata": {
    "execution": {
     "iopub.execute_input": "2020-07-12T02:36:58.513873Z",
     "iopub.status.busy": "2020-07-12T02:36:58.513352Z",
     "iopub.status.idle": "2020-07-12T02:36:58.515442Z",
     "shell.execute_reply": "2020-07-12T02:36:58.515121Z"
    }
   },
   "outputs": [
    {
     "name": "stdout",
     "output_type": "stream",
     "text": [
      "0.3745401188473625\n"
     ]
    }
   ],
   "source": [
    "np.random.seed(42)\n",
    "print(np.random.rand())"
   ]
  }
 ],
 "metadata": {
  "kernelspec": {
   "display_name": "Python 3",
   "language": "python",
   "name": "python3"
  },
  "language_info": {
   "codemirror_mode": {
    "name": "ipython",
    "version": 3
   },
   "file_extension": ".py",
   "mimetype": "text/x-python",
   "name": "python",
   "nbconvert_exporter": "python",
   "pygments_lexer": "ipython3",
   "version": "3.7.4"
  }
 },
 "nbformat": 4,
 "nbformat_minor": 4
}