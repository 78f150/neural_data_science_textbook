{
 "cells": [
  {
   "cell_type": "markdown",
   "metadata": {},
   "source": [
    "# Lesson 2: Intermediate Python\n",
    "\n",
    "[View this lesson on DataCamp](https://learn.datacamp.com/courses/intermediate-python-for-data-science)\n",
    "\n",
    "## Chapter 1: Matplotlib\n",
    "This chapter introduces the basics of Matplotlib - how to make, configure, and show plots\n",
    "### Lineplots\n",
    "\n",
    "| |  |\n",
    "|------------------ |----------------|\n",
    "|`plt.plot(x,y)`    |create lineplot |\n",
    "|`plt.show()`       |show plot       |\n",
    "|`plt.title()`      |set plot title  |\n",
    "|`plt.xlabel()`     |set x-axis label|\n",
    "|`plt.ylabel()`     |set y-axis label|\n",
    "|`plt.xscale('log')`|set x-axis to log scale|\n",
    "|`plt.xticks()`     |define x-axis increments|\n",
    "|`plt.yticks()`     |define y-axis increments|\n",
    "\n",
    "### Scatterplots\n",
    "Same as above, but with the scatter method\n",
    "`plt.scatter(x,y)`\n",
    "\n",
    "|Argument        |Function           |\n",
    "|----------------|-------------------|\n",
    "|`s=`            |size; sets dot size|\n",
    "|`c=`            |colour, sets dot color|\n",
    "|`alpha=`         |set data point transparency|\n",
    "\n",
    "### Histograms \n",
    "\n",
    "|||\n",
    "|--------------|----------------|\n",
    "|`plt.hist()`  |create histogram, the `bins=` argument allows you to specify the number of bins|\n",
    "|`plt.clf()`   |clean up plot a plot that's already been created so you can start fresh|"
   ]
  },
  {
   "cell_type": "markdown",
   "metadata": {},
   "source": [
    "## Chapter 2: Dictionaries & pandas\n",
    "\n",
    "### Dictionaries\n",
    "Dictionaries are immutable, and composed of {'key':value} pairs"
   ]
  },
  {
   "cell_type": "code",
   "execution_count": 1,
   "metadata": {
    "execution": {
     "iopub.execute_input": "2020-07-12T02:39:18.675184Z",
     "iopub.status.busy": "2020-07-12T02:39:18.674233Z",
     "iopub.status.idle": "2020-07-12T02:39:18.676887Z",
     "shell.execute_reply": "2020-07-12T02:39:18.677432Z"
    }
   },
   "outputs": [],
   "source": [
    "maritimes = {'NS':'Halifax', 'NB':'Fredricton', 'PEI':'Charlottetown'}"
   ]
  },
  {
   "cell_type": "markdown",
   "metadata": {},
   "source": [
    "Calling `.keys()` prints all keys from a specified dictionary"
   ]
  },
  {
   "cell_type": "code",
   "execution_count": 2,
   "metadata": {
    "execution": {
     "iopub.execute_input": "2020-07-12T02:39:18.686235Z",
     "iopub.status.busy": "2020-07-12T02:39:18.685589Z",
     "iopub.status.idle": "2020-07-12T02:39:18.687920Z",
     "shell.execute_reply": "2020-07-12T02:39:18.688320Z"
    }
   },
   "outputs": [
    {
     "data": {
      "text/plain": [
       "dict_keys(['NS', 'NB', 'PEI'])"
      ]
     },
     "execution_count": 2,
     "metadata": {},
     "output_type": "execute_result"
    }
   ],
   "source": [
    "maritimes.keys()"
   ]
  },
  {
   "cell_type": "markdown",
   "metadata": {},
   "source": [
    "Calling dict['key'] will return the value that corresponds with that key"
   ]
  },
  {
   "cell_type": "code",
   "execution_count": 3,
   "metadata": {
    "execution": {
     "iopub.execute_input": "2020-07-12T02:39:18.691720Z",
     "iopub.status.busy": "2020-07-12T02:39:18.691077Z",
     "iopub.status.idle": "2020-07-12T02:39:18.693292Z",
     "shell.execute_reply": "2020-07-12T02:39:18.693688Z"
    }
   },
   "outputs": [
    {
     "data": {
      "text/plain": [
       "'Halifax'"
      ]
     },
     "execution_count": 3,
     "metadata": {},
     "output_type": "execute_result"
    }
   ],
   "source": [
    "maritimes['NS']"
   ]
  },
  {
   "cell_type": "markdown",
   "metadata": {},
   "source": [
    "Values can be added to dictionaries"
   ]
  },
  {
   "cell_type": "code",
   "execution_count": 4,
   "metadata": {
    "execution": {
     "iopub.execute_input": "2020-07-12T02:39:18.696754Z",
     "iopub.status.busy": "2020-07-12T02:39:18.696164Z",
     "iopub.status.idle": "2020-07-12T02:39:18.698211Z",
     "shell.execute_reply": "2020-07-12T02:39:18.698706Z"
    }
   },
   "outputs": [
    {
     "name": "stdout",
     "output_type": "stream",
     "text": [
      "{'NS': 'Halifax', 'NB': 'Fredricton', 'PEI': 'Charlottetown', 'NFLD': 'St. Johns'}\n"
     ]
    }
   ],
   "source": [
    "maritimes['NFLD'] = 'St. Johns'\n",
    "print(maritimes)"
   ]
  },
  {
   "cell_type": "markdown",
   "metadata": {},
   "source": [
    "...and deleted using `del()`"
   ]
  },
  {
   "cell_type": "code",
   "execution_count": 5,
   "metadata": {
    "execution": {
     "iopub.execute_input": "2020-07-12T02:39:18.702014Z",
     "iopub.status.busy": "2020-07-12T02:39:18.701412Z",
     "iopub.status.idle": "2020-07-12T02:39:18.703468Z",
     "shell.execute_reply": "2020-07-12T02:39:18.703854Z"
    }
   },
   "outputs": [
    {
     "name": "stdout",
     "output_type": "stream",
     "text": [
      "{'NS': 'Halifax', 'NB': 'Fredricton', 'PEI': 'Charlottetown'}\n"
     ]
    }
   ],
   "source": [
    "del(maritimes['NFLD'])\n",
    "print(maritimes)"
   ]
  },
  {
   "cell_type": "markdown",
   "metadata": {},
   "source": [
    "### pandas DataFrames\n",
    "\n",
    "Pandas dataframes are a way of storing tabular data. While we could store a data table in a 2D NumPy array (as we previously learned), a pandas dataframe has a number of advantages. It's more like an Excel spreadsheet, in that it can have column names (labels) and row indexes (the equivalent of column names, but for rows). As well, pandas offers a variety of methods that make it easier and more intuitive to work with data than a NumPy array.\n",
    "\n",
    "To import the pandas package we use the convention:"
   ]
  },
  {
   "cell_type": "code",
   "execution_count": 6,
   "metadata": {
    "execution": {
     "iopub.execute_input": "2020-07-12T02:39:18.706675Z",
     "iopub.status.busy": "2020-07-12T02:39:18.706143Z",
     "iopub.status.idle": "2020-07-12T02:39:18.983304Z",
     "shell.execute_reply": "2020-07-12T02:39:18.983643Z"
    }
   },
   "outputs": [],
   "source": [
    "import pandas as pd"
   ]
  },
  {
   "cell_type": "markdown",
   "metadata": {},
   "source": [
    "To convert an object, such as a NumPy array, to a pandas DataFrame, we use pd.DataFrame():"
   ]
  },
  {
   "cell_type": "code",
   "execution_count": 7,
   "metadata": {
    "execution": {
     "iopub.execute_input": "2020-07-12T02:39:18.987349Z",
     "iopub.status.busy": "2020-07-12T02:39:18.986842Z",
     "iopub.status.idle": "2020-07-12T02:39:18.988632Z",
     "shell.execute_reply": "2020-07-12T02:39:18.988952Z"
    }
   },
   "outputs": [
    {
     "name": "stdout",
     "output_type": "stream",
     "text": [
      "[[1 2 3 4]\n",
      " [5 6 7 8]]\n"
     ]
    }
   ],
   "source": [
    "# Create np array\n",
    "import numpy as np\n",
    "\n",
    "x = np.array(([1,2,3,4],[5,6,7,8]))\n",
    "print(x)"
   ]
  },
  {
   "cell_type": "code",
   "execution_count": 8,
   "metadata": {
    "execution": {
     "iopub.execute_input": "2020-07-12T02:39:18.993571Z",
     "iopub.status.busy": "2020-07-12T02:39:18.993095Z",
     "iopub.status.idle": "2020-07-12T02:39:18.997044Z",
     "shell.execute_reply": "2020-07-12T02:39:18.997462Z"
    }
   },
   "outputs": [
    {
     "data": {
      "text/html": [
       "<div>\n",
       "<style scoped>\n",
       "    .dataframe tbody tr th:only-of-type {\n",
       "        vertical-align: middle;\n",
       "    }\n",
       "\n",
       "    .dataframe tbody tr th {\n",
       "        vertical-align: top;\n",
       "    }\n",
       "\n",
       "    .dataframe thead th {\n",
       "        text-align: right;\n",
       "    }\n",
       "</style>\n",
       "<table border=\"1\" class=\"dataframe\">\n",
       "  <thead>\n",
       "    <tr style=\"text-align: right;\">\n",
       "      <th></th>\n",
       "      <th>0</th>\n",
       "      <th>1</th>\n",
       "      <th>2</th>\n",
       "      <th>3</th>\n",
       "    </tr>\n",
       "  </thead>\n",
       "  <tbody>\n",
       "    <tr>\n",
       "      <th>0</th>\n",
       "      <td>1</td>\n",
       "      <td>2</td>\n",
       "      <td>3</td>\n",
       "      <td>4</td>\n",
       "    </tr>\n",
       "    <tr>\n",
       "      <th>1</th>\n",
       "      <td>5</td>\n",
       "      <td>6</td>\n",
       "      <td>7</td>\n",
       "      <td>8</td>\n",
       "    </tr>\n",
       "  </tbody>\n",
       "</table>\n",
       "</div>"
      ],
      "text/plain": [
       "   0  1  2  3\n",
       "0  1  2  3  4\n",
       "1  5  6  7  8"
      ]
     },
     "execution_count": 8,
     "metadata": {},
     "output_type": "execute_result"
    }
   ],
   "source": [
    "# convert to DataFrame\n",
    "df = pd.DataFrame(x)\n",
    "df"
   ]
  },
  {
   "cell_type": "markdown",
   "metadata": {},
   "source": [
    "Note above the pretty formatting that Jupyter applies when viewing a DataFrame. That alone makes it easier to work with than a NumPy array!\n",
    "\n",
    "Note above that the column labels and indices are by default just sequential numbers, starting from zero as is the norm in Python."
   ]
  },
  {
   "cell_type": "markdown",
   "metadata": {},
   "source": [
    "Often we'll be reading data from a file rather than creating DataFrames from scratch. To load the contents of a CSV file into a DataFrame, use `pd.to_csv()`. Here we'll load a small CSV file containing 10 reaction times (RTs):"
   ]
  },
  {
   "cell_type": "code",
   "execution_count": 9,
   "metadata": {
    "execution": {
     "iopub.execute_input": "2020-07-12T02:39:19.000294Z",
     "iopub.status.busy": "2020-07-12T02:39:18.999792Z",
     "iopub.status.idle": "2020-07-12T02:39:19.002119Z",
     "shell.execute_reply": "2020-07-12T02:39:19.002445Z"
    }
   },
   "outputs": [
    {
     "data": {
      "text/plain": [
       "'/Users/aaron/Documents/Teaching/3505/NESC_3505_textbook'"
      ]
     },
     "execution_count": 9,
     "metadata": {},
     "output_type": "execute_result"
    }
   ],
   "source": [
    "import os\n",
    "os.getcwd()"
   ]
  },
  {
   "cell_type": "code",
   "execution_count": 10,
   "metadata": {
    "execution": {
     "iopub.execute_input": "2020-07-12T02:39:19.005289Z",
     "iopub.status.busy": "2020-07-12T02:39:19.004785Z",
     "iopub.status.idle": "2020-07-12T02:39:19.006203Z",
     "shell.execute_reply": "2020-07-12T02:39:19.006529Z"
    }
   },
   "outputs": [],
   "source": [
    "# df = pd.read_csv('./rt_data.csv')\n",
    "# df"
   ]
  },
  {
   "cell_type": "markdown",
   "metadata": {},
   "source": [
    "Note above that the first imported column is `Trial_Num`, which starts at 1, but the index, by default, starts from zero. We can tell pandas that we want the trial number to act as the index, which could make our life easier later on when working with this data:"
   ]
  },
  {
   "cell_type": "code",
   "execution_count": 11,
   "metadata": {
    "execution": {
     "iopub.execute_input": "2020-07-12T02:39:19.008742Z",
     "iopub.status.busy": "2020-07-12T02:39:19.008224Z",
     "iopub.status.idle": "2020-07-12T02:39:19.009747Z",
     "shell.execute_reply": "2020-07-12T02:39:19.010072Z"
    }
   },
   "outputs": [],
   "source": [
    "# df = pd.read_csv('./rt_data.csv', index_col='Trial_Num')\n",
    "# df"
   ]
  },
  {
   "cell_type": "markdown",
   "metadata": {},
   "source": [
    "### Slicing pandas dataframes\n",
    "dataframe[#:#] allows you to slice specified rows based on integer index\n",
    "\n",
    "|Slicing with `.loc` |                   |\n",
    "|--------------------|-------------------|\n",
    "|`.loc['']`         |slice specified row based on string index --> pandas series|\n",
    "|`.loc[['']]`       |slice specified row based on string index --> pandas dataframe|\n",
    "|`.loc[[''], ['']]` |slice specified rows and columns --> pandas sub-dataframe|\n",
    "|`.loc[:, ' ']`     |slice all rows and specified columns --> pandas series|\n",
    "|`.loc[:, [' ']]`   |slice all rows and specified columns --> pandas sub-dataframe|\n",
    "\n",
    "\n",
    "|Slicing with `.iloc` |                   |\n",
    "|--------------------|-------------------|\n",
    "|`.iloc[#]`          |slice specified row based on integer index|\n",
    "|`.iloc[[#]]`        |slice specified row based on unterger index --> pandas dataframe|\n",
    "|`.iloc[[#], [#]]`   |slice specified rows and columns --> pandas sub-dataframe|\n",
    "|`.iloc[:, #]`       |slice all rows and specified columns --> pandas series|\n",
    "|`.iloc[:, [#]]`     |slice all rows and specified columns --> pandas sub-dataframe|"
   ]
  },
  {
   "cell_type": "markdown",
   "metadata": {},
   "source": [
    "## Chapter 3: Logic, Control Flow, & Filtering\n",
    "\n",
    "### Comparison Operators \n",
    "|               |               |\n",
    "|---------------|---------------|\n",
    "|`==`           |\"are equal\"    |\n",
    "|`<` and `>`    |\"is less than\" and \"is greater than\" |\n",
    "|`<=` and `>=`  |\"less than or equal to\" and \"greater than or equal to\"|\n",
    "|`!=`           |\"is not equal to\"|\n",
    "\n",
    "### Boolean Operators\n",
    "|Operator          |Function       |\n",
    "|------------------|---------------|\n",
    "|and               |require 2 or more specified objects|\n",
    "|or                |require at least one specified object|\n",
    "|not               |anything but specified object|\n",
    "|`np.logical_and()`|\"and\" statement, can be passed multiple comparison criteria|\n",
    "|`np.logical_or()` |\"or\" statement, can be passed multiple comparison criteria|\n",
    "|`np.logical_not()`|\"not\" statement, can be passed multiple comparison criteria|"
   ]
  },
  {
   "cell_type": "markdown",
   "metadata": {},
   "source": [
    "### Conditional Statements\n",
    "\n",
    "```\n",
    "if condition :\n",
    "     expression\n",
    "elif condition : \n",
    "     expression\n",
    "else :\n",
    "     expression\n",
    "```\n",
    "\n",
    "`if` - check if initial specified condition holds True. If so, perform specified expression(s).\n",
    "\n",
    "`elif` - (else if) if the `if` condition is False, check whether this secondary condition holds True. If so, perform secondary specified expression(s)\n",
    "\n",
    "`else` - if all `if` or `elif` conditions are False, perform specified expression. \n",
    "\n",
    "Note that `elif` and `else` are *not required* in `if` statements. When you write an `if` statement with no `elif` oe `else` options, and the `if` statement is not True, then Python simply moves on as if nothing ever happened.\n",
    "\n",
    "<div class=\"alert alert-block alert-info\">\n",
    "Always be sure your `if`, `elif`, and `else` lines end with colons!\n",
    "</div>"
   ]
  },
  {
   "cell_type": "code",
   "execution_count": 12,
   "metadata": {
    "execution": {
     "iopub.execute_input": "2020-07-12T02:39:19.012826Z",
     "iopub.status.busy": "2020-07-12T02:39:19.012337Z",
     "iopub.status.idle": "2020-07-12T02:39:19.014056Z",
     "shell.execute_reply": "2020-07-12T02:39:19.014449Z"
    }
   },
   "outputs": [
    {
     "name": "stdout",
     "output_type": "stream",
     "text": [
      "Larger than 10\n"
     ]
    }
   ],
   "source": [
    "x = 11\n",
    "\n",
    "if x < 10: \n",
    "    print(\"Smaller than 10\")\n",
    "else:\n",
    "    print(\"Larger than 10\")"
   ]
  },
  {
   "cell_type": "markdown",
   "metadata": {},
   "source": [
    "A most complex example, to tell the season based on the month:"
   ]
  },
  {
   "cell_type": "code",
   "execution_count": 13,
   "metadata": {
    "execution": {
     "iopub.execute_input": "2020-07-12T02:39:19.018038Z",
     "iopub.status.busy": "2020-07-12T02:39:19.017516Z",
     "iopub.status.idle": "2020-07-12T02:39:19.019233Z",
     "shell.execute_reply": "2020-07-12T02:39:19.019567Z"
    }
   },
   "outputs": [
    {
     "name": "stdout",
     "output_type": "stream",
     "text": [
      "Winter\n"
     ]
    }
   ],
   "source": [
    "month = 'January'\n",
    "\n",
    "if month == 'June' or month == 'July' or month == 'August':\n",
    "    print('Summer!')\n",
    "elif month == 'September' or month == 'October' or month == 'November':\n",
    "    print(\"Fall\")\n",
    "elif month == 'December' or month == 'January' or month == 'February':\n",
    "    print(\"Winter\")\n",
    "else:\n",
    "    print(\"Spring\")\n"
   ]
  },
  {
   "cell_type": "markdown",
   "metadata": {},
   "source": [
    "## Chapter 4: Loops\n",
    "\n",
    "### `while` Loops \n",
    "While loops will excecute the code many times, as long as the coniditon is true (\"as long as x is true, do y\")\n",
    "\n",
    "Format:\n",
    "\n",
    "```\n",
    "while condition:\n",
    "    expression\n",
    "```\n",
    "\n"
   ]
  },
  {
   "cell_type": "markdown",
   "metadata": {},
   "source": [
    "Count to 10, by twos:"
   ]
  },
  {
   "cell_type": "code",
   "execution_count": 14,
   "metadata": {
    "execution": {
     "iopub.execute_input": "2020-07-12T02:39:19.022426Z",
     "iopub.status.busy": "2020-07-12T02:39:19.021947Z",
     "iopub.status.idle": "2020-07-12T02:39:19.023592Z",
     "shell.execute_reply": "2020-07-12T02:39:19.023935Z"
    }
   },
   "outputs": [
    {
     "name": "stdout",
     "output_type": "stream",
     "text": [
      "0\n",
      "2\n",
      "4\n",
      "6\n",
      "8\n",
      "10\n"
     ]
    }
   ],
   "source": [
    "x = 0\n",
    "\n",
    "while x <= 10:\n",
    "    print(x)\n",
    "    x = x + 2"
   ]
  },
  {
   "cell_type": "markdown",
   "metadata": {},
   "source": [
    "The code below stops once `x` becomes less than 6"
   ]
  },
  {
   "cell_type": "code",
   "execution_count": 15,
   "metadata": {
    "execution": {
     "iopub.execute_input": "2020-07-12T02:39:19.026607Z",
     "iopub.status.busy": "2020-07-12T02:39:19.026128Z",
     "iopub.status.idle": "2020-07-12T02:39:19.027764Z",
     "shell.execute_reply": "2020-07-12T02:39:19.028160Z"
    }
   },
   "outputs": [
    {
     "name": "stdout",
     "output_type": "stream",
     "text": [
      "10.0\n",
      "5.0\n"
     ]
    }
   ],
   "source": [
    "x = 20\n",
    "\n",
    "while x > 6:\n",
    "    x = x/2\n",
    "    print(x)"
   ]
  },
  {
   "cell_type": "markdown",
   "metadata": {},
   "source": [
    "### `for` Loops\n",
    "For loops are used to iterate over data types, and perform functions on each element\n",
    "\n",
    "General Format:\n",
    "\n",
    "```\n",
    "list = [x, y, z]\n",
    "for item in list :\n",
    "      expression\n",
    "```\n",
    "      \n",
    "See the example using the list 'odd' below"
   ]
  },
  {
   "cell_type": "code",
   "execution_count": 16,
   "metadata": {
    "execution": {
     "iopub.execute_input": "2020-07-12T02:39:19.030931Z",
     "iopub.status.busy": "2020-07-12T02:39:19.030436Z",
     "iopub.status.idle": "2020-07-12T02:39:19.032779Z",
     "shell.execute_reply": "2020-07-12T02:39:19.033286Z"
    }
   },
   "outputs": [
    {
     "name": "stdout",
     "output_type": "stream",
     "text": [
      "1\n",
      "3\n",
      "5\n",
      "7\n",
      "9\n"
     ]
    }
   ],
   "source": [
    "odd = [1, 3, 5, 7, 9]\n",
    "for value in odd:\n",
    "    print(value)"
   ]
  },
  {
   "cell_type": "markdown",
   "metadata": {},
   "source": [
    "Use `enumerate()` to access index information (number of the current item in the sequence) during iteration:"
   ]
  },
  {
   "cell_type": "code",
   "execution_count": 17,
   "metadata": {
    "execution": {
     "iopub.execute_input": "2020-07-12T02:39:19.036339Z",
     "iopub.status.busy": "2020-07-12T02:39:19.035798Z",
     "iopub.status.idle": "2020-07-12T02:39:19.037472Z",
     "shell.execute_reply": "2020-07-12T02:39:19.038023Z"
    }
   },
   "outputs": [
    {
     "name": "stdout",
     "output_type": "stream",
     "text": [
      "Xhelal\n",
      "Erika\n",
      "Hezekiah\n",
      "Antonia\n",
      "Yaser\n"
     ]
    }
   ],
   "source": [
    "names = ['Xhelal', 'Erika', 'Hezekiah', 'Antonia', 'Yaser']\n",
    "\n",
    "# Just print the names\n",
    "for x in names:\n",
    "    print(x)"
   ]
  },
  {
   "cell_type": "code",
   "execution_count": 18,
   "metadata": {
    "execution": {
     "iopub.execute_input": "2020-07-12T02:39:19.040881Z",
     "iopub.status.busy": "2020-07-12T02:39:19.040340Z",
     "iopub.status.idle": "2020-07-12T02:39:19.042069Z",
     "shell.execute_reply": "2020-07-12T02:39:19.042402Z"
    }
   },
   "outputs": [
    {
     "name": "stdout",
     "output_type": "stream",
     "text": [
      "(0, 'Xhelal')\n",
      "(1, 'Erika')\n",
      "(2, 'Hezekiah')\n",
      "(3, 'Antonia')\n",
      "(4, 'Yaser')\n"
     ]
    }
   ],
   "source": [
    "# Enumerate and show the names\n",
    "for value in enumerate(names):\n",
    "    print(value)"
   ]
  },
  {
   "cell_type": "markdown",
   "metadata": {},
   "source": [
    "#### To loop over a list of lists:"
   ]
  },
  {
   "cell_type": "code",
   "execution_count": 19,
   "metadata": {
    "execution": {
     "iopub.execute_input": "2020-07-12T02:39:19.045305Z",
     "iopub.status.busy": "2020-07-12T02:39:19.044786Z",
     "iopub.status.idle": "2020-07-12T02:39:19.046568Z",
     "shell.execute_reply": "2020-07-12T02:39:19.046905Z"
    }
   },
   "outputs": [
    {
     "name": "stdout",
     "output_type": "stream",
     "text": [
      "['something', 4.2]\n",
      "['something_else', 5.4]\n"
     ]
    }
   ],
   "source": [
    "lol = [['something', 4.2], ['something_else', 5.4]]\n",
    "\n",
    "# Each list in our list has two entries; \n",
    "# if we just specify one variable to iterate over, we get each whole sub-list:\n",
    "for this in lol :\n",
    "      print(this)"
   ]
  },
  {
   "cell_type": "markdown",
   "metadata": {},
   "source": [
    "<div class=\"alert alert-block alert-info\">\n",
    "Note above that when we iterate through a list (or dictionary, or array, as you'll see below), we make a new \"dummy\" variable name (and *iterator* to use inside the list for each entry from the list. In the example above we called the iterator `this`.\n",
    "</div>"
   ]
  },
  {
   "cell_type": "code",
   "execution_count": 20,
   "metadata": {
    "execution": {
     "iopub.execute_input": "2020-07-12T02:39:19.049533Z",
     "iopub.status.busy": "2020-07-12T02:39:19.049014Z",
     "iopub.status.idle": "2020-07-12T02:39:19.050709Z",
     "shell.execute_reply": "2020-07-12T02:39:19.051041Z"
    }
   },
   "outputs": [
    {
     "name": "stdout",
     "output_type": "stream",
     "text": [
      "something\n",
      "something_else\n"
     ]
    }
   ],
   "source": [
    "# But if we specify two variables, it assigns one to each entry within the sub-lists:\n",
    "for this, that in lol:\n",
    "    print(this)"
   ]
  },
  {
   "cell_type": "code",
   "execution_count": 21,
   "metadata": {
    "execution": {
     "iopub.execute_input": "2020-07-12T02:39:19.053663Z",
     "iopub.status.busy": "2020-07-12T02:39:19.053086Z",
     "iopub.status.idle": "2020-07-12T02:39:19.054855Z",
     "shell.execute_reply": "2020-07-12T02:39:19.055190Z"
    }
   },
   "outputs": [
    {
     "name": "stdout",
     "output_type": "stream",
     "text": [
      "4.2\n",
      "5.4\n"
     ]
    }
   ],
   "source": [
    "for this, that in lol:\n",
    "    print(that)"
   ]
  },
  {
   "cell_type": "markdown",
   "metadata": {},
   "source": [
    "#### To loop over a dictionary\n",
    "\n",
    "Remember that dicts are key:value pairs. Python iterates over the *keys* of dicts:"
   ]
  },
  {
   "cell_type": "code",
   "execution_count": 22,
   "metadata": {
    "execution": {
     "iopub.execute_input": "2020-07-12T02:39:19.058002Z",
     "iopub.status.busy": "2020-07-12T02:39:19.057518Z",
     "iopub.status.idle": "2020-07-12T02:39:19.059184Z",
     "shell.execute_reply": "2020-07-12T02:39:19.059521Z"
    }
   },
   "outputs": [
    {
     "name": "stdout",
     "output_type": "stream",
     "text": [
      "Xhelal\n",
      "Erika\n"
     ]
    }
   ],
   "source": [
    "names_ages = {'Xhelal':22, 'Erika':25}\n",
    "\n",
    "for name in names_ages :\n",
    "    print(name)\n",
    "#     print(names_ages[name])"
   ]
  },
  {
   "cell_type": "markdown",
   "metadata": {},
   "source": [
    "If you want the *values* instead, you need to use indexing, where you use the iterator as the index to the original dict name:"
   ]
  },
  {
   "cell_type": "code",
   "execution_count": 23,
   "metadata": {
    "execution": {
     "iopub.execute_input": "2020-07-12T02:39:19.062050Z",
     "iopub.status.busy": "2020-07-12T02:39:19.061559Z",
     "iopub.status.idle": "2020-07-12T02:39:19.063384Z",
     "shell.execute_reply": "2020-07-12T02:39:19.063734Z"
    }
   },
   "outputs": [
    {
     "name": "stdout",
     "output_type": "stream",
     "text": [
      "22\n",
      "25\n"
     ]
    }
   ],
   "source": [
    "for name in names_ages:\n",
    "    print(names_ages[name])"
   ]
  },
  {
   "cell_type": "markdown",
   "metadata": {},
   "source": [
    "Print key then value:"
   ]
  },
  {
   "cell_type": "code",
   "execution_count": 24,
   "metadata": {
    "execution": {
     "iopub.execute_input": "2020-07-12T02:39:19.066440Z",
     "iopub.status.busy": "2020-07-12T02:39:19.065959Z",
     "iopub.status.idle": "2020-07-12T02:39:19.067600Z",
     "shell.execute_reply": "2020-07-12T02:39:19.067937Z"
    }
   },
   "outputs": [
    {
     "name": "stdout",
     "output_type": "stream",
     "text": [
      "Xhelal\n",
      "22\n",
      "Erika\n",
      "25\n"
     ]
    }
   ],
   "source": [
    "for name in names_ages:\n",
    "    print(name)\n",
    "    print(names_ages[name])"
   ]
  },
  {
   "cell_type": "markdown",
   "metadata": {},
   "source": [
    "#### To loop over a numpy array:\n",
    "\n",
    "1D arrays:"
   ]
  },
  {
   "cell_type": "code",
   "execution_count": 25,
   "metadata": {
    "execution": {
     "iopub.execute_input": "2020-07-12T02:39:19.070954Z",
     "iopub.status.busy": "2020-07-12T02:39:19.070473Z",
     "iopub.status.idle": "2020-07-12T02:39:19.072210Z",
     "shell.execute_reply": "2020-07-12T02:39:19.072548Z"
    }
   },
   "outputs": [
    {
     "name": "stdout",
     "output_type": "stream",
     "text": [
      "101\n",
      "103\n",
      "105\n",
      "107\n",
      "109\n"
     ]
    }
   ],
   "source": [
    "import numpy as np\n",
    "\n",
    "odds = np.array([1, 3, 5, 7, 9])\n",
    "\n",
    "for x in odds : \n",
    "    print(x + 100)"
   ]
  },
  {
   "cell_type": "markdown",
   "metadata": {},
   "source": [
    "2D arrays:"
   ]
  },
  {
   "cell_type": "code",
   "execution_count": 26,
   "metadata": {
    "execution": {
     "iopub.execute_input": "2020-07-12T02:39:19.075598Z",
     "iopub.status.busy": "2020-07-12T02:39:19.075116Z",
     "iopub.status.idle": "2020-07-12T02:39:19.076832Z",
     "shell.execute_reply": "2020-07-12T02:39:19.077249Z"
    }
   },
   "outputs": [
    {
     "name": "stdout",
     "output_type": "stream",
     "text": [
      "[[ 1  2]\n",
      " [ 3  4]\n",
      " [ 5  6]\n",
      " [ 7  8]\n",
      " [ 9 10]]\n"
     ]
    }
   ],
   "source": [
    "odds_evens = np.array([[1,2], [3,4], [5,6], [7,8], [9,10]])\n",
    "print(odds_evens)"
   ]
  },
  {
   "cell_type": "code",
   "execution_count": 27,
   "metadata": {
    "execution": {
     "iopub.execute_input": "2020-07-12T02:39:19.080012Z",
     "iopub.status.busy": "2020-07-12T02:39:19.079496Z",
     "iopub.status.idle": "2020-07-12T02:39:19.081359Z",
     "shell.execute_reply": "2020-07-12T02:39:19.081693Z"
    }
   },
   "outputs": [
    {
     "name": "stdout",
     "output_type": "stream",
     "text": [
      "100\n",
      "200\n",
      "300\n",
      "400\n",
      "500\n",
      "600\n",
      "700\n",
      "800\n",
      "900\n",
      "1000\n"
     ]
    }
   ],
   "source": [
    "for x in np.nditer(odds_evens):\n",
    "    print(x * 100)"
   ]
  },
  {
   "cell_type": "markdown",
   "metadata": {},
   "source": [
    "#### To loop over a dataframe\n",
    "\n",
    "The beauty of pandas DataFrames is that they provide methods that automatically iterate over rows or columns, and they do so in ways that are much more efficient (and elegant code) than useing a `for` loop. So in most cases you should first consider how do do what you want without a `for` loop. But, if you really want to, here is how:\n"
   ]
  },
  {
   "cell_type": "code",
   "execution_count": 28,
   "metadata": {
    "execution": {
     "iopub.execute_input": "2020-07-12T02:39:19.084385Z",
     "iopub.status.busy": "2020-07-12T02:39:19.083872Z",
     "iopub.status.idle": "2020-07-12T02:39:19.085224Z",
     "shell.execute_reply": "2020-07-12T02:39:19.085614Z"
    }
   },
   "outputs": [],
   "source": [
    "# Original data is in seconds; print out RTs in milliseconds instead:\n",
    "# for index, row in df.iterrows() :\n",
    "#     print(row['RT'] * 1000)"
   ]
  },
  {
   "cell_type": "markdown",
   "metadata": {},
   "source": [
    "## Chapter 5: Hacker Statistics\n",
    "\n",
    "### Random number generators"
   ]
  },
  {
   "cell_type": "markdown",
   "metadata": {},
   "source": [
    "Generate a random number:"
   ]
  },
  {
   "cell_type": "code",
   "execution_count": 29,
   "metadata": {
    "execution": {
     "iopub.execute_input": "2020-07-12T02:39:19.089215Z",
     "iopub.status.busy": "2020-07-12T02:39:19.088303Z",
     "iopub.status.idle": "2020-07-12T02:39:19.091178Z",
     "shell.execute_reply": "2020-07-12T02:39:19.091643Z"
    }
   },
   "outputs": [
    {
     "data": {
      "text/plain": [
       "0.23074157981480337"
      ]
     },
     "execution_count": 29,
     "metadata": {},
     "output_type": "execute_result"
    }
   ],
   "source": [
    "import numpy as np\n",
    "\n",
    "np.random.rand()"
   ]
  },
  {
   "cell_type": "markdown",
   "metadata": {},
   "source": [
    "Run it again, and we'll get a differnt number (which is the point of 'random', right?)"
   ]
  },
  {
   "cell_type": "code",
   "execution_count": 30,
   "metadata": {
    "execution": {
     "iopub.execute_input": "2020-07-12T02:39:19.095966Z",
     "iopub.status.busy": "2020-07-12T02:39:19.095119Z",
     "iopub.status.idle": "2020-07-12T02:39:19.097601Z",
     "shell.execute_reply": "2020-07-12T02:39:19.097993Z"
    }
   },
   "outputs": [
    {
     "data": {
      "text/plain": [
       "0.7562208675290008"
      ]
     },
     "execution_count": 30,
     "metadata": {},
     "output_type": "execute_result"
    }
   ],
   "source": [
    "np.random.rand()"
   ]
  },
  {
   "cell_type": "markdown",
   "metadata": {},
   "source": [
    "By default, the output of `np.random.rand()` is a random number between 0 and 1, drawn from a **uniform distribution** — in other words, any value is as likely as any other value in the range of 0–1. (One could also specify a different distribution, like a normal distribution with a mean of 0.5, where the value was most likely to be close to the centre of the distribution, i.e., close to 0.5).\n",
    "\n",
    "If you want a random number in a different range, such as 0-100, you can simply multiply the result:"
   ]
  },
  {
   "cell_type": "code",
   "execution_count": 31,
   "metadata": {
    "execution": {
     "iopub.execute_input": "2020-07-12T02:39:19.101755Z",
     "iopub.status.busy": "2020-07-12T02:39:19.100990Z",
     "iopub.status.idle": "2020-07-12T02:39:19.103513Z",
     "shell.execute_reply": "2020-07-12T02:39:19.104066Z"
    }
   },
   "outputs": [
    {
     "data": {
      "text/plain": [
       "84.27323468559823"
      ]
     },
     "execution_count": 31,
     "metadata": {},
     "output_type": "execute_result"
    }
   ],
   "source": [
    "np.random.rand() * 100"
   ]
  },
  {
   "cell_type": "markdown",
   "metadata": {},
   "source": [
    "However, if you want to specify a less rounded range, like, say, 78–94, and don't want to figure out the multiplier to do that, there is a \"convenience function\" that will allow you to specify the range. This is, arguably, more pythonic becuase it is more explicit/obvious to someone else reading your code:"
   ]
  },
  {
   "cell_type": "code",
   "execution_count": 32,
   "metadata": {
    "execution": {
     "iopub.execute_input": "2020-07-12T02:39:19.107302Z",
     "iopub.status.busy": "2020-07-12T02:39:19.106807Z",
     "iopub.status.idle": "2020-07-12T02:39:19.108983Z",
     "shell.execute_reply": "2020-07-12T02:39:19.109329Z"
    }
   },
   "outputs": [
    {
     "data": {
      "text/plain": [
       "84"
      ]
     },
     "execution_count": 32,
     "metadata": {},
     "output_type": "execute_result"
    }
   ],
   "source": [
    "np.random.randint(78, 94)"
   ]
  },
  {
   "cell_type": "markdown",
   "metadata": {},
   "source": [
    "If you want more than one random number, you can generate a list (1d NumPy array) by giving the command a single numeric argument:"
   ]
  },
  {
   "cell_type": "code",
   "execution_count": 33,
   "metadata": {
    "execution": {
     "iopub.execute_input": "2020-07-12T02:39:19.112382Z",
     "iopub.status.busy": "2020-07-12T02:39:19.111889Z",
     "iopub.status.idle": "2020-07-12T02:39:19.113777Z",
     "shell.execute_reply": "2020-07-12T02:39:19.114152Z"
    }
   },
   "outputs": [
    {
     "data": {
      "text/plain": [
       "array([0.92530016, 0.20893645, 0.0917403 , 0.87612206, 0.14020245])"
      ]
     },
     "execution_count": 33,
     "metadata": {},
     "output_type": "execute_result"
    }
   ],
   "source": [
    "np.random.rand(5) "
   ]
  },
  {
   "cell_type": "markdown",
   "metadata": {},
   "source": [
    "You can generate a 2d NumPy array by giving it two arguments in the familiar (row, column) format:"
   ]
  },
  {
   "cell_type": "code",
   "execution_count": 34,
   "metadata": {
    "execution": {
     "iopub.execute_input": "2020-07-12T02:39:19.117333Z",
     "iopub.status.busy": "2020-07-12T02:39:19.116829Z",
     "iopub.status.idle": "2020-07-12T02:39:19.119667Z",
     "shell.execute_reply": "2020-07-12T02:39:19.120139Z"
    }
   },
   "outputs": [
    {
     "data": {
      "text/plain": [
       "array([[0.50479806, 0.78475769],\n",
       "       [0.66513034, 0.6571748 ],\n",
       "       [0.05357987, 0.60738927],\n",
       "       [0.82586148, 0.37626606],\n",
       "       [0.85631755, 0.14040498]])"
      ]
     },
     "execution_count": 34,
     "metadata": {},
     "output_type": "execute_result"
    }
   ],
   "source": [
    "np.random.rand(5, 2) "
   ]
  },
  {
   "cell_type": "markdown",
   "metadata": {},
   "source": [
    "You can't chain the `rand()` and `randint()` commands, but the `randint()` takes an additional `size=` argument that allows you to specify the number/shape of the outputs:"
   ]
  },
  {
   "cell_type": "code",
   "execution_count": 35,
   "metadata": {
    "execution": {
     "iopub.execute_input": "2020-07-12T02:39:19.123813Z",
     "iopub.status.busy": "2020-07-12T02:39:19.123268Z",
     "iopub.status.idle": "2020-07-12T02:39:19.125289Z",
     "shell.execute_reply": "2020-07-12T02:39:19.125716Z"
    }
   },
   "outputs": [
    {
     "data": {
      "text/plain": [
       "array([14, 81, 56, 88, 47, 11, 83, 39, 17, 14])"
      ]
     },
     "execution_count": 35,
     "metadata": {},
     "output_type": "execute_result"
    }
   ],
   "source": [
    "np.random.randint(10,100, size=10)"
   ]
  },
  {
   "cell_type": "code",
   "execution_count": 36,
   "metadata": {
    "execution": {
     "iopub.execute_input": "2020-07-12T02:39:19.129180Z",
     "iopub.status.busy": "2020-07-12T02:39:19.128627Z",
     "iopub.status.idle": "2020-07-12T02:39:19.131048Z",
     "shell.execute_reply": "2020-07-12T02:39:19.131528Z"
    }
   },
   "outputs": [
    {
     "data": {
      "text/plain": [
       "array([[85, 77],\n",
       "       [32, 89],\n",
       "       [66, 83],\n",
       "       [68, 21],\n",
       "       [22, 43]])"
      ]
     },
     "execution_count": 36,
     "metadata": {},
     "output_type": "execute_result"
    }
   ],
   "source": [
    "np.random.randint(10,100, size=(5, 2)) # note size is a tuple"
   ]
  },
  {
   "cell_type": "markdown",
   "metadata": {},
   "source": [
    "### Seeds\n",
    "\n",
    "Sometimes, however, we want to generate the same random number every time. This may seem counter-intuitive, but it may be useful, for example if we want to write reproducible code that generates the same output every time it's run. One scientific application of this is simulations: sometimes, scientists want to create simulated data and test their algortihms on that, rather than on real data. They might want to do this becuase simulated data has known properties (e.g., you know the \"truth\"), whereas in real data, the point of analysis is often to identify certain properties that are not known. So if you are trying a new analysis method, and you don't know what the \"true\" result is because you're working with real data, it can be hard to validate the algorithm. If you use simulated data, you can get around that. \n",
    "\n",
    "As a simple example, we might want to simulate some human reaction time (RT) data. We might want to specify that it has a particular mean, but the simulated data would be a set of randomly-generated numbers, tha, when averaged, produced that mean. If we wanted to write some Python code in a Jupyter notebook to run this simulation, we might want it to generate the same simulated data each time — especially if this was example code that we were sharing with other scientists who would want to reproduce our results. In this case, we would want to specify the random **seed** — the number that \"seeds\" the random number generator to produce numebr or set of numbers.\n",
    "\n",
    "Below we specify a seed of 42 ([the answer to the Ultimate Question of Life, the Universe, and Everything](https://en.wikipedia.org/wiki/42_(number)#The_Hitchhiker's_Guide_to_the_Galaxy)), and show that each time we do so, then call `np.random.rand()`, we get the same random number:"
   ]
  },
  {
   "cell_type": "code",
   "execution_count": 37,
   "metadata": {
    "execution": {
     "iopub.execute_input": "2020-07-12T02:39:19.134638Z",
     "iopub.status.busy": "2020-07-12T02:39:19.134112Z",
     "iopub.status.idle": "2020-07-12T02:39:19.135854Z",
     "shell.execute_reply": "2020-07-12T02:39:19.136344Z"
    }
   },
   "outputs": [
    {
     "data": {
      "text/plain": [
       "0.3745401188473625"
      ]
     },
     "execution_count": 37,
     "metadata": {},
     "output_type": "execute_result"
    }
   ],
   "source": [
    "np.random.seed(42)\n",
    "np.random.rand()"
   ]
  },
  {
   "cell_type": "code",
   "execution_count": 38,
   "metadata": {
    "execution": {
     "iopub.execute_input": "2020-07-12T02:39:19.139153Z",
     "iopub.status.busy": "2020-07-12T02:39:19.138642Z",
     "iopub.status.idle": "2020-07-12T02:39:19.140468Z",
     "shell.execute_reply": "2020-07-12T02:39:19.140858Z"
    }
   },
   "outputs": [
    {
     "data": {
      "text/plain": [
       "0.3745401188473625"
      ]
     },
     "execution_count": 38,
     "metadata": {},
     "output_type": "execute_result"
    }
   ],
   "source": [
    "np.random.seed(42)\n",
    "np.random.rand()"
   ]
  },
  {
   "cell_type": "code",
   "execution_count": 39,
   "metadata": {
    "execution": {
     "iopub.execute_input": "2020-07-12T02:39:19.144397Z",
     "iopub.status.busy": "2020-07-12T02:39:19.143786Z",
     "iopub.status.idle": "2020-07-12T02:39:19.145694Z",
     "shell.execute_reply": "2020-07-12T02:39:19.146041Z"
    }
   },
   "outputs": [
    {
     "data": {
      "text/plain": [
       "0.3745401188473625"
      ]
     },
     "execution_count": 39,
     "metadata": {},
     "output_type": "execute_result"
    }
   ],
   "source": [
    "np.random.seed(42)\n",
    "np.random.rand()"
   ]
  },
  {
   "cell_type": "markdown",
   "metadata": {},
   "source": [
    "Importantly though, we do need to explicitly call `np.random.seed(42)` each time we want to generate that same random number, otherwise the seed will reset the next time we run the command:"
   ]
  },
  {
   "cell_type": "code",
   "execution_count": 40,
   "metadata": {
    "execution": {
     "iopub.execute_input": "2020-07-12T02:39:19.148843Z",
     "iopub.status.busy": "2020-07-12T02:39:19.148355Z",
     "iopub.status.idle": "2020-07-12T02:39:19.150072Z",
     "shell.execute_reply": "2020-07-12T02:39:19.150411Z"
    }
   },
   "outputs": [
    {
     "name": "stdout",
     "output_type": "stream",
     "text": [
      "0.3745401188473625\n"
     ]
    }
   ],
   "source": [
    "np.random.seed(42)\n",
    "print(np.random.rand())\n",
    "# Remember we need to \"print\" outputs if we want more than just the last command's\n",
    "# output in a Jupyter notebook)"
   ]
  },
  {
   "cell_type": "code",
   "execution_count": 41,
   "metadata": {
    "execution": {
     "iopub.execute_input": "2020-07-12T02:39:19.152984Z",
     "iopub.status.busy": "2020-07-12T02:39:19.152508Z",
     "iopub.status.idle": "2020-07-12T02:39:19.154281Z",
     "shell.execute_reply": "2020-07-12T02:39:19.154624Z"
    }
   },
   "outputs": [
    {
     "name": "stdout",
     "output_type": "stream",
     "text": [
      "0.9507143064099162\n"
     ]
    }
   ],
   "source": [
    "print(np.random.rand())"
   ]
  },
  {
   "cell_type": "code",
   "execution_count": 42,
   "metadata": {
    "execution": {
     "iopub.execute_input": "2020-07-12T02:39:19.157245Z",
     "iopub.status.busy": "2020-07-12T02:39:19.156749Z",
     "iopub.status.idle": "2020-07-12T02:39:19.158405Z",
     "shell.execute_reply": "2020-07-12T02:39:19.158876Z"
    }
   },
   "outputs": [
    {
     "name": "stdout",
     "output_type": "stream",
     "text": [
      "0.7319939418114051\n"
     ]
    }
   ],
   "source": [
    "print(np.random.rand())"
   ]
  },
  {
   "cell_type": "code",
   "execution_count": 43,
   "metadata": {
    "execution": {
     "iopub.execute_input": "2020-07-12T02:39:19.162111Z",
     "iopub.status.busy": "2020-07-12T02:39:19.161563Z",
     "iopub.status.idle": "2020-07-12T02:39:19.163475Z",
     "shell.execute_reply": "2020-07-12T02:39:19.163833Z"
    }
   },
   "outputs": [
    {
     "name": "stdout",
     "output_type": "stream",
     "text": [
      "0.3745401188473625\n"
     ]
    }
   ],
   "source": [
    "np.random.seed(42)\n",
    "print(np.random.rand())"
   ]
  },
  {
   "cell_type": "code",
   "execution_count": 44,
   "metadata": {
    "execution": {
     "iopub.execute_input": "2020-07-12T02:39:19.166610Z",
     "iopub.status.busy": "2020-07-12T02:39:19.166091Z",
     "iopub.status.idle": "2020-07-12T02:39:19.167873Z",
     "shell.execute_reply": "2020-07-12T02:39:19.168197Z"
    }
   },
   "outputs": [
    {
     "name": "stdout",
     "output_type": "stream",
     "text": [
      "0.3745401188473625\n"
     ]
    }
   ],
   "source": [
    "np.random.seed(42)\n",
    "print(np.random.rand())"
   ]
  }
 ],
 "metadata": {
  "kernelspec": {
   "display_name": "Python 3",
   "language": "python",
   "name": "python3"
  },
  "language_info": {
   "codemirror_mode": {
    "name": "ipython",
    "version": 3
   },
   "file_extension": ".py",
   "mimetype": "text/x-python",
   "name": "python",
   "nbconvert_exporter": "python",
   "pygments_lexer": "ipython3",
   "version": "3.7.4"
  }
 },
 "nbformat": 4,
 "nbformat_minor": 4
}