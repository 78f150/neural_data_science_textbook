{
 "cells": [
  {
   "cell_type": "markdown",
   "id": "4c9d0ae6-b9ba-4e18-ba5d-d518c025eae6",
   "metadata": {},
   "source": [
    "# Transforming the data - stub"
   ]
  },
  {
   "cell_type": "markdown",
   "id": "e491c007-b971-44bf-a44c-b48f3c47898a",
   "metadata": {
    "jp-MarkdownHeadingCollapsed": true,
    "tags": []
   },
   "source": [
    "---\n",
    "## Transforming the data\n",
    "\n",
    "One **fundamental assumption** of both the Tukey and standard scores methods of defining outliers, is that **our data points are normally distributed**, without significant skew (more values on one side of the mean than the other) or kurtosis (data values more or less spread out than a normal distribution). The fact that there are more \"outlier\" points at longer than shorter RTs in the box plot above, along with the fact that the median bars inside the IQRs (boxed) are closer to the bottom (slower) end of the box, suggest our data are skewed. As we have discussed previously, this is very common with RT data — but it does mean our data don't follow a normal distribution. \n",
    "\n",
    "We can make our RT data at least more normally-distributed by applying either a log or inverse ($1 / x$) transformation. We can create a column of inverse-transformed RT values in our DataFrame very simply:"
   ]
  }
 ],
 "metadata": {
  "kernelspec": {
   "display_name": "Python 3 (ipykernel)",
   "language": "python",
   "name": "python3"
  },
  "language_info": {
   "codemirror_mode": {
    "name": "ipython",
    "version": 3
   },
   "file_extension": ".py",
   "mimetype": "text/x-python",
   "name": "python",
   "nbconvert_exporter": "python",
   "pygments_lexer": "ipython3",
   "version": "3.9.6"
  }
 },
 "nbformat": 4,
 "nbformat_minor": 5
}
