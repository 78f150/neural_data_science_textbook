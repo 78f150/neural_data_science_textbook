{
 "cells": [
  {
   "cell_type": "markdown",
   "metadata": {},
   "source": [
    "# Exploring MNE's data structure\n",
    "---\n",
    "\n",
    "## Learning Objectives\n",
    "- Import raw EEG data using MNE\n",
    "- Examine the structure of an MNE `Raw` object\n",
    "- Access and view different attributes of a `Raw` data object\n",
    "- Visualize the positions of EEG electrodes \n",
    "\n",
    "\n",
    "---\n",
    "## Introduction\n",
    "\n",
    "In this lesson, we will load a raw EEG data file using MNE and gain an understanding of how MNE stores data. This is an important first step to working with data in MNE.\n"
   ]
  },
  {
   "cell_type": "markdown",
   "metadata": {},
   "source": [
    "## Load packages"
   ]
  },
  {
   "cell_type": "code",
   "execution_count": 1,
   "metadata": {},
   "outputs": [],
   "source": [
    "import mne\n",
    "mne.set_log_level('error')\n",
    "\n",
    "import numpy as np\n",
    "import matplotlib.pyplot as plt\n",
    "import glob"
   ]
  },
  {
   "cell_type": "markdown",
   "metadata": {},
   "source": [
    ":::{tip}\n",
    "In the above cell, we ran a command after importing mne, `mne.set_log_level('error')`. If you don't run this when using MNE, you will find that MNE provides a lot output, and often including some concerning-looking Python warning messages. Most of these warnings are safely ignored. I generally find this output more confusing than helpful, and turn it off routinely. For our lessons we will keep the output off because it just creates confusion.\n",
    ":::"
   ]
  },
  {
   "cell_type": "markdown",
   "metadata": {},
   "source": [
    "## Import raw data\n",
    "\n",
    "For EEG, raw data is typically stored in a one or more files containing continuous EEG data. There are many different proprietary file formats for EEG data; most of these are developed by the manufacturer of a particular EEG system, since an integral part of an EEG system is software to save the data for later analysis. Fortunately, MNE provides functions to import data from most common EEG systems. \n",
    "\n",
    "In the present case, we are working with data from a system sold by Brain Products, whose software is called *Brain Vision*. So we will use MNE's `read_raw_brainvision()` function. The Brain Vision format actually specifies *three files* for any given data set. The three files are all created at the time that the EEG data is acquired, and it's important to ensure that all three are copied when moving them around. The files are as follows:\n",
    "- `*.eeg` is the actual EEG data (electrical potential measurements for all electrodes, at all time points). This is stored in a compressed (binary) format\n",
    "- `*.vmrk` is a text file containing all of the markers (*trigger codes*) that were sent to the EEG system during data collection, by the stimulus computer. These typically encode the onset of various stimuli, and times of any responses by the participant, as well as and what each stimulus/response was. \n",
    "- `*.vhdr` is a text file with header information, or **metadata** about the data set, including technical details such as the sampling rate, and the settings of the EEG amplifier during the recording. The `.vhdr` file is particularly important because it specifies the file names of the `.eeg` and `.vmrk` files (although they should always be named consistently with the header file). \n",
    "\n",
    "When we run `read_raw_brainvision()` the file we will actually pass as an argument is the `.vhdr` file. Since it specifies the names of the associated `.eeg` and `.vmrk` files, from this file MNE can find the data and markers.\n",
    "\n",
    "As described previously, many of MNE's functions are nested inside subfolders (modules); for example, all of the file input-output (I/O) routines are in the module `mne.io`. So when we call the `read_raw_brainvision()` function, we have to do so as `mne.io.read_raw_brainvision()`. The one required argument for this function is the file name, and that's all we need for now: "
   ]
  },
  {
   "cell_type": "code",
   "execution_count": 2,
   "metadata": {},
   "outputs": [],
   "source": [
    "raw = mne.io.read_raw_brainvision('data/sub-001/sub-001.vhdr')"
   ]
  },
  {
   "cell_type": "markdown",
   "metadata": {},
   "source": [
    "### View raw data attributes\n",
    "\n",
    "We now have our raw EEG data represented in Python as an MNE `Raw` object. We can view it's basic information by asking for the `.info` property:"
   ]
  },
  {
   "cell_type": "code",
   "execution_count": 3,
   "metadata": {},
   "outputs": [
    {
     "data": {
      "text/html": [
       "<table class=\"table table-hover table-striped table-sm table-responsive small\">\n",
       "    <tr>\n",
       "        <th>Measurement date</th>\n",
       "        \n",
       "        <td>January 20, 2015  13:15:58 GMT</td>\n",
       "        \n",
       "    </tr>\n",
       "    <tr>\n",
       "        <th>Experimenter</th>\n",
       "        \n",
       "        <td>Unknown</td>\n",
       "        \n",
       "    </tr>\n",
       "        <th>Participant</th>\n",
       "        \n",
       "        <td>Unknown</td>\n",
       "        \n",
       "    </tr>\n",
       "    <tr>\n",
       "        <th>Digitized points</th>\n",
       "        \n",
       "        <td>Not available</td>\n",
       "        \n",
       "    </tr>\n",
       "    <tr>\n",
       "        <th>Good channels</th>\n",
       "        <td>16 EEG</td>\n",
       "    </tr>\n",
       "    <tr>\n",
       "        <th>Bad channels</th>\n",
       "        <td>None</td>\n",
       "    </tr>\n",
       "    <tr>\n",
       "        <th>EOG channels</th>\n",
       "        <td>Not available</td>\n",
       "    </tr>\n",
       "    <tr>\n",
       "        <th>ECG channels</th>\n",
       "        <td>Not available</td>\n",
       "    \n",
       "    <tr>\n",
       "        <th>Sampling frequency</th>\n",
       "        <td>500.00 Hz</td>\n",
       "    </tr>\n",
       "    \n",
       "    \n",
       "    <tr>\n",
       "        <th>Highpass</th>\n",
       "        <td>0.01 Hz</td>\n",
       "    </tr>\n",
       "    \n",
       "    \n",
       "    <tr>\n",
       "        <th>Lowpass</th>\n",
       "        <td>80.00 Hz</td>\n",
       "    </tr>\n",
       "    \n",
       "    \n",
       "</table>"
      ],
      "text/plain": [
       "<Info | 7 non-empty values\n",
       " bads: []\n",
       " ch_names: Fp1, F3, F7, C3, P3, TP9, Fz, Cz, Fp2, F4, F8, C4, P4, TP10, Pz, Oz\n",
       " chs: 16 EEG\n",
       " custom_ref_applied: False\n",
       " highpass: 0.0 Hz\n",
       " lowpass: 80.0 Hz\n",
       " meas_date: 2015-01-20 13:15:58 UTC\n",
       " nchan: 16\n",
       " projs: []\n",
       " sfreq: 500.0 Hz\n",
       ">"
      ]
     },
     "execution_count": 3,
     "metadata": {},
     "output_type": "execute_result"
    }
   ],
   "source": [
    "raw.info"
   ]
  },
  {
   "cell_type": "markdown",
   "metadata": {},
   "source": [
    "Although some of the information is not available, this shows us a few important things about our data set, including that there are 16 EEG channels (each channel contains the data from one EEG electrode), that the sampling rate is 500 Hz (i.e., EEG data were sampled 500 times per second, so we have a data point every 2 ms), and that the data were filtered during data collection between 0.01–80 Hz (more on filtering below).\n",
    "\n",
    "The information provided above is actually a subset of the information stored in the `Raw` object's `info`. We can use the `.keys()` method to see all of the fields available in `info`:"
   ]
  },
  {
   "cell_type": "code",
   "execution_count": 4,
   "metadata": {},
   "outputs": [
    {
     "data": {
      "text/plain": [
       "dict_keys(['acq_pars', 'acq_stim', 'ctf_head_t', 'description', 'dev_ctf_t', 'dig', 'experimenter', 'utc_offset', 'device_info', 'file_id', 'highpass', 'hpi_subsystem', 'kit_system_id', 'helium_info', 'line_freq', 'lowpass', 'meas_date', 'meas_id', 'proj_id', 'proj_name', 'subject_info', 'xplotter_layout', 'gantry_angle', 'bads', 'chs', 'comps', 'events', 'hpi_meas', 'hpi_results', 'projs', 'proc_history', 'custom_ref_applied', 'sfreq', 'dev_head_t', 'ch_names', 'nchan'])"
      ]
     },
     "execution_count": 4,
     "metadata": {},
     "output_type": "execute_result"
    }
   ],
   "source": [
    "raw.info.keys()"
   ]
  },
  {
   "cell_type": "markdown",
   "metadata": {},
   "source": [
    "We can access the values stored with any of these info attributes by putting it in square brackets, like this command to access the names of all of the channels (electrodes) in the data set:"
   ]
  },
  {
   "cell_type": "code",
   "execution_count": 5,
   "metadata": {},
   "outputs": [
    {
     "data": {
      "text/plain": [
       "['Fp1',\n",
       " 'F3',\n",
       " 'F7',\n",
       " 'C3',\n",
       " 'P3',\n",
       " 'TP9',\n",
       " 'Fz',\n",
       " 'Cz',\n",
       " 'Fp2',\n",
       " 'F4',\n",
       " 'F8',\n",
       " 'C4',\n",
       " 'P4',\n",
       " 'TP10',\n",
       " 'Pz',\n",
       " 'Oz']"
      ]
     },
     "execution_count": 5,
     "metadata": {},
     "output_type": "execute_result"
    }
   ],
   "source": [
    "raw.info['ch_names']"
   ]
  },
  {
   "cell_type": "markdown",
   "metadata": {},
   "source": [
    "The `info` is a snapshot of a few pieces of information that researchers may want to know about a data file, but it's far less than all the information stored in the MNE `Raw` object. To see the entire contents of the object, we can ask for it's `__dict__` (note that there are two underscores below `dict` and two after). Recall that `Raw` is a Python class, and any instance of the `Raw` class (such as our `raw` data here) is a Python object. Any Python object has an atrribute `__dict__`, and this attribute contains a dictionary of all of the object's attributes, with keys being the attribute names, and values being the information stored for that attribute."
   ]
  },
  {
   "cell_type": "code",
   "execution_count": 6,
   "metadata": {},
   "outputs": [
    {
     "data": {
      "text/plain": [
       "{'preload': False,\n",
       " '_last_samps': array([408639]),\n",
       " '_first_samps': array([0]),\n",
       " 'info': <Info | 7 non-empty values\n",
       "  bads: []\n",
       "  ch_names: Fp1, F3, F7, C3, P3, TP9, Fz, Cz, Fp2, F4, F8, C4, P4, TP10, Pz, Oz\n",
       "  chs: 16 EEG\n",
       "  custom_ref_applied: False\n",
       "  highpass: 0.0 Hz\n",
       "  lowpass: 80.0 Hz\n",
       "  meas_date: 2015-01-20 13:15:58 UTC\n",
       "  nchan: 16\n",
       "  projs: []\n",
       "  sfreq: 500.0 Hz\n",
       " >,\n",
       " 'buffer_size_sec': 1.0,\n",
       " '_cals': array([4.88281e-08, 4.88281e-08, 4.88281e-08, 4.88281e-08, 4.88281e-08,\n",
       "        4.88281e-08, 4.88281e-08, 4.88281e-08, 4.88281e-08, 4.88281e-08,\n",
       "        4.88281e-08, 4.88281e-08, 4.88281e-08, 4.88281e-08, 4.88281e-08,\n",
       "        4.88281e-08]),\n",
       " '_raw_extras': [{'offsets': None,\n",
       "   'fmt': 'single',\n",
       "   'order': 'F',\n",
       "   'n_samples': 408640,\n",
       "   'orig_nchan': 16}],\n",
       " '_read_picks': [array([ 0,  1,  2,  3,  4,  5,  6,  7,  8,  9, 10, 11, 12, 13, 14, 15])],\n",
       " '_read_comp_grade': None,\n",
       " '_comp': None,\n",
       " '_filenames': ['/Users/aaron/3505/NESC_3505_textbook/7-eeg/data/sub-001/sub-001.eeg'],\n",
       " 'orig_format': 'single',\n",
       " '_orig_units': {'Fp1': 'µV',\n",
       "  'F3': 'µV',\n",
       "  'F7': 'µV',\n",
       "  'C3': 'µV',\n",
       "  'P3': 'µV',\n",
       "  'TP9': 'µV',\n",
       "  'Fz': 'µV',\n",
       "  'Cz': 'µV',\n",
       "  'Fp2': 'µV',\n",
       "  'F4': 'µV',\n",
       "  'F8': 'µV',\n",
       "  'C4': 'µV',\n",
       "  'P4': 'µV',\n",
       "  'TP10': 'µV',\n",
       "  'Pz': 'µV',\n",
       "  'Oz': 'µV'},\n",
       " '_projectors': [],\n",
       " '_projector': None,\n",
       " '_dtype_': numpy.float64,\n",
       " '_annotations': <Annotations | 533 segments: Comment/actiCAP Data On (1), New Segment/ ...>,\n",
       " '_cropped_samp': 0,\n",
       " '_init_kwargs': {'vhdr_fname': 'data/sub-001/sub-001.vhdr',\n",
       "  'eog': ('HEOGL', 'HEOGR', 'VEOGb'),\n",
       "  'misc': 'auto',\n",
       "  'scale': 1.0,\n",
       "  'preload': False,\n",
       "  'verbose': None},\n",
       " 'impedances': {}}"
      ]
     },
     "execution_count": 6,
     "metadata": {},
     "output_type": "execute_result"
    }
   ],
   "source": [
    "raw.__dict__"
   ]
  },
  {
   "cell_type": "markdown",
   "metadata": {},
   "source": [
    "## Where's the data?\n",
    "\n",
    "For all the information that is in the output above, one thing you may have noticed is that there doesn't seem to be any actual EEG data! This is because, by default, MNE's routines to read raw data read the data file's *header* into memory, but not the data itself. The reason for this is that data files are often quite large, and so reading them in sometimes takes a noticeable amount of time, and consume significant memory. The header of a raw EEG data file contains its metadata (information about the file), as you saw above in printing out the `__dict__` this is often enough for MNE to perform some operations on the data. At some point, if you want to perform operations on the EEG data, then MNE will automatically load in the data to work on it. \n",
    "\n",
    "We can force MNE to load in the data when we read the file, with the `preload` kwarg. We'll do this now so that we can look at the data:"
   ]
  },
  {
   "cell_type": "code",
   "execution_count": 7,
   "metadata": {},
   "outputs": [
    {
     "data": {
      "text/plain": [
       "{'_last_samps': array([408639]),\n",
       " '_first_samps': array([0]),\n",
       " 'info': <Info | 7 non-empty values\n",
       "  bads: []\n",
       "  ch_names: Fp1, F3, F7, C3, P3, TP9, Fz, Cz, Fp2, F4, F8, C4, P4, TP10, Pz, Oz\n",
       "  chs: 16 EEG\n",
       "  custom_ref_applied: False\n",
       "  highpass: 0.0 Hz\n",
       "  lowpass: 80.0 Hz\n",
       "  meas_date: 2015-01-20 13:15:58 UTC\n",
       "  nchan: 16\n",
       "  projs: []\n",
       "  sfreq: 500.0 Hz\n",
       " >,\n",
       " 'buffer_size_sec': 1.0,\n",
       " '_cals': array([4.88281e-08, 4.88281e-08, 4.88281e-08, 4.88281e-08, 4.88281e-08,\n",
       "        4.88281e-08, 4.88281e-08, 4.88281e-08, 4.88281e-08, 4.88281e-08,\n",
       "        4.88281e-08, 4.88281e-08, 4.88281e-08, 4.88281e-08, 4.88281e-08,\n",
       "        4.88281e-08]),\n",
       " '_raw_extras': [{'offsets': None,\n",
       "   'fmt': 'single',\n",
       "   'order': 'F',\n",
       "   'n_samples': 408640,\n",
       "   'orig_nchan': 16}],\n",
       " '_read_picks': [array([ 0,  1,  2,  3,  4,  5,  6,  7,  8,  9, 10, 11, 12, 13, 14, 15])],\n",
       " '_read_comp_grade': None,\n",
       " '_comp': None,\n",
       " '_filenames': ['/Users/aaron/3505/NESC_3505_textbook/7-eeg/data/sub-001/sub-001.eeg'],\n",
       " 'orig_format': 'single',\n",
       " '_orig_units': {'Fp1': 'µV',\n",
       "  'F3': 'µV',\n",
       "  'F7': 'µV',\n",
       "  'C3': 'µV',\n",
       "  'P3': 'µV',\n",
       "  'TP9': 'µV',\n",
       "  'Fz': 'µV',\n",
       "  'Cz': 'µV',\n",
       "  'Fp2': 'µV',\n",
       "  'F4': 'µV',\n",
       "  'F8': 'µV',\n",
       "  'C4': 'µV',\n",
       "  'P4': 'µV',\n",
       "  'TP10': 'µV',\n",
       "  'Pz': 'µV',\n",
       "  'Oz': 'µV'},\n",
       " '_projectors': [],\n",
       " '_projector': None,\n",
       " '_dtype_': numpy.float64,\n",
       " '_annotations': <Annotations | 533 segments: Comment/actiCAP Data On (1), New Segment/ ...>,\n",
       " '_cropped_samp': 0,\n",
       " '_data': array([[ 3.90319624e-05,  4.00207315e-05,  3.93859662e-05, ...,\n",
       "         -3.61236387e-05, -3.68530085e-05, -3.70727349e-05],\n",
       "        [-7.43865586e-06, -8.24279363e-06, -9.04845728e-06, ...,\n",
       "         -6.24503770e-05, -6.34910258e-05, -6.46072057e-05],\n",
       "        [-3.61812406e-05, -3.63311582e-05, -3.82491870e-05, ...,\n",
       "         -2.71751265e-05, -2.62847766e-05, -2.64377459e-05],\n",
       "        ...,\n",
       "        [-2.27813604e-06, -4.87746943e-06, -5.93185121e-06, ...,\n",
       "          2.44406003e-04,  2.46452778e-04,  2.48580042e-04],\n",
       "        [ 1.42735408e-05,  1.42221378e-05,  1.44631312e-05, ...,\n",
       "         -1.72385127e-05, -1.69773969e-05, -1.79483322e-05],\n",
       "        [-3.00623740e-05, -3.05631481e-05, -3.14957457e-05, ...,\n",
       "         -1.21160445e-05, -1.18659912e-05, -1.28832751e-05]]),\n",
       " 'preload': True,\n",
       " '_init_kwargs': {'vhdr_fname': 'data/sub-001/sub-001.vhdr',\n",
       "  'eog': ('HEOGL', 'HEOGR', 'VEOGb'),\n",
       "  'misc': 'auto',\n",
       "  'scale': 1.0,\n",
       "  'preload': True,\n",
       "  'verbose': None},\n",
       " 'impedances': {}}"
      ]
     },
     "execution_count": 7,
     "metadata": {},
     "output_type": "execute_result"
    }
   ],
   "source": [
    "raw = mne.io.read_raw_brainvision('data/sub-001/sub-001.vhdr', \n",
    "                                  preload=True)\n",
    "\n",
    "raw.__dict__"
   ]
  },
  {
   "cell_type": "markdown",
   "metadata": {},
   "source": [
    "Now we can see that there is a `_data` attribute, containing a NumPy array. We can access the data like so:"
   ]
  },
  {
   "cell_type": "code",
   "execution_count": 8,
   "metadata": {},
   "outputs": [
    {
     "name": "stdout",
     "output_type": "stream",
     "text": [
      "<class 'numpy.ndarray'>\n",
      "(16, 408640)\n"
     ]
    }
   ],
   "source": [
    "print(type(raw._data))\n",
    "print(raw._data.shape)"
   ]
  },
  {
   "cell_type": "markdown",
   "metadata": {},
   "source": [
    "MNE represents the data as a 2D array with a row for each channel, and columns for time points. We can derive the length of the EEG recording, in seconds, by dividing the number of time points by the sampling rate:"
   ]
  },
  {
   "cell_type": "code",
   "execution_count": 9,
   "metadata": {},
   "outputs": [
    {
     "name": "stdout",
     "output_type": "stream",
     "text": [
      "Duration of EEG recording =  817.28 s, or 13.621333333333332 min.\n"
     ]
    }
   ],
   "source": [
    "scan_durn = raw._data.shape[1] / raw.info['sfreq']\n",
    "print('Duration of EEG recording = ', scan_durn, 's, or', scan_durn / 60, 'min.')"
   ]
  },
  {
   "cell_type": "markdown",
   "metadata": {},
   "source": [
    "## Accessing subsets of data\n",
    "\n",
    "Since the data is stored as a NumPy array, we can access specific data points using standard indexing. For example, if we wanted to select all of the data from only channel 15, we would use:"
   ]
  },
  {
   "cell_type": "code",
   "execution_count": 10,
   "metadata": {},
   "outputs": [
    {
     "name": "stdout",
     "output_type": "stream",
     "text": [
      "[-3.00623740e-05 -3.05631481e-05 -3.14957457e-05 ... -1.21160445e-05\n",
      " -1.18659912e-05 -1.28832751e-05]\n"
     ]
    }
   ],
   "source": [
    "print(raw._data[15, :])"
   ]
  },
  {
   "cell_type": "markdown",
   "metadata": {},
   "source": [
    "Likewise, if we wanted to access only the first 10 time points of channel 8, we would use:"
   ]
  },
  {
   "cell_type": "code",
   "execution_count": 11,
   "metadata": {},
   "outputs": [
    {
     "name": "stdout",
     "output_type": "stream",
     "text": [
      "[-4.93835196e-05 -4.81761686e-05 -4.84195461e-05 -5.00270587e-05\n",
      " -5.21609993e-05 -5.30959811e-05 -5.19294473e-05 -4.96509298e-05\n",
      " -4.78400939e-05 -4.80251066e-05 -5.11104322e-05]\n"
     ]
    }
   ],
   "source": [
    "print(raw._data[8, :11])"
   ]
  },
  {
   "cell_type": "markdown",
   "metadata": {},
   "source": [
    "One challenge in working with the raw data directly in this way, is that we normally think of, and work with, EEG data in terms of units of time, such as seconds or milliseconds. However, EEG data is not always (or even usually) sampled at 1000 Hz, so each time point doesn't correspond to 1 ms. For example, in our current data set, the sampling rate was 500 Hz, so each time point reflects a period of 2 ms. This makes accessing specific time points or time ranges in the data tricky, because if you want, say, the data from 1500-1800 ms in the `raw` data, you would need to first convert those times to seconds (since `sfreq` is in samples per second), convert the result to `int` (since division is likely to yield a `float` result), then multiply each of those times by the sampling rate to get the correct indices. While this is not necessarily difficult, it's a bit tricky and prone to error, as well as creating complex code:"
   ]
  },
  {
   "cell_type": "code",
   "execution_count": 12,
   "metadata": {},
   "outputs": [],
   "source": [
    "chan = 8 # set channel we want\n",
    "start_time = int((1500 / 1000) * raw.info['sfreq'])\n",
    "end_time   = int((1800 / 1000) * raw.info['sfreq'])\n",
    "# raw._data[chan, start_time:end_time]"
   ]
  },
  {
   "cell_type": "markdown",
   "metadata": {},
   "source": [
    "One challenge in working with the raw data directly in this way, is that we normally think of, and work with, EEG data in terms of units of time, such as seconds or milliseconds. However, EEG data is not always (or even usually) sampled at 1000 Hz, so each time point doesn't correspond to 1 ms. For example, in our current data set, the sampling rate was 500 Hz, so each time point reflects a period of 2 ms. This makes accessing specific time points or time ranges in the data tricky, because if you want, say, the data from 1500-1800 ms in the `raw` data, you would need to first convert those times to seconds (since `sfreq` is in samples per second), convert the result to `int` (since division is likely to yield a `float` result), then multiply each of those times by the sampling rate to get the correct indices. While this is not necessarily difficult, it's a bit tricky and prone to error, as well as creating complex code:"
   ]
  },
  {
   "cell_type": "markdown",
   "metadata": {},
   "source": [
    "## Accessing data using MNE tools\n",
    "\n",
    "Fortunately, since MNE is made to work with EEG data, it has lots of functions and methods that make it easy to do common tasks. Besides convenience, it's generally a good idea to use these because in general they provide an API that is more intuitive to use, and also create less risk that you will corrupt the data (since if you're using `._data`, it would be easy to accidentally assign new values to the array, or otherwise modify it, and Python would not warn you that you were doing something bad).\n",
    "\n",
    "We can access the data in an MNE object with the `.get_data()` method. \n"
   ]
  },
  {
   "cell_type": "code",
   "execution_count": 13,
   "metadata": {},
   "outputs": [
    {
     "name": "stdout",
     "output_type": "stream",
     "text": [
      "(16, 408640)\n"
     ]
    }
   ],
   "source": [
    "raw_data = raw.get_data()\n",
    "print(raw_data.shape)"
   ]
  },
  {
   "cell_type": "markdown",
   "metadata": {},
   "source": [
    "Moreover, `.get_data()` provides kwargs that allow us to select channels and time ranges, using more intuitive units like channel labels, and times, rathter than NumPy array indices. `picks` is used to select the channel (or channels if you pass a list), and `tmin` and `tmax` specify the range of time that you want:"
   ]
  },
  {
   "cell_type": "code",
   "execution_count": 14,
   "metadata": {},
   "outputs": [
    {
     "data": {
      "text/plain": [
       "array([[5.92765505e-06, 4.62608101e-06, 3.92951764e-06, 3.86695664e-06,\n",
       "        4.05120642e-06, 4.61921455e-06, 4.97245534e-06, 4.67681645e-06,\n",
       "        4.18739104e-06, 4.11796359e-06, 4.73937746e-06, 5.15174602e-06,\n",
       "        4.63485480e-06, 4.31899803e-06, 5.07659652e-06, 6.21184985e-06,\n",
       "        6.59675260e-06, 5.41076383e-06, 3.07082973e-06, 1.31683282e-06],\n",
       "       [1.63165963e-05, 1.59688868e-05, 1.60106577e-05, 1.59490504e-05,\n",
       "        1.58630290e-05, 1.65782844e-05, 1.74844652e-05, 1.74056918e-05,\n",
       "        1.65498649e-05, 1.64365684e-05, 1.75983339e-05, 1.85815716e-05,\n",
       "        1.84148694e-05, 1.76208406e-05, 1.70507344e-05, 1.72185810e-05,\n",
       "        1.78331284e-05, 1.79634002e-05, 1.70040044e-05, 1.55647198e-05]])"
      ]
     },
     "execution_count": 14,
     "metadata": {},
     "output_type": "execute_result"
    }
   ],
   "source": [
    "raw.get_data(picks=['Fz', 'Cz'], tmin=1.5, tmax=1.8)[:, :20]"
   ]
  },
  {
   "cell_type": "markdown",
   "metadata": {},
   "source": [
    "If you look carefully at the output above, you'll note that it's a 2D NumPy array, with the data from each electrode enclosed in a separate set of square brackets."
   ]
  },
  {
   "cell_type": "markdown",
   "metadata": {},
   "source": [
    "## Visualizing raw EEG data\n",
    "\n",
    "### Plot EEG data with Matplotlib\n",
    "\n",
    "Since we understand how to select a particular segment of data and return it as a NumPy array, it's eay to pass the result of doing this to Matplotlib, and visualize the electrical potential of a specific electrode over a segment of time: "
   ]
  },
  {
   "cell_type": "code",
   "execution_count": 15,
   "metadata": {},
   "outputs": [
    {
     "data": {
      "image/png": "[encoded data removed]",
      "text/plain": [
       "<Figure size 1500x500 with 1 Axes>"
      ]
     },
     "metadata": {},
     "output_type": "display_data"
    }
   ],
   "source": [
    "fig, ax = plt.subplots(figsize=[15, 5])\n",
    "start_time = 15\n",
    "end_time = 16\n",
    "\n",
    "ax.plot(raw.get_data(picks='Oz', tmin=start_time, tmax=end_time).T)\n",
    "plt.show()"
   ]
  },
  {
   "cell_type": "markdown",
   "metadata": {},
   "source": [
    "### Interactive Plot of Continuous EEG\n",
    "\n",
    "We could add more code to the above cell to do things like label the axes, add a title to indicate what electrode the data came from, make the *x* axis actually represent units of time, etc.. However, the great value of using MNE is that the developers have created customized functions for doing most everything you could ever want with EEG, with a lot less typing that if you were working with raw NumPy arrays and Matplotlib. \n",
    "\n",
    "For example, MNE data classes like `Raw` have a `.plot` method that allows you to generate a nice-looking plot that automatically does all the hard work of formatting it appropriately. This function actually creates an interactive plot in a new window (which is why you won't see output in this notebook file), which allows you to scroll through the entire continuous dataset (unfortunately this doesn't work if you're running Jupyter notebooks via a cloud service, but should work fine if you followed the instructions at the start of this course and are using VS Code).\n",
    "\n",
    "```{python}\n",
    "# be sure to include the semicolon at the end of MNE plot commands. Otherwise the plot shows twice.\n",
    "raw.plot(start=15, duration=1);  \n",
    "```"
   ]
  },
  {
   "cell_type": "markdown",
   "metadata": {},
   "source": [
    "![](images/raw_mne_data.png)"
   ]
  },
  {
   "cell_type": "markdown",
   "metadata": {},
   "source": [
    "<!-- ![](images/raw_mne_data.png) -->\n"
   ]
  }
 ],
 "metadata": {
  "kernelspec": {
   "display_name": "neural_data_science",
   "language": "python",
   "name": "python3"
  },
  "language_info": {
   "codemirror_mode": {
    "name": "ipython",
    "version": 3
   },
   "file_extension": ".py",
   "mimetype": "text/x-python",
   "name": "python",
   "nbconvert_exporter": "python",
   "pygments_lexer": "ipython3",
   "version": "3.11.6"
  }
 },
 "nbformat": 4,
 "nbformat_minor": 2
}
