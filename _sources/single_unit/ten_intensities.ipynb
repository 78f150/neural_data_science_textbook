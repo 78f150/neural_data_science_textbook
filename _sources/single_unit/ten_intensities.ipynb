{
 "cells": [
  {
   "cell_type": "markdown",
   "metadata": {},
   "source": [
    "# Ten intensities — A bigger data set\n",
    "\n",
    "Now we're going to load an even larger data set. The `ten_intensities` data set expands on the optogenetic spike train data we worked with in the previous chapter. Now we have 10 trials of spike train data, but recorded when the neuron was stimulated with ten different intensities of the 550 nm green light that activates its receptors — so 100 trials in total. Measuring the neuron's response across a range of intensities allows us to map out the response \"profile\" of the neuron in terms of the number of spikes elicited by differing intensities. "
   ]
  },
  {
   "cell_type": "code",
   "execution_count": 1,
   "metadata": {},
   "outputs": [],
   "source": [
    "import matplotlib.pyplot as plt\n",
    "import numpy as np\n",
    "import pickle"
   ]
  },
  {
   "cell_type": "markdown",
   "metadata": {},
   "source": [
    "<div class=\"alert alert-block alert-info\">\n",
    "    <h3>A fine pickle we've got ourselves in:</h3>\n",
    "   \n",
    "Naturally, the first cell in our notebook imports the packages we'll need. Most of the content in the cell below is stuff you've seen before. The one new thing is `import pickle`. Naturally, a programming language named after a snake has a library named after preserved cucumbers! In fact, [**pickling**](https://docs.python.org/3/library/pickle.html) in Python is a way of preserving objects for future use. Recall that Python is an *object-oriented* language, which for purposes of this explanation means that most \"things\" in Python are objects. This includes ways of storing data such as lists and dictionaries. Pickling is a way of storing objects like this — typically containing data — so that you can later re-load them easily. This can be especially useful if you have complex code or large data sets, where it might take a long time to run the code to get the data into the form that you want (e.g., lots of processing steps, or a computationally-intensive machine learning algorithm).\n",
    "\n",
    "In many cases, you can — and should — store data in more standard file formats like text or CSV (which is a specific format of a text file, with commas indicating breaks between columns). However, such files store data in a basic, tabular structure, whereas Python objects like dictionaries have their own unique structures that serve specific purposes. The end result of a data processing workflow may well be a dictionary or some other Python object that doesn't easily lend itself to saving in a text file, in which case pickling can be useful. Also, pickling is formally a type of **serialization** — putting a Python object into a **byte stream** which simply means it's an ordered set of bytes. Serialization allows Python objects to be easily transmitted over internet protocols like TCP/IP, so it can be useful in web applications. \n",
    "\n",
    "On the other hand, there are a few downsides to pickles. One is that they are inherently insecure. In general, you should not load pickles that you did not create, if you do not fully know and trust the source. Pickles can be \"weaponized\" to contain malicious code. Although we are using a pickle obtained from the internet in this exercise, it's from a trusted source: the publisher Elsevier's website. Secondly, because pickles are Python-specific, they are not a very open form of data storage. Pickles are not even strictly compatible between Python versions 2 and 3; below I had to adapt the code to import a Python 2 pickle into Python 3. It's a simple adaptation but nonetheless adds complexity. In general, for sharing data you should use standard file format types.\n",
    "\n",
    "For more information on pickles, [DataCamp has a good article](https://www.datacamp.com/community/tutorials/pickle-python-tutorial).\n",
    "</div>"
   ]
  },
  {
   "cell_type": "markdown",
   "metadata": {},
   "source": [
    "First we load the data. The syntax here is different from what we've used to read CSV files into pandas, but it works for pickles."
   ]
  },
  {
   "cell_type": "code",
   "execution_count": 2,
   "metadata": {},
   "outputs": [],
   "source": [
    "with open('ten_intensities.pkl', 'rb') as handle:\n",
    "    ten_intensities = pickle.load(handle, encoding='latin1')"
   ]
  },
  {
   "cell_type": "markdown",
   "metadata": {},
   "source": [
    "When first starting to work with a data set, you need to explore it and understand how it's structured. What variable type(s) are in it? How are different experimental conditions coded? We'll walk through these steps below, first asking for the type:"
   ]
  },
  {
   "cell_type": "code",
   "execution_count": 3,
   "metadata": {},
   "outputs": [
    {
     "data": {
      "text/plain": [
       "dict"
      ]
     },
     "execution_count": 3,
     "metadata": {},
     "output_type": "execute_result"
    }
   ],
   "source": [
    "type(ten_intensities)"
   ]
  },
  {
   "cell_type": "markdown",
   "metadata": {},
   "source": [
    "How big is it?"
   ]
  },
  {
   "cell_type": "code",
   "execution_count": 4,
   "metadata": {},
   "outputs": [
    {
     "data": {
      "text/plain": [
       "10"
      ]
     },
     "execution_count": 4,
     "metadata": {},
     "output_type": "execute_result"
    }
   ],
   "source": [
    "len(ten_intensities)"
   ]
  },
  {
   "cell_type": "markdown",
   "metadata": {},
   "source": [
    "Dictionaries are key:value pairs. Let's view the keys of this dictionary to see how it's structured:"
   ]
  },
  {
   "cell_type": "code",
   "execution_count": 5,
   "metadata": {},
   "outputs": [
    {
     "data": {
      "text/plain": [
       "dict_keys(['4_intensity', '2_intensity', '8_intensity', '0_intensity', '7_intensity', '5_intensity', '9_intensity', '6_intensity', '3_intensity', '1_intensity'])"
      ]
     },
     "execution_count": 5,
     "metadata": {},
     "output_type": "execute_result"
    }
   ],
   "source": [
    "ten_intensities.keys()"
   ]
  },
  {
   "cell_type": "markdown",
   "metadata": {},
   "source": [
    "So the keys indicate that these are different intensity values, spanning a range from 0–9. Let's look at what the values are for one of those keys:"
   ]
  },
  {
   "cell_type": "code",
   "execution_count": 6,
   "metadata": {},
   "outputs": [
    {
     "data": {
      "text/plain": [
       "[[83.0, 41.0],\n",
       " [14.0, 87.0, 18.0, 84.0],\n",
       " [24.0, 51.0, 66.0, 86.0, 96.0],\n",
       " [26.0, 14.0, 51.0, 20.0, 50.0, 23.0],\n",
       " [14.0, 27.0, 60.0, 45.0, 56.0, 58.0, 60.0],\n",
       " [48.0, 18.0, 40.0, 43.0],\n",
       " [13.0, 46.0, 47.0, 90.0],\n",
       " [33.0, 61.0, 55.0, 64.0, 56.0],\n",
       " [72.0, 64.0, 45.0, 82.0],\n",
       " [34.0, 74.0, 71.0, 53.0]]"
      ]
     },
     "execution_count": 6,
     "metadata": {},
     "output_type": "execute_result"
    }
   ],
   "source": [
    "ten_intensities['0_intensity']"
   ]
  },
  {
   "cell_type": "markdown",
   "metadata": {},
   "source": [
    "OK, so it looks like for each intensity we have a list of lists, and each of those lists is a different length, and contains a range of values. We could hypothesize that those values range from 0–100, although we'd want to interrogate the data more to confirm that. Regardless, one intriguing thing is that these are not spike trains like we saw before, which were all of the same length (since each entry in the list represented a specific point in time) and which had values of only 0 or 1.\n",
    "\n",
    "Let's look at another entry in the dictionary to get more of a sense of how the data for different intensities look:"
   ]
  },
  {
   "cell_type": "code",
   "execution_count": 7,
   "metadata": {},
   "outputs": [
    {
     "data": {
      "text/plain": [
       "[[61.0, 17.0, 36.0, 74.0],\n",
       " [13.0, 64.0, 30.0, 47.0],\n",
       " [20.0, 27.0, 56.0, 27.0, 68.0, 73.0, 59.0],\n",
       " [68.0, 46.0, 48.0, 25.0],\n",
       " [68.0, 34.0, 48.0, 22.0],\n",
       " [51.0, 66.0, 45.0, 49.0, 66.0, 40.0],\n",
       " [13.0, 51.0, 18.0, 58.0, 58.0],\n",
       " [23.0, 36.0, 71.0, 73.0],\n",
       " [24.0, 33.0, 32.0, 43.0, 15.0, 53.0, 70.0],\n",
       " [53.0, 35.0, 43.0, 23.0]]"
      ]
     },
     "execution_count": 7,
     "metadata": {},
     "output_type": "execute_result"
    }
   ],
   "source": [
    "ten_intensities['1_intensity']"
   ]
  },
  {
   "cell_type": "markdown",
   "metadata": {},
   "source": [
    "It looks like there are the same number of lists in each dictionary entry, but we can confirm that with a simple loop through all the keys in the dictionary, and counts the number of values stored in each dictionary entry using the `len()` function:"
   ]
  },
  {
   "cell_type": "code",
   "execution_count": 8,
   "metadata": {},
   "outputs": [
    {
     "name": "stdout",
     "output_type": "stream",
     "text": [
      "4_intensity 10\n",
      "2_intensity 10\n",
      "8_intensity 10\n",
      "0_intensity 10\n",
      "7_intensity 10\n",
      "5_intensity 10\n",
      "9_intensity 10\n",
      "6_intensity 10\n",
      "3_intensity 10\n",
      "1_intensity 10\n"
     ]
    }
   ],
   "source": [
    "for intensity_lev in ten_intensities.keys():\n",
    "    print(intensity_lev + ' ' + str(len(ten_intensities.values())))"
   ]
  },
  {
   "cell_type": "markdown",
   "metadata": {},
   "source": [
    "So it looks like we have 10 levels of intensity (intensity of what, we don't know), and 10 trials for each intensity level. However, within each trial the values aren't spike trains of zeros or ones, but instead values that appear to range between 0 and 100 (or some number less than 100). This is rather puzzling! This would be a hard data set to decode without some additional information from whoever provided the data, to tell us what it's encoding. Fortunately the authors who provided the data set, Nylen and Wallisch, are here to help. They tell us that the values in each list are spike times — in other words, the times at which spikes occur. As noted earlier, this is an alternative and more concise/efficient way of representing spike data; rather than needing to store data for every time point, we only store data for the time points at which spikes occur. There are different numbers of data points in each list (trial) because the neuron doesn't necessarily spike the same number of times on every trial. \n",
    "\n",
    "The data are still a bit confusing, though. Firstly, the values in these lists (the spike times) are not always sequential. For example, in the first list within `0_intensity`, the values are `[83.0, 41.0]`. Logically, we would expect the spike times to be temporally ordered. Moreover, in some cases a list has two identical values, for example:"
   ]
  },
  {
   "cell_type": "code",
   "execution_count": 9,
   "metadata": {},
   "outputs": [
    {
     "data": {
      "text/plain": [
       "[51.0, 66.0, 45.0, 49.0, 66.0, 40.0]"
      ]
     },
     "execution_count": 9,
     "metadata": {},
     "output_type": "execute_result"
    }
   ],
   "source": [
    "ten_intensities['1_intensity'][5]"
   ]
  },
  {
   "cell_type": "markdown",
   "metadata": {},
   "source": [
    "It's unclear why the data are like this, and Nylen and Wallisch provide no insights in their book. Since this is only an example, and the plots below work and serve to demonstrate how to visualize this data, we won't worry about it too much. My suspicion is that they used a random number generator to generate simulated data. But exploring your data, and asking questions like this, is an important part of data science, and science more generally. If you identify strange or unexpected things in the data, it's worth investigating further and trying to understand *why*, rather than just assuming that whoever provided the data didn't make any mistakes. "
   ]
  },
  {
   "cell_type": "markdown",
   "metadata": {},
   "source": [
    "## Visualizing the Data\n",
    "\n",
    "We'd like to plot spike train raster plots and PSTHs for this data set, as we did for the previous data. To do this, we'll need to consider how to show the different responses for each each intensity level. There are a few ways we could do this, but here we'll do it by adding more subplots, expanding on how we drew the raster plot and PSTH in the same figure in the previous page.\n",
    "\n",
    "Here we'll build the code up in stages, first getting one plot working (a raster of one intensity level) and then adding the PSTH for that level, then plotting all the levels of intensity in different subplots, in a loop. We'll start with the highest intensity level (`9_intensity`) as our \"test case\" because we can expect that it will elicit the most intense responses. "
   ]
  },
  {
   "cell_type": "code",
   "execution_count": 10,
   "metadata": {
    "collapsed": false,
    "jupyter": {
     "outputs_hidden": false
    }
   },
   "outputs": [
    {
     "data": {
      "image/png": "[encoded data removed]",
      "text/plain": [
       "<Figure size 432x288 with 1 Axes>"
      ]
     },
     "metadata": {
      "needs_background": "light"
     },
     "output_type": "display_data"
    }
   ],
   "source": [
    "fig = plt.figure()\n",
    "\n",
    "# Select the data from most intense stimulus\n",
    "sample_dat = ten_intensities['9_intensity']\n",
    "\n",
    "# plot raster for each trial\n",
    "for trial in range(len(sample_dat)):\n",
    "    plt.vlines(sample_dat[trial], trial, trial + 1)"
   ]
  },
  {
   "cell_type": "markdown",
   "metadata": {},
   "source": [
    "Now we can add the PSTH for this intensity level. We'll add it as a second column:"
   ]
  },
  {
   "cell_type": "code",
   "execution_count": 17,
   "metadata": {
    "collapsed": false,
    "jupyter": {
     "outputs_hidden": false
    }
   },
   "outputs": [
    {
     "data": {
      "image/png": "[encoded data removed]",
      "text/plain": [
       "<Figure size 1080x288 with 2 Axes>"
      ]
     },
     "metadata": {
      "needs_background": "light"
     },
     "output_type": "display_data"
    }
   ],
   "source": [
    "# here we hard-code the figure dimensions (x, y) to control the way the plot looks\n",
    "fig = plt.figure(figsize=[15, 4])\n",
    "\n",
    "# Select the data from most intense stimulus\n",
    "sample_dat = ten_intensities['9_intensity']\n",
    "\n",
    "# specify the subplots\n",
    "ax = plt.subplot(1, 2, 1)\n",
    "\n",
    "# Draw shading when the light is on (5-14 ms), using 50% transparent green\n",
    "plt.axvspan(5, 14, alpha=0.5, color='g')\n",
    "\n",
    "# plot raster for each trial\n",
    "for trial in range(len(sample_dat)):\n",
    "    plt.vlines(sample_dat[trial], trial, trial + 1)\n",
    "\n",
    "# Now specify the subplot for the PSTH\n",
    "ax = plt.subplot(1, 2, 2)\n",
    "\n",
    "# Draw shading when the light is on (5-14 ms), using 50% transparent green\n",
    "plt.axvspan(5, 14, alpha=0.5, color='g')\n",
    "\n",
    "# Next line is an neat trick using list comprehension: it takes the list of lists, \n",
    "# and outputs one long list of all the values (since for a histogram we don't \n",
    "# care which trial the data came from, we want to collapse over the trials)\n",
    "spike_times = [a for b in sample_dat for a in b] \n",
    "\n",
    "# Make a histogram of the values. The range(20) argument ignores any data \n",
    "#   from time points past 20 s. Don't draw the histogram but return it as two variables. \n",
    "# According to its API, np.histogram returns two values: the histogram \n",
    "#   (which we visualize as the bar heights), and the bin edges (which define the x axis). \n",
    "# Since it returns two values, we assign the output to two variable names (spike_count, bins):\n",
    "spike_count, bins = np.histogram(spike_times, bins=range(20))\n",
    "\n",
    "# Draw the histogram with bins on the x axis and bar height as the y axis:\n",
    "plt.bar(bins[:-1], spike_count)\n",
    "\n",
    "plt.show();"
   ]
  },
  {
   "cell_type": "markdown",
   "metadata": {},
   "source": [
    "### Looping Through Intensity Levels"
   ]
  },
  {
   "cell_type": "markdown",
   "metadata": {},
   "source": [
    "Now we can embed the plot commands above into a loop through all intensity levels. We'll plot each raster and PSTH as a row in a figure with 10 rows (intensity levels) and 2 columns. This will involve using more variables and indexing."
   ]
  },
  {
   "cell_type": "code",
   "execution_count": 12,
   "metadata": {
    "collapsed": false,
    "jupyter": {
     "outputs_hidden": false
    }
   },
   "outputs": [
    {
     "data": {
      "image/png": "[encoded data removed]",
      "text/plain": [
       "<Figure size 1080x720 with 20 Axes>"
      ]
     },
     "metadata": {
      "needs_background": "light"
     },
     "output_type": "display_data"
    }
   ],
   "source": [
    "fig = plt.figure(figsize=[15, 10])\n",
    "\n",
    "# Rather than hard-coding the number of intensities, we derive the number of levels \n",
    "#   from the structure of the data. This ensures that our code is robust if we later \n",
    "#   want to use it with different-sized data sets. \n",
    "num_intensities = len(ten_intensities)\n",
    "\n",
    "# Now we loop through the ten_intensities dictionary, indexing it by the keys\n",
    "for key in ten_intensities.keys():\n",
    "\n",
    "    # Raster plots\n",
    "    \n",
    "    # The line below sets the subplot in which to graph the data from a particular \n",
    "    # intensity level. Although dictionaries are not ordered, the resulting plot has the \n",
    "    # intensities ordered from lowest to highest. This works because the dictionary keys\n",
    "    # in this case start with the intensity levels, as numerals. The third argument to \n",
    "    # plot_subplot - which specifies which plot we're drawing into - is obtained by slicing\n",
    "    # the name of the key to extract the first character (the number) and converting it from\n",
    "    # a string to a number (int). \n",
    "    \n",
    "    # Another thing to note is that the rows are selected by mutiplying the intensity \n",
    "    # levels by two, then adding one. The +1 is because (in an exception to what is typical \n",
    "    # in Python) matplotlib figure subplots are numbered from 1 rather than zero. So intensity \n",
    "    # level 0 goes in row 1 of the plot. Mutiplying by 2 is because we have two columns \n",
    "    # in the plot, and the subplots are numbered sequentially (i.e., subplot 2 is first \n",
    "    # row, second column, subplot 3 is first column second row, etc.). It's worth taking the \n",
    "    # time to think through the math for this, as it can be quite effective and flexible.\n",
    "\n",
    "    ax = plt.subplot(num_intensities, 2, int(key[0]) * 2 + 1)\n",
    " \n",
    "    # Plot the raster\n",
    "    for trial in range(10): \n",
    "        plt.vlines(ten_intensities[key][trial], trial, trial + 1)\n",
    "\n",
    "    # Each trial was 20 s long, but the maximum latency (time of last spike) on each trial \n",
    "    # may be less than 20. We hard-code the length of the x axis so that across the different \n",
    "    # intensitiy levels, the x axis is always exactly 20 s long.\n",
    "    plt.xlim([0, 20])\n",
    "    \n",
    "    # Label the y axis with the intensity level\n",
    "    plt.ylabel('Intensity  ' + str(key[0]), fontsize=10)\n",
    "    \n",
    "    # The line below sets the intensity of the green shading (indicating when the stimulus\n",
    "    # was on) according to the intensity of the stimulus. This is done using the alpha \n",
    "    # argument to plt.axvspan. Alpha sets the transparency of a visual element, over a \n",
    "    # range from 0 (transparent) to 1 (opaque). So by multiplying by 0.1 we turn the \n",
    "    # intensity values (which range from 0 to 9) into acceptable alpha values.\n",
    "    plt.axvspan(5, 14, alpha=0.1*float(key[0]), color='g')\n",
    "          \n",
    "    # PSTHs    \n",
    "    # Specify the subplot for the second column in the row for this intensity\n",
    "    ax = plt.subplot(num_intensities, 2, int(key[0]) * 2 + 2)\n",
    "    \n",
    "    # add shading proportional to the intesity\n",
    "    plt.axvspan(5, 14, alpha=0.1*float(key[0]), color='g')\n",
    "    \n",
    "    # Generate one long list of all the values (since for a histogram we don't \n",
    "    # care which trial the data came from, we want to collapse over the trials)\n",
    "    spike_times = [a for b in ten_intensities[key] for a in b] \n",
    "    \n",
    "    # Make a histogram of the values. The range(20) argument ignores any data \n",
    "    # from time points past 20 s. Don't draw the histogram but return it as two variables. \n",
    "    spike_count, bins = np.histogram(spike_times, bins=range(20))\n",
    "    \n",
    "    # Draw the histogram with bins on the x axis and bar height as the y axis:\n",
    "    plt.bar(bins[:-1], spike_count)\n",
    "\n",
    "    plt.xlim([0, 20])\n",
    "        \n",
    "plt.show();"
   ]
  },
  {
   "cell_type": "markdown",
   "metadata": {},
   "source": [
    "### Making it Pretty\n",
    "\n",
    "This shows us the data, but it's pretty messy-looking. In particular, the plots overlap with other plots' axis labels, and those are redundant anyway - we can just put the times on the bottom of the plot since they're the same for all plots. We can also add more labels to help make the plot more interpretable by others.\n",
    "\n",
    "Another thing we'll do below is convert all the histograms from showing the raw number of spikes, to the probability of spiking (percentage of trials that a spike occurred at that time), which will help standardize the y axis of the histograms (i.e., all plots will be on the same scale). To help with this, note the third line of code in the cell below, which sets the number of trials. Then when we get to the `plot.bar()` command, we divide the `spike_count` by the number of trials. "
   ]
  },
  {
   "cell_type": "code",
   "execution_count": 13,
   "metadata": {
    "collapsed": false,
    "jupyter": {
     "outputs_hidden": false
    }
   },
   "outputs": [
    {
     "data": {
      "image/png": "[encoded data removed]",
      "text/plain": [
       "<Figure size 1080x720 with 20 Axes>"
      ]
     },
     "metadata": {
      "needs_background": "light"
     },
     "output_type": "display_data"
    }
   ],
   "source": [
    "fig = plt.figure(figsize=[15, 10])\n",
    "num_intensities = len(ten_intensities)\n",
    "num_trials = 10\n",
    "\n",
    "for key in ten_intensities.keys():\n",
    "\n",
    "    # Raster plots\n",
    "    # The line below sets the subplot in which to graph the data from a particular \n",
    "    # intensity level. Although dictionaries are not ordered, the resulting plot has the \n",
    "    # intensities ordered from lowest to highest. This works because the dictionary keys\n",
    "    # in this case are the intensity levels, as numerals. So when we select the first \n",
    "    # character in the key (key[0]) and convert it to float, Python will select the \n",
    "    # approriate row of the figure to plot the data in. \n",
    "    # Another thing to note is that the rows are selected by mutiplying the intensity \n",
    "    # levels by two, then adding one. The +1 is because, in an exception to what is typical \n",
    "    # in Python, figure subplots are numbered from 1 rather than zero. So intensity \n",
    "    # level 0 goes in row 1 of the plot. Mutiplying by 2 is because we have two columns \n",
    "    # in the plot, and the subplots are numbered sequentially (i.e., subplot 2 is first \n",
    "    # row, second column, subplot 3 is first column second row, etc.)\n",
    "\n",
    "    ax = plt.subplot(num_intensities, 2, int(key[0]) * 2 + 1)\n",
    " \n",
    "    for trial in range(10): \n",
    "        plt.vlines(ten_intensities[key][trial], trial, trial + 1)\n",
    "    plt.xlim([0, 20])\n",
    "    plt.ylabel('Inten.  ' + str(key[0]), fontsize=10)\n",
    "    plt.yticks(fontsize=8)\n",
    "    \n",
    "    # The line below sets the intensity of the green shading (indicating when the stimulus\n",
    "    # was on) according to the intensity of the stimulus. This is done using the alpha \n",
    "    # argument to plt.axvspan. Alpha sets the transparency of a visual element, over a \n",
    "    # range from 0 (transparent) to 1 (opaque). So by multiplying by 0.1 we turn the \n",
    "    # intensity values (which range from 0 to 9) into acceptable alpha values.\n",
    "    plt.axvspan(5, 14, alpha=0.1*float(key[0]), color='g')\n",
    "    \n",
    "    # Place x ticks and x label only below bottom row of plots:    \n",
    "    if float(key[0]) < 9:\n",
    "        plt.xlabel('')\n",
    "        plt.xticks([])\n",
    "    else:\n",
    "        plt.xlabel('Time (ms)')\n",
    "        \n",
    "    # Add title only above top row (intensity 0):\n",
    "    if float(key[0]) == 0:\n",
    "        plt.title('Raster plot of spiking for each intensity',fontsize=10)\n",
    "        \n",
    "    # PSTHs    \n",
    "    ax=plt.subplot(num_intensities, 2, int(key[0]) * 2 + 2)\n",
    "    plt.axvspan(5, 14, alpha=0.1*float(key[0]), color='g')\n",
    "    \n",
    "    # Next line is an interesting list comprehension that takes the list of lists, \n",
    "    # and outputs one long list of all the values (since for a histogram we don't \n",
    "    # care which trial the data came from, we want to collapse over the trials)\n",
    "    spike_times = [a for b in ten_intensities[key] for a in b] \n",
    "    \n",
    "    # Make a histogram of the values. The range(20) argument ignores any data \n",
    "    # from time points past 20 s. Don't draw the histogram but return it as two variables. \n",
    "    # According to its API, np.histogram returns the values of the histogram as an array, \n",
    "    # and the bin edges\n",
    "    spike_count, bins = np.histogram(spike_times, bins=range(20))\n",
    "    \n",
    "    # Compute probability for the histogram by dividing spike_count by number of trials\n",
    "    plt.bar(bins[:-1], spike_count / num_trials)\n",
    "    plt.xlim([0, 20])\n",
    "    plt.ylim([0, 1])\n",
    "    plt.yticks(fontsize=8)\n",
    "    plt.ylabel('Spike probability', style='italic', fontsize = 6)\n",
    "\n",
    "    # place title only above the first row of plots:\n",
    "    if float(key[0]) == 0:\n",
    "        plt.title('PSTH for each intensity', fontsize=10)\n",
    "        \n",
    "    # Place x ticks and x label only below bottom row of plots:    \n",
    "    if float(key[0]) < num_intensities-1:\n",
    "        plt.xlabel('')\n",
    "        plt.xticks([])\n",
    "    else:\n",
    "        plt.xlabel('Time (ms)')\n",
    "        \n",
    "plt.show();"
   ]
  },
  {
   "cell_type": "markdown",
   "metadata": {},
   "source": [
    "### Nested list comprehension\n",
    "\n",
    "I commented on it above, but this line is interesting and warrants deeper understanding:\n",
    "\n",
    "    [a for b in ten_intensities[key] for a in b] \n",
    "\n",
    "This is **nested list comprehension**, which applies list comprehension to lists of lists. As noted earlier, each entry in the `ten_intensities` dictionary is a list containing 10 lists, one for each trial:"
   ]
  },
  {
   "cell_type": "code",
   "execution_count": 14,
   "metadata": {},
   "outputs": [
    {
     "data": {
      "text/plain": [
       "[[83.0, 41.0],\n",
       " [14.0, 87.0, 18.0, 84.0],\n",
       " [24.0, 51.0, 66.0, 86.0, 96.0],\n",
       " [26.0, 14.0, 51.0, 20.0, 50.0, 23.0],\n",
       " [14.0, 27.0, 60.0, 45.0, 56.0, 58.0, 60.0],\n",
       " [48.0, 18.0, 40.0, 43.0],\n",
       " [13.0, 46.0, 47.0, 90.0],\n",
       " [33.0, 61.0, 55.0, 64.0, 56.0],\n",
       " [72.0, 64.0, 45.0, 82.0],\n",
       " [34.0, 74.0, 71.0, 53.0]]"
      ]
     },
     "execution_count": 14,
     "metadata": {},
     "output_type": "execute_result"
    }
   ],
   "source": [
    "ten_intensities['0_intensity']"
   ]
  },
  {
   "cell_type": "markdown",
   "metadata": {},
   "source": [
    "In its simplest form, as used here, nested list comprehension is a way to convert a list of lists to one long list.\n",
    "\n",
    "The syntax probably looks confusing, to say the least! But it's relatively simple once you learn to read it. In the code\n",
    "\n",
    "    [a for b in ten_intensities[key] for a in b] \n",
    "\n",
    "`b` stands for each item (list) in the list of lists, and `a` stands for the individual items within `b`. For example, in `ten_intensities['0_intensity']` as shown above, for the first item `b` would be `[83.0, 41.0]` and `a` would be `83.0` and `41.0`. So we could read this as \"Return `a` (values) for `b` (lists) in ten_intensities[key] (list of lists) for all items (`a`) in each list (`b`)\". Since there are square brackets around the entire expression, the result is a list of all these values.\n",
    "\n",
    "As we see below, if we run this nested list comprehension on the `0_intensity` dictionary values, we get one long list with all the values from the list of lists above, sequentially:"
   ]
  },
  {
   "cell_type": "code",
   "execution_count": 15,
   "metadata": {
    "scrolled": true
   },
   "outputs": [
    {
     "data": {
      "text/plain": [
       "[83.0,\n",
       " 41.0,\n",
       " 14.0,\n",
       " 87.0,\n",
       " 18.0,\n",
       " 84.0,\n",
       " 24.0,\n",
       " 51.0,\n",
       " 66.0,\n",
       " 86.0,\n",
       " 96.0,\n",
       " 26.0,\n",
       " 14.0,\n",
       " 51.0,\n",
       " 20.0,\n",
       " 50.0,\n",
       " 23.0,\n",
       " 14.0,\n",
       " 27.0,\n",
       " 60.0,\n",
       " 45.0,\n",
       " 56.0,\n",
       " 58.0,\n",
       " 60.0,\n",
       " 48.0,\n",
       " 18.0,\n",
       " 40.0,\n",
       " 43.0,\n",
       " 13.0,\n",
       " 46.0,\n",
       " 47.0,\n",
       " 90.0,\n",
       " 33.0,\n",
       " 61.0,\n",
       " 55.0,\n",
       " 64.0,\n",
       " 56.0,\n",
       " 72.0,\n",
       " 64.0,\n",
       " 45.0,\n",
       " 82.0,\n",
       " 34.0,\n",
       " 74.0,\n",
       " 71.0,\n",
       " 53.0]"
      ]
     },
     "execution_count": 15,
     "metadata": {},
     "output_type": "execute_result"
    }
   ],
   "source": [
    "[a for b in ten_intensities['0_intensity'] for a in b] "
   ]
  },
  {
   "cell_type": "markdown",
   "metadata": {},
   "source": [
    "For a nice tutorial on list comprehension, culminating in nested list comprehension, check out [this DataCamp article](https://www.datacamp.com/community/tutorials/python-list-comprehension)."
   ]
  }
 ],
 "metadata": {
  "kernelspec": {
   "display_name": "Python 3",
   "language": "python",
   "name": "python3"
  },
  "language_info": {
   "codemirror_mode": {
    "name": "ipython",
    "version": 3
   },
   "file_extension": ".py",
   "mimetype": "text/x-python",
   "name": "python",
   "nbconvert_exporter": "python",
   "pygments_lexer": "ipython3",
   "version": "3.7.9"
  }
 },
 "nbformat": 4,
 "nbformat_minor": 4
}
