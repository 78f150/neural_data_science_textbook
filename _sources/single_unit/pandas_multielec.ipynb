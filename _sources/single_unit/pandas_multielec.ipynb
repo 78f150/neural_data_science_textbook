{
 "cells": [
  {
   "cell_type": "markdown",
   "metadata": {},
   "source": [
    "# Working with Multielectrode Data in pandas\n",
    "\n",
    "Whereas the data we imported from Matlab are in a somewhat Byzantine embedded format, pandas offers a more simple and intuitive format, often called **long format**, in which data are stored in a 2-dimensional matrix (rows and columns), with one data point per row. Each row comprises the data itself, and additional columns that label the data. \n",
    "\n",
    "For this data set, using pandas long format, we'll want columns for:\n",
    "- channel (which electrode the data came from)\n",
    "- sort code\n",
    "- time (of spike)\n",
    "- orientation\n",
    "- trial number"
   ]
  },
  {
   "cell_type": "markdown",
   "metadata": {},
   "source": [
    "One downside of long format is that it is not memory-efficient, since we have so many redundant labels. In contrast, think back to the `ten_intensities` data in previous sections of the chapter. That data was stored as a dictionary, with each entry in the dictionary being the contrast label. Therefore, the contrast label only had to be stored once in memory, and all the data inside the dictionary entry would be categorized as having that label. In contrast, every data point in pandas carries a copy of the intensity label, meaning more information is stored in memory. \n",
    "\n",
    "There are two significant downsides of less efficient memory storage. Firstly, that it takes more memory (RAM) on the system it's running on. In large data sets, the amount of RAM available (either on a computer or a cloud server) may actually become a limitation in the amount of data you can work with. Secondly, operations on the data tend to take longer, due to the larger amount of information that needs to be processed. Pandas is written to handle large data pretty efficiently, but it's not always the most efficient way of doing things. \n",
    "\n",
    "On the other hand, long data is very intuitive to work with, and avoids having to resort to the complex embedded data structure described above in decoding the Matlab file. And pandas is a great package to work with, as it provides a lot of powerful features for manipulating data, and grouping it by different properties and combinations of properties. These are tasks we routinely want to do in neural data science, and it becomes easier to work with different data sets and even types of data, if we consistently use a common framework like pandas. And in spite of its somewhat inefficient way of storing data, pandas is still highly optimized and generally quite fast. "
   ]
  },
  {
   "cell_type": "markdown",
   "metadata": {},
   "source": [
    "## Import packages"
   ]
  },
  {
   "cell_type": "code",
   "execution_count": 1,
   "metadata": {},
   "outputs": [],
   "source": [
    "import scipy.io\n",
    "from collections import defaultdict\n",
    "import matplotlib.pyplot as plt\n",
    "import numpy as np\n",
    "import pandas as pd\n",
    "import scipy.stats as sc"
   ]
  },
  {
   "cell_type": "markdown",
   "metadata": {},
   "source": [
    "## Import the data\n"
   ]
  },
  {
   "cell_type": "code",
   "execution_count": 2,
   "metadata": {},
   "outputs": [],
   "source": [
    "data_in = scipy.io.loadmat('arrayDATA.mat')"
   ]
  },
  {
   "cell_type": "markdown",
   "metadata": {},
   "source": [
    "## Set/derive experiment parameters"
   ]
  },
  {
   "cell_type": "code",
   "execution_count": 3,
   "metadata": {
    "collapsed": false,
    "jupyter": {
     "outputs_hidden": false
    }
   },
   "outputs": [],
   "source": [
    "noise_codes = [0, 255] # explained later\n",
    "\n",
    "# time_base is used to define x axis in plots over time. We know that the trials went from \n",
    "#   150 ms pre-stimulus to 2000 ms post-stimulus onset. Here we specify a wider range, \n",
    "#   from -200 to 2500 ms (in 10 ms increments), to provide some padding.\n",
    "time_base = np.arange(-.2, 2.5, .01) \n",
    "\n",
    "# times the stimulus went on and off\n",
    "grating_on_time  = 0\n",
    "grating_off_time = 2\n",
    "\n",
    "num_trials = len(data_in['DATA'])\n",
    "all_ortn = [data_in['DATA'][t][0][1][0][0] for t in range(num_trials)] #intermediate variable\n",
    "ortn_levs = list(set(all_ortn))\n",
    "num_ortn = len(ortn_levs)\n",
    "trial_indices = defaultdict(list)"
   ]
  },
  {
   "cell_type": "markdown",
   "metadata": {},
   "source": [
    "The above code uses list comprehension to loop through each trial's data and turn it into a pandas DataFrame. This results in a list of DataFrames, each being the data from one trial. We then use `pd.concat()` to convert the list of DataFrames to a single pandas DataFrame.\n",
    "\n",
    "This uses a couple of numpy functions we haven't seen before. `np.c_` concatenates a series of numpy objects into columns. We do this because we want to combine the three-coumn `nev` array with additional columns that encode the orientation and trial number information. We create those latter columns using `np.repeat`, which generates a numpy array by repeating the input a specified number of times (in this case, the length of the `nev` numpy array, which we get as `data_in['DATA'][trial][0][0].shape[0]`)."
   ]
  },
  {
   "cell_type": "code",
   "execution_count": 4,
   "metadata": {
    "scrolled": true,
    "tags": [
     "output_scroll"
    ]
   },
   "outputs": [
    {
     "data": {
      "text/plain": [
       "array([[ 20.   ,   1.   ,   0.624],\n",
       "       [ 20.   ,   1.   ,   0.63 ],\n",
       "       [ 20.   ,   3.   ,   0.652],\n",
       "       [ 20.   ,   3.   ,   0.659],\n",
       "       [ 20.   , 255.   ,   0.686],\n",
       "       [ 20.   ,   1.   ,   0.689],\n",
       "       [ 20.   ,   1.   ,   0.711],\n",
       "       [ 20.   , 255.   ,   0.731],\n",
       "       [ 20.   ,   3.   ,   0.742],\n",
       "       [ 20.   ,   3.   ,   0.757],\n",
       "       [ 20.   ,   2.   ,   0.764],\n",
       "       [ 20.   ,   4.   ,   0.779],\n",
       "       [ 20.   ,   2.   ,   0.786],\n",
       "       [ 20.   ,   3.   ,   0.812],\n",
       "       [ 20.   ,   1.   ,   0.826],\n",
       "       [ 20.   ,   3.   ,   0.848],\n",
       "       [ 20.   , 255.   ,   0.857],\n",
       "       [ 20.   ,   4.   ,   0.866],\n",
       "       [ 20.   ,   1.   ,   0.872],\n",
       "       [ 20.   ,   3.   ,   0.883],\n",
       "       [ 20.   ,   3.   ,   0.898],\n",
       "       [ 20.   ,   4.   ,   0.909],\n",
       "       [ 20.   , 255.   ,   0.926],\n",
       "       [ 20.   ,   3.   ,   0.951],\n",
       "       [ 20.   ,   1.   ,   0.968],\n",
       "       [ 20.   , 255.   ,   0.981],\n",
       "       [ 20.   , 255.   ,   0.992],\n",
       "       [ 20.   , 255.   ,   0.996],\n",
       "       [ 20.   , 255.   ,   1.005],\n",
       "       [ 20.   ,   1.   ,   1.019],\n",
       "       [ 20.   ,   1.   ,   1.026],\n",
       "       [ 20.   ,   1.   ,   1.034],\n",
       "       [ 20.   ,   1.   ,   1.067],\n",
       "       [ 20.   , 255.   ,   1.079],\n",
       "       [ 20.   , 255.   ,   1.098],\n",
       "       [ 20.   ,   1.   ,   1.108],\n",
       "       [ 20.   , 255.   ,   1.117],\n",
       "       [ 20.   ,   1.   ,   1.13 ],\n",
       "       [ 20.   ,   1.   ,   1.179],\n",
       "       [ 20.   ,   1.   ,   1.191],\n",
       "       [ 20.   ,   1.   ,   1.201],\n",
       "       [ 20.   ,   1.   ,   1.205],\n",
       "       [ 20.   ,   1.   ,   1.209],\n",
       "       [ 20.   , 255.   ,   1.214],\n",
       "       [ 20.   ,   1.   ,   1.225],\n",
       "       [ 20.   ,   1.   ,   1.254],\n",
       "       [ 20.   ,   1.   ,   1.259],\n",
       "       [ 20.   ,   1.   ,   1.272],\n",
       "       [ 20.   ,   1.   ,   1.277],\n",
       "       [ 20.   ,   1.   ,   1.289],\n",
       "       [ 20.   ,   1.   ,   1.297],\n",
       "       [ 20.   , 255.   ,   1.303],\n",
       "       [ 20.   ,   1.   ,   1.328],\n",
       "       [ 20.   ,   1.   ,   1.334],\n",
       "       [ 20.   ,   1.   ,   1.35 ],\n",
       "       [ 20.   ,   1.   ,   1.364],\n",
       "       [ 20.   ,   1.   ,   1.377],\n",
       "       [ 20.   ,   1.   ,   1.402],\n",
       "       [ 20.   , 255.   ,   1.415],\n",
       "       [ 20.   ,   1.   ,   1.427],\n",
       "       [ 20.   ,   1.   ,   1.45 ],\n",
       "       [ 20.   , 255.   ,   1.47 ],\n",
       "       [ 20.   , 255.   ,   1.473],\n",
       "       [ 20.   ,   1.   ,   1.489],\n",
       "       [ 20.   , 255.   ,   1.506],\n",
       "       [ 20.   ,   1.   ,   1.512],\n",
       "       [ 20.   , 255.   ,   1.518],\n",
       "       [ 20.   ,   1.   ,   1.533],\n",
       "       [ 20.   ,   1.   ,   1.553],\n",
       "       [ 20.   , 255.   ,   1.568],\n",
       "       [ 20.   ,   1.   ,   1.591],\n",
       "       [ 20.   ,   1.   ,   1.6  ],\n",
       "       [ 20.   ,   1.   ,   1.605],\n",
       "       [ 20.   , 255.   ,   1.61 ],\n",
       "       [ 20.   ,   1.   ,   1.616],\n",
       "       [ 20.   ,   1.   ,   1.66 ],\n",
       "       [ 20.   ,   1.   ,   1.667],\n",
       "       [ 20.   ,   1.   ,   1.682],\n",
       "       [ 20.   , 255.   ,   1.689],\n",
       "       [ 20.   ,   1.   ,   1.719],\n",
       "       [ 20.   ,   1.   ,   1.729],\n",
       "       [ 20.   ,   1.   ,   1.744],\n",
       "       [ 20.   , 255.   ,   1.75 ],\n",
       "       [ 20.   ,   1.   ,   1.788],\n",
       "       [ 20.   ,   1.   ,   1.816],\n",
       "       [ 20.   ,   1.   ,   1.834],\n",
       "       [ 20.   ,   1.   ,   1.848],\n",
       "       [ 20.   ,   1.   ,   1.875],\n",
       "       [ 20.   ,   1.   ,   1.896],\n",
       "       [ 20.   ,   1.   ,   1.904],\n",
       "       [ 20.   ,   1.   ,   1.911],\n",
       "       [ 20.   ,   1.   ,   1.913],\n",
       "       [ 20.   ,   3.   ,   1.928],\n",
       "       [ 20.   ,   3.   ,   1.954],\n",
       "       [ 20.   ,   1.   ,   1.961],\n",
       "       [ 20.   ,   1.   ,   1.968],\n",
       "       [ 20.   ,   3.   ,   1.974],\n",
       "       [ 20.   ,   3.   ,   1.98 ],\n",
       "       [ 20.   ,   1.   ,   1.996],\n",
       "       [ 20.   ,   3.   ,   2.024],\n",
       "       [ 42.   ,   1.   ,   2.425],\n",
       "       [ 42.   ,   1.   ,   2.452],\n",
       "       [ 42.   ,   1.   ,   2.483],\n",
       "       [ 42.   ,   1.   ,   2.515],\n",
       "       [ 42.   ,   1.   ,   2.545],\n",
       "       [ 42.   ,   1.   ,   2.727],\n",
       "       [ 42.   ,   1.   ,   2.771],\n",
       "       [ 42.   ,   1.   ,   2.774],\n",
       "       [ 42.   ,   1.   ,   2.782],\n",
       "       [ 42.   ,   1.   ,   2.802],\n",
       "       [ 42.   ,   1.   ,   2.852],\n",
       "       [ 42.   ,   1.   ,   2.862],\n",
       "       [ 72.   ,   1.   ,   0.478],\n",
       "       [ 72.   ,   1.   ,   0.551],\n",
       "       [ 72.   ,   1.   ,   0.56 ],\n",
       "       [ 72.   ,   1.   ,   0.583],\n",
       "       [ 72.   ,   1.   ,   0.592],\n",
       "       [ 72.   ,   1.   ,   0.616],\n",
       "       [ 72.   ,   1.   ,   0.634],\n",
       "       [ 72.   ,   1.   ,   0.637],\n",
       "       [ 72.   ,   1.   ,   0.64 ],\n",
       "       [ 72.   ,   1.   ,   0.644],\n",
       "       [ 72.   ,   1.   ,   0.666],\n",
       "       [ 72.   ,   1.   ,   0.689],\n",
       "       [ 72.   ,   1.   ,   0.76 ],\n",
       "       [ 72.   ,   1.   ,   0.78 ],\n",
       "       [ 72.   ,   1.   ,   0.794],\n",
       "       [ 72.   ,   1.   ,   0.798],\n",
       "       [ 72.   ,   1.   ,   0.871],\n",
       "       [ 72.   ,   1.   ,   0.907],\n",
       "       [ 72.   ,   1.   ,   0.927],\n",
       "       [ 72.   ,   1.   ,   0.968],\n",
       "       [ 72.   ,   1.   ,   0.975],\n",
       "       [ 72.   ,   1.   ,   1.02 ],\n",
       "       [ 72.   ,   1.   ,   1.061],\n",
       "       [ 72.   ,   1.   ,   1.069],\n",
       "       [ 72.   ,   1.   ,   1.128],\n",
       "       [ 72.   ,   1.   ,   1.157],\n",
       "       [ 72.   ,   1.   ,   1.181],\n",
       "       [ 72.   ,   1.   ,   1.187],\n",
       "       [ 72.   ,   1.   ,   1.224],\n",
       "       [ 72.   ,   1.   ,   1.232],\n",
       "       [ 72.   ,   1.   ,   1.281],\n",
       "       [ 72.   ,   1.   ,   1.293],\n",
       "       [ 72.   ,   1.   ,   1.303],\n",
       "       [ 72.   ,   1.   ,   1.305],\n",
       "       [ 72.   ,   1.   ,   1.345],\n",
       "       [ 72.   ,   1.   ,   1.37 ],\n",
       "       [ 72.   ,   1.   ,   1.406],\n",
       "       [ 72.   ,   1.   ,   1.414],\n",
       "       [ 72.   ,   1.   ,   1.438],\n",
       "       [ 72.   ,   1.   ,   1.451],\n",
       "       [ 72.   ,   1.   ,   1.479],\n",
       "       [ 72.   ,   1.   ,   1.485],\n",
       "       [ 72.   ,   1.   ,   1.506],\n",
       "       [ 72.   ,   1.   ,   1.522],\n",
       "       [ 72.   ,   1.   ,   1.556],\n",
       "       [ 72.   , 255.   ,   1.56 ],\n",
       "       [ 72.   ,   1.   ,   1.566],\n",
       "       [ 72.   , 255.   ,   1.576],\n",
       "       [ 72.   , 255.   ,   1.586],\n",
       "       [ 72.   ,   1.   ,   1.603],\n",
       "       [ 72.   ,   1.   ,   1.617],\n",
       "       [ 72.   ,   1.   ,   1.626],\n",
       "       [ 72.   ,   1.   ,   1.659],\n",
       "       [ 72.   ,   1.   ,   1.694],\n",
       "       [ 72.   ,   1.   ,   1.712],\n",
       "       [ 72.   ,   1.   ,   1.73 ],\n",
       "       [ 72.   ,   1.   ,   1.743],\n",
       "       [ 72.   ,   1.   ,   1.785],\n",
       "       [ 72.   ,   1.   ,   1.8  ],\n",
       "       [ 72.   ,   1.   ,   1.814],\n",
       "       [ 72.   ,   1.   ,   1.84 ],\n",
       "       [ 72.   , 255.   ,   1.868],\n",
       "       [ 72.   ,   1.   ,   1.889],\n",
       "       [ 72.   ,   1.   ,   1.903],\n",
       "       [ 72.   , 255.   ,   1.975],\n",
       "       [ 72.   ,   1.   ,   1.982],\n",
       "       [ 72.   ,   1.   ,   2.003],\n",
       "       [ 72.   ,   1.   ,   2.052],\n",
       "       [ 72.   ,   1.   ,   2.066],\n",
       "       [ 72.   ,   1.   ,   2.107],\n",
       "       [ 72.   ,   1.   ,   2.116],\n",
       "       [ 72.   ,   1.   ,   2.151],\n",
       "       [ 72.   ,   1.   ,   2.22 ],\n",
       "       [ 72.   ,   1.   ,   2.29 ],\n",
       "       [ 72.   ,   1.   ,   2.378],\n",
       "       [ 72.   ,   1.   ,   2.472],\n",
       "       [ 72.   ,   1.   ,   2.488],\n",
       "       [ 72.   ,   1.   ,   2.506],\n",
       "       [ 72.   ,   1.   ,   2.627],\n",
       "       [ 72.   ,   1.   ,   2.643],\n",
       "       [ 72.   ,   1.   ,   2.752],\n",
       "       [ 72.   ,   1.   ,   2.762],\n",
       "       [ 72.   ,   1.   ,   2.772],\n",
       "       [ 72.   , 255.   ,   2.775],\n",
       "       [ 20.   ,   3.   ,   2.039],\n",
       "       [ 20.   ,   3.   ,   2.047],\n",
       "       [ 20.   ,   1.   ,   2.053],\n",
       "       [ 20.   ,   3.   ,   2.064],\n",
       "       [ 20.   ,   1.   ,   2.114],\n",
       "       [ 20.   , 255.   ,   2.253],\n",
       "       [ 20.   ,   3.   ,   2.257],\n",
       "       [ 20.   ,   1.   ,   2.279],\n",
       "       [ 20.   , 255.   ,   2.689],\n",
       "       [ 20.   , 255.   ,   2.845],\n",
       "       [ 20.   ,   1.   ,   2.854]], dtype=float32)"
      ]
     },
     "execution_count": 4,
     "metadata": {},
     "output_type": "execute_result"
    }
   ],
   "source": [
    "np.c_[data_in['DATA'][0][0][0]]"
   ]
  },
  {
   "cell_type": "code",
   "execution_count": 5,
   "metadata": {},
   "outputs": [],
   "source": [
    "cols = ['channel', 'sort', 'time', 'orientation', 'trial']\n",
    "\n",
    "df_list = [pd.DataFrame(np.c_[data_in['DATA'][trial][0][0], \n",
    "                 np.repeat(data_in['DATA'][trial][0][1][0][0],\n",
    "                           data_in['DATA'][trial][0][0].shape[0]),\n",
    "                 np.repeat(trial, data_in['DATA'][trial][0][0].shape[0])\n",
    "                ],\n",
    "                       columns=cols)\n",
    "                     for trial in np.arange(data_in['DATA'].shape[0])]\n",
    "\n",
    "df = pd.concat(df_list)"
   ]
  },
  {
   "cell_type": "markdown",
   "metadata": {},
   "source": [
    "We know from the book that sort codes 0 and 255 represent bad data, so we will remove all rows that have these sort codes:"
   ]
  },
  {
   "cell_type": "code",
   "execution_count": 6,
   "metadata": {},
   "outputs": [],
   "source": [
    "df = df[(df['sort'] != 255) & (df['sort'] != 0)]"
   ]
  },
  {
   "cell_type": "markdown",
   "metadata": {},
   "source": [
    "Now let's view the DataFrame. Note the size: over 2 million entries!!!"
   ]
  },
  {
   "cell_type": "code",
   "execution_count": 7,
   "metadata": {},
   "outputs": [
    {
     "data": {
      "text/html": [
       "<div>\n",
       "<style scoped>\n",
       "    .dataframe tbody tr th:only-of-type {\n",
       "        vertical-align: middle;\n",
       "    }\n",
       "\n",
       "    .dataframe tbody tr th {\n",
       "        vertical-align: top;\n",
       "    }\n",
       "\n",
       "    .dataframe thead th {\n",
       "        text-align: right;\n",
       "    }\n",
       "</style>\n",
       "<table border=\"1\" class=\"dataframe\">\n",
       "  <thead>\n",
       "    <tr style=\"text-align: right;\">\n",
       "      <th></th>\n",
       "      <th>channel</th>\n",
       "      <th>sort</th>\n",
       "      <th>time</th>\n",
       "      <th>orientation</th>\n",
       "      <th>trial</th>\n",
       "    </tr>\n",
       "  </thead>\n",
       "  <tbody>\n",
       "    <tr>\n",
       "      <th>0</th>\n",
       "      <td>20.0</td>\n",
       "      <td>1.0</td>\n",
       "      <td>0.624</td>\n",
       "      <td>90.0</td>\n",
       "      <td>0.0</td>\n",
       "    </tr>\n",
       "    <tr>\n",
       "      <th>1</th>\n",
       "      <td>20.0</td>\n",
       "      <td>1.0</td>\n",
       "      <td>0.630</td>\n",
       "      <td>90.0</td>\n",
       "      <td>0.0</td>\n",
       "    </tr>\n",
       "    <tr>\n",
       "      <th>2</th>\n",
       "      <td>20.0</td>\n",
       "      <td>3.0</td>\n",
       "      <td>0.652</td>\n",
       "      <td>90.0</td>\n",
       "      <td>0.0</td>\n",
       "    </tr>\n",
       "    <tr>\n",
       "      <th>3</th>\n",
       "      <td>20.0</td>\n",
       "      <td>3.0</td>\n",
       "      <td>0.659</td>\n",
       "      <td>90.0</td>\n",
       "      <td>0.0</td>\n",
       "    </tr>\n",
       "    <tr>\n",
       "      <th>5</th>\n",
       "      <td>20.0</td>\n",
       "      <td>1.0</td>\n",
       "      <td>0.689</td>\n",
       "      <td>90.0</td>\n",
       "      <td>0.0</td>\n",
       "    </tr>\n",
       "    <tr>\n",
       "      <th>...</th>\n",
       "      <td>...</td>\n",
       "      <td>...</td>\n",
       "      <td>...</td>\n",
       "      <td>...</td>\n",
       "      <td>...</td>\n",
       "    </tr>\n",
       "    <tr>\n",
       "      <th>1321</th>\n",
       "      <td>18.0</td>\n",
       "      <td>1.0</td>\n",
       "      <td>2.625</td>\n",
       "      <td>0.0</td>\n",
       "      <td>2299.0</td>\n",
       "    </tr>\n",
       "    <tr>\n",
       "      <th>1323</th>\n",
       "      <td>74.0</td>\n",
       "      <td>2.0</td>\n",
       "      <td>2.629</td>\n",
       "      <td>0.0</td>\n",
       "      <td>2299.0</td>\n",
       "    </tr>\n",
       "    <tr>\n",
       "      <th>1324</th>\n",
       "      <td>18.0</td>\n",
       "      <td>1.0</td>\n",
       "      <td>2.634</td>\n",
       "      <td>0.0</td>\n",
       "      <td>2299.0</td>\n",
       "    </tr>\n",
       "    <tr>\n",
       "      <th>1325</th>\n",
       "      <td>60.0</td>\n",
       "      <td>1.0</td>\n",
       "      <td>2.636</td>\n",
       "      <td>0.0</td>\n",
       "      <td>2299.0</td>\n",
       "    </tr>\n",
       "    <tr>\n",
       "      <th>1326</th>\n",
       "      <td>42.0</td>\n",
       "      <td>1.0</td>\n",
       "      <td>2.638</td>\n",
       "      <td>0.0</td>\n",
       "      <td>2299.0</td>\n",
       "    </tr>\n",
       "  </tbody>\n",
       "</table>\n",
       "<p>2340739 rows × 5 columns</p>\n",
       "</div>"
      ],
      "text/plain": [
       "      channel  sort   time  orientation   trial\n",
       "0        20.0   1.0  0.624         90.0     0.0\n",
       "1        20.0   1.0  0.630         90.0     0.0\n",
       "2        20.0   3.0  0.652         90.0     0.0\n",
       "3        20.0   3.0  0.659         90.0     0.0\n",
       "5        20.0   1.0  0.689         90.0     0.0\n",
       "...       ...   ...    ...          ...     ...\n",
       "1321     18.0   1.0  2.625          0.0  2299.0\n",
       "1323     74.0   2.0  2.629          0.0  2299.0\n",
       "1324     18.0   1.0  2.634          0.0  2299.0\n",
       "1325     60.0   1.0  2.636          0.0  2299.0\n",
       "1326     42.0   1.0  2.638          0.0  2299.0\n",
       "\n",
       "[2340739 rows x 5 columns]"
      ]
     },
     "execution_count": 7,
     "metadata": {},
     "output_type": "execute_result"
    }
   ],
   "source": [
    "df"
   ]
  },
  {
   "cell_type": "markdown",
   "metadata": {},
   "source": [
    "### Exploring the data \n",
    "Let's see how many electrodes we have data from, and what their labels are. We save each as a variable, which will come in handy later in looping through these."
   ]
  },
  {
   "cell_type": "code",
   "execution_count": 8,
   "metadata": {},
   "outputs": [
    {
     "name": "stdout",
     "output_type": "stream",
     "text": [
      "Number of electrodes (channels): 91\n",
      "Channel labels: [1.0, 2.0, 3.0, 4.0, 5.0, 6.0, 7.0, 8.0, 9.0, 10.0, 11.0, 12.0, 13.0, 14.0, 15.0, 16.0, 17.0, 18.0, 19.0, 20.0, 22.0, 23.0, 24.0, 25.0, 26.0, 27.0, 28.0, 29.0, 30.0, 32.0, 33.0, 35.0, 36.0, 37.0, 38.0, 39.0, 40.0, 41.0, 42.0, 43.0, 44.0, 45.0, 46.0, 47.0, 48.0, 49.0, 50.0, 51.0, 52.0, 53.0, 54.0, 55.0, 57.0, 58.0, 59.0, 60.0, 61.0, 62.0, 63.0, 64.0, 65.0, 66.0, 67.0, 69.0, 70.0, 71.0, 72.0, 73.0, 74.0, 75.0, 76.0, 77.0, 78.0, 79.0, 80.0, 81.0, 82.0, 83.0, 84.0, 85.0, 86.0, 87.0, 88.0, 89.0, 90.0, 91.0, 92.0, 93.0, 94.0, 95.0, 96.0]\n"
     ]
    }
   ],
   "source": [
    "num_chan = df['channel'].unique().shape[0]\n",
    "print('Number of electrodes (channels): ' + str(num_chan))\n",
    "\n",
    "channels = sorted(df['channel'].unique())  # use the sorted() function so the channels are listed in sequential order\n",
    "print('Channel labels: ' + str(channels))"
   ]
  },
  {
   "cell_type": "markdown",
   "metadata": {},
   "source": [
    "This is a bit weird — we're told this is a 96 electrode array, but there are only 91 electrodes?!  Nylen and Wallisch note that there were some 'dead' channels in the microarray that yielded no data. This is not uncommon as some electrodes in the microarray may be damaged during insertion. This is not a big deal, but it is worth keeping in mind when we look at the data."
   ]
  },
  {
   "cell_type": "markdown",
   "metadata": {},
   "source": [
    "What about orientations?"
   ]
  },
  {
   "cell_type": "code",
   "execution_count": 9,
   "metadata": {},
   "outputs": [
    {
     "name": "stdout",
     "output_type": "stream",
     "text": [
      "Found 2 orientations, which are: [0.0, 90.0]\n"
     ]
    }
   ],
   "source": [
    "orientations = sorted(df['orientation'].unique())\n",
    "num_ortns = len(orientations)\n",
    "print('Found ' + str(num_ortns) + ' orientations, which are: ' + str(orientations))"
   ]
  },
  {
   "cell_type": "markdown",
   "metadata": {},
   "source": [
    "And sort codes?"
   ]
  },
  {
   "cell_type": "code",
   "execution_count": 10,
   "metadata": {},
   "outputs": [
    {
     "name": "stdout",
     "output_type": "stream",
     "text": [
      "[1.0, 2.0, 3.0, 4.0]\n"
     ]
    }
   ],
   "source": [
    "sort_codes = sorted(df['sort'].unique())\n",
    "print(sort_codes)"
   ]
  },
  {
   "cell_type": "markdown",
   "metadata": {},
   "source": [
    "We can also flex our pandas slicing and filtering skills to sample the data in different ways. For example, here's the data only from electrode number 20:"
   ]
  },
  {
   "cell_type": "code",
   "execution_count": 11,
   "metadata": {},
   "outputs": [
    {
     "data": {
      "text/html": [
       "<div>\n",
       "<style scoped>\n",
       "    .dataframe tbody tr th:only-of-type {\n",
       "        vertical-align: middle;\n",
       "    }\n",
       "\n",
       "    .dataframe tbody tr th {\n",
       "        vertical-align: top;\n",
       "    }\n",
       "\n",
       "    .dataframe thead th {\n",
       "        text-align: right;\n",
       "    }\n",
       "</style>\n",
       "<table border=\"1\" class=\"dataframe\">\n",
       "  <thead>\n",
       "    <tr style=\"text-align: right;\">\n",
       "      <th></th>\n",
       "      <th>channel</th>\n",
       "      <th>sort</th>\n",
       "      <th>time</th>\n",
       "      <th>orientation</th>\n",
       "      <th>trial</th>\n",
       "    </tr>\n",
       "  </thead>\n",
       "  <tbody>\n",
       "    <tr>\n",
       "      <th>0</th>\n",
       "      <td>20.0</td>\n",
       "      <td>1.0</td>\n",
       "      <td>0.624</td>\n",
       "      <td>90.0</td>\n",
       "      <td>0.0</td>\n",
       "    </tr>\n",
       "    <tr>\n",
       "      <th>1</th>\n",
       "      <td>20.0</td>\n",
       "      <td>1.0</td>\n",
       "      <td>0.630</td>\n",
       "      <td>90.0</td>\n",
       "      <td>0.0</td>\n",
       "    </tr>\n",
       "    <tr>\n",
       "      <th>2</th>\n",
       "      <td>20.0</td>\n",
       "      <td>3.0</td>\n",
       "      <td>0.652</td>\n",
       "      <td>90.0</td>\n",
       "      <td>0.0</td>\n",
       "    </tr>\n",
       "    <tr>\n",
       "      <th>3</th>\n",
       "      <td>20.0</td>\n",
       "      <td>3.0</td>\n",
       "      <td>0.659</td>\n",
       "      <td>90.0</td>\n",
       "      <td>0.0</td>\n",
       "    </tr>\n",
       "    <tr>\n",
       "      <th>5</th>\n",
       "      <td>20.0</td>\n",
       "      <td>1.0</td>\n",
       "      <td>0.689</td>\n",
       "      <td>90.0</td>\n",
       "      <td>0.0</td>\n",
       "    </tr>\n",
       "    <tr>\n",
       "      <th>...</th>\n",
       "      <td>...</td>\n",
       "      <td>...</td>\n",
       "      <td>...</td>\n",
       "      <td>...</td>\n",
       "      <td>...</td>\n",
       "    </tr>\n",
       "    <tr>\n",
       "      <th>1180</th>\n",
       "      <td>20.0</td>\n",
       "      <td>3.0</td>\n",
       "      <td>2.079</td>\n",
       "      <td>0.0</td>\n",
       "      <td>2299.0</td>\n",
       "    </tr>\n",
       "    <tr>\n",
       "      <th>1184</th>\n",
       "      <td>20.0</td>\n",
       "      <td>1.0</td>\n",
       "      <td>2.093</td>\n",
       "      <td>0.0</td>\n",
       "      <td>2299.0</td>\n",
       "    </tr>\n",
       "    <tr>\n",
       "      <th>1192</th>\n",
       "      <td>20.0</td>\n",
       "      <td>3.0</td>\n",
       "      <td>2.105</td>\n",
       "      <td>0.0</td>\n",
       "      <td>2299.0</td>\n",
       "    </tr>\n",
       "    <tr>\n",
       "      <th>1217</th>\n",
       "      <td>20.0</td>\n",
       "      <td>1.0</td>\n",
       "      <td>2.236</td>\n",
       "      <td>0.0</td>\n",
       "      <td>2299.0</td>\n",
       "    </tr>\n",
       "    <tr>\n",
       "      <th>1227</th>\n",
       "      <td>20.0</td>\n",
       "      <td>1.0</td>\n",
       "      <td>2.273</td>\n",
       "      <td>0.0</td>\n",
       "      <td>2299.0</td>\n",
       "    </tr>\n",
       "  </tbody>\n",
       "</table>\n",
       "<p>233537 rows × 5 columns</p>\n",
       "</div>"
      ],
      "text/plain": [
       "      channel  sort   time  orientation   trial\n",
       "0        20.0   1.0  0.624         90.0     0.0\n",
       "1        20.0   1.0  0.630         90.0     0.0\n",
       "2        20.0   3.0  0.652         90.0     0.0\n",
       "3        20.0   3.0  0.659         90.0     0.0\n",
       "5        20.0   1.0  0.689         90.0     0.0\n",
       "...       ...   ...    ...          ...     ...\n",
       "1180     20.0   3.0  2.079          0.0  2299.0\n",
       "1184     20.0   1.0  2.093          0.0  2299.0\n",
       "1192     20.0   3.0  2.105          0.0  2299.0\n",
       "1217     20.0   1.0  2.236          0.0  2299.0\n",
       "1227     20.0   1.0  2.273          0.0  2299.0\n",
       "\n",
       "[233537 rows x 5 columns]"
      ]
     },
     "execution_count": 11,
     "metadata": {},
     "output_type": "execute_result"
    }
   ],
   "source": [
    "df[df['channel']==20.]"
   ]
  },
  {
   "cell_type": "markdown",
   "metadata": {},
   "source": [
    "Taking that further, we can for example extract the spike times for a particular channel and orientation if we desire:"
   ]
  },
  {
   "cell_type": "code",
   "execution_count": 12,
   "metadata": {},
   "outputs": [
    {
     "data": {
      "text/plain": [
       "7      -0.097\n",
       "22     -0.079\n",
       "755     0.949\n",
       "1108    1.445\n",
       "1371    1.965\n",
       "        ...  \n",
       "1009    1.683\n",
       "1056    1.771\n",
       "1172    2.032\n",
       "1185    2.095\n",
       "1220    2.246\n",
       "Name: time, Length: 10283, dtype: float64"
      ]
     },
     "execution_count": 12,
     "metadata": {},
     "output_type": "execute_result"
    }
   ],
   "source": [
    "chan = 1\n",
    "ortn = 0\n",
    "df[(df['channel']==chan) & (df['orientation']==ortn)]['time']"
   ]
  },
  {
   "cell_type": "markdown",
   "metadata": {},
   "source": [
    "---\n",
    "## Peri-Stimulus Time Histograms (PSTH)\n",
    "\n",
    "In the previous chapters, we used NumPy's `hist` function to generate histograms, and then plotted them using Matplotlib functions. Now that we're storing our data in a pandas DataFrame, we can make use of convenient pandas functions for plotting, instead.\n",
    "\n",
    "We can use pandas' `.hist()` method to obtain a PSTH, firstly just across all trials and electrodes/neurons, with the followig arguments:\n",
    "- the values in the `time` column (spike times) are what are used to generate the histogram\n",
    "- the `by` argument generates separate plots for each value in the orientation column\n",
    "- the `time_base` variable we set earlier defines the x axis of the histogram (`bins`); `time_base` is in 10 ms increments so that becomes the size of our histogram bins\n",
    "- `sharey` forces the y axis range to be the same across plots\n",
    "- `layout` specifies 2 rows (each orientation) and one column\n",
    "- `figsize` was determined by trial and error to provide a subjectively-nice aspect ratio and fit the figure in the notebook"
   ]
  },
  {
   "cell_type": "code",
   "execution_count": 13,
   "metadata": {},
   "outputs": [
    {
     "data": {
      "image/png": "[encoded data removed]",
      "text/plain": [
       "<Figure size 720x576 with 2 Axes>"
      ]
     },
     "metadata": {
      "needs_background": "light"
     },
     "output_type": "display_data"
    }
   ],
   "source": [
    "df.hist(column='time', \n",
    "        by='orientation', \n",
    "        bins=time_base, \n",
    "        sharey=True, \n",
    "        layout=(2, 1),\n",
    "        figsize=[10, 8]\n",
    "       )\n",
    "plt.show()"
   ]
  },
  {
   "cell_type": "markdown",
   "metadata": {},
   "source": [
    "Since we know there are 4 sort codes, we can also plot by both orientation and sort code. Here we turn off the `sharey` option, because the number of spikes varies by sort code. \n",
    "\n",
    "We pass a list of two columns to `by` in order to break the data down by both `oriantation` and `sort`, and then we specify the `layout` as 2 rows (orientation) and 4 columns (sort).\n",
    "\n",
    "**Note:** This is actually not a valid thing to do from the point of view of the experiment, because the sort codes are unique to individual channels. That is, spike sorting is applied separately to each channel's data, so for example `sort_code==1` does not refer to the same neuron in channels 1 and 2. However, right now our main goal is to demonstrate how to compute and plot the PSTHs separately along two dimensions. Below we'll do that in a valid way, for all channels, but that's a lot (91), so let's start small."
   ]
  },
  {
   "cell_type": "code",
   "execution_count": null,
   "metadata": {},
   "outputs": [],
   "source": [
    "df.hist(column='time', \n",
    "        by=['orientation', 'sort'], \n",
    "        bins=time_base, \n",
    "        sharey=False, \n",
    "        layout=(2, 4),\n",
    "        figsize=[15, 8]\n",
    "       )\n",
    "plt.show()"
   ]
  },
  {
   "cell_type": "markdown",
   "metadata": {},
   "source": [
    "### Using `np.histogram()`\n",
    "\n",
    "Although pandas provides the convenient `.histogram()` method, this is not the most flexible way to generate a plot. We can also compute histograms using `np.histogram()`, without immediately plotting them — just the way we did with the `ten_intensities` data. We save these histograms in memory, which allows more flexibility in how we later plot them. To do this, we have to loop over orientations and conditions, compute the histogram for each, and save these to plot later. \n",
    "\n",
    "Below we demonstrate two ways to do this, one using a dictionary to hold the results, and the other using list comprehension. They are equally fast, and either one is valid. However, an advantage of the dictionary approach is that we use keys to the dictionary that clearly indicate what combination of orientation and sort code each histogram is associated with. In contrast, when using list comprehension we have to generate a separate list of labels in parallel with the list containing the histograms (data) themselves. This is a bit less transparent — since unlike a dictionary, the labels aren't stored with the data. The list approach thus requires attention to detail to ensure that the list of labels is in the same order as the list of histograms. This also makes it more fragile and error-prone."
   ]
  },
  {
   "cell_type": "markdown",
   "metadata": {},
   "source": [
    "### The dictionary way\n",
    "\n",
    "We generate a dictionary key for each combination of `sort` and `orientation`, and assign the histogram for each combination as the value for that key."
   ]
  },
  {
   "cell_type": "code",
   "execution_count": null,
   "metadata": {},
   "outputs": [],
   "source": [
    "psth_dict = {}\n",
    "\n",
    "for ortn in orientations:\n",
    "    for sort in sort_codes:\n",
    "        label = str(ortn) + '_' + str(sort)\n",
    "        psth_dict[label] = np.histogram(df[(df['orientation']==ortn) & \n",
    "                                           (df['sort']==sort)]['time'],\n",
    "                                        bins=time_base\n",
    "                                       )"
   ]
  },
  {
   "cell_type": "code",
   "execution_count": null,
   "metadata": {},
   "outputs": [],
   "source": [
    "fig = plt.figure(figsize=[20,7])\n",
    "\n",
    "# Loop through the keys of the PSTH dictionary\n",
    "for i, label in enumerate(psth_dict.keys()):\n",
    "    # set sublot based on number of orientations (rows) and number\n",
    "    # of sort_codes (columns)\n",
    "    ax = fig.add_subplot(num_ortns, len(sort_codes), i+1)\n",
    "    \n",
    "    # plot the histogram\n",
    "    ax.plot(psth_dict[label][1][:-1], psth_dict[label][0])\n",
    "    \n",
    "    # Show when stimulus was on\n",
    "    plt.axvspan(grating_on_time, grating_off_time, alpha=0.5, color='lightgray')\n",
    "\n",
    "    ax.set_title(label)\n",
    "    ax.set_ylabel('Spike count per bin')\n",
    "    ax.set_xlabel('Time (s)')\n",
    "    plt.tight_layout() # helps ensure titles and label text don't overlap\n",
    "    \n",
    "plt.show()    "
   ]
  },
  {
   "cell_type": "markdown",
   "metadata": {},
   "source": [
    "Note above the differences in total spike counts (*y* axis) between sort codes. This is beacuse every channel as at least a sort code of 1 (one neuron/unit), but fewer channels were found to contain data from 2 or more units. So decreasing amounts of data contribute to the averages for sort codes 1-4."
   ]
  },
  {
   "cell_type": "markdown",
   "metadata": {},
   "source": [
    "### The list comprehension way\n",
    "\n",
    "Here we use nested list comprehension to create a list of the histograms. "
   ]
  },
  {
   "cell_type": "code",
   "execution_count": null,
   "metadata": {},
   "outputs": [],
   "source": [
    "psth_list = [np.histogram(df[(df['sort']==sort) & (df['orientation']==ortn)]['time'],\n",
    "                          bins=time_base,\n",
    "                         ) \n",
    "        for ortn in orientations\n",
    "        for sort in sort_codes]"
   ]
  },
  {
   "cell_type": "markdown",
   "metadata": {},
   "source": [
    "The histograms aren't labeled, so we need to make a second list containing the labels, using the same list comprehension (in the same order!) as we used above to create the list of histograms:"
   ]
  },
  {
   "cell_type": "code",
   "execution_count": null,
   "metadata": {},
   "outputs": [],
   "source": [
    "psth_list_labels = [[ortn, sort] for ortn in orientations for sort in sort_codes]"
   ]
  },
  {
   "cell_type": "markdown",
   "metadata": {},
   "source": [
    "Now we plot them, using essentially the same code as for the dictionary version. There are two differences: in how we loop through the histograms, and what we give `ax.plot()` as input."
   ]
  },
  {
   "cell_type": "code",
   "execution_count": null,
   "metadata": {},
   "outputs": [],
   "source": [
    "fig = plt.figure(figsize=[20,7])\n",
    "\n",
    "for i in range(len(psth_list)):\n",
    "\n",
    "    # set sublot based on number of orientations (rows) and number\n",
    "    # of sort_codes (columns)\n",
    "    ax = fig.add_subplot(num_ortns, len(sort_codes), i+1)\n",
    "\n",
    "    # plot the histogram \n",
    "    ax.plot(psth_list[i][1][:-1], psth_list[i][0])\n",
    "\n",
    "    # Show when stimulus was on\n",
    "    plt.axvspan(grating_on_time, grating_off_time, alpha=0.5, color='lightgray')\n",
    "\n",
    "    ax.set_title(label)\n",
    "    ax.set_ylabel('Spike count per bin')\n",
    "    ax.set_xlabel('Time (s)')\n",
    "    plt.tight_layout() # helps ensure titles and label text don't overlap\n",
    "    \n",
    "\n",
    "    \n",
    "plt.show()    "
   ]
  },
  {
   "cell_type": "markdown",
   "metadata": {},
   "source": [
    "### Overlaying Conditions\n",
    "\n",
    "It's easier to make visual comparisons within a plot than between them. Since 0 and 90 degrees were the two experimental conditions that we'd want to compare, let's overlay them, keeping the separate panels for sort code. \n",
    "\n",
    "Note that this is a bit easier to do using the list method rather than the dictionary method, because in our list of labels, the orientation and sort code are two separate entries, so it's easy to pull out the orientations. Using the dictionary method, we'd need to parse the dictionary keys to pull out the orientation information."
   ]
  },
  {
   "cell_type": "code",
   "execution_count": null,
   "metadata": {},
   "outputs": [],
   "source": [
    "sort_codes"
   ]
  },
  {
   "cell_type": "code",
   "execution_count": null,
   "metadata": {},
   "outputs": [],
   "source": [
    "fig = plt.figure(figsize=[20,5])\n",
    "\n",
    "for i in sort_codes:\n",
    "    ax = fig.add_subplot(1, len(sort_codes), int(i))\n",
    "    zero = psth_list_labels.index([0., i])\n",
    "    ax.plot(psth_list[zero][1][:-1], psth_list[zero][0])\n",
    "    ninety = psth_list_labels.index([90., i])\n",
    "    ax.plot(psth_list[ninety][1][:-1], psth_list[ninety][0], color='red')\n",
    "\n",
    "    plt.axvspan(grating_on_time, grating_off_time, alpha=0.5, color='lightgray')\n",
    "    ax.set_title('Sort code ' + str(i))\n",
    "    ax.set_ylabel('Spike count per bin')\n",
    "    ax.set_xlabel('Time (s)')\n",
    "    plt.tight_layout() \n",
    "    \n",
    "plt.show()    "
   ]
  },
  {
   "cell_type": "markdown",
   "metadata": {},
   "source": [
    "From this we can see that `sort_code 2.0` appears to be sensitive to orientation, as there is a difference in the probability of spiking, particularly between 1-2 s."
   ]
  },
  {
   "cell_type": "markdown",
   "metadata": {},
   "source": [
    "---\n",
    "## PSTH for each channel\n",
    "\n",
    "The above examples collapsed across all 96 channels in the microelectrode array. Let's now compute the PSTHs for each channel and orientation. "
   ]
  },
  {
   "cell_type": "code",
   "execution_count": null,
   "metadata": {},
   "outputs": [],
   "source": [
    "psth = [np.histogram(df[(df['orientation']==ortn) & (df['channel']==chan)]['time'],\n",
    "                     bins=time_base\n",
    "                    )\n",
    "        for ortn in orientations\n",
    "        for chan in channels]\n",
    "\n",
    "# Generate the labels so we know what's what in the list above.\n",
    "# Be sure to do the nested for loops in the same order (orientation then sort_code)\n",
    "psth_labels = [[ortn, chan] for ortn in orientations for chan in channels]"
   ]
  },
  {
   "cell_type": "markdown",
   "metadata": {},
   "source": [
    "To plot these, we use similar code to above. However, because there are 96 channels, we want to remove some axis labels from most plots (so it's less messy and less redundant). There's no way to make this not a huge image, since there are 96 panels to show, but by setting it to 4 columns we attain a good balance between readability and size."
   ]
  },
  {
   "cell_type": "code",
   "execution_count": null,
   "metadata": {},
   "outputs": [],
   "source": [
    "fig = plt.figure(figsize=[20, 40])\n",
    "\n",
    "for i in channels:\n",
    "    ax = fig.add_subplot(int(96/4), 4, int(i))\n",
    "    zero = psth_labels.index([0., i])\n",
    "    ax.plot(psth[zero][1][:-1], psth[zero][0], linewidth=.75)\n",
    "    ninety = psth_labels.index([90., i])\n",
    "    ax.plot(psth[ninety][1][:-1], psth[ninety][0], color='red', linewidth=.75)\n",
    "\n",
    "    plt.axvspan(grating_on_time, grating_off_time, alpha=0.5, color='lightgray')\n",
    "\n",
    "    ax.set_title('Channel ' + str(i))\n",
    "\n",
    "    if i== 1:\n",
    "        ax.set_ylabel('Spike count per bin')\n",
    "        ax.set_xlabel('')\n",
    "        ax.set_xticklabels('')\n",
    "        \n",
    "    elif i == max(channels):\n",
    "        ax.set_xlabel('Time(s)')\n",
    "        ax.set_ylabel('')\n",
    "        ax.set_yticklabels('')\n",
    "        \n",
    "    else:\n",
    "        ax.set_xlabel('')\n",
    "        ax.set_xticklabels('')\n",
    "        ax.set_ylabel('')\n",
    "    \n",
    "plt.show()    "
   ]
  },
  {
   "cell_type": "markdown",
   "metadata": {},
   "source": [
    "One thing you'll note above is that there are some missing panels, including channels 21, 31, 34, 56, and 68. As noted above, these are the dead channels. The way the code above is written, we use the channel number as the index for the subplot position. Since there is no channel in the `channels` list for the dead channels, those subplot panels are simply left blank."
   ]
  },
  {
   "cell_type": "markdown",
   "metadata": {},
   "source": [
    "Beyond that, it's clear that different channels show very different response profiles. Some (e.g., 1, 2, 4, 5) show clear transient peaks in spiking activity soon after stimulus onset. Others do not. Some of the channels that show this initial peak return to baseline (low) levels of firing soon after, while others (e.g., 1, 20, 72) show a sustained plateau as long as the stimulus is on. Others (e.g., 3, 62) show no initial peak, but a steady rise in firing rate as the stimulus duration increases. As well, a few channels show orientation sensitivity, with clearly different responses between 0 (blue) and 90 (red) degree gratings (e.g., 29, 63, 75, 76, 91)."
   ]
  },
  {
   "cell_type": "markdown",
   "metadata": {},
   "source": [
    "## Interactive plots\n",
    "\n",
    "Plotting all 91 channels is a bit visually overwhelming. It's useful in appreciating the whole range of responses in different channels, but each plot is quite small. Here we use `ipywidgets` to generate an interactive plot, with a drop-down menu to select the channel we want to view.\n",
    "\n",
    "**Note:** This will not display in the online book version, but it should work if you download and run this notebook file. To get this to work on your own system, you will need to at least run `jupyter labextension install @jupyter-widgets/jupyterlab-manager`, and possibly install additional pacakges if you don't have them already (although Anaconda seems to provide them)."
   ]
  },
  {
   "cell_type": "code",
   "execution_count": null,
   "metadata": {},
   "outputs": [],
   "source": [
    "import ipywidgets as widgets\n",
    "from ipywidgets import interact, interact_manual\n",
    "\n",
    "@interact\n",
    "def psth_i(chan=channels):\n",
    "    fig = plt.figure(figsize=[15,5]) \n",
    "\n",
    "    zero = psth_labels.index([0., chan])\n",
    "    plt.plot(psth[zero][1][:-1], psth[zero][0], \n",
    "             linewidth=.75,\n",
    "             label='0 deg'\n",
    "            )\n",
    "    ninety = psth_labels.index([90., chan])\n",
    "    plt.plot(psth[ninety][1][:-1], psth[ninety][0], \n",
    "             color='red', \n",
    "             linewidth=.75,\n",
    "             label='90 deg'\n",
    "            )\n",
    "    plt.axvspan(grating_on_time, grating_off_time, alpha=0.5, color='lightgray')\n",
    "    plt.legend()\n",
    "    plt.title('Channel ' + str(int(chan)))\n",
    "    plt.xlabel('Time (s)')\n",
    "    plt.ylabel('Spike count per bin')\n",
    "\n",
    "    plt.show()"
   ]
  }
 ],
 "metadata": {
  "kernelspec": {
   "display_name": "Python 3",
   "language": "python",
   "name": "python3"
  },
  "language_info": {
   "codemirror_mode": {
    "name": "ipython",
    "version": 3
   },
   "file_extension": ".py",
   "mimetype": "text/x-python",
   "name": "python",
   "nbconvert_exporter": "python",
   "pygments_lexer": "ipython3",
   "version": "3.7.9"
  }
 },
 "nbformat": 4,
 "nbformat_minor": 4
}
