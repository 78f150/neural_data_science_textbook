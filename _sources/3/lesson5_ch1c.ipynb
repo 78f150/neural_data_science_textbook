{
 "cells": [
  {
   "cell_type": "markdown",
   "metadata": {},
   "source": [
    "## Reading multiple files using list comprehension\n",
    "\n",
    "While the `for` loop above works fine, there is an alternative way to do this, using [**list comprehension**](https://www.datacamp.com/community/tutorials/python-list-comprehension). List comprehensions are basically just a compact version of a `for` loop, but they have some advantages:\n",
    "- they are more pythonic: they only require one line of code, whereas the `for` loop above required two\n",
    "- they are more efficient: list comprehensions actually run faster. This may not be an issue in the small examples here, but can make a big different when working with real, large data sets\n",
    "- in some cases (not covered here), it can be easier to embed a list comprehension in a larger chunk of code, than a `for` loop"
   ]
  },
  {
   "cell_type": "code",
   "execution_count": 1,
   "metadata": {},
   "outputs": [],
   "source": [
    "import pandas as pd"
   ]
  },
  {
   "cell_type": "code",
   "execution_count": 3,
   "metadata": {},
   "outputs": [
    {
     "data": {
      "text/plain": [
       "[   trial        RT\n",
       " 0      1  0.508971\n",
       " 1      2  0.389858\n",
       " 2      3  0.404175\n",
       " 3      4  0.269520\n",
       " 4      5  0.437765\n",
       " 5      6  0.368142\n",
       " 6      7  0.400544\n",
       " 7      8  0.335198\n",
       " 8      9  0.341722\n",
       " 9     10  0.439583,\n",
       "    trial        RT\n",
       " 0      1  0.433094\n",
       " 1      2  0.392526\n",
       " 2      3  0.396831\n",
       " 3      4  0.417988\n",
       " 4      5  0.371810\n",
       " 5      6  0.659228\n",
       " 6      7  0.411051\n",
       " 7      8  0.409580\n",
       " 8      9  0.486828\n",
       " 9     10  0.468912,\n",
       "    trial        RT\n",
       " 0      1  0.322099\n",
       " 1      2  0.396106\n",
       " 2      3  0.384297\n",
       " 3      4  0.364524\n",
       " 4      5  0.454075\n",
       " 5      6  0.494156\n",
       " 6      7  0.492787\n",
       " 7      8  0.506836\n",
       " 8      9  0.340722\n",
       " 9     10  0.704491]"
      ]
     },
     "execution_count": 3,
     "metadata": {},
     "output_type": "execute_result"
    }
   ],
   "source": [
    "filenames = ['s1.csv', 's2.csv', 's3.csv']\n",
    "\n",
    "df_list = [pd.read_csv(f) for f in filenames]\n",
    "df_list"
   ]
  }
 ],
 "metadata": {
  "kernelspec": {
   "display_name": "Python 3",
   "language": "python",
   "name": "python3"
  },
  "language_info": {
   "codemirror_mode": {
    "name": "ipython",
    "version": 3
   },
   "file_extension": ".py",
   "mimetype": "text/x-python",
   "name": "python",
   "nbconvert_exporter": "python",
   "pygments_lexer": "ipython3",
   "version": "3.7.9"
  }
 },
 "nbformat": 4,
 "nbformat_minor": 4
}
