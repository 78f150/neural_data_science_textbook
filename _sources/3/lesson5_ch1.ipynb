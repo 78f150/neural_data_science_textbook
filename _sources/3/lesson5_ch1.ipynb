{
 "cells": [
  {
   "cell_type": "markdown",
   "metadata": {},
   "source": [
    "# Chapter 1: Preparing Data\n",
    "\n",
    "[View this lesson on datacamp](https://learn.datacamp.com/courses/merging-dataframes-with-pandas)\n"
   ]
  },
  {
   "cell_type": "code",
   "execution_count": 1,
   "metadata": {},
   "outputs": [],
   "source": [
    "import pandas as pd"
   ]
  },
  {
   "cell_type": "markdown",
   "metadata": {},
   "source": [
    "To read a single file into a dataframe, use the following format:\n",
    "\n",
    "`variable = pd.read_csv('filename.csv')`\n",
    "\n",
    "For example, this reads a file named `fav_colour.csv` and saves it as a pandas DataFrame called `colour_dat`:"
   ]
  },
  {
   "cell_type": "code",
   "execution_count": 2,
   "metadata": {},
   "outputs": [],
   "source": [
    "colour_dat = pd.read_csv('fav_colour.csv')"
   ]
  },
  {
   "cell_type": "markdown",
   "metadata": {},
   "source": [
    "We can see the resulting DataFrame by executing the name of the variable:"
   ]
  },
  {
   "cell_type": "code",
   "execution_count": 3,
   "metadata": {},
   "outputs": [
    {
     "data": {
      "text/html": [
       "<div>\n",
       "<style scoped>\n",
       "    .dataframe tbody tr th:only-of-type {\n",
       "        vertical-align: middle;\n",
       "    }\n",
       "\n",
       "    .dataframe tbody tr th {\n",
       "        vertical-align: top;\n",
       "    }\n",
       "\n",
       "    .dataframe thead th {\n",
       "        text-align: right;\n",
       "    }\n",
       "</style>\n",
       "<table border=\"1\" class=\"dataframe\">\n",
       "  <thead>\n",
       "    <tr style=\"text-align: right;\">\n",
       "      <th></th>\n",
       "      <th>Participant num</th>\n",
       "      <th>Fav Colour</th>\n",
       "    </tr>\n",
       "  </thead>\n",
       "  <tbody>\n",
       "    <tr>\n",
       "      <th>0</th>\n",
       "      <td>1</td>\n",
       "      <td>blue</td>\n",
       "    </tr>\n",
       "    <tr>\n",
       "      <th>1</th>\n",
       "      <td>2</td>\n",
       "      <td>red</td>\n",
       "    </tr>\n",
       "    <tr>\n",
       "      <th>2</th>\n",
       "      <td>3</td>\n",
       "      <td>green</td>\n",
       "    </tr>\n",
       "    <tr>\n",
       "      <th>3</th>\n",
       "      <td>4</td>\n",
       "      <td>purple</td>\n",
       "    </tr>\n",
       "    <tr>\n",
       "      <th>4</th>\n",
       "      <td>5</td>\n",
       "      <td>red</td>\n",
       "    </tr>\n",
       "    <tr>\n",
       "      <th>5</th>\n",
       "      <td>6</td>\n",
       "      <td>green</td>\n",
       "    </tr>\n",
       "    <tr>\n",
       "      <th>6</th>\n",
       "      <td>7</td>\n",
       "      <td>orange</td>\n",
       "    </tr>\n",
       "    <tr>\n",
       "      <th>7</th>\n",
       "      <td>8</td>\n",
       "      <td>yellow</td>\n",
       "    </tr>\n",
       "    <tr>\n",
       "      <th>8</th>\n",
       "      <td>9</td>\n",
       "      <td>yellow</td>\n",
       "    </tr>\n",
       "    <tr>\n",
       "      <th>9</th>\n",
       "      <td>10</td>\n",
       "      <td>pink</td>\n",
       "    </tr>\n",
       "  </tbody>\n",
       "</table>\n",
       "</div>"
      ],
      "text/plain": [
       "   Participant num Fav Colour\n",
       "0                1       blue\n",
       "1                2        red\n",
       "2                3      green\n",
       "3                4    purple \n",
       "4                5        red\n",
       "5                6      green\n",
       "6                7     orange\n",
       "7                8    yellow \n",
       "8                9    yellow \n",
       "9               10       pink"
      ]
     },
     "execution_count": 3,
     "metadata": {},
     "output_type": "execute_result"
    }
   ],
   "source": [
    "colour_dat"
   ]
  },
  {
   "cell_type": "markdown",
   "metadata": {},
   "source": [
    "## Use a `for` loop to read in multiple files:\n",
    "\n",
    "In many data science cases, we have data in multiple files. For example, if we run an experiment with human participants, we might have a data file from each participant, but for group analysis we'll want to combine them all into one big DataFrame. This is a great use case for looping, since we're doing the same thing (reading a file into a DataFrame) multiple times. \n",
    "\n",
    "First, create a list of the files, Later we will loop through this list."
   ]
  },
  {
   "cell_type": "code",
   "execution_count": 4,
   "metadata": {},
   "outputs": [],
   "source": [
    "filenames = ['s1.csv', 's2.csv', 's3.csv']"
   ]
  },
  {
   "cell_type": "markdown",
   "metadata": {},
   "source": [
    "Next, we create an empty list to append the files to. Note that what we're doing here doesn't actually create one big DataFrame (we'll see how to do that in the next chapter). For now, we're creating a list in which each list item is the DataFrame from one of the files we read. We name the list in a way that makes it obvious that it's a list of DataFrames."
   ]
  },
  {
   "cell_type": "code",
   "execution_count": 5,
   "metadata": {},
   "outputs": [],
   "source": [
    "df_list = []"
   ]
  },
  {
   "cell_type": "markdown",
   "metadata": {},
   "source": [
    "Finally, use a `for` loop to read the files in. This will cycle through the items in the `filenames` list; each time through the loop, `filename` has the value of the current file name, and we used the DataFrame `append()` method to add the data from that file to "
   ]
  },
  {
   "cell_type": "code",
   "execution_count": 6,
   "metadata": {},
   "outputs": [],
   "source": [
    "for filename in filenames:\n",
    "    df_list.append(pd.read_csv(filename))"
   ]
  },
  {
   "cell_type": "markdown",
   "metadata": {},
   "source": [
    "When we view the contents of the list, we see each dataset, with its two columns (with headers saying what they are), and commas separating the list entries, as is normal. "
   ]
  },
  {
   "cell_type": "code",
   "execution_count": 7,
   "metadata": {},
   "outputs": [
    {
     "data": {
      "text/plain": [
       "[   trial        RT\n",
       " 0      1  0.508971\n",
       " 1      2  0.389858\n",
       " 2      3  0.404175\n",
       " 3      4  0.269520\n",
       " 4      5  0.437765\n",
       " 5      6  0.368142\n",
       " 6      7  0.400544\n",
       " 7      8  0.335198\n",
       " 8      9  0.341722\n",
       " 9     10  0.439583,\n",
       "    trial        RT\n",
       " 0      1  0.433094\n",
       " 1      2  0.392526\n",
       " 2      3  0.396831\n",
       " 3      4  0.417988\n",
       " 4      5  0.371810\n",
       " 5      6  0.659228\n",
       " 6      7  0.411051\n",
       " 7      8  0.409580\n",
       " 8      9  0.486828\n",
       " 9     10  0.468912,\n",
       "    trial        RT\n",
       " 0      1  0.322099\n",
       " 1      2  0.396106\n",
       " 2      3  0.384297\n",
       " 3      4  0.364524\n",
       " 4      5  0.454075\n",
       " 5      6  0.494156\n",
       " 6      7  0.492787\n",
       " 7      8  0.506836\n",
       " 8      9  0.340722\n",
       " 9     10  0.704491]"
      ]
     },
     "execution_count": 7,
     "metadata": {},
     "output_type": "execute_result"
    }
   ],
   "source": [
    "df_list"
   ]
  },
  {
   "cell_type": "markdown",
   "metadata": {},
   "source": [
    "The output above isn't nicely formatted as a pandas DataFrame, because Python is treating the DataFrames as list entries. But, if we ask to see one of the list entries, things look prettier: "
   ]
  },
  {
   "cell_type": "code",
   "execution_count": 8,
   "metadata": {},
   "outputs": [
    {
     "data": {
      "text/html": [
       "<div>\n",
       "<style scoped>\n",
       "    .dataframe tbody tr th:only-of-type {\n",
       "        vertical-align: middle;\n",
       "    }\n",
       "\n",
       "    .dataframe tbody tr th {\n",
       "        vertical-align: top;\n",
       "    }\n",
       "\n",
       "    .dataframe thead th {\n",
       "        text-align: right;\n",
       "    }\n",
       "</style>\n",
       "<table border=\"1\" class=\"dataframe\">\n",
       "  <thead>\n",
       "    <tr style=\"text-align: right;\">\n",
       "      <th></th>\n",
       "      <th>trial</th>\n",
       "      <th>RT</th>\n",
       "    </tr>\n",
       "  </thead>\n",
       "  <tbody>\n",
       "    <tr>\n",
       "      <th>0</th>\n",
       "      <td>1</td>\n",
       "      <td>0.508971</td>\n",
       "    </tr>\n",
       "    <tr>\n",
       "      <th>1</th>\n",
       "      <td>2</td>\n",
       "      <td>0.389858</td>\n",
       "    </tr>\n",
       "    <tr>\n",
       "      <th>2</th>\n",
       "      <td>3</td>\n",
       "      <td>0.404175</td>\n",
       "    </tr>\n",
       "    <tr>\n",
       "      <th>3</th>\n",
       "      <td>4</td>\n",
       "      <td>0.269520</td>\n",
       "    </tr>\n",
       "    <tr>\n",
       "      <th>4</th>\n",
       "      <td>5</td>\n",
       "      <td>0.437765</td>\n",
       "    </tr>\n",
       "    <tr>\n",
       "      <th>5</th>\n",
       "      <td>6</td>\n",
       "      <td>0.368142</td>\n",
       "    </tr>\n",
       "    <tr>\n",
       "      <th>6</th>\n",
       "      <td>7</td>\n",
       "      <td>0.400544</td>\n",
       "    </tr>\n",
       "    <tr>\n",
       "      <th>7</th>\n",
       "      <td>8</td>\n",
       "      <td>0.335198</td>\n",
       "    </tr>\n",
       "    <tr>\n",
       "      <th>8</th>\n",
       "      <td>9</td>\n",
       "      <td>0.341722</td>\n",
       "    </tr>\n",
       "    <tr>\n",
       "      <th>9</th>\n",
       "      <td>10</td>\n",
       "      <td>0.439583</td>\n",
       "    </tr>\n",
       "  </tbody>\n",
       "</table>\n",
       "</div>"
      ],
      "text/plain": [
       "   trial        RT\n",
       "0      1  0.508971\n",
       "1      2  0.389858\n",
       "2      3  0.404175\n",
       "3      4  0.269520\n",
       "4      5  0.437765\n",
       "5      6  0.368142\n",
       "6      7  0.400544\n",
       "7      8  0.335198\n",
       "8      9  0.341722\n",
       "9     10  0.439583"
      ]
     },
     "execution_count": 8,
     "metadata": {},
     "output_type": "execute_result"
    }
   ],
   "source": [
    "df_list[0]"
   ]
  },
  {
   "cell_type": "markdown",
   "metadata": {},
   "source": [
    "## Adding columns of data to a DataFrame\n",
    "\n",
    "One simple way to combine data is to add a column from one DataFrame to another. We can do this for RT from each participant. \n",
    "\n",
    "First we take the first data file, from `df_list`, and make it just a free-standing DataFrame called `df`"
   ]
  },
  {
   "cell_type": "code",
   "execution_count": 9,
   "metadata": {},
   "outputs": [],
   "source": [
    "df = df_list[0]"
   ]
  },
  {
   "cell_type": "markdown",
   "metadata": {},
   "source": [
    "Now we add the data from participant 2 as a new column in `df`. pandas knows to make a new column if you assign something to a column named that doesn't already exist. In this case we're adding a new column called `s2`.\n",
    "Since participant 2's data are in the second entry in `df_list`, we use `df_list[1]`. We also need to specify which column to copy over, which we do by specifying `['RT']`"
   ]
  },
  {
   "cell_type": "code",
   "execution_count": 10,
   "metadata": {},
   "outputs": [
    {
     "data": {
      "text/html": [
       "<div>\n",
       "<style scoped>\n",
       "    .dataframe tbody tr th:only-of-type {\n",
       "        vertical-align: middle;\n",
       "    }\n",
       "\n",
       "    .dataframe tbody tr th {\n",
       "        vertical-align: top;\n",
       "    }\n",
       "\n",
       "    .dataframe thead th {\n",
       "        text-align: right;\n",
       "    }\n",
       "</style>\n",
       "<table border=\"1\" class=\"dataframe\">\n",
       "  <thead>\n",
       "    <tr style=\"text-align: right;\">\n",
       "      <th></th>\n",
       "      <th>trial</th>\n",
       "      <th>RT</th>\n",
       "      <th>s2</th>\n",
       "    </tr>\n",
       "  </thead>\n",
       "  <tbody>\n",
       "    <tr>\n",
       "      <th>0</th>\n",
       "      <td>1</td>\n",
       "      <td>0.508971</td>\n",
       "      <td>0.433094</td>\n",
       "    </tr>\n",
       "    <tr>\n",
       "      <th>1</th>\n",
       "      <td>2</td>\n",
       "      <td>0.389858</td>\n",
       "      <td>0.392526</td>\n",
       "    </tr>\n",
       "    <tr>\n",
       "      <th>2</th>\n",
       "      <td>3</td>\n",
       "      <td>0.404175</td>\n",
       "      <td>0.396831</td>\n",
       "    </tr>\n",
       "    <tr>\n",
       "      <th>3</th>\n",
       "      <td>4</td>\n",
       "      <td>0.269520</td>\n",
       "      <td>0.417988</td>\n",
       "    </tr>\n",
       "    <tr>\n",
       "      <th>4</th>\n",
       "      <td>5</td>\n",
       "      <td>0.437765</td>\n",
       "      <td>0.371810</td>\n",
       "    </tr>\n",
       "    <tr>\n",
       "      <th>5</th>\n",
       "      <td>6</td>\n",
       "      <td>0.368142</td>\n",
       "      <td>0.659228</td>\n",
       "    </tr>\n",
       "    <tr>\n",
       "      <th>6</th>\n",
       "      <td>7</td>\n",
       "      <td>0.400544</td>\n",
       "      <td>0.411051</td>\n",
       "    </tr>\n",
       "    <tr>\n",
       "      <th>7</th>\n",
       "      <td>8</td>\n",
       "      <td>0.335198</td>\n",
       "      <td>0.409580</td>\n",
       "    </tr>\n",
       "    <tr>\n",
       "      <th>8</th>\n",
       "      <td>9</td>\n",
       "      <td>0.341722</td>\n",
       "      <td>0.486828</td>\n",
       "    </tr>\n",
       "    <tr>\n",
       "      <th>9</th>\n",
       "      <td>10</td>\n",
       "      <td>0.439583</td>\n",
       "      <td>0.468912</td>\n",
       "    </tr>\n",
       "  </tbody>\n",
       "</table>\n",
       "</div>"
      ],
      "text/plain": [
       "   trial        RT        s2\n",
       "0      1  0.508971  0.433094\n",
       "1      2  0.389858  0.392526\n",
       "2      3  0.404175  0.396831\n",
       "3      4  0.269520  0.417988\n",
       "4      5  0.437765  0.371810\n",
       "5      6  0.368142  0.659228\n",
       "6      7  0.400544  0.411051\n",
       "7      8  0.335198  0.409580\n",
       "8      9  0.341722  0.486828\n",
       "9     10  0.439583  0.468912"
      ]
     },
     "execution_count": 10,
     "metadata": {},
     "output_type": "execute_result"
    }
   ],
   "source": [
    "df['s2'] = df_list[1]['RT']\n",
    "\n",
    "df"
   ]
  },
  {
   "cell_type": "markdown",
   "metadata": {},
   "source": [
    "One issue with this is that s1's data is called \"RT\", but we might want to call it \"s1\". We can rename the column with `pd.rename()`, using a dictionary to specify the mapping between old and new names. Note we have to assign the output of `df.rename()` back to `df`, because `.rename()` is a method that produces output, but doesn't, by default, change the contents of what it takes as input. (If you don't understand this, we go into more detail later.)"
   ]
  },
  {
   "cell_type": "code",
   "execution_count": 11,
   "metadata": {},
   "outputs": [
    {
     "data": {
      "text/html": [
       "<div>\n",
       "<style scoped>\n",
       "    .dataframe tbody tr th:only-of-type {\n",
       "        vertical-align: middle;\n",
       "    }\n",
       "\n",
       "    .dataframe tbody tr th {\n",
       "        vertical-align: top;\n",
       "    }\n",
       "\n",
       "    .dataframe thead th {\n",
       "        text-align: right;\n",
       "    }\n",
       "</style>\n",
       "<table border=\"1\" class=\"dataframe\">\n",
       "  <thead>\n",
       "    <tr style=\"text-align: right;\">\n",
       "      <th></th>\n",
       "      <th>trial</th>\n",
       "      <th>s1</th>\n",
       "      <th>s2</th>\n",
       "    </tr>\n",
       "  </thead>\n",
       "  <tbody>\n",
       "    <tr>\n",
       "      <th>0</th>\n",
       "      <td>1</td>\n",
       "      <td>0.508971</td>\n",
       "      <td>0.433094</td>\n",
       "    </tr>\n",
       "    <tr>\n",
       "      <th>1</th>\n",
       "      <td>2</td>\n",
       "      <td>0.389858</td>\n",
       "      <td>0.392526</td>\n",
       "    </tr>\n",
       "    <tr>\n",
       "      <th>2</th>\n",
       "      <td>3</td>\n",
       "      <td>0.404175</td>\n",
       "      <td>0.396831</td>\n",
       "    </tr>\n",
       "    <tr>\n",
       "      <th>3</th>\n",
       "      <td>4</td>\n",
       "      <td>0.269520</td>\n",
       "      <td>0.417988</td>\n",
       "    </tr>\n",
       "    <tr>\n",
       "      <th>4</th>\n",
       "      <td>5</td>\n",
       "      <td>0.437765</td>\n",
       "      <td>0.371810</td>\n",
       "    </tr>\n",
       "    <tr>\n",
       "      <th>5</th>\n",
       "      <td>6</td>\n",
       "      <td>0.368142</td>\n",
       "      <td>0.659228</td>\n",
       "    </tr>\n",
       "    <tr>\n",
       "      <th>6</th>\n",
       "      <td>7</td>\n",
       "      <td>0.400544</td>\n",
       "      <td>0.411051</td>\n",
       "    </tr>\n",
       "    <tr>\n",
       "      <th>7</th>\n",
       "      <td>8</td>\n",
       "      <td>0.335198</td>\n",
       "      <td>0.409580</td>\n",
       "    </tr>\n",
       "    <tr>\n",
       "      <th>8</th>\n",
       "      <td>9</td>\n",
       "      <td>0.341722</td>\n",
       "      <td>0.486828</td>\n",
       "    </tr>\n",
       "    <tr>\n",
       "      <th>9</th>\n",
       "      <td>10</td>\n",
       "      <td>0.439583</td>\n",
       "      <td>0.468912</td>\n",
       "    </tr>\n",
       "  </tbody>\n",
       "</table>\n",
       "</div>"
      ],
      "text/plain": [
       "   trial        s1        s2\n",
       "0      1  0.508971  0.433094\n",
       "1      2  0.389858  0.392526\n",
       "2      3  0.404175  0.396831\n",
       "3      4  0.269520  0.417988\n",
       "4      5  0.437765  0.371810\n",
       "5      6  0.368142  0.659228\n",
       "6      7  0.400544  0.411051\n",
       "7      8  0.335198  0.409580\n",
       "8      9  0.341722  0.486828\n",
       "9     10  0.439583  0.468912"
      ]
     },
     "execution_count": 11,
     "metadata": {},
     "output_type": "execute_result"
    }
   ],
   "source": [
    "df = df.rename(columns={'RT':'s1'})\n",
    "df"
   ]
  },
  {
   "cell_type": "markdown",
   "metadata": {},
   "source": [
    "## Reindexing DataFrames\n",
    "\n",
    "The **index** of a DataFrame is the set of labels for rows. Just as columns have names, or labels, rows have indexes. By default, these indexes are just numbers, starting from 0. But, you can change the index to anything you want, such as months of the year, participant ID codes, etc.. You can also use the index to sort the DataFrame, or access specific rows.\n",
    "\n",
    "If you're familiar with Excel or other spreadsheet software, you're familiar with indices - they are the row numbers in grey that appear on the left side of the spreadsheet:\n",
    "\n",
    "<img src='images/spreadsheet_indices.png' width=150>\n",
    "\n",
    "In pandas, indexes have some \"superpowers\" relative to Excel: firstly, although they are numbers by default, you can change them top whatever you want. Secondly, a DataFrame can have more than one index (multi-indexing, which we'll cover later).\n",
    "\n",
    "The DataCamp lesson introduces the (convenient, but not universal) convention of calling the individual labels for rows *indices*, while *indexes* refers to the more general class of labeling rows. So if we're referring to the sets of labels for two different DataFrames, we'd call them \"indexes\", but if we're referring to the row labels then the set of labels for one DataFrame can be referred to as its \"indices\". On the other hand, if you find this a bit confusing it's not the most important thing to keep straight in your head. The important thing to know is that DataFrame rows have indices, just like columns have column labels. \n",
    "\n",
    "Carrying on with our sample data from above, we could use `trial` as the index for our data, rather than having it as a column within the data. If we've already loaded the data, we can do this with the `.set_index()` method:"
   ]
  },
  {
   "cell_type": "code",
   "execution_count": 12,
   "metadata": {},
   "outputs": [
    {
     "data": {
      "text/html": [
       "<div>\n",
       "<style scoped>\n",
       "    .dataframe tbody tr th:only-of-type {\n",
       "        vertical-align: middle;\n",
       "    }\n",
       "\n",
       "    .dataframe tbody tr th {\n",
       "        vertical-align: top;\n",
       "    }\n",
       "\n",
       "    .dataframe thead th {\n",
       "        text-align: right;\n",
       "    }\n",
       "</style>\n",
       "<table border=\"1\" class=\"dataframe\">\n",
       "  <thead>\n",
       "    <tr style=\"text-align: right;\">\n",
       "      <th></th>\n",
       "      <th>s1</th>\n",
       "      <th>s2</th>\n",
       "    </tr>\n",
       "    <tr>\n",
       "      <th>trial</th>\n",
       "      <th></th>\n",
       "      <th></th>\n",
       "    </tr>\n",
       "  </thead>\n",
       "  <tbody>\n",
       "    <tr>\n",
       "      <th>1</th>\n",
       "      <td>0.508971</td>\n",
       "      <td>0.433094</td>\n",
       "    </tr>\n",
       "    <tr>\n",
       "      <th>2</th>\n",
       "      <td>0.389858</td>\n",
       "      <td>0.392526</td>\n",
       "    </tr>\n",
       "    <tr>\n",
       "      <th>3</th>\n",
       "      <td>0.404175</td>\n",
       "      <td>0.396831</td>\n",
       "    </tr>\n",
       "    <tr>\n",
       "      <th>4</th>\n",
       "      <td>0.269520</td>\n",
       "      <td>0.417988</td>\n",
       "    </tr>\n",
       "    <tr>\n",
       "      <th>5</th>\n",
       "      <td>0.437765</td>\n",
       "      <td>0.371810</td>\n",
       "    </tr>\n",
       "    <tr>\n",
       "      <th>6</th>\n",
       "      <td>0.368142</td>\n",
       "      <td>0.659228</td>\n",
       "    </tr>\n",
       "    <tr>\n",
       "      <th>7</th>\n",
       "      <td>0.400544</td>\n",
       "      <td>0.411051</td>\n",
       "    </tr>\n",
       "    <tr>\n",
       "      <th>8</th>\n",
       "      <td>0.335198</td>\n",
       "      <td>0.409580</td>\n",
       "    </tr>\n",
       "    <tr>\n",
       "      <th>9</th>\n",
       "      <td>0.341722</td>\n",
       "      <td>0.486828</td>\n",
       "    </tr>\n",
       "    <tr>\n",
       "      <th>10</th>\n",
       "      <td>0.439583</td>\n",
       "      <td>0.468912</td>\n",
       "    </tr>\n",
       "  </tbody>\n",
       "</table>\n",
       "</div>"
      ],
      "text/plain": [
       "             s1        s2\n",
       "trial                    \n",
       "1      0.508971  0.433094\n",
       "2      0.389858  0.392526\n",
       "3      0.404175  0.396831\n",
       "4      0.269520  0.417988\n",
       "5      0.437765  0.371810\n",
       "6      0.368142  0.659228\n",
       "7      0.400544  0.411051\n",
       "8      0.335198  0.409580\n",
       "9      0.341722  0.486828\n",
       "10     0.439583  0.468912"
      ]
     },
     "execution_count": 12,
     "metadata": {},
     "output_type": "execute_result"
    }
   ],
   "source": [
    "df.set_index('trial')"
   ]
  },
  {
   "cell_type": "markdown",
   "metadata": {},
   "source": [
    "However, if you already know there's a column in your data that you want to use as the index, you can specify that when you first import the data, using the `index_col=` argument to `pd.read_csv()`:"
   ]
  },
  {
   "cell_type": "code",
   "execution_count": 13,
   "metadata": {},
   "outputs": [
    {
     "data": {
      "text/html": [
       "<div>\n",
       "<style scoped>\n",
       "    .dataframe tbody tr th:only-of-type {\n",
       "        vertical-align: middle;\n",
       "    }\n",
       "\n",
       "    .dataframe tbody tr th {\n",
       "        vertical-align: top;\n",
       "    }\n",
       "\n",
       "    .dataframe thead th {\n",
       "        text-align: right;\n",
       "    }\n",
       "</style>\n",
       "<table border=\"1\" class=\"dataframe\">\n",
       "  <thead>\n",
       "    <tr style=\"text-align: right;\">\n",
       "      <th></th>\n",
       "      <th>RT</th>\n",
       "    </tr>\n",
       "    <tr>\n",
       "      <th>trial</th>\n",
       "      <th></th>\n",
       "    </tr>\n",
       "  </thead>\n",
       "  <tbody>\n",
       "    <tr>\n",
       "      <th>1</th>\n",
       "      <td>0.508971</td>\n",
       "    </tr>\n",
       "    <tr>\n",
       "      <th>2</th>\n",
       "      <td>0.389858</td>\n",
       "    </tr>\n",
       "    <tr>\n",
       "      <th>3</th>\n",
       "      <td>0.404175</td>\n",
       "    </tr>\n",
       "    <tr>\n",
       "      <th>4</th>\n",
       "      <td>0.269520</td>\n",
       "    </tr>\n",
       "    <tr>\n",
       "      <th>5</th>\n",
       "      <td>0.437765</td>\n",
       "    </tr>\n",
       "    <tr>\n",
       "      <th>6</th>\n",
       "      <td>0.368142</td>\n",
       "    </tr>\n",
       "    <tr>\n",
       "      <th>7</th>\n",
       "      <td>0.400544</td>\n",
       "    </tr>\n",
       "    <tr>\n",
       "      <th>8</th>\n",
       "      <td>0.335198</td>\n",
       "    </tr>\n",
       "    <tr>\n",
       "      <th>9</th>\n",
       "      <td>0.341722</td>\n",
       "    </tr>\n",
       "    <tr>\n",
       "      <th>10</th>\n",
       "      <td>0.439583</td>\n",
       "    </tr>\n",
       "  </tbody>\n",
       "</table>\n",
       "</div>"
      ],
      "text/plain": [
       "             RT\n",
       "trial          \n",
       "1      0.508971\n",
       "2      0.389858\n",
       "3      0.404175\n",
       "4      0.269520\n",
       "5      0.437765\n",
       "6      0.368142\n",
       "7      0.400544\n",
       "8      0.335198\n",
       "9      0.341722\n",
       "10     0.439583"
      ]
     },
     "execution_count": 13,
     "metadata": {},
     "output_type": "execute_result"
    }
   ],
   "source": [
    "df_list = []\n",
    "for filename in filenames:\n",
    "    df_list.append(pd.read_csv(filename, index_col='trial'))\n",
    "    \n",
    "df_list[0]"
   ]
  },
  {
   "cell_type": "markdown",
   "metadata": {},
   "source": [
    "Some important things to note here:\n",
    "- Compared to the output earlier, which had 3 columns, the output here only has two columns. In fact the first \"column\" in a DataFrame is the index, not an actual column. Since we used `trial` as the index here, we don't have a separate, unlabeled \"column\" of index values starting from 0, as we did earlier. I'm using \"column\" in quotes to refer to the index because it's not treated as a column by pandas - it's the index. \n",
    "- we put `'trial'` in quotation marks, because it's a string\n",
    "- note that in the above command, the `pd.read_csv()` command is embedded inside the `.append()` method. The argument to `pd.read_csv()` needs to be inside the parentheses for *that* command, and not the outer parentheses that enclose the input to `df_list.append()`"
   ]
  },
  {
   "cell_type": "markdown",
   "metadata": {},
   "source": [
    "## Applications of reindexing\n",
    "\n",
    "Reindexing can be useful if you have, or anticipate, missing data. For example, here's some data from three different rats who were timed running through a maze. This was an 8-day study, but not every rat was tested every day. So one animal may have data from days 1-3 and 5-8 of the study, but not day 4. When we import and combine data, though, we want to ensure that the indexing of the data reflects the days they were tested on (e.g., if a rat missed day 4, we want their day 5 data to have the index '5' even though that would be the fourth data point we have for them). \n",
    "\n",
    "When we load in the data, we find that it doesn't have a column that reflects the days that each animal was tested on, so each data set is indexed sequentially from 0:"
   ]
  },
  {
   "cell_type": "code",
   "execution_count": 14,
   "metadata": {},
   "outputs": [
    {
     "data": {
      "text/plain": [
       "[   maze_time\n",
       " 0       6.00\n",
       " 1       7.56\n",
       " 2       2.17\n",
       " 3       2.39\n",
       " 4       5.60\n",
       " 5       8.94\n",
       " 6       2.95\n",
       " 7       3.30,\n",
       "    maze_time\n",
       " 0       7.32\n",
       " 1       4.12\n",
       " 2       6.28\n",
       " 3       4.20\n",
       " 4       2.11\n",
       " 5       4.98\n",
       " 6       7.44,\n",
       "    maze_time\n",
       " 0       2.55\n",
       " 1       4.00\n",
       " 2       6.00\n",
       " 3       8.38\n",
       " 4       6.53\n",
       " 5       3.01]"
      ]
     },
     "execution_count": 14,
     "metadata": {},
     "output_type": "execute_result"
    }
   ],
   "source": [
    "maze_files = ['maze_data_1.csv', 'maze_data_2.csv', 'maze_data_3.csv']\n",
    "maze_list = []\n",
    "for filename in maze_files:\n",
    "    maze_list.append(pd.read_csv(filename))\n",
    "    \n",
    "maze_list"
   ]
  },
  {
   "cell_type": "markdown",
   "metadata": {},
   "source": [
    "Although the files aren't indexed, but we have a record (written in a lab notebook) of which days each rat was tested on:"
   ]
  },
  {
   "cell_type": "code",
   "execution_count": 15,
   "metadata": {},
   "outputs": [],
   "source": [
    "r1_days = ['day1', 'day2', 'day3', 'day4', 'day5', 'day6', 'day7', 'day8']\n",
    "r2_days = ['day1', 'day2', 'day3', 'day5', 'day6', 'day7', 'day8']\n",
    "r3_days = ['day1', 'day2', 'day4', 'day5', 'day6', 'day7']"
   ]
  },
  {
   "cell_type": "markdown",
   "metadata": {},
   "source": [
    "So we can use this information, along with the `.reindex()` method, to set the indexing appropriately for each animal. First we have to add the list of days on which testing actually occurred to each rat's data file, because we can only reindex from a column within the DataFrame.\n",
    "\n",
    "(Note: there are ways to do this more efficiently using looping, but for now we'll focus on reindexing and not looping.)"
   ]
  },
  {
   "cell_type": "code",
   "execution_count": 16,
   "metadata": {},
   "outputs": [
    {
     "data": {
      "text/plain": [
       "[   maze_time  days\n",
       " 0       6.00  day1\n",
       " 1       7.56  day2\n",
       " 2       2.17  day3\n",
       " 3       2.39  day4\n",
       " 4       5.60  day5\n",
       " 5       8.94  day6\n",
       " 6       2.95  day7\n",
       " 7       3.30  day8,\n",
       "    maze_time  days\n",
       " 0       7.32  day1\n",
       " 1       4.12  day2\n",
       " 2       6.28  day3\n",
       " 3       4.20  day5\n",
       " 4       2.11  day6\n",
       " 5       4.98  day7\n",
       " 6       7.44  day8,\n",
       "    maze_time  days\n",
       " 0       2.55  day1\n",
       " 1       4.00  day2\n",
       " 2       6.00  day4\n",
       " 3       8.38  day5\n",
       " 4       6.53  day6\n",
       " 5       3.01  day7]"
      ]
     },
     "execution_count": 16,
     "metadata": {},
     "output_type": "execute_result"
    }
   ],
   "source": [
    "maze_list[0]['days'] = r1_days\n",
    "maze_list[1]['days'] = r2_days\n",
    "maze_list[2]['days'] = r3_days\n",
    "\n",
    "maze_list"
   ]
  },
  {
   "cell_type": "markdown",
   "metadata": {},
   "source": [
    "Then we specify the `days` column as the index in each DataFrame:"
   ]
  },
  {
   "cell_type": "code",
   "execution_count": 17,
   "metadata": {},
   "outputs": [],
   "source": [
    "maze_list[0] = maze_list[0].set_index('days')\n",
    "maze_list[1] = maze_list[1].set_index('days')\n",
    "maze_list[2] = maze_list[2].set_index('days')"
   ]
  },
  {
   "cell_type": "code",
   "execution_count": 18,
   "metadata": {},
   "outputs": [
    {
     "data": {
      "text/plain": [
       "[      maze_time\n",
       " days           \n",
       " day1       6.00\n",
       " day2       7.56\n",
       " day3       2.17\n",
       " day4       2.39\n",
       " day5       5.60\n",
       " day6       8.94\n",
       " day7       2.95\n",
       " day8       3.30,\n",
       "       maze_time\n",
       " days           \n",
       " day1       7.32\n",
       " day2       4.12\n",
       " day3       6.28\n",
       " day5       4.20\n",
       " day6       2.11\n",
       " day7       4.98\n",
       " day8       7.44,\n",
       "       maze_time\n",
       " days           \n",
       " day1       2.55\n",
       " day2       4.00\n",
       " day4       6.00\n",
       " day5       8.38\n",
       " day6       6.53\n",
       " day7       3.01]"
      ]
     },
     "execution_count": 18,
     "metadata": {},
     "output_type": "execute_result"
    }
   ],
   "source": [
    "maze_list"
   ]
  },
  {
   "cell_type": "markdown",
   "metadata": {},
   "source": [
    "So now each rat's DataFrame is indexed by day numbers, and the days with no data are not represented in the DataFrame. But if we want all DataFrames to contain rows (and indexes) for all days, we can do this. As it happens, the first rat's data is complete - it has data from all of the study days. So we can use this as the index for the other datasets. (If we didn't have one data set that was complete, we could make a list containing all the indices we wanted, and use that to reindex).\n",
    "\n",
    "Pay attention below to the fact that the input to `.reindex()` is `maze_list[0].index` — the *index* of `maze_list[0]` — and not just `maze_list[0]`."
   ]
  },
  {
   "cell_type": "code",
   "execution_count": 19,
   "metadata": {},
   "outputs": [
    {
     "data": {
      "text/plain": [
       "[      maze_time\n",
       " days           \n",
       " day1       6.00\n",
       " day2       7.56\n",
       " day3       2.17\n",
       " day4       2.39\n",
       " day5       5.60\n",
       " day6       8.94\n",
       " day7       2.95\n",
       " day8       3.30,\n",
       "       maze_time\n",
       " days           \n",
       " day1       7.32\n",
       " day2       4.12\n",
       " day3       6.28\n",
       " day4        NaN\n",
       " day5       4.20\n",
       " day6       2.11\n",
       " day7       4.98\n",
       " day8       7.44,\n",
       "       maze_time\n",
       " days           \n",
       " day1       2.55\n",
       " day2       4.00\n",
       " day3        NaN\n",
       " day4       6.00\n",
       " day5       8.38\n",
       " day6       6.53\n",
       " day7       3.01\n",
       " day8        NaN]"
      ]
     },
     "execution_count": 19,
     "metadata": {},
     "output_type": "execute_result"
    }
   ],
   "source": [
    "maze_list[1] = maze_list[1].reindex(maze_list[0].index)\n",
    "maze_list[2] = maze_list[2].reindex(maze_list[0].index)\n",
    "\n",
    "maze_list"
   ]
  },
  {
   "cell_type": "markdown",
   "metadata": {},
   "source": [
    "Reindexing is useful in some cases. However, in other cases it's not really necessary. For example, if we wanted to merge the data from all three rats into one DataFrame, we could do so (similar to the example with RT data earlier) without reindexing, and pandas would automatically fill in the missing data with `NaN`s:"
   ]
  },
  {
   "cell_type": "code",
   "execution_count": 20,
   "metadata": {},
   "outputs": [
    {
     "data": {
      "text/html": [
       "<div>\n",
       "<style scoped>\n",
       "    .dataframe tbody tr th:only-of-type {\n",
       "        vertical-align: middle;\n",
       "    }\n",
       "\n",
       "    .dataframe tbody tr th {\n",
       "        vertical-align: top;\n",
       "    }\n",
       "\n",
       "    .dataframe thead th {\n",
       "        text-align: right;\n",
       "    }\n",
       "</style>\n",
       "<table border=\"1\" class=\"dataframe\">\n",
       "  <thead>\n",
       "    <tr style=\"text-align: right;\">\n",
       "      <th></th>\n",
       "      <th>r1</th>\n",
       "      <th>r2</th>\n",
       "      <th>r3</th>\n",
       "    </tr>\n",
       "    <tr>\n",
       "      <th>days</th>\n",
       "      <th></th>\n",
       "      <th></th>\n",
       "      <th></th>\n",
       "    </tr>\n",
       "  </thead>\n",
       "  <tbody>\n",
       "    <tr>\n",
       "      <th>day1</th>\n",
       "      <td>6.00</td>\n",
       "      <td>7.32</td>\n",
       "      <td>2.55</td>\n",
       "    </tr>\n",
       "    <tr>\n",
       "      <th>day2</th>\n",
       "      <td>7.56</td>\n",
       "      <td>4.12</td>\n",
       "      <td>4.00</td>\n",
       "    </tr>\n",
       "    <tr>\n",
       "      <th>day3</th>\n",
       "      <td>2.17</td>\n",
       "      <td>6.28</td>\n",
       "      <td>NaN</td>\n",
       "    </tr>\n",
       "    <tr>\n",
       "      <th>day4</th>\n",
       "      <td>2.39</td>\n",
       "      <td>NaN</td>\n",
       "      <td>6.00</td>\n",
       "    </tr>\n",
       "    <tr>\n",
       "      <th>day5</th>\n",
       "      <td>5.60</td>\n",
       "      <td>4.20</td>\n",
       "      <td>8.38</td>\n",
       "    </tr>\n",
       "    <tr>\n",
       "      <th>day6</th>\n",
       "      <td>8.94</td>\n",
       "      <td>2.11</td>\n",
       "      <td>6.53</td>\n",
       "    </tr>\n",
       "    <tr>\n",
       "      <th>day7</th>\n",
       "      <td>2.95</td>\n",
       "      <td>4.98</td>\n",
       "      <td>3.01</td>\n",
       "    </tr>\n",
       "    <tr>\n",
       "      <th>day8</th>\n",
       "      <td>3.30</td>\n",
       "      <td>7.44</td>\n",
       "      <td>NaN</td>\n",
       "    </tr>\n",
       "  </tbody>\n",
       "</table>\n",
       "</div>"
      ],
      "text/plain": [
       "        r1    r2    r3\n",
       "days                  \n",
       "day1  6.00  7.32  2.55\n",
       "day2  7.56  4.12  4.00\n",
       "day3  2.17  6.28   NaN\n",
       "day4  2.39   NaN  6.00\n",
       "day5  5.60  4.20  8.38\n",
       "day6  8.94  2.11  6.53\n",
       "day7  2.95  4.98  3.01\n",
       "day8  3.30  7.44   NaN"
      ]
     },
     "execution_count": 20,
     "metadata": {},
     "output_type": "execute_result"
    }
   ],
   "source": [
    "maze_files = ['maze_data_1.csv', 'maze_data_2.csv', 'maze_data_3.csv']\n",
    "\n",
    "r1_days = ['day1', 'day2', 'day3', 'day4', 'day5', 'day6', 'day7', 'day8']\n",
    "r2_days = ['day1', 'day2', 'day3', 'day5', 'day6', 'day7', 'day8']\n",
    "r3_days = ['day1', 'day2', 'day4', 'day5', 'day6', 'day7']\n",
    "\n",
    "maze_list = []\n",
    "for filename in maze_files:\n",
    "    maze_list.append(pd.read_csv(filename))\n",
    "\n",
    "\n",
    "maze_list[0]['days'] = r1_days\n",
    "maze_list[1]['days'] = r2_days\n",
    "maze_list[2]['days'] = r3_days\n",
    "\n",
    "maze_list[0] = maze_list[0].set_index('days')\n",
    "maze_list[1] = maze_list[1].set_index('days')\n",
    "maze_list[2] = maze_list[2].set_index('days')\n",
    "\n",
    "rat_df = maze_list[0]\n",
    "rat_df = rat_df.rename(columns={'maze_time':'r1'})\n",
    "\n",
    "\n",
    "rat_df['r2'] = maze_list[1]\n",
    "rat_df['r3'] = maze_list[2]\n",
    "rat_df"
   ]
  },
  {
   "cell_type": "markdown",
   "metadata": {},
   "source": [
    "## Bonus Section: Looping\n",
    "\n",
    "Above we noted that it would be more efficient (pythonic) to use a loop to read the files and set the indexes. Below is the same example as above, but using a loop rather than hard-coding the commands for every data file. "
   ]
  },
  {
   "cell_type": "code",
   "execution_count": 21,
   "metadata": {},
   "outputs": [
    {
     "data": {
      "text/html": [
       "<div>\n",
       "<style scoped>\n",
       "    .dataframe tbody tr th:only-of-type {\n",
       "        vertical-align: middle;\n",
       "    }\n",
       "\n",
       "    .dataframe tbody tr th {\n",
       "        vertical-align: top;\n",
       "    }\n",
       "\n",
       "    .dataframe thead th {\n",
       "        text-align: right;\n",
       "    }\n",
       "</style>\n",
       "<table border=\"1\" class=\"dataframe\">\n",
       "  <thead>\n",
       "    <tr style=\"text-align: right;\">\n",
       "      <th></th>\n",
       "      <th>r1</th>\n",
       "      <th>r2</th>\n",
       "      <th>r3</th>\n",
       "    </tr>\n",
       "    <tr>\n",
       "      <th>days</th>\n",
       "      <th></th>\n",
       "      <th></th>\n",
       "      <th></th>\n",
       "    </tr>\n",
       "  </thead>\n",
       "  <tbody>\n",
       "    <tr>\n",
       "      <th>day1</th>\n",
       "      <td>6.00</td>\n",
       "      <td>7.32</td>\n",
       "      <td>2.55</td>\n",
       "    </tr>\n",
       "    <tr>\n",
       "      <th>day2</th>\n",
       "      <td>7.56</td>\n",
       "      <td>4.12</td>\n",
       "      <td>4.00</td>\n",
       "    </tr>\n",
       "    <tr>\n",
       "      <th>day3</th>\n",
       "      <td>2.17</td>\n",
       "      <td>6.28</td>\n",
       "      <td>NaN</td>\n",
       "    </tr>\n",
       "    <tr>\n",
       "      <th>day4</th>\n",
       "      <td>2.39</td>\n",
       "      <td>NaN</td>\n",
       "      <td>6.00</td>\n",
       "    </tr>\n",
       "    <tr>\n",
       "      <th>day5</th>\n",
       "      <td>5.60</td>\n",
       "      <td>4.20</td>\n",
       "      <td>8.38</td>\n",
       "    </tr>\n",
       "    <tr>\n",
       "      <th>day6</th>\n",
       "      <td>8.94</td>\n",
       "      <td>2.11</td>\n",
       "      <td>6.53</td>\n",
       "    </tr>\n",
       "    <tr>\n",
       "      <th>day7</th>\n",
       "      <td>2.95</td>\n",
       "      <td>4.98</td>\n",
       "      <td>3.01</td>\n",
       "    </tr>\n",
       "    <tr>\n",
       "      <th>day8</th>\n",
       "      <td>3.30</td>\n",
       "      <td>7.44</td>\n",
       "      <td>NaN</td>\n",
       "    </tr>\n",
       "  </tbody>\n",
       "</table>\n",
       "</div>"
      ],
      "text/plain": [
       "        r1    r2    r3\n",
       "days                  \n",
       "day1  6.00  7.32  2.55\n",
       "day2  7.56  4.12  4.00\n",
       "day3  2.17  6.28   NaN\n",
       "day4  2.39   NaN  6.00\n",
       "day5  5.60  4.20  8.38\n",
       "day6  8.94  2.11  6.53\n",
       "day7  2.95  4.98  3.01\n",
       "day8  3.30  7.44   NaN"
      ]
     },
     "execution_count": 21,
     "metadata": {},
     "output_type": "execute_result"
    }
   ],
   "source": [
    "maze_files = ['maze_data_1.csv', 'maze_data_2.csv', 'maze_data_3.csv']\n",
    "\n",
    "r1_days = ['day1', 'day2', 'day3', 'day4', 'day5', 'day6', 'day7', 'day8']\n",
    "r2_days = ['day1', 'day2', 'day3', 'day5', 'day6', 'day7', 'day8']\n",
    "r3_days = ['day1', 'day2', 'day4', 'day5', 'day6', 'day7']\n",
    "# Combine these into a list of lists we can loop through:\n",
    "days_list = [r1_days, r2_days, r3_days]\n",
    "\n",
    "maze_list = []\n",
    "# use enumerate() to allow looping through multiple lists in parallel. \n",
    "for counter, filename in enumerate(maze_files):\n",
    "    maze_list.append(pd.read_csv(filename))\n",
    "    maze_list[counter]['days'] = days_list[counter]\n",
    "    maze_list[counter] = maze_list[counter].set_index('days')\n",
    "\n",
    "rat_df = maze_list[0]\n",
    "rat_df = rat_df.rename(columns={'maze_time':'r1'})\n",
    "rat_df['r2'] = maze_list[1]\n",
    "rat_df['r3'] = maze_list[2]\n",
    "rat_df"
   ]
  },
  {
   "cell_type": "markdown",
   "metadata": {},
   "source": [
    "#### The `enumerate()` function\n",
    "\n",
    "Note that in the `for` loop, w use the `enumerate()` function. This can be handy in situations like this, where we want to loop through two lists \"in parallel\" — in other words, when we are at the first entry in one list (`maze_files`) we also want the first entry in the second list (`days_list`). Normally, whe you loop through a list using `for`, you assign a value of the current list item to a variable. For example, in `for filename in maze_files:`, the value of `filename` is updated with the current list item each time through the loop. Using `enumerate()`, we assign *two* values each time through the loop: `for counter, filename in enumerate(maze_files):`. In this case, `counter` will enumerate the number of times it's gone through the loop - i.e, take on a numerical value — the current iteration, while `filename` will still be the value of the current list item:"
   ]
  },
  {
   "cell_type": "code",
   "execution_count": 22,
   "metadata": {},
   "outputs": [
    {
     "name": "stdout",
     "output_type": "stream",
     "text": [
      "counter = 0; filename = maze_data_1.csv\n",
      "counter = 1; filename = maze_data_2.csv\n",
      "counter = 2; filename = maze_data_3.csv\n"
     ]
    }
   ],
   "source": [
    "for counter, filename in enumerate(maze_files):\n",
    "    print('counter = ' + str(counter) + '; filename = ' + filename)"
   ]
  },
  {
   "cell_type": "markdown",
   "metadata": {},
   "source": [
    "## Arithmetic with Series and DataFrames\n",
    "\n",
    "pandas uses **broadcasting** when we apply an arithmetic function to a Series or DataFrame. For example, from above here's our RT data from two participants:"
   ]
  },
  {
   "cell_type": "code",
   "execution_count": 23,
   "metadata": {},
   "outputs": [
    {
     "data": {
      "text/html": [
       "<div>\n",
       "<style scoped>\n",
       "    .dataframe tbody tr th:only-of-type {\n",
       "        vertical-align: middle;\n",
       "    }\n",
       "\n",
       "    .dataframe tbody tr th {\n",
       "        vertical-align: top;\n",
       "    }\n",
       "\n",
       "    .dataframe thead th {\n",
       "        text-align: right;\n",
       "    }\n",
       "</style>\n",
       "<table border=\"1\" class=\"dataframe\">\n",
       "  <thead>\n",
       "    <tr style=\"text-align: right;\">\n",
       "      <th></th>\n",
       "      <th>trial</th>\n",
       "      <th>s1</th>\n",
       "      <th>s2</th>\n",
       "    </tr>\n",
       "  </thead>\n",
       "  <tbody>\n",
       "    <tr>\n",
       "      <th>0</th>\n",
       "      <td>1</td>\n",
       "      <td>0.508971</td>\n",
       "      <td>0.433094</td>\n",
       "    </tr>\n",
       "    <tr>\n",
       "      <th>1</th>\n",
       "      <td>2</td>\n",
       "      <td>0.389858</td>\n",
       "      <td>0.392526</td>\n",
       "    </tr>\n",
       "    <tr>\n",
       "      <th>2</th>\n",
       "      <td>3</td>\n",
       "      <td>0.404175</td>\n",
       "      <td>0.396831</td>\n",
       "    </tr>\n",
       "    <tr>\n",
       "      <th>3</th>\n",
       "      <td>4</td>\n",
       "      <td>0.269520</td>\n",
       "      <td>0.417988</td>\n",
       "    </tr>\n",
       "    <tr>\n",
       "      <th>4</th>\n",
       "      <td>5</td>\n",
       "      <td>0.437765</td>\n",
       "      <td>0.371810</td>\n",
       "    </tr>\n",
       "    <tr>\n",
       "      <th>5</th>\n",
       "      <td>6</td>\n",
       "      <td>0.368142</td>\n",
       "      <td>0.659228</td>\n",
       "    </tr>\n",
       "    <tr>\n",
       "      <th>6</th>\n",
       "      <td>7</td>\n",
       "      <td>0.400544</td>\n",
       "      <td>0.411051</td>\n",
       "    </tr>\n",
       "    <tr>\n",
       "      <th>7</th>\n",
       "      <td>8</td>\n",
       "      <td>0.335198</td>\n",
       "      <td>0.409580</td>\n",
       "    </tr>\n",
       "    <tr>\n",
       "      <th>8</th>\n",
       "      <td>9</td>\n",
       "      <td>0.341722</td>\n",
       "      <td>0.486828</td>\n",
       "    </tr>\n",
       "    <tr>\n",
       "      <th>9</th>\n",
       "      <td>10</td>\n",
       "      <td>0.439583</td>\n",
       "      <td>0.468912</td>\n",
       "    </tr>\n",
       "  </tbody>\n",
       "</table>\n",
       "</div>"
      ],
      "text/plain": [
       "   trial        s1        s2\n",
       "0      1  0.508971  0.433094\n",
       "1      2  0.389858  0.392526\n",
       "2      3  0.404175  0.396831\n",
       "3      4  0.269520  0.417988\n",
       "4      5  0.437765  0.371810\n",
       "5      6  0.368142  0.659228\n",
       "6      7  0.400544  0.411051\n",
       "7      8  0.335198  0.409580\n",
       "8      9  0.341722  0.486828\n",
       "9     10  0.439583  0.468912"
      ]
     },
     "execution_count": 23,
     "metadata": {},
     "output_type": "execute_result"
    }
   ],
   "source": [
    "df"
   ]
  },
  {
   "cell_type": "markdown",
   "metadata": {},
   "source": [
    "RT is in seconds, but often we want to report RT in milliseconds. To do this, we could multiply the entire DataFrame by 1000 (since there are 1000 ms in 1 s), but this would apply to all columns, including trial number:"
   ]
  },
  {
   "cell_type": "code",
   "execution_count": 24,
   "metadata": {},
   "outputs": [
    {
     "data": {
      "text/html": [
       "<div>\n",
       "<style scoped>\n",
       "    .dataframe tbody tr th:only-of-type {\n",
       "        vertical-align: middle;\n",
       "    }\n",
       "\n",
       "    .dataframe tbody tr th {\n",
       "        vertical-align: top;\n",
       "    }\n",
       "\n",
       "    .dataframe thead th {\n",
       "        text-align: right;\n",
       "    }\n",
       "</style>\n",
       "<table border=\"1\" class=\"dataframe\">\n",
       "  <thead>\n",
       "    <tr style=\"text-align: right;\">\n",
       "      <th></th>\n",
       "      <th>trial</th>\n",
       "      <th>s1</th>\n",
       "      <th>s2</th>\n",
       "    </tr>\n",
       "  </thead>\n",
       "  <tbody>\n",
       "    <tr>\n",
       "      <th>0</th>\n",
       "      <td>1000</td>\n",
       "      <td>508.971072</td>\n",
       "      <td>433.093893</td>\n",
       "    </tr>\n",
       "    <tr>\n",
       "      <th>1</th>\n",
       "      <td>2000</td>\n",
       "      <td>389.857974</td>\n",
       "      <td>392.526034</td>\n",
       "    </tr>\n",
       "    <tr>\n",
       "      <th>2</th>\n",
       "      <td>3000</td>\n",
       "      <td>404.175466</td>\n",
       "      <td>396.830804</td>\n",
       "    </tr>\n",
       "    <tr>\n",
       "      <th>3</th>\n",
       "      <td>4000</td>\n",
       "      <td>269.520309</td>\n",
       "      <td>417.987737</td>\n",
       "    </tr>\n",
       "    <tr>\n",
       "      <th>4</th>\n",
       "      <td>5000</td>\n",
       "      <td>437.764713</td>\n",
       "      <td>371.810078</td>\n",
       "    </tr>\n",
       "    <tr>\n",
       "      <th>5</th>\n",
       "      <td>6000</td>\n",
       "      <td>368.141756</td>\n",
       "      <td>659.228422</td>\n",
       "    </tr>\n",
       "    <tr>\n",
       "      <th>6</th>\n",
       "      <td>7000</td>\n",
       "      <td>400.544278</td>\n",
       "      <td>411.051235</td>\n",
       "    </tr>\n",
       "    <tr>\n",
       "      <th>7</th>\n",
       "      <td>8000</td>\n",
       "      <td>335.198066</td>\n",
       "      <td>409.580168</td>\n",
       "    </tr>\n",
       "    <tr>\n",
       "      <th>8</th>\n",
       "      <td>9000</td>\n",
       "      <td>341.722042</td>\n",
       "      <td>486.828076</td>\n",
       "    </tr>\n",
       "    <tr>\n",
       "      <th>9</th>\n",
       "      <td>10000</td>\n",
       "      <td>439.583357</td>\n",
       "      <td>468.912134</td>\n",
       "    </tr>\n",
       "  </tbody>\n",
       "</table>\n",
       "</div>"
      ],
      "text/plain": [
       "   trial          s1          s2\n",
       "0   1000  508.971072  433.093893\n",
       "1   2000  389.857974  392.526034\n",
       "2   3000  404.175466  396.830804\n",
       "3   4000  269.520309  417.987737\n",
       "4   5000  437.764713  371.810078\n",
       "5   6000  368.141756  659.228422\n",
       "6   7000  400.544278  411.051235\n",
       "7   8000  335.198066  409.580168\n",
       "8   9000  341.722042  486.828076\n",
       "9  10000  439.583357  468.912134"
      ]
     },
     "execution_count": 24,
     "metadata": {},
     "output_type": "execute_result"
    }
   ],
   "source": [
    "df * 1000"
   ]
  },
  {
   "cell_type": "markdown",
   "metadata": {},
   "source": [
    "So instead, we can apply the math only to specified columns:"
   ]
  },
  {
   "cell_type": "code",
   "execution_count": 25,
   "metadata": {},
   "outputs": [
    {
     "data": {
      "text/html": [
       "<div>\n",
       "<style scoped>\n",
       "    .dataframe tbody tr th:only-of-type {\n",
       "        vertical-align: middle;\n",
       "    }\n",
       "\n",
       "    .dataframe tbody tr th {\n",
       "        vertical-align: top;\n",
       "    }\n",
       "\n",
       "    .dataframe thead th {\n",
       "        text-align: right;\n",
       "    }\n",
       "</style>\n",
       "<table border=\"1\" class=\"dataframe\">\n",
       "  <thead>\n",
       "    <tr style=\"text-align: right;\">\n",
       "      <th></th>\n",
       "      <th>s1</th>\n",
       "      <th>s2</th>\n",
       "    </tr>\n",
       "  </thead>\n",
       "  <tbody>\n",
       "    <tr>\n",
       "      <th>0</th>\n",
       "      <td>508.971072</td>\n",
       "      <td>433.093893</td>\n",
       "    </tr>\n",
       "    <tr>\n",
       "      <th>1</th>\n",
       "      <td>389.857974</td>\n",
       "      <td>392.526034</td>\n",
       "    </tr>\n",
       "    <tr>\n",
       "      <th>2</th>\n",
       "      <td>404.175466</td>\n",
       "      <td>396.830804</td>\n",
       "    </tr>\n",
       "    <tr>\n",
       "      <th>3</th>\n",
       "      <td>269.520309</td>\n",
       "      <td>417.987737</td>\n",
       "    </tr>\n",
       "    <tr>\n",
       "      <th>4</th>\n",
       "      <td>437.764713</td>\n",
       "      <td>371.810078</td>\n",
       "    </tr>\n",
       "    <tr>\n",
       "      <th>5</th>\n",
       "      <td>368.141756</td>\n",
       "      <td>659.228422</td>\n",
       "    </tr>\n",
       "    <tr>\n",
       "      <th>6</th>\n",
       "      <td>400.544278</td>\n",
       "      <td>411.051235</td>\n",
       "    </tr>\n",
       "    <tr>\n",
       "      <th>7</th>\n",
       "      <td>335.198066</td>\n",
       "      <td>409.580168</td>\n",
       "    </tr>\n",
       "    <tr>\n",
       "      <th>8</th>\n",
       "      <td>341.722042</td>\n",
       "      <td>486.828076</td>\n",
       "    </tr>\n",
       "    <tr>\n",
       "      <th>9</th>\n",
       "      <td>439.583357</td>\n",
       "      <td>468.912134</td>\n",
       "    </tr>\n",
       "  </tbody>\n",
       "</table>\n",
       "</div>"
      ],
      "text/plain": [
       "           s1          s2\n",
       "0  508.971072  433.093893\n",
       "1  389.857974  392.526034\n",
       "2  404.175466  396.830804\n",
       "3  269.520309  417.987737\n",
       "4  437.764713  371.810078\n",
       "5  368.141756  659.228422\n",
       "6  400.544278  411.051235\n",
       "7  335.198066  409.580168\n",
       "8  341.722042  486.828076\n",
       "9  439.583357  468.912134"
      ]
     },
     "execution_count": 25,
     "metadata": {},
     "output_type": "execute_result"
    }
   ],
   "source": [
    "df[['s1','s2']] * 1000"
   ]
  },
  {
   "cell_type": "markdown",
   "metadata": {},
   "source": [
    "pandas also provides methods for applying some common arithmetic operations to DataFrames. This includes simple operation slike addition (`.add()` and multiplication (`.multiply()`), but also more complex \"convenience functions\" like `.mean()`:"
   ]
  },
  {
   "cell_type": "code",
   "execution_count": 26,
   "metadata": {},
   "outputs": [
    {
     "data": {
      "text/plain": [
       "s1    0.389548\n",
       "s2    0.444785\n",
       "dtype: float64"
      ]
     },
     "execution_count": 26,
     "metadata": {},
     "output_type": "execute_result"
    }
   ],
   "source": [
    "df[['s1','s2']].mean()"
   ]
  },
  {
   "cell_type": "markdown",
   "metadata": {},
   "source": [
    "Note that this produces two values, the mean of each column. WHile the default is to apply the function \"column-wise\", there's also an argument that allows us to compute the mean of each row, instead:"
   ]
  },
  {
   "cell_type": "code",
   "execution_count": 27,
   "metadata": {},
   "outputs": [
    {
     "data": {
      "text/plain": [
       "0    0.471032\n",
       "1    0.391192\n",
       "2    0.400503\n",
       "3    0.343754\n",
       "4    0.404787\n",
       "5    0.513685\n",
       "6    0.405798\n",
       "7    0.372389\n",
       "8    0.414275\n",
       "9    0.454248\n",
       "dtype: float64"
      ]
     },
     "execution_count": 27,
     "metadata": {},
     "output_type": "execute_result"
    }
   ],
   "source": [
    "df[['s1','s2']].mean(axis=1)"
   ]
  },
  {
   "cell_type": "markdown",
   "metadata": {},
   "source": [
    "By default, these arithmetic methods will ignore any NaN values. However, we can tell pandas to replace `NaN`s with some other value. For example, let's use the rat data which had `NaN` values:"
   ]
  },
  {
   "cell_type": "code",
   "execution_count": 28,
   "metadata": {},
   "outputs": [
    {
     "data": {
      "text/html": [
       "<div>\n",
       "<style scoped>\n",
       "    .dataframe tbody tr th:only-of-type {\n",
       "        vertical-align: middle;\n",
       "    }\n",
       "\n",
       "    .dataframe tbody tr th {\n",
       "        vertical-align: top;\n",
       "    }\n",
       "\n",
       "    .dataframe thead th {\n",
       "        text-align: right;\n",
       "    }\n",
       "</style>\n",
       "<table border=\"1\" class=\"dataframe\">\n",
       "  <thead>\n",
       "    <tr style=\"text-align: right;\">\n",
       "      <th></th>\n",
       "      <th>r1</th>\n",
       "      <th>r2</th>\n",
       "      <th>r3</th>\n",
       "    </tr>\n",
       "    <tr>\n",
       "      <th>days</th>\n",
       "      <th></th>\n",
       "      <th></th>\n",
       "      <th></th>\n",
       "    </tr>\n",
       "  </thead>\n",
       "  <tbody>\n",
       "    <tr>\n",
       "      <th>day1</th>\n",
       "      <td>6.00</td>\n",
       "      <td>7.32</td>\n",
       "      <td>2.55</td>\n",
       "    </tr>\n",
       "    <tr>\n",
       "      <th>day2</th>\n",
       "      <td>7.56</td>\n",
       "      <td>4.12</td>\n",
       "      <td>4.00</td>\n",
       "    </tr>\n",
       "    <tr>\n",
       "      <th>day3</th>\n",
       "      <td>2.17</td>\n",
       "      <td>6.28</td>\n",
       "      <td>NaN</td>\n",
       "    </tr>\n",
       "    <tr>\n",
       "      <th>day4</th>\n",
       "      <td>2.39</td>\n",
       "      <td>NaN</td>\n",
       "      <td>6.00</td>\n",
       "    </tr>\n",
       "    <tr>\n",
       "      <th>day5</th>\n",
       "      <td>5.60</td>\n",
       "      <td>4.20</td>\n",
       "      <td>8.38</td>\n",
       "    </tr>\n",
       "    <tr>\n",
       "      <th>day6</th>\n",
       "      <td>8.94</td>\n",
       "      <td>2.11</td>\n",
       "      <td>6.53</td>\n",
       "    </tr>\n",
       "    <tr>\n",
       "      <th>day7</th>\n",
       "      <td>2.95</td>\n",
       "      <td>4.98</td>\n",
       "      <td>3.01</td>\n",
       "    </tr>\n",
       "    <tr>\n",
       "      <th>day8</th>\n",
       "      <td>3.30</td>\n",
       "      <td>7.44</td>\n",
       "      <td>NaN</td>\n",
       "    </tr>\n",
       "  </tbody>\n",
       "</table>\n",
       "</div>"
      ],
      "text/plain": [
       "        r1    r2    r3\n",
       "days                  \n",
       "day1  6.00  7.32  2.55\n",
       "day2  7.56  4.12  4.00\n",
       "day3  2.17  6.28   NaN\n",
       "day4  2.39   NaN  6.00\n",
       "day5  5.60  4.20  8.38\n",
       "day6  8.94  2.11  6.53\n",
       "day7  2.95  4.98  3.01\n",
       "day8  3.30  7.44   NaN"
      ]
     },
     "execution_count": 28,
     "metadata": {},
     "output_type": "execute_result"
    }
   ],
   "source": [
    "rat_df"
   ]
  },
  {
   "cell_type": "markdown",
   "metadata": {},
   "source": [
    "If we wanted to sum the data from rats 1 and 2, we would get `NaN` results if any inputs were `NaN` (like day4):"
   ]
  },
  {
   "cell_type": "code",
   "execution_count": 29,
   "metadata": {},
   "outputs": [
    {
     "data": {
      "text/plain": [
       "days\n",
       "day1    13.32\n",
       "day2    11.68\n",
       "day3     8.45\n",
       "day4      NaN\n",
       "day5     9.80\n",
       "day6    11.05\n",
       "day7     7.93\n",
       "day8    10.74\n",
       "dtype: float64"
      ]
     },
     "execution_count": 29,
     "metadata": {},
     "output_type": "execute_result"
    }
   ],
   "source": [
    "rat_df['r1'].add(rat_df['r2'])"
   ]
  },
  {
   "cell_type": "markdown",
   "metadata": {},
   "source": [
    "But we could use `fill_value=0` to tell pandas to treat these as zeros instead:"
   ]
  },
  {
   "cell_type": "code",
   "execution_count": 30,
   "metadata": {},
   "outputs": [
    {
     "data": {
      "text/plain": [
       "days\n",
       "day1    13.32\n",
       "day2    11.68\n",
       "day3     8.45\n",
       "day4     2.39\n",
       "day5     9.80\n",
       "day6    11.05\n",
       "day7     7.93\n",
       "day8    10.74\n",
       "dtype: float64"
      ]
     },
     "execution_count": 30,
     "metadata": {},
     "output_type": "execute_result"
    }
   ],
   "source": [
    "rat_df['r1'].add(rat_df['r2'], fill_value=0)"
   ]
  }
 ],
 "metadata": {
  "kernelspec": {
   "display_name": "Python 3",
   "language": "python",
   "name": "python3"
  },
  "language_info": {
   "codemirror_mode": {
    "name": "ipython",
    "version": 3
   },
   "file_extension": ".py",
   "mimetype": "text/x-python",
   "name": "python",
   "nbconvert_exporter": "python",
   "pygments_lexer": "ipython3",
   "version": "3.7.9"
  }
 },
 "nbformat": 4,
 "nbformat_minor": 4
}
