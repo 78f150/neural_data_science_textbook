{
 "cells": [
  {
   "cell_type": "markdown",
   "metadata": {},
   "source": [
    "## Which function or method to use?\n",
    "\n",
    "### How many input DataFrames?\n",
    "**2 inputs**\n",
    "- methods: `.append()`; `.join()`\n",
    "- function: `pd.merge()`\n",
    "\n",
    "**\\>2 inputs:**\n",
    "- function: `pd.concat()`- because this takes lists as input\n",
    "\n",
    "### For stacking vertically\n",
    "(rows on top of rows)\n",
    "\n",
    "`.append()` \n",
    "- for 2 inputs\n",
    "\n",
    "`.concat()` \n",
    "- for >2 inputs\n",
    "- allows simple inner and outer joins based on indexes\n",
    "\n",
    "### For stacking horizontally\n",
    "\n",
    "`.concat()` \n",
    "- for >2 inputs\n",
    "- allows simple inner and outer joins based on indexes\n",
    "\n",
    "`.join()` \n",
    "- allows left and right, as well as inner and outer, joins\n",
    "\n",
    "`pd.merge()` \n",
    "- allows joins on multiple, possibly non-matching, columns"
   ]
  },
  {
   "cell_type": "code",
   "execution_count": null,
   "metadata": {},
   "outputs": [],
   "source": []
  }
 ],
 "metadata": {
  "kernelspec": {
   "display_name": "Python 3",
   "language": "python",
   "name": "python3"
  },
  "language_info": {
   "codemirror_mode": {
    "name": "ipython",
    "version": 3
   },
   "file_extension": ".py",
   "mimetype": "text/x-python",
   "name": "python",
   "nbconvert_exporter": "python",
   "pygments_lexer": "ipython3",
   "version": "3.7.9"
  }
 },
 "nbformat": 4,
 "nbformat_minor": 4
}
