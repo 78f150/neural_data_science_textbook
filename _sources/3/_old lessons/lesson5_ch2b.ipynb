{
 "cells": [
  {
   "cell_type": "markdown",
   "metadata": {},
   "source": [
    "## Appending Series with nonunique indices\n",
    "\n",
    "One thing to note here is that the `.append()` method doesn't adjust the index of the series when it stacks them.  You can see this above in that the first column (which is the index) goes from zero to three, then zero to three again. This can be an issue when working with a Series or DataFrame later on, so it's a good idea to re-index.\n",
    "\n",
    "This can be done using the `.reset_index()` method, which sets the row indexes sequentially from 0:"
   ]
  },
  {
   "cell_type": "code",
   "execution_count": 4,
   "metadata": {},
   "outputs": [
    {
     "data": {
      "text/html": [
       "<div>\n",
       "<style scoped>\n",
       "    .dataframe tbody tr th:only-of-type {\n",
       "        vertical-align: middle;\n",
       "    }\n",
       "\n",
       "    .dataframe tbody tr th {\n",
       "        vertical-align: top;\n",
       "    }\n",
       "\n",
       "    .dataframe thead th {\n",
       "        text-align: right;\n",
       "    }\n",
       "</style>\n",
       "<table border=\"1\" class=\"dataframe\">\n",
       "  <thead>\n",
       "    <tr style=\"text-align: right;\">\n",
       "      <th></th>\n",
       "      <th>index</th>\n",
       "      <th>0</th>\n",
       "    </tr>\n",
       "  </thead>\n",
       "  <tbody>\n",
       "    <tr>\n",
       "      <th>0</th>\n",
       "      <td>0</td>\n",
       "      <td>rose</td>\n",
       "    </tr>\n",
       "    <tr>\n",
       "      <th>1</th>\n",
       "      <td>1</td>\n",
       "      <td>fuchsia</td>\n",
       "    </tr>\n",
       "    <tr>\n",
       "      <th>2</th>\n",
       "      <td>2</td>\n",
       "      <td>ruby</td>\n",
       "    </tr>\n",
       "    <tr>\n",
       "      <th>3</th>\n",
       "      <td>3</td>\n",
       "      <td>magenta</td>\n",
       "    </tr>\n",
       "    <tr>\n",
       "      <th>4</th>\n",
       "      <td>0</td>\n",
       "      <td>turquoise</td>\n",
       "    </tr>\n",
       "    <tr>\n",
       "      <th>5</th>\n",
       "      <td>1</td>\n",
       "      <td>sky blue</td>\n",
       "    </tr>\n",
       "    <tr>\n",
       "      <th>6</th>\n",
       "      <td>2</td>\n",
       "      <td>navy</td>\n",
       "    </tr>\n",
       "    <tr>\n",
       "      <th>7</th>\n",
       "      <td>3</td>\n",
       "      <td>ocean blue</td>\n",
       "    </tr>\n",
       "  </tbody>\n",
       "</table>\n",
       "</div>"
      ],
      "text/plain": [
       "   index           0\n",
       "0      0        rose\n",
       "1      1     fuchsia\n",
       "2      2        ruby\n",
       "3      3     magenta\n",
       "4      0   turquoise\n",
       "5      1    sky blue\n",
       "6      2        navy\n",
       "7      3  ocean blue"
      ]
     },
     "execution_count": 4,
     "metadata": {},
     "output_type": "execute_result"
    }
   ],
   "source": [
    "pb.reset_index()"
   ]
  },
  {
   "cell_type": "markdown",
   "metadata": {},
   "source": [
    "You'll see there's a weird extra column in there now; the index is the rightmost column (in bold), and the original index is now a column called \"index\". In some cases this might be a helpful historical record, but in many cases it's just annoying. Adding the argument `drop=True` will drop the original index:"
   ]
  },
  {
   "cell_type": "code",
   "execution_count": 5,
   "metadata": {},
   "outputs": [
    {
     "data": {
      "text/plain": [
       "0          rose\n",
       "1       fuchsia\n",
       "2          ruby\n",
       "3       magenta\n",
       "4     turquoise\n",
       "5      sky blue\n",
       "6          navy\n",
       "7    ocean blue\n",
       "dtype: object"
      ]
     },
     "execution_count": 5,
     "metadata": {},
     "output_type": "execute_result"
    }
   ],
   "source": [
    "pb.reset_index(drop=True)"
   ]
  },
  {
   "cell_type": "markdown",
   "metadata": {},
   "source": [
    "<div class=\"alert alert-block alert-info\">\n",
    "One important \"gotcha\" with `.reset_index()` — and many pandas DataFrame methods — is that <b>by default they don't actually modify the Series or DataFrame you run them on</b>. \n",
    "    \n",
    "So after running the command above, you might think you reset the index of `pb`, but actually you didn't; instead you just saw the copy that was created by your command, printed as output. Thus when we ask to see `pb` again, the index is unchanged:\n",
    "</div>\n",
    "\n",
    " "
   ]
  },
  {
   "cell_type": "code",
   "execution_count": 6,
   "metadata": {},
   "outputs": [
    {
     "data": {
      "text/plain": [
       "0          rose\n",
       "1       fuchsia\n",
       "2          ruby\n",
       "3       magenta\n",
       "0     turquoise\n",
       "1      sky blue\n",
       "2          navy\n",
       "3    ocean blue\n",
       "dtype: object"
      ]
     },
     "execution_count": 6,
     "metadata": {},
     "output_type": "execute_result"
    }
   ],
   "source": [
    "pb"
   ]
  },
  {
   "cell_type": "markdown",
   "metadata": {},
   "source": [
    "<div class=\"alert alert-block alert-info\">\n",
    "\n",
    "So to actually reset the index of `pb`, we need to *assign* the output of the method back to `pb`, like this:\n",
    "    \n",
    "</div>"
   ]
  },
  {
   "cell_type": "code",
   "execution_count": 7,
   "metadata": {},
   "outputs": [
    {
     "data": {
      "text/plain": [
       "0          rose\n",
       "1       fuchsia\n",
       "2          ruby\n",
       "3       magenta\n",
       "4     turquoise\n",
       "5      sky blue\n",
       "6          navy\n",
       "7    ocean blue\n",
       "dtype: object"
      ]
     },
     "execution_count": 7,
     "metadata": {},
     "output_type": "execute_result"
    }
   ],
   "source": [
    "pb = pb.reset_index(drop=True)\n",
    "pb"
   ]
  },
  {
   "cell_type": "markdown",
   "metadata": {},
   "source": [
    "You can alternatively do this by including the `inplace=True` argument, in which case you don't need to assign the output with `pb = `"
   ]
  },
  {
   "cell_type": "code",
   "execution_count": 8,
   "metadata": {},
   "outputs": [
    {
     "data": {
      "text/plain": [
       "0          rose\n",
       "1       fuchsia\n",
       "2          ruby\n",
       "3       magenta\n",
       "4     turquoise\n",
       "5      sky blue\n",
       "6          navy\n",
       "7    ocean blue\n",
       "dtype: object"
      ]
     },
     "execution_count": 8,
     "metadata": {},
     "output_type": "execute_result"
    }
   ],
   "source": [
    "pb = pink.append(blue)\n",
    "pb.reset_index(drop=True, inplace=True)\n",
    "pb"
   ]
  }
 ],
 "metadata": {
  "kernelspec": {
   "display_name": "Python 3 (ipykernel)",
   "language": "python",
   "name": "python3"
  },
  "language_info": {
   "codemirror_mode": {
    "name": "ipython",
    "version": 3
   },
   "file_extension": ".py",
   "mimetype": "text/x-python",
   "name": "python",
   "nbconvert_exporter": "python",
   "pygments_lexer": "ipython3",
   "version": "3.9.6"
  }
 },
 "nbformat": 4,
 "nbformat_minor": 4
}
