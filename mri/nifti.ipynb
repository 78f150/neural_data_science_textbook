{
 "cells": [
  {
   "cell_type": "markdown",
   "id": "7f248ff0-3fa5-4f85-8180-8c6e9cbbbe63",
   "metadata": {},
   "source": [
    "# Working with NIfTI images"
   ]
  },
  {
   "cell_type": "code",
   "execution_count": 5,
   "id": "6dc25a97-910e-42c5-a962-892cabba37cd",
   "metadata": {},
   "outputs": [],
   "source": [
    "import dicom2nifti\n",
    "import nibabel as nib\n",
    "import nilearn as nil\n",
    "import scipy.ndimage as ndi\n",
    "import matplotlib.pyplot as plt"
   ]
  },
  {
   "cell_type": "code",
   "execution_count": 6,
   "id": "cc8bca8b-8614-4eaf-b8bf-b8551db063d0",
   "metadata": {},
   "outputs": [],
   "source": [
    "dicom2nifti.convert_directory('data/DICOM', 'data', compression=True, reorient=True)"
   ]
  },
  {
   "cell_type": "code",
   "execution_count": null,
   "id": "3ecda9f0-2970-44e9-aea8-cfffe41fe12f",
   "metadata": {},
   "outputs": [],
   "source": []
  }
 ],
 "metadata": {
  "kernelspec": {
   "display_name": "Python 3 (ipykernel)",
   "language": "python",
   "name": "python3"
  },
  "language_info": {
   "codemirror_mode": {
    "name": "ipython",
    "version": 3
   },
   "file_extension": ".py",
   "mimetype": "text/x-python",
   "name": "python",
   "nbconvert_exporter": "python",
   "pygments_lexer": "ipython3",
   "version": "3.9.7"
  }
 },
 "nbformat": 4,
 "nbformat_minor": 5
}
