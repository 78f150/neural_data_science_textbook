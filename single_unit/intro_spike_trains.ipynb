{
 "cells": [
  {
   "cell_type": "markdown",
   "metadata": {},
   "source": [
    "# Introduction to Spike Train Data\n",
    "\n",
    "*The examples and code in this chapter were adapted from Chapter 3 of Nylen, E.L., and Wallisch, P.. (2017).* [Neural Data Science](https://www.sciencedirect.com/book/9780128040430/neural-data-science). *Academic Press. by Aaron J. Newman. Code has been modified to be more pythonic and efficient. Explanatory text by Aaron J. Newman.*"
   ]
  },
  {
   "cell_type": "code",
   "execution_count": 1,
   "metadata": {},
   "outputs": [],
   "source": [
    "import matplotlib.pyplot as plt\n",
    "import numpy as np"
   ]
  },
  {
   "cell_type": "markdown",
   "metadata": {},
   "source": [
    "## Our first spike train\n",
    "\n",
    "Below we create a list of binary (1 or 0) values. Python lists are ordered, which makes them a good way of storing sequential data like a time series. In the list below, each value represents an evenly-spaced point in time (e.g., one data value every 10 ms), where `0` encodes time points at which no action potential was detected, and `1` represents times when action potentials occurred. "
   ]
  },
  {
   "cell_type": "code",
   "execution_count": 2,
   "metadata": {},
   "outputs": [],
   "source": [
    "spike_train = [0, 0, 0, 0, 0, 0, 0, 0, 0, 1, 0, 1, 0, 1, 0, 0, 0, 1, 0, 0, 0]"
   ]
  },
  {
   "cell_type": "markdown",
   "metadata": {},
   "source": [
    "<div class=\"alert alert-block alert-info\">\n",
    "    <h3>Style note:</h3>\n",
    "    \n",
    "Notice that in all variable names, I use all lower case with underscores separating words, as in `spike_train` and, below, `light_onset_time`. This naming convention is called **snake case**, and is actually defined in [Python PEP 8](https://www.python.org/dev/peps/pep-0008/#naming-conventions) (remember, PEPs are the \"Python Enhancement Proposals\" that provide standards for the language). PEP 8 specifies that regular variables \"should be lowercase, with words separated by underscores as necessary to improve readability\". \n",
    "    \n",
    "You may encounter different conventions as standard in other programming languages, such as [**camel case**](https://en.wikipedia.org/wiki/Camel_case) which would be `SpikeTrains` or possibly `spikeTrains` (for the aficionados: the first is is a sub-type of camel case called **Pascal case**, while the second is **dromedary case**). However, PEP 8 specifies that camel case should only be used for naming classes and type variables. Don't worry if you don't know what classes and type variables are; the point is that the Python convention is to use lower-case variable names, with words separated by underscores.\n",
    "    \n",
    "There is a good reason for following these conventions: when a seasoned Python programmer sees something in camel case, they will expect it to be a class or type variable, not a regular variable. Following Python's conventions thus improves the readability, sharability, and transparency of code.\n",
    "</div>"
   ]
  },
  {
   "cell_type": "markdown",
   "metadata": {},
   "source": [
    "## Stimulus locking\n",
    "\n",
    "In this hypothetical experiment, the neuron in question was genetically engineered for [**optogenetics**](https://en.wikipedia.org/wiki/Optogenetics), meaning that it expresses genes sensitive to a specific wavelength of light (550 nm, which is green). When light of that wavelength is directed at the neuron, it tends to fire. In this experiment, the light was turned on at time point 5 in the spike train data. If you want to learn more about optogenetics, check out [this video by Prof. Carl Petersen](https://youtu.be/lqroI7sFVuk).\n",
    "\n",
    "The code below defines that light onset time as a variable, and also defines that a spike is represented as a 1 in the data. "
   ]
  },
  {
   "cell_type": "code",
   "execution_count": 4,
   "metadata": {
    "collapsed": false,
    "jupyter": {
     "outputs_hidden": false
    }
   },
   "outputs": [],
   "source": [
    "light_onset_time = 5\n",
    "spike_value = 1"
   ]
  },
  {
   "cell_type": "markdown",
   "metadata": {},
   "source": [
    "A characteristic feature of a neuron is the *first spike latency to stimulus* — how long after a stimulus the first spike occurs. Different neurons will have different average values of this. The code below finds this value for our data, and assigns it to a variable.\n",
    "\n",
    "In the first line, we use `light_onset_time:` to search forward in the list of values from the time of the stimulus - since we want to look for the first spike after that stimulus. We add the `.index()` method to find the index of the first instance of `spike_value` (1, when a spike occurred). We then print that value."
   ]
  },
  {
   "cell_type": "code",
   "execution_count": 5,
   "metadata": {
    "collapsed": false,
    "jupyter": {
     "outputs_hidden": false
    }
   },
   "outputs": [
    {
     "name": "stdout",
     "output_type": "stream",
     "text": [
      "first spike latency to stimulus = 4\n"
     ]
    }
   ],
   "source": [
    "latency_to_first_spike = spike_train[light_onset_time:].index(spike_value) \n",
    "print('first spike latency to stimulus = ' + str(latency_to_first_spike))"
   ]
  },
  {
   "cell_type": "markdown",
   "metadata": {},
   "source": [
    "If we want to find all the spikes in the spike train, we can use the `enumerate()` function in a for loop. Unlike a regular `for` loop, which simply loops through all values of a list (or other object), `enumerate()` does this while keeping track of the index of the current item within the loop. \n",
    "\n",
    "To illustrate, if we use a `for` loop to print the values of `spike_train` we get:"
   ]
  },
  {
   "cell_type": "code",
   "execution_count": 6,
   "metadata": {},
   "outputs": [
    {
     "name": "stdout",
     "output_type": "stream",
     "text": [
      "0\n",
      "0\n",
      "0\n",
      "0\n",
      "0\n",
      "0\n",
      "0\n",
      "0\n",
      "0\n",
      "1\n",
      "0\n",
      "1\n",
      "0\n",
      "1\n",
      "0\n",
      "0\n",
      "0\n",
      "1\n",
      "0\n",
      "0\n",
      "0\n"
     ]
    }
   ],
   "source": [
    "for x in spike_train:\n",
    "    print(x)"
   ]
  },
  {
   "cell_type": "markdown",
   "metadata": {},
   "source": [
    "If we use the `enumerate()` function, we assign the index of the list to `i`, and the value of the list to `x` (as we did above):"
   ]
  },
  {
   "cell_type": "code",
   "execution_count": 7,
   "metadata": {},
   "outputs": [
    {
     "name": "stdout",
     "output_type": "stream",
     "text": [
      "0 0\n",
      "1 0\n",
      "2 0\n",
      "3 0\n",
      "4 0\n",
      "5 0\n",
      "6 0\n",
      "7 0\n",
      "8 0\n",
      "9 1\n",
      "10 0\n",
      "11 1\n",
      "12 0\n",
      "13 1\n",
      "14 0\n",
      "15 0\n",
      "16 0\n",
      "17 1\n",
      "18 0\n",
      "19 0\n",
      "20 0\n"
     ]
    }
   ],
   "source": [
    "for i, x in enumerate(spike_train):\n",
    "    print(i, x)"
   ]
  },
  {
   "cell_type": "markdown",
   "metadata": {},
   "source": [
    "You can see the first column is the index (position) in the list, and the second column indicates whether a spike happened or not. \n",
    "\n",
    "Based on this, we can use **list comprehension** to create a list of the time points (indices) where spikes occurred: "
   ]
  },
  {
   "cell_type": "markdown",
   "metadata": {},
   "source": [
    "Here we find the time points of all spikes (where `x==1`)in the spike train:"
   ]
  },
  {
   "cell_type": "code",
   "execution_count": 8,
   "metadata": {
    "collapsed": false,
    "jupyter": {
     "outputs_hidden": false
    }
   },
   "outputs": [
    {
     "name": "stdout",
     "output_type": "stream",
     "text": [
      "[9, 11, 13, 17]\n"
     ]
    }
   ],
   "source": [
    "spike_times = [i for i,x in enumerate(spike_train) if x==1]\n",
    "print(spike_times)"
   ]
  },
  {
   "cell_type": "markdown",
   "metadata": {},
   "source": [
    "### List comprehension\n",
    "The above code uses some elegant Python list comprehension:\n",
    "\n",
    "`spike_times = [i for i,x in enumerate(spike_train) if x==1]`\n",
    "\n",
    "Take some time to break this down and understand it — there's a lot going on! Recall that list comprehension is used to create a `for` loop in a single line, and return a list. It's a useful and compact way to iterate over some set of items to get them into a list. The `enumerate()` function enumerates (counts) the items as it goes through a loop, so each time through the loop we have two variables being tracked. In this case, they are `x`, which is one value in `spike_train`, and `i`, the enumeration variable that stores the current position in the list (iteration through the loop). To the end of this is added a conditional, `if x==1`. This allows us to retrieve the index (timing) of only values when that represent spikes."
   ]
  },
  {
   "cell_type": "markdown",
   "metadata": {},
   "source": [
    "For a review of list comprehension, check out [this DataCamp tutorial](https://www.datacamp.com/community/tutorials/python-list-comprehension)."
   ]
  },
  {
   "cell_type": "markdown",
   "metadata": {},
   "source": [
    "---\n",
    "## Visualizing a Spike Train: Raster Plots\n",
    "\n",
    "Visualization is a highly effective way of making the data more interpretable. Below we generate a **raster plot**, with time on the *x* axis, and the spikes as vertical lines. The *y* axis is shown as a continuous scale (the default in matplotlib), but of course the actual values can only be 0 or 1. \n",
    "\n",
    "One thing to notice in the code for this plot is that it's kind of \"hacking\" matplotlib functions to generate the plot. That is, we're not passing the data to a standard matplotlib plot class like a bar chart or a histogram. Instead, we use the `matplotlib.pyplot.vlines` function (recall above we imported `matplotlib.pyplot` as `plt`) which will draw a vertical line anywhere on a plot. This is often used for manually drawing a line on top of data. In this case, we pass the `spike_times` list to `plt.vlines` and use this function to actually plot our data."
   ]
  },
  {
   "cell_type": "code",
   "execution_count": 23,
   "metadata": {
    "collapsed": false,
    "jupyter": {
     "outputs_hidden": false
    }
   },
   "outputs": [
    {
     "data": {
      "image/png": "[encoded data removed]",
      "text/plain": [
       "<Figure size 432x288 with 1 Axes>"
      ]
     },
     "metadata": {
      "needs_background": "light"
     },
     "output_type": "display_data"
    }
   ],
   "source": [
    "fig = plt.figure()\n",
    "plt.vlines(spike_times, 0, 1)\n",
    "plt.show()"
   ]
  },
  {
   "cell_type": "markdown",
   "metadata": {},
   "source": [
    "You can see that we have a plot with blue vertical lines indicating the spike times. We can make the figure more informative though. Firstly, since the *x* axis is time, we should show the whole time period of the trial, form 0–20 ms, not just the range from the first to last spike. We can also label the *x* axis and add a title to facilitate interpretation:"
   ]
  },
  {
   "cell_type": "code",
   "execution_count": 24,
   "metadata": {
    "collapsed": false,
    "jupyter": {
     "outputs_hidden": false
    }
   },
   "outputs": [
    {
     "data": {
      "image/png": "[encoded data removed]",
      "text/plain": [
       "<Figure size 432x288 with 1 Axes>"
      ]
     },
     "metadata": {
      "needs_background": "light"
     },
     "output_type": "display_data"
    }
   ],
   "source": [
    "fig = plt.figure()\n",
    "plt.vlines(spike_times, 0, 1)\n",
    "\n",
    "plt.xlim([0, 20])\n",
    "plt.title('This neuron spikes in response to a single light stimulus') \n",
    "plt.xlabel('Time (ms)')\n",
    "\n",
    "plt.show()"
   ]
  },
  {
   "cell_type": "markdown",
   "metadata": {},
   "source": [
    "Finally, we can show when the stimulus occurred. We use the `axvspan` function to add green shading to the time period during which the green light was on. Note the clever use of colour-coding; rather than using an arbitrary or neutral shading colour like grey, the colour simultaneously encodes the time of the stimulus, and a key property of it. This is effective communication!"
   ]
  },
  {
   "cell_type": "code",
   "execution_count": 25,
   "metadata": {
    "collapsed": false,
    "jupyter": {
     "outputs_hidden": false
    }
   },
   "outputs": [
    {
     "data": {
      "image/png": "[encoded data removed]",
      "text/plain": [
       "<Figure size 432x288 with 1 Axes>"
      ]
     },
     "metadata": {
      "needs_background": "light"
     },
     "output_type": "display_data"
    }
   ],
   "source": [
    "fig = plt.figure()\n",
    "plt.vlines(spike_times, 0, 1)\n",
    "plt.xlim([0, 20])\n",
    "plt.title('This neuron spikes in response to a single light stimulus') \n",
    "plt.xlabel('Time (ms)')\n",
    "\n",
    "plt.axvspan(5,14, alpha=0.1, color='g')\n",
    "\n",
    "plt.show()"
   ]
  },
  {
   "cell_type": "markdown",
   "metadata": {
    "jupyter": {
     "outputs_hidden": false
    }
   },
   "source": [
    "## More Trials\n",
    "\n",
    "Naturally, in a real experiment we would not stimulate a neuron once, record the data, and say the experiment was finished and that the one spike train was representative of what that neuron would do every time it's stimulated. We would want to run repeated trials to identify the consistent properties of the neuron (and likely record from more neurons as well; we'll come to that in the next notebook).\n",
    "\n",
    "Below we create 10 spike trains, representing 10 trials. These are stored as a list of lists, as we can tell from square brackets embedded in square brackets: "
   ]
  },
  {
   "cell_type": "code",
   "execution_count": 11,
   "metadata": {},
   "outputs": [],
   "source": [
    "ten_spike_trains = [[0,0,0,0,0,0,0,0,0,1,0,1,0,1,0,0,0,1,0,0,0],\n",
    "                    [0,0,0,0,0,0,0,0,1,1,0,0,0,1,0,0,0,1,0,0,0],\n",
    "                    [0,1,0,0,0,0,0,0,0,0,1,0,0,1,0,0,0,0,0,1,0],\n",
    "                    [0,0,0,0,0,0,0,0,1,1,0,1,0,0,0,0,0,0,1,0,0],\n",
    "                    [0,0,0,0,0,0,0,0,0,1,0,0,1,0,0,0,0,0,0,0,0],\n",
    "                    [0,0,0,0,0,0,0,0,0,0,1,1,0,0,0,1,0,0,0,1,0],\n",
    "                    [0,0,0,0,0,0,0,0,1,1,1,0,0,1,1,0,0,1,1,0,0],\n",
    "                    [1,0,0,0,0,0,0,0,0,0,1,1,0,0,0,0,1,0,0,0,0],\n",
    "                    [0,0,0,0,0,0,0,0,1,1,0,0,1,1,0,0,1,1,0,0,0],\n",
    "                    [0,0,0,0,0,0,1,0,0,1,0,1,0,0,0,0,0,1,1,0,0]\n",
    "                   ]"
   ]
  },
  {
   "cell_type": "markdown",
   "metadata": {},
   "source": [
    "Although the nicely-formatted list of lists above is pretty easy to look at and see where spikes occur, a graph will definitely be a more effective way of communicating this information, because we can add details that aid in interpretation, such as a time axis, shading to indicate when the light is on, axis labels, and a title. "
   ]
  },
  {
   "cell_type": "code",
   "execution_count": 28,
   "metadata": {
    "collapsed": false,
    "jupyter": {
     "outputs_hidden": false
    }
   },
   "outputs": [
    {
     "data": {
      "image/png": "[encoded data removed]",
      "text/plain": [
       "<Figure size 432x288 with 1 Axes>"
      ]
     },
     "metadata": {
      "needs_background": "light"
     },
     "output_type": "display_data"
    }
   ],
   "source": [
    "# Create an empty figure\n",
    "fig = plt.figure()\n",
    "\n",
    "# Do the plotting\n",
    "for trial in range(len(ten_spike_trains)):\n",
    "    spike_times = [i for i, x in enumerate(ten_spike_trains[trial]) if x==1]\n",
    "    plt.vlines(spike_times, trial, trial+1)\n",
    "\n",
    "# Make it pretty\n",
    "plt.axvspan(5, 14, alpha=0.1, color='g')\n",
    "plt.xlim([0, 20])\n",
    "plt.ylim([0, 10])\n",
    "plt.title('This neuron spikes consistently in response to stimulus')\n",
    "plt.xlabel('Time (ms)')\n",
    "plt.ylabel('Trial Number')\n",
    "# code below places the y axis ticks at the centre of each raster line\n",
    "plt.yticks([x + 0.5 for x in range(10)],\n",
    "           [str(x + 1) for x in range(10)])\n",
    "\n",
    "plt.show()"
   ]
  },
  {
   "cell_type": "markdown",
   "metadata": {},
   "source": [
    "Note in the plot command above how each trial is drawn as a separate row in the graph, again using `plt.vlines()`, but embedded in a loop through each list (trial) within `ten_spike_trains`. The [API](https://matplotlib.org/3.1.1/api/_as_gen/matplotlib.pyplot.vlines.html) for `plt.vlines()` shows that the first three arguments are: `vlines(x, ymin, ymax)`, where `ymin` and `ymax` define the bottom and top range of the vertical line. The trial number (`trial`, which is iterated over in the `for` loop) is used as `ymin` and the next trial number (`trial+1`) as `ymax`. This is in contrast to the first raster plot (for one trial), where `ymin` and `ymax` were set to `0` and `1`, respectively, to span the whole *y* axis."
   ]
  },
  {
   "cell_type": "markdown",
   "metadata": {},
   "source": [
    "## The Peri-Stimulus Time Histogram (PSTH)\n",
    "\n",
    "Along with raster plots, another common way of visualizing spike train data is the *peri-stimulus time histogram* (PSTH). As the name implies, this is a histogram — a plot of the count of spikes at each time point in the spike trains. PSTHs are a useful tool in aggregating the data across trials. As biological entities, neurons are complex and do not always spike at exactly the same time, or rate, every time they are stimulated. This is why we collect data over many trials — to identify the average pattern of responding. By summing the number of spikes in short time bins, PSTHs allow us to visualize when the neuron is most likely to spike."
   ]
  },
  {
   "cell_type": "code",
   "execution_count": 18,
   "metadata": {
    "collapsed": false,
    "jupyter": {
     "outputs_hidden": false
    }
   },
   "outputs": [
    {
     "data": {
      "image/png": "[encoded data removed]",
      "text/plain": [
       "<Figure size 432x288 with 1 Axes>"
      ]
     },
     "metadata": {
      "needs_background": "light"
     },
     "output_type": "display_data"
    }
   ],
   "source": [
    "fig = plt.figure()\n",
    "\n",
    "# Show when stimuli were on\n",
    "# Do this first, so it's drawn \"under\" the PSTH\n",
    "plt.axvspan(5, 14, alpha=0.5, color='limegreen')\n",
    "\n",
    "# Draw the PSTH\n",
    "plt.bar(range(21), np.sum(ten_spike_trains, 0), 1)\n",
    "\n",
    "# Make pretty\n",
    "plt.title('Peri-Stimulus Time Histogram (PSTH)')\n",
    "plt.xlabel('Time (ms)')\n",
    "plt.ylabel('Num. spike occurrences at this time')\n",
    "plt.xlim([-1, 20])\n",
    "\n",
    "plt.show()"
   ]
  },
  {
   "cell_type": "markdown",
   "metadata": {},
   "source": [
    "The above PSTH simply plots the number of spikes per time bin (using the `np.sum()` function). Thus the numbers plotted are somewhat arbitrary, in that they will differ depending on the number of trials that were run. As well, even when we see peaks in the histogram, if we visualize the raw count without knowing the number of trials that contributed, we don't have a good way of interpreting the data. That is, since we know here that we have 10 trials, a count of 7 is a high proportion of trials. However, if the data comprised 25 trials, a peak of 7 would likely not be compelling evidence that the neuron was responsive to the stimulus. We should always strive for transparency and readability in visualizing data, and minimize the need for the viewer to read additional material (e.g., the methods section where hopefully the number of trials is reported) to interpret the plot. As well, plotting things in standardized units makes it easier to compare across plots, articles, etc.. \n",
    "\n",
    "In the case of PSTHs, what we really want to know is how *probable* is it that the neuron will fire at a particular time point after a stimulus, across trials. We can do this by computing the mean number of spikes at each time point with `np.mean()`, rather than just using the absolute count. Since the only possible values are 0 or 1, the mean will represent the proportion of times that the neuron spiked at that time point, regardless of how many trials comprised the data.\n",
    "\n",
    "We might also want to get a sense, visually, of whether the probability of firing is greater than chance, and thus related to the stimulus. Since the neuron only has two possible states (firing or not), a simple criterion would be to say that if the neuron fires on more than 50% of trials, it is responding to the stimulus. We can facilitate this interpretation for our viewer by adding a horizontal dashed line at 0.5 on the *y* axis, using `plt.axhline()`:"
   ]
  },
  {
   "cell_type": "code",
   "execution_count": 22,
   "metadata": {
    "collapsed": false,
    "jupyter": {
     "outputs_hidden": false
    }
   },
   "outputs": [
    {
     "data": {
      "image/png": "[encoded data removed]",
      "text/plain": [
       "<Figure size 432x288 with 1 Axes>"
      ]
     },
     "metadata": {
      "needs_background": "light"
     },
     "output_type": "display_data"
    }
   ],
   "source": [
    "fig = plt.figure()\n",
    "\n",
    "# Show when stimuli were on\n",
    "# Do this first, so it's drawn \"under\" the PSTH\n",
    "plt.axvspan(5, 14, alpha=0.5, color='limegreen')\n",
    "\n",
    "# Draw the PSTH\n",
    "plt.bar(range(21), np.mean(ten_spike_trains, 0), 1)\n",
    "\n",
    "# Add line showing chance probability of firing\n",
    "plt.axhline(y=0.5, xmin=0, xmax=20, linestyle='--', color='k')\n",
    "\n",
    "# Make pretty\n",
    "plt.title('Peri-Stimulus Time Histogram (PSTH)')\n",
    "plt.xlabel('Time (ms)')\n",
    "plt.ylabel('Num. spike occurrences at this time')\n",
    "plt.xlim([-1, 20])\n",
    "\n",
    "plt.show()"
   ]
  },
  {
   "cell_type": "markdown",
   "metadata": {},
   "source": [
    "## Sub-plots\n",
    "\n",
    "Matplotlib has an easy way to create figures that have separate panels or **subplots**, which allow a lot of power and complexity in how you can visualize data. As a first example, let's draw a single figure that has two subplots: one for the raster plot, and one of the PSTH, for our spike trains. \n",
    "\n",
    "We create a figure in the normal way, then use the `plt.subplot()` function to define both the layout of subplots we want in the figure, and a particular subplot that we want to draw into. The syntax for this is `plot.subplot(rows, columns, current)` where first two arguments specify the number of rows and columns in the figure, and the third argument defines the subplot we'll draw into. The subplot numbers increase first across columns, then down rows, for example:\n",
    "\n",
    "|   |   |   |\n",
    "|---|---|---|\n",
    "| 1 | 2 | 3 | \n",
    "| 4 | 5 | 6 |\n",
    "\n",
    "<div class=\"alert alert-block alert-info\">\n",
    "    <h3>Warning:</h3>\n",
    "    \n",
    "In a rare exception to normal Python behaviour, `.subplots` are enumerated counting from `1`, rather than `0`. \n",
    "</div>    "
   ]
  },
  {
   "cell_type": "code",
   "execution_count": 27,
   "metadata": {},
   "outputs": [
    {
     "data": {
      "image/png": "[encoded data removed]",
      "text/plain": [
       "<Figure size 720x360 with 2 Axes>"
      ]
     },
     "metadata": {
      "needs_background": "light"
     },
     "output_type": "display_data"
    }
   ],
   "source": [
    "fig = plt.figure(figsize=[10,5])\n",
    "\n",
    "# Define that the figure has subplots, arranged as 2 rows (the first number) \n",
    "#   and 1 column (second number), and that the next commands will draw into \n",
    "#  the first subplot (the third number):\n",
    "ax = plt.subplot(2, 1, 1)\n",
    "\n",
    "# Put the raster plot in the first (top) subplot. \n",
    "# This is essentially the same as the code for the previous raster plot, above\n",
    "for trial in range(len(ten_spike_trains)): \n",
    "    spike_times = [i for i, x in enumerate(ten_spike_trains[trial]) if x==1] \n",
    "    plt.vlines(spike_times, trial, trial+1) \n",
    "    plt.axvspan(5, 14, alpha=0.1, color='limegreen') \n",
    "    plt.ylim([0, 10])\n",
    "plt.title('This neuron still spikes to repeated trials of the same stimulus')\n",
    "plt.ylabel('Trial Number')\n",
    "plt.yticks([x + 0.5 for x in range(10)], [str(x + 1) for x in range(10)])\n",
    "plt.xlim([-1, 20])\n",
    "\n",
    "# Now draw into the second subplot, again specifying that overall the figure has 2 rows and 1 column\n",
    "ax = plt.subplot(2, 1, 2)\n",
    "\n",
    "# Draw the PSTH\n",
    "plt.axvspan(5, 14, alpha=0.5, color='limegreen')\n",
    "ax.bar(range(21), np.mean(ten_spike_trains, 0), 1)\n",
    "plt.axhline(y=0.5, xmin=0, xmax=20, linestyle='--', color='k')\n",
    "\n",
    "\n",
    "plt.xlabel('Time (ms)')\n",
    "plt.ylabel('Probability of spike occurrences at this time')\n",
    "plt.xlim([-1, 20])\n",
    "plt.show()"
   ]
  }
 ],
 "metadata": {
  "anaconda-cloud": {},
  "kernelspec": {
   "display_name": "Python 3",
   "language": "python",
   "name": "python3"
  },
  "language_info": {
   "codemirror_mode": {
    "name": "ipython",
    "version": 3
   },
   "file_extension": ".py",
   "mimetype": "text/x-python",
   "name": "python",
   "nbconvert_exporter": "python",
   "pygments_lexer": "ipython3",
   "version": "3.7.9"
  },
  "nteract": {
   "version": "0.24.1"
  }
 },
 "nbformat": 4,
 "nbformat_minor": 4
}
