{
 "cells": [
  {
   "cell_type": "markdown",
   "metadata": {},
   "source": [
    "# Effects of Light Intensity on Spike Rate\n",
    "\n",
    "Now we're going to load an even larger data set. The `ten_intensities` data set expands on the optogenetic spike train data we worked with in the previous chapter. Now we have data recorded from a neuron as it was stimulated with ten different intensities of the light that activates its receptors (550 nm green). We have 10 trials' worth of data at each intensity, so 100 trials in total. Each trial was 20 ms long, with optical stimulation starting at 5 ms and ending at 15 ms. Measuring the neuron's response across a range of intensities allows us to map out the response \"profile\" of the neuron in terms of the number of spikes elicited by differing intensities. \n",
    "\n",
    "This data set is adapted from Nylen, E.L., and Wallisch, P.. (2017). [*Neural Data Science*](https://www.sciencedirect.com/book/9780128040430/neural-data-science). Academic Press.\n",
    "\n",
    "---"
   ]
  },
  {
   "cell_type": "markdown",
   "metadata": {},
   "source": [
    "## Learning Objectives\n",
    "- Understand spike data in sparse format\n",
    "- Select data for a specific intensity level\n",
    "- Plot raster plots and PSTHs for specific intensity levels\n",
    "- Plot raster plots and PSTHs for all intensity levels\n",
    "- Use Matplotlib subplots to visualize multivariate data\n",
    "- Format a complex Matplotlib figure with appropriate labeling and scales\n",
    "- Use a combination of raster and PSTH plots to make inferences about the relationship between an experimentally-manipulated variable and spike rate and timing. \n",
    "\n",
    "---"
   ]
  },
  {
   "cell_type": "markdown",
   "metadata": {},
   "source": [
    "## Import necessary packages"
   ]
  },
  {
   "cell_type": "code",
   "execution_count": 1,
   "metadata": {},
   "outputs": [],
   "source": [
    "import matplotlib.pyplot as plt\n",
    "import numpy as np\n",
    "import pandas as pd"
   ]
  },
  {
   "cell_type": "markdown",
   "metadata": {},
   "source": [
    "## Define variables for known experimental parameters"
   ]
  },
  {
   "cell_type": "code",
   "execution_count": 2,
   "metadata": {},
   "outputs": [],
   "source": [
    "stim_on = 4   # time stimulus turned on\n",
    "stim_off = 14 # time stimulus turned off\n",
    "num_trials = 10 # number of trials per intensity level\n",
    "num_tp = 21     # Number of time points in each trial (0-20 ms, inclusive)"
   ]
  },
  {
   "cell_type": "markdown",
   "metadata": {},
   "source": [
    "## Read the data\n",
    "\n",
    "First we load the data. The syntax here is different from what we've used to read CSV files into pandas, but it works for pickles."
   ]
  },
  {
   "cell_type": "code",
   "execution_count": 3,
   "metadata": {},
   "outputs": [],
   "source": [
    "spikes = pd.read_csv('data/ten_intensities.csv')"
   ]
  },
  {
   "cell_type": "markdown",
   "metadata": {},
   "source": [
    "## Figure out the structure of the data\n",
    "\n",
    "When first starting to work with a data set, you need to explore it and understand how it's structured. What variable type(s) are in it? How are different experimental conditions coded? Sometimes you know this, if you created the data, but often you only have a general idea of what's in a data file, and you need to inspect it to figure out the details. \n",
    "\n",
    "If we look at the `head` of the data, we can see that there are columns for intensitiy level, trial number, and spike time:"
   ]
  },
  {
   "cell_type": "code",
   "execution_count": 4,
   "metadata": {},
   "outputs": [
    {
     "data": {
      "text/html": [
       "<div>\n",
       "<style scoped>\n",
       "    .dataframe tbody tr th:only-of-type {\n",
       "        vertical-align: middle;\n",
       "    }\n",
       "\n",
       "    .dataframe tbody tr th {\n",
       "        vertical-align: top;\n",
       "    }\n",
       "\n",
       "    .dataframe thead th {\n",
       "        text-align: right;\n",
       "    }\n",
       "</style>\n",
       "<table border=\"1\" class=\"dataframe\">\n",
       "  <thead>\n",
       "    <tr style=\"text-align: right;\">\n",
       "      <th></th>\n",
       "      <th>Intensity</th>\n",
       "      <th>Trial</th>\n",
       "      <th>SpikeTime</th>\n",
       "    </tr>\n",
       "  </thead>\n",
       "  <tbody>\n",
       "    <tr>\n",
       "      <th>0</th>\n",
       "      <td>0</td>\n",
       "      <td>1</td>\n",
       "      <td>14</td>\n",
       "    </tr>\n",
       "    <tr>\n",
       "      <th>1</th>\n",
       "      <td>0</td>\n",
       "      <td>1</td>\n",
       "      <td>18</td>\n",
       "    </tr>\n",
       "    <tr>\n",
       "      <th>2</th>\n",
       "      <td>0</td>\n",
       "      <td>3</td>\n",
       "      <td>14</td>\n",
       "    </tr>\n",
       "    <tr>\n",
       "      <th>3</th>\n",
       "      <td>0</td>\n",
       "      <td>3</td>\n",
       "      <td>20</td>\n",
       "    </tr>\n",
       "    <tr>\n",
       "      <th>4</th>\n",
       "      <td>0</td>\n",
       "      <td>4</td>\n",
       "      <td>14</td>\n",
       "    </tr>\n",
       "  </tbody>\n",
       "</table>\n",
       "</div>"
      ],
      "text/plain": [
       "   Intensity  Trial  SpikeTime\n",
       "0          0      1         14\n",
       "1          0      1         18\n",
       "2          0      3         14\n",
       "3          0      3         20\n",
       "4          0      4         14"
      ]
     },
     "execution_count": 4,
     "metadata": {},
     "output_type": "execute_result"
    }
   ],
   "source": [
    "spikes.head()"
   ]
  },
  {
   "cell_type": "markdown",
   "metadata": {},
   "source": [
    "It can also be helpful to view a random sample of trials to get a sense of the variability in the data:"
   ]
  },
  {
   "cell_type": "code",
   "execution_count": 5,
   "metadata": {},
   "outputs": [
    {
     "data": {
      "text/html": [
       "<div>\n",
       "<style scoped>\n",
       "    .dataframe tbody tr th:only-of-type {\n",
       "        vertical-align: middle;\n",
       "    }\n",
       "\n",
       "    .dataframe tbody tr th {\n",
       "        vertical-align: top;\n",
       "    }\n",
       "\n",
       "    .dataframe thead th {\n",
       "        text-align: right;\n",
       "    }\n",
       "</style>\n",
       "<table border=\"1\" class=\"dataframe\">\n",
       "  <thead>\n",
       "    <tr style=\"text-align: right;\">\n",
       "      <th></th>\n",
       "      <th>Intensity</th>\n",
       "      <th>Trial</th>\n",
       "      <th>SpikeTime</th>\n",
       "    </tr>\n",
       "  </thead>\n",
       "  <tbody>\n",
       "    <tr>\n",
       "      <th>11</th>\n",
       "      <td>1</td>\n",
       "      <td>6</td>\n",
       "      <td>18</td>\n",
       "    </tr>\n",
       "    <tr>\n",
       "      <th>29</th>\n",
       "      <td>3</td>\n",
       "      <td>7</td>\n",
       "      <td>11</td>\n",
       "    </tr>\n",
       "    <tr>\n",
       "      <th>217</th>\n",
       "      <td>9</td>\n",
       "      <td>6</td>\n",
       "      <td>11</td>\n",
       "    </tr>\n",
       "    <tr>\n",
       "      <th>130</th>\n",
       "      <td>7</td>\n",
       "      <td>5</td>\n",
       "      <td>17</td>\n",
       "    </tr>\n",
       "    <tr>\n",
       "      <th>113</th>\n",
       "      <td>7</td>\n",
       "      <td>2</td>\n",
       "      <td>9</td>\n",
       "    </tr>\n",
       "    <tr>\n",
       "      <th>27</th>\n",
       "      <td>3</td>\n",
       "      <td>4</td>\n",
       "      <td>12</td>\n",
       "    </tr>\n",
       "    <tr>\n",
       "      <th>178</th>\n",
       "      <td>8</td>\n",
       "      <td>7</td>\n",
       "      <td>9</td>\n",
       "    </tr>\n",
       "    <tr>\n",
       "      <th>221</th>\n",
       "      <td>9</td>\n",
       "      <td>8</td>\n",
       "      <td>9</td>\n",
       "    </tr>\n",
       "    <tr>\n",
       "      <th>123</th>\n",
       "      <td>7</td>\n",
       "      <td>3</td>\n",
       "      <td>20</td>\n",
       "    </tr>\n",
       "    <tr>\n",
       "      <th>34</th>\n",
       "      <td>4</td>\n",
       "      <td>1</td>\n",
       "      <td>4</td>\n",
       "    </tr>\n",
       "    <tr>\n",
       "      <th>66</th>\n",
       "      <td>5</td>\n",
       "      <td>9</td>\n",
       "      <td>16</td>\n",
       "    </tr>\n",
       "    <tr>\n",
       "      <th>15</th>\n",
       "      <td>2</td>\n",
       "      <td>5</td>\n",
       "      <td>16</td>\n",
       "    </tr>\n",
       "    <tr>\n",
       "      <th>153</th>\n",
       "      <td>8</td>\n",
       "      <td>1</td>\n",
       "      <td>9</td>\n",
       "    </tr>\n",
       "    <tr>\n",
       "      <th>79</th>\n",
       "      <td>6</td>\n",
       "      <td>3</td>\n",
       "      <td>13</td>\n",
       "    </tr>\n",
       "    <tr>\n",
       "      <th>172</th>\n",
       "      <td>8</td>\n",
       "      <td>5</td>\n",
       "      <td>11</td>\n",
       "    </tr>\n",
       "    <tr>\n",
       "      <th>138</th>\n",
       "      <td>7</td>\n",
       "      <td>7</td>\n",
       "      <td>11</td>\n",
       "    </tr>\n",
       "    <tr>\n",
       "      <th>32</th>\n",
       "      <td>4</td>\n",
       "      <td>0</td>\n",
       "      <td>11</td>\n",
       "    </tr>\n",
       "    <tr>\n",
       "      <th>171</th>\n",
       "      <td>8</td>\n",
       "      <td>5</td>\n",
       "      <td>10</td>\n",
       "    </tr>\n",
       "    <tr>\n",
       "      <th>40</th>\n",
       "      <td>4</td>\n",
       "      <td>5</td>\n",
       "      <td>13</td>\n",
       "    </tr>\n",
       "    <tr>\n",
       "      <th>115</th>\n",
       "      <td>7</td>\n",
       "      <td>2</td>\n",
       "      <td>14</td>\n",
       "    </tr>\n",
       "    <tr>\n",
       "      <th>208</th>\n",
       "      <td>9</td>\n",
       "      <td>3</td>\n",
       "      <td>12</td>\n",
       "    </tr>\n",
       "    <tr>\n",
       "      <th>162</th>\n",
       "      <td>8</td>\n",
       "      <td>3</td>\n",
       "      <td>12</td>\n",
       "    </tr>\n",
       "    <tr>\n",
       "      <th>61</th>\n",
       "      <td>5</td>\n",
       "      <td>7</td>\n",
       "      <td>18</td>\n",
       "    </tr>\n",
       "    <tr>\n",
       "      <th>48</th>\n",
       "      <td>5</td>\n",
       "      <td>2</td>\n",
       "      <td>14</td>\n",
       "    </tr>\n",
       "    <tr>\n",
       "      <th>227</th>\n",
       "      <td>9</td>\n",
       "      <td>9</td>\n",
       "      <td>12</td>\n",
       "    </tr>\n",
       "  </tbody>\n",
       "</table>\n",
       "</div>"
      ],
      "text/plain": [
       "     Intensity  Trial  SpikeTime\n",
       "11           1      6         18\n",
       "29           3      7         11\n",
       "217          9      6         11\n",
       "130          7      5         17\n",
       "113          7      2          9\n",
       "27           3      4         12\n",
       "178          8      7          9\n",
       "221          9      8          9\n",
       "123          7      3         20\n",
       "34           4      1          4\n",
       "66           5      9         16\n",
       "15           2      5         16\n",
       "153          8      1          9\n",
       "79           6      3         13\n",
       "172          8      5         11\n",
       "138          7      7         11\n",
       "32           4      0         11\n",
       "171          8      5         10\n",
       "40           4      5         13\n",
       "115          7      2         14\n",
       "208          9      3         12\n",
       "162          8      3         12\n",
       "61           5      7         18\n",
       "48           5      2         14\n",
       "227          9      9         12"
      ]
     },
     "execution_count": 5,
     "metadata": {},
     "output_type": "execute_result"
    }
   ],
   "source": [
    "spikes.sample(25)"
   ]
  },
  {
   "cell_type": "markdown",
   "metadata": {},
   "source": [
    "We can view the shape of the matrix to see how much data we have. Recall that `.shape` is a property of a DataFrame object, not a method, so we don't put parentheses after it."
   ]
  },
  {
   "cell_type": "code",
   "execution_count": 6,
   "metadata": {},
   "outputs": [
    {
     "data": {
      "text/plain": [
       "(231, 3)"
      ]
     },
     "execution_count": 6,
     "metadata": {},
     "output_type": "execute_result"
    }
   ],
   "source": [
    "spikes.shape"
   ]
  },
  {
   "cell_type": "markdown",
   "metadata": {},
   "source": [
    "### Data format\n",
    "\n",
    "This data set doesn't look like the previous spike trains we saw: rather than zeros and ones, we have a column of spike times. This is called a **sparse** representation of the data, and it is a much more efficient way of representing spike trains than the way we saw in the previous lesson. This is because spikes are relatively rare, occurring only a few times at most on each trial. So if we represent the data by having a vale for each time point on every trial, we have a lot of data points that are filled with zeros, and really tell us nothing. If our data only represent when the ones are, we can infer that the rest of the data points are zero, but we end up storing much less data. This makes working with the data faster, especially with very large data sets. \n",
    "\n",
    "In the `spikes` DataFrame, the first column encodes the intensity level:\n"
   ]
  },
  {
   "cell_type": "code",
   "execution_count": 7,
   "metadata": {},
   "outputs": [
    {
     "data": {
      "text/plain": [
       "array([0, 1, 2, 3, 4, 5, 6, 7, 8, 9])"
      ]
     },
     "execution_count": 7,
     "metadata": {},
     "output_type": "execute_result"
    }
   ],
   "source": [
    "spikes['Intensity'].unique()"
   ]
  },
  {
   "cell_type": "markdown",
   "metadata": {},
   "source": [
    "The `Trial` column encodes trial number (nested in intensity levels):"
   ]
  },
  {
   "cell_type": "code",
   "execution_count": 8,
   "metadata": {},
   "outputs": [
    {
     "data": {
      "text/plain": [
       "array([1, 3, 4, 5, 6, 0, 2, 8, 9, 7])"
      ]
     },
     "execution_count": 8,
     "metadata": {},
     "output_type": "execute_result"
    }
   ],
   "source": [
    "spikes['Trial'].unique()"
   ]
  },
  {
   "cell_type": "markdown",
   "metadata": {},
   "source": [
    "And, as you might expect, `SpikeTimes` contains the times at which spike occurred. "
   ]
  },
  {
   "cell_type": "markdown",
   "metadata": {},
   "source": [
    "## Visualizing the Data\n",
    "\n",
    "### Raster plot\n",
    "We'd like to visualize this larger data set using raster plots and PSTHs, as we did for the previous data. To do this, we'll need to consider how to show the different responses for each each intensity level. There are a few ways we could do this, but here we'll do it by adding more subplots, expanding on how we drew the raster plot and PSTH in the same figure in the previous page.\n",
    "\n",
    "Here we'll build the code up in stages, first getting one plot working (a raster of one intensity level) and then adding the PSTH for that level, then plotting all the levels of intensity in different subplots, in a loop. We'll start with the highest intensity level (`9`) as our \"test case\" because we can expect that it will elicit the most intense responses. "
   ]
  },
  {
   "cell_type": "code",
   "execution_count": 9,
   "metadata": {},
   "outputs": [],
   "source": [
    "# select just data for intensity level 9\n",
    "dat = spikes[spikes['Intensity'] == 9]"
   ]
  },
  {
   "cell_type": "markdown",
   "metadata": {},
   "source": [
    "The code below is very similar to what we used in the previous lesson, except that before we had to convert the `1`s in the data to spike times, but here that data are already in that format, so we just need to select the data for a particular trial each time through the loop:"
   ]
  },
  {
   "cell_type": "code",
   "execution_count": 10,
   "metadata": {
    "collapsed": false,
    "jupyter": {
     "outputs_hidden": false
    }
   },
   "outputs": [
    {
     "data": {
      "image/png": "[encoded data removed]",
      "text/plain": [
       "<Figure size 432x288 with 1 Axes>"
      ]
     },
     "metadata": {
      "needs_background": "light"
     },
     "output_type": "display_data"
    }
   ],
   "source": [
    "fig, ax = plt.subplots()\n",
    "\n",
    "# Shade time when stimulus was on\n",
    "plt.axvspan(stim_on, stim_off, alpha=0.5, color='greenyellow')\n",
    "\n",
    "# Draw the raster one trial at a time\n",
    "for trial in dat['Trial'].unique():\n",
    "    # get spike times for this trial\n",
    "    spike_times = dat[dat['Trial'] == trial]['SpikeTime']\n",
    "    # Draw the raster\n",
    "    ax.vlines(spike_times, \n",
    "              trial - 0.4, trial + 0.4)\n",
    "\n",
    "plt.show()"
   ]
  },
  {
   "cell_type": "markdown",
   "metadata": {},
   "source": [
    "We can see right away that there does seem to be a relationship between stimulation and spiking, since there are more ticks during the \"on\" (shaded) time than before it."
   ]
  },
  {
   "cell_type": "markdown",
   "metadata": {},
   "source": [
    "### PSTH \n",
    "\n",
    "Now we can draw a PSTH for this intensity level. We're going to draw this differently from before, because in the previous lesson we could sum the number of spikes in each time bin. Since our data here are represented as spike times, it's easiest to use the Matplotlib `.hist()` method to count the number of times each time point is found in the data, for this particular intensity level. For the PSTH, we want a bin for every time point, so we use a combination of two kwargs to force this (because otherwise, the histogram range will only include the minimum and maximum times at which spikes occur for this intensity level, which could potentially not include the earliest and/or latest time points in the trial. The `bins` kwarg is used to set the number of bins equal to the number of time points, and the `range` kwarg tell Matplotlib to space those bins evenly from 0 to the end of the trial."
   ]
  },
  {
   "cell_type": "code",
   "execution_count": 11,
   "metadata": {},
   "outputs": [
    {
     "data": {
      "image/png": "[encoded data removed]",
      "text/plain": [
       "<Figure size 432x288 with 1 Axes>"
      ]
     },
     "metadata": {
      "needs_background": "light"
     },
     "output_type": "display_data"
    }
   ],
   "source": [
    "fig, ax = plt.subplots()\n",
    "\n",
    "# Shade time when stimulus was on\n",
    "plt.axvspan(stim_on, stim_off, alpha=0.5, color='greenyellow')\n",
    "\n",
    "dat['SpikeTime'].plot(kind='hist', bins=range(0, num_tp, 1))\n",
    "\n",
    "plt.show()"
   ]
  },
  {
   "cell_type": "markdown",
   "metadata": {},
   "source": [
    "### Combine raster and PSTH\n",
    "\n",
    "Next we combined the raster and PSTH in one figure. Ultimately we want to show all intensity levels in one figure, to as a layout it will work better to have the raster and PSTH side-by-side in one row, rather than one above the other as in the previous lesson:"
   ]
  },
  {
   "cell_type": "code",
   "execution_count": 12,
   "metadata": {
    "collapsed": false,
    "jupyter": {
     "outputs_hidden": false
    }
   },
   "outputs": [
    {
     "data": {
      "image/png": "[encoded data removed]",
      "text/plain": [
       "<Figure size 1080x288 with 2 Axes>"
      ]
     },
     "metadata": {
      "needs_background": "light"
     },
     "output_type": "display_data"
    }
   ],
   "source": [
    "# here we hard-code the figure dimensions (x, y) to control the way the plot looks\n",
    "fig, axs = plt.subplots(1, 2, figsize=[15, 4])\n",
    "\n",
    "# Shade time when stimulus was on\n",
    "axs[0].axvspan(stim_on, stim_off, alpha=0.5, color='greenyellow')\n",
    "\n",
    "# select just data for intensity level 9\n",
    "dat = spikes[spikes['Intensity'] == 9]\n",
    "\n",
    "# Draw the raster one trial at a time\n",
    "for trial in dat['Trial'].unique():\n",
    "    # get spike times for this trial\n",
    "    spike_times = dat[dat['Trial'] == trial]['SpikeTime']\n",
    "    # Draw the raster\n",
    "    axs[0].vlines(spike_times, \n",
    "              trial - 0.4, trial + 0.4)\n",
    "\n",
    "    \n",
    "# Shade time when stimulus was on\n",
    "axs[1].axvspan(stim_on, stim_off, alpha=0.5, color='greenyellow')\n",
    "axs[1].hist(dat['SpikeTime'], bins=range(0, num_tp, 1))\n",
    "\n",
    "plt.show()"
   ]
  },
  {
   "cell_type": "markdown",
   "metadata": {},
   "source": [
    "### Plotting all intensity levels\n",
    "\n",
    "Now we can embed the plot commands above into a loop through all intensity levels. \n",
    "\n",
    "First, for convenience we'll create a list of intensity levels, and sort them so that they plot in a logical order (lowest to highest intensity):"
   ]
  },
  {
   "cell_type": "code",
   "execution_count": 13,
   "metadata": {},
   "outputs": [],
   "source": [
    "int_levels = sorted(spikes['Intensity'].unique())"
   ]
  },
  {
   "cell_type": "markdown",
   "metadata": {},
   "source": [
    "We'll plot each raster and PSTH as a row, in a figure with 10 rows (intensity levels) and 2 columns of subplots. \n",
    "\n",
    "Note that we make use of the intensity levels not just for looping through the data, but also specify rows of subplots, and the intensity of the shading that shows when the stimulus was on. "
   ]
  },
  {
   "cell_type": "code",
   "execution_count": 14,
   "metadata": {
    "collapsed": false,
    "jupyter": {
     "outputs_hidden": false
    }
   },
   "outputs": [
    {
     "data": {
      "image/png": "[encoded data removed]",
      "text/plain": [
       "<Figure size 864x864 with 20 Axes>"
      ]
     },
     "metadata": {
      "needs_background": "light"
     },
     "output_type": "display_data"
    }
   ],
   "source": [
    "# Set the number of subplot rows based on number of intensity levels in data\n",
    "# Also specify the figure dimensions since it will need to be a big figure\n",
    "fig, axs = plt.subplots(len(int_levels), 2, figsize=[12, 12])\n",
    "\n",
    "for i in int_levels:\n",
    "    \n",
    "    ## Raster plot\n",
    "    # select just data for current intensity level\n",
    "    # this is convenient since we'll refer to this subset of data a few times below\n",
    "    dat = spikes[spikes['Intensity'] == i]\n",
    "\n",
    "    # Draw the raster one trial at a time\n",
    "    for trial in dat['Trial'].unique():\n",
    "        # get spike times for this trial\n",
    "        spike_times = dat[dat['Trial'] == trial]['SpikeTime']\n",
    "        # Draw the raster\n",
    "        axs[i, 0].vlines(spike_times, \n",
    "                         trial - 0.4, trial + 0.4)\n",
    "\n",
    "    # Shade time when stimulus was on\n",
    "    axs[i, 0].axvspan(stim_on, stim_off, \n",
    "                      alpha= i / 10 + .1,       # Base intensity of shading (alpha) on intensity level\n",
    "                      color='greenyellow')\n",
    "\n",
    "    ## PSTH\n",
    "    # Shade time when stimulus was on\n",
    "    axs[i, 1].axvspan(stim_on, stim_off, \n",
    "                      alpha= i / 10 + .1, \n",
    "                      color='greenyellow')\n",
    "    \n",
    "    axs[i, 1].hist(dat['SpikeTime'], bins=range(0, num_tp, 1))\n",
    "\n",
    "plt.tight_layout()\n",
    "plt.show()"
   ]
  },
  {
   "cell_type": "markdown",
   "metadata": {},
   "source": [
    "### Scale the *x* axes\n",
    "\n",
    "You may note that the plot above looks wrong — the \"stimulus on\" shading doesn't line up for all the plots! This is because by default, Matplotlib scales each subplot's axes independently. For the low intensity levels, there are few spikes, and so if you look at the units on the *x* axes, they are quite variable. \n",
    "\n",
    "We can fix this by adding a `sharex=True` kwarg to the `plt.subplots()` call, which forces all the subplots to share the same *x* axis range. Since the histograms are already set to range from 0-21 ms, the raster plots will \"inherit\" the same range due to `sharex=True`. We add one further line, using `.set_xticks()` to specify the spacing of the tickmarks on the *x* axis to 2 ms:"
   ]
  },
  {
   "cell_type": "code",
   "execution_count": 15,
   "metadata": {
    "collapsed": false,
    "jupyter": {
     "outputs_hidden": false
    }
   },
   "outputs": [
    {
     "data": {
      "image/png": "[encoded data removed]",
      "text/plain": [
       "<Figure size 864x864 with 20 Axes>"
      ]
     },
     "metadata": {
      "needs_background": "light"
     },
     "output_type": "display_data"
    }
   ],
   "source": [
    "fig, axs = plt.subplots(len(int_levels), 2, figsize=[12, 12], sharex=True)\n",
    "\n",
    "for i in int_levels:\n",
    "    \n",
    "    ## Raster plot\n",
    "    # select just data for current intensity level\n",
    "    # this is convenient since we'll refer to this subset of data a few times below\n",
    "    dat = spikes[spikes['Intensity'] == i]\n",
    "\n",
    "    # Draw the raster one trial at a time\n",
    "    for trial in dat['Trial'].unique():\n",
    "        # get spike times for this trial\n",
    "        spike_times = dat[dat['Trial'] == trial]['SpikeTime']\n",
    "        # Draw the raster\n",
    "        axs[i, 0].vlines(spike_times, \n",
    "                         trial - 0.4, trial + 0.4)\n",
    "    # Shade time when stimulus was on\n",
    "    axs[i, 0].axvspan(stim_on, stim_off, \n",
    "                      alpha= i / 10 + .1,       # Base intensity of shading (alpha) on intensity level\n",
    "                      color='greenyellow')\n",
    "\n",
    "    ## PSTH\n",
    "    # Shade time when stimulus was on\n",
    "    axs[i, 1].axvspan(stim_on, stim_off, \n",
    "                      alpha= i / 10 + .1, \n",
    "                      color='greenyellow')\n",
    "    \n",
    "    axs[i, 1].hist(dat['SpikeTime'], bins=range(0, num_tp, 1))\n",
    "\n",
    "    # Set the x tickmarks to every 2 ms\n",
    "    axs[i, 1].set_xticks(np.arange(0, num_tp + 1, 2))\n",
    "    \n",
    "plt.tight_layout()\n",
    "plt.show()"
   ]
  },
  {
   "cell_type": "markdown",
   "metadata": {},
   "source": [
    "### Scale the *y* axes\n",
    "\n",
    "Although there is also a `sharey` kwarg for the *y* axis, this isn't appropriate for the current figure because the raster and PSTH plots necessarily will have different scales. The rasters are already on the same scale, since there were 10 trials at each intensity level. However, note that the *y* scales for the PSTHs are all different, which makes it very hard to compare between different intensity levels. \n",
    "\n",
    "There are (at least) two different ways we could do this: we could normalize the histograms (making the *y* axis the proportion of total spikes in each bin), or we could simply scale them all to the maximum number of spikes in any bin, across the entire data set. \n",
    "\n",
    "In this case, the latter option makes more sense. We want to compare the amount of spiking activity between different intensity levels, so we want to compare \"apples to apples\" by using the absolute number of spikes in each bin, rather than the proportion of spikes in each bin, at a particular intensity level. \n",
    "\n",
    "The way we figure out what the maximum value on the *y* axis should be, is by using an [accumulator variable](../3/for_loops). We initialize `y_max` before we start the plotting loop, and then as we plot the data for each intensity level we compare the upper limit of the *y* axis for the current intensity against the current value of `y_max`, and update `y_max` if the current value is larger. By the time we have looped through all intensity levels, `y_max` will contain the largest number of spikes found in the data set."
   ]
  },
  {
   "cell_type": "code",
   "execution_count": 16,
   "metadata": {
    "collapsed": false,
    "jupyter": {
     "outputs_hidden": false
    }
   },
   "outputs": [
    {
     "data": {
      "image/png": "[encoded data removed]",
      "text/plain": [
       "<Figure size 864x864 with 20 Axes>"
      ]
     },
     "metadata": {
      "needs_background": "light"
     },
     "output_type": "display_data"
    }
   ],
   "source": [
    "# set the number of subplot rows based on number of intensity levels in data\n",
    "# specify the figure dimensions since it will need to be a big figure\n",
    "fig, axs = plt.subplots(len(int_levels), 2, figsize=[12, 12], sharex=True)\n",
    "\n",
    "y_max = 0 # Accumulator variable\n",
    "\n",
    "for i in int_levels:\n",
    "    \n",
    "    ## Raster plot\n",
    "    # select just data for current intensity level\n",
    "    # this is convenient since we'll refer to this subset of data a few times below\n",
    "    dat = spikes[spikes['Intensity'] == i]\n",
    "\n",
    "    # Draw the raster one trial at a time\n",
    "    for trial in dat['Trial'].unique():\n",
    "        # get spike times for this trial\n",
    "        spike_times = dat[dat['Trial'] == trial]['SpikeTime']\n",
    "        # Draw the raster\n",
    "        axs[i, 0].vlines(spike_times, \n",
    "                         trial - 0.4, trial + 0.4)\n",
    "\n",
    "    # Shade time when stimulus was on\n",
    "    axs[i, 0].axvspan(stim_on, stim_off, \n",
    "                      alpha= i / 10 + .1,       # Base intensity of shading (alpha) on intensity level\n",
    "                      color='greenyellow')\n",
    "\n",
    "    ## PSTH\n",
    "    # Shade time when stimulus was on\n",
    "    axs[i, 1].axvspan(stim_on, stim_off, \n",
    "                      alpha= i / 10 + .1, \n",
    "                      color='greenyellow')\n",
    "    \n",
    "    # Plot histogram\n",
    "    axs[i, 1].hist(dat['SpikeTime'], bins=range(0, num_tp, 1))\n",
    "\n",
    "    # find y max of current plot\n",
    "    cur_min, cur_max = axs[i, 1].get_ylim()\n",
    "    \n",
    "    # update y_max if necessary\n",
    "    if cur_max > y_max:\n",
    "        y_max = cur_max\n",
    "        \n",
    "for a in int_levels:\n",
    "    axs[a, 1].set_ylim(0, y_max)\n",
    "    \n",
    "plt.tight_layout()\n",
    "plt.show()"
   ]
  },
  {
   "cell_type": "markdown",
   "metadata": {},
   "source": [
    "Now the PSTHs more clearly show us that the low intensity levels elicited very few spikes, while the higher intensity levels elicited a lot more."
   ]
  },
  {
   "cell_type": "markdown",
   "metadata": {
    "tags": []
   },
   "source": [
    "### Label the plot\n",
    "\n",
    "Finally, we can properly annotate (label) the graph for easy interpretation, adding things like axis labels and titles. We'll also make sure the axes of all the plots are the same:"
   ]
  },
  {
   "cell_type": "code",
   "execution_count": 17,
   "metadata": {
    "collapsed": false,
    "jupyter": {
     "outputs_hidden": false
    }
   },
   "outputs": [
    {
     "data": {
      "image/png": "[encoded data removed]",
      "text/plain": [
       "<Figure size 864x864 with 20 Axes>"
      ]
     },
     "metadata": {
      "needs_background": "light"
     },
     "output_type": "display_data"
    }
   ],
   "source": [
    "# set the number of subplot rows based on number of intensity levels in data\n",
    "# specify the figure dimensions since it will need to be a big figure\n",
    "fig, axs = plt.subplots(len(int_levels), 2, figsize=[12, 12], sharex=True)\n",
    "\n",
    "y_max = 0 # Accumulator variable\n",
    "\n",
    "for i in int_levels:\n",
    "    ## Raster plot\n",
    "    # select just data for current intensity level\n",
    "    # this is convenient since we'll refer to this subset of data a few times below\n",
    "    dat = spikes[spikes['Intensity'] == i]\n",
    "\n",
    "    # Draw the raster one trial at a time\n",
    "    for trial in dat['Trial'].unique():\n",
    "        # get spike times for this trial\n",
    "        spike_times = dat[dat['Trial'] == trial]['SpikeTime']\n",
    "        # Draw the raster\n",
    "        axs[i, 0].vlines(spike_times, \n",
    "                         trial - 0.4, trial + 0.4)\n",
    "\n",
    "    # Shade time when stimulus was on\n",
    "    axs[i, 0].axvspan(stim_on, stim_off, \n",
    "                      alpha= i / 10 + .1,       # Base intensity of shading (alpha) on intensity level\n",
    "                      color='greenyellow')\n",
    "\n",
    "    # Label the y axis with intensity level\n",
    "    axs[i, 0].set_ylabel('Intensity  ' + str(i))\n",
    "    \n",
    "    # place title only above the first row of plots:\n",
    "    if i == 0:\n",
    "        axs[i, 0].set_title('Raster Plot for each intensity', fontsize=10)\n",
    " \n",
    "\n",
    "    ## PSTH\n",
    "    # Shade time when stimulus was on\n",
    "    axs[i, 1].axvspan(stim_on, stim_off, \n",
    "                      alpha= i / 10 + .1, \n",
    "                      color='greenyellow')\n",
    "    \n",
    "    # Plot histogram\n",
    "    axs[i, 1].hist(dat['SpikeTime'], bins=range(0, num_tp, 1))\n",
    "\n",
    "    # Set the x tickmarks to every 2 ms\n",
    "    axs[i, 1].set_xticks(np.arange(0, num_tp + 1, 2))\n",
    "    \n",
    "    # Label the y axis \n",
    "    axs[i, 1].set_ylabel('Num. Spikes')\n",
    "\n",
    "    # find y max of current plot\n",
    "    cur_min, cur_max = axs[i, 1].get_ylim()\n",
    "    \n",
    "    # update y_max if necessary\n",
    "    if cur_max > y_max:\n",
    "        y_max = cur_max\n",
    "        \n",
    "    # place title only above the first row of plots:\n",
    "    if i == 0:\n",
    "        axs[i, 1].set_title('PSTH for each intensity', fontsize=10)\n",
    "        \n",
    "    # Place x label only below bottom row of plots:    \n",
    "    if i == max(int_levels):\n",
    "        axs[i, 1].set_xlabel('Time (ms)')\n",
    "        axs[i, 0].set_xlabel('Time (ms)')\n",
    "\n",
    "# Having plotted all intensity levels, re-scale y axis to the max we found\n",
    "# Also apply the same scale to all rasters\n",
    "for a in int_levels:\n",
    "    axs[a, 0].set_ylim(0, num_trials)\n",
    "    axs[a, 1].set_ylim(0, y_max)\n",
    "    \n",
    "# Add an overall figure title\n",
    "fig.suptitle('Effects of 550 nm light intensity on spike rate of neuron')\n",
    "    \n",
    "plt.tight_layout()\n",
    "plt.show()"
   ]
  },
  {
   "cell_type": "markdown",
   "metadata": {},
   "source": [
    "## Interpreting the data\n",
    "\n",
    "Now that we have a nice visualization, we can use it to make sense of the data. Take some time to look at the figure above and think about what it shows you, about the relationship between light intensity and the activity of the neuron, then read on below.\n",
    "\n",
    "It is clear from the figure that more intense light stimulation elicits a stronger response from the neuron. Furthermore, it doesn't look like there is a *linear* relationship between intensity and neuronal activity. If the relationship was linear, we would see a steady increase in spiking with increasing intensity level. Instead, it looks like the light elicits very little response at levels 0–2, a weak response at levels 3–5, and a stronger response at levels 6–9. So it may be that the neuron has a *threshold* level of light intensity, below which it doesn't respond, and above which it does respond. From levels 3 to 8, spiking intensity seems to increase with light intensity, however at level 9 the peak number of spikes is lower than for levels 7 or 8. \n",
    "\n",
    "This relationship also appears to involve both the intensity of the neuron's response (spike rate), and its timing. As intensity increases, especially from level 3 upwards, the time at which spiking activity is evident relative to the onset of the light stimulation seems to get earlier, as does the time at which peak spiking occurs. So it seems that the latency to first spike property we mentioned in the previous lesson is influenced by light intensity.\n",
    "\n",
    "Finally, the neuron seems. to show offset as well as onset effects. That is, at least at the highest intensity levels (7–9) there is a clear decrease in spiking towards the end of the stimulation period, followed by a brief increase in spiking after the light turns off. \n",
    "\n",
    "---"
   ]
  }
 ],
 "metadata": {
  "kernelspec": {
   "display_name": "Python 3 (ipykernel)",
   "language": "python",
   "name": "python3"
  },
  "language_info": {
   "codemirror_mode": {
    "name": "ipython",
    "version": 3
   },
   "file_extension": ".py",
   "mimetype": "text/x-python",
   "name": "python",
   "nbconvert_exporter": "python",
   "pygments_lexer": "ipython3",
   "version": "3.9.7"
  }
 },
 "nbformat": 4,
 "nbformat_minor": 4
}
