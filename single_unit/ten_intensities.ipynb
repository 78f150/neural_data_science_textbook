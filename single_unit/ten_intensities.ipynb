{
 "cells": [
  {
   "cell_type": "markdown",
   "metadata": {},
   "source": [
    "# Ten intensities — A bigger data set\n",
    "\n",
    "Now we're going to load an even larger data set. The `ten_intensities` data set expands on the optogenetic spike train data we worked with in the previous chapter. Now we have data recorded from a neuron as it was stimulated with ten different intensities of the light that activates its receptors (550 nm green). We have 10 trials' worth of data at each intensity, so 100 trials in total. Each trial was 20 ms long, with optical stimulation starting at 5 ms and ending at 15 ms. Measuring the neuron's response across a range of intensities allows us to map out the response \"profile\" of the neuron in terms of the number of spikes elicited by differing intensities. "
   ]
  },
  {
   "cell_type": "code",
   "execution_count": 158,
   "metadata": {},
   "outputs": [],
   "source": [
    "import matplotlib.pyplot as plt\n",
    "import numpy as np\n",
    "import pandas as pd\n",
    "\n",
    "stim_on = 4  # time stimulus turned on\n",
    "stim_off = 14 # time stimulus turned off"
   ]
  },
  {
   "cell_type": "markdown",
   "metadata": {},
   "source": [
    "## Read the data\n",
    "\n",
    "First we load the data. The syntax here is different from what we've used to read CSV files into pandas, but it works for pickles."
   ]
  },
  {
   "cell_type": "code",
   "execution_count": 130,
   "metadata": {},
   "outputs": [],
   "source": [
    "spikes = pd.read_csv('data/ten_intensities.csv')"
   ]
  },
  {
   "cell_type": "markdown",
   "metadata": {},
   "source": [
    "## Figure out the structure of the data\n",
    "\n",
    "When first starting to work with a data set, you need to explore it and understand how it's structured. What variable type(s) are in it? How are different experimental conditions coded? Sometimes you know this, if you created the data, but often you only have a general idea of what's in a data file, and you need to inspect it to figure out the details. \n",
    "\n",
    "If we look at the `head` of the data, we can see that there are columns for intensitiy level and trial number, and then a series of numbered columns. Those are the times in milliseconds from the start of each trial, and each row for these columns has a `1` if there was a spike at that time, or a `0` otherwise:"
   ]
  },
  {
   "cell_type": "code",
   "execution_count": 111,
   "metadata": {},
   "outputs": [
    {
     "data": {
      "text/html": [
       "<div>\n",
       "<style scoped>\n",
       "    .dataframe tbody tr th:only-of-type {\n",
       "        vertical-align: middle;\n",
       "    }\n",
       "\n",
       "    .dataframe tbody tr th {\n",
       "        vertical-align: top;\n",
       "    }\n",
       "\n",
       "    .dataframe thead th {\n",
       "        text-align: right;\n",
       "    }\n",
       "</style>\n",
       "<table border=\"1\" class=\"dataframe\">\n",
       "  <thead>\n",
       "    <tr style=\"text-align: right;\">\n",
       "      <th></th>\n",
       "      <th>Intensity</th>\n",
       "      <th>Trial</th>\n",
       "      <th>SpikeTime</th>\n",
       "    </tr>\n",
       "  </thead>\n",
       "  <tbody>\n",
       "    <tr>\n",
       "      <th>9</th>\n",
       "      <td>1</td>\n",
       "      <td>2</td>\n",
       "      <td>20</td>\n",
       "    </tr>\n",
       "    <tr>\n",
       "      <th>51</th>\n",
       "      <td>5</td>\n",
       "      <td>3</td>\n",
       "      <td>10</td>\n",
       "    </tr>\n",
       "    <tr>\n",
       "      <th>0</th>\n",
       "      <td>0</td>\n",
       "      <td>1</td>\n",
       "      <td>14</td>\n",
       "    </tr>\n",
       "    <tr>\n",
       "      <th>80</th>\n",
       "      <td>6</td>\n",
       "      <td>4</td>\n",
       "      <td>8</td>\n",
       "    </tr>\n",
       "    <tr>\n",
       "      <th>45</th>\n",
       "      <td>5</td>\n",
       "      <td>0</td>\n",
       "      <td>15</td>\n",
       "    </tr>\n",
       "    <tr>\n",
       "      <th>120</th>\n",
       "      <td>7</td>\n",
       "      <td>3</td>\n",
       "      <td>11</td>\n",
       "    </tr>\n",
       "    <tr>\n",
       "      <th>12</th>\n",
       "      <td>1</td>\n",
       "      <td>8</td>\n",
       "      <td>15</td>\n",
       "    </tr>\n",
       "    <tr>\n",
       "      <th>58</th>\n",
       "      <td>5</td>\n",
       "      <td>7</td>\n",
       "      <td>10</td>\n",
       "    </tr>\n",
       "    <tr>\n",
       "      <th>118</th>\n",
       "      <td>7</td>\n",
       "      <td>2</td>\n",
       "      <td>19</td>\n",
       "    </tr>\n",
       "    <tr>\n",
       "      <th>181</th>\n",
       "      <td>8</td>\n",
       "      <td>7</td>\n",
       "      <td>17</td>\n",
       "    </tr>\n",
       "    <tr>\n",
       "      <th>176</th>\n",
       "      <td>8</td>\n",
       "      <td>6</td>\n",
       "      <td>11</td>\n",
       "    </tr>\n",
       "    <tr>\n",
       "      <th>3</th>\n",
       "      <td>0</td>\n",
       "      <td>3</td>\n",
       "      <td>20</td>\n",
       "    </tr>\n",
       "    <tr>\n",
       "      <th>229</th>\n",
       "      <td>9</td>\n",
       "      <td>9</td>\n",
       "      <td>16</td>\n",
       "    </tr>\n",
       "    <tr>\n",
       "      <th>151</th>\n",
       "      <td>8</td>\n",
       "      <td>0</td>\n",
       "      <td>18</td>\n",
       "    </tr>\n",
       "    <tr>\n",
       "      <th>220</th>\n",
       "      <td>9</td>\n",
       "      <td>8</td>\n",
       "      <td>0</td>\n",
       "    </tr>\n",
       "    <tr>\n",
       "      <th>228</th>\n",
       "      <td>9</td>\n",
       "      <td>9</td>\n",
       "      <td>13</td>\n",
       "    </tr>\n",
       "    <tr>\n",
       "      <th>211</th>\n",
       "      <td>9</td>\n",
       "      <td>4</td>\n",
       "      <td>11</td>\n",
       "    </tr>\n",
       "    <tr>\n",
       "      <th>47</th>\n",
       "      <td>5</td>\n",
       "      <td>1</td>\n",
       "      <td>11</td>\n",
       "    </tr>\n",
       "    <tr>\n",
       "      <th>112</th>\n",
       "      <td>7</td>\n",
       "      <td>2</td>\n",
       "      <td>8</td>\n",
       "    </tr>\n",
       "    <tr>\n",
       "      <th>115</th>\n",
       "      <td>7</td>\n",
       "      <td>2</td>\n",
       "      <td>14</td>\n",
       "    </tr>\n",
       "    <tr>\n",
       "      <th>207</th>\n",
       "      <td>9</td>\n",
       "      <td>3</td>\n",
       "      <td>9</td>\n",
       "    </tr>\n",
       "    <tr>\n",
       "      <th>213</th>\n",
       "      <td>9</td>\n",
       "      <td>5</td>\n",
       "      <td>9</td>\n",
       "    </tr>\n",
       "    <tr>\n",
       "      <th>154</th>\n",
       "      <td>8</td>\n",
       "      <td>1</td>\n",
       "      <td>11</td>\n",
       "    </tr>\n",
       "    <tr>\n",
       "      <th>62</th>\n",
       "      <td>5</td>\n",
       "      <td>8</td>\n",
       "      <td>14</td>\n",
       "    </tr>\n",
       "    <tr>\n",
       "      <th>137</th>\n",
       "      <td>7</td>\n",
       "      <td>7</td>\n",
       "      <td>10</td>\n",
       "    </tr>\n",
       "  </tbody>\n",
       "</table>\n",
       "</div>"
      ],
      "text/plain": [
       "     Intensity  Trial  SpikeTime\n",
       "9            1      2         20\n",
       "51           5      3         10\n",
       "0            0      1         14\n",
       "80           6      4          8\n",
       "45           5      0         15\n",
       "120          7      3         11\n",
       "12           1      8         15\n",
       "58           5      7         10\n",
       "118          7      2         19\n",
       "181          8      7         17\n",
       "176          8      6         11\n",
       "3            0      3         20\n",
       "229          9      9         16\n",
       "151          8      0         18\n",
       "220          9      8          0\n",
       "228          9      9         13\n",
       "211          9      4         11\n",
       "47           5      1         11\n",
       "112          7      2          8\n",
       "115          7      2         14\n",
       "207          9      3          9\n",
       "213          9      5          9\n",
       "154          8      1         11\n",
       "62           5      8         14\n",
       "137          7      7         10"
      ]
     },
     "execution_count": 111,
     "metadata": {},
     "output_type": "execute_result"
    }
   ],
   "source": [
    "spikes.sample(25)"
   ]
  },
  {
   "cell_type": "markdown",
   "metadata": {},
   "source": [
    "We can view the shape of the matrix to see how much data we have. Recall that `.shape` is a property of a DataFrame object, not a method, so we don't put parentheses after it."
   ]
  },
  {
   "cell_type": "code",
   "execution_count": 112,
   "metadata": {},
   "outputs": [
    {
     "data": {
      "text/plain": [
       "(231, 3)"
      ]
     },
     "execution_count": 112,
     "metadata": {},
     "output_type": "execute_result"
    }
   ],
   "source": [
    "spikes.shape"
   ]
  },
  {
   "cell_type": "markdown",
   "metadata": {},
   "source": [
    "### Data format\n",
    "\n",
    "This data set doesn't look like the previous spike trains we saw: rather than zeros and ones, we have a column of spike times. This is called a **sparse** representation of the data, and it is a much more efficient way of representing spike trains than the way we saw in the previous lesson. This is because spikes are relatively rare, occurring only a few times at most on each trial. So if we represent the data by having a vale for each time point on every trial, we have a lot of data points that are filled with zeros, and really tell us nothing. If our data only represent when the ones are, we can infer that the rest of the data points are zero, but we end up storing much less data. This makes working with the data faster, especially with very large data sets. \n",
    "\n",
    "In the `spikes` DataFrame, the first column encodes the intensity level:\n"
   ]
  },
  {
   "cell_type": "code",
   "execution_count": 113,
   "metadata": {},
   "outputs": [
    {
     "data": {
      "text/plain": [
       "array([0, 1, 2, 3, 4, 5, 6, 7, 8, 9])"
      ]
     },
     "execution_count": 113,
     "metadata": {},
     "output_type": "execute_result"
    }
   ],
   "source": [
    "spikes['Intensity'].unique()"
   ]
  },
  {
   "cell_type": "markdown",
   "metadata": {},
   "source": [
    "The `Trial` column encodes trial number (nested in intensity levels):"
   ]
  },
  {
   "cell_type": "code",
   "execution_count": 114,
   "metadata": {},
   "outputs": [
    {
     "data": {
      "text/plain": [
       "array([1, 3, 4, 5, 6, 0, 2, 8, 9, 7])"
      ]
     },
     "execution_count": 114,
     "metadata": {},
     "output_type": "execute_result"
    }
   ],
   "source": [
    "spikes['Trial'].unique()"
   ]
  },
  {
   "cell_type": "markdown",
   "metadata": {},
   "source": [
    "And, as you might expect, `SpikeTimes` contains the times at which spike occurred. "
   ]
  },
  {
   "cell_type": "markdown",
   "metadata": {
    "tags": []
   },
   "source": [
    "\n",
    "### Index the DataFrame\n",
    "\n",
    "This is wide-format data, with two variables, `Intensity` and `Trial` as single columns encoding multiple levels, and the time variable as a set of 21 columns. As we saw with the Gapminder data set, it makes sense to make the first two columns indexes for the DataFrame, so that all of the (non-index) columns represent levels of the same variable (time). Since we are specifying two rows as indexes, they need to be passed as a list so that, collectively, they comprise the first argument to `.set_index()`:"
   ]
  },
  {
   "cell_type": "code",
   "execution_count": 115,
   "metadata": {},
   "outputs": [],
   "source": [
    "# spikes = spikes.set_index(['Intensity', 'Trial'])"
   ]
  },
  {
   "cell_type": "markdown",
   "metadata": {},
   "source": [
    "Now when we look at the first 12 rows, we see our two index columns on the left in boldface, and that our indexes are **nested**, reflecting the structure of our data: trials are nested within intensity levels:"
   ]
  },
  {
   "cell_type": "code",
   "execution_count": 131,
   "metadata": {},
   "outputs": [
    {
     "data": {
      "text/html": [
       "<div>\n",
       "<style scoped>\n",
       "    .dataframe tbody tr th:only-of-type {\n",
       "        vertical-align: middle;\n",
       "    }\n",
       "\n",
       "    .dataframe tbody tr th {\n",
       "        vertical-align: top;\n",
       "    }\n",
       "\n",
       "    .dataframe thead th {\n",
       "        text-align: right;\n",
       "    }\n",
       "</style>\n",
       "<table border=\"1\" class=\"dataframe\">\n",
       "  <thead>\n",
       "    <tr style=\"text-align: right;\">\n",
       "      <th></th>\n",
       "      <th>Intensity</th>\n",
       "      <th>Trial</th>\n",
       "      <th>SpikeTime</th>\n",
       "    </tr>\n",
       "  </thead>\n",
       "  <tbody>\n",
       "    <tr>\n",
       "      <th>0</th>\n",
       "      <td>0</td>\n",
       "      <td>1</td>\n",
       "      <td>14</td>\n",
       "    </tr>\n",
       "    <tr>\n",
       "      <th>1</th>\n",
       "      <td>0</td>\n",
       "      <td>1</td>\n",
       "      <td>18</td>\n",
       "    </tr>\n",
       "    <tr>\n",
       "      <th>2</th>\n",
       "      <td>0</td>\n",
       "      <td>3</td>\n",
       "      <td>14</td>\n",
       "    </tr>\n",
       "    <tr>\n",
       "      <th>3</th>\n",
       "      <td>0</td>\n",
       "      <td>3</td>\n",
       "      <td>20</td>\n",
       "    </tr>\n",
       "    <tr>\n",
       "      <th>4</th>\n",
       "      <td>0</td>\n",
       "      <td>4</td>\n",
       "      <td>14</td>\n",
       "    </tr>\n",
       "    <tr>\n",
       "      <th>5</th>\n",
       "      <td>0</td>\n",
       "      <td>5</td>\n",
       "      <td>18</td>\n",
       "    </tr>\n",
       "    <tr>\n",
       "      <th>6</th>\n",
       "      <td>0</td>\n",
       "      <td>6</td>\n",
       "      <td>13</td>\n",
       "    </tr>\n",
       "    <tr>\n",
       "      <th>7</th>\n",
       "      <td>1</td>\n",
       "      <td>0</td>\n",
       "      <td>17</td>\n",
       "    </tr>\n",
       "    <tr>\n",
       "      <th>8</th>\n",
       "      <td>1</td>\n",
       "      <td>1</td>\n",
       "      <td>13</td>\n",
       "    </tr>\n",
       "    <tr>\n",
       "      <th>9</th>\n",
       "      <td>1</td>\n",
       "      <td>2</td>\n",
       "      <td>20</td>\n",
       "    </tr>\n",
       "    <tr>\n",
       "      <th>10</th>\n",
       "      <td>1</td>\n",
       "      <td>6</td>\n",
       "      <td>13</td>\n",
       "    </tr>\n",
       "    <tr>\n",
       "      <th>11</th>\n",
       "      <td>1</td>\n",
       "      <td>6</td>\n",
       "      <td>18</td>\n",
       "    </tr>\n",
       "  </tbody>\n",
       "</table>\n",
       "</div>"
      ],
      "text/plain": [
       "    Intensity  Trial  SpikeTime\n",
       "0           0      1         14\n",
       "1           0      1         18\n",
       "2           0      3         14\n",
       "3           0      3         20\n",
       "4           0      4         14\n",
       "5           0      5         18\n",
       "6           0      6         13\n",
       "7           1      0         17\n",
       "8           1      1         13\n",
       "9           1      2         20\n",
       "10          1      6         13\n",
       "11          1      6         18"
      ]
     },
     "execution_count": 131,
     "metadata": {},
     "output_type": "execute_result"
    }
   ],
   "source": [
    "spikes.head(12)"
   ]
  },
  {
   "cell_type": "markdown",
   "metadata": {},
   "source": [
    "## Visualizing the Data\n",
    "\n",
    "### Raster plot\n",
    "We'd like to visualize this larger data set using raster plots and PSTHs, as we did for the previous data. To do this, we'll need to consider how to show the different responses for each each intensity level. There are a few ways we could do this, but here we'll do it by adding more subplots, expanding on how we drew the raster plot and PSTH in the same figure in the previous page.\n",
    "\n",
    "Here we'll build the code up in stages, first getting one plot working (a raster of one intensity level) and then adding the PSTH for that level, then plotting all the levels of intensity in different subplots, in a loop. We'll start with the highest intensity level (`9`) as our \"test case\" because we can expect that it will elicit the most intense responses. \n",
    "\n",
    "The code below is very similar to what we used in the previous lesson, except that we're selecting subsets of data from a DataFrame:"
   ]
  },
  {
   "cell_type": "code",
   "execution_count": 147,
   "metadata": {
    "collapsed": false,
    "jupyter": {
     "outputs_hidden": false
    }
   },
   "outputs": [
    {
     "data": {
      "image/png": "[encoded data removed]",
      "text/plain": [
       "<Figure size 432x288 with 1 Axes>"
      ]
     },
     "metadata": {
      "needs_background": "light"
     },
     "output_type": "display_data"
    }
   ],
   "source": [
    "fig, ax = plt.subplots()\n",
    "\n",
    "# Shade time when stimulus was on\n",
    "plt.axvspan(stim_on, stim_off, alpha=0.5, color='greenyellow')\n",
    "\n",
    "# select just data for intensity level 9\n",
    "dat = spikes[spikes['Intensity'] == 9]\n",
    "\n",
    "# Draw the raster one trial at a time\n",
    "for trial in dat['Trial'].unique():\n",
    "    # get spike times for this trial\n",
    "    spike_times = dat[dat['Trial'] == trial]['SpikeTime']\n",
    "    # Draw the raster\n",
    "    ax.vlines(spike_times, \n",
    "              trial - 0.4, trial + 0.4)\n",
    "\n",
    "plt.show()"
   ]
  },
  {
   "cell_type": "raw",
   "metadata": {},
   "source": [
    "We can see right away that there does seem to be a relationship between stimulation and spiking, since there are more ticks during the \"on\" (shapded) time than before it."
   ]
  },
  {
   "cell_type": "markdown",
   "metadata": {},
   "source": [
    "### PSTH \n",
    "\n",
    "Now we can draw a PSTH for this intensity level. We're going to draw this differently from before, using Matplotlib's built-in `.hist()` method:"
   ]
  },
  {
   "cell_type": "code",
   "execution_count": 161,
   "metadata": {},
   "outputs": [
    {
     "data": {
      "image/png": "[encoded data removed]",
      "text/plain": [
       "<Figure size 432x288 with 1 Axes>"
      ]
     },
     "metadata": {
      "needs_background": "light"
     },
     "output_type": "display_data"
    }
   ],
   "source": [
    "fig, ax = plt.subplots()\n",
    "\n",
    "# Shade time when stimulus was on\n",
    "plt.axvspan(stim_on, stim_off, alpha=0.5, color='greenyellow')\n",
    "\n",
    "dat['SpikeTime'].plot(kind='hist')\n",
    "\n",
    "plt.show()"
   ]
  },
  {
   "cell_type": "markdown",
   "metadata": {},
   "source": [
    "### Combine raster and PSTH"
   ]
  },
  {
   "cell_type": "code",
   "execution_count": 159,
   "metadata": {
    "collapsed": false,
    "jupyter": {
     "outputs_hidden": false
    }
   },
   "outputs": [
    {
     "data": {
      "image/png": "[encoded data removed]",
      "text/plain": [
       "<Figure size 1080x288 with 2 Axes>"
      ]
     },
     "metadata": {
      "needs_background": "light"
     },
     "output_type": "display_data"
    }
   ],
   "source": [
    "# here we hard-code the figure dimensions (x, y) to control the way the plot looks\n",
    "fig, axs = plt.subplots(1, 2, figsize=[15, 4])\n",
    "\n",
    "# Shade time when stimulus was on\n",
    "axs[0].axvspan(stim_on, stim_off, alpha=0.5, color='greenyellow')\n",
    "\n",
    "# select just data for intensity level 9\n",
    "dat = spikes[spikes['Intensity'] == 9]\n",
    "\n",
    "# Draw the raster one trial at a time\n",
    "for trial in dat['Trial'].unique():\n",
    "    # get spike times for this trial\n",
    "    spike_times = dat[dat['Trial'] == trial]['SpikeTime']\n",
    "    # Draw the raster\n",
    "    axs[0].vlines(spike_times, \n",
    "              trial - 0.4, trial + 0.4)\n",
    "\n",
    "    \n",
    "# Shade time when stimulus was on\n",
    "axs[1].axvspan(stim_on, stim_off, alpha=0.5, color='greenyellow')\n",
    "axs[1].hist(dat['SpikeTime'])\n",
    "\n",
    "plt.show()"
   ]
  },
  {
   "cell_type": "markdown",
   "metadata": {},
   "source": [
    "### Looping Through Intensity Levels"
   ]
  },
  {
   "cell_type": "markdown",
   "metadata": {},
   "source": [
    "Now we can embed the plot commands above into a loop through all intensity levels. We'll plot each raster and PSTH as a row in a figure with 10 rows (intensity levels) and 2 columns. This will involve using more variables and indexing."
   ]
  },
  {
   "cell_type": "code",
   "execution_count": 14,
   "metadata": {
    "collapsed": false,
    "jupyter": {
     "outputs_hidden": false
    }
   },
   "outputs": [
    {
     "data": {
      "image/png": "[encoded data removed]",
      "text/plain": [
       "<Figure size 1080x720 with 20 Axes>"
      ]
     },
     "metadata": {
      "needs_background": "light"
     },
     "output_type": "display_data"
    }
   ],
   "source": [
    "fig = plt.figure(figsize=[15, 10])\n",
    "\n",
    "# Rather than hard-coding the number of intensities, we derive the number of levels \n",
    "#   from the structure of the data. This ensures that our code is robust if we later \n",
    "#   want to use it with different-sized data sets. \n",
    "num_intensities = len(ten_intensities)\n",
    "\n",
    "# Now we loop through the ten_intensities dictionary, indexing it by the keys\n",
    "for key in ten_intensities.keys():\n",
    "\n",
    "    # Raster plots\n",
    "    \n",
    "    # The line below sets the subplot in which to graph the data from a particular \n",
    "    # intensity level. Although dictionaries are not ordered, the resulting plot has the \n",
    "    # intensities ordered from lowest to highest. This works because the dictionary keys\n",
    "    # in this case start with the intensity levels, as numerals. The third argument to \n",
    "    # plot_subplot - which specifies which plot we're drawing into - is obtained by slicing\n",
    "    # the name of the key to extract the first character (the number) and converting it from\n",
    "    # a string to a number (int). \n",
    "    \n",
    "    # Another thing to note is that the rows are selected by mutiplying the intensity \n",
    "    # levels by two, then adding one. The +1 is because (in an exception to what is typical \n",
    "    # in Python) matplotlib figure subplots are numbered from 1 rather than zero. So intensity \n",
    "    # level 0 goes in row 1 of the plot. Mutiplying by 2 is because we have two columns \n",
    "    # in the plot, and the subplots are numbered sequentially (i.e., subplot 2 is first \n",
    "    # row, second column, subplot 3 is first column second row, etc.). It's worth taking the \n",
    "    # time to think through the math for this, as it can be quite effective and flexible.\n",
    "\n",
    "    ax = plt.subplot(num_intensities, 2, int(key[0]) * 2 + 1)\n",
    " \n",
    "    # Plot the raster\n",
    "    for trial in range(10): \n",
    "        plt.vlines(ten_intensities[key][trial], trial, trial + 1)\n",
    "\n",
    "    # Each trial was 20 s long, but the maximum latency (time of last spike) on each trial \n",
    "    # may be less than 20. We hard-code the length of the x axis so that across the different \n",
    "    # intensitiy levels, the x axis is always exactly 20 s long.\n",
    "    plt.xlim([0, 20])\n",
    "    \n",
    "    # Label the y axis with the intensity level\n",
    "    plt.ylabel('Int.  ' + str(key[0]), fontsize=10)\n",
    "    \n",
    "    # The line below sets the intensity of the green shading (indicating when the stimulus\n",
    "    # was on) according to the intensity of the stimulus. This is done using the alpha \n",
    "    # argument to plt.axvspan. Alpha sets the transparency of a visual element, over a \n",
    "    # range from 0 (transparent) to 1 (opaque). So by multiplying by 0.1 we turn the \n",
    "    # intensity values (which range from 0 to 9) into acceptable alpha values.\n",
    "    plt.axvspan(5, 14, alpha=0.1*float(key[0]), color='g')\n",
    "          \n",
    "    # PSTHs    \n",
    "    # Specify the subplot for the second column in the row for this intensity\n",
    "    ax = plt.subplot(num_intensities, 2, int(key[0]) * 2 + 2)\n",
    "    \n",
    "    # add shading proportional to the intesity\n",
    "    plt.axvspan(5, 14, alpha=0.1*float(key[0]), color='g')\n",
    "    \n",
    "    # Generate one long list of all the values (since for a histogram we don't \n",
    "    # care which trial the data came from, we want to collapse over the trials)\n",
    "    spike_times = [a for b in ten_intensities[key] for a in b] \n",
    "    \n",
    "    # Make a histogram of the values. The range(20) argument ignores any data \n",
    "    # from time points past 20 s. Don't draw the histogram but return it as two variables. \n",
    "    spike_count, bins = np.histogram(spike_times, bins=range(20))\n",
    "    \n",
    "    # Draw the histogram with bins on the x axis and bar height as the y axis:\n",
    "    plt.bar(bins[:-1], spike_count)\n",
    "\n",
    "    plt.xlim([0, 20])\n",
    "        \n",
    "plt.show();"
   ]
  },
  {
   "cell_type": "markdown",
   "metadata": {},
   "source": [
    "### Making it Pretty\n",
    "\n",
    "This shows us the data, but it's pretty messy-looking. In particular, the plots overlap with other plots' axis labels, and those are redundant anyway - we can just put the times on the bottom of the plot since they're the same for all plots. We can also add more labels to help make the plot more interpretable by others.\n",
    "\n",
    "Another thing we'll do below is convert all the histograms from showing the raw number of spikes, to the probability of spiking (percentage of trials that a spike occurred at that time), which will help standardize the y axis of the histograms (i.e., all plots will be on the same scale). To help with this, note the third line of code in the cell below, which sets the number of trials. Then when we get to the `plot.bar()` command, we divide the `spike_count` by the number of trials. "
   ]
  },
  {
   "cell_type": "code",
   "execution_count": 15,
   "metadata": {
    "collapsed": false,
    "jupyter": {
     "outputs_hidden": false
    }
   },
   "outputs": [
    {
     "data": {
      "image/png": "[encoded data removed]",
      "text/plain": [
       "<Figure size 1080x720 with 20 Axes>"
      ]
     },
     "metadata": {
      "needs_background": "light"
     },
     "output_type": "display_data"
    }
   ],
   "source": [
    "fig = plt.figure(figsize=[15, 10])\n",
    "num_intensities = len(ten_intensities)\n",
    "num_trials = 10\n",
    "\n",
    "for key in ten_intensities.keys():\n",
    "\n",
    "    # Raster plots\n",
    "    # The line below sets the subplot in which to graph the data from a particular \n",
    "    # intensity level. Although dictionaries are not ordered, the resulting plot has the \n",
    "    # intensities ordered from lowest to highest. This works because the dictionary keys\n",
    "    # in this case are the intensity levels, as numerals. So when we select the first \n",
    "    # character in the key (key[0]) and convert it to float, Python will select the \n",
    "    # approriate row of the figure to plot the data in. \n",
    "    # Another thing to note is that the rows are selected by mutiplying the intensity \n",
    "    # levels by two, then adding one. The +1 is because, in an exception to what is typical \n",
    "    # in Python, figure subplots are numbered from 1 rather than zero. So intensity \n",
    "    # level 0 goes in row 1 of the plot. Mutiplying by 2 is because we have two columns \n",
    "    # in the plot, and the subplots are numbered sequentially (i.e., subplot 2 is first \n",
    "    # row, second column, subplot 3 is first column second row, etc.)\n",
    "\n",
    "    ax = plt.subplot(num_intensities, 2, int(key[0]) * 2 + 1)\n",
    " \n",
    "    for trial in range(10): \n",
    "        plt.vlines(ten_intensities[key][trial], trial, trial + 1)\n",
    "    plt.xlim([0, 20])\n",
    "    plt.ylabel('Inten.  ' + str(key[0]), fontsize=10)\n",
    "    plt.yticks(fontsize=8)\n",
    "    \n",
    "    # The line below sets the intensity of the green shading (indicating when the stimulus\n",
    "    # was on) according to the intensity of the stimulus. This is done using the alpha \n",
    "    # argument to plt.axvspan. Alpha sets the transparency of a visual element, over a \n",
    "    # range from 0 (transparent) to 1 (opaque). So by multiplying by 0.1 we turn the \n",
    "    # intensity values (which range from 0 to 9) into acceptable alpha values.\n",
    "    plt.axvspan(5, 14, alpha=0.1*float(key[0]), color='g')\n",
    "    \n",
    "    # Place x ticks and x label only below bottom row of plots:    \n",
    "    if float(key[0]) < 9:\n",
    "        plt.xlabel('')\n",
    "        plt.xticks([])\n",
    "    else:\n",
    "        plt.xlabel('Time (ms)')\n",
    "        \n",
    "    # Add title only above top row (intensity 0):\n",
    "    if float(key[0]) == 0:\n",
    "        plt.title('Raster plot of spiking for each intensity',fontsize=10)\n",
    "        \n",
    "    # PSTHs    \n",
    "    ax=plt.subplot(num_intensities, 2, int(key[0]) * 2 + 2)\n",
    "    plt.axvspan(5, 14, alpha=0.1*float(key[0]), color='g')\n",
    "    \n",
    "    # Next line is an interesting list comprehension that takes the list of lists, \n",
    "    # and outputs one long list of all the values (since for a histogram we don't \n",
    "    # care which trial the data came from, we want to collapse over the trials)\n",
    "    spike_times = [a for b in ten_intensities[key] for a in b] \n",
    "    \n",
    "    # Make a histogram of the values. The range(20) argument ignores any data \n",
    "    # from time points past 20 s. Don't draw the histogram but return it as two variables. \n",
    "    # According to its API, np.histogram returns the values of the histogram as an array, \n",
    "    # and the bin edges\n",
    "    spike_count, bins = np.histogram(spike_times, bins=range(20))\n",
    "    \n",
    "    # Compute probability for the histogram by dividing spike_count by number of trials\n",
    "    plt.bar(bins[:-1], spike_count / num_trials)\n",
    "    plt.xlim([0, 20])\n",
    "    plt.ylim([0, 1])\n",
    "    plt.yticks(fontsize=8)\n",
    "    plt.ylabel('Spike probability', style='italic', fontsize = 6)\n",
    "\n",
    "    # place title only above the first row of plots:\n",
    "    if float(key[0]) == 0:\n",
    "        plt.title('PSTH for each intensity', fontsize=10)\n",
    "        \n",
    "    # Place x ticks and x label only below bottom row of plots:    \n",
    "    if float(key[0]) < num_intensities-1:\n",
    "        plt.xlabel('')\n",
    "        plt.xticks([])\n",
    "    else:\n",
    "        plt.xlabel('Time (ms)')\n",
    "        \n",
    "plt.show();"
   ]
  },
  {
   "cell_type": "markdown",
   "metadata": {},
   "source": [
    "### Nested list comprehension\n",
    "\n",
    "I commented on it above, but this line is interesting and warrants deeper understanding:\n",
    "\n",
    "    [a for b in ten_intensities[key] for a in b] \n",
    "\n",
    "This is **nested list comprehension**, which applies list comprehension to lists of lists. As noted earlier, each entry in the `ten_intensities` dictionary is a list containing 10 lists, one for each trial:"
   ]
  },
  {
   "cell_type": "code",
   "execution_count": 16,
   "metadata": {},
   "outputs": [
    {
     "data": {
      "text/plain": [
       "[[83.0, 41.0],\n",
       " [14.0, 87.0, 18.0, 84.0],\n",
       " [24.0, 51.0, 66.0, 86.0, 96.0],\n",
       " [26.0, 14.0, 51.0, 20.0, 50.0, 23.0],\n",
       " [14.0, 27.0, 60.0, 45.0, 56.0, 58.0, 60.0],\n",
       " [48.0, 18.0, 40.0, 43.0],\n",
       " [13.0, 46.0, 47.0, 90.0],\n",
       " [33.0, 61.0, 55.0, 64.0, 56.0],\n",
       " [72.0, 64.0, 45.0, 82.0],\n",
       " [34.0, 74.0, 71.0, 53.0]]"
      ]
     },
     "execution_count": 16,
     "metadata": {},
     "output_type": "execute_result"
    }
   ],
   "source": [
    "ten_intensities['0_intensity']"
   ]
  },
  {
   "cell_type": "markdown",
   "metadata": {},
   "source": [
    "In its simplest form, as used here, nested list comprehension is a way to convert a list of lists to one long list.\n",
    "\n",
    "The syntax probably looks confusing, to say the least! But it's relatively simple once you learn to read it. In the code\n",
    "\n",
    "    [a for b in ten_intensities[key] for a in b] \n",
    "\n",
    "`b` stands for each item (list) in the list of lists, and `a` stands for the individual items within `b`. For example, in `ten_intensities['0_intensity']` as shown above, for the first item `b` would be `[83.0, 41.0]` and `a` would be `83.0` and `41.0`. So we could read this as \"Return `a` (values) for `b` (lists) in ten_intensities[key] (list of lists) for all items (`a`) in each list (`b`)\". Since there are square brackets around the entire expression, the result is a list of all these values.\n",
    "\n",
    "As we see below, if we run this nested list comprehension on the `0_intensity` dictionary values, we get one long list with all the values from the list of lists above, sequentially:"
   ]
  },
  {
   "cell_type": "code",
   "execution_count": 17,
   "metadata": {
    "scrolled": true
   },
   "outputs": [
    {
     "data": {
      "text/plain": [
       "[83.0,\n",
       " 41.0,\n",
       " 14.0,\n",
       " 87.0,\n",
       " 18.0,\n",
       " 84.0,\n",
       " 24.0,\n",
       " 51.0,\n",
       " 66.0,\n",
       " 86.0,\n",
       " 96.0,\n",
       " 26.0,\n",
       " 14.0,\n",
       " 51.0,\n",
       " 20.0,\n",
       " 50.0,\n",
       " 23.0,\n",
       " 14.0,\n",
       " 27.0,\n",
       " 60.0,\n",
       " 45.0,\n",
       " 56.0,\n",
       " 58.0,\n",
       " 60.0,\n",
       " 48.0,\n",
       " 18.0,\n",
       " 40.0,\n",
       " 43.0,\n",
       " 13.0,\n",
       " 46.0,\n",
       " 47.0,\n",
       " 90.0,\n",
       " 33.0,\n",
       " 61.0,\n",
       " 55.0,\n",
       " 64.0,\n",
       " 56.0,\n",
       " 72.0,\n",
       " 64.0,\n",
       " 45.0,\n",
       " 82.0,\n",
       " 34.0,\n",
       " 74.0,\n",
       " 71.0,\n",
       " 53.0]"
      ]
     },
     "execution_count": 17,
     "metadata": {},
     "output_type": "execute_result"
    }
   ],
   "source": [
    "[a for b in ten_intensities['0_intensity'] for a in b] "
   ]
  },
  {
   "cell_type": "markdown",
   "metadata": {},
   "source": [
    "For a nice tutorial on list comprehension, culminating in nested list comprehension, check out [this DataCamp article](https://www.datacamp.com/community/tutorials/python-list-comprehension)."
   ]
  }
 ],
 "metadata": {
  "kernelspec": {
   "display_name": "Python 3 (ipykernel)",
   "language": "python",
   "name": "python3"
  },
  "language_info": {
   "codemirror_mode": {
    "name": "ipython",
    "version": 3
   },
   "file_extension": ".py",
   "mimetype": "text/x-python",
   "name": "python",
   "nbconvert_exporter": "python",
   "pygments_lexer": "ipython3",
   "version": "3.9.7"
  }
 },
 "nbformat": 4,
 "nbformat_minor": 4
}
