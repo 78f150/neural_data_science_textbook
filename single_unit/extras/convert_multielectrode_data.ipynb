{
 "cells": [
  {
   "cell_type": "code",
   "execution_count": 1,
   "id": "c829f29f-f037-4550-b768-88e3448deb9d",
   "metadata": {},
   "outputs": [],
   "source": [
    "import scipy.io\n",
    "import matplotlib.pyplot as plt\n",
    "import numpy as np\n",
    "import pandas as pd"
   ]
  },
  {
   "cell_type": "markdown",
   "id": "a190c1cf-68de-4549-8955-75d33e8e558f",
   "metadata": {
    "tags": []
   },
   "source": [
    "## Import the data\n"
   ]
  },
  {
   "cell_type": "code",
   "execution_count": 3,
   "id": "ea276afe-638a-4cb5-af97-2c8cea371a66",
   "metadata": {},
   "outputs": [],
   "source": [
    "data_in = scipy.io.loadmat('extras/arrayDATA.mat')"
   ]
  },
  {
   "cell_type": "markdown",
   "id": "792769b4-c627-4b46-92bc-3c800480c678",
   "metadata": {
    "tags": []
   },
   "source": [
    "## Convert Data to pandas DataFrame\n",
    "\n",
    "The code below uses list comprehension to loop through each trial's data and turn it into a pandas DataFrame. This results in a list of DataFrames, each being the data from one trial. We then use `pd.concat()` to convert the list of DataFrames to a single pandas DataFrame.\n",
    "\n",
    "This uses a couple of NumPy functions we haven't seen before. `np.c_` concatenates a series of NumPy objects into columns. We do this because we want to combine the three-column data array with additional columns that encode the orientation and trial number information. We create those latter columns using `np.repeat`, which generates a NumPy array by broadcasting (repeating) the input (first argument) a specified number of times (second argument; in this case, the length of the input NumPy data array, which we get as `data_in['DATA'][trial][0][0].shape[0]`)."
   ]
  },
  {
   "cell_type": "code",
   "execution_count": 4,
   "id": "2e1e0e7b-0a2b-4eaf-b3e8-a48077f344bf",
   "metadata": {},
   "outputs": [],
   "source": [
    "cols = ['channel', 'sort', 'time', 'orientation', 'trial']\n",
    "\n",
    "df_list = [pd.DataFrame(np.c_[data_in['DATA'][trial][0][0],\n",
    "                              np.repeat(data_in['DATA'][trial][0][1][0][0],\n",
    "                                        data_in['DATA'][trial][0][0].shape[0]),\n",
    "                              np.repeat(trial, \n",
    "                                        data_in['DATA'][trial][0][0].shape[0])\n",
    "                             ],\n",
    "                        columns=cols)\n",
    "           for trial in np.arange(data_in['DATA'].shape[0])]\n",
    "\n",
    "df = pd.concat(df_list)"
   ]
  },
  {
   "cell_type": "code",
   "execution_count": 5,
   "id": "d29103c7-747f-461c-8e72-569b0e442a5a",
   "metadata": {},
   "outputs": [
    {
     "data": {
      "text/html": [
       "<div>\n",
       "<style scoped>\n",
       "    .dataframe tbody tr th:only-of-type {\n",
       "        vertical-align: middle;\n",
       "    }\n",
       "\n",
       "    .dataframe tbody tr th {\n",
       "        vertical-align: top;\n",
       "    }\n",
       "\n",
       "    .dataframe thead th {\n",
       "        text-align: right;\n",
       "    }\n",
       "</style>\n",
       "<table border=\"1\" class=\"dataframe\">\n",
       "  <thead>\n",
       "    <tr style=\"text-align: right;\">\n",
       "      <th></th>\n",
       "      <th>channel</th>\n",
       "      <th>sort</th>\n",
       "      <th>time</th>\n",
       "      <th>orientation</th>\n",
       "      <th>trial</th>\n",
       "    </tr>\n",
       "  </thead>\n",
       "  <tbody>\n",
       "    <tr>\n",
       "      <th>0</th>\n",
       "      <td>20.0</td>\n",
       "      <td>1.0</td>\n",
       "      <td>0.624</td>\n",
       "      <td>90.0</td>\n",
       "      <td>0.0</td>\n",
       "    </tr>\n",
       "    <tr>\n",
       "      <th>1</th>\n",
       "      <td>20.0</td>\n",
       "      <td>1.0</td>\n",
       "      <td>0.630</td>\n",
       "      <td>90.0</td>\n",
       "      <td>0.0</td>\n",
       "    </tr>\n",
       "    <tr>\n",
       "      <th>2</th>\n",
       "      <td>20.0</td>\n",
       "      <td>3.0</td>\n",
       "      <td>0.652</td>\n",
       "      <td>90.0</td>\n",
       "      <td>0.0</td>\n",
       "    </tr>\n",
       "    <tr>\n",
       "      <th>3</th>\n",
       "      <td>20.0</td>\n",
       "      <td>3.0</td>\n",
       "      <td>0.659</td>\n",
       "      <td>90.0</td>\n",
       "      <td>0.0</td>\n",
       "    </tr>\n",
       "    <tr>\n",
       "      <th>4</th>\n",
       "      <td>20.0</td>\n",
       "      <td>255.0</td>\n",
       "      <td>0.686</td>\n",
       "      <td>90.0</td>\n",
       "      <td>0.0</td>\n",
       "    </tr>\n",
       "  </tbody>\n",
       "</table>\n",
       "</div>"
      ],
      "text/plain": [
       "   channel   sort   time  orientation  trial\n",
       "0     20.0    1.0  0.624         90.0    0.0\n",
       "1     20.0    1.0  0.630         90.0    0.0\n",
       "2     20.0    3.0  0.652         90.0    0.0\n",
       "3     20.0    3.0  0.659         90.0    0.0\n",
       "4     20.0  255.0  0.686         90.0    0.0"
      ]
     },
     "execution_count": 5,
     "metadata": {},
     "output_type": "execute_result"
    }
   ],
   "source": [
    "df.head()"
   ]
  },
  {
   "cell_type": "code",
   "execution_count": 6,
   "id": "0a18b771-7b1d-46df-91e0-45ad7143d981",
   "metadata": {},
   "outputs": [
    {
     "data": {
      "text/html": [
       "<div>\n",
       "<style scoped>\n",
       "    .dataframe tbody tr th:only-of-type {\n",
       "        vertical-align: middle;\n",
       "    }\n",
       "\n",
       "    .dataframe tbody tr th {\n",
       "        vertical-align: top;\n",
       "    }\n",
       "\n",
       "    .dataframe thead th {\n",
       "        text-align: right;\n",
       "    }\n",
       "</style>\n",
       "<table border=\"1\" class=\"dataframe\">\n",
       "  <thead>\n",
       "    <tr style=\"text-align: right;\">\n",
       "      <th></th>\n",
       "      <th>channel</th>\n",
       "      <th>sort</th>\n",
       "      <th>time</th>\n",
       "      <th>orientation</th>\n",
       "      <th>trial</th>\n",
       "    </tr>\n",
       "  </thead>\n",
       "  <tbody>\n",
       "    <tr>\n",
       "      <th>578</th>\n",
       "      <td>6.0</td>\n",
       "      <td>2.0</td>\n",
       "      <td>0.521</td>\n",
       "      <td>0.0</td>\n",
       "      <td>586.0</td>\n",
       "    </tr>\n",
       "    <tr>\n",
       "      <th>1409</th>\n",
       "      <td>16.0</td>\n",
       "      <td>1.0</td>\n",
       "      <td>2.573</td>\n",
       "      <td>0.0</td>\n",
       "      <td>1370.0</td>\n",
       "    </tr>\n",
       "    <tr>\n",
       "      <th>102</th>\n",
       "      <td>36.0</td>\n",
       "      <td>1.0</td>\n",
       "      <td>-0.257</td>\n",
       "      <td>90.0</td>\n",
       "      <td>1331.0</td>\n",
       "    </tr>\n",
       "    <tr>\n",
       "      <th>1013</th>\n",
       "      <td>75.0</td>\n",
       "      <td>255.0</td>\n",
       "      <td>1.381</td>\n",
       "      <td>0.0</td>\n",
       "      <td>859.0</td>\n",
       "    </tr>\n",
       "    <tr>\n",
       "      <th>136</th>\n",
       "      <td>75.0</td>\n",
       "      <td>0.0</td>\n",
       "      <td>-0.058</td>\n",
       "      <td>0.0</td>\n",
       "      <td>1123.0</td>\n",
       "    </tr>\n",
       "    <tr>\n",
       "      <th>251</th>\n",
       "      <td>14.0</td>\n",
       "      <td>255.0</td>\n",
       "      <td>0.179</td>\n",
       "      <td>0.0</td>\n",
       "      <td>1643.0</td>\n",
       "    </tr>\n",
       "    <tr>\n",
       "      <th>1452</th>\n",
       "      <td>20.0</td>\n",
       "      <td>255.0</td>\n",
       "      <td>2.298</td>\n",
       "      <td>90.0</td>\n",
       "      <td>629.0</td>\n",
       "    </tr>\n",
       "    <tr>\n",
       "      <th>1201</th>\n",
       "      <td>23.0</td>\n",
       "      <td>1.0</td>\n",
       "      <td>2.088</td>\n",
       "      <td>0.0</td>\n",
       "      <td>1099.0</td>\n",
       "    </tr>\n",
       "    <tr>\n",
       "      <th>990</th>\n",
       "      <td>87.0</td>\n",
       "      <td>1.0</td>\n",
       "      <td>1.599</td>\n",
       "      <td>90.0</td>\n",
       "      <td>1594.0</td>\n",
       "    </tr>\n",
       "    <tr>\n",
       "      <th>1202</th>\n",
       "      <td>44.0</td>\n",
       "      <td>0.0</td>\n",
       "      <td>2.397</td>\n",
       "      <td>0.0</td>\n",
       "      <td>1177.0</td>\n",
       "    </tr>\n",
       "    <tr>\n",
       "      <th>801</th>\n",
       "      <td>86.0</td>\n",
       "      <td>1.0</td>\n",
       "      <td>1.133</td>\n",
       "      <td>0.0</td>\n",
       "      <td>2170.0</td>\n",
       "    </tr>\n",
       "    <tr>\n",
       "      <th>1256</th>\n",
       "      <td>36.0</td>\n",
       "      <td>1.0</td>\n",
       "      <td>2.120</td>\n",
       "      <td>0.0</td>\n",
       "      <td>2115.0</td>\n",
       "    </tr>\n",
       "  </tbody>\n",
       "</table>\n",
       "</div>"
      ],
      "text/plain": [
       "      channel   sort   time  orientation   trial\n",
       "578       6.0    2.0  0.521          0.0   586.0\n",
       "1409     16.0    1.0  2.573          0.0  1370.0\n",
       "102      36.0    1.0 -0.257         90.0  1331.0\n",
       "1013     75.0  255.0  1.381          0.0   859.0\n",
       "136      75.0    0.0 -0.058          0.0  1123.0\n",
       "251      14.0  255.0  0.179          0.0  1643.0\n",
       "1452     20.0  255.0  2.298         90.0   629.0\n",
       "1201     23.0    1.0  2.088          0.0  1099.0\n",
       "990      87.0    1.0  1.599         90.0  1594.0\n",
       "1202     44.0    0.0  2.397          0.0  1177.0\n",
       "801      86.0    1.0  1.133          0.0  2170.0\n",
       "1256     36.0    1.0  2.120          0.0  2115.0"
      ]
     },
     "execution_count": 6,
     "metadata": {},
     "output_type": "execute_result"
    }
   ],
   "source": [
    "df.sample(12)"
   ]
  },
  {
   "cell_type": "code",
   "execution_count": 9,
   "id": "72a156f9-31e7-470d-9de0-b5f09a7b409a",
   "metadata": {},
   "outputs": [
    {
     "data": {
      "text/plain": [
       "(2340739, 5)"
      ]
     },
     "execution_count": 9,
     "metadata": {},
     "output_type": "execute_result"
    }
   ],
   "source": [
    "df.shape"
   ]
  },
  {
   "cell_type": "markdown",
   "id": "6719d191-ee6b-496f-9b9d-7a1554cb8a12",
   "metadata": {
    "tags": []
   },
   "source": [
    "### Clean the data\n",
    "\n",
    "We know from the provider of the data that sort codes 0 and 255 represent bad data, so above we defined these as `noise_codes`. Here we remove all rows that have these sort codes. Note that the `~` operator in front of a statement means \"not\". So here we are saying to keep in `df` only those rows where `sort` is *not* equal to one of the `noise_codes`."
   ]
  },
  {
   "cell_type": "code",
   "execution_count": 8,
   "id": "cb8e2fab-0227-4148-9030-d9866d907773",
   "metadata": {},
   "outputs": [],
   "source": [
    "noise_codes = [0, 255] # explained later\n",
    "\n",
    "df = df[~df['sort'].isin(noise_codes)]"
   ]
  },
  {
   "cell_type": "code",
   "execution_count": 9,
   "id": "15a4fccd-cf92-420f-8774-cc11fc75f3d3",
   "metadata": {},
   "outputs": [
    {
     "data": {
      "text/plain": [
       "(2340739, 5)"
      ]
     },
     "execution_count": 9,
     "metadata": {},
     "output_type": "execute_result"
    }
   ],
   "source": [
    "df.shape"
   ]
  },
  {
   "cell_type": "code",
   "execution_count": 11,
   "id": "78e76b0c-d46b-4755-b2d4-267ad07250f0",
   "metadata": {},
   "outputs": [
    {
     "data": {
      "text/plain": [
       "array([20., 42., 72., 94., 53.,  1.,  6., 37., 10., 63., 66., 74., 77.,\n",
       "       22., 39., 84., 38., 85., 15., 55., 81., 86., 69., 40., 11., 23.,\n",
       "       19., 79., 80., 60., 76., 90., 87.,  9., 61., 75., 35., 17., 64.,\n",
       "       46., 71., 89., 58., 44.,  2., 49., 91., 78., 65., 18., 96., 25.,\n",
       "       36., 33., 88., 43., 29., 12.,  7., 93., 41., 30., 92.,  5., 83.,\n",
       "       14.,  8., 45.,  4., 24., 13., 67., 62., 16., 82., 48., 51., 50.,\n",
       "       54., 57., 73.,  3., 26., 47., 70., 59., 52., 27., 95., 32., 28.])"
      ]
     },
     "execution_count": 11,
     "metadata": {},
     "output_type": "execute_result"
    }
   ],
   "source": [
    "df['channel'].unique()"
   ]
  },
  {
   "cell_type": "markdown",
   "id": "b62e7aee-a827-4b42-90db-74a75db2f914",
   "metadata": {},
   "source": [
    "## Export data to CSV"
   ]
  },
  {
   "cell_type": "code",
   "execution_count": null,
   "id": "c3a3bbf6-5e2f-4b28-8ca3-a194b0326f38",
   "metadata": {},
   "outputs": [],
   "source": [
    "df.to_csv('data/multielectrode_data.csv')"
   ]
  },
  {
   "cell_type": "code",
   "execution_count": 12,
   "id": "cc42be65-ca7f-4dba-93d9-ed75942f0178",
   "metadata": {},
   "outputs": [],
   "source": [
    "# Some new stuff"
   ]
  },
  {
   "cell_type": "code",
   "execution_count": null,
   "id": "e11bb264-7fcc-450d-a9fd-16bfd10f0cdf",
   "metadata": {},
   "outputs": [],
   "source": []
  }
 ],
 "metadata": {
  "kernelspec": {
   "display_name": "Python 3 (ipykernel)",
   "language": "python",
   "name": "python3"
  },
  "language_info": {
   "codemirror_mode": {
    "name": "ipython",
    "version": 3
   },
   "file_extension": ".py",
   "mimetype": "text/x-python",
   "name": "python",
   "nbconvert_exporter": "python",
   "pygments_lexer": "ipython3",
   "version": "3.9.7"
  }
 },
 "nbformat": 4,
 "nbformat_minor": 5
}
