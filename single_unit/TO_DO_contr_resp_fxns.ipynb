{
 "cells": [
  {
   "cell_type": "markdown",
   "metadata": {},
   "source": [
    "# Contrast Response Functions\n",
    "\n",
    "- Stimulus contrast can be plotted against the mean spike rate (2000–3000 ms in this data) to produce a contrast response function, which is a roughly sigmoid shaped function.\n",
    "- If you plot control and adapted contrast response functions you will find that adaptation \"squishes\" the contrast responses downwards (firing is attenuated following adaptation) and rightward (it takes higher contrasts to elicit a desired spike rate).\n",
    "\n"
   ]
  },
  {
   "cell_type": "code",
   "execution_count": null,
   "metadata": {},
   "outputs": [],
   "source": []
  }
 ],
 "metadata": {
  "kernelspec": {
   "display_name": "Python 3",
   "language": "python",
   "name": "python3"
  },
  "language_info": {
   "codemirror_mode": {
    "name": "ipython",
    "version": 3
   },
   "file_extension": ".py",
   "mimetype": "text/x-python",
   "name": "python",
   "nbconvert_exporter": "python",
   "pygments_lexer": "ipython3",
   "version": "3.7.9"
  }
 },
 "nbformat": 4,
 "nbformat_minor": 4
}
