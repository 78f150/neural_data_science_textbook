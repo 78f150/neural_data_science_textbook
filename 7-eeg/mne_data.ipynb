{
 "cells": [
  {
   "cell_type": "markdown",
   "id": "80a188ea-1c3d-410e-8e62-69164f019ac1",
   "metadata": {},
   "source": [
    "# Exploring MNE's data structure\n",
    "---\n",
    "\n",
    "## Learning Objectives\n",
    "- Import raw EEG data using MNE\n",
    "- Examine the structure of an MNE `Raw` object\n",
    "- Access and view different attributes of a `Raw` data object\n",
    "- Visualize the positions of EEG electrodes \n",
    "\n",
    "\n",
    "---\n",
    "## Introduction\n",
    "\n",
    "In this lesson, we will load a raw EEG data file using MNE and gain an understanding of how MNE stores data. This is an important first step to working with data in MNE.\n"
   ]
  },
  {
   "cell_type": "markdown",
   "id": "9f49c294-5e2c-4678-ba98-3601061b1170",
   "metadata": {
    "tags": []
   },
   "source": [
    "## Load packages"
   ]
  },
  {
   "cell_type": "code",
   "execution_count": 1,
   "id": "6a2ddc56-2655-4f02-8b13-96a47db5da5d",
   "metadata": {},
   "outputs": [],
   "source": [
    "import mne\n",
    "mne.set_log_level('error')\n",
    "\n",
    "import numpy as np\n",
    "import matplotlib.pyplot as plt\n",
    "import glob"
   ]
  },
  {
   "cell_type": "markdown",
   "id": "6b8536e9",
   "metadata": {},
   "source": [
    "<div class=\"alert alert-block alert-info\">\n",
    "\n",
    "In the above cell, we ran a command after importing mne, `mne.set_log_level('error')`. If you don't run this when using MNE, you will find that MNE provides a lot output, and often including some concerning-looking Python warning messages. Most of these warnings are safely ignored. I generally find this output more confusing than helpful, and turn it off routinely. For our lessons we will keep the output off because it just creates confusion.\n",
    "</div>"
   ]
  },
  {
   "cell_type": "markdown",
   "id": "181aebf8-1b36-4d1a-8fb6-3d1ffdebd19b",
   "metadata": {},
   "source": [
    "## Import raw data\n",
    "\n",
    "For EEG, raw data is typically stored in a single file containing continuous EEG data. There are many different file formats for EEG data; most of these are developed by the manufacturer or a particular EEG system. Fortunately, MNE provides functions to import data from most common EEG systems. \n",
    "\n",
    "In the present case, we are working with data from a system sold by Brain Products, whose software is called *Brain Vision*. So we will use MNE's `read_raw_brainvision()` function. The Brain Vision format actually specifies *three files* for any given data set, as we can see if we look for all the file names in the `data` subfolder that start with the subject ID code for our data set, `P4`:"
   ]
  },
  {
   "cell_type": "code",
   "execution_count": 2,
   "id": "89e41c07-8dcb-4d0f-bcde-99024e4b57c6",
   "metadata": {},
   "outputs": [
    {
     "data": {
      "text/plain": [
       "['data/N400_dataset_04.vhdr',\n",
       " 'data/N400_dataset_04.vmrk',\n",
       " 'data/N400_dataset_04.eeg']"
      ]
     },
     "execution_count": 2,
     "metadata": {},
     "output_type": "execute_result"
    }
   ],
   "source": [
    "glob.glob('data/N400_dataset_04*')"
   ]
  },
  {
   "cell_type": "markdown",
   "id": "2a25b8c5-eda6-41dc-8142-80600799778c",
   "metadata": {},
   "source": [
    "The three files are all created at the time that the EEG data is acquired, and it's important to ensure that all three are copied when moving them around. The files are as follows:\n",
    "- `*.eeg` is the actual EEG data (electrical potential measurements for all electrodes, at all time points). This is stored in a compressed (binary) format\n",
    "- `*.vmrk` is a text file containing all of the markers (*trigger codes*) that were sent to the EEG system during data collection, by the stimulus computer. These typically encode the onset of various stimuli, and times of any responses by the participant, as well as and what each stimulus/response was. \n",
    "- `*.vhdr` is a text file with header information, or **metadata** about the data set, including technical details such as the sampling rate, and the settings of the EEG amplifier during the recording. The `.vhdr` file is particularly important because it specifies the file names of the `.eeg` and `.vmrk` files (although they should always be named consistently with the header file). \n",
    "\n",
    "When we run `read_raw_brainvision()` the file we will actually pass as an argument is the `.vhdr` file. Since it specifies the names of the associated `.eeg` and `.vmrk` files, from this file MNE can find the data and markers.\n",
    "\n",
    "As described previously, many of MNE's functions are nested inside subfolders (modules); for example, all of the file input-output (I/O) routines are in the module `mne.io`. So when we call the `read_raw_brainvision()` function, we have to do so as `mne.io.read_raw_brainvision()`. The one required argument for this function is the file name, and that's all we need for now: "
   ]
  },
  {
   "cell_type": "code",
   "execution_count": 2,
   "id": "58516da4-96c2-4552-93dd-99df86731bb2",
   "metadata": {},
   "outputs": [],
   "source": [
    "raw = mne.io.read_raw_brainvision('data/N400_dataset_04.vhdr')"
   ]
  },
  {
   "cell_type": "markdown",
   "id": "40f30d27-7ccf-427a-82e8-4bd3d31a6293",
   "metadata": {},
   "source": [
    "### View raw data attributes\n",
    "\n",
    "We now have our raw EEG data represented in Python as an MNE `Raw` object. We can view it's basic information by asking for the `.info` property:"
   ]
  },
  {
   "cell_type": "code",
   "execution_count": 4,
   "id": "fd09952e-1a6a-4485-85e2-e3f349ade412",
   "metadata": {},
   "outputs": [
    {
     "data": {
      "text/html": [
       "\n",
       "<table class=\"table table-hover table-striped table-sm table-responsive small\">\n",
       "    <tr>\n",
       "        <th>Measurement date</th>\n",
       "        <td>March 08, 2000  09:05:29 GMT</td>\n",
       "        \n",
       "    </tr>\n",
       "    <tr>\n",
       "        <th>Experimenter</th>\n",
       "<td>Unknown</td>\n",
       "    </tr>\n",
       "        <th>Participant</th>\n",
       "<td>Unknown</td>\n",
       "    </tr>\n",
       "    <tr>\n",
       "        <th>Digitized points</th>\n",
       "        <td>Not available</td>\n",
       "    </tr>\n",
       "    <tr>\n",
       "        <th>Good channels</th>\n",
       "        <td>16 EEG</td>\n",
       "    </tr>\n",
       "    <tr>\n",
       "        <th>Bad channels</th>\n",
       "        <td>None</td>\n",
       "    </tr>\n",
       "    <tr>\n",
       "        <th>EOG channels</th>\n",
       "        <td>Not available</td>\n",
       "    </tr>\n",
       "    <tr>\n",
       "        <th>ECG channels</th>\n",
       "        <td>Not available</td>\n",
       "    <tr>\n",
       "        <th>Sampling frequency</th>\n",
       "        <td>500.00 Hz</td>\n",
       "    </tr>\n",
       "    <tr>\n",
       "        <th>Highpass</th>\n",
       "        <td>0.01 Hz</td>\n",
       "    </tr>\n",
       "    <tr>\n",
       "        <th>Lowpass</th>\n",
       "        <td>80.00 Hz</td>\n",
       "    </tr>\n",
       "</table>\n"
      ],
      "text/plain": [
       "<Info | 7 non-empty values\n",
       " bads: []\n",
       " ch_names: Fp1, F3, F7, C3, P3, TP9, Fz, Cz, Fp2, F4, F8, C4, P4, TP10, Pz, Oz\n",
       " chs: 16 EEG\n",
       " custom_ref_applied: False\n",
       " highpass: 0.0 Hz\n",
       " lowpass: 80.0 Hz\n",
       " meas_date: 2000-03-08 09:05:29 UTC\n",
       " nchan: 16\n",
       " projs: []\n",
       " sfreq: 500.0 Hz\n",
       ">"
      ]
     },
     "execution_count": 4,
     "metadata": {},
     "output_type": "execute_result"
    }
   ],
   "source": [
    "raw.info"
   ]
  },
  {
   "cell_type": "markdown",
   "id": "f6a269c9-f80e-4e8d-9b11-4e3335613f3f",
   "metadata": {},
   "source": [
    "Although some of the information is not available, this shows us a few important things about our data set, including that there are 16 EEG channels (each channel contains the data from one EEG electrode), that the sampling rate is 500 Hz (i.e., EEG data were sampled 500 times per second, so we have a data point every 2 ms), and that the data were filtered during data collection between 0.01–80 Hz (more on filtering below).\n",
    "\n",
    "The information provided above is actually a subset of the information stored in the `Raw` object's `info`. We can use the `.keys()` method to see all of the fields available in `info`:"
   ]
  },
  {
   "cell_type": "code",
   "execution_count": 5,
   "id": "51533952-d21c-4570-a350-ba151f707b2a",
   "metadata": {},
   "outputs": [
    {
     "data": {
      "text/plain": [
       "dict_keys(['acq_pars', 'acq_stim', 'ctf_head_t', 'description', 'dev_ctf_t', 'dig', 'experimenter', 'utc_offset', 'device_info', 'file_id', 'highpass', 'hpi_subsystem', 'kit_system_id', 'helium_info', 'line_freq', 'lowpass', 'meas_date', 'meas_id', 'proj_id', 'proj_name', 'subject_info', 'xplotter_layout', 'gantry_angle', 'bads', 'chs', 'comps', 'events', 'hpi_meas', 'hpi_results', 'projs', 'proc_history', 'custom_ref_applied', 'sfreq', 'dev_head_t', 'ch_names', 'nchan'])"
      ]
     },
     "execution_count": 5,
     "metadata": {},
     "output_type": "execute_result"
    }
   ],
   "source": [
    "raw.info.keys()"
   ]
  },
  {
   "cell_type": "markdown",
   "id": "05628b30-1567-4ce9-a7aa-6a4893e1b6c4",
   "metadata": {},
   "source": [
    "We can access the values stored with any of these info attributes by putting it in square brackets, like this command to access the names of all of the channels (electrodes) in the data set:"
   ]
  },
  {
   "cell_type": "code",
   "execution_count": 6,
   "id": "0c718ce2-8d39-48b0-a988-058fbc0f5638",
   "metadata": {},
   "outputs": [
    {
     "data": {
      "text/plain": [
       "['Fp1',\n",
       " 'F3',\n",
       " 'F7',\n",
       " 'C3',\n",
       " 'P3',\n",
       " 'TP9',\n",
       " 'Fz',\n",
       " 'Cz',\n",
       " 'Fp2',\n",
       " 'F4',\n",
       " 'F8',\n",
       " 'C4',\n",
       " 'P4',\n",
       " 'TP10',\n",
       " 'Pz',\n",
       " 'Oz']"
      ]
     },
     "execution_count": 6,
     "metadata": {},
     "output_type": "execute_result"
    }
   ],
   "source": [
    "raw.info['ch_names']"
   ]
  },
  {
   "cell_type": "markdown",
   "id": "54b95a16-31c7-412c-b120-784eba6f7043",
   "metadata": {},
   "source": [
    "The `info` is a snapshot of a few pieces of information that researchers may want to know about a data file, but it's far less than all the information stored in the MNE `Raw` object. To see the entire contents of the object, we can ask for it's `__dict__` (note that there are two underscores below `dict` and two after). Recall that `Raw` is a Python class, and any instance of the `Raw` class (such as our `raw` data here) is a Python object. Any Python object has an atrribute `__dict__`, and this attribute contains a dictionary of all of the object's attributes, with keys being the attribute names, and values being the information stored for that attribute."
   ]
  },
  {
   "cell_type": "code",
   "execution_count": 7,
   "id": "2a3e2259-7f81-453d-a048-e4c4e0af73f8",
   "metadata": {
    "tags": []
   },
   "outputs": [
    {
     "data": {
      "text/plain": [
       "{'preload': False,\n",
       " '_last_samps': array([682589]),\n",
       " '_first_samps': array([0]),\n",
       " 'info': <Info | 7 non-empty values\n",
       "  bads: []\n",
       "  ch_names: Fp1, F3, F7, C3, P3, TP9, Fz, Cz, Fp2, F4, F8, C4, P4, TP10, Pz, Oz\n",
       "  chs: 16 EEG\n",
       "  custom_ref_applied: False\n",
       "  highpass: 0.0 Hz\n",
       "  lowpass: 80.0 Hz\n",
       "  meas_date: 2000-03-08 09:05:29 UTC\n",
       "  nchan: 16\n",
       "  projs: []\n",
       "  sfreq: 500.0 Hz\n",
       " >,\n",
       " 'buffer_size_sec': 1.0,\n",
       " 'verbose': None,\n",
       " '_cals': array([4.88281e-08, 4.88281e-08, 4.88281e-08, 4.88281e-08, 4.88281e-08,\n",
       "        4.88281e-08, 4.88281e-08, 4.88281e-08, 4.88281e-08, 4.88281e-08,\n",
       "        4.88281e-08, 4.88281e-08, 4.88281e-08, 4.88281e-08, 4.88281e-08,\n",
       "        4.88281e-08]),\n",
       " '_raw_extras': [{'offsets': None,\n",
       "   'fmt': 'single',\n",
       "   'order': 'F',\n",
       "   'n_samples': 682590,\n",
       "   'orig_nchan': 16}],\n",
       " '_read_picks': [array([ 0,  1,  2,  3,  4,  5,  6,  7,  8,  9, 10, 11, 12, 13, 14, 15])],\n",
       " '_read_comp_grade': None,\n",
       " '_comp': None,\n",
       " '_filenames': ['/Users/aaron/3505/NESC_3505_textbook/eeg/data/N400_dataset_04.eeg'],\n",
       " 'orig_format': 'single',\n",
       " '_orig_units': {'Fp1': 'µV',\n",
       "  'F3': 'µV',\n",
       "  'F7': 'µV',\n",
       "  'C3': 'µV',\n",
       "  'P3': 'µV',\n",
       "  'TP9': 'µV',\n",
       "  'Fz': 'µV',\n",
       "  'Cz': 'µV',\n",
       "  'Fp2': 'µV',\n",
       "  'F4': 'µV',\n",
       "  'F8': 'µV',\n",
       "  'C4': 'µV',\n",
       "  'P4': 'µV',\n",
       "  'TP10': 'µV',\n",
       "  'Pz': 'µV',\n",
       "  'Oz': 'µV'},\n",
       " '_projectors': [],\n",
       " '_projector': None,\n",
       " '_dtype_': numpy.float64,\n",
       " '_annotations': <Annotations | 154 segments: Comment/actiCAP Data On (1), Comment/actiCAP ...>,\n",
       " '_init_kwargs': {'vhdr_fname': '/Users/aaron/3505/NESC_3505_textbook/eeg/data/N400_dataset_04.vhdr',\n",
       "  'eog': ('HEOGL', 'HEOGR', 'VEOGb'),\n",
       "  'misc': 'auto',\n",
       "  'scale': 1.0,\n",
       "  'preload': False,\n",
       "  'verbose': None},\n",
       " 'impedances': {}}"
      ]
     },
     "execution_count": 7,
     "metadata": {},
     "output_type": "execute_result"
    }
   ],
   "source": [
    "raw.__dict__"
   ]
  },
  {
   "cell_type": "markdown",
   "id": "254f8f0b-bb4a-4887-babe-e23e25182e7a",
   "metadata": {},
   "source": [
    "## Where's the data?\n",
    "\n",
    "For all the information that is in the output above, one thing you may have noticed is that there doesn't seem to be any actual EEG data! This is because, by default, MNE's routines to read raw data read the data file's *header* into memory, but not the data itself. The reason for this is that data files are often quite large, and so reading them in sometimes takes a noticeable amount of time, and consume significant memory. The header of a raw EEG data file contains its metadata (information about the file), as you saw above in printing out the `__dict__` this is often enough for MNE to perform some operations on the data. At some point, if you want to perform operations on the EEG data, then MNE will automatically load in the data to work on it. \n",
    "\n",
    "We can force MNE to load in the data when we read the file, with the `preload` kwarg. We'll do this now so that we can look at the data:"
   ]
  },
  {
   "cell_type": "code",
   "execution_count": 8,
   "id": "64f34e47-24fe-4630-817a-e6a38af306d4",
   "metadata": {},
   "outputs": [
    {
     "data": {
      "text/plain": [
       "{'_last_samps': array([682589]),\n",
       " '_first_samps': array([0]),\n",
       " 'info': <Info | 7 non-empty values\n",
       "  bads: []\n",
       "  ch_names: Fp1, F3, F7, C3, P3, TP9, Fz, Cz, Fp2, F4, F8, C4, P4, TP10, Pz, Oz\n",
       "  chs: 16 EEG\n",
       "  custom_ref_applied: False\n",
       "  highpass: 0.0 Hz\n",
       "  lowpass: 80.0 Hz\n",
       "  meas_date: 2000-03-08 09:05:29 UTC\n",
       "  nchan: 16\n",
       "  projs: []\n",
       "  sfreq: 500.0 Hz\n",
       " >,\n",
       " 'buffer_size_sec': 1.0,\n",
       " 'verbose': None,\n",
       " '_cals': array([4.88281e-08, 4.88281e-08, 4.88281e-08, 4.88281e-08, 4.88281e-08,\n",
       "        4.88281e-08, 4.88281e-08, 4.88281e-08, 4.88281e-08, 4.88281e-08,\n",
       "        4.88281e-08, 4.88281e-08, 4.88281e-08, 4.88281e-08, 4.88281e-08,\n",
       "        4.88281e-08]),\n",
       " '_raw_extras': [{'offsets': None,\n",
       "   'fmt': 'single',\n",
       "   'order': 'F',\n",
       "   'n_samples': 682590,\n",
       "   'orig_nchan': 16}],\n",
       " '_read_picks': [array([ 0,  1,  2,  3,  4,  5,  6,  7,  8,  9, 10, 11, 12, 13, 14, 15])],\n",
       " '_read_comp_grade': None,\n",
       " '_comp': None,\n",
       " '_filenames': ['/Users/aaron/3505/NESC_3505_textbook/eeg/data/N400_dataset_04.eeg'],\n",
       " 'orig_format': 'single',\n",
       " '_orig_units': {'Fp1': 'µV',\n",
       "  'F3': 'µV',\n",
       "  'F7': 'µV',\n",
       "  'C3': 'µV',\n",
       "  'P3': 'µV',\n",
       "  'TP9': 'µV',\n",
       "  'Fz': 'µV',\n",
       "  'Cz': 'µV',\n",
       "  'Fp2': 'µV',\n",
       "  'F4': 'µV',\n",
       "  'F8': 'µV',\n",
       "  'C4': 'µV',\n",
       "  'P4': 'µV',\n",
       "  'TP10': 'µV',\n",
       "  'Pz': 'µV',\n",
       "  'Oz': 'µV'},\n",
       " '_projectors': [],\n",
       " '_projector': None,\n",
       " '_dtype_': numpy.float64,\n",
       " '_annotations': <Annotations | 154 segments: Comment/actiCAP Data On (1), Comment/actiCAP ...>,\n",
       " '_data': array([[-2.67079217e-05, -3.40180700e-05, -3.36670703e-05, ...,\n",
       "         -3.08213636e-01, -3.08150990e-01, -3.08088343e-01],\n",
       "        [-1.09543744e-06, -7.06529256e-07,  4.21714567e-07, ...,\n",
       "          3.56437879e-01,  3.56370032e-01,  3.56302186e-01],\n",
       "        [ 1.18619858e-05,  1.43045352e-05,  2.06130876e-05, ...,\n",
       "         -3.21511579e-01, -3.21447589e-01, -3.21383600e-01],\n",
       "        ...,\n",
       "        [-4.71284208e-05, -4.18195153e-05, -3.77398298e-05, ...,\n",
       "         -3.36509740e-01, -3.36444701e-01, -3.36379637e-01],\n",
       "        [-1.77195458e-05, -1.72090919e-05, -1.30532198e-05, ...,\n",
       "          3.73319584e-01,  3.73250053e-01,  3.73180546e-01],\n",
       "        [-3.49426091e-05, -3.36795634e-05, -2.86693426e-05, ...,\n",
       "         -3.19992683e-01, -3.19929304e-01, -3.19865950e-01]]),\n",
       " 'preload': True,\n",
       " '_init_kwargs': {'vhdr_fname': '/Users/aaron/3505/NESC_3505_textbook/eeg/data/N400_dataset_04.vhdr',\n",
       "  'eog': ('HEOGL', 'HEOGR', 'VEOGb'),\n",
       "  'misc': 'auto',\n",
       "  'scale': 1.0,\n",
       "  'preload': True,\n",
       "  'verbose': None},\n",
       " 'impedances': {}}"
      ]
     },
     "execution_count": 8,
     "metadata": {},
     "output_type": "execute_result"
    }
   ],
   "source": [
    "raw = mne.io.read_raw_brainvision('data/N400_dataset_04.vhdr', \n",
    "                                  preload=True)\n",
    "\n",
    "raw.__dict__"
   ]
  },
  {
   "cell_type": "markdown",
   "id": "9c9c3da5-fb95-4ed6-bfa0-17859f969516",
   "metadata": {},
   "source": [
    "Now we can see that there is a `_data` attribute, containing a NumPy array. We can access the data like so:"
   ]
  },
  {
   "cell_type": "code",
   "execution_count": 9,
   "id": "5cc989e5-1fcc-4cb7-a1f5-b558ffc5faab",
   "metadata": {},
   "outputs": [
    {
     "name": "stdout",
     "output_type": "stream",
     "text": [
      "<class 'numpy.ndarray'>\n",
      "(16, 682590)\n"
     ]
    }
   ],
   "source": [
    "print(type(raw._data))\n",
    "print(raw._data.shape)"
   ]
  },
  {
   "cell_type": "markdown",
   "id": "de6ee19b-bb1d-4cd0-96ca-2ad1b9626244",
   "metadata": {},
   "source": [
    "MNE represents the data as a 2D array with a row for each channel, and columns for time points. We can derive the length of the EEG recording, in seconds, by dividing the number of time points by the sampling rate:"
   ]
  },
  {
   "cell_type": "code",
   "execution_count": 10,
   "id": "42e1cfd2-c6a2-46e0-9a7c-daf5dcac10bc",
   "metadata": {},
   "outputs": [
    {
     "name": "stdout",
     "output_type": "stream",
     "text": [
      "Duration of EEG recording =  1365.18 s, or 22.753 min.\n"
     ]
    }
   ],
   "source": [
    "scan_durn = raw._data.shape[1] / raw.info['sfreq']\n",
    "print('Duration of EEG recording = ', scan_durn, 's, or', scan_durn / 60, 'min.')"
   ]
  },
  {
   "cell_type": "markdown",
   "id": "ef76c073-230b-4f9a-90b2-d9ad68a87ed6",
   "metadata": {},
   "source": [
    "## Accessing subsets of data\n",
    "\n",
    "Since the data is stored as a NumPy array, we can access specific data points using standard indexing. For example, if we wanted to select all of the data from only channel 15, we would use:"
   ]
  },
  {
   "cell_type": "code",
   "execution_count": 11,
   "id": "df57a294-98ff-4365-9bac-70439a4530de",
   "metadata": {},
   "outputs": [
    {
     "name": "stdout",
     "output_type": "stream",
     "text": [
      "[-3.49426091e-05 -3.36795634e-05 -2.86693426e-05 ... -3.19992683e-01\n",
      " -3.19929304e-01 -3.19865950e-01]\n"
     ]
    }
   ],
   "source": [
    "print(raw._data[15, :])"
   ]
  },
  {
   "cell_type": "markdown",
   "id": "a9854907-e71b-4028-83ff-2cf07c5c016f",
   "metadata": {},
   "source": [
    "Likewise, if we wanted to access only the first 10 time points of channel 8, we would use:"
   ]
  },
  {
   "cell_type": "code",
   "execution_count": 12,
   "id": "8c3ef8ea-3b22-43cc-9ea5-f967b2fc456b",
   "metadata": {},
   "outputs": [
    {
     "name": "stdout",
     "output_type": "stream",
     "text": [
      "[0.00021124 0.00021153 0.00021526 0.00022065 0.00022381 0.0002228\n",
      " 0.00022086 0.00022152 0.00022406 0.00022598 0.00022798]\n"
     ]
    }
   ],
   "source": [
    "print(raw._data[8, :11])"
   ]
  },
  {
   "cell_type": "markdown",
   "id": "f2d2df57-9392-47d3-bdb9-a935733c39c3",
   "metadata": {},
   "source": [
    "One challenge in working with the raw data directly in this way, is that we normally think of, and work with, EEG data in terms of units of time, such as seconds or milliseconds. However, EEG data is not always (or even usually) sampled at 1000 Hz, so each time point doesn't correspond to 1 ms. For example, in our current data set, the sampling rate was 500 Hz, so each time point reflects a period of 2 ms. This makes accessing specific time points or time ranges in the data tricky, because if you want, say, the data from 1500-1800 ms in the `raw` data, you would need to first convert those times to seconds (since `sfreq` is in samples per second), convert the result to `int` (since division is likely to yield a `float` result), then multiply each of those times by the sampling rate to get the correct indices. While this is not necessarily difficult, it's a bit tricky and prone to error, as well as creating complex code:"
   ]
  },
  {
   "cell_type": "code",
   "execution_count": 13,
   "id": "05ad474b-b6a2-4644-8291-b26132590d9d",
   "metadata": {},
   "outputs": [
    {
     "data": {
      "text/plain": [
       "array([0.00018245, 0.00018437, 0.00018864, 0.00019457, 0.00019848,\n",
       "       0.00019798, 0.00019517, 0.00019331, 0.00019327, 0.00019501,\n",
       "       0.00019897, 0.00020431, 0.00020803, 0.00020714, 0.0002027 ,\n",
       "       0.00019861, 0.00019641, 0.00019518, 0.00019454, 0.00019453,\n",
       "       0.00019386, 0.00019153, 0.00018945, 0.00018907, 0.0001888 ,\n",
       "       0.00018899, 0.00019214, 0.00019711, 0.00020056, 0.00020286,\n",
       "       0.00020605, 0.00020858, 0.00020825, 0.00020669, 0.00020621,\n",
       "       0.00020703, 0.00020843, 0.00020945, 0.00021   , 0.00021019,\n",
       "       0.0002085 , 0.00020438, 0.00020072, 0.00020058, 0.00020341,\n",
       "       0.00020607, 0.00020706, 0.00020666, 0.00020411, 0.00019923,\n",
       "       0.00019499, 0.00019539, 0.00020034, 0.00020524, 0.0002075 ,\n",
       "       0.00020769, 0.00020545, 0.00020112, 0.00019691, 0.00019422,\n",
       "       0.00019391, 0.00019645, 0.00020019, 0.00020246, 0.00020222,\n",
       "       0.0001997 , 0.00019523, 0.00019023, 0.00018778, 0.00019002,\n",
       "       0.00019562, 0.00020115, 0.00020264, 0.00019867, 0.000194  ,\n",
       "       0.00019433, 0.00019933, 0.00020523, 0.00020942, 0.00021133,\n",
       "       0.00021113, 0.00020858, 0.00020462, 0.00020216, 0.00020332,\n",
       "       0.00020762, 0.00021293, 0.00021691, 0.00021779, 0.00021543,\n",
       "       0.00021212, 0.00021039, 0.00021111, 0.00021463, 0.00022007,\n",
       "       0.00022462, 0.00022677, 0.00022727, 0.0002261 , 0.0002232 ,\n",
       "       0.00022106, 0.00022189, 0.00022526, 0.00023023, 0.00023543,\n",
       "       0.00023825, 0.00023812, 0.00023738, 0.00023718, 0.00023695,\n",
       "       0.00023741, 0.00023942, 0.00024243, 0.00024562, 0.00024795,\n",
       "       0.00024888, 0.00024939, 0.00025169, 0.00025767, 0.00026505,\n",
       "       0.00026985, 0.00027485, 0.00028527, 0.00029842, 0.00030838,\n",
       "       0.00031412, 0.00031789, 0.00032193, 0.00032744, 0.00033402,\n",
       "       0.00034016, 0.00034477, 0.0003477 , 0.0003484 , 0.00034782,\n",
       "       0.00034937, 0.00035373, 0.00035726, 0.00035742, 0.00035541,\n",
       "       0.00035342, 0.00035181, 0.00035078, 0.00035245, 0.00035672,\n",
       "       0.00035879, 0.00035553, 0.00034966, 0.00034424, 0.00033889])"
      ]
     },
     "execution_count": 13,
     "metadata": {},
     "output_type": "execute_result"
    }
   ],
   "source": [
    "chan = 8 # set channel we want\n",
    "start_time = int((1500 / 1000) * raw.info['sfreq'])\n",
    "end_time   = int((1800 / 1000) * raw.info['sfreq'])\n",
    "raw._data[chan, start_time:end_time]"
   ]
  },
  {
   "cell_type": "markdown",
   "id": "3aa64451-714f-48fa-a2c4-62e97b05b5e7",
   "metadata": {},
   "source": [
    "## Accessing data using MNE tools\n",
    "\n",
    "Fortunately, since MNE is made to work with EEG data, it has lots of functions and methods that make it easy to do common tasks. Besides convenience, it's generally a good idea to use these because in general they provide an API that is more intuitive to use, and also create less risk that you will corrupt the data (since if you're using `._data`, it would be easy to accidentally assign new values to the array, or otherwise modify it, and Python would not warn you that you were doing something bad).\n",
    "\n",
    "We can access the data in an MNE object with the `.get_data()` method. \n"
   ]
  },
  {
   "cell_type": "code",
   "execution_count": 14,
   "id": "4b8ec3c4-2e82-46bb-a5df-7f42fc99674f",
   "metadata": {},
   "outputs": [
    {
     "name": "stdout",
     "output_type": "stream",
     "text": [
      "(16, 682590)\n"
     ]
    }
   ],
   "source": [
    "raw_data = raw.get_data()\n",
    "print(raw_data.shape)"
   ]
  },
  {
   "cell_type": "markdown",
   "id": "effb6c47-19a5-40f2-b872-64b5b1116778",
   "metadata": {},
   "source": [
    "Moreover, `.get_data()` provides kwargs that allow us to select channels and time ranges, using more intuitive units like channel labels, and times, rathter than NumPy array indices. `picks` is used to select the channel (or channels if you pass a list), and `tmin` and `tmax` specify the range of time that you want:"
   ]
  },
  {
   "cell_type": "code",
   "execution_count": 15,
   "id": "416f75d4-6bdd-47d2-84c3-d4d2b76a21f2",
   "metadata": {},
   "outputs": [
    {
     "data": {
      "text/plain": [
       "array([[ 7.55738825e-06,  7.62166587e-06,  9.31949138e-06,\n",
       "         1.19698463e-05,  1.41091275e-05,  1.49514122e-05,\n",
       "         1.32944039e-05,  9.55972182e-06,  6.66846888e-06,\n",
       "         6.53304719e-06,  8.69988950e-06,  1.18624626e-05,\n",
       "         1.42981456e-05,  1.40424656e-05,  1.09331075e-05,\n",
       "         7.41691210e-06,  5.63344667e-06,  5.67311950e-06,\n",
       "         7.14397065e-06,  9.21868806e-06,  1.06699889e-05,\n",
       "         1.12967433e-05,  1.09081212e-05,  9.13104543e-06,\n",
       "         7.25602732e-06,  7.14416138e-06,  9.06800759e-06,\n",
       "         1.22104582e-05,  1.53266828e-05,  1.71115788e-05,\n",
       "         1.70706662e-05,  1.55763546e-05,  1.36055877e-05,\n",
       "         1.20652137e-05,  1.17554604e-05,  1.31951265e-05,\n",
       "         1.54876630e-05,  1.75486475e-05,  1.88517474e-05,\n",
       "         1.84800053e-05,  1.62136949e-05,  1.35122230e-05,\n",
       "         1.25525410e-05,  1.44726679e-05,  1.80543807e-05,\n",
       "         2.07708252e-05,  2.10931670e-05,  1.90182588e-05,\n",
       "         1.57297054e-05,  1.30837374e-05,  1.24730046e-05,\n",
       "         1.42874645e-05,  1.75695329e-05,  2.02875033e-05,\n",
       "         2.09605110e-05,  1.90812967e-05,  1.53787534e-05,\n",
       "         1.25513966e-05,  1.21554312e-05,  1.29923754e-05,\n",
       "         1.46199152e-05,  1.75108820e-05,  2.06046953e-05,\n",
       "         2.19857103e-05,  2.04562082e-05,  1.67927656e-05,\n",
       "         1.37820173e-05,  1.34049347e-05,  1.50340003e-05,\n",
       "         1.68232832e-05,  1.80073646e-05,  1.86669254e-05,\n",
       "         1.77618889e-05,  1.45446703e-05,  1.08805601e-05,\n",
       "         9.42086691e-06,  1.07002204e-05,  1.36164596e-05,\n",
       "         1.68372068e-05,  1.90096758e-05,  1.90618417e-05,\n",
       "         1.67442236e-05,  1.33591584e-05,  1.09898511e-05,\n",
       "         1.09156553e-05,  1.33977821e-05,  1.68719205e-05,\n",
       "         1.87071704e-05,  1.80703071e-05,  1.58725657e-05,\n",
       "         1.34534767e-05,  1.15319193e-05,  1.05472511e-05,\n",
       "         1.17790162e-05,  1.49702949e-05,  1.79537681e-05,\n",
       "         1.98896306e-05,  2.05792322e-05,  1.91610238e-05,\n",
       "         1.63913643e-05,  1.44805834e-05,  1.46210596e-05,\n",
       "         1.68899450e-05,  2.06850900e-05,  2.41004820e-05,\n",
       "         2.45081776e-05,  2.14440236e-05,  1.77140145e-05,\n",
       "         1.59589686e-05,  1.62932313e-05,  1.81914236e-05,\n",
       "         2.12849508e-05,  2.43689412e-05,  2.61028156e-05,\n",
       "         2.57787572e-05,  2.36309884e-05,  2.09949386e-05,\n",
       "         1.94572349e-05,  2.04331293e-05,  2.38798973e-05,\n",
       "         2.74428227e-05,  2.96269265e-05,  3.10018381e-05,\n",
       "         3.17089872e-05,  3.15105277e-05,  3.08319888e-05,\n",
       "         3.08980784e-05,  3.30521414e-05,  3.66672328e-05,\n",
       "         3.95165241e-05,  3.98599421e-05,  3.75084685e-05,\n",
       "         3.44887557e-05,  3.29348396e-05,  3.31470320e-05,\n",
       "         3.52954684e-05,  3.92058172e-05,  4.26180621e-05,\n",
       "         4.31402939e-05,  4.07735616e-05,  3.74693679e-05,\n",
       "         3.50546657e-05,  3.44098869e-05,  3.61272627e-05,\n",
       "         3.91205587e-05,  4.07299787e-05,  4.00448594e-05,\n",
       "         3.80161091e-05,  3.50647747e-05,  3.17074613e-05],\n",
       "       [ 7.51895520e-06,  8.53023092e-06,  1.02630563e-05,\n",
       "         1.23981412e-05,  1.38019491e-05,  1.33430413e-05,\n",
       "         1.00631662e-05,  5.66062637e-06,  3.49979221e-06,\n",
       "         4.55550914e-06,  7.80257779e-06,  1.21807036e-05,\n",
       "         1.60295404e-05,  1.72740848e-05,  1.53097074e-05,\n",
       "         1.17546021e-05,  9.28630353e-06,  9.70801810e-06,\n",
       "         1.30927973e-05,  1.73385531e-05,  1.96847815e-05,\n",
       "         1.96885962e-05,  1.79395584e-05,  1.44546435e-05,\n",
       "         1.06822913e-05,  9.07706750e-06,  1.03679604e-05,\n",
       "         1.36770178e-05,  1.74167544e-05,  1.95840735e-05,\n",
       "         1.90082453e-05,  1.63585579e-05,  1.32039956e-05,\n",
       "         1.06456702e-05,  1.01547189e-05,  1.25221188e-05,\n",
       "         1.53675001e-05,  1.60871423e-05,  1.46882936e-05,\n",
       "         1.17805421e-05,  8.20636329e-06,  5.43021878e-06,\n",
       "         4.12826327e-06,  4.65564489e-06,  7.19756712e-06,\n",
       "         1.01093240e-05,  1.10286656e-05,  9.49878206e-06,\n",
       "         6.39800698e-06,  2.88352819e-06,  1.09386388e-06,\n",
       "         2.72044996e-06,  6.90097456e-06,  1.13450946e-05,\n",
       "         1.41208576e-05,  1.37325217e-05,  1.00776621e-05,\n",
       "         5.84735571e-06,  3.93237866e-06,  4.60262063e-06,\n",
       "         6.99195504e-06,  1.00789972e-05,  1.26096661e-05,\n",
       "         1.34454658e-05,  1.09807912e-05,  5.33084596e-06,\n",
       "         2.75039532e-07, -4.23049710e-07,  3.28903030e-06,\n",
       "         7.94467519e-06,  1.02600045e-05,  1.01362176e-05,\n",
       "         8.82987524e-06,  7.09514255e-06,  5.76553050e-06,\n",
       "         5.68141646e-06,  7.09209079e-06,  9.64049799e-06,\n",
       "         1.21488509e-05,  1.32503442e-05,  1.23609480e-05,\n",
       "         9.34829233e-06,  5.07125595e-06,  1.54380719e-06,\n",
       "         6.96372629e-07,  3.30543349e-06,  7.50789258e-06,\n",
       "         1.01976342e-05,  1.04368156e-05,  9.12036429e-06,\n",
       "         7.21225369e-06,  5.04398088e-06,  3.03916776e-06,\n",
       "         3.00407256e-06,  5.72185223e-06,  8.71161969e-06,\n",
       "         9.26055434e-06,  7.31238944e-06,  4.17690063e-06,\n",
       "         9.08278954e-07, -9.95063272e-07,  1.28745967e-07,\n",
       "         3.88850967e-06,  7.94143270e-06,  1.00343653e-05,\n",
       "         8.95270843e-06,  5.44700344e-06,  1.94759269e-06,\n",
       "        -3.84139818e-07, -1.64527809e-06, -7.78960783e-07,\n",
       "         2.14366803e-06,  4.53872448e-06,  4.70237491e-06,\n",
       "         2.55584586e-06, -1.28593379e-06, -4.87251032e-06,\n",
       "        -5.60378741e-06, -2.55279410e-06,  2.28614690e-06,\n",
       "         5.74817363e-06,  6.45274786e-06,  4.86545314e-06,\n",
       "         1.50241775e-06, -2.58483754e-06, -5.38253509e-06,\n",
       "        -5.38005553e-06, -2.38475677e-06,  2.01091663e-06,\n",
       "         4.81815091e-06,  3.92608442e-06, -1.77192597e-07,\n",
       "        -4.68940495e-06, -6.71805991e-06, -5.71727460e-06,\n",
       "        -2.97031251e-06, -2.61115894e-07,  6.31141339e-07,\n",
       "        -8.06426589e-07, -3.70311547e-06, -6.42623572e-06,\n",
       "        -7.72590242e-06, -7.35206228e-06, -4.74433656e-06,\n",
       "        -9.32311534e-07,  8.89968416e-07, -6.35146770e-08,\n",
       "        -2.06909074e-06, -4.46166764e-06, -7.14664093e-06]])"
      ]
     },
     "execution_count": 15,
     "metadata": {},
     "output_type": "execute_result"
    }
   ],
   "source": [
    "raw.get_data(picks=['Fz', 'Cz'], tmin=1.5, tmax=1.8)"
   ]
  },
  {
   "cell_type": "markdown",
   "id": "092c291a-767c-4870-b0e5-7ae48cc6ac51",
   "metadata": {},
   "source": [
    "If you look carefully at the output above, you'll note that it's a 2D NumPy array, with the data from each electrode enclosed in a separate set of square brackets."
   ]
  },
  {
   "cell_type": "markdown",
   "id": "823b9bdd-0f93-4967-9c40-a6db58532e9d",
   "metadata": {},
   "source": [
    "## Visualizing raw EEG data\n",
    "\n",
    "### Plot EEG data with Matplotlib\n",
    "\n",
    "Since we understand how to select a particular segment of data and return it as a NumPy array, it's eay to pass the result of doing this to Matplotlib, and visualize the electrical potential of a specific electrode over a segment of time: "
   ]
  },
  {
   "cell_type": "code",
   "execution_count": 16,
   "id": "a5d67803-ef9d-4c13-8292-8d851d497b39",
   "metadata": {},
   "outputs": [
    {
     "data": {
      "image/png": "[encoded data removed]",
      "text/plain": [
       "<Figure size 1080x360 with 1 Axes>"
      ]
     },
     "metadata": {
      "needs_background": "light"
     },
     "output_type": "display_data"
    }
   ],
   "source": [
    "fig, ax = plt.subplots(figsize=[15, 5])\n",
    "start_time = 15\n",
    "end_time = 16\n",
    "\n",
    "ax.plot(raw.get_data(picks='Oz', tmin=start_time, tmax=end_time).T)\n",
    "plt.show()"
   ]
  },
  {
   "cell_type": "markdown",
   "id": "9b98f2f4-89d6-4590-8894-98555edc50e3",
   "metadata": {},
   "source": [
    "### Plot EEG data with MNE\n",
    "\n",
    "We could add more code to the above cell to do things like label the axes, add a title to indicate what electrode the data came from, make the *x* axis actually represent units of time, etc.. However, the great value of using MNE is that the developers have created customized functions for doing most everything you could ever want with EEG, with a lot less typing that if you were working with raw NumPy arrays and Matplotlib. \n",
    "\n",
    "For example, MNE data classes like `Raw` have a `.plot` method that allows you to generate a nice-looking plot that automatically does all the hard work of formatting it appropriately. This function actually creates an interactive plot in a new window (which is why you won't see output in this notebook file), which allows you to scroll through the entire continuous dataset (unfortunately this doesn't work if you're running Jupyter notebooks via a cloud service, but should work fine if you followed the instructions at the start of this course and are using VS Code)."
   ]
  },
  {
   "cell_type": "code",
   "execution_count": 3,
   "id": "7eb739ba-f6ad-41e6-92cb-e2a6de14a66e",
   "metadata": {},
   "outputs": [],
   "source": [
    "# be sure to include the semicolon at the end of the line. We'll learn why later.\n",
    "raw.plot(start=15, duration=1);  "
   ]
  },
  {
   "cell_type": "markdown",
   "id": "afeee57c-31e1-4d63-9b60-f2a5d28d326d",
   "metadata": {},
   "source": [
    "Note carefully that there are two *x* axes in the plot. The top one (closer to the plot itself) are the time units of the data (in seconds). The bottom axis shows the timeline of the entire raw EEG recording, with a dark vertical bar near the start indicating the position in the file that is currently plotted, and a drag bar to scroll through the data. "
   ]
  },
  {
   "cell_type": "markdown",
   "id": "1e559ead-723f-40cf-841a-d8337e534086",
   "metadata": {},
   "source": [
    "## Set electrode positions\n",
    "\n",
    "One thing that can be useful at this stage is visualizing the electrode positions on the head. Typically, EEG studies try to position electrode in a fairly evenly-spaced way over the top of the head. However, the locations can depend someone on what ERP [components](./components) are predicted for the study, and how many electrodes are available. \n",
    "\n",
    "MNE provides a `.plot_sensors()` method for visualizing sensor locations. However, by default although our raw data contains the *names* of each channel, it does not contain information regarding where each channel was located. Fortunately, in this and most EEG studies, the electrode positions were based on the International 10-20 system. This was first introduced as a way of standardizing EEG electrode placement in clinical neurology, and is so-named because electrode positions are determined by first measuring the anterior-posterior and left-right dimensions of the participant's head, and then placing electrodes at positions determined by 10 and 20% increments of those measurements (E.g., electrode Cz is placed 50% of the anterior-posterior and left-right measurements). More recently, [Oostenveld and Praamstra (2001)](https://doi.org/10.1016/S1388-2457(00)00527-7) published an extension of this called the 10-5 system, that allows for a larger number of electrodes based on 5% increments. You can read more about this system and its variants on [Oostenveld's blog](https://robertoostenveld.nl/electrode/#oostenveld2001). \n",
    "\n",
    "Long story short, we have to first run an MNE method to look up the locations of each electrode based on its 10-20 system name, and set the positions in the raw file. We do this with `.set_montage()`, and as an argument use MNE's built-in list of 10-5 system electrode names and locations.\n",
    "\n",
    "<div class=\"alert alert-block alert-info\">\n",
    "    \n",
    "**Note:** *Montage* is a common word used to describe the arrangement of EEG electrodes on a head, or in an EEG cap. In more general usage, *montage* means \"a collection of elements\".</div>\n"
   ]
  },
  {
   "cell_type": "code",
   "execution_count": 5,
   "id": "bebfec28-458f-47d8-b668-9edeb717eac0",
   "metadata": {},
   "outputs": [
    {
     "data": {
      "text/html": [
       "<table class=\"table table-hover table-striped table-sm table-responsive small\">\n",
       "    <tr>\n",
       "        <th>Measurement date</th>\n",
       "        \n",
       "        <td>March 08, 2000  09:05:29 GMT</td>\n",
       "        \n",
       "    </tr>\n",
       "    <tr>\n",
       "        <th>Experimenter</th>\n",
       "        \n",
       "        <td>Unknown</td>\n",
       "        \n",
       "    </tr>\n",
       "        <th>Participant</th>\n",
       "        \n",
       "        <td>Unknown</td>\n",
       "        \n",
       "    </tr>\n",
       "    <tr>\n",
       "        <th>Digitized points</th>\n",
       "        \n",
       "        <td>19 points</td>\n",
       "        \n",
       "    </tr>\n",
       "    <tr>\n",
       "        <th>Good channels</th>\n",
       "        <td>16 EEG</td>\n",
       "    </tr>\n",
       "    <tr>\n",
       "        <th>Bad channels</th>\n",
       "        <td>None</td>\n",
       "    </tr>\n",
       "    <tr>\n",
       "        <th>EOG channels</th>\n",
       "        <td>Not available</td>\n",
       "    </tr>\n",
       "    <tr>\n",
       "        <th>ECG channels</th>\n",
       "        <td>Not available</td>\n",
       "    \n",
       "    <tr>\n",
       "        <th>Sampling frequency</th>\n",
       "        <td>500.00 Hz</td>\n",
       "    </tr>\n",
       "    \n",
       "    \n",
       "    <tr>\n",
       "        <th>Highpass</th>\n",
       "        <td>0.01 Hz</td>\n",
       "    </tr>\n",
       "    \n",
       "    \n",
       "    <tr>\n",
       "        <th>Lowpass</th>\n",
       "        <td>80.00 Hz</td>\n",
       "    </tr>\n",
       "    \n",
       "    \n",
       "    \n",
       "    <tr>\n",
       "        <th>Filenames</th>\n",
       "        <td>N400_dataset_04.eeg</td>\n",
       "    </tr>\n",
       "    \n",
       "    <tr>\n",
       "        <th>Duration</th>\n",
       "        <td>00:22:46 (HH:MM:SS)</td>\n",
       "    </tr>\n",
       "</table>"
      ],
      "text/plain": [
       "<RawBrainVision | N400_dataset_04.eeg, 16 x 682590 (1365.2 s), ~29 kB, data not loaded>"
      ]
     },
     "execution_count": 5,
     "metadata": {},
     "output_type": "execute_result"
    }
   ],
   "source": [
    "raw.set_montage('standard_1005')"
   ]
  },
  {
   "cell_type": "markdown",
   "id": "01fbb447-7311-4880-9ff5-5359043c705c",
   "metadata": {},
   "source": [
    "MNE prints out the `info` for the `Raw` object again, and if you compare this output to that from earlier, you'll see that the *Digitized points* field has changed from \"Not available\" to \"19 points\". This terminology is a bit strange - \"digitized points\" seems more general and nonspecific than \"electrode locations\", for example. The reason for this is that in some cases, researchers will actually use a device to digitize the locations of electrodes when they are on a person's head, rather than relying on standard positions. Anyway, this information is stored under the `dig` attribute, which we can view with:"
   ]
  },
  {
   "cell_type": "code",
   "execution_count": 19,
   "id": "44b6ea02-ee05-4148-bdfe-e30d773db376",
   "metadata": {},
   "outputs": [
    {
     "data": {
      "text/plain": [
       "[<DigPoint |        LPA : (-84.3, 0.0, 0.0) mm      : head frame>,\n",
       " <DigPoint |     Nasion : (-0.0, 104.9, 0.0) mm     : head frame>,\n",
       " <DigPoint |        RPA : (84.0, 0.0, 0.0) mm       : head frame>,\n",
       " <DigPoint |     EEG #1 : (-28.8, 104.5, 32.4) mm   : head frame>,\n",
       " <DigPoint |     EEG #3 : (29.2, 105.4, 32.3) mm    : head frame>,\n",
       " <DigPoint |    EEG #16 : (-68.8, 63.7, 31.1) mm    : head frame>,\n",
       " <DigPoint |    EEG #18 : (-49.2, 78.0, 82.7) mm    : head frame>,\n",
       " <DigPoint |    EEG #20 : (0.3, 85.1, 106.0) mm     : head frame>,\n",
       " <DigPoint |    EEG #22 : (50.7, 79.1, 81.3) mm     : head frame>,\n",
       " <DigPoint |    EEG #24 : (71.5, 65.6, 30.5) mm     : head frame>,\n",
       " <DigPoint |    EEG #40 : (-64.0, 16.4, 109.1) mm   : head frame>,\n",
       " <DigPoint |    EEG #42 : (0.4, 21.5, 144.0) mm     : head frame>,\n",
       " <DigPoint |    EEG #44 : (65.7, 17.1, 108.3) mm    : head frame>,\n",
       " <DigPoint |    EEG #48 : (-83.8, -25.7, 4.2) mm    : head frame>,\n",
       " <DigPoint |    EEG #58 : (84.4, -26.2, 4.1) mm     : head frame>,\n",
       " <DigPoint |    EEG #62 : (-51.9, -49.8, 105.8) mm  : head frame>,\n",
       " <DigPoint |    EEG #64 : (0.3, -50.1, 132.0) mm    : head frame>,\n",
       " <DigPoint |    EEG #66 : (54.5, -49.5, 106.4) mm   : head frame>,\n",
       " <DigPoint |    EEG #82 : (0.1, -88.1, 68.2) mm     : head frame>]"
      ]
     },
     "execution_count": 19,
     "metadata": {},
     "output_type": "execute_result"
    }
   ],
   "source": [
    "raw.info['dig']"
   ]
  },
  {
   "cell_type": "markdown",
   "id": "68ef9f29-51c7-4d86-a3ab-2391669b10f5",
   "metadata": {},
   "source": [
    "Each electrode location is stored as a set of (*x*, *y*, *z*) Cartesian coordinates, i.e., positions in a 3D grid, where *x* is the left-right dimension, *y* is posterior-anterior, and *z* is inferior-posterior. The (0, 0, 0) location is inside the head, located in a plane defined by the bridge of the nose (called the **nasion**) and the left and right ear canals. As shown in the figure below, *x* goes from left (negative) to right (positive), *y* goes from posterior to anterior, and *z* goes from inferior to superior. In general, you won't need to work with this coordinate system directly, but it's useful to know how the data are represented.\n",
    "\n",
    "![cartesian coordinate system for electrode positions](images/MRI_ax_sag_cor.jpg)\n",
    "\n",
    "Note above as well that the list of sensor locations does not contain the names of each sensor — the channel names we saw above. In general MNE's data structure is designed to assume that channels are listed in the same order in all attributes of the data structure. So, the list of channel names from"
   ]
  },
  {
   "cell_type": "code",
   "execution_count": 20,
   "id": "322574cd-280b-4cd8-877c-9d72a46dde8e",
   "metadata": {},
   "outputs": [
    {
     "data": {
      "text/plain": [
       "['Fp1',\n",
       " 'F3',\n",
       " 'F7',\n",
       " 'C3',\n",
       " 'P3',\n",
       " 'TP9',\n",
       " 'Fz',\n",
       " 'Cz',\n",
       " 'Fp2',\n",
       " 'F4',\n",
       " 'F8',\n",
       " 'C4',\n",
       " 'P4',\n",
       " 'TP10',\n",
       " 'Pz',\n",
       " 'Oz']"
      ]
     },
     "execution_count": 20,
     "metadata": {},
     "output_type": "execute_result"
    }
   ],
   "source": [
    "raw.info['ch_names']"
   ]
  },
  {
   "cell_type": "markdown",
   "id": "fd5d899f-de54-4af7-9ab8-37b4df4ceac3",
   "metadata": {},
   "source": [
    "can be used to label the `EEG` channels in `raw.info['dig']`"
   ]
  },
  {
   "cell_type": "markdown",
   "id": "e76de5e9-2788-4888-8f85-04c13f10ae62",
   "metadata": {},
   "source": [
    "### View electrode positions\n",
    "\n",
    "MNE provides tools for viewing channel locations in both 2D and 3D:"
   ]
  },
  {
   "cell_type": "code",
   "execution_count": 9,
   "id": "1a258637-37f1-4ff8-b2cd-66ea92da54a6",
   "metadata": {},
   "outputs": [
    {
     "data": {
      "image/png": "[encoded data removed]",
      "text/plain": [
       "<Figure size 640x640 with 1 Axes>"
      ]
     },
     "metadata": {},
     "output_type": "display_data"
    },
    {
     "data": {
      "image/png": "[encoded data removed]",
      "text/plain": [
       "<Figure size 640x640 with 1 Axes>"
      ]
     },
     "execution_count": 9,
     "metadata": {},
     "output_type": "execute_result"
    }
   ],
   "source": [
    "raw.plot_sensors()"
   ]
  },
  {
   "cell_type": "markdown",
   "id": "8236895e-c413-4397-96c2-e825e163e903",
   "metadata": {},
   "source": [
    "## MNE plots in Jupyter notebooks\n",
    "\n",
    "You'll notice above that MNE actually drew two copies of the figure. This is a default behaviour of MNE for many plots, and it's annoying if you don't know how to deal with it. There are two ways to ensure MNE produces only a single copy of a figure:\n",
    "\n",
    "### End the plot command with a semicolon\n"
   ]
  },
  {
   "cell_type": "code",
   "execution_count": 22,
   "id": "e0ba4fbb-854d-412c-807b-71158f1b8316",
   "metadata": {},
   "outputs": [
    {
     "data": {
      "image/png": "[encoded data removed]",
      "text/plain": [
       "<Figure size 432x432 with 1 Axes>"
      ]
     },
     "metadata": {
      "needs_background": "light"
     },
     "output_type": "display_data"
    }
   ],
   "source": [
    "raw.plot_sensors();"
   ]
  },
  {
   "cell_type": "markdown",
   "id": "1a651deb-491c-47e8-b987-9e25b9ec2474",
   "metadata": {},
   "source": [
    "### Use `plt.show()` \n",
    "\n",
    "...at the bottom of the cell (or at least after all plotting commands in the cell)  "
   ]
  },
  {
   "cell_type": "code",
   "execution_count": 23,
   "id": "8bce7e6c-2e71-4c73-83f7-3890839a7017",
   "metadata": {},
   "outputs": [
    {
     "data": {
      "image/png": "[encoded data removed]",
      "text/plain": [
       "<Figure size 432x432 with 1 Axes>"
      ]
     },
     "metadata": {
      "needs_background": "light"
     },
     "output_type": "display_data"
    }
   ],
   "source": [
    "raw.plot_sensors()\n",
    "plt.show()"
   ]
  },
  {
   "cell_type": "markdown",
   "id": "cecc2724-9ff5-4ea3-bd57-d915aa8e09fc",
   "metadata": {},
   "source": [
    "### Show sensor names\n",
    "We can also add a kwarg to show the names of each sensor:"
   ]
  },
  {
   "cell_type": "code",
   "execution_count": 24,
   "id": "b27d711c-44a8-439f-95a8-6df38c8e78a6",
   "metadata": {},
   "outputs": [
    {
     "data": {
      "image/png": "[encoded data removed]",
      "text/plain": [
       "<Figure size 432x432 with 1 Axes>"
      ]
     },
     "metadata": {
      "needs_background": "light"
     },
     "output_type": "display_data"
    }
   ],
   "source": [
    "raw.plot_sensors(show_names=True)\n",
    "plt.show()"
   ]
  },
  {
   "cell_type": "markdown",
   "id": "38d61c03-4fe3-4305-beb0-9c3369b93dcb",
   "metadata": {},
   "source": [
    "## Event codes (markers/triggers)\n",
    "\n",
    "Yes, there are (at least) three names for the codes that mark events in EEG data! *Markers* makes intuitive sense because they mark the time of events of interest in the EEG data. *Triggers* is a somewhat old-fashioned term; its origin is obscure but perhaps reflects the idea that stimuli \"trigger\" brain responses that we can measure with EEG. *Event codes* makes sense since they are codes that indicate not only that an event occurred, but it's identity. We'll use *event codes* from this point forward.\n",
    "\n",
    "As noted earlier, the event codes are stored in the `.vmrk` file in Brain Vision format. When we import the raw data into MNE, these are stored in an attribute called `._annotations`. Although we can access that directly (e.g., `raw._annotations`), again MNE provides tools that makes this easier and generate more interpretable output: the `events_from_annotations()` function:"
   ]
  },
  {
   "cell_type": "code",
   "execution_count": 25,
   "id": "092ad901-988d-4e7f-b206-a7ec96c8c2be",
   "metadata": {
    "scrolled": true,
    "tags": []
   },
   "outputs": [
    {
     "data": {
      "text/plain": [
       "(array([[     0,      0,  99999],\n",
       "        [    20,      0,  10001],\n",
       "        [  9438,      0,      5],\n",
       "        [  9443,      0,      1],\n",
       "        [ 14663,      0,      1],\n",
       "        [ 19347,      0,      2],\n",
       "        [ 23789,      0,      1],\n",
       "        [ 28364,      0,      1],\n",
       "        [ 32756,      0,      1],\n",
       "        [ 37015,      0,      2],\n",
       "        [ 41332,      0,      2],\n",
       "        [ 45549,      0,      3],\n",
       "        [ 50040,      0,      2],\n",
       "        [ 54316,      0,      3],\n",
       "        [ 58816,      0,      2],\n",
       "        [ 63091,      0,      3],\n",
       "        [ 67308,      0,      1],\n",
       "        [ 71733,      0,      3],\n",
       "        [ 76067,      0,      1],\n",
       "        [ 80384,      0,      3],\n",
       "        [ 84659,      0,      3],\n",
       "        [ 88951,      0,      2],\n",
       "        [ 93226,      0,      3],\n",
       "        [ 97485,      0,      2],\n",
       "        [101819,      0,      2],\n",
       "        [106694,      0,      1],\n",
       "        [110961,      0,      3],\n",
       "        [115453,      0,      1],\n",
       "        [119678,      0,      3],\n",
       "        [123928,      0,      1],\n",
       "        [128403,      0,      3],\n",
       "        [132937,      0,      1],\n",
       "        [137387,      0,      2],\n",
       "        [141862,      0,      3],\n",
       "        [146112,      0,      1],\n",
       "        [150487,      0,      2],\n",
       "        [154813,      0,      1],\n",
       "        [159121,      0,      2],\n",
       "        [163413,      0,      2],\n",
       "        [167772,      0,      1],\n",
       "        [172130,      0,      3],\n",
       "        [176314,      0,      2],\n",
       "        [180689,      0,      3],\n",
       "        [185056,      0,      2],\n",
       "        [189331,      0,      2],\n",
       "        [193748,      0,      2],\n",
       "        [198098,      0,      3],\n",
       "        [202598,      0,      1],\n",
       "        [207365,      0,      3],\n",
       "        [211766,      0,      1],\n",
       "        [216224,      0,      1],\n",
       "        [221166,      0,      2],\n",
       "        [225525,      0,      3],\n",
       "        [237642,      0,      1],\n",
       "        [241984,      0,      2],\n",
       "        [246342,      0,      3],\n",
       "        [250792,      0,      3],\n",
       "        [255284,      0,      2],\n",
       "        [259785,      0,      2],\n",
       "        [264368,      0,      3],\n",
       "        [268769,      0,      1],\n",
       "        [273485,      0,      2],\n",
       "        [277819,      0,      2],\n",
       "        [282311,      0,      2],\n",
       "        [286719,      0,      3],\n",
       "        [290954,      0,      1],\n",
       "        [295479,      0,      3],\n",
       "        [299963,      0,      3],\n",
       "        [304638,      0,      3],\n",
       "        [309446,      0,      3],\n",
       "        [314180,      0,      1],\n",
       "        [318513,      0,      3],\n",
       "        [322863,      0,      1],\n",
       "        [326797,      0,      1],\n",
       "        [331588,      0,      2],\n",
       "        [335897,      0,      3],\n",
       "        [340231,      0,      3],\n",
       "        [344656,      0,      3],\n",
       "        [348990,      0,      2],\n",
       "        [353382,      0,      2],\n",
       "        [357673,      0,      1],\n",
       "        [362057,      0,      1],\n",
       "        [366057,      0,      2],\n",
       "        [370391,      0,      2],\n",
       "        [374683,      0,      1],\n",
       "        [379116,      0,      3],\n",
       "        [383800,      0,      1],\n",
       "        [388042,      0,      1],\n",
       "        [392375,      0,      1],\n",
       "        [396817,      0,      1],\n",
       "        [401376,      0,      2],\n",
       "        [405809,      0,      1],\n",
       "        [410276,      0,      1],\n",
       "        [414618,      0,      1],\n",
       "        [418860,      0,      1],\n",
       "        [423227,      0,      2],\n",
       "        [427560,      0,      3],\n",
       "        [431969,      0,      3],\n",
       "        [436544,      0,      3],\n",
       "        [440828,      0,      2],\n",
       "        [445411,      0,      2],\n",
       "        [449561,      0,      3],\n",
       "        [454078,      0,      2],\n",
       "        [463320,      0,      3],\n",
       "        [467437,      0,      1],\n",
       "        [471521,      0,      2],\n",
       "        [475755,      0,      3],\n",
       "        [480247,      0,      1],\n",
       "        [484639,      0,      1],\n",
       "        [489139,      0,      2],\n",
       "        [493273,      0,      1],\n",
       "        [497998,      0,      3],\n",
       "        [501806,      0,      3],\n",
       "        [506298,      0,      2],\n",
       "        [510131,      0,      1],\n",
       "        [514390,      0,      3],\n",
       "        [518257,      0,      2],\n",
       "        [522199,      0,      2],\n",
       "        [526266,      0,      1],\n",
       "        [530691,      0,      3],\n",
       "        [535108,      0,      2],\n",
       "        [539575,      0,      1],\n",
       "        [544125,      0,      2],\n",
       "        [548459,      0,      1],\n",
       "        [552667,      0,      3],\n",
       "        [556143,      0,      3],\n",
       "        [559759,      0,      2],\n",
       "        [564110,      0,      2],\n",
       "        [568501,      0,      2],\n",
       "        [572885,      0,      3],\n",
       "        [577294,      0,      2],\n",
       "        [581144,      0,      1],\n",
       "        [585494,      0,      1],\n",
       "        [589711,      0,      3],\n",
       "        [593653,      0,      3],\n",
       "        [598003,      0,      2],\n",
       "        [602087,      0,      2],\n",
       "        [605953,      0,      1],\n",
       "        [610645,      0,      3],\n",
       "        [615154,      0,      2],\n",
       "        [619437,      0,      2],\n",
       "        [623871,      0,      3],\n",
       "        [627971,      0,      3],\n",
       "        [631888,      0,      3],\n",
       "        [636188,      0,      1],\n",
       "        [640105,      0,      2],\n",
       "        [643730,      0,      1],\n",
       "        [647755,      0,      2],\n",
       "        [652023,      0,      1],\n",
       "        [656574,      0,      3],\n",
       "        [660632,      0,      1],\n",
       "        [664516,      0,      3],\n",
       "        [668932,      0,      1],\n",
       "        [679730,      0,  10002]]),\n",
       " {'Comment/actiCAP Data On': 10001,\n",
       "  'Comment/actiCAP USB Power Off': 10002,\n",
       "  'New Segment/': 99999,\n",
       "  'Stimulus/S  1': 1,\n",
       "  'Stimulus/S  2': 2,\n",
       "  'Stimulus/S  3': 3,\n",
       "  'Stimulus/S  5': 5})"
      ]
     },
     "execution_count": 25,
     "metadata": {},
     "output_type": "execute_result"
    }
   ],
   "source": [
    "mne.events_from_annotations(raw)"
   ]
  },
  {
   "cell_type": "markdown",
   "id": "7a6730a2-148b-4807-a280-3a45bfe1cbba",
   "metadata": {},
   "source": [
    "The result includes two outputs, The first is a NumPy array that has three columns, with one row for each event code in the data. The first column indicates the time of the event, and the last column stores the code associated with that event. These event codes are always represented as integers (since it is a NumPy array of integers). \n",
    "\n",
    "The second output is a dictionary mapping labels for each event code, to the numerical codes themselves. Usually these are not very informative in the raw data. In the next lesson, we will learn how to map the numerical codes to meaningful labels based on the experimental design. For now, it's simply important to understand how the event codes are stored in the `Raw` data object.\n",
    "\n",
    "One important thing to know is that the event codes are stored in the same units as the data, so in this case, the event codes are in units of samples, not milliseconds. MNE knows this and operates accordingly, but if you want to know the time of an event in milliseconds, you need to convert it yourself based on the sampling rate. In this case, our sampling rate is 500 Hz, if we wanted to see the event timings in milliseconds we can divide the event time by the sampling rate, and multiplying by 1000. We can do this below by first assigning the two outputs of `mne.events_from_annotations()` to two variables, and then converting the values in the first column of the 1events `array`` to milliseconds:"
   ]
  },
  {
   "cell_type": "code",
   "execution_count": 18,
   "id": "825499f2",
   "metadata": {},
   "outputs": [
    {
     "data": {
      "text/plain": [
       "array([[    0,     0, 99999],\n",
       "       [   40,     0, 10001],\n",
       "       [18876,     0,     5],\n",
       "       [18886,     0,     1],\n",
       "       [29326,     0,     1],\n",
       "       [38694,     0,     2],\n",
       "       [47578,     0,     1],\n",
       "       [56728,     0,     1],\n",
       "       [65512,     0,     1],\n",
       "       [74030,     0,     2]])"
      ]
     },
     "execution_count": 18,
     "metadata": {},
     "output_type": "execute_result"
    }
   ],
   "source": [
    "events, event_dict = mne.events_from_annotations(raw)\n",
    "events[:, 0] = events[:, 0] / 500 * 1000\n",
    "events[:10]"
   ]
  }
 ],
 "metadata": {
  "kernelspec": {
   "display_name": "Python 3 (ipykernel)",
   "language": "python",
   "name": "python3"
  },
  "language_info": {
   "codemirror_mode": {
    "name": "ipython",
    "version": 3
   },
   "file_extension": ".py",
   "mimetype": "text/x-python",
   "name": "python",
   "nbconvert_exporter": "python",
   "pygments_lexer": "ipython3",
   "version": "3.10.12"
  }
 },
 "nbformat": 4,
 "nbformat_minor": 5
}
