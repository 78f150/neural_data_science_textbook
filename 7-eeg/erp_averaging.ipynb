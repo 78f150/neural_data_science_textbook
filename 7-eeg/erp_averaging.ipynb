{
 "cells": [
  {
   "cell_type": "markdown",
   "id": "221e21bb-f359-41a4-a545-a9da6b3da694",
   "metadata": {},
   "source": [
    "# Averaging ERPs: Creating MNE Evoked objects\n",
    "\n",
    "Since averaging across trials is typically the end goal of an ERP experiment, MNE has a distinct class, `Evoked`, for ERP data where multiple trials have been averaged for each experimental condition or trial type. \n",
    "\n",
    "We'll firstimport MNE and the mastoid-referenced, cleaned epochs we saved in the previous step. "
   ]
  },
  {
   "cell_type": "code",
   "execution_count": null,
   "id": "c3cedbb5-8be2-456d-91b7-9b3c13f05ca7",
   "metadata": {},
   "outputs": [],
   "source": [
    "import mne\n",
    "mne.set_log_level('error')  # reduce extraneous MNE output\n",
    "\n",
    "# Participant ID code\n",
    "p_id = 'sub-001'\n",
    "data_dir = 'data/' + p_id + '/'\n",
    "\n",
    "epochs_mastoidref = mne.read_epochs(data_dir + p_id + '-mstd-epo.fif', preload=True)"
   ]
  },
  {
   "cell_type": "markdown",
   "id": "5b347069-98f5-4519-86c0-75026b8531df",
   "metadata": {},
   "source": [
    "## Create Evoked objects\n",
    "\n",
    "Unlike `Epochs`, which by definition contain multiple trials and in which each trial has an associated condition label (event code), `Evoked` data sets are averages across trials for a *single* condition. Thus we have to create a separate `Evoked` object for each condition in our experiment. For convenience, we can store these in a list, and we can created the list of Evoked objects using dictionary comprehension, so that each dictionary key is the condition name and its value is the Evoked object:"
   ]
  },
  {
   "cell_type": "code",
   "execution_count": null,
   "id": "a0d0c883-c436-4fe2-9d20-39a385ad9ad2",
   "metadata": {},
   "outputs": [],
   "source": [
    "conditions = ['Match', 'Mismatch']\n",
    "\n",
    "evokeds = {c:epochs_mastoidref[c].average() for c in conditions}\n",
    "\n",
    "evokeds    "
   ]
  },
  {
   "cell_type": "markdown",
   "id": "99b2442e-e783-4e15-928d-4fbbbdc9f9e7",
   "metadata": {},
   "source": [
    "## Plot average ERP for each condition\n",
    "\n",
    "We can use a method called `plot_joint()` to generate a combination of \"butterfly\" plots (waveforms of all electrodes overlaid) and topographic maps at specific time points that we specify. This is a nice way of relating scalp topographies and waveforms. The time points specified for the topo plots were selected based on early peaks apparent in the waveforms above, and then on 200 ms intervals over the time period when the N400 is expected:"
   ]
  },
  {
   "cell_type": "code",
   "execution_count": null,
   "id": "705e1dc9-6678-4fba-a30d-6375b9bbde8d",
   "metadata": {},
   "outputs": [],
   "source": [
    "times = [.150, .250, .400, .600, .800]\n",
    "for c in evokeds.keys():\n",
    "    evokeds[c].plot_joint(times=times, title=c);"
   ]
  },
  {
   "cell_type": "markdown",
   "id": "515d3b4a-3960-4a87-ba2a-81f03aa6d12a",
   "metadata": {
    "tags": []
   },
   "source": [
    "## Examine contrasts between conditions\n",
    "\n",
    "Viewing the ERPs for each experimental condition is a good first step, but ultimately any ERP experiment should be designed around *contrasts* between different conditions. In the present study, we are interested in the difference between match and mismatch items. We predicted an N400 component, which would be larger (more negative) for mismatch than match items. The N400 tends to be largest over the midline centre/posterior region of the scalp (when using averaged-mastoid reference). So here we will plot the data at electrode Cz, which typically shows the N400 effect. We use the function `mne.viz.plot_compare_evokeds()`, which plots waveforms for each of a list of evoked items that you pass to it:"
   ]
  },
  {
   "cell_type": "code",
   "execution_count": null,
   "id": "1c3b9e78-4b5e-443d-aca5-163123836ca6",
   "metadata": {},
   "outputs": [],
   "source": [
    "mne.viz.plot_compare_evokeds(evokeds, \n",
    "                             picks='Cz');"
   ]
  },
  {
   "cell_type": "markdown",
   "id": "d366c080-d0b4-4054-b1a3-ad30080e619d",
   "metadata": {},
   "source": [
    "We can make this plot a bit nicer by adding a few things to it:\n",
    "- firstly we define a *region of interest* (ROI) that includes a set of electrodes where the N400 is expected, so that we can plot the ERP waveform averaged over these electrodes\n",
    "- we add the `combine` kwarg to tell MNE how to combine the data from these electrodes\n",
    "- we define dictionaries mapping condition names to colours and linestyles for out plot, to make the two conditions' lines more distinctive\n",
    "- we tell MNE where to put the legend and plot of the sensor locations, to ensure these don't overlap with the waveforms"
   ]
  },
  {
   "cell_type": "code",
   "execution_count": null,
   "id": "e38520a4-9532-48c3-a9d4-4c921bd1eeec",
   "metadata": {},
   "outputs": [],
   "source": [
    "roi = ['C3', 'Cz', 'C4', \n",
    "       'P3', 'Pz', 'P4']\n",
    "\n",
    "color_dict = {'Match':'blue', 'Mismatch':'red'}\n",
    "linestyle_dict = {'Match':'-', 'Mismatch':'--'}\n",
    "\n",
    "mne.viz.plot_compare_evokeds(evokeds, combine='mean', \n",
    "                             legend='lower right',\n",
    "                             picks=roi, show_sensors='upper right',\n",
    "                             colors=color_dict,\n",
    "                             linestyles=linestyle_dict);"
   ]
  },
  {
   "cell_type": "markdown",
   "id": "287533f2-c8a4-4d71-ac61-434795b39a95",
   "metadata": {},
   "source": [
    "The N400 can be observed as the difference between the two conditions' waveforms starting just after 400 ms. As predicted, the Mismatch waveform is more negative than the Match waveform. In most cases, the N400 lasts for about 200 ms. However, in this particular individual's data, under these task conditions, the larger negativity for Mismatch lasts until the end of the epoch."
   ]
  },
  {
   "cell_type": "markdown",
   "id": "f460f30e-2cab-465f-94ba-939a240eff47",
   "metadata": {},
   "source": [
    "## Prepare to Save Evokeds to File\n",
    "\n",
    "We can save Evoked objects to files using `mne.write_evokeds()`. Note that this function does not accept a dictionary as input, only a single `Evoked` object, or a list of `Evoked` objects, so below we convert the values of `evokeds` to a list using the `list()` function.\n",
    "\n",
    "### Add Labels to Evoked Objects\n",
    "One potential source of error here is that, unlike dictionaries, lists don't have labels for their entries. So in a list of `Evoked` objects, we risk not knowing later which list item corresponds to which condition. Fortunately, MNE provides a way to label Evoked objects: the `.comment` property:"
   ]
  },
  {
   "cell_type": "code",
   "execution_count": null,
   "id": "83a65456-0c9f-47fb-8b43-ece1651bd33f",
   "metadata": {},
   "outputs": [],
   "source": [
    "evokeds['Match'].comment"
   ]
  },
  {
   "cell_type": "markdown",
   "id": "c9fabb56-a6ed-463b-8ef2-7574253326da",
   "metadata": {},
   "source": [
    "At the moment, this does indicate what condition the data are from, but in a somewhat messy way. Indeed, the comment there reflects the result of averaging the 4 different *Match* conditions into one `Evoked` object; the 02.5 values reflect the weighting of each condition in the average, which was based on the number of trials in each. In this case, we had equal numbers of trials of each of the four *Match* conditions, so all the weights are 25%. Since this information isn't terribly relevant now that we are treating all four conditions as the same (simply *Match*), so we can change the contents of the `.comment` property through assignment:"
   ]
  },
  {
   "cell_type": "code",
   "execution_count": null,
   "id": "90db917d-e094-4a97-bbbc-7ff2226b9f1d",
   "metadata": {},
   "outputs": [],
   "source": [
    "for condition in evokeds.keys():\n",
    "    evokeds[condition].comment = condition\n",
    "\n",
    "evokeds"
   ]
  },
  {
   "cell_type": "markdown",
   "id": "95f87e95-f2e7-45e9-bdf7-11428066aa58",
   "metadata": {},
   "source": [
    "Now that we have comments that will help clearly identify each `Evoked` object later, we can write these out to a file. \n",
    "\n",
    "### Write Evoked Objects to File\n",
    "MNE imposes file naming conventions (rules), which specify that Evoked file names should always end in `-ave.fif`. It's good practice to use the participant ID and condition name in the file name as well. The `write_evoked()` function requires the output file name as its first argument, and the Evoked data as the second argument. "
   ]
  },
  {
   "cell_type": "code",
   "execution_count": null,
   "id": "645daa04-028b-4fda-958b-14281b599618",
   "metadata": {},
   "outputs": [],
   "source": [
    "mne.write_evokeds('data/' + p_id + '-ave.fif', \n",
    "                  list(evokeds.values()),\n",
    "                  overwrite=True\n",
    "                 )"
   ]
  },
  {
   "cell_type": "markdown",
   "id": "f7d6bbd2-402f-467c-adec-023e4660bd30",
   "metadata": {},
   "source": [
    "## Create difference waves \n",
    "\n",
    "Finally, we can create **difference waves** by subtracting the waveforms of our two experimental conditions. Since the N400 manifests as a larger negativity for mismatch, it is conventional to compute this difference as Mismatch - Match (otherwise the difference between the two would appear as positive, rather than negative, voltage). \n",
    "\n",
    "Computing difference waves allows us to view the experimental effect in a quite intuitive way: zero voltage means no difference between conditions, and and deviation from the zero line in the waveform plot (or from white in the topopmaps) indicates an experimental effect.\n",
    "\n",
    "MNE's `combine_evoked()` function allows us to combine Evoked data sets in different ways. To compute a difference, we pass the weights of `[1, -1]` to indicate we want to subtract the second Evoked data set listed (Match) from the first (Mismatch):"
   ]
  },
  {
   "cell_type": "code",
   "execution_count": null,
   "id": "dd33c13d-429e-4881-9d16-c2f03a83403d",
   "metadata": {},
   "outputs": [],
   "source": [
    "evokeds_diff = mne.combine_evoked([evokeds['Mismatch'], \n",
    "                                   evokeds['Match']\n",
    "                                   ], \n",
    "                                  weights=[1, -1]\n",
    "                                  )\n",
    "    \n",
    "evokeds_diff    # check the difference waveform"
   ]
  },
  {
   "cell_type": "markdown",
   "id": "585d729a-7d29-421e-b459-0c136eb2c89e",
   "metadata": {},
   "source": [
    "## Plot Difference Waves\n",
    "We do a few extra things to make the plot more readable:\n",
    "- Whereas before we simply passed the Epochs or Evoked data to the `plot_compare_evokeds()` function, here we pass a dictionary, where the key is the label we want to appear in the legend and the value is the Evoked data\n",
    "- we add a `title` kwarg to give the plot an informative title"
   ]
  },
  {
   "cell_type": "code",
   "execution_count": null,
   "id": "8e436c05-3818-4ae6-8d12-f3caf9c7992e",
   "metadata": {},
   "outputs": [],
   "source": [
    "mne.viz.plot_compare_evokeds({'Mismatch-Match':evokeds_diff}, \n",
    "                             picks=roi, show_sensors='upper right',\n",
    "                             combine='mean',\n",
    "                             title='Difference Wave');\n"
   ]
  },
  {
   "cell_type": "markdown",
   "id": "61a4f74b-32dd-44c8-bdf7-1583c2dc4492",
   "metadata": {},
   "source": [
    "One advantage of difference waves is that they make it very clear when differences are occurring between conditions, and how large they are. When we compare waveforms for two conditions, the shape of the waveforms can sometimes make it hard to mentally compute the size of the difference - especially at time points when the waveforms' amplitudes are changing. In a difference waveform plot, the zero line clearly indicates no difference between conditions, and so the magnitude of the difference — as well as its timing — is easy to see. "
   ]
  },
  {
   "cell_type": "markdown",
   "id": "d753de07-43e4-4902-83d2-931c496d2783",
   "metadata": {},
   "source": [
    "## Topoplot of Difference Waves\n",
    "\n",
    "And we can plot the scalp distribution of the differences as well, which nicely shows the scalp distribution of the N400, starting around 576 ms and peaking around 700 ms — corresponding to the negative peak in the waveform plot above. This timing is quite late for the N400, which is typically observed from approximately 300–500 ms. However, in this study the participant was being trained on a new language, and so these ERPs reflect their brain's response to words that they had only recently learned. N400s are often delayed when people are processing a language they are less fluent in (e.g., [Newman et al., 2012](https://dx.doi.org/:10.1162/jocn_a_00143))."
   ]
  },
  {
   "cell_type": "code",
   "execution_count": null,
   "id": "1ed66b6e-89d6-45d8-9827-3c6080aa6901",
   "metadata": {
    "collapsed": false,
    "jupyter": {
     "outputs_hidden": false
    }
   },
   "outputs": [],
   "source": [
    "import numpy as np\n",
    "\n",
    "# Specify times to plot at, as [min],[max],[stepsize]\n",
    "times = np.arange(0, evokeds_diff.tmax, 0.1)\n",
    "\n",
    "evokeds_diff.plot_topomap(times=times, average=0.050);"
   ]
  },
  {
   "cell_type": "markdown",
   "id": "eb100fce-7603-4d47-951b-4ef9332fd5f9",
   "metadata": {},
   "source": [
    "## Saving figures to files\n",
    "\n",
    "Since MNE uses Matplotlib for its plotting duties, it is easy to save any MNE figure as an image file. The way to do this is somewhat non-intuitive. You have to run the plotting command with the `show=False` kwarg, and then running `plt.savefig()`. The figure will still show in your notebook (which is non-intuitive given the kwarg), but it will also be saved to the file name you specify. The extension you give the filename (e.g., `.png`, `.jpg`, `.pdf`) determines the image file format."
   ]
  },
  {
   "cell_type": "code",
   "execution_count": null,
   "id": "c7368c32-fe42-4ac1-a848-3f74b6d17757",
   "metadata": {},
   "outputs": [],
   "source": [
    "import matplotlib.pyplot as plt\n",
    "\n",
    "evokeds_diff.plot_topomap(times=times, average=0.050, \n",
    "                          show=False)\n",
    "\n",
    "plt.savefig('diffwave_topomaps.png')"
   ]
  },
  {
   "cell_type": "markdown",
   "id": "b331e07f-0a4b-47bd-aef7-0a489203a645",
   "metadata": {
    "tags": []
   },
   "source": [
    "## Summary\n",
    "\n",
    "MNE provides useful tools for plotting ERP data, in particular for comparing waveforms between conditions — which is the main goal of most ERP experiments. The `mne.combine_evoked()` function can be used to create difference waveforms, which provide additional useful visualizations since they focus the viewer's attention on the differences between conditions, rather than the morphology of the individual condition waveforms.\n",
    "\n",
    "After each individual participant's data has been preprocessed through a pipeline line this, the next step in analyzing an ERP experiment would be a group-level analysis. In a group-level analysis, the data from all participants would typically be averaged, and visualized using waveform plots and scalp topographic maps similar to the ones we've created here for one participant. \n",
    "\n",
    "Before we get to that, however, there is one more preprocessing step that we will examine: re-referencing. This is a step that is often performed after averaging, but before group-level analysis. We will examine this step in the next notebook.\n"
   ]
  }
 ],
 "metadata": {
  "kernelspec": {
   "display_name": "Python 3 (ipykernel)",
   "language": "python",
   "name": "python3"
  },
  "language_info": {
   "codemirror_mode": {
    "name": "ipython",
    "version": 3
   },
   "file_extension": ".py",
   "mimetype": "text/x-python",
   "name": "python",
   "nbconvert_exporter": "python",
   "pygments_lexer": "ipython3",
   "version": "3.11.6"
  }
 },
 "nbformat": 4,
 "nbformat_minor": 5
}
