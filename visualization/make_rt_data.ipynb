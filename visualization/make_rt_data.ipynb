{
 "cells": [
  {
   "cell_type": "code",
   "execution_count": 1,
   "id": "6fd80d55-9150-48f3-88e3-725e18a32aea",
   "metadata": {},
   "outputs": [],
   "source": [
    "import numpy as np"
   ]
  },
  {
   "cell_type": "code",
   "execution_count": 32,
   "id": "3af0fe36-1600-47b6-873d-4776aee3752e",
   "metadata": {},
   "outputs": [],
   "source": [
    "mu1, sigma1 = .550, 0.120\n",
    "mu2, sigma2 = .800, 0.125\n",
    "\n",
    "num_subj = 5\n",
    "num_trials = 25\n",
    "c1_label = 'word'\n",
    "c2_label = 'nonword'"
   ]
  },
  {
   "cell_type": "code",
   "execution_count": 7,
   "id": "c2ae700c-56c1-4054-8458-1f66d777bed1",
   "metadata": {},
   "outputs": [],
   "source": [
    "for subj in range(1, num_subj+1):\n",
    "    if subj < 10:\n",
    "        leading = '0'\n",
    "    else:\n",
    "        leading = ''\n",
    "        \n",
    "    subj_id = np.repeat('rtexp_s' + leading + str(subj), num_trials)\n",
    "    subj_array = np.repeat(subj_id, num_trials * 2)\n",
    "\n",
    "\n",
    "    c1 = np.random.default_rng().normal(mu1, sigma1, num_trials)\n",
    "    c1_array = np.column_stack((np.repeat(c1_label, num_trials), c1))\n",
    "    \n",
    "    c2 = np.random.default_rng().normal(mu2, sigma2, num_trials)\n",
    "    c2_array = np.column_stack((np.repeat(c2_label, num_trials), c2))\n",
    "\n",
    "    c1_c2 = np.vstack((c1_array, c2_array))\n",
    "    \n",
    "    subj_array = np.repeat(subj_id, num_trials * 2)\n",
    "    \n",
    "    df = pd.DataFrame({'subject':subj_id,\n",
    "                       'condition'\n",
    "                      })"
   ]
  },
  {
   "cell_type": "code",
   "execution_count": 33,
   "id": "b78a50e1-bac4-4734-b1fd-497086355977",
   "metadata": {},
   "outputs": [],
   "source": [
    "c1 = np.random.default_rng().normal(mu1, sigma1, num_trials)\n",
    "c1_array = np.column_stack((np.repeat(c1_label, num_trials), c1))\n",
    "\n",
    "c2 = np.random.default_rng().normal(mu2, sigma2, num_trials)\n",
    "c2_array = np.column_stack((np.repeat(c2_label, num_trials), c2))\n",
    "\n",
    "\n"
   ]
  },
  {
   "cell_type": "code",
   "execution_count": 41,
   "id": "85276e91-6b47-40ce-9bf2-dd54804cb3fc",
   "metadata": {},
   "outputs": [],
   "source": [
    "subj = 1\n",
    "leading = '0'\n",
    "subj_id = np.repeat('rtexp_s' + leading + str(subj), num_trials)\n",
    "subj_array = np.repeat(subj_id, num_trials * 2)"
   ]
  },
  {
   "cell_type": "code",
   "execution_count": 30,
   "id": "6222e172-f598-4499-b383-06109702cc27",
   "metadata": {},
   "outputs": [
    {
     "data": {
      "text/plain": [
       "array([['word', '0.509930400327789'],\n",
       "       ['word', '0.3634285185795533'],\n",
       "       ['word', '0.5941609796374311'],\n",
       "       ['word', '0.5664603814430962'],\n",
       "       ['word', '0.6459551382399621'],\n",
       "       ['word', '0.48894989832672897'],\n",
       "       ['word', '0.5978352651611852'],\n",
       "       ['word', '0.31303148311729445'],\n",
       "       ['word', '0.44973929968861515'],\n",
       "       ['word', '0.48108901857193265'],\n",
       "       ['word', '0.37923298209450973'],\n",
       "       ['word', '0.34618415711742456'],\n",
       "       ['word', '0.5272215272503804'],\n",
       "       ['word', '0.45697854705230206'],\n",
       "       ['word', '0.7909392538035036'],\n",
       "       ['word', '0.5309132596869306'],\n",
       "       ['word', '0.5823564388402245'],\n",
       "       ['word', '0.4668692959464436'],\n",
       "       ['word', '0.5727602628362036'],\n",
       "       ['word', '0.609333499575233'],\n",
       "       ['word', '0.34070327439375936'],\n",
       "       ['word', '0.5256331114271895'],\n",
       "       ['word', '0.6172265396450429'],\n",
       "       ['word', '0.7886733449597669'],\n",
       "       ['word', '0.5765643105031236']], dtype='<U32')"
      ]
     },
     "execution_count": 30,
     "metadata": {},
     "output_type": "execute_result"
    }
   ],
   "source": [
    "np.column_stack((np.repeat('word', 25), c1))"
   ]
  },
  {
   "cell_type": "code",
   "execution_count": null,
   "id": "abb03b57-9c92-4548-8dd2-6b7207c81b0d",
   "metadata": {},
   "outputs": [],
   "source": []
  }
 ],
 "metadata": {
  "kernelspec": {
   "display_name": "Python 3 (ipykernel)",
   "language": "python",
   "name": "python3"
  },
  "language_info": {
   "codemirror_mode": {
    "name": "ipython",
    "version": 3
   },
   "file_extension": ".py",
   "mimetype": "text/x-python",
   "name": "python",
   "nbconvert_exporter": "python",
   "pygments_lexer": "ipython3",
   "version": "3.9.6"
  }
 },
 "nbformat": 4,
 "nbformat_minor": 5
}
