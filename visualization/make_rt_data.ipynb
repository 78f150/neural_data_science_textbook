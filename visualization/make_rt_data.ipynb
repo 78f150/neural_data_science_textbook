{
  "cells": [
    {
      "cell_type": "markdown",
      "source": [
        "# Make some fake RT data\n",
        "\n",
        "This generates data for the Seaborn lesson. It is not intended to be a public section of the book."
      ],
      "metadata": {},
      "id": "1cf59460-7793-4dff-83f7-5333e266239e"
    },
    {
      "cell_type": "code",
      "source": [
        "import numpy as np\n",
        "import pandas as pd"
      ],
      "outputs": [],
      "execution_count": 1,
      "metadata": {},
      "id": "6fd80d55-9150-48f3-88e3-725e18a32aea"
    },
    {
      "cell_type": "code",
      "source": [
        "mu1, sigma1 = .600, 0.120\n",
        "mu2, sigma2 = .800, 0.125\n",
        "\n",
        "num_subj = 5\n",
        "num_trials = 25\n",
        "c1_label = 'word'\n",
        "c2_label = 'nonword'\n",
        "exp_name = 'ldt'"
      ],
      "outputs": [],
      "execution_count": 2,
      "metadata": {},
      "id": "3af0fe36-1600-47b6-873d-4776aee3752e"
    },
    {
      "cell_type": "markdown",
      "source": [
        "## Make data for first Seaborn lesson"
      ],
      "metadata": {},
      "id": "99041037-887f-4a3c-bfe9-139eaab2dde5"
    },
    {
      "cell_type": "code",
      "source": [
        "for subj in range(1, num_subj+1):\n",
        "    if subj < 10:\n",
        "        leading = '0'\n",
        "    else:\n",
        "        leading = ''\n",
        "        \n",
        "    subj_id = exp_name + '_s' + leading + str(subj)\n",
        "    subj_array = np.repeat(subj_id, num_trials * 2)\n",
        "\n",
        "    c1 = np.random.default_rng().normal(mu1, sigma1, num_trials)\n",
        "    c1_array = np.column_stack((np.repeat(c1_label, num_trials), c1))\n",
        "\n",
        "    c2 = np.random.default_rng().normal(mu2, sigma2, num_trials)\n",
        "    c2_array = np.column_stack((np.repeat(c2_label, num_trials), c2))\n",
        "\n",
        "    dat = np.vstack((c1_array, c2_array))\n",
        "\n",
        "\n",
        "    full_dat = np.column_stack((subj_array, dat))\n",
        "    df = pd.DataFrame(full_dat, columns=['ID', 'condition', 'RT'])\n",
        "#     df.to_csv('data/' + subj_id + '_data.csv', index=False)"
      ],
      "outputs": [],
      "execution_count": 3,
      "metadata": {},
      "id": "c2ae700c-56c1-4054-8458-1f66d777bed1"
    },
    {
      "cell_type": "markdown",
      "source": [
        "## Make data for nested data lesson"
      ],
      "metadata": {},
      "id": "46269a16-d880-41cf-826b-d0e3f3b6fe7a"
    },
    {
      "cell_type": "code",
      "source": [
        "mu1, sigma1 = .600, 0.050\n",
        "mu2, sigma2 = .800, 0.055\n",
        "\n",
        "mu_s_sigma = .100\n",
        "mu_s_sigma_sigma = .150\n",
        "mu_s_sigma_sigma2 = .151\n",
        "\n",
        "\n",
        "num_subj = 20\n",
        "num_trials = 25\n",
        "c1_label = 'word'\n",
        "c2_label = 'nonword'\n",
        "exp_name = 'ldt2'\n",
        "\n",
        "\n",
        "for subj in range(1, num_subj+1):\n",
        "    if subj < 10:\n",
        "        leading = '0'\n",
        "    else:\n",
        "        leading = ''\n",
        "        \n",
        "    subj_id = exp_name + '_s' + leading + str(subj)\n",
        "    subj_array = np.repeat(subj_id, num_trials * 2)\n",
        "    \n",
        "    # Make each subject's mean and variance a bit different\n",
        "    mu1s = mu1 + np.random.default_rng().normal(0, mu_s_sigma, 1)\n",
        "#     sigma1s = sigma1 + np.random.default_rng().normal(0, np.abs(mu_s_sigma_sigma), 1)\n",
        "    c1 = np.random.default_rng().normal(mu1s, sigma1, num_trials)\n",
        "    c1_array = np.column_stack((np.repeat(c1_label, num_trials), c1))\n",
        "\n",
        "    mu2s = mu2 + np.random.default_rng().normal(0, mu_s_sigma, 1)\n",
        "#     sigma2s = sigma2 + np.random.default_rng().normal(0, np.abs(mu_s_sigma_sigma2), 1)\n",
        "    c2 = np.random.default_rng().normal(mu2s, sigma2, num_trials)\n",
        "    c2_array = np.column_stack((np.repeat(c2_label, num_trials), c2))\n",
        "\n",
        "    dat = np.vstack((c1_array, c2_array))\n",
        "\n",
        "    full_dat = np.column_stack((subj_array, dat))\n",
        "    df = pd.DataFrame(full_dat, columns=['ID', 'condition', 'RT'])\n",
        "#     df.to_csv('data/' + subj_id + '_data.csv', index=False)"
      ],
      "outputs": [],
      "execution_count": 7,
      "metadata": {},
      "id": "f06442de-5a56-4870-8011-84c88d310164"
    },
    {
      "cell_type": "code",
      "source": [
        "mu1s"
      ],
      "outputs": [],
      "execution_count": null,
      "metadata": {},
      "id": "ce6ca124-6c6a-4370-82cb-5d1206d8d5c8"
    },
    {
      "cell_type": "code",
      "source": [
        "mu2s"
      ],
      "outputs": [],
      "execution_count": null,
      "metadata": {},
      "id": "5718351b-740e-4ed5-99d0-19ee355540df"
    },
    {
      "cell_type": "code",
      "source": [
        "\n",
        "np.abs(sigma2s)"
      ],
      "outputs": [
        {
          "output_type": "execute_result",
          "execution_count": 6,
          "data": {
            "text/plain": "array([0.14759854])"
          },
          "metadata": {}
        }
      ],
      "execution_count": 6,
      "metadata": {},
      "id": "54b13a87-5c80-4ed9-ac0a-0244d3443e61"
    },
    {
      "cell_type": "code",
      "source": [
        "np.random.default_rng().normal(mu1s, sigma2s, num_trials)"
      ],
      "outputs": [],
      "execution_count": null,
      "metadata": {},
      "id": "c611fad7-3bd3-4819-829f-ac0c57ad9e49"
    },
    {
      "cell_type": "code",
      "source": [
        "np.random.default_rng().normal(mu2s, sigma1s, num_trials)"
      ],
      "outputs": [],
      "execution_count": null,
      "metadata": {},
      "id": "61633c09-530e-4d47-bc39-fcffbe3ef912"
    },
    {
      "cell_type": "code",
      "source": [
        "mu1s"
      ],
      "outputs": [],
      "execution_count": null,
      "metadata": {},
      "id": "ba663bf9-5686-4e36-a87b-7a732035057a"
    },
    {
      "cell_type": "code",
      "source": [
        "sigma1s"
      ],
      "outputs": [],
      "execution_count": null,
      "metadata": {},
      "id": "a3dff028-94a2-4c06-a2ee-3e7fb34dcfb6"
    },
    {
      "cell_type": "code",
      "source": [],
      "outputs": [],
      "execution_count": null,
      "metadata": {},
      "id": "fc7b1bb9-8bca-453a-9123-dd3062fa8efa"
    }
  ],
  "metadata": {
    "kernelspec": {
      "display_name": "Python 3 (ipykernel)",
      "language": "python",
      "name": "python3"
    },
    "language_info": {
      "codemirror_mode": {
        "name": "ipython",
        "version": 3
      },
      "file_extension": ".py",
      "mimetype": "text/x-python",
      "name": "python",
      "nbconvert_exporter": "python",
      "pygments_lexer": "ipython3",
      "version": "3.9.6"
    },
    "nteract": {
      "version": "0.28.0"
    }
  },
  "nbformat": 4,
  "nbformat_minor": 5
}