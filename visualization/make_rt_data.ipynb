{
 "cells": [
  {
   "cell_type": "markdown",
   "id": "1cf59460-7793-4dff-83f7-5333e266239e",
   "metadata": {},
   "source": [
    "# Make some fake RT data\n",
    "\n",
    "This generates data for the Seaborn lesson. It is not intended to be a public section of the book."
   ]
  },
  {
   "cell_type": "code",
   "execution_count": 26,
   "id": "6fd80d55-9150-48f3-88e3-725e18a32aea",
   "metadata": {},
   "outputs": [],
   "source": [
    "import numpy as np\n",
    "import pandas as pd"
   ]
  },
  {
   "cell_type": "code",
   "execution_count": 38,
   "id": "3af0fe36-1600-47b6-873d-4776aee3752e",
   "metadata": {},
   "outputs": [],
   "source": [
    "mu1, sigma1 = .550, 0.120\n",
    "mu2, sigma2 = .800, 0.125\n",
    "\n",
    "num_subj = 5\n",
    "num_trials = 25\n",
    "c1_label = 'word'\n",
    "c2_label = 'nonword'\n",
    "exp_name = 'ldt'"
   ]
  },
  {
   "cell_type": "code",
   "execution_count": 40,
   "id": "c2ae700c-56c1-4054-8458-1f66d777bed1",
   "metadata": {},
   "outputs": [],
   "source": [
    "for subj in range(1, num_subj+1):\n",
    "    if subj < 10:\n",
    "        leading = '0'\n",
    "    else:\n",
    "        leading = ''\n",
    "        \n",
    "    subj_id = exp_name + '_s' + leading + str(subj)\n",
    "    subj_array = np.repeat(subj_id, num_trials * 2)\n",
    "\n",
    "    c1 = np.random.default_rng().normal(mu1, sigma1, num_trials)\n",
    "    c1_array = np.column_stack((np.repeat(c1_label, num_trials), c1))\n",
    "\n",
    "    c2 = np.random.default_rng().normal(mu2, sigma2, num_trials)\n",
    "    c2_array = np.column_stack((np.repeat(c2_label, num_trials), c2))\n",
    "\n",
    "    dat = np.vstack((c1_array, c2_array))\n",
    "\n",
    "\n",
    "    full_dat = np.column_stack((subj_array, dat))\n",
    "    df = pd.DataFrame(full_dat, columns=['ID', 'condition', 'RT'])\n",
    "    df.to_csv('data/' + subj_id + '_data.csv', index=False)"
   ]
  },
  {
   "cell_type": "code",
   "execution_count": null,
   "id": "bd5f7441-7e33-4646-a7bb-7b7161688163",
   "metadata": {},
   "outputs": [],
   "source": []
  }
 ],
 "metadata": {
  "kernelspec": {
   "display_name": "Python 3 (ipykernel)",
   "language": "python",
   "name": "python3"
  },
  "language_info": {
   "codemirror_mode": {
    "name": "ipython",
    "version": 3
   },
   "file_extension": ".py",
   "mimetype": "text/x-python",
   "name": "python",
   "nbconvert_exporter": "python",
   "pygments_lexer": "ipython3",
   "version": "3.9.6"
  }
 },
 "nbformat": 4,
 "nbformat_minor": 5
}
