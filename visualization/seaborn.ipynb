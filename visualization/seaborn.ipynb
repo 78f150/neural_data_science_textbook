{
 "cells": [
  {
   "cell_type": "markdown",
   "id": "7ad28880-6bc8-4663-80eb-a0af28fe3dae",
   "metadata": {},
   "source": [
    "# Introduciton to Plotting with Seaborn\n",
    "\n",
    "## Learning Objectives\n",
    "- Be familiar with the use-cases for Seaborn plots\n",
    "- Generate a varity of plots in Seaborn useful for EDA\n",
    "- Recognize and appropriately use strategies for visualizing continuous versus categorical data\n",
    "- Appropriately plot nested data\n",
    "\n",
    "---\n",
    "\n",
    "## Introduction\n",
    "\n",
    "[Seaborn](https://seaborn.pydata.org) is a great Python plotting package that is built on top of Matplotlib. That is, it uses Matplotlib \"under the hood\", but it offers the user a much simpler API (set of commands) that enable us to generate a variety of great-looking plots that are particularly useful in data science. You can check out Seaboarn's [examples gallery](https://seaborn.pydata.org/examples/index.html) to see some of the cool stuff you can do (including plotting neuroscience data!).\n",
    "\n",
    "COmparing Seaborn to Matplotlib, you could say that Matplotlib givens you every sharp, hard-to-use tool in the shed, and you have to figure out how to learn them all without chopping off a finger. Fortunatley in coding you aren't likely to lose any fingers, but Seaborn gives you some DIY-friendly power tools to get data science jobs done easily and looking great. \n",
    "\n",
    "\n"
   ]
  }
 ],
 "metadata": {
  "kernelspec": {
   "display_name": "Python 3 (ipykernel)",
   "language": "python",
   "name": "python3"
  },
  "language_info": {
   "codemirror_mode": {
    "name": "ipython",
    "version": 3
   },
   "file_extension": ".py",
   "mimetype": "text/x-python",
   "name": "python",
   "nbconvert_exporter": "python",
   "pygments_lexer": "ipython3",
   "version": "3.9.6"
  }
 },
 "nbformat": 4,
 "nbformat_minor": 5
}
