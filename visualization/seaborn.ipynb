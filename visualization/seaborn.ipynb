{
 "cells": [
  {
   "cell_type": "markdown",
   "id": "7ad28880-6bc8-4663-80eb-a0af28fe3dae",
   "metadata": {},
   "source": [
    "# Introduction to Plotting with Seaborn\n",
    "\n",
    "**IN PROGRESS - FINAL VERSION TO BE PUBLISHED SEPT 29, 2021**\n",
    "\n",
    "## Learning Objectives\n",
    "- Be familiar with the use-cases for Seaborn plots\n",
    "- Generate a varity of plots in Seaborn useful for EDA\n",
    "- Recognize and appropriately use strategies for visualizing continuous versus categorical data\n",
    "- Appropriately plot nested data\n",
    "\n",
    "---\n",
    "\n",
    "## Introduction\n",
    "\n",
    "[Seaborn](https://seaborn.pydata.org) is a great Python plotting package that is built on top of Matplotlib. That is, it uses Matplotlib \"under the hood\", but it offers the user a much simpler API (set of commands) that enable us to generate a variety of great-looking plots that are particularly useful in data science. You can check out Seaboarn's [examples gallery](https://seaborn.pydata.org/examples/index.html) to see some of the cool stuff you can do (including plotting neuroscience data!). Seaborn was written by [Michael Waskom](https://mwaskom.github.io/).\n",
    "\n",
    "Comparing Seaborn to Matplotlib, you could say that Matplotlib givens you every sharp, hard-to-use tool in the shed, and you have to figure out how to learn them all without chopping off a finger. Fortunatley in data science you aren't likely to lose any fingers, but Seaborn gives you some DIY-friendly power tools to get data science jobs done easily and looking great. \n",
    "\n",
    "\n"
   ]
  },
  {
   "cell_type": "markdown",
   "id": "0ff8e231-13cd-41db-a73e-da71a1e14955",
   "metadata": {},
   "source": [
    "## Overview of Seaborn Plotting Functions\n",
    "\n",
    "Seaborn is organized into three categories of plot types, as shown below:\n",
    "\n",
    "<img src=https://seaborn.pydata.org/_images/function_overview_8_0.png  alt='Seaborn overview' width=500>\n",
    "\n",
    "*Image source: [seaborn.pydata.org](seaborn.pydata.org)*\n",
    "\n",
    "You can see that Seaborn's functions are organized around the different types of data, and questions we typically ask of data in data science: the `relpolt` function plots relationships between different (continuous) variables; the `displot` function plots distributions of data (such as histograms), and the`catplot` function.\n"
   ]
  },
  {
   "cell_type": "markdown",
   "id": "ba416fff-1919-44b4-be01-616ec4e41933",
   "metadata": {},
   "source": [
    "## Importing the Seaborn package\n",
    "\n",
    "By convention, the alias we use when importing Seaborn is `sns`.\n",
    "\n",
    "We'll also be using pandas and a bit of Matplotlib, so we'll import those packages at the same time."
   ]
  },
  {
   "cell_type": "code",
   "execution_count": 11,
   "id": "165a9b76-d95a-4438-8f0a-b352258a9353",
   "metadata": {},
   "outputs": [],
   "source": [
    "import seaborn as sns\n",
    "import pandas as pd\n",
    "import matplotlib.pyplot as plt"
   ]
  },
  {
   "cell_type": "markdown",
   "id": "dac90359-269f-47c7-9a40-1f6f78d7b9fe",
   "metadata": {},
   "source": []
  },
  {
   "cell_type": "markdown",
   "id": "0478be1e-48cf-4e62-b95f-ae6b6778c553",
   "metadata": {},
   "source": [
    "## Plotting Gapminder data\n",
    "\n",
    "Mostly we'll work with long-format data from here on, but since we have worked with the Gapminder data up until now, let's see how we can generate a plot similar to what we produced in the [Introduction to Plotting with Matplotlib](./plotting) lesson.\n",
    "\n",
    "First we'll load the Ocieania GDP data, and strip the leading text off column names so that they are just the years:"
   ]
  },
  {
   "cell_type": "code",
   "execution_count": 16,
   "id": "e5794c60-43c3-4c4f-8253-078788717312",
   "metadata": {},
   "outputs": [],
   "source": [
    "df = pd.read_csv('data/gapminder_gdp_oceania.csv', index_col='country')\n",
    "df.columns = df.columns.str.strip('gdpPercap_')"
   ]
  },
  {
   "cell_type": "markdown",
   "id": "fb1d202f-1c34-4b3a-94c0-e06b8ebdeb47",
   "metadata": {},
   "source": [
    "In the previous lesson, we plotted GDP for each country as a function of year. That is, year is on the *x* axis, GDP is on the *y* axis, and there are separate lines for each country. As discussed previously, in this dataset, year is a continuous variable, as is GDP, but country is a categorical variable. \n",
    "\n",
    "From the figure of Seaborn plot types above, you can see that `relplot()` is the function to use for relational plots — that is, when you want to show the relationships between two continuous variables (year and GDP in this case)."
   ]
  },
  {
   "cell_type": "code",
   "execution_count": 17,
   "id": "c1f5b9cd-3962-4369-85f7-f19a306aff0d",
   "metadata": {},
   "outputs": [
    {
     "data": {
      "image/png": "[encoded data removed]",
      "text/plain": [
       "<Figure size 461.75x360 with 1 Axes>"
      ]
     },
     "metadata": {
      "needs_background": "light"
     },
     "output_type": "display_data"
    }
   ],
   "source": [
    "sns.relplot(data=df.T, kind='line')  # For wide-format data we need to transpose rows & columns\n",
    "plt.show()"
   ]
  },
  {
   "cell_type": "markdown",
   "id": "bbe9f873-9036-40c1-8701-ff16aadc9691",
   "metadata": {},
   "source": [
    "### Plotting Long-Format Data"
   ]
  },
  {
   "cell_type": "code",
   "execution_count": null,
   "id": "879f68a6-612d-4798-a2c6-f2852b4b0e6c",
   "metadata": {},
   "outputs": [],
   "source": []
  }
 ],
 "metadata": {
  "kernelspec": {
   "display_name": "Python 3 (ipykernel)",
   "language": "python",
   "name": "python3"
  },
  "language_info": {
   "codemirror_mode": {
    "name": "ipython",
    "version": 3
   },
   "file_extension": ".py",
   "mimetype": "text/x-python",
   "name": "python",
   "nbconvert_exporter": "python",
   "pygments_lexer": "ipython3",
   "version": "3.9.6"
  }
 },
 "nbformat": 4,
 "nbformat_minor": 5
}
