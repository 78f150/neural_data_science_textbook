{
 "cells": [
  {
   "cell_type": "markdown",
   "id": "7ad28880-6bc8-4663-80eb-a0af28fe3dae",
   "metadata": {},
   "source": [
    "# Introduction to Plotting with Seaborn\n",
    "\n",
    "**IN PROGRESS - FINAL VERSION TO BE PUBLISHED SEPT 29, 2021**\n",
    "\n",
    "## Learning Objectives\n",
    "- Be familiar with the use-cases for Seaborn plots\n",
    "- Generate a varity of plots in Seaborn useful for EDA\n",
    "- Recognize and appropriately use strategies for visualizing continuous versus categorical data\n",
    "- Appropriately plot nested data\n",
    "\n",
    "---\n",
    "\n",
    "## Introduction\n",
    "\n",
    "[Seaborn](https://seaborn.pydata.org) is a great Python plotting package that is built on top of Matplotlib. That is, it uses Matplotlib \"under the hood\", but it offers the user a much simpler API (set of commands) that enable us to generate a variety of great-looking plots that are particularly useful in data science. You can check out Seaboarn's [examples gallery](https://seaborn.pydata.org/examples/index.html) to see some of the cool stuff you can do (including plotting neuroscience data!). Seaborn was written by [Michael Waskom](https://mwaskom.github.io/).\n",
    "\n",
    "Comparing Seaborn to Matplotlib, you could say that Matplotlib givens you every sharp, hard-to-use tool in the shed, and you have to figure out how to learn them all without chopping off a finger. Fortunatley in data science you aren't likely to lose any fingers, but Seaborn gives you some DIY-friendly power tools to get data science jobs done easily and looking great. \n",
    "\n",
    "\n"
   ]
  },
  {
   "cell_type": "markdown",
   "id": "0ff8e231-13cd-41db-a73e-da71a1e14955",
   "metadata": {},
   "source": [
    "## Overview of Seaborn Plotting Functions\n",
    "\n",
    "Seaborn is organized into three categories of plot types, as shown below:\n",
    "\n",
    "<img src=https://seaborn.pydata.org/_images/function_overview_8_0.png  alt='Seaborn overview' width=500>\n",
    "\n",
    "*Image source: [seaborn.pydata.org](seaborn.pydata.org)*\n",
    "\n",
    "You can see that Seaborn's functions are organized around the different types of data, and questions we typically ask of data in data science: the `relpolt` function plots relationships between different (continuous) variables; the `displot` function plots distributions of data (such as histograms), and the`catplot` function.\n"
   ]
  },
  {
   "cell_type": "markdown",
   "id": "ba416fff-1919-44b4-be01-616ec4e41933",
   "metadata": {},
   "source": [
    "## Importing the Seaborn package\n",
    "\n",
    "By convention, the alias we use when importing Seaborn is `sns`.\n",
    "\n",
    "We'll also be using some other packages, so we'll import those packages at the same time."
   ]
  },
  {
   "cell_type": "code",
   "execution_count": 1,
   "id": "165a9b76-d95a-4438-8f0a-b352258a9353",
   "metadata": {},
   "outputs": [],
   "source": [
    "import seaborn as sns\n",
    "import pandas as pd\n",
    "import matplotlib.pyplot as plt\n",
    "import glob"
   ]
  },
  {
   "cell_type": "markdown",
   "id": "dac90359-269f-47c7-9a40-1f6f78d7b9fe",
   "metadata": {},
   "source": []
  },
  {
   "cell_type": "markdown",
   "id": "0478be1e-48cf-4e62-b95f-ae6b6778c553",
   "metadata": {},
   "source": [
    "## Plotting Gapminder data\n",
    "\n",
    "Mostly we'll work with long-format data from here on, but since we have worked with the Gapminder data up until now, let's see how we can generate a plot similar to what we produced in the [Introduction to Plotting with Matplotlib](./plotting) lesson.\n",
    "\n",
    "First we'll load the Ocieania GDP data, and strip the leading text off column names so that they are just the years:"
   ]
  },
  {
   "cell_type": "code",
   "execution_count": 12,
   "id": "e5794c60-43c3-4c4f-8253-078788717312",
   "metadata": {},
   "outputs": [],
   "source": [
    "df = pd.read_csv('data/gapminder_gdp_oceania.csv', index_col='country')\n",
    "df.columns = df.columns.str.strip('gdpPercap_')"
   ]
  },
  {
   "cell_type": "markdown",
   "id": "fb1d202f-1c34-4b3a-94c0-e06b8ebdeb47",
   "metadata": {},
   "source": [
    "In the previous lesson, we plotted GDP for each country as a function of year. That is, year is on the *x* axis, GDP is on the *y* axis, and there are separate lines for each country. As discussed previously, in this dataset, year is a continuous variable, as is GDP, but country is a categorical variable. \n",
    "\n",
    "From the figure of Seaborn plot types above, you can see that `relplot()` is the function to use for relational plots — that is, when you want to show the relationships between two continuous variables (year and GDP in this case)."
   ]
  },
  {
   "cell_type": "code",
   "execution_count": 13,
   "id": "c1f5b9cd-3962-4369-85f7-f19a306aff0d",
   "metadata": {},
   "outputs": [
    {
     "data": {
      "image/png": "[encoded data removed]",
      "text/plain": [
       "<Figure size 461.75x360 with 1 Axes>"
      ]
     },
     "metadata": {
      "needs_background": "light"
     },
     "output_type": "display_data"
    }
   ],
   "source": [
    "sns.relplot(data=df.T, kind='line')  # For wide-format data we need to transpose rows & columns\n",
    "plt.show() # Always good practice to have this as the last line in a plotting cell"
   ]
  },
  {
   "cell_type": "markdown",
   "id": "bbe9f873-9036-40c1-8701-ff16aadc9691",
   "metadata": {},
   "source": [
    "### Plotting Long-Format Data\n",
    "\n",
    "Let's move to working some some data of the sort we might find in cognitive psychology. Imagine a simple **lexical decision task**, an experiment in which each trial involves presenting a printed string of letters to a participant, and asking them to make a response as quickly as possible: pressing one button of the word is a real word in their native language, and another button if it is not a real word. The dependent variable in the experiment is reation time (RT) — the amount of time that passed between the onset of the word on the screen, and the button press.\n",
    "\n",
    "Lexical decision tasks are commonly used in psycholinguistics to explore properties of the real words, such as their length or how frequently they occur in normal usage. However, for our simple example, we'll focus on the simpler fact that, on average, people are slower in responding to nonwords than real words (especially if the nonwords look plausibly like real words, for example words like *blorp* or *furtle* that follow English word formation patterns).\n",
    "\n",
    "We've created some data, using a random number generator, to use in our plotting examples. The data were deliberately created with certain properties, so that the expected difference between RTs. We have data from 5 hypothetical participants, stored in separate data files in the `data` folder. The naming format for the files is `ldt_sXX_data.csv`, where `XX` stands for the subject ID number (two digits).\n",
    "\n",
    "First we'll load the data from the files, practcing our [list comprehension](../3/looping-data-files), and storing the result in a pandas DataFrame called `df`:"
   ]
  },
  {
   "cell_type": "code",
   "execution_count": 14,
   "id": "879f68a6-612d-4798-a2c6-f2852b4b0e6c",
   "metadata": {},
   "outputs": [],
   "source": [
    "df = pd.concat([pd.read_csv(f) for f in glob.glob('data/ldt_s??_data.csv')])"
   ]
  },
  {
   "cell_type": "markdown",
   "id": "bce63ff8-55be-4e60-b849-f8a25ca0312f",
   "metadata": {},
   "source": [
    "Let's look at a sample of the data:"
   ]
  },
  {
   "cell_type": "code",
   "execution_count": 15,
   "id": "c064fbe9-f943-4d0e-ae50-85b7bf526ca8",
   "metadata": {},
   "outputs": [
    {
     "data": {
      "text/html": [
       "<div>\n",
       "<style scoped>\n",
       "    .dataframe tbody tr th:only-of-type {\n",
       "        vertical-align: middle;\n",
       "    }\n",
       "\n",
       "    .dataframe tbody tr th {\n",
       "        vertical-align: top;\n",
       "    }\n",
       "\n",
       "    .dataframe thead th {\n",
       "        text-align: right;\n",
       "    }\n",
       "</style>\n",
       "<table border=\"1\" class=\"dataframe\">\n",
       "  <thead>\n",
       "    <tr style=\"text-align: right;\">\n",
       "      <th></th>\n",
       "      <th>ID</th>\n",
       "      <th>condition</th>\n",
       "      <th>RT</th>\n",
       "    </tr>\n",
       "  </thead>\n",
       "  <tbody>\n",
       "    <tr>\n",
       "      <th>14</th>\n",
       "      <td>ldt_s01</td>\n",
       "      <td>word</td>\n",
       "      <td>0.594508</td>\n",
       "    </tr>\n",
       "    <tr>\n",
       "      <th>7</th>\n",
       "      <td>ldt_s04</td>\n",
       "      <td>word</td>\n",
       "      <td>0.629895</td>\n",
       "    </tr>\n",
       "    <tr>\n",
       "      <th>45</th>\n",
       "      <td>ldt_s02</td>\n",
       "      <td>nonword</td>\n",
       "      <td>0.579624</td>\n",
       "    </tr>\n",
       "    <tr>\n",
       "      <th>37</th>\n",
       "      <td>ldt_s02</td>\n",
       "      <td>nonword</td>\n",
       "      <td>0.820527</td>\n",
       "    </tr>\n",
       "    <tr>\n",
       "      <th>25</th>\n",
       "      <td>ldt_s03</td>\n",
       "      <td>nonword</td>\n",
       "      <td>0.855808</td>\n",
       "    </tr>\n",
       "    <tr>\n",
       "      <th>46</th>\n",
       "      <td>ldt_s01</td>\n",
       "      <td>nonword</td>\n",
       "      <td>0.909337</td>\n",
       "    </tr>\n",
       "    <tr>\n",
       "      <th>18</th>\n",
       "      <td>ldt_s02</td>\n",
       "      <td>word</td>\n",
       "      <td>0.402575</td>\n",
       "    </tr>\n",
       "    <tr>\n",
       "      <th>40</th>\n",
       "      <td>ldt_s05</td>\n",
       "      <td>nonword</td>\n",
       "      <td>0.897466</td>\n",
       "    </tr>\n",
       "    <tr>\n",
       "      <th>30</th>\n",
       "      <td>ldt_s03</td>\n",
       "      <td>nonword</td>\n",
       "      <td>0.764681</td>\n",
       "    </tr>\n",
       "    <tr>\n",
       "      <th>3</th>\n",
       "      <td>ldt_s01</td>\n",
       "      <td>word</td>\n",
       "      <td>0.470913</td>\n",
       "    </tr>\n",
       "  </tbody>\n",
       "</table>\n",
       "</div>"
      ],
      "text/plain": [
       "         ID condition        RT\n",
       "14  ldt_s01      word  0.594508\n",
       "7   ldt_s04      word  0.629895\n",
       "45  ldt_s02   nonword  0.579624\n",
       "37  ldt_s02   nonword  0.820527\n",
       "25  ldt_s03   nonword  0.855808\n",
       "46  ldt_s01   nonword  0.909337\n",
       "18  ldt_s02      word  0.402575\n",
       "40  ldt_s05   nonword  0.897466\n",
       "30  ldt_s03   nonword  0.764681\n",
       "3   ldt_s01      word  0.470913"
      ]
     },
     "execution_count": 15,
     "metadata": {},
     "output_type": "execute_result"
    }
   ],
   "source": [
    "df.sample(10)"
   ]
  },
  {
   "cell_type": "markdown",
   "id": "6243e29c-8270-4d93-909d-ce14cccd2b95",
   "metadata": {},
   "source": [
    "We can see that there are three columns:\n",
    "- `ID` is the unique participant identifier\n",
    "- `condition` is the type of word (real or nonword)\n",
    "- `RT` is reaction time, measured in seconds"
   ]
  },
  {
   "cell_type": "markdown",
   "id": "d8ce2c97-6e26-4213-a1ba-f06e596f6e16",
   "metadata": {},
   "source": [
    "## Descriptive statistics\n",
    "\n",
    "We can use the pandas `.describe()` method to examine some basic properties of our data:"
   ]
  },
  {
   "cell_type": "code",
   "execution_count": 18,
   "id": "c1c25c54-1f49-4f35-ba64-b9ba2790b874",
   "metadata": {},
   "outputs": [
    {
     "data": {
      "text/html": [
       "<div>\n",
       "<style scoped>\n",
       "    .dataframe tbody tr th:only-of-type {\n",
       "        vertical-align: middle;\n",
       "    }\n",
       "\n",
       "    .dataframe tbody tr th {\n",
       "        vertical-align: top;\n",
       "    }\n",
       "\n",
       "    .dataframe thead th {\n",
       "        text-align: right;\n",
       "    }\n",
       "</style>\n",
       "<table border=\"1\" class=\"dataframe\">\n",
       "  <thead>\n",
       "    <tr style=\"text-align: right;\">\n",
       "      <th></th>\n",
       "      <th>RT</th>\n",
       "    </tr>\n",
       "  </thead>\n",
       "  <tbody>\n",
       "    <tr>\n",
       "      <th>count</th>\n",
       "      <td>250.000000</td>\n",
       "    </tr>\n",
       "    <tr>\n",
       "      <th>mean</th>\n",
       "      <td>0.670811</td>\n",
       "    </tr>\n",
       "    <tr>\n",
       "      <th>std</th>\n",
       "      <td>0.177410</td>\n",
       "    </tr>\n",
       "    <tr>\n",
       "      <th>min</th>\n",
       "      <td>0.292526</td>\n",
       "    </tr>\n",
       "    <tr>\n",
       "      <th>25%</th>\n",
       "      <td>0.536520</td>\n",
       "    </tr>\n",
       "    <tr>\n",
       "      <th>50%</th>\n",
       "      <td>0.654281</td>\n",
       "    </tr>\n",
       "    <tr>\n",
       "      <th>75%</th>\n",
       "      <td>0.798783</td>\n",
       "    </tr>\n",
       "    <tr>\n",
       "      <th>max</th>\n",
       "      <td>1.144543</td>\n",
       "    </tr>\n",
       "  </tbody>\n",
       "</table>\n",
       "</div>"
      ],
      "text/plain": [
       "               RT\n",
       "count  250.000000\n",
       "mean     0.670811\n",
       "std      0.177410\n",
       "min      0.292526\n",
       "25%      0.536520\n",
       "50%      0.654281\n",
       "75%      0.798783\n",
       "max      1.144543"
      ]
     },
     "execution_count": 18,
     "metadata": {},
     "output_type": "execute_result"
    }
   ],
   "source": [
    "df.describe()"
   ]
  },
  {
   "cell_type": "markdown",
   "id": "de5ed586-168a-4728-8693-0ea7614fb0ab",
   "metadata": {},
   "source": [
    "Since `RT` is the only continuous variable in this DataFrame, we only get descriptive statistics for this variable."
   ]
  },
  {
   "cell_type": "markdown",
   "id": "5f28f75e-2ad6-461d-830f-0219ed2994cc",
   "metadata": {},
   "source": [
    "## Examining distributions with histograms\n",
    "\n",
    "**Histograms** are a type of plot that allows us to view distributions of values. The *x* axis of a histogram represents the values in the data, and the *y* axis shows the count of how many trials had that value on the *x* axis. Values on the *x* axis are grouped into *bins* — ranges of values. \n",
    "\n",
    "In Seaborn, we use the `displot()` function to plot distributions. Histograms are one type of `displot`, but they are the default, so we can just run the following:"
   ]
  },
  {
   "cell_type": "code",
   "execution_count": 17,
   "id": "cb8d3877-4f5f-40c1-abe6-00733fff9612",
   "metadata": {},
   "outputs": [
    {
     "data": {
      "image/png": "[encoded data removed]",
      "text/plain": [
       "<Figure size 360x360 with 1 Axes>"
      ]
     },
     "metadata": {
      "needs_background": "light"
     },
     "output_type": "display_data"
    }
   ],
   "source": [
    "sns.displot(data=df, x='RT')\n",
    "plt.show()"
   ]
  },
  {
   "cell_type": "markdown",
   "id": "d58fddd2-f4a4-4bc5-9687-c77aed7d50b8",
   "metadata": {},
   "source": [
    "Comparing the range of values on the *x* axis with the `min` and `max` values from `df.describe()`, we see that the entire range of values is represented. The range of RT values have been binned into 11 categories, in order to draw the 11 bars in the histogram. We can see that the most common values of RT are between approximately 0.5 – 0.6 s, which corresponds to the median (`50%`) value shown by `pd.describe()`. We can also see that the data are slightly *skewed* — there is a wider range of values to the right than the left of the peak. Visualizing distributions is thus a useful way of examining your data, and you can likely glean more information from this plot, more quickly and easily, than from the descriptive statistics table above.\n",
    "\n",
    "An alternative form of ditribution plot in Seaborn is the *kernel density estimate* (`kde`; often more simply called a \"density plot\"). This is like a histogram, but plots smooth curves over the range of values rather than bins as bars. To override `displot()`'s deafult of plotting a histogram, we add a `kind` kwarg: "
   ]
  },
  {
   "cell_type": "code",
   "execution_count": 20,
   "id": "2e4ca4a0-4c89-4bef-a5ab-800f53e5dbce",
   "metadata": {},
   "outputs": [
    {
     "data": {
      "image/png": "[encoded data removed]",
      "text/plain": [
       "<Figure size 360x360 with 1 Axes>"
      ]
     },
     "metadata": {
      "needs_background": "light"
     },
     "output_type": "display_data"
    }
   ],
   "source": [
    "sns.displot(kind='kde',\n",
    "           data=df, x='RT')\n",
    "plt.show()"
   ]
  },
  {
   "cell_type": "markdown",
   "id": "c4ab9475-e624-4fec-8c67-5d60a679d08c",
   "metadata": {},
   "source": [
    "Density plots arguably make more sense for continuous variables like reaction time, since they represent continuous variables in a more continuous fashion. "
   ]
  },
  {
   "cell_type": "markdown",
   "id": "58023d67-c205-42f9-9d39-1b3f75bb1ff8",
   "metadata": {},
   "source": [
    "## Viewing the data by condition\n",
    "\n",
    "As noted, the experiment had two conditions, words and nonwords. So far we've looked at the data overall, combining RTs from those two conditions. But it's easy to look at the data broken down by condition. \n",
    "\n",
    "Firstly, we can use pandas' `.groupby()` method to get descriptive statistics:"
   ]
  },
  {
   "cell_type": "code",
   "execution_count": 21,
   "id": "051e6a0b-84b0-43ff-83ae-ba5cfd419757",
   "metadata": {},
   "outputs": [
    {
     "data": {
      "text/html": [
       "<div>\n",
       "<style scoped>\n",
       "    .dataframe tbody tr th:only-of-type {\n",
       "        vertical-align: middle;\n",
       "    }\n",
       "\n",
       "    .dataframe tbody tr th {\n",
       "        vertical-align: top;\n",
       "    }\n",
       "\n",
       "    .dataframe thead tr th {\n",
       "        text-align: left;\n",
       "    }\n",
       "\n",
       "    .dataframe thead tr:last-of-type th {\n",
       "        text-align: right;\n",
       "    }\n",
       "</style>\n",
       "<table border=\"1\" class=\"dataframe\">\n",
       "  <thead>\n",
       "    <tr>\n",
       "      <th></th>\n",
       "      <th colspan=\"8\" halign=\"left\">RT</th>\n",
       "    </tr>\n",
       "    <tr>\n",
       "      <th></th>\n",
       "      <th>count</th>\n",
       "      <th>mean</th>\n",
       "      <th>std</th>\n",
       "      <th>min</th>\n",
       "      <th>25%</th>\n",
       "      <th>50%</th>\n",
       "      <th>75%</th>\n",
       "      <th>max</th>\n",
       "    </tr>\n",
       "    <tr>\n",
       "      <th>condition</th>\n",
       "      <th></th>\n",
       "      <th></th>\n",
       "      <th></th>\n",
       "      <th></th>\n",
       "      <th></th>\n",
       "      <th></th>\n",
       "      <th></th>\n",
       "      <th></th>\n",
       "    </tr>\n",
       "  </thead>\n",
       "  <tbody>\n",
       "    <tr>\n",
       "      <th>nonword</th>\n",
       "      <td>125.0</td>\n",
       "      <td>0.800641</td>\n",
       "      <td>0.136956</td>\n",
       "      <td>0.463290</td>\n",
       "      <td>0.694638</td>\n",
       "      <td>0.791886</td>\n",
       "      <td>0.897466</td>\n",
       "      <td>1.144543</td>\n",
       "    </tr>\n",
       "    <tr>\n",
       "      <th>word</th>\n",
       "      <td>125.0</td>\n",
       "      <td>0.540981</td>\n",
       "      <td>0.102284</td>\n",
       "      <td>0.292526</td>\n",
       "      <td>0.466358</td>\n",
       "      <td>0.549472</td>\n",
       "      <td>0.605592</td>\n",
       "      <td>0.801082</td>\n",
       "    </tr>\n",
       "  </tbody>\n",
       "</table>\n",
       "</div>"
      ],
      "text/plain": [
       "              RT                                                              \\\n",
       "           count      mean       std       min       25%       50%       75%   \n",
       "condition                                                                      \n",
       "nonword    125.0  0.800641  0.136956  0.463290  0.694638  0.791886  0.897466   \n",
       "word       125.0  0.540981  0.102284  0.292526  0.466358  0.549472  0.605592   \n",
       "\n",
       "                     \n",
       "                max  \n",
       "condition            \n",
       "nonword    1.144543  \n",
       "word       0.801082  "
      ]
     },
     "execution_count": 21,
     "metadata": {},
     "output_type": "execute_result"
    }
   ],
   "source": [
    "df.groupby('condition').describe()"
   ]
  },
  {
   "cell_type": "markdown",
   "id": "782393e2-e530-442d-9108-cde60859992d",
   "metadata": {},
   "source": [
    "We can add a `hue` kwarg to `sns.displot()` to separate and colour-code the conditions in a histogram:"
   ]
  },
  {
   "cell_type": "code",
   "execution_count": 24,
   "id": "8761a89f-c61b-43f0-b374-a3e0b5648fa8",
   "metadata": {},
   "outputs": [
    {
     "data": {
      "image/png": "[encoded data removed]",
      "text/plain": [
       "<Figure size 439.25x360 with 1 Axes>"
      ]
     },
     "metadata": {
      "needs_background": "light"
     },
     "output_type": "display_data"
    }
   ],
   "source": [
    "sns.displot(data=df, x='RT', hue='condition')\n",
    "plt.show()"
   ]
  },
  {
   "cell_type": "markdown",
   "id": "52f6dbcc-7522-4038-aa85-43eb1c591eb3",
   "metadata": {},
   "source": [
    "The grey area in the plot represents overlap."
   ]
  },
  {
   "cell_type": "markdown",
   "id": "13f11ead-65be-48d5-97a9-bb49df2db46e",
   "metadata": {},
   "source": [
    "We can likewise use the `hue` kwarg with `kde` plots:"
   ]
  },
  {
   "cell_type": "code",
   "execution_count": 26,
   "id": "e83c14e8-7a86-4b3c-9d1b-4de47868c5a0",
   "metadata": {},
   "outputs": [
    {
     "data": {
      "image/png": "[encoded data removed]",
      "text/plain": [
       "<Figure size 439.25x360 with 1 Axes>"
      ]
     },
     "metadata": {
      "needs_background": "light"
     },
     "output_type": "display_data"
    }
   ],
   "source": [
    "sns.displot(kind='kde',\n",
    "           data=df,\n",
    "           x='RT', hue='condition')\n",
    "plt.show()"
   ]
  },
  {
   "cell_type": "code",
   "execution_count": null,
   "id": "0ef3e7fb-dfe8-4668-a66b-10b1acb77848",
   "metadata": {},
   "outputs": [],
   "source": []
  }
 ],
 "metadata": {
  "kernelspec": {
   "display_name": "Python 3 (ipykernel)",
   "language": "python",
   "name": "python3"
  },
  "language_info": {
   "codemirror_mode": {
    "name": "ipython",
    "version": 3
   },
   "file_extension": ".py",
   "mimetype": "text/x-python",
   "name": "python",
   "nbconvert_exporter": "python",
   "pygments_lexer": "ipython3",
   "version": "3.9.6"
  }
 },
 "nbformat": 4,
 "nbformat_minor": 5
}
